{
 "cells": [
  {
   "cell_type": "code",
   "execution_count": 1,
   "metadata": {},
   "outputs": [],
   "source": [
    "import requests\n",
    "from bs4 import BeautifulSoup \n",
    "import csv\n",
    "import pandas as pd"
   ]
  },
  {
   "cell_type": "code",
   "execution_count": 2,
   "metadata": {},
   "outputs": [
    {
     "ename": "SyntaxError",
     "evalue": "invalid syntax (<ipython-input-2-92e2025a0aee>, line 1)",
     "output_type": "error",
     "traceback": [
      "\u001b[1;36m  File \u001b[1;32m\"<ipython-input-2-92e2025a0aee>\"\u001b[1;36m, line \u001b[1;32m1\u001b[0m\n\u001b[1;33m    mostActiveStocksUrl = &quot;https://www.nasdaq.com/markets/most-active.aspx&quot;\u001b[0m\n\u001b[1;37m                          ^\u001b[0m\n\u001b[1;31mSyntaxError\u001b[0m\u001b[1;31m:\u001b[0m invalid syntax\n"
     ]
    }
   ],
   "source": [
    "mostActiveStocksUrl = &quot;https://www.nasdaq.com/markets/most-active.aspx&quot;\n",
    "r= requests.get(mostActiveStocksUrl)\n",
    "data=r.text\n",
    "soup=BeautifulSoup(data)\n",
    " \n",
    "table=soup.find_all('div', attrs={&quot;class&quot;:&quot;genTable&quot;})\n",
    "all_rows=table[1].find_all('tr')\n",
    " \n",
    "symbols=[]\n",
    "names=[]\n",
    "last_sales=[]\n",
    "change_nets=[]\n",
    "share_volumes=[]\n",
    " \n",
    "for row in all_rows:\n",
    "    cols=row.find_all('td')\n",
    "    if(len(cols)):\n",
    "        names.append(cols[1].text)\n",
    "        last_sales.append(cols[2].text)\n",
    "        change_nets.append(cols[3].text)\n",
    "        share_volumes.append(cols[4].text)\n",
    " \n",
    "         \n",
    "data=pd.DataFrame({&quot;Names&quot;:names,&quot;Last Sale&quot;: last_sales,&quot;Chnange Net&quot;: change_nets,&quot;Share Volume&quot;: share_volumes})"
   ]
  },
  {
   "cell_type": "code",
   "execution_count": null,
   "metadata": {},
   "outputs": [],
   "source": [
    "data=pd.DataFrame({&quot;Names&quot;:names,&quot;Last Sale&quot;: last_sales,&quot;Chnange Net&quot;: change_nets,&quot;Share Volume&quot;: share_volumes})"
   ]
  },
  {
   "cell_type": "code",
   "execution_count": null,
   "metadata": {},
   "outputs": [],
   "source": []
  },
  {
   "cell_type": "code",
   "execution_count": null,
   "metadata": {},
   "outputs": [],
   "source": []
  },
  {
   "cell_type": "code",
   "execution_count": null,
   "metadata": {},
   "outputs": [],
   "source": []
  }
 ],
 "metadata": {
  "kernelspec": {
   "display_name": "Python 3",
   "language": "python",
   "name": "python3"
  },
  "language_info": {
   "codemirror_mode": {
    "name": "ipython",
    "version": 3
   },
   "file_extension": ".py",
   "mimetype": "text/x-python",
   "name": "python",
   "nbconvert_exporter": "python",
   "pygments_lexer": "ipython3",
   "version": "3.7.3"
  }
 },
 "nbformat": 4,
 "nbformat_minor": 2
}
