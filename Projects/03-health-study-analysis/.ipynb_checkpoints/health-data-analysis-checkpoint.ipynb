{
 "cells": [
  {
   "cell_type": "markdown",
   "metadata": {},
   "source": [
    "# Introduction\n",
    "\n",
    "I have always been curious about what my own data about my activities would look like and what it can tell me about my self that I don't notice. The Apple Health App definitely made it easy to track this although the data is not always complete so we have to be aware of any missing data as well. The gaps may indicate times I may not have an apple item on me such as my phone or watch."
   ]
  },
  {
   "cell_type": "markdown",
   "metadata": {},
   "source": [
    "## What do I hope to achieve from this?\n",
    "\n",
    "Develop a better understanding in working with new data with Python, work with os, and generate some insights about myself that can hopefully be applied to anyone else as well such as habits. It's good to know how to work with different types of data so you can be more well rounded to fix any issues using different methods. On top of that, work on data manipulation and create simple visualizations so any type of audience could understand the thoughts and summaries.\n",
    "\n",
    "The health, medical, and fitness industry is extremely vast and working with some related data could help me understand better on a person's well-being."
   ]
  },
  {
   "cell_type": "markdown",
   "metadata": {},
   "source": [
    "### Data\n",
    "\n",
    "The data we wil be using is from the Apple Health app about my own personal health statistics. The data collection process requires me to have my phone or watch at all times besides the sleep data to be tracked. The date ranges from 2015 to the current date July 4, 2019. The older data is most likely from a third-party software that tracked sleep data which I haven't used since 2017.\n",
    "\n",
    "Data constraints and issues we have to be aware of is that there is always going to be some sort of missing data whether it's between a certain timeframe or specific dates. For example, I may need to charge my devices so it is not on me the entire time or I may forget to attach a device to me while I do some exercises. Since the intent is purely for exploratory purposes, I am not too worried about the missing data.\n",
    "\n",
    "The initial data format is an xml file extracted from Apple, which is parsed using a script develoeped by Nicholas J. Radcliffe, so thank you for that. The data is not parsed out completely with every single value, but there is good amount of information regardless."
   ]
  },
  {
   "cell_type": "markdown",
   "metadata": {},
   "source": [
    "### Background Information"
   ]
  },
  {
   "cell_type": "markdown",
   "metadata": {},
   "source": [
    "### Characteristics\n",
    "\n",
    "__Dimensions__\n",
    "\n",
    "__Features__\n",
    "\n",
    "__Additional Notes__"
   ]
  },
  {
   "cell_type": "code",
   "execution_count": 1,
   "metadata": {},
   "outputs": [
    {
     "data": {
      "image/png": "[encoded data removed]",
      "text/plain": [
       "<Figure size 432x72 with 1 Axes>"
      ]
     },
     "metadata": {
      "needs_background": "light"
     },
     "output_type": "display_data"
    }
   ],
   "source": [
    "# Toolbox 101\n",
    "import pandas as pd\n",
    "import pandas_profiling\n",
    "import numpy as np\n",
    "import random as rand\n",
    "import datetime\n",
    "import seaborn as sns\n",
    "import os\n",
    "import pprint\n",
    "import matplotlib.pyplot as plt\n",
    "%matplotlib inline\n",
    "\n",
    "from scipy.stats import norm\n",
    "\n",
    "# Ignore useless warnings\n",
    "import warnings\n",
    "warnings.filterwarnings(action=\"ignore\")\n",
    "\n",
    "# Preset data display\n",
    "pd.options.display.max_seq_items = 1000\n",
    "pd.options.display.max_rows = 1000\n",
    "\n",
    "# Set palette\n",
    "flatui = [\"#9b59b6\", \"#3498db\", \"#95a5a6\", \"#e74c3c\", \"#34495e\", \"#2ecc71\"]\n",
    "sns.set_palette(flatui)\n",
    "sns.palplot(sns.color_palette(flatui))"
   ]
  },
  {
   "cell_type": "markdown",
   "metadata": {},
   "source": [
    "### Working with time examples"
   ]
  },
  {
   "cell_type": "code",
   "execution_count": 54,
   "metadata": {},
   "outputs": [
    {
     "name": "stdout",
     "output_type": "stream",
     "text": [
      "Time in seconds since the epoch: 1562432960.44646\n",
      "Current date and time:  2019-07-06 10:09:20.446459\n",
      "Or like this:  19-07-06-10-09\n",
      "Current year:  2019\n",
      "Month of year:  July\n",
      "Week number of the year:  26\n",
      "Weekday of the week:  6\n",
      "Day of year:  187\n",
      "Day of the month :  06\n",
      "Day of week:  Saturday\n"
     ]
    }
   ],
   "source": [
    "import time\n",
    "\n",
    "print(\"Time in seconds since the epoch: %s\" %time.time())\n",
    "print(\"Current date and time: \" , datetime.datetime.now())\n",
    "print(\"Or like this: \" ,datetime.datetime.now().strftime(\"%y-%m-%d-%H-%M\"))\n",
    "\n",
    "print(\"Current year: \", datetime.date.today().strftime(\"%Y\"))\n",
    "print(\"Month of year: \", datetime.date.today().strftime(\"%B\"))\n",
    "print(\"Week number of the year: \", datetime.date.today().strftime(\"%W\"))\n",
    "print(\"Weekday of the week: \", datetime.date.today().strftime(\"%w\"))\n",
    "print(\"Day of year: \", datetime.date.today().strftime(\"%j\"))\n",
    "print(\"Day of the month : \", datetime.date.today().strftime(\"%d\"))\n",
    "print(\"Day of week: \", datetime.date.today().strftime(\"%A\"))"
   ]
  },
  {
   "cell_type": "markdown",
   "metadata": {},
   "source": [
    "### Import libraries and collect all files"
   ]
  },
  {
   "cell_type": "code",
   "execution_count": 2,
   "metadata": {},
   "outputs": [
    {
     "name": "stdout",
     "output_type": "stream",
     "text": [
      "ActiveEnergyBurned.csv - Size: 226427339 bytes\n",
      "\n",
      "ActivitySummary.csv - Size: 21985 bytes\n",
      "\n",
      "AppleExerciseTime.csv - Size: 7444930 bytes\n",
      "\n",
      "AppleStandHour.csv - Size: 2725752 bytes\n",
      "\n",
      "BasalEnergyBurned.csv - Size: 146909563 bytes\n",
      "\n",
      "BodyMass.csv - Size: 317 bytes\n",
      "\n",
      "DistanceSwimming.csv - Size: 339 bytes\n",
      "\n",
      "DistanceWalkingRunning.csv - Size: 28586612 bytes\n",
      "\n",
      "FlightsClimbed.csv - Size: 1774682 bytes\n",
      "\n",
      "HeartRate.csv - Size: 77521432 bytes\n",
      "\n",
      "HeartRateVariabilitySDNN.csv - Size: 577065 bytes\n",
      "\n",
      "Height.csv - Size: 203 bytes\n",
      "\n",
      "HighHeartRateEvent.csv - Size: 7330 bytes\n",
      "\n",
      "RestingHeartRate.csv - Size: 78979 bytes\n",
      "\n",
      "SleepAnalysis.csv - Size: 1481126 bytes\n",
      "\n",
      "StepCount.csv - Size: 19332492 bytes\n",
      "\n",
      "study_data.csv - Size: 23801 bytes\n",
      "\n",
      "SwimmingStrokeCount.csv - Size: 340 bytes\n",
      "\n",
      "VO2Max.csv - Size: 4595 bytes\n",
      "\n",
      "WalkingHeartRateAverage.csv - Size: 69922 bytes\n",
      "\n",
      "Workout.csv - Size: 81085 bytes\n",
      "\n"
     ]
    }
   ],
   "source": [
    "# Let's populate the entire Data folder to show all of the data parsed\n",
    "\n",
    "# Set path and create an empty list/dataframe\n",
    "pp = pprint.PrettyPrinter(indent=4)\n",
    "files_list = []\n",
    "file_df = pd.DataFrame(columns=['File', 'Size (Bytes)'])\n",
    "data_dir = os.getcwd() + '\\\\Data'\n",
    "\n",
    "# Loop through every file in the data folder and get file size\n",
    "for files in os.listdir('Data'):\n",
    "    \n",
    "    # Create path to get file size\n",
    "    path = os.path.join(data_dir, files)\n",
    "    \n",
    "    # Only search for csv files\n",
    "    if files.endswith('.csv'):\n",
    "        # Append to list\n",
    "        files_list.append(files)\n",
    "        \n",
    "        # Append to df\n",
    "        file_df = file_df.append({'File': str(files), 'Size (Bytes)': os.path.getsize(path)}, ignore_index=True)\n",
    "        \n",
    "        # Print\n",
    "        print(files + ' - Size: ' + str(os.path.getsize(path)) + ' bytes\\n')"
   ]
  },
  {
   "cell_type": "markdown",
   "metadata": {},
   "source": [
    "First we created an empty list and an empty dataframe. You could create just the empty dataframe, but it was just for me to get some practice in as I started out with a list then added a dataframe afterwards after seeing that a dataframe might be more appropriate for analytical uses.\n",
    "\n",
    "After creating the dataframe, add in the name and file size so we are able to sort it later by file size. We are also going to get the dimensions as well and add it into the dataframe if necessary.\n",
    "\n",
    "These are all the files that was extracted from the Apple data excluding the study_data.csv which is manually tracked daily from Jan - Jun 2019. As we can see, there are a decent amount of files to work with. We can create summarized views and join the dates together to see if we can piece together the data together into information that can be useful."
   ]
  },
  {
   "cell_type": "markdown",
   "metadata": {},
   "source": [
    "### Sort to see which files have the most data"
   ]
  },
  {
   "cell_type": "code",
   "execution_count": 3,
   "metadata": {},
   "outputs": [
    {
     "data": {
      "text/html": [
       "<div>\n",
       "<style scoped>\n",
       "    .dataframe tbody tr th:only-of-type {\n",
       "        vertical-align: middle;\n",
       "    }\n",
       "\n",
       "    .dataframe tbody tr th {\n",
       "        vertical-align: top;\n",
       "    }\n",
       "\n",
       "    .dataframe thead th {\n",
       "        text-align: right;\n",
       "    }\n",
       "</style>\n",
       "<table border=\"1\" class=\"dataframe\">\n",
       "  <thead>\n",
       "    <tr style=\"text-align: right;\">\n",
       "      <th></th>\n",
       "      <th>File</th>\n",
       "      <th>Size (Bytes)</th>\n",
       "    </tr>\n",
       "  </thead>\n",
       "  <tbody>\n",
       "    <tr>\n",
       "      <th>0</th>\n",
       "      <td>ActiveEnergyBurned.csv</td>\n",
       "      <td>226427339</td>\n",
       "    </tr>\n",
       "    <tr>\n",
       "      <th>4</th>\n",
       "      <td>BasalEnergyBurned.csv</td>\n",
       "      <td>146909563</td>\n",
       "    </tr>\n",
       "    <tr>\n",
       "      <th>9</th>\n",
       "      <td>HeartRate.csv</td>\n",
       "      <td>77521432</td>\n",
       "    </tr>\n",
       "    <tr>\n",
       "      <th>7</th>\n",
       "      <td>DistanceWalkingRunning.csv</td>\n",
       "      <td>28586612</td>\n",
       "    </tr>\n",
       "    <tr>\n",
       "      <th>15</th>\n",
       "      <td>StepCount.csv</td>\n",
       "      <td>19332492</td>\n",
       "    </tr>\n",
       "    <tr>\n",
       "      <th>2</th>\n",
       "      <td>AppleExerciseTime.csv</td>\n",
       "      <td>7444930</td>\n",
       "    </tr>\n",
       "    <tr>\n",
       "      <th>3</th>\n",
       "      <td>AppleStandHour.csv</td>\n",
       "      <td>2725752</td>\n",
       "    </tr>\n",
       "    <tr>\n",
       "      <th>8</th>\n",
       "      <td>FlightsClimbed.csv</td>\n",
       "      <td>1774682</td>\n",
       "    </tr>\n",
       "    <tr>\n",
       "      <th>14</th>\n",
       "      <td>SleepAnalysis.csv</td>\n",
       "      <td>1481126</td>\n",
       "    </tr>\n",
       "    <tr>\n",
       "      <th>10</th>\n",
       "      <td>HeartRateVariabilitySDNN.csv</td>\n",
       "      <td>577065</td>\n",
       "    </tr>\n",
       "    <tr>\n",
       "      <th>20</th>\n",
       "      <td>Workout.csv</td>\n",
       "      <td>81085</td>\n",
       "    </tr>\n",
       "    <tr>\n",
       "      <th>13</th>\n",
       "      <td>RestingHeartRate.csv</td>\n",
       "      <td>78979</td>\n",
       "    </tr>\n",
       "    <tr>\n",
       "      <th>19</th>\n",
       "      <td>WalkingHeartRateAverage.csv</td>\n",
       "      <td>69922</td>\n",
       "    </tr>\n",
       "    <tr>\n",
       "      <th>16</th>\n",
       "      <td>study_data.csv</td>\n",
       "      <td>23801</td>\n",
       "    </tr>\n",
       "    <tr>\n",
       "      <th>1</th>\n",
       "      <td>ActivitySummary.csv</td>\n",
       "      <td>21985</td>\n",
       "    </tr>\n",
       "    <tr>\n",
       "      <th>12</th>\n",
       "      <td>HighHeartRateEvent.csv</td>\n",
       "      <td>7330</td>\n",
       "    </tr>\n",
       "    <tr>\n",
       "      <th>18</th>\n",
       "      <td>VO2Max.csv</td>\n",
       "      <td>4595</td>\n",
       "    </tr>\n",
       "    <tr>\n",
       "      <th>17</th>\n",
       "      <td>SwimmingStrokeCount.csv</td>\n",
       "      <td>340</td>\n",
       "    </tr>\n",
       "    <tr>\n",
       "      <th>6</th>\n",
       "      <td>DistanceSwimming.csv</td>\n",
       "      <td>339</td>\n",
       "    </tr>\n",
       "    <tr>\n",
       "      <th>5</th>\n",
       "      <td>BodyMass.csv</td>\n",
       "      <td>317</td>\n",
       "    </tr>\n",
       "    <tr>\n",
       "      <th>11</th>\n",
       "      <td>Height.csv</td>\n",
       "      <td>203</td>\n",
       "    </tr>\n",
       "  </tbody>\n",
       "</table>\n",
       "</div>"
      ],
      "text/plain": [
       "                            File Size (Bytes)\n",
       "0         ActiveEnergyBurned.csv    226427339\n",
       "4          BasalEnergyBurned.csv    146909563\n",
       "9                  HeartRate.csv     77521432\n",
       "7     DistanceWalkingRunning.csv     28586612\n",
       "15                 StepCount.csv     19332492\n",
       "2          AppleExerciseTime.csv      7444930\n",
       "3             AppleStandHour.csv      2725752\n",
       "8             FlightsClimbed.csv      1774682\n",
       "14             SleepAnalysis.csv      1481126\n",
       "10  HeartRateVariabilitySDNN.csv       577065\n",
       "20                   Workout.csv        81085\n",
       "13          RestingHeartRate.csv        78979\n",
       "19   WalkingHeartRateAverage.csv        69922\n",
       "16                study_data.csv        23801\n",
       "1            ActivitySummary.csv        21985\n",
       "12        HighHeartRateEvent.csv         7330\n",
       "18                    VO2Max.csv         4595\n",
       "17       SwimmingStrokeCount.csv          340\n",
       "6           DistanceSwimming.csv          339\n",
       "5                   BodyMass.csv          317\n",
       "11                    Height.csv          203"
      ]
     },
     "execution_count": 3,
     "metadata": {},
     "output_type": "execute_result"
    }
   ],
   "source": [
    "file_df.sort_values(by='Size (Bytes)', ascending=False)"
   ]
  },
  {
   "cell_type": "markdown",
   "metadata": {},
   "source": [
    "It seems like Pandas has changed its API to avoid ambiguity when handling regex so we have to use the regex parameter in the replace method."
   ]
  },
  {
   "cell_type": "markdown",
   "metadata": {},
   "source": [
    "### File names only"
   ]
  },
  {
   "cell_type": "code",
   "execution_count": 4,
   "metadata": {},
   "outputs": [
    {
     "data": {
      "text/plain": [
       "0           ActiveEnergyBurned\n",
       "1              ActivitySummary\n",
       "2            AppleExerciseTime\n",
       "3               AppleStandHour\n",
       "4                     BodyMass\n",
       "5             DistanceSwimming\n",
       "6       DistanceWalkingRunning\n",
       "7               FlightsClimbed\n",
       "8                    HeartRate\n",
       "9     HeartRateVariabilitySDNN\n",
       "10                      Height\n",
       "11          HighHeartRateEvent\n",
       "12            RestingHeartRate\n",
       "13               SleepAnalysis\n",
       "14                   StepCount\n",
       "15                  study_data\n",
       "16         SwimmingStrokeCount\n",
       "17                      VO2Max\n",
       "18     WalkingHeartRateAverage\n",
       "19                     Workout\n",
       "Name: File, dtype: object"
      ]
     },
     "execution_count": 4,
     "metadata": {},
     "output_type": "execute_result"
    }
   ],
   "source": [
    "# Get names to read \n",
    "names = file_df[file_df['File'] != 'BasalEnergyBurned.csv']['File'].replace('.csv', '', regex=True).reset_index(drop=True)\n",
    "names"
   ]
  },
  {
   "cell_type": "markdown",
   "metadata": {},
   "source": [
    "### Loop through the directory of all the csv files\n",
    "\n",
    "Attempt to read this dynamically, although I just read it that it is better to manually create variables instead."
   ]
  },
  {
   "cell_type": "code",
   "execution_count": 5,
   "metadata": {},
   "outputs": [
    {
     "name": "stdout",
     "output_type": "stream",
     "text": [
      "Reading 1/20... ActiveEnergyBurned.csv\n",
      "Reading 2/20... ActivitySummary.csv\n",
      "Reading 3/20... AppleExerciseTime.csv\n",
      "Reading 4/20... AppleStandHour.csv\n",
      "Reading 5/20... BodyMass.csv\n",
      "Reading 6/20... DistanceSwimming.csv\n",
      "Reading 7/20... DistanceWalkingRunning.csv\n",
      "Reading 8/20... FlightsClimbed.csv\n",
      "Reading 9/20... HeartRate.csv\n",
      "Reading 10/20... HeartRateVariabilitySDNN.csv\n",
      "Reading 11/20... Height.csv\n",
      "Reading 12/20... HighHeartRateEvent.csv\n",
      "Reading 13/20... RestingHeartRate.csv\n",
      "Reading 14/20... SleepAnalysis.csv\n",
      "Reading 15/20... StepCount.csv\n",
      "Reading 16/20... study_data.csv\n",
      "Reading 17/20... SwimmingStrokeCount.csv\n",
      "Reading 18/20... VO2Max.csv\n",
      "Reading 19/20... WalkingHeartRateAverage.csv\n",
      "Reading 20/20... Workout.csv\n"
     ]
    }
   ],
   "source": [
    "i=0\n",
    "\n",
    "# Loop through the directory again\n",
    "for files in os.listdir('Data'):\n",
    "    \n",
    "    # Only search for csv files\n",
    "    if (files.endswith('.csv') & (files != 'BasalEnergyBurned.csv')):\n",
    "\n",
    "        # TODO: create variable for every filename using names list\n",
    "#         names[i] = pd.read_csv('Data\\\\' + files)\n",
    "        \n",
    "        # Add 1 to i\n",
    "        i+=1\n",
    "        \n",
    "        # Print\n",
    "        print('Reading ' + str(i) + '/' + str(len(names)) + '... ' + files)"
   ]
  },
  {
   "cell_type": "markdown",
   "metadata": {},
   "source": [
    "### Load the data"
   ]
  },
  {
   "cell_type": "code",
   "execution_count": 6,
   "metadata": {},
   "outputs": [],
   "source": [
    "# Load the data manually, i'll try to get it in the for loop another time\n",
    "ActiveEnergyBurned_data = pd.read_csv('Data\\\\ActiveEnergyBurned.csv')\n",
    "ActivitySummary_data = pd.read_csv('Data\\\\ActivitySummary.csv')\n",
    "AppleExerciseTime_data = pd.read_csv('Data\\\\AppleExerciseTime.csv')\n",
    "AppleStandHour_data = pd.read_csv('Data\\\\AppleStandHour.csv')\n",
    "BodyMass_data = pd.read_csv('Data\\\\BodyMass.csv')\n",
    "DistanceWalkingRunning_data = pd.read_csv('Data\\\\DistanceWalkingRunning.csv')\n",
    "FlightsClimbed_data = pd.read_csv('Data\\\\FlightsClimbed.csv')\n",
    "HeartRate_data = pd.read_csv('Data\\\\HeartRate.csv')\n",
    "HeartRateVariabilitySDNN_data = pd.read_csv('Data\\\\HeartRateVariabilitySDNN.csv')\n",
    "Height_data = pd.read_csv('Data\\\\Height.csv')\n",
    "HighHeartRateEvent_data = pd.read_csv('Data\\\\HighHeartRateEvent.csv')\n",
    "RestingHeartRate_data = pd.read_csv('Data\\\\RestingHeartRate.csv')\n",
    "SleepAnalysis_data = pd.read_csv('Data\\\\SleepAnalysis.csv')\n",
    "StepCount_data = pd.read_csv('Data\\\\StepCount.csv')\n",
    "study_data = pd.read_csv('Data\\\\study_data.csv')\n",
    "Swimming_data = pd.read_csv('Data\\\\SwimmingStrokeCount.csv')\n",
    "VO2Max_data = pd.read_csv('Data\\\\VO2Max.csv')\n",
    "WalkingHeartRateAverage_data = pd.read_csv('Data\\\\WalkingHeartRateAverage.csv')\n",
    "Workout_data = pd.read_csv('Data\\\\Workout.csv')"
   ]
  },
  {
   "cell_type": "code",
   "execution_count": 7,
   "metadata": {},
   "outputs": [],
   "source": [
    "# Store all of the data variables in a list\n",
    "data_list = [ActiveEnergyBurned_data, ActivitySummary_data, AppleExerciseTime_data, AppleStandHour_data,\n",
    "             BodyMass_data, DistanceWalkingRunning_data, FlightsClimbed_data, HeartRate_data,\n",
    "             HeartRateVariabilitySDNN_data, Height_data, HighHeartRateEvent_data, RestingHeartRate_data,\n",
    "             SleepAnalysis_data, StepCount_data, study_data, Swimming_data, VO2Max_data, WalkingHeartRateAverage_data,\n",
    "             Workout_data]"
   ]
  },
  {
   "cell_type": "markdown",
   "metadata": {},
   "source": [
    "So we now have all of our data loaded. Let's take a look at the descriptions of some of these that look interesting."
   ]
  },
  {
   "cell_type": "markdown",
   "metadata": {},
   "source": [
    "### Some useful exploratory functions to use"
   ]
  },
  {
   "cell_type": "code",
   "execution_count": 8,
   "metadata": {},
   "outputs": [
    {
     "name": "stdout",
     "output_type": "stream",
     "text": [
      "\n"
     ]
    }
   ],
   "source": [
    "'''\n",
    "\n",
    "Some functions to start off with:\n",
    "\n",
    "train.sample()                                           \n",
    "train.describe()\n",
    "    train.describe(include=['O'])\n",
    "    train.describe(include='all')\n",
    "train.head()\n",
    "train.tail()\n",
    "train.value_counts().sum()\n",
    "train.isnull().sum()\n",
    "train.count()\n",
    "train.fillna()\n",
    "    train.fillna(train[col].mode(), inplace=True)\n",
    "train.mean()\n",
    "train.median()\n",
    "train.mode()\n",
    "train.shape\n",
    "train.info()\n",
    "\n",
    "'''\n",
    "print('')"
   ]
  },
  {
   "cell_type": "markdown",
   "metadata": {},
   "source": [
    "## Active Energy Burned\n",
    "\n",
    "This is our biggest file up to date. Let's take a look on what type of data is there."
   ]
  },
  {
   "cell_type": "code",
   "execution_count": 9,
   "metadata": {},
   "outputs": [],
   "source": [
    "# Select columns\n",
    "useful_cols = ['type', 'unit', 'creationDate', 'startDate', 'endDate', 'value']\n",
    "ActiveEnergyBurned_data = ActiveEnergyBurned_data[useful_cols]\n",
    "\n",
    "# # Check top 5\n",
    "# ActiveEnergyBurned_data.iloc[0:5,]"
   ]
  },
  {
   "cell_type": "code",
   "execution_count": 10,
   "metadata": {},
   "outputs": [
    {
     "name": "stdout",
     "output_type": "stream",
     "text": [
      "********************************************\n",
      "********** Data shape: (867937, 6)**********\n"
     ]
    }
   ],
   "source": [
    "# Get data shape, info, columns, & dimensions\n",
    "print (\"*\"*44)\n",
    "print('********** Data shape: ' + str(ActiveEnergyBurned_data.shape) + '*'*10)"
   ]
  },
  {
   "cell_type": "markdown",
   "metadata": {},
   "source": [
    "There is a total of approximately 868K rows with 9 total columns of data. \n",
    "\n",
    "The data has start and end times and is tracked up to seconds in detail. This looks good, but I think for the purpose of my summary data, I want to group it by day. We can make visualizations later either in the notebook if it looks good or in Tableau."
   ]
  },
  {
   "cell_type": "markdown",
   "metadata": {},
   "source": [
    "### Are there any nulls?"
   ]
  },
  {
   "cell_type": "code",
   "execution_count": 11,
   "metadata": {},
   "outputs": [],
   "source": [
    "# Define a new function\n",
    "def get_nulls(df):\n",
    "    \n",
    "    # Get null pct and counts\n",
    "    null_cols = pd.DataFrame(df.isnull().sum().sort_values(ascending=False), columns=['Null Data Count'])\n",
    "    null_cols_pct = pd.DataFrame(round(df.isnull().sum().sort_values(ascending=False)/len(df),2), columns=['Null Data Pct'])\n",
    "\n",
    "    # Combine dataframes horizontally\n",
    "    null_cols_df = pd.DataFrame(pd.concat([null_cols, null_cols_pct], axis=1))\n",
    "\n",
    "    all_nulls = null_cols_df[null_cols_df['Null Data Pct']>0]\n",
    "\n",
    "    # Print\n",
    "    print('There are', len(all_nulls), 'columns with missing values.')\n",
    "    return all_nulls"
   ]
  },
  {
   "cell_type": "code",
   "execution_count": 12,
   "metadata": {},
   "outputs": [
    {
     "name": "stdout",
     "output_type": "stream",
     "text": [
      "There are 0 columns with missing values.\n"
     ]
    },
    {
     "data": {
      "text/html": [
       "<div>\n",
       "<style scoped>\n",
       "    .dataframe tbody tr th:only-of-type {\n",
       "        vertical-align: middle;\n",
       "    }\n",
       "\n",
       "    .dataframe tbody tr th {\n",
       "        vertical-align: top;\n",
       "    }\n",
       "\n",
       "    .dataframe thead th {\n",
       "        text-align: right;\n",
       "    }\n",
       "</style>\n",
       "<table border=\"1\" class=\"dataframe\">\n",
       "  <thead>\n",
       "    <tr style=\"text-align: right;\">\n",
       "      <th></th>\n",
       "      <th>Null Data Count</th>\n",
       "      <th>Null Data Pct</th>\n",
       "    </tr>\n",
       "  </thead>\n",
       "  <tbody>\n",
       "  </tbody>\n",
       "</table>\n",
       "</div>"
      ],
      "text/plain": [
       "Empty DataFrame\n",
       "Columns: [Null Data Count, Null Data Pct]\n",
       "Index: []"
      ]
     },
     "execution_count": 12,
     "metadata": {},
     "output_type": "execute_result"
    }
   ],
   "source": [
    "get_nulls(ActiveEnergyBurned_data)"
   ]
  },
  {
   "cell_type": "markdown",
   "metadata": {},
   "source": [
    "Great there are no missing values. I've taken a peek at the excel sheet and looked around as well to see if there seems to be data that can be classified as \"missing\" as well. This means that data may be inputted incorrectly and is not a real value or for any other wrong reason."
   ]
  },
  {
   "cell_type": "markdown",
   "metadata": {},
   "source": [
    "### Pandas profiling\n",
    "\n",
    "This will do some heavy lifting for us. It will help us with methods like describe, dtypes, creating plots, and more. It's useful if I'm on a time crunch."
   ]
  },
  {
   "cell_type": "code",
   "execution_count": 15,
   "metadata": {
    "scrolled": true
   },
   "outputs": [],
   "source": [
    "# pandas_profiling.ProfileReport(ActiveEnergyBurned_data[1:100000])"
   ]
  },
  {
   "cell_type": "markdown",
   "metadata": {},
   "source": [
    "### Plotting a distribution plot of the values"
   ]
  },
  {
   "cell_type": "code",
   "execution_count": 16,
   "metadata": {},
   "outputs": [
    {
     "name": "stdout",
     "output_type": "stream",
     "text": [
      "\n",
      " mu = 0 and sigma = 3\n",
      "\n"
     ]
    },
    {
     "data": {
      "text/plain": [
       "Text(0.5, 1.0, 'Value distribution')"
      ]
     },
     "execution_count": 16,
     "metadata": {},
     "output_type": "execute_result"
    },
    {
     "data": {
      "image/png": "[encoded data removed]",
      "text/plain": [
       "<Figure size 720x360 with 1 Axes>"
      ]
     },
     "metadata": {
      "needs_background": "light"
     },
     "output_type": "display_data"
    }
   ],
   "source": [
    "# Create figure space\n",
    "plt.figure(figsize=(10,5))\n",
    "\n",
    "# Create plot\n",
    "sns.distplot(ActiveEnergyBurned_data['value'] , fit=norm)\n",
    "\n",
    "# Get the fitted parameters\n",
    "mu, sigma = norm.fit(ActiveEnergyBurned_data['value'])\n",
    "print( '\\n mu = {:.0f} and sigma = {:.0f}\\n'.format(mu, sigma))\n",
    "\n",
    "# Plot distribution\n",
    "plt.legend(['Norm Dist. ($\\mu=$ {:.0f} and $\\sigma=$ {:.0f} )'.format(mu, sigma)],\n",
    "            loc='best')\n",
    "plt.ylabel('Frequency')\n",
    "plt.title('Value distribution')"
   ]
  },
  {
   "cell_type": "markdown",
   "metadata": {},
   "source": [
    "There are some serious outliers in this dataset, most likely values over ~ 30. Let's see how many there are and check the data itself."
   ]
  },
  {
   "cell_type": "code",
   "execution_count": 17,
   "metadata": {},
   "outputs": [
    {
     "name": "stdout",
     "output_type": "stream",
     "text": [
      "71 count: 30+ values\n",
      "29 count: 40+ values\n",
      "21 count: 50+ values\n"
     ]
    }
   ],
   "source": [
    "# Print\n",
    "print(ActiveEnergyBurned_data['value'][ActiveEnergyBurned_data.value>30].value_counts().sum(), 'count: 30+ values')\n",
    "print(ActiveEnergyBurned_data['value'][ActiveEnergyBurned_data.value>40].value_counts().sum(), 'count: 40+ values')\n",
    "print(ActiveEnergyBurned_data['value'][ActiveEnergyBurned_data.value>50].value_counts().sum(), 'count: 50+ values')"
   ]
  },
  {
   "cell_type": "code",
   "execution_count": 18,
   "metadata": {
    "scrolled": false
   },
   "outputs": [
    {
     "data": {
      "text/html": [
       "<div>\n",
       "<style scoped>\n",
       "    .dataframe tbody tr th:only-of-type {\n",
       "        vertical-align: middle;\n",
       "    }\n",
       "\n",
       "    .dataframe tbody tr th {\n",
       "        vertical-align: top;\n",
       "    }\n",
       "\n",
       "    .dataframe thead th {\n",
       "        text-align: right;\n",
       "    }\n",
       "</style>\n",
       "<table border=\"1\" class=\"dataframe\">\n",
       "  <thead>\n",
       "    <tr style=\"text-align: right;\">\n",
       "      <th></th>\n",
       "      <th>type</th>\n",
       "      <th>unit</th>\n",
       "      <th>creationDate</th>\n",
       "      <th>startDate</th>\n",
       "      <th>endDate</th>\n",
       "      <th>value</th>\n",
       "    </tr>\n",
       "  </thead>\n",
       "  <tbody>\n",
       "    <tr>\n",
       "      <th>703084</th>\n",
       "      <td>ActiveEnergyBurned</td>\n",
       "      <td>kcal</td>\n",
       "      <td>2019-04-11 10:56:11 -0700</td>\n",
       "      <td>2018-03-20 17:23:37 -0700</td>\n",
       "      <td>2018-03-20 17:28:26 -0700</td>\n",
       "      <td>45.543</td>\n",
       "    </tr>\n",
       "    <tr>\n",
       "      <th>703085</th>\n",
       "      <td>ActiveEnergyBurned</td>\n",
       "      <td>kcal</td>\n",
       "      <td>2019-04-11 10:56:11 -0700</td>\n",
       "      <td>2018-03-20 17:28:26 -0700</td>\n",
       "      <td>2018-03-20 17:32:53 -0700</td>\n",
       "      <td>42.653</td>\n",
       "    </tr>\n",
       "    <tr>\n",
       "      <th>703086</th>\n",
       "      <td>ActiveEnergyBurned</td>\n",
       "      <td>kcal</td>\n",
       "      <td>2019-04-11 10:56:12 -0700</td>\n",
       "      <td>2018-03-20 17:32:53 -0700</td>\n",
       "      <td>2018-03-20 17:37:24 -0700</td>\n",
       "      <td>40.907</td>\n",
       "    </tr>\n",
       "    <tr>\n",
       "      <th>723467</th>\n",
       "      <td>ActiveEnergyBurned</td>\n",
       "      <td>kcal</td>\n",
       "      <td>2019-04-17 13:28:41 -0700</td>\n",
       "      <td>2018-01-11 19:24:54 -0700</td>\n",
       "      <td>2018-01-11 19:29:44 -0700</td>\n",
       "      <td>46.944</td>\n",
       "    </tr>\n",
       "    <tr>\n",
       "      <th>733572</th>\n",
       "      <td>ActiveEnergyBurned</td>\n",
       "      <td>kcal</td>\n",
       "      <td>2019-04-20 08:33:47 -0700</td>\n",
       "      <td>2018-04-15 17:36:33 -0700</td>\n",
       "      <td>2018-04-15 17:41:35 -0700</td>\n",
       "      <td>45.965</td>\n",
       "    </tr>\n",
       "    <tr>\n",
       "      <th>733573</th>\n",
       "      <td>ActiveEnergyBurned</td>\n",
       "      <td>kcal</td>\n",
       "      <td>2019-04-20 08:33:48 -0700</td>\n",
       "      <td>2018-04-15 17:41:35 -0700</td>\n",
       "      <td>2018-04-15 17:46:04 -0700</td>\n",
       "      <td>44.261</td>\n",
       "    </tr>\n",
       "    <tr>\n",
       "      <th>808309</th>\n",
       "      <td>ActiveEnergyBurned</td>\n",
       "      <td>kcal</td>\n",
       "      <td>2019-05-23 18:35:56 -0700</td>\n",
       "      <td>2018-05-23 07:15:50 -0700</td>\n",
       "      <td>2018-05-23 07:19:56 -0700</td>\n",
       "      <td>41.577</td>\n",
       "    </tr>\n",
       "    <tr>\n",
       "      <th>815017</th>\n",
       "      <td>ActiveEnergyBurned</td>\n",
       "      <td>kcal</td>\n",
       "      <td>2019-06-03 21:56:52 -0700</td>\n",
       "      <td>2018-01-01 16:07:29 -0700</td>\n",
       "      <td>2018-01-01 17:28:01 -0700</td>\n",
       "      <td>475.868</td>\n",
       "    </tr>\n",
       "    <tr>\n",
       "      <th>815018</th>\n",
       "      <td>ActiveEnergyBurned</td>\n",
       "      <td>kcal</td>\n",
       "      <td>2019-06-03 22:06:43 -0700</td>\n",
       "      <td>2018-01-10 18:43:57 -0700</td>\n",
       "      <td>2018-01-10 20:21:57 -0700</td>\n",
       "      <td>659.538</td>\n",
       "    </tr>\n",
       "    <tr>\n",
       "      <th>815533</th>\n",
       "      <td>ActiveEnergyBurned</td>\n",
       "      <td>kcal</td>\n",
       "      <td>2019-06-04 12:54:31 -0700</td>\n",
       "      <td>2018-01-16 13:03:36 -0700</td>\n",
       "      <td>2018-01-16 20:34:30 -0700</td>\n",
       "      <td>671.063</td>\n",
       "    </tr>\n",
       "    <tr>\n",
       "      <th>815534</th>\n",
       "      <td>ActiveEnergyBurned</td>\n",
       "      <td>kcal</td>\n",
       "      <td>2019-06-04 12:54:34 -0700</td>\n",
       "      <td>2018-01-22 18:27:54 -0700</td>\n",
       "      <td>2018-01-22 20:00:14 -0700</td>\n",
       "      <td>592.924</td>\n",
       "    </tr>\n",
       "    <tr>\n",
       "      <th>815535</th>\n",
       "      <td>ActiveEnergyBurned</td>\n",
       "      <td>kcal</td>\n",
       "      <td>2019-06-04 12:54:35 -0700</td>\n",
       "      <td>2018-01-23 18:36:19 -0700</td>\n",
       "      <td>2018-01-23 20:10:20 -0700</td>\n",
       "      <td>660.310</td>\n",
       "    </tr>\n",
       "    <tr>\n",
       "      <th>816417</th>\n",
       "      <td>ActiveEnergyBurned</td>\n",
       "      <td>kcal</td>\n",
       "      <td>2019-06-05 10:15:11 -0700</td>\n",
       "      <td>2018-01-24 18:25:08 -0700</td>\n",
       "      <td>2018-01-24 20:12:25 -0700</td>\n",
       "      <td>672.860</td>\n",
       "    </tr>\n",
       "    <tr>\n",
       "      <th>816418</th>\n",
       "      <td>ActiveEnergyBurned</td>\n",
       "      <td>kcal</td>\n",
       "      <td>2019-06-05 10:15:12 -0700</td>\n",
       "      <td>2018-01-25 18:25:17 -0700</td>\n",
       "      <td>2018-01-25 19:59:07 -0700</td>\n",
       "      <td>458.285</td>\n",
       "    </tr>\n",
       "    <tr>\n",
       "      <th>817196</th>\n",
       "      <td>ActiveEnergyBurned</td>\n",
       "      <td>kcal</td>\n",
       "      <td>2019-06-06 09:58:31 -0700</td>\n",
       "      <td>2018-03-26 17:36:13 -0700</td>\n",
       "      <td>2018-03-26 18:52:11 -0700</td>\n",
       "      <td>379.064</td>\n",
       "    </tr>\n",
       "    <tr>\n",
       "      <th>817855</th>\n",
       "      <td>ActiveEnergyBurned</td>\n",
       "      <td>kcal</td>\n",
       "      <td>2019-06-06 22:46:02 -0700</td>\n",
       "      <td>2018-04-13 17:44:35 -0700</td>\n",
       "      <td>2018-04-13 19:04:09 -0700</td>\n",
       "      <td>441.784</td>\n",
       "    </tr>\n",
       "    <tr>\n",
       "      <th>817856</th>\n",
       "      <td>ActiveEnergyBurned</td>\n",
       "      <td>kcal</td>\n",
       "      <td>2019-06-06 22:47:07 -0700</td>\n",
       "      <td>2018-04-16 06:42:38 -0700</td>\n",
       "      <td>2018-04-16 07:54:33 -0700</td>\n",
       "      <td>421.863</td>\n",
       "    </tr>\n",
       "    <tr>\n",
       "      <th>820988</th>\n",
       "      <td>ActiveEnergyBurned</td>\n",
       "      <td>kcal</td>\n",
       "      <td>2019-06-07 22:17:51 -0700</td>\n",
       "      <td>2018-04-18 06:35:10 -0700</td>\n",
       "      <td>2018-04-18 07:51:35 -0700</td>\n",
       "      <td>453.186</td>\n",
       "    </tr>\n",
       "    <tr>\n",
       "      <th>820989</th>\n",
       "      <td>ActiveEnergyBurned</td>\n",
       "      <td>kcal</td>\n",
       "      <td>2019-06-07 22:17:52 -0700</td>\n",
       "      <td>2018-04-19 17:17:17 -0700</td>\n",
       "      <td>2018-04-19 19:12:18 -0700</td>\n",
       "      <td>593.558</td>\n",
       "    </tr>\n",
       "    <tr>\n",
       "      <th>820990</th>\n",
       "      <td>ActiveEnergyBurned</td>\n",
       "      <td>kcal</td>\n",
       "      <td>2019-06-07 22:17:53 -0700</td>\n",
       "      <td>2018-04-23 06:23:11 -0700</td>\n",
       "      <td>2018-04-23 07:43:07 -0700</td>\n",
       "      <td>424.780</td>\n",
       "    </tr>\n",
       "    <tr>\n",
       "      <th>821408</th>\n",
       "      <td>ActiveEnergyBurned</td>\n",
       "      <td>kcal</td>\n",
       "      <td>2019-06-08 11:55:16 -0700</td>\n",
       "      <td>2018-04-25 06:35:07 -0700</td>\n",
       "      <td>2018-04-25 07:53:27 -0700</td>\n",
       "      <td>457.111</td>\n",
       "    </tr>\n",
       "    <tr>\n",
       "      <th>821409</th>\n",
       "      <td>ActiveEnergyBurned</td>\n",
       "      <td>kcal</td>\n",
       "      <td>2019-06-08 11:55:17 -0700</td>\n",
       "      <td>2018-04-30 06:25:10 -0700</td>\n",
       "      <td>2018-04-30 07:45:21 -0700</td>\n",
       "      <td>396.827</td>\n",
       "    </tr>\n",
       "    <tr>\n",
       "      <th>821410</th>\n",
       "      <td>ActiveEnergyBurned</td>\n",
       "      <td>kcal</td>\n",
       "      <td>2019-06-08 11:55:17 -0700</td>\n",
       "      <td>2018-05-03 17:20:19 -0700</td>\n",
       "      <td>2018-05-03 18:39:28 -0700</td>\n",
       "      <td>546.228</td>\n",
       "    </tr>\n",
       "    <tr>\n",
       "      <th>822229</th>\n",
       "      <td>ActiveEnergyBurned</td>\n",
       "      <td>kcal</td>\n",
       "      <td>2019-06-09 11:09:48 -0700</td>\n",
       "      <td>2018-05-04 17:16:44 -0700</td>\n",
       "      <td>2018-05-04 18:41:53 -0700</td>\n",
       "      <td>467.031</td>\n",
       "    </tr>\n",
       "    <tr>\n",
       "      <th>822230</th>\n",
       "      <td>ActiveEnergyBurned</td>\n",
       "      <td>kcal</td>\n",
       "      <td>2019-06-09 11:09:49 -0700</td>\n",
       "      <td>2018-05-08 06:36:15 -0700</td>\n",
       "      <td>2018-05-08 07:57:14 -0700</td>\n",
       "      <td>486.467</td>\n",
       "    </tr>\n",
       "    <tr>\n",
       "      <th>822231</th>\n",
       "      <td>ActiveEnergyBurned</td>\n",
       "      <td>kcal</td>\n",
       "      <td>2019-06-09 11:09:50 -0700</td>\n",
       "      <td>2018-05-16 06:28:14 -0700</td>\n",
       "      <td>2018-05-16 07:53:54 -0700</td>\n",
       "      <td>544.387</td>\n",
       "    </tr>\n",
       "    <tr>\n",
       "      <th>822886</th>\n",
       "      <td>ActiveEnergyBurned</td>\n",
       "      <td>kcal</td>\n",
       "      <td>2019-06-10 00:43:43 -0700</td>\n",
       "      <td>2018-05-19 15:59:52 -0700</td>\n",
       "      <td>2018-05-19 17:28:21 -0700</td>\n",
       "      <td>464.507</td>\n",
       "    </tr>\n",
       "    <tr>\n",
       "      <th>822887</th>\n",
       "      <td>ActiveEnergyBurned</td>\n",
       "      <td>kcal</td>\n",
       "      <td>2019-06-10 00:43:44 -0700</td>\n",
       "      <td>2018-05-21 06:32:49 -0700</td>\n",
       "      <td>2018-05-21 07:43:35 -0700</td>\n",
       "      <td>352.235</td>\n",
       "    </tr>\n",
       "    <tr>\n",
       "      <th>842360</th>\n",
       "      <td>ActiveEnergyBurned</td>\n",
       "      <td>kcal</td>\n",
       "      <td>2019-06-20 09:20:02 -0700</td>\n",
       "      <td>2018-06-14 18:05:52 -0700</td>\n",
       "      <td>2018-06-14 18:10:26 -0700</td>\n",
       "      <td>44.740</td>\n",
       "    </tr>\n",
       "  </tbody>\n",
       "</table>\n",
       "</div>"
      ],
      "text/plain": [
       "                      type  unit               creationDate  \\\n",
       "703084  ActiveEnergyBurned  kcal  2019-04-11 10:56:11 -0700   \n",
       "703085  ActiveEnergyBurned  kcal  2019-04-11 10:56:11 -0700   \n",
       "703086  ActiveEnergyBurned  kcal  2019-04-11 10:56:12 -0700   \n",
       "723467  ActiveEnergyBurned  kcal  2019-04-17 13:28:41 -0700   \n",
       "733572  ActiveEnergyBurned  kcal  2019-04-20 08:33:47 -0700   \n",
       "733573  ActiveEnergyBurned  kcal  2019-04-20 08:33:48 -0700   \n",
       "808309  ActiveEnergyBurned  kcal  2019-05-23 18:35:56 -0700   \n",
       "815017  ActiveEnergyBurned  kcal  2019-06-03 21:56:52 -0700   \n",
       "815018  ActiveEnergyBurned  kcal  2019-06-03 22:06:43 -0700   \n",
       "815533  ActiveEnergyBurned  kcal  2019-06-04 12:54:31 -0700   \n",
       "815534  ActiveEnergyBurned  kcal  2019-06-04 12:54:34 -0700   \n",
       "815535  ActiveEnergyBurned  kcal  2019-06-04 12:54:35 -0700   \n",
       "816417  ActiveEnergyBurned  kcal  2019-06-05 10:15:11 -0700   \n",
       "816418  ActiveEnergyBurned  kcal  2019-06-05 10:15:12 -0700   \n",
       "817196  ActiveEnergyBurned  kcal  2019-06-06 09:58:31 -0700   \n",
       "817855  ActiveEnergyBurned  kcal  2019-06-06 22:46:02 -0700   \n",
       "817856  ActiveEnergyBurned  kcal  2019-06-06 22:47:07 -0700   \n",
       "820988  ActiveEnergyBurned  kcal  2019-06-07 22:17:51 -0700   \n",
       "820989  ActiveEnergyBurned  kcal  2019-06-07 22:17:52 -0700   \n",
       "820990  ActiveEnergyBurned  kcal  2019-06-07 22:17:53 -0700   \n",
       "821408  ActiveEnergyBurned  kcal  2019-06-08 11:55:16 -0700   \n",
       "821409  ActiveEnergyBurned  kcal  2019-06-08 11:55:17 -0700   \n",
       "821410  ActiveEnergyBurned  kcal  2019-06-08 11:55:17 -0700   \n",
       "822229  ActiveEnergyBurned  kcal  2019-06-09 11:09:48 -0700   \n",
       "822230  ActiveEnergyBurned  kcal  2019-06-09 11:09:49 -0700   \n",
       "822231  ActiveEnergyBurned  kcal  2019-06-09 11:09:50 -0700   \n",
       "822886  ActiveEnergyBurned  kcal  2019-06-10 00:43:43 -0700   \n",
       "822887  ActiveEnergyBurned  kcal  2019-06-10 00:43:44 -0700   \n",
       "842360  ActiveEnergyBurned  kcal  2019-06-20 09:20:02 -0700   \n",
       "\n",
       "                        startDate                    endDate    value  \n",
       "703084  2018-03-20 17:23:37 -0700  2018-03-20 17:28:26 -0700   45.543  \n",
       "703085  2018-03-20 17:28:26 -0700  2018-03-20 17:32:53 -0700   42.653  \n",
       "703086  2018-03-20 17:32:53 -0700  2018-03-20 17:37:24 -0700   40.907  \n",
       "723467  2018-01-11 19:24:54 -0700  2018-01-11 19:29:44 -0700   46.944  \n",
       "733572  2018-04-15 17:36:33 -0700  2018-04-15 17:41:35 -0700   45.965  \n",
       "733573  2018-04-15 17:41:35 -0700  2018-04-15 17:46:04 -0700   44.261  \n",
       "808309  2018-05-23 07:15:50 -0700  2018-05-23 07:19:56 -0700   41.577  \n",
       "815017  2018-01-01 16:07:29 -0700  2018-01-01 17:28:01 -0700  475.868  \n",
       "815018  2018-01-10 18:43:57 -0700  2018-01-10 20:21:57 -0700  659.538  \n",
       "815533  2018-01-16 13:03:36 -0700  2018-01-16 20:34:30 -0700  671.063  \n",
       "815534  2018-01-22 18:27:54 -0700  2018-01-22 20:00:14 -0700  592.924  \n",
       "815535  2018-01-23 18:36:19 -0700  2018-01-23 20:10:20 -0700  660.310  \n",
       "816417  2018-01-24 18:25:08 -0700  2018-01-24 20:12:25 -0700  672.860  \n",
       "816418  2018-01-25 18:25:17 -0700  2018-01-25 19:59:07 -0700  458.285  \n",
       "817196  2018-03-26 17:36:13 -0700  2018-03-26 18:52:11 -0700  379.064  \n",
       "817855  2018-04-13 17:44:35 -0700  2018-04-13 19:04:09 -0700  441.784  \n",
       "817856  2018-04-16 06:42:38 -0700  2018-04-16 07:54:33 -0700  421.863  \n",
       "820988  2018-04-18 06:35:10 -0700  2018-04-18 07:51:35 -0700  453.186  \n",
       "820989  2018-04-19 17:17:17 -0700  2018-04-19 19:12:18 -0700  593.558  \n",
       "820990  2018-04-23 06:23:11 -0700  2018-04-23 07:43:07 -0700  424.780  \n",
       "821408  2018-04-25 06:35:07 -0700  2018-04-25 07:53:27 -0700  457.111  \n",
       "821409  2018-04-30 06:25:10 -0700  2018-04-30 07:45:21 -0700  396.827  \n",
       "821410  2018-05-03 17:20:19 -0700  2018-05-03 18:39:28 -0700  546.228  \n",
       "822229  2018-05-04 17:16:44 -0700  2018-05-04 18:41:53 -0700  467.031  \n",
       "822230  2018-05-08 06:36:15 -0700  2018-05-08 07:57:14 -0700  486.467  \n",
       "822231  2018-05-16 06:28:14 -0700  2018-05-16 07:53:54 -0700  544.387  \n",
       "822886  2018-05-19 15:59:52 -0700  2018-05-19 17:28:21 -0700  464.507  \n",
       "822887  2018-05-21 06:32:49 -0700  2018-05-21 07:43:35 -0700  352.235  \n",
       "842360  2018-06-14 18:05:52 -0700  2018-06-14 18:10:26 -0700   44.740  "
      ]
     },
     "execution_count": 18,
     "metadata": {},
     "output_type": "execute_result"
    }
   ],
   "source": [
    "# 40+ values\n",
    "ActiveEnergyBurned_data[ActiveEnergyBurned_data.value>40]"
   ]
  },
  {
   "cell_type": "markdown",
   "metadata": {},
   "source": [
    "So it looks like there is a huge jump in values in 2019. Can't think of some reasons why it would only do this recently. Maybe it tracked my movements in a long car ride? Home come this did not happen before? Was there a change in Apple's data collection process in an update?\n",
    "\n",
    "Looking at it closer, the date difference is why it's happening. Most of the data is tracking every few minutes while the large numbers track over an hour! Wonder what am I doing differently? I am not going to remove the data but rather plot them without the outliers and group it by dates after to see a daily summary."
   ]
  },
  {
   "cell_type": "code",
   "execution_count": 19,
   "metadata": {},
   "outputs": [
    {
     "name": "stdout",
     "output_type": "stream",
     "text": [
      "\n",
      " mu = 0 and sigma = 3\n",
      "\n"
     ]
    },
    {
     "data": {
      "text/plain": [
       "Text(0.5, 1.0, 'Value distribution')"
      ]
     },
     "execution_count": 19,
     "metadata": {},
     "output_type": "execute_result"
    },
    {
     "data": {
      "image/png": "[encoded data removed]",
      "text/plain": [
       "<Figure size 720x360 with 1 Axes>"
      ]
     },
     "metadata": {
      "needs_background": "light"
     },
     "output_type": "display_data"
    }
   ],
   "source": [
    "# Create figure space\n",
    "plt.figure(figsize=(10,5))\n",
    "\n",
    "# Create plot\n",
    "sns.distplot(ActiveEnergyBurned_data['value'][ActiveEnergyBurned_data.value<5] , fit=norm)\n",
    "\n",
    "# Get the fitted parameters\n",
    "mu, sigma = norm.fit(ActiveEnergyBurned_data['value'])\n",
    "print( '\\n mu = {:.0f} and sigma = {:.0f}\\n'.format(mu, sigma))\n",
    "\n",
    "# Plot distribution\n",
    "plt.legend(['Norm Dist. ($\\mu=$ {:.0f} and $\\sigma=$ {:.0f} )'.format(mu, sigma)],\n",
    "            loc='best')\n",
    "plt.ylabel('Frequency')\n",
    "plt.title('Value distribution')"
   ]
  },
  {
   "cell_type": "markdown",
   "metadata": {},
   "source": [
    "The data is still heavily right skewed (positive), which makes sense since I am currently living a sedentary lifestyle. I do try to opt in walks as much as possible but I've also been doing less of that ever since I started to study during my lunches.\n",
    "\n",
    "If I dissect the data even less to < 5, the distribution is actually bimodel, something I don't see too often."
   ]
  },
  {
   "cell_type": "markdown",
   "metadata": {},
   "source": [
    "### Daily energy burned (time-series)"
   ]
  },
  {
   "cell_type": "code",
   "execution_count": 20,
   "metadata": {},
   "outputs": [
    {
     "data": {
      "text/plain": [
       "'2017-12-25'"
      ]
     },
     "execution_count": 20,
     "metadata": {},
     "output_type": "execute_result"
    }
   ],
   "source": [
    "# Create new daily_date feature (2018-03-20 17:23:37 -0700)\n",
    "t = (ActiveEnergyBurned_data.startDate[1])\n",
    "\" \".join(t.split()[0:1])"
   ]
  },
  {
   "cell_type": "code",
   "execution_count": 21,
   "metadata": {},
   "outputs": [],
   "source": [
    "ActiveEnergyBurned_data['dailyDate'] = ActiveEnergyBurned_data.startDate.apply(lambda x: \" \".join(x.split()[0:1]))"
   ]
  },
  {
   "cell_type": "code",
   "execution_count": 22,
   "metadata": {},
   "outputs": [
    {
     "data": {
      "text/html": [
       "<div>\n",
       "<style scoped>\n",
       "    .dataframe tbody tr th:only-of-type {\n",
       "        vertical-align: middle;\n",
       "    }\n",
       "\n",
       "    .dataframe tbody tr th {\n",
       "        vertical-align: top;\n",
       "    }\n",
       "\n",
       "    .dataframe thead th {\n",
       "        text-align: right;\n",
       "    }\n",
       "</style>\n",
       "<table border=\"1\" class=\"dataframe\">\n",
       "  <thead>\n",
       "    <tr style=\"text-align: right;\">\n",
       "      <th></th>\n",
       "      <th>type</th>\n",
       "      <th>unit</th>\n",
       "      <th>creationDate</th>\n",
       "      <th>startDate</th>\n",
       "      <th>endDate</th>\n",
       "      <th>value</th>\n",
       "      <th>dailyDate</th>\n",
       "    </tr>\n",
       "  </thead>\n",
       "  <tbody>\n",
       "    <tr>\n",
       "      <th>0</th>\n",
       "      <td>ActiveEnergyBurned</td>\n",
       "      <td>kcal</td>\n",
       "      <td>2017-12-25 14:36:09 -0700</td>\n",
       "      <td>2017-12-25 13:34:57 -0700</td>\n",
       "      <td>2017-12-25 14:34:58 -0700</td>\n",
       "      <td>0.202</td>\n",
       "      <td>2017-12-25</td>\n",
       "    </tr>\n",
       "    <tr>\n",
       "      <th>1</th>\n",
       "      <td>ActiveEnergyBurned</td>\n",
       "      <td>kcal</td>\n",
       "      <td>2017-12-25 14:36:09 -0700</td>\n",
       "      <td>2017-12-25 14:34:58 -0700</td>\n",
       "      <td>2017-12-25 14:35:50 -0700</td>\n",
       "      <td>0.214</td>\n",
       "      <td>2017-12-25</td>\n",
       "    </tr>\n",
       "    <tr>\n",
       "      <th>2</th>\n",
       "      <td>ActiveEnergyBurned</td>\n",
       "      <td>kcal</td>\n",
       "      <td>2017-12-25 14:37:10 -0700</td>\n",
       "      <td>2017-12-25 14:35:50 -0700</td>\n",
       "      <td>2017-12-25 14:36:51 -0700</td>\n",
       "      <td>1.753</td>\n",
       "      <td>2017-12-25</td>\n",
       "    </tr>\n",
       "    <tr>\n",
       "      <th>3</th>\n",
       "      <td>ActiveEnergyBurned</td>\n",
       "      <td>kcal</td>\n",
       "      <td>2017-12-25 14:38:17 -0700</td>\n",
       "      <td>2017-12-25 14:36:51 -0700</td>\n",
       "      <td>2017-12-25 14:37:52 -0700</td>\n",
       "      <td>1.803</td>\n",
       "      <td>2017-12-25</td>\n",
       "    </tr>\n",
       "    <tr>\n",
       "      <th>4</th>\n",
       "      <td>ActiveEnergyBurned</td>\n",
       "      <td>kcal</td>\n",
       "      <td>2017-12-25 14:39:44 -0700</td>\n",
       "      <td>2017-12-25 14:37:52 -0700</td>\n",
       "      <td>2017-12-25 14:38:54 -0700</td>\n",
       "      <td>0.235</td>\n",
       "      <td>2017-12-25</td>\n",
       "    </tr>\n",
       "  </tbody>\n",
       "</table>\n",
       "</div>"
      ],
      "text/plain": [
       "                 type  unit               creationDate  \\\n",
       "0  ActiveEnergyBurned  kcal  2017-12-25 14:36:09 -0700   \n",
       "1  ActiveEnergyBurned  kcal  2017-12-25 14:36:09 -0700   \n",
       "2  ActiveEnergyBurned  kcal  2017-12-25 14:37:10 -0700   \n",
       "3  ActiveEnergyBurned  kcal  2017-12-25 14:38:17 -0700   \n",
       "4  ActiveEnergyBurned  kcal  2017-12-25 14:39:44 -0700   \n",
       "\n",
       "                   startDate                    endDate  value   dailyDate  \n",
       "0  2017-12-25 13:34:57 -0700  2017-12-25 14:34:58 -0700  0.202  2017-12-25  \n",
       "1  2017-12-25 14:34:58 -0700  2017-12-25 14:35:50 -0700  0.214  2017-12-25  \n",
       "2  2017-12-25 14:35:50 -0700  2017-12-25 14:36:51 -0700  1.753  2017-12-25  \n",
       "3  2017-12-25 14:36:51 -0700  2017-12-25 14:37:52 -0700  1.803  2017-12-25  \n",
       "4  2017-12-25 14:37:52 -0700  2017-12-25 14:38:54 -0700  0.235  2017-12-25  "
      ]
     },
     "execution_count": 22,
     "metadata": {},
     "output_type": "execute_result"
    }
   ],
   "source": [
    "ActiveEnergyBurned_data.head()"
   ]
  },
  {
   "cell_type": "code",
   "execution_count": 23,
   "metadata": {},
   "outputs": [
    {
     "name": "stdout",
     "output_type": "stream",
     "text": [
      "\n"
     ]
    }
   ],
   "source": [
    "''' Another method using dateutil\n",
    "from dateutil import parser\n",
    "\n",
    "print df\n",
    "df2 = df.copy()\n",
    "df2.date = df2.date.apply(lambda x: parser.parse(x))\n",
    "df2\n",
    "'''\n",
    "print()"
   ]
  },
  {
   "cell_type": "code",
   "execution_count": 24,
   "metadata": {},
   "outputs": [],
   "source": [
    "# Get only date and value columns\n",
    "date_and_value = ['dailyDate', 'value']\n",
    "series = ActiveEnergyBurned_data[date_and_value]\n",
    "series = series[series.value<100]\n",
    "series.dailyDate = pd.to_datetime(series.dailyDate, format='%Y-%m-%d')\n",
    "# series = series.set_index(series.dailyDate)"
   ]
  },
  {
   "cell_type": "markdown",
   "metadata": {},
   "source": [
    "### Resampling vs. groupby\n",
    "\n",
    "Resampling is similar to a groupby: you split the time series into groups (5-day buckets below), apply a function to each group (mean), and combine the result (one row per group).\n",
    "\n",
    "    series.resample('D').sum()\n",
    "    \n",
    "    series.groupby('dailyDate').value.sum()\n",
    "\n",
    "[Note Link](https://tomaugspurger.github.io/modern-7-timeseries)"
   ]
  },
  {
   "cell_type": "code",
   "execution_count": 25,
   "metadata": {},
   "outputs": [],
   "source": [
    "# Create a new dataframe for time series\n",
    "daily_df = pd.DataFrame(series.groupby('dailyDate').value.sum()) # date needs to be the index"
   ]
  },
  {
   "cell_type": "code",
   "execution_count": 26,
   "metadata": {},
   "outputs": [
    {
     "name": "stdout",
     "output_type": "stream",
     "text": [
      "              value\n",
      "dailyDate          \n",
      "2017-12-25  163.777\n",
      "              value\n",
      "dailyDate          \n",
      "2019-07-02  338.523\n"
     ]
    }
   ],
   "source": [
    "# Get first and last date\n",
    "print(daily_df.head(1))\n",
    "print(daily_df.tail(1))"
   ]
  },
  {
   "cell_type": "code",
   "execution_count": 27,
   "metadata": {},
   "outputs": [
    {
     "data": {
      "text/plain": [
       "<Figure size 1152x576 with 0 Axes>"
      ]
     },
     "metadata": {},
     "output_type": "display_data"
    },
    {
     "data": {
      "image/png": "[encoded data removed]",
      "text/plain": [
       "<Figure size 1152x576 with 1 Axes>"
      ]
     },
     "metadata": {
      "needs_background": "light"
     },
     "output_type": "display_data"
    }
   ],
   "source": [
    "fig = plt.figure(figsize=(16,8))\n",
    "\n",
    "# Rolling 30 days\n",
    "ma_30 = daily_df[\"value\"].rolling(window=30, center=True).mean()\n",
    "ma_60 = daily_df[\"value\"].rolling(window=60, center=True).mean()\n",
    "ma_90 = daily_df[\"value\"].rolling(window=90, center=True).mean()\n",
    "ma_120 = daily_df[\"value\"].rolling(window=120, center=True).mean()\n",
    "ma_150 = daily_df[\"value\"].rolling(window=150, center=True).mean()\n",
    "ma_180 = daily_df[\"value\"].rolling(window=180, center=True).mean()\n",
    "\n",
    "# Combine moving averages with the daily data to replot\n",
    "ts_daily_ma_data = pd.DataFrame({'Date': daily_df.index,\n",
    "                                 'DailyValue': daily_df.value,\n",
    "                                 '30_MA': ma_30,\n",
    "                                 '60_MA': ma_60,\n",
    "                                 '90_MA': ma_90,\n",
    "                                 '120_MA': ma_120,\n",
    "                                 '150_MA': ma_150,\n",
    "                                 '180_MA': ma_180})\n",
    "\n",
    "# Create time series chart without moving averages\n",
    "# sns.tsplot(daily_df.value)\n",
    "\n",
    "# Create time series with moving averages\n",
    "# Start and end of the date range to extract\n",
    "start, end = '2017-12-25', '2019-07-02'\n",
    "\n",
    "# Set figure space \n",
    "fig, ax = plt.subplots(figsize=(16,8))\n",
    "\n",
    "# Create plot\n",
    "ax.plot(daily_df['value'], marker='.', linestyle='-', linewidth=0.5, label='Daily')\n",
    "ax.plot(ts_daily_ma_data['30_MA'], marker='o', markersize=3, linestyle='-', label='30_MA')\n",
    "# ax.plot(ts_daily_ma_data['60_MA'], marker='o', markersize=3, linestyle='-', label='60_MA')\n",
    "ax.plot(ts_daily_ma_data['90_MA'], marker='o', markersize=3, linestyle='-', label='90_MA')\n",
    "# ax.plot(ts_daily_ma_data['120_MA'], marker='o', markersize=2, linestyle='-', label='120_MA')\n",
    "# ax.plot(ts_daily_ma_data['150_MA'], marker='o', markersize=2, linestyle='-', label='150_MA')\n",
    "ax.plot(ts_daily_ma_data['180_MA'], marker='o', markersize=2, linestyle='-', label='180_MA')\n",
    "\n",
    "# Set plot features\n",
    "ax.set_title('Moving Averages of Energy Burned', fontsize=15)\n",
    "ax.set_ylabel('Energy Burned')\n",
    "ax.legend();"
   ]
  },
  {
   "cell_type": "markdown",
   "metadata": {},
   "source": [
    "Daily data definitely looks like a mess but it's way better than the data that had hours and minutes. We can see a tiny trend with a higher moving average slowly but still remains pretty stable around 750 just by a glance. Adding smoothers like moving averages help grasp just how I'm doing overall. I added 3 moving averages with 30MA still shows some noise but as we continue to make the MA longer, the trend slowly smooths out. \n",
    "\n",
    "Showing the smoothed data in this specific use but it gives the audience a better perspective on the trend instead of the daily data where it jumps up and down randomly.\n",
    "\n",
    "Overall the my averages across monthly to quarterly and more is not much different. My lifestyle is pretty consistent in a way where I could probably be burning the same amount everyday unless I switch up my working/exercise routine drastically. I also did injure myself right before 2018 which can be another reason on it's slow climb back up in 2019. I also run a little less now, but I think I would need 2017 data to see if there is a big difference since I ran a lot in that specific year for training. Some ts notes [here](https://www.dataquest.io/blog/tutorial-time-series-analysis-with-pandas/)."
   ]
  },
  {
   "cell_type": "markdown",
   "metadata": {},
   "source": [
    "### Which day has the highest amount of energy burned?"
   ]
  },
  {
   "cell_type": "code",
   "execution_count": 36,
   "metadata": {},
   "outputs": [
    {
     "data": {
      "text/html": [
       "<div>\n",
       "<style scoped>\n",
       "    .dataframe tbody tr th:only-of-type {\n",
       "        vertical-align: middle;\n",
       "    }\n",
       "\n",
       "    .dataframe tbody tr th {\n",
       "        vertical-align: top;\n",
       "    }\n",
       "\n",
       "    .dataframe thead th {\n",
       "        text-align: right;\n",
       "    }\n",
       "</style>\n",
       "<table border=\"1\" class=\"dataframe\">\n",
       "  <thead>\n",
       "    <tr style=\"text-align: right;\">\n",
       "      <th></th>\n",
       "      <th>value</th>\n",
       "    </tr>\n",
       "    <tr>\n",
       "      <th>dailyDate</th>\n",
       "      <th></th>\n",
       "    </tr>\n",
       "  </thead>\n",
       "  <tbody>\n",
       "    <tr>\n",
       "      <th>2018-12-22</th>\n",
       "      <td>2045.197</td>\n",
       "    </tr>\n",
       "  </tbody>\n",
       "</table>\n",
       "</div>"
      ],
      "text/plain": [
       "               value\n",
       "dailyDate           \n",
       "2018-12-22  2045.197"
      ]
     },
     "execution_count": 36,
     "metadata": {},
     "output_type": "execute_result"
    }
   ],
   "source": [
    "# Get max\n",
    "daily_df[daily_df.value == max(daily_df.value)]"
   ]
  },
  {
   "cell_type": "markdown",
   "metadata": {},
   "source": [
    "I did my pullup challenge on the 24th and I don't remember what I did on the 22nd. As I continue to dive into the nitty details of my data I get more confused on what I have done in the past. But it's good to know that December in general is my highest burned month."
   ]
  },
  {
   "cell_type": "markdown",
   "metadata": {},
   "source": [
    "### Monthly energy burned\n",
    "\n",
    "Groupby order matters as [daily_df.index.month, daily_df.index.year] is wrong and will group it by months together with the year vs. years first and the months."
   ]
  },
  {
   "cell_type": "code",
   "execution_count": 28,
   "metadata": {},
   "outputs": [
    {
     "data": {
      "text/plain": [
       "Text(0, 0.5, 'Energy Burned')"
      ]
     },
     "execution_count": 28,
     "metadata": {},
     "output_type": "execute_result"
    },
    {
     "data": {
      "image/png": "[encoded data removed]",
      "text/plain": [
       "<Figure size 1152x360 with 1 Axes>"
      ]
     },
     "metadata": {
      "needs_background": "light"
     },
     "output_type": "display_data"
    }
   ],
   "source": [
    "# Create a new dataframe for time series\n",
    "monthly_df = pd.DataFrame(daily_df.groupby(by=[daily_df.index.year, daily_df.index.month]).value.sum())\n",
    "\n",
    "fig = plt.figure(figsize=(16,5))\n",
    "\n",
    "# Create time series chart\n",
    "sns.tsplot(monthly_df.value)\n",
    "\n",
    "# Set plot features\n",
    "plt.title('Monthly Energy Burned', fontsize=15)\n",
    "plt.xlabel('Month', fontsize=12)\n",
    "plt.ylabel('Energy Burned', fontsize=12)"
   ]
  },
  {
   "cell_type": "markdown",
   "metadata": {},
   "source": [
    "Definitely shows an increasing trend around fall of 2018. The levels do stay pretty high  for the rest of the months except July since it's incomplete right now as of 2019-07-05.\n",
    "\n",
    "- What did I do around that time? \n",
    "- Could I predict how much I am going to burn monthly?"
   ]
  },
  {
   "cell_type": "code",
   "execution_count": 29,
   "metadata": {},
   "outputs": [
    {
     "data": {
      "text/html": [
       "<div>\n",
       "<style scoped>\n",
       "    .dataframe tbody tr th:only-of-type {\n",
       "        vertical-align: middle;\n",
       "    }\n",
       "\n",
       "    .dataframe tbody tr th {\n",
       "        vertical-align: top;\n",
       "    }\n",
       "\n",
       "    .dataframe thead th {\n",
       "        text-align: right;\n",
       "    }\n",
       "</style>\n",
       "<table border=\"1\" class=\"dataframe\">\n",
       "  <thead>\n",
       "    <tr style=\"text-align: right;\">\n",
       "      <th></th>\n",
       "      <th></th>\n",
       "      <th>value</th>\n",
       "    </tr>\n",
       "    <tr>\n",
       "      <th>dailyDate</th>\n",
       "      <th>dailyDate</th>\n",
       "      <th></th>\n",
       "    </tr>\n",
       "  </thead>\n",
       "  <tbody>\n",
       "    <tr>\n",
       "      <th>2017</th>\n",
       "      <th>12</th>\n",
       "      <td>2233.775</td>\n",
       "    </tr>\n",
       "    <tr>\n",
       "      <th rowspan=\"12\" valign=\"top\">2018</th>\n",
       "      <th>1</th>\n",
       "      <td>13441.570</td>\n",
       "    </tr>\n",
       "    <tr>\n",
       "      <th>2</th>\n",
       "      <td>10065.854</td>\n",
       "    </tr>\n",
       "    <tr>\n",
       "      <th>3</th>\n",
       "      <td>13614.621</td>\n",
       "    </tr>\n",
       "    <tr>\n",
       "      <th>4</th>\n",
       "      <td>13756.339</td>\n",
       "    </tr>\n",
       "    <tr>\n",
       "      <th>5</th>\n",
       "      <td>9104.969</td>\n",
       "    </tr>\n",
       "    <tr>\n",
       "      <th>6</th>\n",
       "      <td>14401.148</td>\n",
       "    </tr>\n",
       "    <tr>\n",
       "      <th>7</th>\n",
       "      <td>15583.999</td>\n",
       "    </tr>\n",
       "    <tr>\n",
       "      <th>8</th>\n",
       "      <td>14204.229</td>\n",
       "    </tr>\n",
       "    <tr>\n",
       "      <th>9</th>\n",
       "      <td>13918.805</td>\n",
       "    </tr>\n",
       "    <tr>\n",
       "      <th>10</th>\n",
       "      <td>20099.404</td>\n",
       "    </tr>\n",
       "    <tr>\n",
       "      <th>11</th>\n",
       "      <td>22904.322</td>\n",
       "    </tr>\n",
       "    <tr>\n",
       "      <th>12</th>\n",
       "      <td>28162.278</td>\n",
       "    </tr>\n",
       "    <tr>\n",
       "      <th rowspan=\"7\" valign=\"top\">2019</th>\n",
       "      <th>1</th>\n",
       "      <td>26259.951</td>\n",
       "    </tr>\n",
       "    <tr>\n",
       "      <th>2</th>\n",
       "      <td>19889.390</td>\n",
       "    </tr>\n",
       "    <tr>\n",
       "      <th>3</th>\n",
       "      <td>25545.931</td>\n",
       "    </tr>\n",
       "    <tr>\n",
       "      <th>4</th>\n",
       "      <td>25235.586</td>\n",
       "    </tr>\n",
       "    <tr>\n",
       "      <th>5</th>\n",
       "      <td>22116.214</td>\n",
       "    </tr>\n",
       "    <tr>\n",
       "      <th>6</th>\n",
       "      <td>19548.046</td>\n",
       "    </tr>\n",
       "    <tr>\n",
       "      <th>7</th>\n",
       "      <td>1772.365</td>\n",
       "    </tr>\n",
       "  </tbody>\n",
       "</table>\n",
       "</div>"
      ],
      "text/plain": [
       "                         value\n",
       "dailyDate dailyDate           \n",
       "2017      12          2233.775\n",
       "2018      1          13441.570\n",
       "          2          10065.854\n",
       "          3          13614.621\n",
       "          4          13756.339\n",
       "          5           9104.969\n",
       "          6          14401.148\n",
       "          7          15583.999\n",
       "          8          14204.229\n",
       "          9          13918.805\n",
       "          10         20099.404\n",
       "          11         22904.322\n",
       "          12         28162.278\n",
       "2019      1          26259.951\n",
       "          2          19889.390\n",
       "          3          25545.931\n",
       "          4          25235.586\n",
       "          5          22116.214\n",
       "          6          19548.046\n",
       "          7           1772.365"
      ]
     },
     "execution_count": 29,
     "metadata": {},
     "output_type": "execute_result"
    }
   ],
   "source": [
    "monthly_df"
   ]
  },
  {
   "cell_type": "markdown",
   "metadata": {},
   "source": [
    "### TODO: Forecast our daily data\n",
    "\n",
    "Instead of working with basic time series like ARIMA, I want to test out Facebook's forecasting library (if I could get it to install properly). I've worked with Prophet in R so I have a small understanding on what's under the hood. You can check it out [here](https://facebook.github.io/prophet/docs/installation.html)."
   ]
  },
  {
   "cell_type": "markdown",
   "metadata": {},
   "source": [
    "## Step Count Data\n",
    "\n",
    "Step data has always been a metric that I like to keep track of. As I live a life of non-consistent movement, I try to get some steps on a daily basis even if it's a 10-15 minute walk. Before I started studying a lot I tried to maintain a daily 20-25 minute brisk walk on the weekdays although I should be doing a lot more.\n",
    "\n",
    "A lot of health tips and fitness blogs talk about getting at least \"10,000\" steps daily to remain healthy. I believe that you don't have to get 10,000 but it's the action you take to get those 10,000 is what will drive your health. If someone has that mindset that they will be doing those 10K steps then there's a higher chance that they are a little healthier if not alot, than other individuals who do not. \n",
    "\n",
    "- Can we tell when I went on a trip to Japan from the time series data?"
   ]
  },
  {
   "cell_type": "code",
   "execution_count": 38,
   "metadata": {},
   "outputs": [
    {
     "name": "stdout",
     "output_type": "stream",
     "text": [
      "*******************************************\n",
      "********** Data shape: (79977, 9)**********\n"
     ]
    }
   ],
   "source": [
    "# Get data shape, info, columns, & dimensions\n",
    "print (\"*\"*43)\n",
    "print('********** Data shape: ' + str(StepCount_data.shape) + '*'*10)"
   ]
  },
  {
   "cell_type": "code",
   "execution_count": 109,
   "metadata": {},
   "outputs": [
    {
     "data": {
      "text/plain": [
       "8716601"
      ]
     },
     "execution_count": 109,
     "metadata": {},
     "output_type": "execute_result"
    }
   ],
   "source": [
    "StepCount_data.value.sum()"
   ]
  },
  {
   "cell_type": "markdown",
   "metadata": {},
   "source": [
    "8.7M Steps? Hmm..."
   ]
  },
  {
   "cell_type": "code",
   "execution_count": 74,
   "metadata": {},
   "outputs": [
    {
     "data": {
      "text/html": [
       "<div>\n",
       "<style scoped>\n",
       "    .dataframe tbody tr th:only-of-type {\n",
       "        vertical-align: middle;\n",
       "    }\n",
       "\n",
       "    .dataframe tbody tr th {\n",
       "        vertical-align: top;\n",
       "    }\n",
       "\n",
       "    .dataframe thead th {\n",
       "        text-align: right;\n",
       "    }\n",
       "</style>\n",
       "<table border=\"1\" class=\"dataframe\">\n",
       "  <thead>\n",
       "    <tr style=\"text-align: right;\">\n",
       "      <th></th>\n",
       "      <th>DailyDate</th>\n",
       "      <th>value</th>\n",
       "    </tr>\n",
       "  </thead>\n",
       "  <tbody>\n",
       "    <tr>\n",
       "      <th>0</th>\n",
       "      <td>2019-06-03</td>\n",
       "      <td>391</td>\n",
       "    </tr>\n",
       "    <tr>\n",
       "      <th>1</th>\n",
       "      <td>2019-06-03</td>\n",
       "      <td>117</td>\n",
       "    </tr>\n",
       "    <tr>\n",
       "      <th>2</th>\n",
       "      <td>2019-06-03</td>\n",
       "      <td>248</td>\n",
       "    </tr>\n",
       "    <tr>\n",
       "      <th>3</th>\n",
       "      <td>2015-11-29</td>\n",
       "      <td>79</td>\n",
       "    </tr>\n",
       "    <tr>\n",
       "      <th>4</th>\n",
       "      <td>2015-11-29</td>\n",
       "      <td>112</td>\n",
       "    </tr>\n",
       "  </tbody>\n",
       "</table>\n",
       "</div>"
      ],
      "text/plain": [
       "   DailyDate  value\n",
       "0 2019-06-03    391\n",
       "1 2019-06-03    117\n",
       "2 2019-06-03    248\n",
       "3 2015-11-29     79\n",
       "4 2015-11-29    112"
      ]
     },
     "execution_count": 74,
     "metadata": {},
     "output_type": "execute_result"
    }
   ],
   "source": [
    "# Select columns\n",
    "StepCount_data = pd.read_csv('Data\\\\StepCount.csv')\n",
    "StepCount_data['DailyDate'] = StepCount_data.startDate.apply(lambda x: \" \".join(x.split()[0:1]))\n",
    "useful_cols = ['DailyDate', 'value']\n",
    "StepCount_data = StepCount_data[useful_cols]\n",
    "StepCount_data.DailyDate = pd.to_datetime(StepCount_data.DailyDate, format='%Y-%m-%d')\n",
    "\n",
    "# Check top 5\n",
    "StepCount_data.iloc[0:5,]"
   ]
  },
  {
   "cell_type": "code",
   "execution_count": 75,
   "metadata": {},
   "outputs": [
    {
     "data": {
      "text/plain": [
       "dtype('<M8[ns]')"
      ]
     },
     "execution_count": 75,
     "metadata": {},
     "output_type": "execute_result"
    }
   ],
   "source": [
    "StepCount_data.DailyDate.dtype"
   ]
  },
  {
   "cell_type": "code",
   "execution_count": 76,
   "metadata": {},
   "outputs": [
    {
     "data": {
      "text/html": [
       "<div>\n",
       "<style scoped>\n",
       "    .dataframe tbody tr th:only-of-type {\n",
       "        vertical-align: middle;\n",
       "    }\n",
       "\n",
       "    .dataframe tbody tr th {\n",
       "        vertical-align: top;\n",
       "    }\n",
       "\n",
       "    .dataframe thead th {\n",
       "        text-align: right;\n",
       "    }\n",
       "</style>\n",
       "<table border=\"1\" class=\"dataframe\">\n",
       "  <thead>\n",
       "    <tr style=\"text-align: right;\">\n",
       "      <th></th>\n",
       "      <th>value</th>\n",
       "    </tr>\n",
       "    <tr>\n",
       "      <th>DailyDate</th>\n",
       "      <th></th>\n",
       "    </tr>\n",
       "  </thead>\n",
       "  <tbody>\n",
       "    <tr>\n",
       "      <th>2019-06-03</th>\n",
       "      <td>391</td>\n",
       "    </tr>\n",
       "    <tr>\n",
       "      <th>2019-06-03</th>\n",
       "      <td>117</td>\n",
       "    </tr>\n",
       "    <tr>\n",
       "      <th>2019-06-03</th>\n",
       "      <td>248</td>\n",
       "    </tr>\n",
       "    <tr>\n",
       "      <th>2015-11-29</th>\n",
       "      <td>79</td>\n",
       "    </tr>\n",
       "    <tr>\n",
       "      <th>2015-11-29</th>\n",
       "      <td>112</td>\n",
       "    </tr>\n",
       "  </tbody>\n",
       "</table>\n",
       "</div>"
      ],
      "text/plain": [
       "            value\n",
       "DailyDate        \n",
       "2019-06-03    391\n",
       "2019-06-03    117\n",
       "2019-06-03    248\n",
       "2015-11-29     79\n",
       "2015-11-29    112"
      ]
     },
     "execution_count": 76,
     "metadata": {},
     "output_type": "execute_result"
    }
   ],
   "source": [
    "StepCount_data.set_index('DailyDate', inplace=True)\n",
    "StepCount_data.head()"
   ]
  },
  {
   "cell_type": "code",
   "execution_count": 80,
   "metadata": {},
   "outputs": [
    {
     "data": {
      "text/plain": [
       "(1312, 1)"
      ]
     },
     "execution_count": 80,
     "metadata": {},
     "output_type": "execute_result"
    }
   ],
   "source": [
    "# Resample by day\n",
    "StepCount_data = StepCount_data.resample('D').sum()"
   ]
  },
  {
   "cell_type": "code",
   "execution_count": 82,
   "metadata": {},
   "outputs": [
    {
     "name": "stdout",
     "output_type": "stream",
     "text": [
      "******************************************\n",
      "********** Data shape: (1312, 1)**********\n"
     ]
    },
    {
     "data": {
      "text/html": [
       "<div>\n",
       "<style scoped>\n",
       "    .dataframe tbody tr th:only-of-type {\n",
       "        vertical-align: middle;\n",
       "    }\n",
       "\n",
       "    .dataframe tbody tr th {\n",
       "        vertical-align: top;\n",
       "    }\n",
       "\n",
       "    .dataframe thead th {\n",
       "        text-align: right;\n",
       "    }\n",
       "</style>\n",
       "<table border=\"1\" class=\"dataframe\">\n",
       "  <thead>\n",
       "    <tr style=\"text-align: right;\">\n",
       "      <th></th>\n",
       "      <th>value</th>\n",
       "    </tr>\n",
       "    <tr>\n",
       "      <th>DailyDate</th>\n",
       "      <th></th>\n",
       "    </tr>\n",
       "  </thead>\n",
       "  <tbody>\n",
       "    <tr>\n",
       "      <th>2015-11-29</th>\n",
       "      <td>3378</td>\n",
       "    </tr>\n",
       "    <tr>\n",
       "      <th>2015-11-30</th>\n",
       "      <td>5935</td>\n",
       "    </tr>\n",
       "    <tr>\n",
       "      <th>2015-12-01</th>\n",
       "      <td>6462</td>\n",
       "    </tr>\n",
       "    <tr>\n",
       "      <th>2015-12-02</th>\n",
       "      <td>4316</td>\n",
       "    </tr>\n",
       "    <tr>\n",
       "      <th>2015-12-03</th>\n",
       "      <td>4043</td>\n",
       "    </tr>\n",
       "  </tbody>\n",
       "</table>\n",
       "</div>"
      ],
      "text/plain": [
       "            value\n",
       "DailyDate        \n",
       "2015-11-29   3378\n",
       "2015-11-30   5935\n",
       "2015-12-01   6462\n",
       "2015-12-02   4316\n",
       "2015-12-03   4043"
      ]
     },
     "execution_count": 82,
     "metadata": {},
     "output_type": "execute_result"
    }
   ],
   "source": [
    "print (\"*\"*42)\n",
    "print('********** Data shape: ' + str(StepCount_data.shape) + '*'*10)\n",
    "\n",
    "StepCount_data.head()"
   ]
  },
  {
   "cell_type": "code",
   "execution_count": 86,
   "metadata": {},
   "outputs": [
    {
     "name": "stdout",
     "output_type": "stream",
     "text": [
      "            value\n",
      "DailyDate        \n",
      "2015-11-29   3378\n",
      "            value\n",
      "DailyDate        \n",
      "2019-07-02   6942\n"
     ]
    }
   ],
   "source": [
    "### Min and Max Date\n",
    "print(StepCount_data.head(1))\n",
    "print(StepCount_data.tail(1))"
   ]
  },
  {
   "cell_type": "code",
   "execution_count": 85,
   "metadata": {},
   "outputs": [
    {
     "data": {
      "text/plain": [
       "DatetimeIndex(['2015-11-29', '2015-11-30', '2015-12-01', '2015-12-02',\n",
       "               '2015-12-03', '2015-12-04', '2015-12-05', '2015-12-06',\n",
       "               '2015-12-07', '2015-12-08',\n",
       "               ...\n",
       "               '2019-06-23', '2019-06-24', '2019-06-25', '2019-06-26',\n",
       "               '2019-06-27', '2019-06-28', '2019-06-29', '2019-06-30',\n",
       "               '2019-07-01', '2019-07-02'],\n",
       "              dtype='datetime64[ns]', name='DailyDate', length=1312, freq='D')"
      ]
     },
     "execution_count": 85,
     "metadata": {},
     "output_type": "execute_result"
    }
   ],
   "source": [
    "# Uniques\n",
    "StepCount_data.index.unique()"
   ]
  },
  {
   "cell_type": "markdown",
   "metadata": {},
   "source": [
    "### Plotting Daily Steps"
   ]
  },
  {
   "cell_type": "code",
   "execution_count": 95,
   "metadata": {},
   "outputs": [
    {
     "data": {
      "text/plain": [
       "<Figure size 1152x576 with 0 Axes>"
      ]
     },
     "metadata": {},
     "output_type": "display_data"
    },
    {
     "data": {
      "image/png": "[encoded data removed]",
      "text/plain": [
       "<Figure size 1152x576 with 1 Axes>"
      ]
     },
     "metadata": {
      "needs_background": "light"
     },
     "output_type": "display_data"
    }
   ],
   "source": [
    "fig = plt.figure(figsize=(16,8))\n",
    "\n",
    "# Rolling 30 days\n",
    "ma_30 = StepCount_data[\"value\"].rolling(window=30, center=True).mean()\n",
    "ma_60 = StepCount_data[\"value\"].rolling(window=60, center=True).mean()\n",
    "ma_90 = StepCount_data[\"value\"].rolling(window=90, center=True).mean()\n",
    "ma_120 = StepCount_data[\"value\"].rolling(window=120, center=True).mean()\n",
    "ma_150 = StepCount_data[\"value\"].rolling(window=150, center=True).mean()\n",
    "ma_180 = StepCount_data[\"value\"].rolling(window=180, center=True).mean()\n",
    "\n",
    "# Combine moving averages with the daily data to replot\n",
    "ts_step_ma_data = pd.DataFrame({'Date': StepCount_data.index,\n",
    "                                 'DailyValue': StepCount_data.value,\n",
    "                                 '30_MA': ma_30,\n",
    "                                 '60_MA': ma_60,\n",
    "                                 '90_MA': ma_90,\n",
    "                                 '120_MA': ma_120,\n",
    "                                 '150_MA': ma_150,\n",
    "                                 '180_MA': ma_180})\n",
    "\n",
    "# Create time series chart without moving averages\n",
    "# sns.tsplot(daily_df.value)\n",
    "\n",
    "# Create time series with moving averages\n",
    "# Start and end of the date range to extract\n",
    "start, end = '2015-11-29', '2019-07-02'\n",
    "\n",
    "# Set figure space \n",
    "fig, ax = plt.subplots(figsize=(16,8))\n",
    "\n",
    "# Create plot\n",
    "ax.plot(StepCount_data['value'], marker='.', linestyle='-', linewidth=0.5, label='Daily')\n",
    "ax.plot(ts_step_ma_data['30_MA'], marker='o', markersize=3, linestyle='-', label='30_MA')\n",
    "# ax.plot(ts_step_ma_data['60_MA'], marker='o', markersize=3, linestyle='-', label='60_MA')\n",
    "ax.plot(ts_step_ma_data['90_MA'], marker='o', markersize=3, linestyle='-', label='90_MA')\n",
    "# ax.plot(ts_step_ma_data['120_MA'], marker='o', markersize=2, linestyle='-', label='120_MA')\n",
    "# ax.plot(ts_step_ma_data['150_MA'], marker='o', markersize=2, linestyle='-', label='150_MA')\n",
    "ax.plot(ts_step_ma_data['180_MA'], marker='o', markersize=2, linestyle='-', label='180_MA')\n",
    "\n",
    "# Set plot features\n",
    "ax.set_title('Time Series - Step Count', fontsize=15)\n",
    "ax.set_ylabel('Steps', fontsize=15)\n",
    "ax.set_xlabel('', fontsize=15)\n",
    "ax.legend(loc='upper right', prop = {'size':15})\n",
    "plt.show();"
   ]
  },
  {
   "cell_type": "markdown",
   "metadata": {},
   "source": [
    "There are some serious outliers that make it hard to see the data. What's going on around spring of 2018? There are multiple high peaks that is way different from every other time of the years. Let's take a look at that month."
   ]
  },
  {
   "cell_type": "code",
   "execution_count": 97,
   "metadata": {},
   "outputs": [],
   "source": [
    "# Set start and end range of the dates we want to slice\n",
    "start_range = '2018-03-01'\n",
    "end_range = '2018-05-01'\n",
    "\n",
    "march_to_may_steps = StepCount_data.loc[start_range:end_range,:]"
   ]
  },
  {
   "cell_type": "code",
   "execution_count": 107,
   "metadata": {},
   "outputs": [
    {
     "data": {
      "image/png": "[encoded data removed]",
      "text/plain": [
       "<Figure size 1152x576 with 1 Axes>"
      ]
     },
     "metadata": {
      "needs_background": "light"
     },
     "output_type": "display_data"
    }
   ],
   "source": [
    "# Rolling 30 days\n",
    "ma_30 = march_to_may_steps[\"value\"].rolling(window=30, center=True).mean()\n",
    "\n",
    "# Combine moving averages with the daily data to replot\n",
    "ts_spring_steps_data = pd.DataFrame({'Date': march_to_may_steps.index,\n",
    "                                     'DailyValue': march_to_may_steps.value,\n",
    "                                     '30_MA': ma_30})\n",
    "\n",
    "# Set figure space \n",
    "fig, ax = plt.subplots(figsize=(16,8))\n",
    "\n",
    "# Create plot\n",
    "ax.plot(march_to_may_steps['value'],\n",
    "        marker='.',\n",
    "        markersize=10,\n",
    "        markerfacecolor='red',\n",
    "        linestyle='-',\n",
    "        linewidth=1,\n",
    "        label='Daily')\n",
    "\n",
    "# ax.plot(ts_spring_steps_data['30_MA'], marker='o', markersize=3, linestyle='-', label='30_MA')\n",
    "\n",
    "# Set plot features\n",
    "plt.xticks(rotation=45)\n",
    "plt.title('Steps: March - May 2018', fontsize=15)\n",
    "plt.ylabel('Steps', fontsize=15)\n",
    "plt.show()"
   ]
  },
  {
   "cell_type": "markdown",
   "metadata": {},
   "source": [
    "Now this time series looks more apparent now. But I am also skeptical on taking 60K steps. I would say I maxed out around ~30K steps from what I remember on my first couple days in Osaka/Kyoto. It was an awesome trip and definitely would revisit the country.\n",
    "\n",
    "The high step ranges from 2018-03-28 through 2018-04-09. I think since I grouped the dates together, the numbers were that split in between the two dates also was accumulated together. For example, my walks starting before midnight and ending after midnight and the steps are only captured on the starting date. This is a possibility. When making assumptions on a dataset, you can do it before and after looking at the data. We just have to be careful on the biases that we make unconsciously with it like [confirmation bias](https://en.wikipedia.org/wiki/Confirmation_bias).\n",
    "\n",
    "Confirmation bias is the tendency to search for, interpret, and favor information in a way that will confirm your own prexisting beliefs or hypotheses. So we will see this everywhere in the field of statistics, machine learning, marketing, psychology, and even our daily lives. "
   ]
  },
  {
   "cell_type": "code",
   "execution_count": 112,
   "metadata": {},
   "outputs": [
    {
     "data": {
      "text/plain": [
       "6643.750762195122"
      ]
     },
     "execution_count": 112,
     "metadata": {},
     "output_type": "execute_result"
    }
   ],
   "source": [
    "# Average steps\n",
    "StepCount_data.value.mean()"
   ]
  },
  {
   "cell_type": "markdown",
   "metadata": {},
   "source": [
    "6.6k average steps isn't that bad. I thought I would be around 5k steps.\n",
    "\n",
    "- What's the average by month?"
   ]
  },
  {
   "cell_type": "code",
   "execution_count": 115,
   "metadata": {},
   "outputs": [
    {
     "data": {
      "text/plain": [
       "Text(0, 0.5, 'Steps')"
      ]
     },
     "execution_count": 115,
     "metadata": {},
     "output_type": "execute_result"
    },
    {
     "data": {
      "image/png": "[encoded data removed]",
      "text/plain": [
       "<Figure size 1152x360 with 1 Axes>"
      ]
     },
     "metadata": {
      "needs_background": "light"
     },
     "output_type": "display_data"
    }
   ],
   "source": [
    "# Create a new dataframe for time series\n",
    "monthly_steps_df = pd.DataFrame(StepCount_data.groupby(by=[StepCount_data.index.year, StepCount_data.index.month]).value.mean())\n",
    "\n",
    "fig = plt.figure(figsize=(16,5))\n",
    "\n",
    "# Create time series chart\n",
    "sns.tsplot(monthly_steps_df.value)\n",
    "\n",
    "# Set plot features\n",
    "plt.title('Monthly Steps Taken', fontsize=15)\n",
    "plt.xlabel('Month', fontsize=12)\n",
    "plt.ylabel('Steps', fontsize=12)"
   ]
  },
  {
   "cell_type": "code",
   "execution_count": 116,
   "metadata": {},
   "outputs": [
    {
     "data": {
      "text/html": [
       "<div>\n",
       "<style scoped>\n",
       "    .dataframe tbody tr th:only-of-type {\n",
       "        vertical-align: middle;\n",
       "    }\n",
       "\n",
       "    .dataframe tbody tr th {\n",
       "        vertical-align: top;\n",
       "    }\n",
       "\n",
       "    .dataframe thead th {\n",
       "        text-align: right;\n",
       "    }\n",
       "</style>\n",
       "<table border=\"1\" class=\"dataframe\">\n",
       "  <thead>\n",
       "    <tr style=\"text-align: right;\">\n",
       "      <th></th>\n",
       "      <th></th>\n",
       "      <th>value</th>\n",
       "    </tr>\n",
       "    <tr>\n",
       "      <th>DailyDate</th>\n",
       "      <th>DailyDate</th>\n",
       "      <th></th>\n",
       "    </tr>\n",
       "  </thead>\n",
       "  <tbody>\n",
       "    <tr>\n",
       "      <th rowspan=\"2\" valign=\"top\">2015</th>\n",
       "      <th>11</th>\n",
       "      <td>4656.500000</td>\n",
       "    </tr>\n",
       "    <tr>\n",
       "      <th>12</th>\n",
       "      <td>5147.258065</td>\n",
       "    </tr>\n",
       "    <tr>\n",
       "      <th rowspan=\"12\" valign=\"top\">2016</th>\n",
       "      <th>1</th>\n",
       "      <td>4821.806452</td>\n",
       "    </tr>\n",
       "    <tr>\n",
       "      <th>2</th>\n",
       "      <td>5592.206897</td>\n",
       "    </tr>\n",
       "    <tr>\n",
       "      <th>3</th>\n",
       "      <td>5797.903226</td>\n",
       "    </tr>\n",
       "    <tr>\n",
       "      <th>4</th>\n",
       "      <td>5782.600000</td>\n",
       "    </tr>\n",
       "    <tr>\n",
       "      <th>5</th>\n",
       "      <td>6556.354839</td>\n",
       "    </tr>\n",
       "    <tr>\n",
       "      <th>6</th>\n",
       "      <td>6057.466667</td>\n",
       "    </tr>\n",
       "    <tr>\n",
       "      <th>7</th>\n",
       "      <td>6838.322581</td>\n",
       "    </tr>\n",
       "    <tr>\n",
       "      <th>8</th>\n",
       "      <td>4219.258065</td>\n",
       "    </tr>\n",
       "    <tr>\n",
       "      <th>9</th>\n",
       "      <td>4093.133333</td>\n",
       "    </tr>\n",
       "    <tr>\n",
       "      <th>10</th>\n",
       "      <td>3452.677419</td>\n",
       "    </tr>\n",
       "    <tr>\n",
       "      <th>11</th>\n",
       "      <td>5091.633333</td>\n",
       "    </tr>\n",
       "    <tr>\n",
       "      <th>12</th>\n",
       "      <td>4480.451613</td>\n",
       "    </tr>\n",
       "    <tr>\n",
       "      <th rowspan=\"12\" valign=\"top\">2017</th>\n",
       "      <th>1</th>\n",
       "      <td>4400.161290</td>\n",
       "    </tr>\n",
       "    <tr>\n",
       "      <th>2</th>\n",
       "      <td>4786.071429</td>\n",
       "    </tr>\n",
       "    <tr>\n",
       "      <th>3</th>\n",
       "      <td>4657.806452</td>\n",
       "    </tr>\n",
       "    <tr>\n",
       "      <th>4</th>\n",
       "      <td>4712.400000</td>\n",
       "    </tr>\n",
       "    <tr>\n",
       "      <th>5</th>\n",
       "      <td>5342.161290</td>\n",
       "    </tr>\n",
       "    <tr>\n",
       "      <th>6</th>\n",
       "      <td>4780.966667</td>\n",
       "    </tr>\n",
       "    <tr>\n",
       "      <th>7</th>\n",
       "      <td>4110.483871</td>\n",
       "    </tr>\n",
       "    <tr>\n",
       "      <th>8</th>\n",
       "      <td>4287.580645</td>\n",
       "    </tr>\n",
       "    <tr>\n",
       "      <th>9</th>\n",
       "      <td>4571.533333</td>\n",
       "    </tr>\n",
       "    <tr>\n",
       "      <th>10</th>\n",
       "      <td>4909.967742</td>\n",
       "    </tr>\n",
       "    <tr>\n",
       "      <th>11</th>\n",
       "      <td>4065.233333</td>\n",
       "    </tr>\n",
       "    <tr>\n",
       "      <th>12</th>\n",
       "      <td>4876.838710</td>\n",
       "    </tr>\n",
       "    <tr>\n",
       "      <th rowspan=\"12\" valign=\"top\">2018</th>\n",
       "      <th>1</th>\n",
       "      <td>11312.935484</td>\n",
       "    </tr>\n",
       "    <tr>\n",
       "      <th>2</th>\n",
       "      <td>7273.464286</td>\n",
       "    </tr>\n",
       "    <tr>\n",
       "      <th>3</th>\n",
       "      <td>12939.580645</td>\n",
       "    </tr>\n",
       "    <tr>\n",
       "      <th>4</th>\n",
       "      <td>16454.733333</td>\n",
       "    </tr>\n",
       "    <tr>\n",
       "      <th>5</th>\n",
       "      <td>6976.903226</td>\n",
       "    </tr>\n",
       "    <tr>\n",
       "      <th>6</th>\n",
       "      <td>8289.100000</td>\n",
       "    </tr>\n",
       "    <tr>\n",
       "      <th>7</th>\n",
       "      <td>7897.967742</td>\n",
       "    </tr>\n",
       "    <tr>\n",
       "      <th>8</th>\n",
       "      <td>5878.741935</td>\n",
       "    </tr>\n",
       "    <tr>\n",
       "      <th>9</th>\n",
       "      <td>6204.400000</td>\n",
       "    </tr>\n",
       "    <tr>\n",
       "      <th>10</th>\n",
       "      <td>6904.870968</td>\n",
       "    </tr>\n",
       "    <tr>\n",
       "      <th>11</th>\n",
       "      <td>8990.700000</td>\n",
       "    </tr>\n",
       "    <tr>\n",
       "      <th>12</th>\n",
       "      <td>9371.806452</td>\n",
       "    </tr>\n",
       "    <tr>\n",
       "      <th rowspan=\"7\" valign=\"top\">2019</th>\n",
       "      <th>1</th>\n",
       "      <td>8430.516129</td>\n",
       "    </tr>\n",
       "    <tr>\n",
       "      <th>2</th>\n",
       "      <td>10344.857143</td>\n",
       "    </tr>\n",
       "    <tr>\n",
       "      <th>3</th>\n",
       "      <td>9417.612903</td>\n",
       "    </tr>\n",
       "    <tr>\n",
       "      <th>4</th>\n",
       "      <td>10005.466667</td>\n",
       "    </tr>\n",
       "    <tr>\n",
       "      <th>5</th>\n",
       "      <td>8414.677419</td>\n",
       "    </tr>\n",
       "    <tr>\n",
       "      <th>6</th>\n",
       "      <td>7484.800000</td>\n",
       "    </tr>\n",
       "    <tr>\n",
       "      <th>7</th>\n",
       "      <td>7741.000000</td>\n",
       "    </tr>\n",
       "  </tbody>\n",
       "</table>\n",
       "</div>"
      ],
      "text/plain": [
       "                            value\n",
       "DailyDate DailyDate              \n",
       "2015      11          4656.500000\n",
       "          12          5147.258065\n",
       "2016      1           4821.806452\n",
       "          2           5592.206897\n",
       "          3           5797.903226\n",
       "          4           5782.600000\n",
       "          5           6556.354839\n",
       "          6           6057.466667\n",
       "          7           6838.322581\n",
       "          8           4219.258065\n",
       "          9           4093.133333\n",
       "          10          3452.677419\n",
       "          11          5091.633333\n",
       "          12          4480.451613\n",
       "2017      1           4400.161290\n",
       "          2           4786.071429\n",
       "          3           4657.806452\n",
       "          4           4712.400000\n",
       "          5           5342.161290\n",
       "          6           4780.966667\n",
       "          7           4110.483871\n",
       "          8           4287.580645\n",
       "          9           4571.533333\n",
       "          10          4909.967742\n",
       "          11          4065.233333\n",
       "          12          4876.838710\n",
       "2018      1          11312.935484\n",
       "          2           7273.464286\n",
       "          3          12939.580645\n",
       "          4          16454.733333\n",
       "          5           6976.903226\n",
       "          6           8289.100000\n",
       "          7           7897.967742\n",
       "          8           5878.741935\n",
       "          9           6204.400000\n",
       "          10          6904.870968\n",
       "          11          8990.700000\n",
       "          12          9371.806452\n",
       "2019      1           8430.516129\n",
       "          2          10344.857143\n",
       "          3           9417.612903\n",
       "          4          10005.466667\n",
       "          5           8414.677419\n",
       "          6           7484.800000\n",
       "          7           7741.000000"
      ]
     },
     "execution_count": 116,
     "metadata": {},
     "output_type": "execute_result"
    }
   ],
   "source": [
    "monthly_steps_df"
   ]
  },
  {
   "cell_type": "code",
   "execution_count": null,
   "metadata": {},
   "outputs": [],
   "source": []
  }
 ],
 "metadata": {
  "kernelspec": {
   "display_name": "Python 3",
   "language": "python",
   "name": "python3"
  },
  "language_info": {
   "codemirror_mode": {
    "name": "ipython",
    "version": 3
   },
   "file_extension": ".py",
   "mimetype": "text/x-python",
   "name": "python",
   "nbconvert_exporter": "python",
   "pygments_lexer": "ipython3",
   "version": "3.7.3"
  }
 },
 "nbformat": 4,
 "nbformat_minor": 2
}
