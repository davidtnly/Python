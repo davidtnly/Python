{
 "cells": [
  {
   "cell_type": "markdown",
   "metadata": {},
   "source": [
    "# Introduction\n",
    "\n",
    "Create a notebook on how to search through a specific airline website like Expedia or Southwest, find the best flight rates, and send an alert to your email on a timed basis. This is a nice project done by Aref. On top of emailing, we can store the data into a format that is usable for analysis purposes or historical view."
   ]
  },
  {
   "cell_type": "markdown",
   "metadata": {},
   "source": [
    "# Instructions\n",
    "\n",
    "1. Connect Python to a web browser and access the airline website\n",
    "2. Choose flights (roundtrip, one way, multi-city)\n",
    "3. Select origin (city or airport of departure)\n",
    "4. Select destination (city or airport of arrival)\n",
    "5. Select departing and returning dates\n",
    "6. Structure the data in a structured format for exploratory data analysis (optional)\n",
    "7. Connect to your email and push an alert every hour"
   ]
  },
  {
   "cell_type": "markdown",
   "metadata": {},
   "source": [
    "# What do I hope to achieve from this?\n",
    "\n",
    "Develop a stronger understanding in working with other types of projects besides machine learning and data analysis. Webscraping is a process of extracting information and data from a website, transforming the information on a webpage into structured data for further analysis. Automation is a powerful skill to have and learning to do so with new data instead of extracting it from CSV files or SQL can be very handy in the future.\n",
    "\n",
    "1. Automate my flight searches from OC to SJ\n",
    "2. Initializing a new project and working from concept to product\n",
    "3. Deploy to Production (optional) "
   ]
  },
  {
   "cell_type": "markdown",
   "metadata": {},
   "source": [
    "## Import libraries"
   ]
  },
  {
   "cell_type": "code",
   "execution_count": 3,
   "metadata": {},
   "outputs": [],
   "source": [
    "# Data\n",
    "import pandas as pd\n",
    "\n",
    "# Web\n",
    "from selenium import webdriver\n",
    "from selenium.webdriver.common.by import By\n",
    "from selenium.webdriver.common.keys import Keys\n",
    "\n",
    "# Misc\n",
    "import time\n",
    "import datetime\n",
    "import os\n",
    "from PIL import Image\n",
    "\n",
    "# Email\n",
    "import smtplib\n",
    "from email.mime.multipart import MIMEMultipart"
   ]
  },
  {
   "cell_type": "markdown",
   "metadata": {},
   "source": [
    "### Connect to the web"
   ]
  },
  {
   "cell_type": "code",
   "execution_count": 4,
   "metadata": {},
   "outputs": [],
   "source": [
    "# Opens empty web browser of your choice\n",
    "# browser = webdriver.Firefox()\n",
    "browser = webdriver.Chrome()"
   ]
  },
  {
   "cell_type": "markdown",
   "metadata": {},
   "source": [
    "Inspect the element we want to start working on and check the tags related to it.\n",
    "\n",
    "It has a 'label' tag with 'id = flight-type-roundtrip-label-hp-flight'. This is the tag we will use to device on the ticket type.\n",
    "\n",
    "Here are the tags below for each different ticket type id. Store the tags and ids.\n",
    "\n",
    "_Note: You can right click the element and copy the XPATH. The roundtrip result would be copied and it will be something like this: \"//*[@id=\"flight-type-roundtrip-label-hp-flight\"]\"_"
   ]
  },
  {
   "cell_type": "code",
   "execution_count": 5,
   "metadata": {},
   "outputs": [],
   "source": [
    "# Set ticket types\n",
    "return_ticket = \"//label[@id='flight-type-roundtrip-label-hp-flight']\"\n",
    "one_way_ticket = \"//label[@id='flight-type-one-way-label-hp-flight']\""
   ]
  },
  {
   "cell_type": "markdown",
   "metadata": {},
   "source": [
    "### Define a function to choose a roundtrip or one way ticket."
   ]
  },
  {
   "cell_type": "code",
   "execution_count": 6,
   "metadata": {},
   "outputs": [],
   "source": [
    "# Define a new function\n",
    "def choose_ticket(ticket):\n",
    "    '''\n",
    "    Try to click the button to choose the ticket type\n",
    "    '''\n",
    "    try:\n",
    "        ticket_type = browser.find_element_by_xpath(ticket)\n",
    "        time.sleep(1.0)\n",
    "        ticket_type.click()\n",
    "    except Exception as e:\n",
    "        pass"
   ]
  },
  {
   "cell_type": "markdown",
   "metadata": {},
   "source": [
    "### Define a function to choose departure the airport/city\n",
    "\n",
    "The function will perform the following steps:\n",
    "1. Type in the departure airport/city\n",
    "2. Choose the first value from the drop-down menu"
   ]
  },
  {
   "cell_type": "code",
   "execution_count": 7,
   "metadata": {},
   "outputs": [],
   "source": [
    "# Define a new function\n",
    "def choose_departure_city(airport):\n",
    "    '''\n",
    "    Click flying from box, input airport, and select the first choice from the drop-down menu\n",
    "    '''\n",
    "    # Find departure box using the element's tags and attributes\n",
    "    fly_from = browser.find_element_by_xpath(\"//input[@id='flight-origin-hp-flight']\")\n",
    "    time.sleep(1.5)\n",
    "    \n",
    "    # Clear any value written in the field\n",
    "    fly_from.clear()\n",
    "    time.sleep(2.0)\n",
    "    \n",
    "    # Type in the airport that will be passed into the function using .sendkeys()\n",
    "    fly_from.send_keys('  ' + airport)\n",
    "    time.sleep(1.0)\n",
    "    \n",
    "    # Get XPATH from the dropdown after passing the airport value\n",
    "    first_item = browser.find_element_by_xpath(\"//a[@id='aria-option-0']\")\n",
    "    time.sleep(1.5)\n",
    "    \n",
    "    # Click the first value\n",
    "    first_item.click()"
   ]
  },
  {
   "cell_type": "markdown",
   "metadata": {},
   "source": [
    "### Define a function to choose arrival the airport/city\n",
    "\n",
    "The function will perform the following steps:\n",
    "1. Type in the arrival airport/city\n",
    "2. Choose the first value from the drop-down menu"
   ]
  },
  {
   "cell_type": "code",
   "execution_count": 8,
   "metadata": {},
   "outputs": [],
   "source": [
    "# Define a new function\n",
    "def choose_arrival_city(airport):\n",
    "    '''\n",
    "    Click flying from box, input airport, and select the first choice from the drop-down menu\n",
    "    '''\n",
    "    # Find departure box using the element's tags and attributes\n",
    "    fly_to = browser.find_element_by_xpath(\"//input[@id='flight-destination-hp-flight']\")\n",
    "    time.sleep(1.5)\n",
    "    \n",
    "    # Clear any value written in the field\n",
    "    fly_to.clear()\n",
    "    time.sleep(2.0)\n",
    "    \n",
    "    # Type in the airport that will be passed into the function using .sendkeys()\n",
    "    fly_to.send_keys('  ' + airport)\n",
    "    time.sleep(1.0)\n",
    "    \n",
    "    # Get XPATH from the dropdown after passing the airport value\n",
    "    first_item = browser.find_element_by_xpath(\"//a[@id='aria-option-0']\")\n",
    "    time.sleep(1.5)\n",
    "    \n",
    "    # Click the first value\n",
    "    first_item.click()"
   ]
  },
  {
   "cell_type": "markdown",
   "metadata": {},
   "source": [
    "### Define a function to choose the departure date\n",
    "\n",
    "The function will perform the following steps:\n",
    "1. Find the date element on the web page\n",
    "2. Clear every value\n",
    "3. Type in the date in this specific format: mm/dd/yyyy"
   ]
  },
  {
   "cell_type": "code",
   "execution_count": 9,
   "metadata": {},
   "outputs": [],
   "source": [
    "# Define a new function\n",
    "def choose_departure_date(month, day, year):\n",
    "    '''\n",
    "    Function will select each individual part of the departure date\n",
    "    '''\n",
    "    # Find date using the element's tags and attributes\n",
    "    dep_date = browser.find_element_by_xpath(\"//input[@id='flight-departing-hp-flight']\")\n",
    "    \n",
    "    # Clear any value in the field\n",
    "    dep_date.clear()\n",
    "    \n",
    "    # Type in the date that will be passed into the function using .sendkeys() \n",
    "    dep_date.send_keys(month + '/' + day + '/' + year)"
   ]
  },
  {
   "cell_type": "markdown",
   "metadata": {},
   "source": [
    "### Define a function to choose the return date"
   ]
  },
  {
   "cell_type": "code",
   "execution_count": 10,
   "metadata": {},
   "outputs": [],
   "source": [
    "# Define a new function\n",
    "def choose_return_date(month, day, year):\n",
    "    '''\n",
    "    Function will select each individual part of the return date\n",
    "    '''\n",
    "    # Find date using the element's tag and attributes\n",
    "    ret_date = browser.find_element_by_xpath(\"//input[@id='flight-returning-hp-flight']\")\n",
    "    \n",
    "#     # Clear any value in the field\n",
    "#     ret_date.clear()\n",
    "    \n",
    "#     # Type in the date that will be passed into the function\n",
    "#     ret_date.send_keys(month + '/' + day + '/' + year)\n",
    "\n",
    "    for i in range(11):\n",
    "        ret_date.send_keys(Keys.BACKSPACE)\n",
    "    ret_date.send_keys(month + '/' + day + '/' + year)"
   ]
  },
  {
   "cell_type": "markdown",
   "metadata": {},
   "source": [
    "### Search"
   ]
  },
  {
   "cell_type": "code",
   "execution_count": 12,
   "metadata": {},
   "outputs": [],
   "source": [
    "# Define a function that will click the search button\n",
    "def search():\n",
    "    '''\n",
    "    Function will now press the select button after inputting all of the values and load the next page\n",
    "    '''\n",
    "    # Find search element's tag and attributes\n",
    "    search = browser.find_element_by_xpath(\"//button[@class='btn-primary btn-action gcw-submit']\")\n",
    "    \n",
    "    # Click the button and wait for the page to load\n",
    "    search.click()\n",
    "    time.sleep(10)\n",
    "    \n",
    "    # Result\n",
    "    print('Search results are loaded.')"
   ]
  },
  {
   "cell_type": "markdown",
   "metadata": {},
   "source": [
    "### Get the data\n",
    "\n",
    "Now that we have loaded the search results, we can proceed to the next steps in gathering the data so we could use it. Here are the steps in the following cell:\n",
    "1. Create an empty df\n",
    "2. Create variables for all of the flight attributes and store it in a list\n",
    "3. Find all the elements for an attribute\n",
    "4. Store the elements in the related variable created in the list before\n",
    "5. Create lists side by side as columns into the dataframe\n",
    "6. Save the dataframe to an Excel sheet"
   ]
  },
  {
   "cell_type": "code",
   "execution_count": null,
   "metadata": {},
   "outputs": [],
   "source": [
    "# Create an empty df\n",
    "df = pd.DataFrame()\n",
    "\n",
    "# Define  function to gather the data calling our functions from before\n",
    "def get_data():\n",
    "    global df\n",
    "    global dep_times_list\n",
    "    global arr_times_list\n",
    "    global airlines_list\n",
    "    global price_list\n",
    "    global durations_list\n",
    "    global stops_list\n",
    "    global layovers_list\n",
    "    \n",
    "    ## Get elements\n",
    "    dep_times = browser.find_elements_by_xpath(\"//span[@data-test-id='departure-time']\")\n",
    "    dep_times_list = [x.text for x in dep_times]\n",
    "    \n",
    "    # Departure times\n",
    "    \n",
    "    # Arrival Times\n",
    "    \n",
    "    # Airline Name\n",
    "    \n",
    "    # Prices\n",
    "    \n",
    "    # Durations\n",
    "    \n",
    "    # Stops\n",
    "    \n",
    "    # Layovers\n",
    "    \n",
    "    \n",
    "    ## Create the data in a structured format\n",
    "    \n",
    "    \n",
    "    \n",
    "    \n",
    "    \n",
    "    \n",
    "    \n",
    "    \n",
    "    \n",
    "    \n",
    "    \n",
    "    "
   ]
  },
  {
   "cell_type": "code",
   "execution_count": null,
   "metadata": {},
   "outputs": [],
   "source": []
  },
  {
   "cell_type": "code",
   "execution_count": null,
   "metadata": {},
   "outputs": [],
   "source": []
  },
  {
   "cell_type": "code",
   "execution_count": null,
   "metadata": {},
   "outputs": [],
   "source": []
  },
  {
   "cell_type": "code",
   "execution_count": null,
   "metadata": {},
   "outputs": [],
   "source": []
  },
  {
   "cell_type": "code",
   "execution_count": null,
   "metadata": {},
   "outputs": [],
   "source": []
  },
  {
   "cell_type": "code",
   "execution_count": null,
   "metadata": {},
   "outputs": [],
   "source": []
  },
  {
   "cell_type": "code",
   "execution_count": null,
   "metadata": {},
   "outputs": [],
   "source": []
  },
  {
   "cell_type": "code",
   "execution_count": null,
   "metadata": {},
   "outputs": [],
   "source": []
  },
  {
   "cell_type": "code",
   "execution_count": null,
   "metadata": {},
   "outputs": [],
   "source": [
    "https://www.learndatasci.com/tutorials/ultimate-guide-web-scraping-w-python-requests-and-beautifulsoup/"
   ]
  }
 ],
 "metadata": {
  "kernelspec": {
   "display_name": "Python 3",
   "language": "python",
   "name": "python3"
  },
  "language_info": {
   "codemirror_mode": {
    "name": "ipython",
    "version": 3
   },
   "file_extension": ".py",
   "mimetype": "text/x-python",
   "name": "python",
   "nbconvert_exporter": "python",
   "pygments_lexer": "ipython3",
   "version": "3.7.3"
  }
 },
 "nbformat": 4,
 "nbformat_minor": 2
}
