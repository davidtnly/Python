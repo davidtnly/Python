{
 "cells": [
  {
   "cell_type": "markdown",
   "metadata": {},
   "source": [
    "# Introduction\n",
    "\n",
    "Create a notebook on how to search through a specific airline website like Expedia or Southwest, find the best flight rates, and send an alert to your email on a timed basis."
   ]
  },
  {
   "cell_type": "markdown",
   "metadata": {},
   "source": [
    "# Instructions\n",
    "\n",
    "1. Connect Python to a web browser and access the airline website\n",
    "2. Choose flights (roundtrip, one way, multi-city)\n",
    "3. Select origin (city or airport of departure)\n",
    "4. Select destination (city or airport of arrival)\n",
    "5. Select departing and returning dates\n",
    "6. Structure the data in a structured format for exploratory data analysis (optional)\n",
    "7. Connect to your email and push an alert every hour"
   ]
  },
  {
   "cell_type": "markdown",
   "metadata": {},
   "source": [
    "# What do I hope to achieve from this?\n",
    "\n",
    "Develop a stronger understanding in working with other types of projects besides machine learning and data analysis. Webscraping is a process of extracting information and data from a website, transforming the information on a webpage into structured data for further analysis. Automation is a powerful skill to have and learning to do so with new data instead of extracting it from CSV files or SQL can be very handy in the future.\n",
    "\n",
    "1. Automate my flight searches from OC to SJ\n",
    "2. Initializing a new project and working from concept to product\n",
    "3. Deploy to Production (optional) "
   ]
  },
  {
   "cell_type": "code",
   "execution_count": null,
   "metadata": {},
   "outputs": [],
   "source": []
  }
 ],
 "metadata": {
  "kernelspec": {
   "display_name": "Python 3",
   "language": "python",
   "name": "python3"
  },
  "language_info": {
   "codemirror_mode": {
    "name": "ipython",
    "version": 3
   },
   "file_extension": ".py",
   "mimetype": "text/x-python",
   "name": "python",
   "nbconvert_exporter": "python",
   "pygments_lexer": "ipython3",
   "version": "3.7.3"
  }
 },
 "nbformat": 4,
 "nbformat_minor": 2
}
