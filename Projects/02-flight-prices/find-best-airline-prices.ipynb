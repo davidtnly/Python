{
 "cells": [
  {
   "cell_type": "markdown",
   "metadata": {},
   "source": [
    "# Introduction\n",
    "\n",
    "Create a notebook on how to search through a specific airline website like Expedia or Southwest, find the best flight rates, and send an alert to your email on a timed basis. This is a nice project done by Aref. On top of emailing, we can store the data into a format that is usable for analysis purposes or historical view."
   ]
  },
  {
   "cell_type": "markdown",
   "metadata": {},
   "source": [
    "# Instructions\n",
    "\n",
    "1. Connect Python to a web browser and access the airline website\n",
    "2. Choose flights (roundtrip, one way, multi-city)\n",
    "3. Select origin (city or airport of departure)\n",
    "4. Select destination (city or airport of arrival)\n",
    "5. Select departing and returning dates\n",
    "6. Structure the data in a structured format for exploratory data analysis (optional)\n",
    "7. Connect to your email and push an alert every hour"
   ]
  },
  {
   "cell_type": "markdown",
   "metadata": {},
   "source": [
    "# What do I hope to achieve from this?\n",
    "\n",
    "Develop a stronger understanding in working with other types of projects besides machine learning and data analysis. Webscraping is a process of extracting information and data from a website, transforming the information on a webpage into structured data for further analysis. Automation is a powerful skill to have and learning to do so with new data instead of extracting it from CSV files or SQL can be very handy in the future.\n",
    "\n",
    "1. Automate my flight searches from OC to SJ\n",
    "2. Initializing a new project and working from concept to product\n",
    "3. Deploy to Production (optional) "
   ]
  },
  {
   "cell_type": "markdown",
   "metadata": {},
   "source": [
    "## Import libraries"
   ]
  },
  {
   "cell_type": "code",
   "execution_count": 5,
   "metadata": {},
   "outputs": [],
   "source": [
    "# Data\n",
    "import pandas as pd\n",
    "\n",
    "# Web\n",
    "from selenium import webdriver\n",
    "from selenium.webdriver.common.by import By\n",
    "from selenium.webdriver.common.keys import Keys\n",
    "\n",
    "# Misc\n",
    "import time\n",
    "import datetime\n",
    "import os\n",
    "from PIL import Image\n",
    "\n",
    "# Email\n",
    "import smtplib\n",
    "from email.mime.multipart import MIMEMultipart"
   ]
  },
  {
   "cell_type": "markdown",
   "metadata": {},
   "source": [
    "### Connect to the web"
   ]
  },
  {
   "cell_type": "code",
   "execution_count": 7,
   "metadata": {},
   "outputs": [],
   "source": [
    "# Opens empty web browser of your choice\n",
    "browser = webdriver.Firefox()\n",
    "# browser = webdriver.Chrome()"
   ]
  },
  {
   "cell_type": "markdown",
   "metadata": {},
   "source": [
    "Inspect the element we want to start working on and check the tags related to it.\n",
    "\n",
    "It has a 'label' tag with 'id = flight-type-roundtrip-label-hp-flight'. This is the tag we will use to device on the ticket type.\n",
    "\n",
    "Here are the tags below for each different ticket type id. Store the tags and ids.\n",
    "\n",
    "_Note: You can right click the element and copy the XPATH. The roundtrip result would be copied and it will be something like this: \"//*[@id=\"flight-type-roundtrip-label-hp-flight\"]\"_"
   ]
  },
  {
   "cell_type": "code",
   "execution_count": 9,
   "metadata": {},
   "outputs": [],
   "source": [
    "# Set ticket types\n",
    "return_ticket = \"//label[@id='flight-type-roundtrip-label-hp-flight']\"\n",
    "one_way_ticket = \"//label[@id='flight-type-one-way-label-hp-flight']\""
   ]
  },
  {
   "cell_type": "markdown",
   "metadata": {},
   "source": [
    "### Define a function to choose a roundtrip or one way ticket."
   ]
  },
  {
   "cell_type": "code",
   "execution_count": 10,
   "metadata": {},
   "outputs": [],
   "source": [
    "# Define a new function\n",
    "def choose_ticket(ticket):\n",
    "    '''\n",
    "    Try to click the button to choose the ticket type\n",
    "    '''\n",
    "    try:\n",
    "        ticket_type = browser.find_element_by_xpath(ticket)\n",
    "        time.sleep(1.0)\n",
    "        ticket_type.click()\n",
    "    except Exception as e:\n",
    "        pass"
   ]
  },
  {
   "cell_type": "markdown",
   "metadata": {},
   "source": [
    "### Define a function to choose departure the airport/city\n",
    "\n",
    "The function will perform the following steps:\n",
    "1. Type in the departure airport/city\n",
    "2. Choose the first value from the drop-down menu"
   ]
  },
  {
   "cell_type": "code",
   "execution_count": 13,
   "metadata": {},
   "outputs": [],
   "source": [
    "# Define a new function\n",
    "def choose_departure(airport):\n",
    "    '''\n",
    "    Click flying from box, input airport, and select the first choice from the drop-down menu\n",
    "    '''\n",
    "    # Find departure box using the element's tags and attributes\n",
    "    fly_from = browser.find_element_by_xpath(\"//input[@id='flight-origin-hp-flight']\")\n",
    "    time.sleep(1.5)\n",
    "    \n",
    "    # Clear any value written in the field\n",
    "    fly_from.clear()\n",
    "    time.sleep(2.0)\n",
    "    \n",
    "    # Type in the airport that will be passed into the function using .sendkeys()\n",
    "    fly_from.send_keys('  ' + airport)\n",
    "    time.sleep(1.0)\n",
    "    \n",
    "    # Get XPATH from the dropdown after passing the airport value\n",
    "    first_item = browser.find_element_by_xpath(\"//a[@id='aria-option-0']\")\n",
    "    time.sleep(1.5)\n",
    "    \n",
    "    # Click the first value\n",
    "    first_item.click()"
   ]
  },
  {
   "cell_type": "markdown",
   "metadata": {},
   "source": [
    "### Define a function to choose arrival the airport/city\n",
    "\n",
    "The function will perform the following steps:\n",
    "1. Type in the arrival airport/city\n",
    "2. Choose the first value from the drop-down menu"
   ]
  },
  {
   "cell_type": "code",
   "execution_count": 15,
   "metadata": {},
   "outputs": [],
   "source": [
    "# Define a new function\n",
    "def choose_arrival(airport):\n",
    "    '''\n",
    "    Click flying from box, input airport, and select the first choice from the drop-down menu\n",
    "    '''\n",
    "    # Find departure box using the element's tags and attributes\n",
    "    fly_to = browser.find_element_by_xpath(\"//input[@id='flight-destination-hp-flight']\")\n",
    "    time.sleep(1.5)\n",
    "    \n",
    "    # Clear any value written in the field\n",
    "    fly_to.clear()\n",
    "    time.sleep(2.0)\n",
    "    \n",
    "    # Type in the airport that will be passed into the function using .sendkeys()\n",
    "    fly_to.send_keys('  ' + airport)\n",
    "    time.sleep(1.0)\n",
    "    \n",
    "    # Get XPATH from the dropdown after passing the airport value\n",
    "    first_item = browser.find_element_by_xpath(\"//a[@id='aria-option-0']\")\n",
    "    time.sleep(1.5)\n",
    "    \n",
    "    # Click the first value\n",
    "    first_item.click()"
   ]
  },
  {
   "cell_type": "markdown",
   "metadata": {},
   "source": [
    "### Define a function to choose the departure date"
   ]
  },
  {
   "cell_type": "code",
   "execution_count": null,
   "metadata": {},
   "outputs": [],
   "source": []
  },
  {
   "cell_type": "markdown",
   "metadata": {},
   "source": [
    "### Define a function to choose the arrival date"
   ]
  },
  {
   "cell_type": "code",
   "execution_count": null,
   "metadata": {},
   "outputs": [],
   "source": []
  },
  {
   "cell_type": "markdown",
   "metadata": {},
   "source": [
    "### Results"
   ]
  },
  {
   "cell_type": "code",
   "execution_count": null,
   "metadata": {},
   "outputs": [],
   "source": []
  },
  {
   "cell_type": "code",
   "execution_count": null,
   "metadata": {},
   "outputs": [],
   "source": []
  }
 ],
 "metadata": {
  "kernelspec": {
   "display_name": "Python 3",
   "language": "python",
   "name": "python3"
  },
  "language_info": {
   "codemirror_mode": {
    "name": "ipython",
    "version": 3
   },
   "file_extension": ".py",
   "mimetype": "text/x-python",
   "name": "python",
   "nbconvert_exporter": "python",
   "pygments_lexer": "ipython3",
   "version": "3.7.3"
  }
 },
 "nbformat": 4,
 "nbformat_minor": 2
}
