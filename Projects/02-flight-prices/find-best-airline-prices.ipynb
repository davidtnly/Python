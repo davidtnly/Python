{
 "cells": [
  {
   "cell_type": "markdown",
   "metadata": {},
   "source": [
    "# Introduction\n",
    "\n",
    "Create a notebook on how to search through a specific airline website like Expedia or Southwest, find the best flight rates, and send an alert to your email on a timed basis. This is a nice project done by Aref. On top of emailing, we can store the data into a format that is usable for analysis purposes or historical view."
   ]
  },
  {
   "cell_type": "markdown",
   "metadata": {},
   "source": [
    "# Instructions\n",
    "\n",
    "1. Connect Python to a web browser and access the airline website\n",
    "2. Choose flights (roundtrip, one way, multi-city)\n",
    "3. Select origin (city or airport of departure)\n",
    "4. Select destination (city or airport of arrival)\n",
    "5. Select departing and returning dates\n",
    "6. Structure the data in a structured format for exploratory data analysis (optional)\n",
    "7. Connect to your email and push an alert every hour"
   ]
  },
  {
   "cell_type": "markdown",
   "metadata": {},
   "source": [
    "# What do I hope to achieve from this?\n",
    "\n",
    "Develop a stronger understanding in working with other types of projects besides machine learning and data analysis. Webscraping is a process of extracting information and data from a website, transforming the information on a webpage into structured data for further analysis. Automation is a powerful skill to have and learning to do so with new data instead of extracting it from CSV files or SQL can be very handy in the future.\n",
    "\n",
    "1. Automate my flight searches from OC to SJ\n",
    "2. Initializing a new project and working from concept to product\n",
    "3. Deploy to Production (optional) "
   ]
  },
  {
   "cell_type": "markdown",
   "metadata": {},
   "source": [
    "## Import libraries"
   ]
  },
  {
   "cell_type": "code",
   "execution_count": 87,
   "metadata": {},
   "outputs": [],
   "source": [
    "# Data\n",
    "import pandas as pd\n",
    "\n",
    "# Web\n",
    "from selenium import webdriver\n",
    "from selenium.webdriver.common.by import By\n",
    "from selenium.webdriver.common.keys import Keys\n",
    "from bs4 import BeautifulSoup\n",
    "import requests\n",
    "\n",
    "# Misc\n",
    "import time\n",
    "import datetime\n",
    "import os\n",
    "from PIL import Image\n",
    "\n",
    "# Email\n",
    "import smtplib\n",
    "from email.mime.multipart import MIMEMultipart"
   ]
  },
  {
   "cell_type": "markdown",
   "metadata": {},
   "source": [
    "### Connect to the web"
   ]
  },
  {
   "cell_type": "code",
   "execution_count": 53,
   "metadata": {},
   "outputs": [],
   "source": [
    "# Opens empty web browser of your choice\n",
    "browser = webdriver.Firefox()\n",
    "# browser = webdriver.Chrome()"
   ]
  },
  {
   "cell_type": "markdown",
   "metadata": {},
   "source": [
    "Inspect the element we want to start working on and check the tags related to it.\n",
    "\n",
    "It has a 'label' tag with 'id = flight-type-roundtrip-label-hp-flight'. This is the tag we will use to device on the ticket type.\n",
    "\n",
    "Here are the tags below for each different ticket type id. Store the tags and ids.\n",
    "\n",
    "_Note: You can right click the element and copy the XPATH. The roundtrip result would be copied and it will be something like this: \"//*[@id=\"flight-type-roundtrip-label-hp-flight\"]\"_"
   ]
  },
  {
   "cell_type": "code",
   "execution_count": 54,
   "metadata": {},
   "outputs": [],
   "source": [
    "# Set ticket types\n",
    "return_ticket = \"//label[@id='flight-type-roundtrip-label-hp-flight']\"\n",
    "one_way_ticket = \"//label[@id='flight-type-one-way-label-hp-flight']\""
   ]
  },
  {
   "cell_type": "markdown",
   "metadata": {},
   "source": [
    "### Define a function to save HTML locally"
   ]
  },
  {
   "cell_type": "code",
   "execution_count": 84,
   "metadata": {},
   "outputs": [],
   "source": [
    "sample_link = 'https://www.expedia.com/Flights-Search?flight-type=on&starDate=07%2F11%2F2019&endDate=07%2F11%2F2019&mode=search&trip=roundtrip&leg1=from%3AOrange+County%2C+CA+%28SNA-John+Wayne%29%2Cto%3ASan+Jose%2C+CA+%28SJC-Norman+Y.+Mineta+San+Jose+Intl.%29%2Cdeparture%3A07%2F11%2F2019TANYT&leg2=from%3ASan+Jose%2C+CA+%28SJC-Norman+Y.+Mineta+San+Jose+Intl.%29%2Cto%3AOrange+County%2C+CA+%28SNA-John+Wayne%29%2Cdeparture%3A07%2F11%2F2019TANYT&passengers=children%3A0%2Cadults%3A1%2Cseniors%3A0%2Cinfantinlap%3AY'\n",
    "\n",
    "def save_html(html, path):\n",
    "    with open(path, 'wb') as f:\n",
    "        f.write(html)"
   ]
  },
  {
   "cell_type": "code",
   "execution_count": 88,
   "metadata": {},
   "outputs": [],
   "source": [
    "r = requests.get(sample_link)\n",
    "save_html(r.content, 'expedia_link')"
   ]
  },
  {
   "cell_type": "markdown",
   "metadata": {},
   "source": [
    "### Open content"
   ]
  },
  {
   "cell_type": "code",
   "execution_count": 89,
   "metadata": {},
   "outputs": [],
   "source": [
    "def open_html(path):\n",
    "    with open(path, 'rb') as f:\n",
    "        return f.read()\n",
    "    \n",
    "html = open_html('expedia_link')"
   ]
  },
  {
   "cell_type": "markdown",
   "metadata": {},
   "source": [
    "### Define a function to choose a roundtrip or one way ticket."
   ]
  },
  {
   "cell_type": "code",
   "execution_count": 55,
   "metadata": {},
   "outputs": [],
   "source": [
    "# Define a new function\n",
    "def choose_ticket(ticket):\n",
    "    '''\n",
    "    Try to click the button to choose the ticket type\n",
    "    '''\n",
    "    try:\n",
    "        ticket_type = browser.find_element_by_xpath(ticket)\n",
    "        time.sleep(1.0)\n",
    "        ticket_type.click()\n",
    "    except Exception as e:\n",
    "        pass"
   ]
  },
  {
   "cell_type": "markdown",
   "metadata": {},
   "source": [
    "### Define a function to choose departure the airport/city\n",
    "\n",
    "The function will perform the following steps:\n",
    "1. Type in the departure airport/city\n",
    "2. Choose the first value from the drop-down menu"
   ]
  },
  {
   "cell_type": "code",
   "execution_count": 56,
   "metadata": {},
   "outputs": [],
   "source": [
    "# Define a new function\n",
    "def choose_departure_city(airport):\n",
    "    '''\n",
    "    Click flying from box, input airport, and select the first choice from the drop-down menu\n",
    "    '''\n",
    "    # Find departure box using the element's tags and attributes\n",
    "    fly_from = browser.find_element_by_xpath(\"//input[@id='flight-origin-hp-flight']\")\n",
    "    time.sleep(1.5)\n",
    "    \n",
    "    # Clear any value written in the field\n",
    "    fly_from.clear()\n",
    "    time.sleep(2.0)\n",
    "    \n",
    "    # Type in the airport that will be passed into the function using .sendkeys()\n",
    "    fly_from.send_keys('  ' + airport)\n",
    "    time.sleep(1.0)\n",
    "    \n",
    "    # Get XPATH from the dropdown after passing the airport value\n",
    "    first_item = browser.find_element_by_xpath(\"//a[@id='aria-option-0']\")\n",
    "    time.sleep(1.5)\n",
    "    \n",
    "    # Click the first value\n",
    "    first_item.click()"
   ]
  },
  {
   "cell_type": "markdown",
   "metadata": {},
   "source": [
    "### Define a function to choose arrival the airport/city\n",
    "\n",
    "The function will perform the following steps:\n",
    "1. Type in the arrival airport/city\n",
    "2. Choose the first value from the drop-down menu"
   ]
  },
  {
   "cell_type": "code",
   "execution_count": 57,
   "metadata": {},
   "outputs": [],
   "source": [
    "# Define a new function\n",
    "def choose_arrival_city(airport):\n",
    "    '''\n",
    "    Click flying from box, input airport, and select the first choice from the drop-down menu\n",
    "    '''\n",
    "    # Find departure box using the element's tags and attributes\n",
    "    fly_to = browser.find_element_by_xpath(\"//input[@id='flight-destination-hp-flight']\")\n",
    "    time.sleep(1.5)\n",
    "    \n",
    "    # Clear any value written in the field\n",
    "    fly_to.clear()\n",
    "    time.sleep(2.0)\n",
    "    \n",
    "    # Type in the airport that will be passed into the function using .sendkeys()\n",
    "    fly_to.send_keys('  ' + airport)\n",
    "    time.sleep(1.0)\n",
    "    \n",
    "    # Get XPATH from the dropdown after passing the airport value\n",
    "    first_item = browser.find_element_by_xpath(\"//a[@id='aria-option-0']\")\n",
    "    time.sleep(1.5)\n",
    "    \n",
    "    # Click the first value\n",
    "    first_item.click()"
   ]
  },
  {
   "cell_type": "markdown",
   "metadata": {},
   "source": [
    "### Define a function to choose the departure date\n",
    "\n",
    "The function will perform the following steps:\n",
    "1. Find the date element on the web page\n",
    "2. Clear every value\n",
    "3. Type in the date in this specific format: mm/dd/yyyy"
   ]
  },
  {
   "cell_type": "code",
   "execution_count": 58,
   "metadata": {},
   "outputs": [],
   "source": [
    "# Define a new function\n",
    "def choose_departure_date(month, day, year):\n",
    "    '''\n",
    "    Function will select each individual part of the departure date\n",
    "    '''\n",
    "    # Find date using the element's tags and attributes\n",
    "    dep_date = browser.find_element_by_xpath(\"//input[@id='flight-departing-hp-flight']\")\n",
    "    \n",
    "    # Clear any value in the field\n",
    "    dep_date.clear()\n",
    "    \n",
    "    # Type in the date that will be passed into the function using .sendkeys() \n",
    "    dep_date.send_keys(month + '/' + day + '/' + year)"
   ]
  },
  {
   "cell_type": "markdown",
   "metadata": {},
   "source": [
    "### Define a function to choose the return date"
   ]
  },
  {
   "cell_type": "code",
   "execution_count": 59,
   "metadata": {},
   "outputs": [],
   "source": [
    "# Define a new function\n",
    "def choose_return_date(month, day, year):\n",
    "    '''\n",
    "    Function will select each individual part of the return date\n",
    "    '''\n",
    "    # Find date using the element's tag and attributes\n",
    "    ret_date = browser.find_element_by_xpath(\"//input[@id='flight-returning-hp-flight']\")\n",
    "    \n",
    "#     # Clear any value in the field\n",
    "#     ret_date.clear()\n",
    "    \n",
    "#     # Type in the date that will be passed into the function\n",
    "#     ret_date.send_keys(month + '/' + day + '/' + year)\n",
    "\n",
    "    for i in range(11):\n",
    "        ret_date.send_keys(Keys.BACKSPACE)\n",
    "    ret_date.send_keys(month + '/' + day + '/' + year)"
   ]
  },
  {
   "cell_type": "markdown",
   "metadata": {},
   "source": [
    "### Search"
   ]
  },
  {
   "cell_type": "code",
   "execution_count": 60,
   "metadata": {},
   "outputs": [],
   "source": [
    "# Define a function that will click the search button\n",
    "def search():\n",
    "    '''\n",
    "    Function will now press the select button after inputting all of the values and load the next page\n",
    "    '''\n",
    "    # Find search element's tag and attributes\n",
    "    search = browser.find_element_by_xpath(\"//button[@class='btn-primary btn-action gcw-submit']\")\n",
    "    \n",
    "    # Click the button and wait for the page to load\n",
    "    search.click()\n",
    "    time.sleep(10)\n",
    "    \n",
    "    # Result\n",
    "    print('Search results are loaded.')"
   ]
  },
  {
   "cell_type": "markdown",
   "metadata": {},
   "source": [
    "### Get the data\n",
    "\n",
    "Now that we have loaded the search results, we can proceed to the next steps in gathering the data so we could use it. Here are the steps in the following cell:\n",
    "1. Create an empty df\n",
    "2. Create variables for all of the flight attributes and store it in a list\n",
    "3. Find all the elements for an attribute\n",
    "4. Store the elements in the related variable created in the list before\n",
    "5. Create lists side by side as columns into the dataframe\n",
    "6. Save the dataframe to an Excel sheet"
   ]
  },
  {
   "cell_type": "code",
   "execution_count": 61,
   "metadata": {},
   "outputs": [],
   "source": [
    "# Create an empty df\n",
    "df = pd.DataFrame()\n",
    "\n",
    "# Define  function to gather the data calling our functions from before\n",
    "def get_data():\n",
    "    global df\n",
    "    global dep_times_list\n",
    "    global arr_times_list\n",
    "    global airlines_list\n",
    "    global price_list\n",
    "    global durations_list\n",
    "    global stops_list\n",
    "    global layovers_list\n",
    "    \n",
    "    ## Get elements\n",
    "    \n",
    "    # Departure times\n",
    "    dep_times = browser.find_elements_by_xpath(\"//span[@data-test-id='departure-time']\")\n",
    "    dep_times_list = [x.text for x in dep_times]\n",
    "    \n",
    "    # Arrival Times\n",
    "    arr_times = browser.find_elements_by_xpath(\"//span[@data-test-id='arrival-time']\")\n",
    "    arr_times_list = [x.text for x in arr_times]\n",
    "    \n",
    "    # Airline Names\n",
    "    airlines = browser.find_elements_by_xpath(\"//span[@data-test-id='airline-name']\")\n",
    "    airlines_list = [x.text for x in airlines]\n",
    "    \n",
    "    # Prices\n",
    "    prices = browser.find_elements_by_xpath(\"//span[@data-test-id='listing-price-dollars']\")\n",
    "    prices_list = [x.text.split('')[1] for x in prices]\n",
    "                                   \n",
    "    # Durations\n",
    "    durations = browser.find_elements_by_xpath(\"//span[@data-test-id='duration']\")\n",
    "    durations_list = [x.text for x in durations]\n",
    "    \n",
    "    # Stops\n",
    "    stops = browser.find_elements_by_xpath(\"//span[@class='number-stops']\")\n",
    "    stops_list = [x.text for x in stops]\n",
    "    \n",
    "    # Layovers\n",
    "    layovers = browser.find_elements_by_xpath(\"//span[@data-test-id='layover-airport-stops']\")\n",
    "    layovers_list = [x.text for x in layovers]  \n",
    "    \n",
    "    ## Create the data in a structured format\n",
    "    \n",
    "    # Get current datetime\n",
    "    now = datetime.datetime.now()\n",
    "    \n",
    "    # Partition dates as yyyy-mm-dd\n",
    "    current_date = (str(now.year) + '-' + str(now.month) + '-' + str(now.day))\n",
    "    current_time = (str(now.hour) + ':' + str(now.minute))\n",
    "    \n",
    "    # Update current_price name with every call\n",
    "    current_price = 'price' + '(' + current_date + '---' + current_time + ')'\n",
    "    \n",
    "    # Loop through every list\n",
    "    for i in range(len(dep_times_list)):\n",
    "        try:\n",
    "            df.loc[i, 'departure_time'] = dep_times_list[i]\n",
    "        except Exception as e:\n",
    "            pass\n",
    "        try:\n",
    "            df.loc[i, 'arrival_time'] = arr_times_lies[i]\n",
    "        except Exception as e:\n",
    "            pass\n",
    "        try:\n",
    "            df.loc[i, 'airline'] = airlines_list[i]\n",
    "        except Exception as e:\n",
    "            pass\n",
    "        try:\n",
    "            df.loc[i, 'duration'] = durations_list[i]\n",
    "        except Exception as e:\n",
    "            pass\n",
    "        try:\n",
    "            df.loc[i, 'stops'] = stops_list[i]\n",
    "        except Exception as e:\n",
    "            pass\n",
    "        try:\n",
    "            df.loc[i, 'layovers'] = layovers_list[i]\n",
    "        except Exception as e:\n",
    "            pass\n",
    "        try:\n",
    "            df.loc[i, str(current_price)] = price_list[i]\n",
    "        except Exception as e:\n",
    "            pass\n",
    "        \n",
    "    print('Finished appending data.')\n"
   ]
  },
  {
   "cell_type": "code",
   "execution_count": 103,
   "metadata": {},
   "outputs": [],
   "source": [
    "# Test out a chunk to see if it's working as intended\n",
    "\n",
    "testurl = 'https://www.expedia.com/Flights-Search?flight-type=on&starDate=07%2F11%2F2019&endDate=07%2F11%2F2019&mode=search&trip=roundtrip&leg1=from%3AOrange+County%2C+CA+%28SNA-John+Wayne%29%2Cto%3ASan+Jose%2C+CA+%28SJC-Norman+Y.+Mineta+San+Jose+Intl.%29%2Cdeparture%3A07%2F11%2F2019TANYT&leg2=from%3ASan+Jose%2C+CA+%28SJC-Norman+Y.+Mineta+San+Jose+Intl.%29%2Cto%3AOrange+County%2C+CA+%28SNA-John+Wayne%29%2Cdeparture%3A07%2F11%2F2019TANYT&passengers=children%3A0%2Cadults%3A1%2Cseniors%3A0%2Cinfantinlap%3AY'\n",
    "browser = webdriver.Firefox()\n",
    "\n",
    "browser.get(testurl)\n",
    "time.sleep(3)\n",
    "\n",
    "ppp = browser.find_elements_by_xpath(\"//span[@data-test-id='listing-price-dollars']\")"
   ]
  },
  {
   "cell_type": "code",
   "execution_count": 104,
   "metadata": {},
   "outputs": [
    {
     "data": {
      "text/plain": [
       "[<selenium.webdriver.firefox.webelement.FirefoxWebElement (session=\"d9689712-c2ed-4133-a887-1e9f4dd71e85\", element=\"32fabc2d-3270-4ea0-af48-88cddcd5add0\")>,\n",
       " <selenium.webdriver.firefox.webelement.FirefoxWebElement (session=\"d9689712-c2ed-4133-a887-1e9f4dd71e85\", element=\"f3402c6a-9d94-4e57-a67a-d13a49790567\")>,\n",
       " <selenium.webdriver.firefox.webelement.FirefoxWebElement (session=\"d9689712-c2ed-4133-a887-1e9f4dd71e85\", element=\"bc5d8313-ba67-4786-9d3d-ee6408d1ff72\")>,\n",
       " <selenium.webdriver.firefox.webelement.FirefoxWebElement (session=\"d9689712-c2ed-4133-a887-1e9f4dd71e85\", element=\"5b6e87cd-4bd6-4387-b5e2-18d8f8983bf6\")>,\n",
       " <selenium.webdriver.firefox.webelement.FirefoxWebElement (session=\"d9689712-c2ed-4133-a887-1e9f4dd71e85\", element=\"0178b802-0e19-45ee-9856-6693eacbbdc3\")>,\n",
       " <selenium.webdriver.firefox.webelement.FirefoxWebElement (session=\"d9689712-c2ed-4133-a887-1e9f4dd71e85\", element=\"8b44c54d-a66e-4c45-9527-2a3ca8dbd33c\")>,\n",
       " <selenium.webdriver.firefox.webelement.FirefoxWebElement (session=\"d9689712-c2ed-4133-a887-1e9f4dd71e85\", element=\"d007d96b-2bf1-4a61-82b4-dae7faa7f35a\")>,\n",
       " <selenium.webdriver.firefox.webelement.FirefoxWebElement (session=\"d9689712-c2ed-4133-a887-1e9f4dd71e85\", element=\"00e05f60-b656-4324-9bd5-2d7bb451dd86\")>,\n",
       " <selenium.webdriver.firefox.webelement.FirefoxWebElement (session=\"d9689712-c2ed-4133-a887-1e9f4dd71e85\", element=\"cd2367f0-0afe-4403-b576-91fb7dcaf3b6\")>,\n",
       " <selenium.webdriver.firefox.webelement.FirefoxWebElement (session=\"d9689712-c2ed-4133-a887-1e9f4dd71e85\", element=\"f7331913-9b8f-4e0e-b754-06f78250cb30\")>,\n",
       " <selenium.webdriver.firefox.webelement.FirefoxWebElement (session=\"d9689712-c2ed-4133-a887-1e9f4dd71e85\", element=\"4fd7442e-e0bd-43bb-9e12-56cf7a91d795\")>,\n",
       " <selenium.webdriver.firefox.webelement.FirefoxWebElement (session=\"d9689712-c2ed-4133-a887-1e9f4dd71e85\", element=\"4c2d8c1f-5766-497b-8482-e07f56fd8a33\")>,\n",
       " <selenium.webdriver.firefox.webelement.FirefoxWebElement (session=\"d9689712-c2ed-4133-a887-1e9f4dd71e85\", element=\"e279d6d4-b6d3-4bec-bee0-b1707bfa99c6\")>,\n",
       " <selenium.webdriver.firefox.webelement.FirefoxWebElement (session=\"d9689712-c2ed-4133-a887-1e9f4dd71e85\", element=\"3f0bfd76-054e-4025-b6e2-a8ea1809ffd4\")>,\n",
       " <selenium.webdriver.firefox.webelement.FirefoxWebElement (session=\"d9689712-c2ed-4133-a887-1e9f4dd71e85\", element=\"1ceb3b49-3964-40c0-a286-86ed60d5386a\")>,\n",
       " <selenium.webdriver.firefox.webelement.FirefoxWebElement (session=\"d9689712-c2ed-4133-a887-1e9f4dd71e85\", element=\"1f175cb3-9b32-4452-abba-737626ac838d\")>,\n",
       " <selenium.webdriver.firefox.webelement.FirefoxWebElement (session=\"d9689712-c2ed-4133-a887-1e9f4dd71e85\", element=\"cf627825-b46e-4d5c-8789-808c780e9d47\")>,\n",
       " <selenium.webdriver.firefox.webelement.FirefoxWebElement (session=\"d9689712-c2ed-4133-a887-1e9f4dd71e85\", element=\"ac301f51-6bf1-4d9b-b2bb-50c6bb61831c\")>,\n",
       " <selenium.webdriver.firefox.webelement.FirefoxWebElement (session=\"d9689712-c2ed-4133-a887-1e9f4dd71e85\", element=\"f3d0100b-4bd2-4edf-9c37-52a3e054adaa\")>]"
      ]
     },
     "execution_count": 104,
     "metadata": {},
     "output_type": "execute_result"
    }
   ],
   "source": [
    "ppp\n",
    "# browser = webdriver.Firefox()\n",
    "# time.sleep(3)\n",
    "\n",
    "# r = requests.get(testurl)\n",
    "# print(r.content[:100])\n",
    "# soup = BeautifulSoup(r.content, 'html.parser')\n",
    "\n",
    "# soup.find_all('div', attrs={'class': 'full-bold no-wrap'})"
   ]
  },
  {
   "cell_type": "markdown",
   "metadata": {},
   "source": [
    "### Setting up email\n",
    "\n",
    "Now that we have selected our ticket and flight information and added the data to a dataframe, we can start working on our emailing functions.\n",
    "\n",
    "1. Connect to Gmail\n",
    "    - Use environmental variables to hide your login information\n",
    "2. Create the email message\n",
    "3. Send the email"
   ]
  },
  {
   "cell_type": "code",
   "execution_count": 63,
   "metadata": {},
   "outputs": [],
   "source": [
    "# Store login information\n",
    "gmail_user = os.environ.get('gmail_user')\n",
    "gmail_pass = os.environ.get('gmail_pass')"
   ]
  },
  {
   "cell_type": "code",
   "execution_count": 64,
   "metadata": {},
   "outputs": [],
   "source": [
    "# Define a function to connect to your email\n",
    "def connect_email(user, pw):\n",
    "    global server\n",
    "    \n",
    "    '''\n",
    "    Python conveniently comes with the smtplib, which handles all of the different parts of the protocol, like \n",
    "    connecting, authenticating, validation, and of course, sending emails.\n",
    "    \n",
    "    The protocol for mail submission actually uses 587, which is what we will use.\n",
    "    '''\n",
    "    try:\n",
    "        server = smtplib.SMTP('smtp.gmail.com', 587)\n",
    "        \n",
    "        # Use ehlo which identifies you to the SMTP server\n",
    "        server.ehlo()\n",
    "        \n",
    "        # Secure the SMTP connection; create an insecure connection and upgrade to TLS\n",
    "        server.starttls()\n",
    "        \n",
    "        # Login with credentials\n",
    "        server.login(user, pw)\n",
    "    except:\n",
    "        print('Something went wrong...')\n",
    "    "
   ]
  },
  {
   "cell_type": "code",
   "execution_count": 65,
   "metadata": {},
   "outputs": [],
   "source": [
    "# Define a function to create the message\n",
    "def create_message():\n",
    "    global msg\n",
    "    \n",
    "    # Create a variable that will append every data field we need\n",
    "    msg = '\\nCurrent Cheapest flight:\\n\\nDeparture time: {}\\nArrival time: {}\\nAirline: {}\\nFlight duration: {}\\nNo. of stops: {}\\nPrice: {}\\n'.format(cheapest_dep_time,\n",
    "                       cheapest_arrival_time,\n",
    "                       cheapest_airline,\n",
    "                       cheapest_duration,\n",
    "                       cheapest_stops,\n",
    "                       cheapest_price)"
   ]
  },
  {
   "cell_type": "code",
   "execution_count": 66,
   "metadata": {},
   "outputs": [],
   "source": [
    "# Define a function to send the email\n",
    "def send_email(msg):\n",
    "    global message\n",
    "\n",
    "    message = MIMEMultipart()\n",
    "    message['Subject'] = 'Current Best Flight from OC to SJ'\n",
    "    message['From'] = gmail_user\n",
    "    message['to'] = gmail_user\n",
    "    server.sendmail(gmail_user, gmail_user, msg)"
   ]
  },
  {
   "cell_type": "markdown",
   "metadata": {},
   "source": [
    "### Run the script now"
   ]
  },
  {
   "cell_type": "code",
   "execution_count": 67,
   "metadata": {},
   "outputs": [
    {
     "name": "stdout",
     "output_type": "stream",
     "text": [
      "Opening browser... [1/10]\n",
      "Finding flight element... [2/10]\n",
      "Choosing ticket type... [3/10]\n",
      "Submitting departing city... [4/10]\n",
      "Submitting arrival city... [5/10]\n",
      "Submitting departure date... [6/10]\n",
      "Submitting return date... [7/10]\n",
      "Search results are loaded.\n"
     ]
    },
    {
     "ename": "IndexError",
     "evalue": "list index out of range",
     "output_type": "error",
     "traceback": [
      "\u001b[1;31m---------------------------------------------------------------------------\u001b[0m",
      "\u001b[1;31mIndexError\u001b[0m                                Traceback (most recent call last)",
      "\u001b[1;32m<ipython-input-67-50624580d03b>\u001b[0m in \u001b[0;36m<module>\u001b[1;34m\u001b[0m\n\u001b[0;32m     36\u001b[0m     \u001b[1;31m# Search and compile\u001b[0m\u001b[1;33m\u001b[0m\u001b[1;33m\u001b[0m\u001b[1;33m\u001b[0m\u001b[0m\n\u001b[0;32m     37\u001b[0m     \u001b[0msearch\u001b[0m\u001b[1;33m(\u001b[0m\u001b[1;33m)\u001b[0m\u001b[1;33m\u001b[0m\u001b[1;33m\u001b[0m\u001b[0m\n\u001b[1;32m---> 38\u001b[1;33m     \u001b[0mget_data\u001b[0m\u001b[1;33m(\u001b[0m\u001b[1;33m)\u001b[0m\u001b[1;33m\u001b[0m\u001b[1;33m\u001b[0m\u001b[0m\n\u001b[0m\u001b[0;32m     39\u001b[0m \u001b[1;33m\u001b[0m\u001b[0m\n\u001b[0;32m     40\u001b[0m     \u001b[1;31m# Save data to a dataframe\u001b[0m\u001b[1;33m\u001b[0m\u001b[1;33m\u001b[0m\u001b[1;33m\u001b[0m\u001b[0m\n",
      "\u001b[1;32m<ipython-input-61-16ced07c5d32>\u001b[0m in \u001b[0;36mget_data\u001b[1;34m()\u001b[0m\n\u001b[0;32m     29\u001b[0m     \u001b[1;31m# Prices\u001b[0m\u001b[1;33m\u001b[0m\u001b[1;33m\u001b[0m\u001b[1;33m\u001b[0m\u001b[0m\n\u001b[0;32m     30\u001b[0m     \u001b[0mprices\u001b[0m \u001b[1;33m=\u001b[0m \u001b[0mbrowser\u001b[0m\u001b[1;33m.\u001b[0m\u001b[0mfind_elements_by_xpath\u001b[0m\u001b[1;33m(\u001b[0m\u001b[1;34m\"//span[@data-test-id='listing-price-dollars']\"\u001b[0m\u001b[1;33m)\u001b[0m\u001b[1;33m\u001b[0m\u001b[1;33m\u001b[0m\u001b[0m\n\u001b[1;32m---> 31\u001b[1;33m     \u001b[0mprices_list\u001b[0m \u001b[1;33m=\u001b[0m \u001b[1;33m[\u001b[0m\u001b[0mx\u001b[0m\u001b[1;33m.\u001b[0m\u001b[0mtext\u001b[0m\u001b[1;33m.\u001b[0m\u001b[0msplit\u001b[0m\u001b[1;33m(\u001b[0m\u001b[1;34m' '\u001b[0m\u001b[1;33m)\u001b[0m\u001b[1;33m[\u001b[0m\u001b[1;36m1\u001b[0m\u001b[1;33m]\u001b[0m \u001b[1;32mfor\u001b[0m \u001b[0mx\u001b[0m \u001b[1;32min\u001b[0m \u001b[0mprices\u001b[0m\u001b[1;33m]\u001b[0m\u001b[1;33m\u001b[0m\u001b[1;33m\u001b[0m\u001b[0m\n\u001b[0m\u001b[0;32m     32\u001b[0m \u001b[1;33m\u001b[0m\u001b[0m\n\u001b[0;32m     33\u001b[0m     \u001b[1;31m# Durations\u001b[0m\u001b[1;33m\u001b[0m\u001b[1;33m\u001b[0m\u001b[1;33m\u001b[0m\u001b[0m\n",
      "\u001b[1;32m<ipython-input-61-16ced07c5d32>\u001b[0m in \u001b[0;36m<listcomp>\u001b[1;34m(.0)\u001b[0m\n\u001b[0;32m     29\u001b[0m     \u001b[1;31m# Prices\u001b[0m\u001b[1;33m\u001b[0m\u001b[1;33m\u001b[0m\u001b[1;33m\u001b[0m\u001b[0m\n\u001b[0;32m     30\u001b[0m     \u001b[0mprices\u001b[0m \u001b[1;33m=\u001b[0m \u001b[0mbrowser\u001b[0m\u001b[1;33m.\u001b[0m\u001b[0mfind_elements_by_xpath\u001b[0m\u001b[1;33m(\u001b[0m\u001b[1;34m\"//span[@data-test-id='listing-price-dollars']\"\u001b[0m\u001b[1;33m)\u001b[0m\u001b[1;33m\u001b[0m\u001b[1;33m\u001b[0m\u001b[0m\n\u001b[1;32m---> 31\u001b[1;33m     \u001b[0mprices_list\u001b[0m \u001b[1;33m=\u001b[0m \u001b[1;33m[\u001b[0m\u001b[0mx\u001b[0m\u001b[1;33m.\u001b[0m\u001b[0mtext\u001b[0m\u001b[1;33m.\u001b[0m\u001b[0msplit\u001b[0m\u001b[1;33m(\u001b[0m\u001b[1;34m' '\u001b[0m\u001b[1;33m)\u001b[0m\u001b[1;33m[\u001b[0m\u001b[1;36m1\u001b[0m\u001b[1;33m]\u001b[0m \u001b[1;32mfor\u001b[0m \u001b[0mx\u001b[0m \u001b[1;32min\u001b[0m \u001b[0mprices\u001b[0m\u001b[1;33m]\u001b[0m\u001b[1;33m\u001b[0m\u001b[1;33m\u001b[0m\u001b[0m\n\u001b[0m\u001b[0;32m     32\u001b[0m \u001b[1;33m\u001b[0m\u001b[0m\n\u001b[0;32m     33\u001b[0m     \u001b[1;31m# Durations\u001b[0m\u001b[1;33m\u001b[0m\u001b[1;33m\u001b[0m\u001b[1;33m\u001b[0m\u001b[0m\n",
      "\u001b[1;31mIndexError\u001b[0m: list index out of range"
     ]
    }
   ],
   "source": [
    "# Loop through a time interval\n",
    "for i in range(3):\n",
    "    \n",
    "    # Open up the website\n",
    "    airline_link = 'https://expedia.com/'\n",
    "    print('Opening browser... [1/10]')\n",
    "    browser.get(airline_link)\n",
    "    time.sleep(5)\n",
    "    \n",
    "    # Choose flights\n",
    "    flights = browser.find_element_by_xpath(\"//button[@id='tab-flight-tab-hp']\")\n",
    "    print('Finding flight element... [2/10]')\n",
    "    flights.click()\n",
    "    \n",
    "    # Choose ticket type\n",
    "    print('Choosing ticket type... [3/10]')\n",
    "    choose_ticket(return_ticket)\n",
    "    \n",
    "    # Departure\n",
    "    print('Submitting departing city... [4/10]')\n",
    "    choose_departure_city('Santa Ana')\n",
    "    \n",
    "    # Arrival\n",
    "    print('Submitting arrival city... [5/10]')\n",
    "    choose_arrival_city('San Jose')\n",
    "    \n",
    "    # Departure date\n",
    "    print('Submitting departure date... [6/10]')\n",
    "    choose_departure_date('07', '26', '2019')\n",
    "\n",
    "    \n",
    "    # Return date\n",
    "    print('Submitting return date... [7/10]')\n",
    "    choose_return_date('07', '28', '2019')   \n",
    "    \n",
    "    # Search and compile\n",
    "    search()\n",
    "    get_data()\n",
    "    \n",
    "    # Save data to a dataframe\n",
    "    print('Appending data... [8/10]')\n",
    "    current_values = df.iloc[0]\n",
    "\n",
    "    cheapest_dep_time = current_values[0]\n",
    "    cheapest_arrival_time = current_values[1]\n",
    "    cheapest_airline = current_values[2]\n",
    "    cheapest_duration = current_values[3]\n",
    "    cheapest_stops = current_values[4]\n",
    "    cheapest_price = current_values[-1]\n",
    "    \n",
    "    print('Round {} completed.'.format(i))\n",
    "    \n",
    "    # Emails\n",
    "    print('Creating email... [9/10]')\n",
    "    create_msg()\n",
    "    connect_mail(gmail_user, gmail_pass)\n",
    "    send_email(msg)\n",
    "    print('Email sent!')\n",
    "    print('Creating xlsx file... [10/10]')\n",
    "    df.to_excel('flights.xlsx')\n",
    "    time.sleep(240)"
   ]
  },
  {
   "cell_type": "code",
   "execution_count": null,
   "metadata": {},
   "outputs": [],
   "source": []
  }
 ],
 "metadata": {
  "kernelspec": {
   "display_name": "Python 3",
   "language": "python",
   "name": "python3"
  },
  "language_info": {
   "codemirror_mode": {
    "name": "ipython",
    "version": 3
   },
   "file_extension": ".py",
   "mimetype": "text/x-python",
   "name": "python",
   "nbconvert_exporter": "python",
   "pygments_lexer": "ipython3",
   "version": "3.7.3"
  }
 },
 "nbformat": 4,
 "nbformat_minor": 2
}
