{
 "cells": [
  {
   "cell_type": "markdown",
   "metadata": {},
   "source": [
    "### Working with CSV Files and JSON Data\n",
    "\n",
    "In Chapter 13, you learned how to extract text from PDF and Word documents. These files were in a binary format, which required special Python modules to access their data. CSV and JSON files, on the other hand, are just plaintext files. You can view them in a text editor, such as IDLE’s file editor. But Python also comes with the special csv and json modules, each providing functions to help you work with these file formats.\n",
    "\n",
    "CSV stands for “comma-separated values,” and CSV files are simplified spreadsheets stored as plaintext files. Python’s csv module makes it easy to parse CSV files.\n",
    "\n",
    "JSON (pronounced “JAY-sawn” or “Jason”—it doesn’t matter how because either way people will say you’re pronouncing it wrong) is a format that stores information as JavaScript source code in plaintext files.\n",
    "\n",
    "(JSON is short for JavaScript Object Notation.) You don’t need to know the JavaScript programming language to use JSON files, but the JSON format is useful to know because it’s used in many web applications."
   ]
  },
  {
   "cell_type": "markdown",
   "metadata": {},
   "source": [
    "CSV files are simple, lacking many of the features of an Excel spreadsheet. For example, CSV files\n",
    "\n",
    "    Don’t have types for their values—everything is a string\n",
    "\n",
    "    Don’t have settings for font size or color\n",
    "\n",
    "    Don’t have multiple worksheets\n",
    "\n",
    "    Can’t specify cell widths and heights\n",
    "\n",
    "    Can’t have merged cells\n",
    "\n",
    "    Can’t have images or charts embedded in them\n",
    "\n",
    "The advantage of CSV files is simplicity. CSV files are widely supported by many types of programs, can be viewed in text editors (including IDLE’s file editor), and are a straightforward way to represent spreadsheet data. The CSV format is exactly as advertised: It’s just a text file of comma-separated values.\n",
    "\n",
    "Since CSV files are just text files, you might be tempted to read them in as a string and then process that string using the techniques you learned in Chapter 8. For example, since each cell in a CSV file is separated by a comma, maybe you could just call the split() method on each line of text to get the values. But not every comma in a CSV file represents the boundary between two cells. CSV files also have their own set of escape characters to allow commas and other characters to be included as part of the values. The split() method doesn’t handle these escape characters. Because of these potential pitfalls, you should always use the csv module for reading and writing CSV files."
   ]
  },
  {
   "cell_type": "markdown",
   "metadata": {},
   "source": [
    "### Reader Objects\n",
    "\n",
    "To read data from a CSV file with the csv module, you need to create a Reader object. A Reader object lets you iterate over lines in the CSV file. Enter the following into the interactive shell, with example.csv in the current working directory:"
   ]
  },
  {
   "cell_type": "code",
   "execution_count": 12,
   "metadata": {},
   "outputs": [],
   "source": [
    "import os\n",
    "os.chdir('C:\\\\Users\\\\' + str(os.getlogin()) + '\\\\Documents\\\\Programming\\\\Python\\\\Automate_The_Boring_Stuff\\\\Projects\\\\Chapter 14')\n",
    "# Computer and laptop have different users"
   ]
  },
  {
   "cell_type": "markdown",
   "metadata": {},
   "source": [
    "The csv module comes with Python, so we can import it ❶ without having to install it first.\n",
    "\n",
    "To read a CSV file with the csv module, first open it using the open() function ❷, just as you would any other text file. But instead of calling the read() or readlines() method on the File object that open() returns, pass it to the csv.reader() function ❸. This will return a Reader object for you to use. Note that you don’t pass a filename string directly to the csv.reader() function.\n",
    "\n",
    "The most direct way to access the values in the Reader object is to convert it to a plain Python list by passing it to list() ❹. Using list() on this Reader object returns a list of lists, which you can store in a variable like exampleData. Entering exampleData in the shell displays the list of lists ❺.\n",
    "\n",
    "Now that you have the CSV file as a list of lists, you can access the value at a particular row and column with the expression exampleData[row][col], where row is the index of one of the lists in exampleData, and col is the index of the item you want from that list. "
   ]
  },
  {
   "cell_type": "code",
   "execution_count": 15,
   "metadata": {},
   "outputs": [
    {
     "data": {
      "text/plain": [
       "[['4/5/2014 13:34', 'Apples', '73'],\n",
       " ['4/5/2014 3:41', 'Cherries', '85'],\n",
       " ['4/6/2014 12:46', 'Pears', '14'],\n",
       " ['4/8/2014 8:59', 'Oranges', '52'],\n",
       " ['4/10/2014 2:07', 'Apples', '152'],\n",
       " ['4/10/2014 18:10', 'Bananas', '23'],\n",
       " ['4/10/2014 2:40', 'Strawberries', '98']]"
      ]
     },
     "execution_count": 15,
     "metadata": {},
     "output_type": "execute_result"
    }
   ],
   "source": [
    "import csv\n",
    "exampleFile = open('example.csv')        # open(file)\n",
    "exampleReader = csv.reader(exampleFile)  # csv.reader(file)\n",
    "\n",
    "# Direct way to access values in the Reader obj is to convert it to plain Python passing it to list()\n",
    "exampleData = list(exampleReader)        # list(file)\n",
    "exampleData"
   ]
  },
  {
   "cell_type": "code",
   "execution_count": 16,
   "metadata": {},
   "outputs": [
    {
     "data": {
      "text/plain": [
       "'4/5/2014 13:34'"
      ]
     },
     "execution_count": 16,
     "metadata": {},
     "output_type": "execute_result"
    }
   ],
   "source": [
    "# CSV data is now in list form so you can slice it\n",
    "exampleData[0][0]"
   ]
  },
  {
   "cell_type": "code",
   "execution_count": 18,
   "metadata": {},
   "outputs": [
    {
     "data": {
      "text/plain": [
       "'98'"
      ]
     },
     "execution_count": 18,
     "metadata": {},
     "output_type": "execute_result"
    }
   ],
   "source": [
    "exampleData[6][2]"
   ]
  },
  {
   "cell_type": "markdown",
   "metadata": {},
   "source": [
    "### Reading Data from Reader Objects in a for Loop\n",
    "For large CSV files, you’ll want to use the Reader object in a for loop. This avoids loading the entire file into memory at once. "
   ]
  },
  {
   "cell_type": "code",
   "execution_count": 19,
   "metadata": {},
   "outputs": [
    {
     "name": "stdout",
     "output_type": "stream",
     "text": [
      "Row #1 ['4/5/2014 13:34', 'Apples', '73']\n",
      "Row #2 ['4/5/2014 3:41', 'Cherries', '85']\n",
      "Row #3 ['4/6/2014 12:46', 'Pears', '14']\n",
      "Row #4 ['4/8/2014 8:59', 'Oranges', '52']\n",
      "Row #5 ['4/10/2014 2:07', 'Apples', '152']\n",
      "Row #6 ['4/10/2014 18:10', 'Bananas', '23']\n",
      "Row #7 ['4/10/2014 2:40', 'Strawberries', '98']\n"
     ]
    }
   ],
   "source": [
    "import csv                                                    # import()\n",
    "file = open('example.csv')                                    # open()\n",
    "reader = csv.reader(file)                                     # csv.reader()\n",
    "for row in reader:                                            # for i in csv.reader(open(file))\n",
    "    print('Row #' + str(reader.line_num) + ' ' + str(row))    # reader.line_num"
   ]
  },
  {
   "cell_type": "markdown",
   "metadata": {},
   "source": [
    "After you import the csv module and make a Reader object from the CSV file, you can loop through the rows in the Reader object. Each row is a list of values, with each value representing a cell.\n",
    "\n",
    "The print() function call prints the number of the current row and the contents of the row. To get the row number, use the Reader object’s line_num variable, which contains the number of the current line.\n",
    "\n",
    "The Reader object can be looped over only once. To reread the CSV file, you must call csv.reader to create a Reader object."
   ]
  },
  {
   "cell_type": "code",
   "execution_count": 20,
   "metadata": {},
   "outputs": [],
   "source": [
    "# Open and save a new workbook\n",
    "from openpyxl import Workbook\n",
    "from openpyxl.utils import get_column_letter\n",
    "\n",
    "# create excel type item\n",
    "wb = Workbook()\n",
    "# select the active worksheet\n",
    "ws = wb.active\n",
    "\n",
    "counter = 0 # Begin at 0\n",
    "for column in range(1,5):\n",
    "    column_letter = get_column_letter(column) # if 1 then A\n",
    "    for row in range(1,11):\n",
    "        counter = counter + 1 # 0 + 1 \n",
    "        ws[column_letter + str(row)] = counter # A1 = 1\n",
    "\n",
    "wb.save(\"sample.xlsx\")"
   ]
  },
  {
   "cell_type": "markdown",
   "metadata": {},
   "source": [
    "### Writer Objects\n",
    "A Writer object lets you write data to a CSV file. To create a Writer object, you use the csv.writer() function."
   ]
  },
  {
   "cell_type": "code",
   "execution_count": 22,
   "metadata": {},
   "outputs": [],
   "source": [
    "import csv\n",
    "file = open('output.csv', 'w', newline='') # open(filename, writemode, newline)\n",
    "writer = csv.writer(file)                  # csv.writer(file)\n",
    "writer.writerow(['spam', 'eggs', 'bacon']) # csv.writer().writerow(['','','']) ## row 1\n",
    "writer.writerow(['Hello', 'World', 'ham']) # csv.writer().writerow([''])       ## row 2\n",
    "writer.writerow([1, 2, 3, 4, 5])           # csv.writer().writerow([])         ## row 3\n",
    "file.close()"
   ]
  },
  {
   "cell_type": "markdown",
   "metadata": {},
   "source": [
    "First, call open() and pass it 'w' to open a file in write mode ❶. This will create the object you can then pass to csv.writer() ❷ to create a Writer object.\n",
    "\n",
    "On Windows, you’ll also need to pass a blank string for the open() function’s newline keyword argument. For technical reasons beyond the scope of this book, if you forget to set the newline argument, the rows in output.csv will be double-spaced"
   ]
  },
  {
   "cell_type": "markdown",
   "metadata": {},
   "source": [
    "The writerow() method for Writer objects takes a list argument. Each value in the list is placed in its own cell in the output CSV file. The return value of writerow() is the number of characters written to the file for that row (including newline characters).\n",
    "\n",
    "This code produces an output.csv file that looks like this:\n",
    "\n",
    "    spam,eggs,bacon,ham\n",
    "\n",
    "    \"Hello, world!\",eggs,bacon,ham\n",
    "\n",
    "    1,2,3.141592,4\n",
    "\n",
    "Notice how the Writer object automatically escapes the comma in the value 'Hello, world!' with double quotes in the CSV file. The csv module saves you from having to handle these special cases yourself."
   ]
  },
  {
   "cell_type": "markdown",
   "metadata": {},
   "source": [
    "### The delimiter and lineterminator Keyword Arguments\n",
    "Say you want to separate cells with a tab character instead of a comma and you want the rows to be double-spaced. "
   ]
  },
  {
   "cell_type": "code",
   "execution_count": 24,
   "metadata": {},
   "outputs": [],
   "source": [
    "import csv\n",
    "file = open('example.tsv', 'w', newline='')                       # open(f, 'w', newline)\n",
    "writer = csv.writer(file, delimiter='\\t', lineterminator='\\n\\n')  # csv.writer(file, delimiter, lineterminator)\n",
    "writer.writerow(['apples', 'oranges', 'grapes']) # csv.writer().writerow([])\n",
    "writer.writerow(['eggs', 'bacon'])               # csv.writer().writerow([])\n",
    "writer.writerow(['s', 's', 's', 'r', 'a', 1])    # csv.writer().writerow([])\n",
    "file.close()"
   ]
  },
  {
   "cell_type": "markdown",
   "metadata": {},
   "source": [
    "This changes the delimiter and line terminator characters in your file. The delimiter is the character that appears between cells on a row. By default, the delimiter for a CSV file is a comma. The line terminator is the character that comes at the end of a row. By default, the line terminator is a newline. You can change characters to different values by using the delimiter and lineterminator keyword arguments with csv.writer().\n",
    "\n",
    "Passing delimeter='\\t' and lineterminator='\\n\\n' ❶ changes the character between cells to a tab and the character between rows to two newlines. We then call writerow() three times to give us three rows.\n",
    "\n",
    "This produces a file named example.tsv with the following contents:\n",
    "\n",
    "\n",
    "    apples  oranges grapes\n",
    "\n",
    "    eggs    bacon   ham\n",
    "\n",
    "    spam    spam    spam    spam    spam    spam\n",
    "\n",
    "Now that our cells are separated by tabs, we’re using the file extension .tsv, for tab-separated values."
   ]
  },
  {
   "cell_type": "markdown",
   "metadata": {},
   "source": [
    "### Project: Removing the Header from CSV Files\n",
    "Say you have the boring job of removing the first line from several hundred CSV files. Maybe you’ll be feeding them into an automated process that requires just the data and not the headers at the top of the columns. You could open each file in Excel, delete the first row, and resave the file—but that would take hours. Let’s write a program to do it instead.\n",
    "\n",
    "The program will need to open every file with the .csv extension in the current working directory, read in the contents of the CSV file, and rewrite the contents without the first row to a file of the same name. This will replace the old contents of the CSV file with the new, headless contents."
   ]
  },
  {
   "cell_type": "markdown",
   "metadata": {},
   "source": [
    "At a high level, the program must do the following:\n",
    "\n",
    "    Find all the CSV files in the current working directory.\n",
    "\n",
    "    Read in the full contents of each file.\n",
    "\n",
    "    Write out the contents, skipping the first line, to a new CSV file.\n",
    "\n",
    "    At the code level, this means the program will need to do the following:\n",
    "\n",
    "    Loop over a list of files from os.listdir(), skipping the non-CSV files.\n",
    "\n",
    "    Create a CSV Reader object and read in the contents of the file, using the line_num attribute to figure out which line to skip.\n",
    "\n",
    "    Create a CSV Writer object and write out the read-in data to the new file.\n",
    "\n",
    "For this project, open a new file editor window and save it as removeCsvHeader.py."
   ]
  },
  {
   "cell_type": "markdown",
   "metadata": {},
   "source": [
    "#### Step 1: Loop Through Each CSV File\n",
    "The first thing your program needs to do is loop over a list of all CSV filenames for the current working directory."
   ]
  },
  {
   "cell_type": "code",
   "execution_count": 25,
   "metadata": {},
   "outputs": [
    {
     "name": "stdout",
     "output_type": "stream",
     "text": [
      "Removing header from example.csv...\n",
      "Removing header from output.csv...\n"
     ]
    }
   ],
   "source": [
    "#! python3\n",
    "# remove_header.py - Removes the header from all CSV files in the current wd\n",
    "\n",
    "import csv\n",
    "import os\n",
    "\n",
    "# Create a new folder in the directory\n",
    "os.makedirs('headerRemoved', exist_ok=True)\n",
    "\n",
    "# Loop through every file in the cwd\n",
    "for file in os.listdir('.'):\n",
    "    if not file.endswith('.csv'): # use \"not\" and .endswith(string) to match file types\n",
    "        continue # skip all non-csv files\n",
    "    \n",
    "    print('Removing header from ' + file + '...')\n",
    "    \n",
    "    # Read the CSV file in (skipping the first row)\n",
    "    \n",
    "    # Write out the new CSV file"
   ]
  },
  {
   "cell_type": "markdown",
   "metadata": {},
   "source": [
    "The os.makedirs() call will create a headerRemoved folder where all the headless CSV files will be written. A for loop on os.listdir('.') gets you partway there, but it will loop over all files in the working directory, so you’ll need to add some code at the start of the loop that skips filenames that don’t end with .csv. The continue statement ❶ makes the for loop move on to the next filename when it comes across a non-CSV file.\n",
    "\n",
    "Just so there’s some output as the program runs, print out a message saying which CSV file the program is working on. Then, add some TODO comments for what the rest of the program should do."
   ]
  },
  {
   "cell_type": "markdown",
   "metadata": {},
   "source": [
    "#### Step 2: Read in the CSV File\n",
    "The program doesn’t remove the first line from the CSV file. Rather, it creates a new copy of the CSV file without the first line. Since the copy’s filename is the same as the original filename, the copy will overwrite the original.\n",
    "\n",
    "The program will need a way to track whether it is currently looping on the first row. Add the following to removeCsvHeader.py."
   ]
  },
  {
   "cell_type": "code",
   "execution_count": 26,
   "metadata": {},
   "outputs": [
    {
     "name": "stdout",
     "output_type": "stream",
     "text": [
      "Removing header from example.csv...\n",
      "Removing header from output.csv...\n"
     ]
    }
   ],
   "source": [
    "#! python3\n",
    "# remove_header.py - Removes the header from all CSV files in the current wd\n",
    "\n",
    "import csv\n",
    "import os\n",
    "\n",
    "# Create a new folder in the directory\n",
    "os.makedirs('headerRemoved', exist_ok=True)\n",
    "\n",
    "# Loop through every file in the cwd\n",
    "for file in os.listdir('.'):\n",
    "    if not file.endswith('.csv'): # use \"not\" and .endswith(string) to match file types\n",
    "        continue # skip all non-csv files\n",
    "    print('Removing header from ' + file + '...')\n",
    "    \n",
    "    # Read the CSV file in (skipping the first row)\n",
    "    csvRows = [] # create empty list to store values\n",
    "    csvFileObj = open(file)\n",
    "    readerObj = csv.reader(csvFileObj)\n",
    "    for row in readerObj:\n",
    "        if readerObj.line_num == 1: # use csv.reader().line_num to get line number\n",
    "            continue # skips first row\n",
    "        print('Appending rows...')\n",
    "        csvRows.append(row)\n",
    "    csvFileObj.close()\n",
    "    \n",
    "    # Write out the new CSV file"
   ]
  },
  {
   "cell_type": "markdown",
   "metadata": {},
   "source": [
    "The Reader object’s line_num attribute can be used to determine which line in the CSV file it is currently reading. Another for loop will loop over the rows returned from the CSV Reader object, and all rows but the first will be appended to csvRows.\n",
    "\n",
    "As the for loop iterates over each row, the code checks whether readerObj.line_num is set to 1. If so, it executes a continue to move on to the next row without appending it to csvRows. For every row afterward, the condition will be always be False, and the row will be appended to csvRows."
   ]
  },
  {
   "cell_type": "markdown",
   "metadata": {},
   "source": [
    "#### Step 3: Write Out the CSV File Without the First Row\n",
    "Now that csvRows contains all rows but the first row, the list needs to be written out to a CSV file in the headerRemoved folder. "
   ]
  },
  {
   "cell_type": "code",
   "execution_count": 41,
   "metadata": {},
   "outputs": [
    {
     "name": "stdout",
     "output_type": "stream",
     "text": [
      "Removing header from example.csv...\n",
      "Header values being removed: ['4/5/2014 13:34', 'Apples', '73']\n",
      "Appending rows...\n",
      "Appending rows...\n",
      "Appending rows...\n",
      "Appending rows...\n",
      "Appending rows...\n",
      "Appending rows...\n",
      "Removing header from output.csv...\n",
      "Header values being removed: ['spam', 'eggs', 'bacon']\n",
      "Appending rows...\n",
      "Appending rows...\n"
     ]
    }
   ],
   "source": [
    "#! python3\n",
    "# remove_header.py - Removes the header from all CSV files in the current wd\n",
    "\n",
    "import csv\n",
    "import os\n",
    "\n",
    "# Create a new folder in the directory\n",
    "os.makedirs('headerRemoved', exist_ok=True)\n",
    "\n",
    "# Loop through every file in the cwd\n",
    "for file in os.listdir('.'):\n",
    "    if not file.endswith('.csv'): # use \"not\" and .endswith(string) to match file types\n",
    "        continue # skip all non-csv files\n",
    "    print('Removing header from ' + file + '...')\n",
    "    \n",
    "    # Read the CSV file in (skipping the first row)\n",
    "    csvRows = [] # create empty list to store values\n",
    "    csvFileObj = open(file)\n",
    "    readerObj = csv.reader(csvFileObj)\n",
    "    for row in readerObj:\n",
    "        if readerObj.line_num == 1: # use csv.reader().line_num to get line number\n",
    "            print('Header values being removed: ' + str(row))\n",
    "            continue # skips first row\n",
    "        print('Appending rows...')\n",
    "        csvRows.append(row)\n",
    "    csvFileObj.close()\n",
    "    \n",
    "    # Write out the new CSV file\n",
    "    newcsvFileObj = open(os.path.join('headerRemoved', file), 'w', newline = '')\n",
    "    csvWriter = csv.writer(newcsvFileObj)\n",
    "    for rows in csvRows:\n",
    "        csvWriter.writerow(rows)\n",
    "    newcsvFileObj.close()"
   ]
  },
  {
   "cell_type": "code",
   "execution_count": 43,
   "metadata": {},
   "outputs": [
    {
     "name": "stdout",
     "output_type": "stream",
     "text": [
      "Row #1 ['4/5/2014 13:34', 'Apples', '73']\n",
      "Row #2 ['4/5/2014 3:41', 'Cherries', '85']\n",
      "Row #3 ['4/6/2014 12:46', 'Pears', '14']\n",
      "Row #4 ['4/8/2014 8:59', 'Oranges', '52']\n",
      "Row #5 ['4/10/2014 2:07', 'Apples', '152']\n",
      "Row #6 ['4/10/2014 18:10', 'Bananas', '23']\n",
      "Row #7 ['4/10/2014 2:40', 'Strawberries', '98']\n"
     ]
    }
   ],
   "source": [
    "import csv                                                    # import()\n",
    "file = open('example.csv')                                    # open()\n",
    "reader = csv.reader(file)                                     # csv.reader()\n",
    "listdata = list(reader)                                       # if not appending in list then this\n",
    "storehere = []                                                # empty list\n",
    "for row in reader:                                            # for i in csv.reader(open(file))\n",
    "    print('Row #' + str(reader.line_num) + ' ' + str(row))    # reader.line_num\n",
    "    storehere.append(row)\n",
    "file.close()"
   ]
  },
  {
   "cell_type": "code",
   "execution_count": 44,
   "metadata": {},
   "outputs": [
    {
     "data": {
      "text/plain": [
       "['4/5/2014 3:41', 'Cherries', '85']"
      ]
     },
     "execution_count": 44,
     "metadata": {},
     "output_type": "execute_result"
    }
   ],
   "source": [
    "storehere[1]"
   ]
  },
  {
   "cell_type": "code",
   "execution_count": 45,
   "metadata": {},
   "outputs": [
    {
     "data": {
      "text/plain": [
       "'85'"
      ]
     },
     "execution_count": 45,
     "metadata": {},
     "output_type": "execute_result"
    }
   ],
   "source": [
    "storehere[1][2]"
   ]
  },
  {
   "cell_type": "markdown",
   "metadata": {},
   "source": [
    "The CSV Writer object will write the list to a CSV file in headerRemoved using csvFilename (which we also used in the CSV reader). This will overwrite the original file.\n",
    "\n",
    "Once we create the Writer object, we loop over the sublists stored in csvRows and write each sublist to the file.\n",
    "\n",
    "After the code is executed, the outer for loop ❶ will loop to the next filename from os.listdir('.'). When that loop is finished, the program will be complete.\n",
    "\n",
    "To test your program, download removeCsvHeader.zip from http://nostarch.com/automatestuff/ and unzip it to a folder. Run the removeCsvHeader.py program in that folder. "
   ]
  },
  {
   "cell_type": "markdown",
   "metadata": {},
   "source": [
    "### Ideas for Similar Programs\n",
    "The programs that you could write for CSV files are similar to the kinds you could write for Excel files, since they’re both spreadsheet files. You could write programs to do the following:\n",
    "\n",
    "    Compare data between different rows in a CSV file or between multiple CSV files.\n",
    "\n",
    "    Copy specific data from a CSV file to an Excel file, or vice versa.\n",
    "\n",
    "    Check for invalid data or formatting mistakes in CSV files and alert the user to these errors.\n",
    "\n",
    "    Read data from a CSV file as input for your Python programs."
   ]
  },
  {
   "cell_type": "markdown",
   "metadata": {},
   "source": [
    "### JSON and APIs\n",
    "JavaScript Object Notation is a popular way to format data as a single human-readable string. JSON is the native way that JavaScript programs write their data structures and usually resembles what Python’s pprint() function would produce. You don’t need to know JavaScript in order to work with JSON-formatted data.\n",
    "\n",
    "Here’s an example of data formatted as JSON:\n",
    "\n",
    "\n",
    "{\"name\": \"Zophie\", \"isCat\": true,\n",
    "\n",
    " \"miceCaught\": 0, \"napsTaken\": 37.5,\n",
    " \n",
    " \"felineIQ\": null}"
   ]
  },
  {
   "cell_type": "markdown",
   "metadata": {},
   "source": [
    "JSON is useful to know, because many websites offer JSON content as a way for programs to interact with the website. This is known as providing an application programming interface (API). Accessing an API is the same as accessing any other web page via a URL. The difference is that the data returned by an API is formatted (with JSON, for example) for machines; APIs aren’t easy for people to read.\n",
    "\n",
    "Many websites make their data available in JSON format. Facebook, Twitter, Yahoo, Google, Tumblr, Wikipedia, Flickr, Data.gov, Reddit, IMDb, Rotten Tomatoes, LinkedIn, and many other popular sites offer APIs for programs to use. Some of these sites require registration, which is almost always free. You’ll have to find documentation for what URLs your program needs to request in order to get the data you want, as well as the general format of the JSON data structures that are returned. This documentation should be provided by whatever site is offering the API; if they have a “Developers” page, look for the documentation there.\n",
    "\n",
    "Using APIs, you could write programs that do the following:\n",
    "\n",
    "    Scrape raw data from websites. (Accessing APIs is often more convenient than downloading web pages and parsing HTML with Beautiful Soup.)\n",
    "\n",
    "    Automatically download new posts from one of your social network accounts and post them to another account. For example, you could take your Tumblr posts and post them to Facebook.\n",
    "\n",
    "    Create a “movie encyclopedia” for your personal movie collection by pulling data from IMDb, Rotten Tomatoes, and Wikipedia and putting it into a single text file on your computer.\n",
    "\n",
    "You can see some examples of JSON APIs in the resources at http://nostarch.com/automatestuff/."
   ]
  },
  {
   "cell_type": "markdown",
   "metadata": {},
   "source": [
    "### The JSON Module\n",
    "Python’s json module handles all the details of translating between a string with JSON data and Python values for the json.loads() and json.dumps() functions. JSON can’t store every kind of Python value. It can contain values of only the following data types: strings, integers, floats, Booleans, lists, dictionaries, and NoneType. JSON cannot represent Python-specific objects, such as File objects, CSV Reader or Writer objects, Regex objects, or Selenium WebElement objects."
   ]
  },
  {
   "cell_type": "markdown",
   "metadata": {},
   "source": [
    "### Reading JSON with the loads() Function\n",
    "To translate a string containing JSON data into a Python value, pass it to the json.loads() function. (The name means “load string,” not “loads.”) "
   ]
  },
  {
   "cell_type": "code",
   "execution_count": 46,
   "metadata": {},
   "outputs": [
    {
     "data": {
      "text/plain": [
       "'{\"name\": \"Zophie\", \"isCat\": true, \"miceCaught\": 0, \"felineIQ\": null}'"
      ]
     },
     "execution_count": 46,
     "metadata": {},
     "output_type": "execute_result"
    }
   ],
   "source": [
    "# Create JsonData as a string\n",
    "JsonData = '{\"name\": \"Zophie\", \"isCat\": true, \"miceCaught\": 0, \"felineIQ\": null}'\n",
    "JsonData"
   ]
  },
  {
   "cell_type": "code",
   "execution_count": 47,
   "metadata": {},
   "outputs": [
    {
     "data": {
      "text/plain": [
       "str"
      ]
     },
     "execution_count": 47,
     "metadata": {},
     "output_type": "execute_result"
    }
   ],
   "source": [
    "type(JsonData)"
   ]
  },
  {
   "cell_type": "code",
   "execution_count": 48,
   "metadata": {},
   "outputs": [],
   "source": [
    "import json"
   ]
  },
  {
   "cell_type": "code",
   "execution_count": 49,
   "metadata": {},
   "outputs": [],
   "source": [
    "jsonDataAsPythonValue = json.loads(JsonData)"
   ]
  },
  {
   "cell_type": "code",
   "execution_count": 50,
   "metadata": {},
   "outputs": [
    {
     "data": {
      "text/plain": [
       "{'name': 'Zophie', 'isCat': True, 'miceCaught': 0, 'felineIQ': None}"
      ]
     },
     "execution_count": 50,
     "metadata": {},
     "output_type": "execute_result"
    }
   ],
   "source": [
    "jsonDataAsPythonValue"
   ]
  },
  {
   "cell_type": "code",
   "execution_count": 51,
   "metadata": {},
   "outputs": [
    {
     "data": {
      "text/plain": [
       "dict"
      ]
     },
     "execution_count": 51,
     "metadata": {},
     "output_type": "execute_result"
    }
   ],
   "source": [
    "type(jsonDataAsPythonValue)"
   ]
  },
  {
   "cell_type": "markdown",
   "metadata": {},
   "source": [
    "After you import the json module, you can call loads() and pass it a string of JSON data. Note that JSON strings always use double quotes. It will return that data as a Python dictionary. Python dictionaries are not ordered, so the key-value pairs may appear in a different order when you print jsonDataAsPythonValue."
   ]
  },
  {
   "cell_type": "markdown",
   "metadata": {},
   "source": [
    "### Writing JSON with the dumps() Function\n",
    "The json.dumps() function (which means “dump string,” not “dumps”) will translate a Python value into a string of JSON-formatted data"
   ]
  },
  {
   "cell_type": "code",
   "execution_count": 54,
   "metadata": {},
   "outputs": [
    {
     "data": {
      "text/plain": [
       "'{\"isCat\": true, \"miceCaught\": 0, \"name\": \"Zophie\", \"felineIQ\": null}'"
      ]
     },
     "execution_count": 54,
     "metadata": {},
     "output_type": "execute_result"
    }
   ],
   "source": [
    "pythonValue = {'isCat': True, 'miceCaught': 0, 'name': 'Zophie','felineIQ': None} # string quote\n",
    "import json\n",
    "stringOfJsonData = json.dumps(pythonValue) # vs. json.loads(jsonData) --> Python Dict\n",
    "stringOfJsonData"
   ]
  },
  {
   "cell_type": "code",
   "execution_count": 55,
   "metadata": {},
   "outputs": [
    {
     "data": {
      "text/plain": [
       "str"
      ]
     },
     "execution_count": 55,
     "metadata": {},
     "output_type": "execute_result"
    }
   ],
   "source": [
    "type(stringOfJsonData)"
   ]
  },
  {
   "cell_type": "markdown",
   "metadata": {},
   "source": [
    "### Project: Fetching Current Weather Data\n",
    "Checking the weather seems fairly trivial: Open your web browser, click the address bar, type the URL to a weather website (or search for one and then click the link), wait for the page to load, look past all the ads, and so on.\n",
    "\n",
    "Actually, there are a lot of boring steps you could skip if you had a program that downloaded the weather forecast for the next few days and printed it as plaintext. This program uses the requests module from Chapter 11 to download data from the Web.\n",
    "\n",
    "Overall, the program does the following:\n",
    "\n",
    "    Reads the requested location from the command line.\n",
    "\n",
    "    Downloads JSON weather data from OpenWeatherMap.org.\n",
    "\n",
    "    Converts the string of JSON data to a Python data structure.\n",
    "\n",
    "    Prints the weather for today and the next two days.\n",
    "\n",
    "So the code will need to do the following:\n",
    "\n",
    "    Join strings in sys.argv to get the location.\n",
    "\n",
    "    Call requests.get() to download the weather data.\n",
    "\n",
    "    Call json.loads() to convert the JSON data to a Python data structure.\n",
    "\n",
    "    Print the weather forecast.\n",
    "\n",
    "For this project, open a new file editor window and save it as quickWeather.py."
   ]
  },
  {
   "cell_type": "markdown",
   "metadata": {},
   "source": [
    "### Step 1: Get Location from the Command Line Argument"
   ]
  },
  {
   "cell_type": "code",
   "execution_count": 57,
   "metadata": {},
   "outputs": [],
   "source": [
    "#! python3\n",
    "# quickWeather.py - Prints the weather for a location from a command line\n",
    "\n",
    "import json\n",
    "import requests\n",
    "import sys\n",
    "\n",
    "# Compute location from command line arguments\n",
    "if len(sys.argv) < 2:\n",
    "    print('Usage: quickWeather.py location')\n",
    "    sys.exit()\n",
    "\n",
    "location = ' '.join(sys.argv[1:])\n",
    "\n",
    "# Download the JSON data from OpenWeatherMap.org's API\n",
    "\n",
    "# Load JSON data into a Python variable\n"
   ]
  },
  {
   "cell_type": "markdown",
   "metadata": {},
   "source": [
    "In Python, command line arguments are stored in the sys.argv list. After the #! shebang line and import statements, the program will check that there is more than one command line argument. (Recall that sys.argv will always have at least one element, sys.argv[0], which contains the Python script’s filename.) If there is only one element in the list, then the user didn’t provide a location on the command line, and a “usage” message will be provided to the user before the program ends.\n",
    "\n",
    "Command line arguments are split on spaces. The command line argument San Francisco, CA would make sys.argv hold ['quickWeather.py', 'San', 'Francisco,', 'CA']. Therefore, call the join() method to join all the strings except for the first in sys.argv. Store this joined string in a variable named location."
   ]
  },
  {
   "cell_type": "markdown",
   "metadata": {},
   "source": [
    "### Step 2: Download the JSON Data\n",
    "OpenWeatherMap.org provides real-time weather information in JSON format. Your program simply has to download the page at http://api.openweathermap.org/data/2.5/forecast/daily?q=<Location>&cnt=3, where <Location> is the name of the city whose weather you want. Add the following to quickWeather.py."
   ]
  },
  {
   "cell_type": "code",
   "execution_count": 62,
   "metadata": {},
   "outputs": [
    {
     "ename": "HTTPError",
     "evalue": "401 Client Error: Unauthorized for url: http://api.openweathermap.org/data/2.5/forecast/daily?q=-f%20C:%5CUsers%5Cdavid%5CAppData%5CRoaming%5Cjupyter%5Cruntime%5Ckernel-30a3bf06-a447-4341-a460-962975df469a.json&cnt=3&APPID%7B8a700b35cc3bad564c956d5ff572651b%7D",
     "output_type": "error",
     "traceback": [
      "\u001b[1;31m---------------------------------------------------------------------------\u001b[0m",
      "\u001b[1;31mHTTPError\u001b[0m                                 Traceback (most recent call last)",
      "\u001b[1;32m<ipython-input-62-908a9efcc9f7>\u001b[0m in \u001b[0;36m<module>\u001b[1;34m\u001b[0m\n\u001b[0;32m     17\u001b[0m \u001b[0murl\u001b[0m \u001b[1;33m=\u001b[0m\u001b[1;34m'http://api.openweathermap.org/data/2.5/forecast/daily?q=%s&cnt=3&APPID{8a700b35cc3bad564c956d5ff572651b}'\u001b[0m \u001b[1;33m%\u001b[0m \u001b[1;33m(\u001b[0m\u001b[0mlocation\u001b[0m\u001b[1;33m)\u001b[0m\u001b[1;33m\u001b[0m\u001b[1;33m\u001b[0m\u001b[0m\n\u001b[0;32m     18\u001b[0m \u001b[0mresponse\u001b[0m \u001b[1;33m=\u001b[0m \u001b[0mrequests\u001b[0m\u001b[1;33m.\u001b[0m\u001b[0mget\u001b[0m\u001b[1;33m(\u001b[0m\u001b[0murl\u001b[0m\u001b[1;33m)\u001b[0m\u001b[1;33m\u001b[0m\u001b[1;33m\u001b[0m\u001b[0m\n\u001b[1;32m---> 19\u001b[1;33m \u001b[0mresponse\u001b[0m\u001b[1;33m.\u001b[0m\u001b[0mraise_for_status\u001b[0m\u001b[1;33m(\u001b[0m\u001b[1;33m)\u001b[0m\u001b[1;33m\u001b[0m\u001b[1;33m\u001b[0m\u001b[0m\n\u001b[0m\u001b[0;32m     20\u001b[0m \u001b[1;33m\u001b[0m\u001b[0m\n\u001b[0;32m     21\u001b[0m \u001b[1;31m# Load JSON data into a Python variable\u001b[0m\u001b[1;33m\u001b[0m\u001b[1;33m\u001b[0m\u001b[1;33m\u001b[0m\u001b[0m\n",
      "\u001b[1;32mc:\\users\\david\\appdata\\local\\programs\\python\\python37-32\\lib\\site-packages\\requests\\models.py\u001b[0m in \u001b[0;36mraise_for_status\u001b[1;34m(self)\u001b[0m\n\u001b[0;32m    938\u001b[0m \u001b[1;33m\u001b[0m\u001b[0m\n\u001b[0;32m    939\u001b[0m         \u001b[1;32mif\u001b[0m \u001b[0mhttp_error_msg\u001b[0m\u001b[1;33m:\u001b[0m\u001b[1;33m\u001b[0m\u001b[1;33m\u001b[0m\u001b[0m\n\u001b[1;32m--> 940\u001b[1;33m             \u001b[1;32mraise\u001b[0m \u001b[0mHTTPError\u001b[0m\u001b[1;33m(\u001b[0m\u001b[0mhttp_error_msg\u001b[0m\u001b[1;33m,\u001b[0m \u001b[0mresponse\u001b[0m\u001b[1;33m=\u001b[0m\u001b[0mself\u001b[0m\u001b[1;33m)\u001b[0m\u001b[1;33m\u001b[0m\u001b[1;33m\u001b[0m\u001b[0m\n\u001b[0m\u001b[0;32m    941\u001b[0m \u001b[1;33m\u001b[0m\u001b[0m\n\u001b[0;32m    942\u001b[0m     \u001b[1;32mdef\u001b[0m \u001b[0mclose\u001b[0m\u001b[1;33m(\u001b[0m\u001b[0mself\u001b[0m\u001b[1;33m)\u001b[0m\u001b[1;33m:\u001b[0m\u001b[1;33m\u001b[0m\u001b[1;33m\u001b[0m\u001b[0m\n",
      "\u001b[1;31mHTTPError\u001b[0m: 401 Client Error: Unauthorized for url: http://api.openweathermap.org/data/2.5/forecast/daily?q=-f%20C:%5CUsers%5Cdavid%5CAppData%5CRoaming%5Cjupyter%5Cruntime%5Ckernel-30a3bf06-a447-4341-a460-962975df469a.json&cnt=3&APPID%7B8a700b35cc3bad564c956d5ff572651b%7D"
     ]
    }
   ],
   "source": [
    "#! python3\n",
    "# quickWeather.py - Prints the weather for a location from a command line\n",
    "\n",
    "import json\n",
    "import requests\n",
    "import sys\n",
    "import pyperclip\n",
    "\n",
    "# Compute location from command line arguments\n",
    "if len(sys.argv) < 2:\n",
    "    location = pyperclip.paste()\n",
    "    print('Usage: quickWeather.py location')\n",
    "else:\n",
    "    location = ' '.join(sys.argv[1:]) # .py will call [1:] = ['San','Jose','CA'] = San Jose CA\n",
    "\n",
    "# Download the JSON data from OpenWeatherMap.org's API (error needs API...)\n",
    "url = 'http://api.openweathermap.org/data/2.5/forecast/daily?q=%s&cnt=3' % (location)\n",
    "response = requests.get(url)\n",
    "response.raise_for_status()\n",
    "\n",
    "# Load JSON data into a Python variable\n"
   ]
  },
  {
   "cell_type": "markdown",
   "metadata": {},
   "source": [
    "We have location from our command line arguments. To make the URL we want to access, we use the %s placeholder and insert whatever string is stored in location into that spot in the URL string. We store the result in url and pass url to requests.get(). The requests.get() call returns a Response object, which you can check for errors by calling raise_for_status(). If no exception is raised, the downloaded text will be in response.text."
   ]
  },
  {
   "cell_type": "markdown",
   "metadata": {},
   "source": [
    "### Step 3: Load JSON Data and Print Weather\n",
    "The response.text member variable holds a large string of JSON-formatted data. To convert this to a Python value, call the json.loads() function."
   ]
  },
  {
   "cell_type": "markdown",
   "metadata": {},
   "source": [
    "You can see this data by passing weatherData to pprint.pprint(). You may want to check http://openweathermap.org/ for more documentation on what these fields mean. For example, the online documentation will tell you that the 302.29 after 'day' is the daytime temperature in Kelvin, not Celsius or Fahrenheit.\n",
    "\n",
    "The weather descriptions you want are after 'main' and 'description'."
   ]
  },
  {
   "cell_type": "code",
   "execution_count": 66,
   "metadata": {},
   "outputs": [
    {
     "data": {
      "text/plain": [
       "'Zophie'"
      ]
     },
     "execution_count": 66,
     "metadata": {},
     "output_type": "execute_result"
    }
   ],
   "source": [
    "# Load JSON data into a Python variable\n",
    "randomData = json.loads(stringOfJsonData) # if api worked then loads(response.text)\n",
    "\n",
    "# Print name using []\n",
    "w = randomData['name']\n",
    "w"
   ]
  },
  {
   "cell_type": "code",
   "execution_count": 69,
   "metadata": {},
   "outputs": [
    {
     "data": {
      "text/plain": [
       "'o'"
      ]
     },
     "execution_count": 69,
     "metadata": {},
     "output_type": "execute_result"
    }
   ],
   "source": [
    "w[1]"
   ]
  },
  {
   "cell_type": "code",
   "execution_count": 70,
   "metadata": {},
   "outputs": [
    {
     "data": {
      "text/plain": [
       "'o'"
      ]
     },
     "execution_count": 70,
     "metadata": {},
     "output_type": "execute_result"
    }
   ],
   "source": [
    "w[1]"
   ]
  },
  {
   "cell_type": "code",
   "execution_count": 71,
   "metadata": {},
   "outputs": [
    {
     "data": {
      "text/plain": [
       "'Z'"
      ]
     },
     "execution_count": 71,
     "metadata": {},
     "output_type": "execute_result"
    }
   ],
   "source": [
    "w[0]"
   ]
  },
  {
   "cell_type": "code",
   "execution_count": 72,
   "metadata": {},
   "outputs": [
    {
     "data": {
      "text/plain": [
       "'ophie'"
      ]
     },
     "execution_count": 72,
     "metadata": {},
     "output_type": "execute_result"
    }
   ],
   "source": [
    "w[1:]"
   ]
  },
  {
   "cell_type": "markdown",
   "metadata": {},
   "source": [
    "### Ideas for Similar Programs\n",
    "Accessing weather data can form the basis for many types of programs. You can create similar programs to do the following:\n",
    "\n",
    "Collect weather forecasts for several campsites or hiking trails to see which one will have the best weather.\n",
    "\n",
    "Schedule a program to regularly check the weather and send you a frost alert if you need to move your plants indoors. (Chapter 15 covers scheduling, and Chapter 16 explains how to send email.)\n",
    "\n",
    "Pull weather data from multiple sites to show all at once, or calculate and show the average of the multiple weather predictions.\n",
    "\n",
    "### Summary\n",
    "CSV and JSON are common plaintext formats for storing data. They are easy for programs to parse while still being human readable, so they are often used for simple spreadsheets or web app data. The csv and json modules greatly simplify the process of reading and writing to CSV and JSON files.\n",
    "\n",
    "The last few chapters have taught you how to use Python to parse information from a wide variety of file formats. One common task is taking data from a variety of formats and parsing it for the particular information you need. These tasks are often specific to the point that commercial software is not optimally helpful. By writing your own scripts, you can make the computer handle large amounts of data presented in these formats.\n",
    "\n",
    "In Chapter 15, you’ll break away from data formats and learn how to make your programs communicate with you by sending emails and text messages."
   ]
  },
  {
   "cell_type": "markdown",
   "metadata": {},
   "source": [
    "### Practice Project"
   ]
  },
  {
   "cell_type": "code",
   "execution_count": 91,
   "metadata": {},
   "outputs": [
    {
     "ename": "SyntaxError",
     "evalue": "unexpected character after line continuation character (<ipython-input-91-bdaad4a03041>, line 16)",
     "output_type": "error",
     "traceback": [
      "\u001b[1;36m  File \u001b[1;32m\"<ipython-input-91-bdaad4a03041>\"\u001b[1;36m, line \u001b[1;32m16\u001b[0m\n\u001b[1;33m    os.chdir(r'C:\\Users\\' + str(os.getlogin()) + r'\\Documents\\Programming\\Python\\Automate_The_Boring_Stuff\\Projects\\Chapter 14')\u001b[0m\n\u001b[1;37m                                                                                                                                ^\u001b[0m\n\u001b[1;31mSyntaxError\u001b[0m\u001b[1;31m:\u001b[0m unexpected character after line continuation character\n"
     ]
    }
   ],
   "source": [
    "#! python3\n",
    "# excel_to_csv.py - Converts all Excel files in a working directory into CSV files\n",
    "\n",
    "import openpyxl\n",
    "import csv\n",
    "import os\n",
    "import re\n",
    "import shutil\n",
    "\n",
    "\"\"\"\n",
    "This first block is for setting up. The idea is to create two new directories so you are working with \n",
    "clean areas. However you can just edit these settings to your personal preference.\n",
    "\"\"\"\n",
    "\n",
    "# Set working directory  \n",
    "\n",
    "path = os.getcwd()\n",
    "path\n",
    "\n",
    "# Create a new one with selective_copy.py and import a bunch of excel spreadsheets.\n",
    "# Create a new variable in this directory for use later with shutil\n",
    "# Create a new direcftory inside the created directory. Store new CSV files here. \n",
    "os.makedirs('csv_files', exist_ok=True)\n",
    "\n",
    "# Create a variable of this directory to use later with shutil (in conjunction with path)\n",
    "new_path = path + '\\\\' + 'csv_files'\n",
    "\n",
    "\"\"\"\n",
    "Next block is reading the excel file, creating new CSV files, then copying the excel files into\n",
    "the new csv files\n",
    "\"\"\" \n",
    "for excel_file in os.listdir('.'):\n",
    "    # Skip the non-xlsx files, load the workbook object\n",
    "    if not excel_file.endswith('.xlsx'):\n",
    "        continue\n",
    "    workbook = openpyxl.load_workbook(excel_file)\n",
    "    # Loop through every sheet in the workbook\n",
    "    for sheets in workbook.sheetnames:\n",
    "        wb_name = re.sub('.xlsx', '', excel_file)  # remove the extension to clean it up\n",
    "        csv_name = wb_name + '_' + sheets + '.csv'  # newly created file\n",
    "\n",
    "        # Open CSV file and create your writer object\n",
    "        csv_file = open(csv_name, 'w', newline='')\n",
    "        csv_writer = csv.writer(csv_file)\n",
    "        sheet = workbook.active\n",
    "\n",
    "        # The first part of the loop to create a new list for each row in each sheet\n",
    "        for row_num in range(1, sheet.max_row + 1):\n",
    "            row_data = []\n",
    "            # Use the list created above to append each cell value through each column\n",
    "            for col_num in range(1, sheet.max_column + 1):\n",
    "                cell_data = sheet.cell(row=row_num, column=col_num).value\n",
    "                row_data.append(cell_data)\n",
    "\n",
    "            # This is the writing step, only write once per row\n",
    "            csv_writer.writerow(row_data)\n",
    "\n",
    "            # Close and move the file\n",
    "        csv_file.close()\n",
    "        shutil.move(os.path.join(path, csv_name), os.path.join(new_path, csv_name))\n",
    "\n",
    "print('Finished')"
   ]
  },
  {
   "cell_type": "code",
   "execution_count": null,
   "metadata": {},
   "outputs": [],
   "source": []
  },
  {
   "cell_type": "code",
   "execution_count": null,
   "metadata": {},
   "outputs": [],
   "source": []
  },
  {
   "cell_type": "code",
   "execution_count": null,
   "metadata": {},
   "outputs": [],
   "source": []
  },
  {
   "cell_type": "code",
   "execution_count": null,
   "metadata": {},
   "outputs": [],
   "source": []
  },
  {
   "cell_type": "code",
   "execution_count": null,
   "metadata": {},
   "outputs": [],
   "source": []
  },
  {
   "cell_type": "code",
   "execution_count": null,
   "metadata": {},
   "outputs": [],
   "source": []
  }
 ],
 "metadata": {
  "kernelspec": {
   "display_name": "Python 3",
   "language": "python",
   "name": "python3"
  },
  "language_info": {
   "codemirror_mode": {
    "name": "ipython",
    "version": 3
   },
   "file_extension": ".py",
   "mimetype": "text/x-python",
   "name": "python",
   "nbconvert_exporter": "python",
   "pygments_lexer": "ipython3",
   "version": "3.7.3"
  }
 },
 "nbformat": 4,
 "nbformat_minor": 2
}
