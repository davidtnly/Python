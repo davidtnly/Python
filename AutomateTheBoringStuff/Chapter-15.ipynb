{
 "cells": [
  {
   "cell_type": "markdown",
   "metadata": {},
   "source": [
    "### Keeping Time, Scheduling Tasks, and Launching Programs\n",
    "\n",
    "Running programs while you’re sitting at your computer is fine, but it’s also useful to have programs run without your direct supervision. Your computer’s clock can schedule programs to run code at some specified time and date or at regular intervals. For example, your program could scrape a website every hour to check for changes or do a CPU-intensive task at 4 AM while you sleep. Python’s time and datetime modules provide these functions.\n",
    "\n",
    "You can also write programs that launch other programs on a schedule by using the subprocess and threading modules. Often, the fastest way to program is to take advantage of applications that other people have already written."
   ]
  },
  {
   "cell_type": "markdown",
   "metadata": {},
   "source": [
    "### The time Module\n",
    "\n",
    "Your computer’s system clock is set to a specific date, time, and time zone. The built-in time module allows your Python programs to read the system clock for the current time. The time.time() and time.sleep() functions are the most useful in the time module."
   ]
  },
  {
   "cell_type": "markdown",
   "metadata": {},
   "source": [
    "### The time.time() Function\n",
    "\n",
    "The Unix epoch is a time reference commonly used in programming: 12 AM on January 1, 1970, Coordinated Universal Time (UTC). The time.time() function returns the number of seconds since that moment as a float value. (Recall that a float is just a number with a decimal point.) This number is called an epoch timestamp. "
   ]
  },
  {
   "cell_type": "code",
   "execution_count": 1,
   "metadata": {},
   "outputs": [
    {
     "data": {
      "text/plain": [
       "1558578080.4978445"
      ]
     },
     "execution_count": 1,
     "metadata": {},
     "output_type": "execute_result"
    }
   ],
   "source": [
    "import time\n",
    "time.time()"
   ]
  },
  {
   "cell_type": "markdown",
   "metadata": {},
   "source": [
    "Here I’m calling time.time() on February 27, 2015, at 11:05 Pacific Standard Time, or 7:05 PM UTC. The return value is how many seconds have passed between the Unix epoch and the moment time.time() was called."
   ]
  },
  {
   "cell_type": "markdown",
   "metadata": {},
   "source": [
    "Epoch timestamps can be used to profile code, that is, measure how long a piece of code takes to run. If you call time.time() at the beginning of the code block you want to measure and again at the end, you can subtract the first timestamp from the second to find the elapsed time between those two calls."
   ]
  },
  {
   "cell_type": "code",
   "execution_count": 3,
   "metadata": {},
   "outputs": [
    {
     "name": "stdout",
     "output_type": "stream",
     "text": [
      "The result is 456569 digits long.\n",
      "Took 7.2046520709991455 seconds to calculate.\n"
     ]
    }
   ],
   "source": [
    "import time\n",
    "def calcProd():\n",
    "    # Calculate the product of the first 100,000 numbers\n",
    "    product = 1\n",
    "    for i in range (1, 100000):\n",
    "        product = product * i\n",
    "    return product\n",
    "\n",
    "startTime = time.time()\n",
    "prod = calcProd()\n",
    "endTime = time.time()\n",
    "\n",
    "print('The result is %s digits long.' % (len(str(prod))))\n",
    "print('Took %s seconds to calculate.' % (endTime - startTime))"
   ]
  },
  {
   "cell_type": "markdown",
   "metadata": {},
   "source": [
    "At ❶, we define a function calcProd() to loop through the integers from 1 to 99,999 and return their product. \n",
    "\n",
    "At ❷, we call time.time() and store it in startTime. Right after calling calcProd(), we call time.time() again and store it in endTime. \n",
    "\n",
    "❸ We end by printing the length of the product returned by calcProd() \n",
    "\n",
    "❹ and how long it took to run calcProd()"
   ]
  },
  {
   "cell_type": "markdown",
   "metadata": {},
   "source": [
    "### The time.sleep() Function\n",
    "\n",
    "If you need to pause your program for a while, call the time.sleep() function and pass it the number of seconds you want your program to stay paused. "
   ]
  },
  {
   "cell_type": "code",
   "execution_count": 8,
   "metadata": {},
   "outputs": [
    {
     "name": "stdout",
     "output_type": "stream",
     "text": [
      "Tick\n",
      "Skipped a second\n",
      "Tick\n",
      "Skipped a second\n",
      "Tick\n",
      "Skipped a second\n"
     ]
    }
   ],
   "source": [
    "import time\n",
    "for i in range(3):\n",
    "    print('Tick')\n",
    "    time.sleep(1)\n",
    "    print('Skipped a second')"
   ]
  },
  {
   "cell_type": "markdown",
   "metadata": {},
   "source": [
    "### Rounding Numbers\n",
    "\n",
    "When working with times, you’ll often encounter float values with many digits after the decimal. To make these values easier to work with, you can shorten them with Python’s built-in round() function, which rounds a float to the precision you specify. Just pass in the number you want to round, plus an optional second argument representing how many digits after the decimal point you want to round it to. If you omit the second argument, round() rounds your number to the nearest whole integer. "
   ]
  },
  {
   "cell_type": "code",
   "execution_count": 8,
   "metadata": {},
   "outputs": [
    {
     "data": {
      "text/plain": [
       "1558579566.08"
      ]
     },
     "execution_count": 8,
     "metadata": {},
     "output_type": "execute_result"
    }
   ],
   "source": [
    "import time\n",
    "now = time.time()\n",
    "round(now, 2)"
   ]
  },
  {
   "cell_type": "code",
   "execution_count": 11,
   "metadata": {},
   "outputs": [
    {
     "data": {
      "text/plain": [
       "1558578530"
      ]
     },
     "execution_count": 11,
     "metadata": {},
     "output_type": "execute_result"
    }
   ],
   "source": [
    "round(now)"
   ]
  },
  {
   "cell_type": "markdown",
   "metadata": {},
   "source": [
    "### Project: Super Stopwatch\n",
    "\n",
    "Say you want to track how much time you spend on boring tasks you haven’t automated yet. You don’t have a physical stopwatch, and it’s surprisingly difficult to find a free stopwatch app for your laptop or smartphone that isn’t covered in ads and doesn’t send a copy of your browser history to marketers. (It says it can do this in the license agreement you agreed to. You did read the license agreement, didn’t you?) You can write a simple stopwatch program yourself in Python.\n",
    "\n",
    "At a high level, here’s what your program will do:\n",
    "\n",
    "    Track the amount of time elapsed between presses of the ENTER key, with each key press starting a new “lap” on the timer.\n",
    "\n",
    "    Print the lap number, total time, and lap time.\n",
    "\n",
    "    This means your code will need to do the following:\n",
    "\n",
    "    Find the current time by calling time.time() and store it as a timestamp at the start of the program, as well as at the start of each lap.\n",
    "\n",
    "    Keep a lap counter and increment it every time the user presses ENTER.\n",
    "\n",
    "    Calculate the elapsed time by subtracting timestamps.\n",
    "\n",
    "    Handle the KeyboardInterrupt exception so the user can press CTRL-C to quit.\n",
    "\n",
    "Open a new file editor window and save it as stopwatch.py."
   ]
  },
  {
   "cell_type": "markdown",
   "metadata": {},
   "source": [
    "### Step 1: Set Up the Program to Track Times\n",
    "\n",
    "The stopwatch program will need to use the current time, so you’ll want to import the time module. Your program should also print some brief instructions to the user before calling input(), so the timer can begin after the user presses ENTER. Then the code will start tracking lap times."
   ]
  },
  {
   "cell_type": "code",
   "execution_count": 12,
   "metadata": {},
   "outputs": [
    {
     "name": "stdout",
     "output_type": "stream",
     "text": [
      "Press ENTER to begin. Afterwards, press ENTER to \"click\" the stopwatch. Press Ctrl-C to quit.\n",
      "\n",
      "Started\n"
     ]
    }
   ],
   "source": [
    "#! python3\n",
    "# stopwatch.py - A simple stopwatch program.\n",
    "\n",
    "import time\n",
    "\n",
    "# Display the program's instructions\n",
    "print('Press ENTER to begin. Afterwards, press ENTER to \"click\" the stopwatch. Press Ctrl-C to quit.')\n",
    "\n",
    "input() # Press enter to begin\n",
    "print('Started')\n",
    "startTime = time.time() # Get starting time\n",
    "lastTime = startTime\n",
    "lapNum = 1\n",
    "\n",
    "# TODO: Start tracking the lap times."
   ]
  },
  {
   "cell_type": "markdown",
   "metadata": {},
   "source": [
    "### Step 2: Track and Print Lap Times\n",
    "\n",
    "Now let’s write the code to start each new lap, calculate how long the previous lap took, and calculate the total time elapsed since starting the stopwatch. We’ll display the lap time and total time and increase the lap count for each new lap. "
   ]
  },
  {
   "cell_type": "code",
   "execution_count": null,
   "metadata": {},
   "outputs": [],
   "source": [
    "#! python3\n",
    "# stopwatch.py - A simple stopwatch program.\n",
    "\n",
    "import time\n",
    "\n",
    "# Display the program's instructions\n",
    "print('Press ENTER to begin. Afterwards, press ENTER to \"click\" the stopwatch. Press Ctrl-C to quit.')\n",
    "\n",
    "input() # Press enter to begin\n",
    "print('Started')\n",
    "startTime = time.time() # Get starting time\n",
    "lastTime = startTime\n",
    "lapNum = 1\n",
    "\n",
    "# Start tracking the lap times.\n",
    "try:\n",
    "    while lapNum < 10:\n",
    "        input()\n",
    "        lapTime = round(time.time() - lastTime, 2)\n",
    "        totalTime = round(time.time() - startTime, 2)\n",
    "        print('Lap #%s: %s (%s)' % (lapNum, totalTime, lapTime), end = '')\n",
    "        lapNum += 1\n",
    "        lastTime = time.time() # Reset the time\n",
    "except KeyboardInterrupt:\n",
    "    # Handle the Ctrl-C exception to keep its error message from displaying.\n",
    "    print('\\nDone.')"
   ]
  },
  {
   "cell_type": "markdown",
   "metadata": {},
   "source": [
    "If the user presses CTRL-C to stop the stopwatch, the KeyboardInterrupt exception will be raised, and the program will crash if its execution is not a try statement. To prevent crashing, we wrap this part of the program in a try statement ❶. We’ll handle the exception in the except clause ❻, so when CTRL-C is pressed and the exception is raised, the program execution moves to the except clause to print Done, instead of the KeyboardInterrupt error message. Until this happens, the execution is inside an infinite loop ❷ that calls input() and waits until the user presses ENTER to end a lap. When a lap ends, we calculate how long the lap took by subtracting the start time of the lap, lastTime, from the current time, time.time() ❸. We calculate the total time elapsed by subtracting the overall start time of the stopwatch, startTime, from the current time ❹.\n",
    "\n",
    "Since the results of these time calculations will have many digits after the decimal point (such as 4.766272783279419), we use the round() function to round the float value to two digits at ❸ and ❹.\n",
    "\n",
    "At ❺, we print the lap number, total time elapsed, and the lap time. Since the user pressing ENTER for the input() call will print a newline to the screen, pass end='' to the print() function to avoid double-spacing the output. After printing the lap information, we get ready for the next lap by adding 1 to the count lapNum and setting lastTime to the current time, which is the start time of the next lap."
   ]
  },
  {
   "cell_type": "markdown",
   "metadata": {},
   "source": [
    "### Ideas for Similar Programs\n",
    "\n",
    "Time tracking opens up several possibilities for your programs. Although you can download apps to do some of these things, the benefit of writing programs yourself is that they will be free and not bloated with ads and useless features. You could write similar programs to do the following:\n",
    "\n",
    "    Create a simple timesheet app that records when you type a person’s name and uses the current time to clock them in or out.\n",
    "\n",
    "    Add a feature to your program to display the elapsed time since a process started, such as a download that uses the requests module. (See Chapter 11.)\n",
    "\n",
    "    Intermittently check how long a program has been running and offer the user a chance to cancel tasks that are taking too long.\n",
    "\n"
   ]
  },
  {
   "cell_type": "markdown",
   "metadata": {},
   "source": [
    "### The datetime Module\n",
    "\n",
    "The time module is useful for getting a Unix epoch timestamp to work with. But if you want to display a date in a more convenient format, or do arithmetic with dates (for example, figuring out what date was 205 days ago or what date is 123 days from now), you should use the datetime module.\n",
    "\n",
    "The datetime module has its own datetime data type. datetime values represent a specific moment in time."
   ]
  },
  {
   "cell_type": "code",
   "execution_count": 1,
   "metadata": {},
   "outputs": [],
   "source": [
    "import datetime"
   ]
  },
  {
   "cell_type": "code",
   "execution_count": 2,
   "metadata": {},
   "outputs": [
    {
     "data": {
      "text/plain": [
       "datetime.datetime(2019, 5, 22, 19, 45, 13, 443047)"
      ]
     },
     "execution_count": 2,
     "metadata": {},
     "output_type": "execute_result"
    }
   ],
   "source": [
    "datetime.datetime.now()"
   ]
  },
  {
   "cell_type": "code",
   "execution_count": 3,
   "metadata": {},
   "outputs": [],
   "source": [
    "dt = datetime.datetime(2015, 10, 21, 16, 29, 0)"
   ]
  },
  {
   "cell_type": "code",
   "execution_count": 4,
   "metadata": {},
   "outputs": [
    {
     "data": {
      "text/plain": [
       "(2015, 10, 21)"
      ]
     },
     "execution_count": 4,
     "metadata": {},
     "output_type": "execute_result"
    }
   ],
   "source": [
    "dt.year, dt.month, dt.day"
   ]
  },
  {
   "cell_type": "code",
   "execution_count": 5,
   "metadata": {},
   "outputs": [
    {
     "data": {
      "text/plain": [
       "(16, 29, 0)"
      ]
     },
     "execution_count": 5,
     "metadata": {},
     "output_type": "execute_result"
    }
   ],
   "source": [
    "dt.hour, dt.minute, dt.second"
   ]
  },
  {
   "cell_type": "markdown",
   "metadata": {},
   "source": [
    "Calling datetime.datetime.now() ❶ returns a datetime object ❷ for the current date and time, according to your computer’s clock. This object includes the year, month, day, hour, minute, second, and microsecond of the current moment. You can also retrieve a datetime object for a specific moment by using the datetime.datetime() function ❸, passing it integers representing the year, month, day, hour, and second of the moment you want. These integers will be stored in the datetime object’s year, month, day ❹, hour, minute, and second ❺ attributes.\n",
    "\n",
    "A Unix epoch timestamp can be converted to a datetime object with the datetime.datetime.fromtimestamp() function. The date and time of the datetime object will be converted for the local time zone"
   ]
  },
  {
   "cell_type": "code",
   "execution_count": 6,
   "metadata": {},
   "outputs": [
    {
     "data": {
      "text/plain": [
       "datetime.datetime(1970, 1, 12, 5, 46, 40)"
      ]
     },
     "execution_count": 6,
     "metadata": {},
     "output_type": "execute_result"
    }
   ],
   "source": [
    "datetime.datetime.fromtimestamp(1000000)"
   ]
  },
  {
   "cell_type": "code",
   "execution_count": 9,
   "metadata": {},
   "outputs": [
    {
     "data": {
      "text/plain": [
       "datetime.datetime(2019, 5, 22, 19, 46, 9, 85876)"
      ]
     },
     "execution_count": 9,
     "metadata": {},
     "output_type": "execute_result"
    }
   ],
   "source": [
    "datetime.datetime.fromtimestamp(time.time())"
   ]
  },
  {
   "cell_type": "markdown",
   "metadata": {},
   "source": [
    "Calling datetime.datetime.fromtimestamp() and passing it 1000000 returns a datetime object for the moment 1,000,000 seconds after the Unix epoch. Passing time.time(), the Unix epoch timestamp for the current moment, returns a datetime object for the current moment. So the expressions datetime.datetime.now() and datetime.datetime.fromtimestamp(time.time()) do the same thing; they both give you a datetime object for the present moment."
   ]
  },
  {
   "cell_type": "markdown",
   "metadata": {},
   "source": [
    "datetime objects can be compared with each other using comparison operators to find out which one precedes the other. The later datetime object is the “greater” value. "
   ]
  },
  {
   "cell_type": "code",
   "execution_count": 11,
   "metadata": {},
   "outputs": [],
   "source": [
    "halloween2015 = datetime.datetime(2015, 10, 31, 0, 0, 0)\n",
    "newyears2016 = datetime.datetime(2016, 1, 1, 0, 0, 0)\n",
    "oct31_2015 = datetime.datetime(2015, 10, 31, 0, 0, 0)"
   ]
  },
  {
   "cell_type": "code",
   "execution_count": 12,
   "metadata": {},
   "outputs": [
    {
     "data": {
      "text/plain": [
       "True"
      ]
     },
     "execution_count": 12,
     "metadata": {},
     "output_type": "execute_result"
    }
   ],
   "source": [
    "halloween2015 == oct31_2015"
   ]
  },
  {
   "cell_type": "code",
   "execution_count": 13,
   "metadata": {},
   "outputs": [
    {
     "data": {
      "text/plain": [
       "False"
      ]
     },
     "execution_count": 13,
     "metadata": {},
     "output_type": "execute_result"
    }
   ],
   "source": [
    "halloween2015 > newyears2016"
   ]
  },
  {
   "cell_type": "code",
   "execution_count": 14,
   "metadata": {},
   "outputs": [
    {
     "data": {
      "text/plain": [
       "True"
      ]
     },
     "execution_count": 14,
     "metadata": {},
     "output_type": "execute_result"
    }
   ],
   "source": [
    "newyears2016 > halloween2015"
   ]
  },
  {
   "cell_type": "code",
   "execution_count": 15,
   "metadata": {},
   "outputs": [
    {
     "data": {
      "text/plain": [
       "True"
      ]
     },
     "execution_count": 15,
     "metadata": {},
     "output_type": "execute_result"
    }
   ],
   "source": [
    "newyears2016 != oct31_2015"
   ]
  },
  {
   "cell_type": "markdown",
   "metadata": {},
   "source": [
    "Make a datetime object for the first moment (midnight) of October 31, 2015 and store it in halloween2015 ❶. Make a datetime object for the first moment of January 1, 2016 and store it in newyears2016 ❷. Then make another object for midnight on October 31, 2015 and store it in oct31_2015. Comparing halloween2015 and oct31_2015 shows that they’re equal ❸. Comparing newyears2016 and halloween2015 shows that newyears2016 is greater (later) than halloween2015 ❹ ❺."
   ]
  },
  {
   "cell_type": "markdown",
   "metadata": {},
   "source": [
    "### The timedelta Data Type\n",
    "\n",
    "The datetime module also provides a timedelta data type, which represents a duration of time rather than a moment in time."
   ]
  },
  {
   "cell_type": "code",
   "execution_count": 16,
   "metadata": {},
   "outputs": [],
   "source": [
    "delta = datetime.timedelta(days=11, hours=10, minutes=9, seconds=8)"
   ]
  },
  {
   "cell_type": "code",
   "execution_count": 17,
   "metadata": {},
   "outputs": [
    {
     "data": {
      "text/plain": [
       "(11, 36548, 0)"
      ]
     },
     "execution_count": 17,
     "metadata": {},
     "output_type": "execute_result"
    }
   ],
   "source": [
    "delta.days, delta.seconds, delta.microseconds"
   ]
  },
  {
   "cell_type": "code",
   "execution_count": 18,
   "metadata": {},
   "outputs": [
    {
     "data": {
      "text/plain": [
       "986948.0"
      ]
     },
     "execution_count": 18,
     "metadata": {},
     "output_type": "execute_result"
    }
   ],
   "source": [
    "delta.total_seconds()"
   ]
  },
  {
   "cell_type": "markdown",
   "metadata": {},
   "source": [
    "#### timedelta() - (days, seconds, microseconds) - .days .seconds .microseconds\n",
    "\n",
    "To create a timedelta object, use the datetime.timedelta() function. The datetime.timedelta() function takes keyword arguments weeks, days, hours, minutes, seconds, milliseconds, and microseconds. There is no month or year keyword argument because “a month” or “a year” is a variable amount of time depending on the particular month or year. A timedelta object has the total duration represented in days, seconds, and microseconds. These numbers are stored in the days, seconds, and microseconds attributes, respectively. The total_seconds() method will return the duration in number of seconds alone. Passing a timedelta object to str() will return a nicely formatted, human-readable string representation of the object.\n",
    "\n",
    "In this example, we pass keyword arguments to datetime.delta() to specify a duration of 11 days, 10 hours, 9 minutes, and 8 seconds, and store the returned timedelta object in delta ❶. This timedelta object’s days attributes stores 11, and its seconds attribute stores 36548 (10 hours, 9 minutes, and 8 seconds, expressed in seconds) ❷. Calling total_seconds() tells us that 11 days, 10 hours, 9 minutes, and 8 seconds is 986,948 seconds. Finally, passing the timedelta object to str() returns a string clearly explaning the duration.\n",
    "\n",
    "The arithmetic operators can be used to perform date arithmetic on datetime values. For example, to calculate the date 1,000 days from now"
   ]
  },
  {
   "cell_type": "code",
   "execution_count": 19,
   "metadata": {},
   "outputs": [],
   "source": [
    "dt = datetime.datetime.now()"
   ]
  },
  {
   "cell_type": "code",
   "execution_count": 20,
   "metadata": {},
   "outputs": [
    {
     "data": {
      "text/plain": [
       "datetime.datetime(2019, 5, 22, 19, 53, 9, 222728)"
      ]
     },
     "execution_count": 20,
     "metadata": {},
     "output_type": "execute_result"
    }
   ],
   "source": [
    "dt"
   ]
  },
  {
   "cell_type": "code",
   "execution_count": 21,
   "metadata": {},
   "outputs": [],
   "source": [
    "thousandDays = datetime.timedelta(days=1000)"
   ]
  },
  {
   "cell_type": "code",
   "execution_count": 22,
   "metadata": {},
   "outputs": [
    {
     "data": {
      "text/plain": [
       "datetime.datetime(2022, 2, 15, 19, 53, 9, 222728)"
      ]
     },
     "execution_count": 22,
     "metadata": {},
     "output_type": "execute_result"
    }
   ],
   "source": [
    "dt + thousandDays"
   ]
  },
  {
   "cell_type": "markdown",
   "metadata": {},
   "source": [
    "First, make a datetime object for the current moment and store it in dt. Then make a timedelta object for a duration of 1,000 days and store it in thousandDays. Add dt and thousandDays together to get a datetime object for the date 1,000 days from now. Python will do the date arithmetic to figure out that 1,000 days after February 27, 2015, will be November 23, 2017. This is useful because when you calculate 1,000 days from a given date, you have to remember how many days are in each month and factor in leap years and other tricky details. The datetime module handles all of this for you.\n",
    "\n",
    "timedelta objects can be added or subtracted with datetime objects or other timedelta objects using the + and - operators. A timedelta object can be multiplied or divided by integer or float values with the * and / operators. "
   ]
  },
  {
   "cell_type": "code",
   "execution_count": 23,
   "metadata": {},
   "outputs": [],
   "source": [
    "oct21st = datetime.datetime(2015, 10, 21, 16, 29, 0)"
   ]
  },
  {
   "cell_type": "code",
   "execution_count": 24,
   "metadata": {},
   "outputs": [],
   "source": [
    "aboutThirtyYears = datetime.timedelta(days=365 * 30)"
   ]
  },
  {
   "cell_type": "code",
   "execution_count": 25,
   "metadata": {},
   "outputs": [
    {
     "data": {
      "text/plain": [
       "datetime.datetime(2015, 10, 21, 16, 29)"
      ]
     },
     "execution_count": 25,
     "metadata": {},
     "output_type": "execute_result"
    }
   ],
   "source": [
    "oct21st"
   ]
  },
  {
   "cell_type": "code",
   "execution_count": 26,
   "metadata": {},
   "outputs": [
    {
     "data": {
      "text/plain": [
       "datetime.datetime(1985, 10, 28, 16, 29)"
      ]
     },
     "execution_count": 26,
     "metadata": {},
     "output_type": "execute_result"
    }
   ],
   "source": [
    "oct21st - aboutThirtyYears"
   ]
  },
  {
   "cell_type": "code",
   "execution_count": 27,
   "metadata": {},
   "outputs": [
    {
     "data": {
      "text/plain": [
       "datetime.datetime(1955, 11, 5, 16, 29)"
      ]
     },
     "execution_count": 27,
     "metadata": {},
     "output_type": "execute_result"
    }
   ],
   "source": [
    "oct21st - (2 * aboutThirtyYears)"
   ]
  },
  {
   "cell_type": "markdown",
   "metadata": {},
   "source": [
    "Here we make a datetime object for October 21, 2015 ❶ and a timedelta object for a duration of about 30 years (we’re assuming 365 days for each of those years) ❷. Subtracting aboutThirtyYears from oct21st gives us a datetime object for the date 30 years before October 21, 2015. Subtracting 2 * aboutThirtyYears from oct21st returns a datetime object for the date 60 years before October 21, 2015."
   ]
  },
  {
   "cell_type": "markdown",
   "metadata": {},
   "source": [
    "### Pausing Until a Specific Date\n",
    "\n",
    "The time.sleep() method lets you pause a program for a certain number of seconds. By using a while loop, you can pause your programs until a specific date. For example, the following code will continue to loop until Halloween 2016:"
   ]
  },
  {
   "cell_type": "code",
   "execution_count": 28,
   "metadata": {},
   "outputs": [],
   "source": [
    "import datetime\n",
    "import time\n",
    "halloween2016 = datetime.datetime(2016, 10, 31, 0, 0, 0)\n",
    "while datetime.datetime.now() < halloween2016:\n",
    "    time.sleep1()"
   ]
  },
  {
   "cell_type": "markdown",
   "metadata": {},
   "source": [
    "The time.sleep(1) call will pause your Python program so that the computer doesn’t waste CPU processing cycles simply checking the time over and over. Rather, the while loop will just check the condition once per second and continue with the rest of the program after Halloween 2016 (or whenever you program it to stop)."
   ]
  },
  {
   "cell_type": "markdown",
   "metadata": {},
   "source": [
    "### Converting datetime Objects into Strings\n",
    "\n",
    "Epoch timestamps and datetime objects aren’t very friendly to the human eye. Use the strftime() method to display a datetime object as a string. (The f in the name of the strftime() function stands for format.)\n",
    "\n",
    "The strftime() method uses directives similar to Python’s string formatting. Table 15-1 has a full list of strftime() directives."
   ]
  },
  {
   "cell_type": "markdown",
   "metadata": {},
   "source": [
    "#### strrftime() - custom date string\n",
    "Pass strrftime() a custom format string containing formatting directives (along with any desired slashes, colons, and so on), and strftime() will return the datetime object’s information as a formatted string."
   ]
  },
  {
   "cell_type": "code",
   "execution_count": 29,
   "metadata": {},
   "outputs": [],
   "source": [
    "oct21st = datetime.datetime(2015, 10, 21, 16, 29, 0)"
   ]
  },
  {
   "cell_type": "code",
   "execution_count": 30,
   "metadata": {},
   "outputs": [
    {
     "data": {
      "text/plain": [
       "'2015/10/21 16:29:00'"
      ]
     },
     "execution_count": 30,
     "metadata": {},
     "output_type": "execute_result"
    }
   ],
   "source": [
    "oct21st.strftime('%Y/%m/%d %H:%M:%S')"
   ]
  },
  {
   "cell_type": "code",
   "execution_count": 31,
   "metadata": {},
   "outputs": [
    {
     "data": {
      "text/plain": [
       "'04:29 PM'"
      ]
     },
     "execution_count": 31,
     "metadata": {},
     "output_type": "execute_result"
    }
   ],
   "source": [
    "oct21st.strftime('%I:%M %p')"
   ]
  },
  {
   "cell_type": "code",
   "execution_count": 32,
   "metadata": {},
   "outputs": [
    {
     "data": {
      "text/plain": [
       "\"October of '15\""
      ]
     },
     "execution_count": 32,
     "metadata": {},
     "output_type": "execute_result"
    }
   ],
   "source": [
    "oct21st.strftime(\"%B of '%y\")"
   ]
  },
  {
   "cell_type": "markdown",
   "metadata": {},
   "source": [
    "### Converting Strings into datetime Objects\n",
    "\n",
    "If you have a string of date information, such as '2015/10/21 16:29:00' or 'October 21, 2015', and need to convert it to a datetime object, use the datetime.datetime.strptime() function. The strptime() function is the inverse of the strftime() method. A custom format string using the same directives as strftime() must be passed so that strptime() knows how to parse and understand the string. (The p in the name of the strptime() function stands for parse.)"
   ]
  },
  {
   "cell_type": "code",
   "execution_count": 33,
   "metadata": {},
   "outputs": [
    {
     "data": {
      "text/plain": [
       "datetime.datetime(2015, 10, 21, 0, 0)"
      ]
     },
     "execution_count": 33,
     "metadata": {},
     "output_type": "execute_result"
    }
   ],
   "source": [
    "datetime.datetime.strptime('October 21, 2015', '%B %d, %Y')"
   ]
  },
  {
   "cell_type": "code",
   "execution_count": 34,
   "metadata": {},
   "outputs": [
    {
     "data": {
      "text/plain": [
       "datetime.datetime(2015, 10, 21, 16, 29)"
      ]
     },
     "execution_count": 34,
     "metadata": {},
     "output_type": "execute_result"
    }
   ],
   "source": [
    "datetime.datetime.strptime('2015/10/21 16:29:00', '%Y/%m/%d %H:%M:%S')"
   ]
  },
  {
   "cell_type": "code",
   "execution_count": 35,
   "metadata": {},
   "outputs": [
    {
     "data": {
      "text/plain": [
       "datetime.datetime(2015, 10, 1, 0, 0)"
      ]
     },
     "execution_count": 35,
     "metadata": {},
     "output_type": "execute_result"
    }
   ],
   "source": [
    "datetime.datetime.strptime(\"October of '15\", \"%B of '%y\")"
   ]
  },
  {
   "cell_type": "code",
   "execution_count": 36,
   "metadata": {},
   "outputs": [
    {
     "data": {
      "text/plain": [
       "datetime.datetime(2063, 11, 1, 0, 0)"
      ]
     },
     "execution_count": 36,
     "metadata": {},
     "output_type": "execute_result"
    }
   ],
   "source": [
    "datetime.datetime.strptime(\"November of '63\", \"%B of '%y\")"
   ]
  },
  {
   "cell_type": "markdown",
   "metadata": {},
   "source": [
    "To get a datetime object from the string 'October 21, 2015', pass 'October 21, 2015' as the first argument to strptime() and the custom format string that corresponds to 'October 21, 2015' as the second argument ❶. The string with the date information must match the custom format string exactly, or Python will raise a ValueError exception."
   ]
  },
  {
   "cell_type": "markdown",
   "metadata": {},
   "source": [
    "#### Review of Python’s Time Functions\n",
    "\n",
    "Dates and times in Python can involve quite a few different data types and functions. Here’s a review of the three different types of values used to represent time:\n",
    "\n",
    "    A Unix epoch timestamp (used by the time module) is a float or integer value of the number of seconds since 12 AM on January 1, 1970, UTC.\n",
    "\n",
    "    A datetime object (of the datetime module) has integers stored in the attributes year, month, day, hour, minute, and second.\n",
    "\n",
    "    A timedelta object (of the datetime module) represents a time duration, rather than a specific moment.\n",
    "\n",
    "Here’s a review of time functions and their parameters and return values:\n",
    "\n",
    "    The time.time() function returns an epoch timestamp float value of the current moment.\n",
    "\n",
    "    The time.sleep(seconds) function stops the program for the amount of seconds specified by the seconds argument.\n",
    "\n",
    "    The datetime.datetime(year, month, day, hour, minute, second) function returns a datetime object of the moment specified by the arguments. If hour, minute, or second arguments are not provided, they default to 0.\n",
    "\n",
    "    The datetime.datetime.now() function returns a datetime object of the current moment.\n",
    "\n",
    "    The datetime.datetime.fromtimestamp(epoch) function returns a datetime object of the moment represented by the epoch timestamp argument.\n",
    "\n",
    "    The datetime.timedelta(weeks, days, hours, minutes, seconds, milliseconds, microseconds) function returns a timedelta object representing a duration of time. The function’s keyword arguments are all optional and do not include month or year.\n",
    "\n",
    "    The total_seconds() method for timedelta objects returns the number of seconds the timedelta object represents.\n",
    "\n",
    "    The strftime(format) method returns a string of the time represented by the datetime object in a custom format that’s based on the format string. See Table 15-1 for the format details.\n",
    "\n",
    "    The datetime.datetime.strptime(time_string, format) function returns a datetime object of the moment specified by time_string, parsed using the format string argument. See Table 15-1 for the format details.\n",
    "\n"
   ]
  },
  {
   "cell_type": "markdown",
   "metadata": {},
   "source": [
    "### Multithreading\n",
    "\n",
    "To introduce the concept of multithreading, let’s look at an example situation. Say you want to schedule some code to run after a delay or at a specific time. You could add code like the following at the start of your program:"
   ]
  },
  {
   "cell_type": "code",
   "execution_count": null,
   "metadata": {},
   "outputs": [],
   "source": [
    "import time\n",
    "import datetime\n",
    "\n",
    "startTime = datetime.datetime(2029, 10, 31, 0, 0, 0)\n",
    "while datetime.datetime.now() < startTime:\n",
    "    time.sleep(1)\n",
    "\n",
    "print('Program now starting on Halloween 2029')"
   ]
  },
  {
   "cell_type": "markdown",
   "metadata": {},
   "source": [
    "This code designates a start time of October 31, 2029, and keeps calling time.sleep(1) until the start time arrives. Your program cannot do anything while waiting for the loop of time.sleep() calls to finish; it just sits around until Halloween 2029. This is because Python programs by default have a single thread of execution.\n",
    "\n",
    "To understand what a thread of execution is, remember the Chapter 2 discussion of flow control, when you imagined the execution of a program as placing your finger on a line of code in your program and moving to the next line or wherever it was sent by a flow control statement. A single-threaded program has only one finger. But a multithreaded program has multiple fingers. Each finger still moves to the next line of code as defined by the flow control statements, but the fingers can be at different places in the program, executing different lines of code at the same time. (All of the programs in this book so far have been single threaded.)\n",
    "\n",
    "Rather than having all of your code wait until the time.sleep() function finishes, you can execute the delayed or scheduled code in a separate thread using Python’s threading module. The separate thread will pause for the time.sleep calls. Meanwhile, your program can do other work in the original thread.\n",
    "\n",
    "To make a separate thread, you first need to make a Thread object by calling the threading.Thread() function. Enter the following code in a new file and save it as threadDemo.py:"
   ]
  },
  {
   "cell_type": "code",
   "execution_count": null,
   "metadata": {},
   "outputs": [],
   "source": [
    "import threading\n",
    "import time\n",
    "print('Start of program.')\n",
    "\n",
    "def takeANap():\n",
    "    time.sleep(5)\n",
    "    print('Wake up!')\n",
    "\n",
    "threadObj = threading.Thread(target=takeANap)\n",
    "threadObj.start() # second thread\n",
    "\n",
    "print('End of program.') # end of  the first thread\n",
    "\n",
    "# Python will not terminate until all of the threads have terminated"
   ]
  },
  {
   "cell_type": "markdown",
   "metadata": {},
   "source": [
    "At ❶, we define a function that we want to use in a new thread. To create a Thread object, we call threading.Thread() and pass it the keyword argument target=takeANap ❷. This means the function we want to call in the new thread is takeANap(). Notice that the keyword argument is target=takeANap, not target=takeANap(). This is because you want to pass the takeANap() function itself as the argument, not call takeANap() and pass its return value.\n",
    "\n",
    "After we store the Thread object created by threading.Thread() in threadObj, we call threadObj.start() ❸ to create the new thread and start executing the target function in the new thread. When this program is run, the output will look like this:\n",
    "\n",
    "    Start of program.\n",
    "\n",
    "    End of program.\n",
    "\n",
    "    Wake up!\n",
    "This can be a bit confusing. If print('End of program.') is the last line of the program, you might think that it should be the last thing printed. The reason Wake up! comes after it is that when threadObj.start() is called, the target function for threadObj is run in a new thread of execution. Think of it as a second finger appearing at the start of the takeANap() function. The main thread continues to print('End of program.'). Meanwhile, the new thread that has been executing the time.sleep(5) call, pauses for 5 seconds. After it wakes from its 5-second nap, it prints 'Wake up!' and then returns from the takeANap() function. Chronologically, 'Wake up!' is the last thing printed by the program.\n",
    "\n",
    "Normally a program terminates when the last line of code in the file has run (or the sys.exit() function is called). But threadDemo.py has two threads. The first is the original thread that began at the start of the program and ends after print('End of program.'). The second thread is created when threadObj.start() is called, begins at the start of the takeANap() function, and ends after takeANap() returns.\n",
    "\n",
    "A Python program will not terminate until all its threads have terminated. When you ran threadDemo.py, even though the original thread had terminated, the second thread was still executing the time.sleep(5) call."
   ]
  },
  {
   "cell_type": "markdown",
   "metadata": {},
   "source": [
    "### Passing Arguments to the Thread’s Target Function\n",
    "\n",
    "If the target function you want to run in the new thread takes arguments, you can pass the target function’s arguments to threading.Thread(). For example, say you wanted to run this print() call in its own thread:"
   ]
  },
  {
   "cell_type": "code",
   "execution_count": 1,
   "metadata": {},
   "outputs": [
    {
     "name": "stdout",
     "output_type": "stream",
     "text": [
      "Cats & Dogs & Frogs\n"
     ]
    }
   ],
   "source": [
    "print('Cats', 'Dogs', 'Frogs', sep=' & ')"
   ]
  },
  {
   "cell_type": "markdown",
   "metadata": {},
   "source": [
    "This print() call has three regular arguments, 'Cats', 'Dogs', and 'Frogs', and one keyword argument, sep=' & '. The regular arguments can be passed as a list to the args keyword argument in threading.Thread(). The keyword argument can be specified as a dictionary to the kwargs keyword argument in threading.Thread()."
   ]
  },
  {
   "cell_type": "code",
   "execution_count": 2,
   "metadata": {},
   "outputs": [],
   "source": [
    "import threading\n",
    "threadObj = threading.Thread(target=print, args = ['Cats', 'Dogs', 'Frogs'], kwargs={'sep': ' & '})"
   ]
  },
  {
   "cell_type": "code",
   "execution_count": 3,
   "metadata": {},
   "outputs": [
    {
     "name": "stdout",
     "output_type": "stream",
     "text": [
      "Cats & Dogs & Frogs\n"
     ]
    }
   ],
   "source": [
    "threadObj.start()"
   ]
  },
  {
   "cell_type": "code",
   "execution_count": 9,
   "metadata": {},
   "outputs": [],
   "source": [
    "from datetime import datetime\n",
    "import time\n",
    "d = datetime.strptime('2019-05-10', '%Y-%m-%d')"
   ]
  },
  {
   "cell_type": "code",
   "execution_count": 10,
   "metadata": {},
   "outputs": [
    {
     "data": {
      "text/plain": [
       "datetime.datetime(2019, 5, 10, 0, 0)"
      ]
     },
     "execution_count": 10,
     "metadata": {},
     "output_type": "execute_result"
    }
   ],
   "source": [
    "d"
   ]
  },
  {
   "cell_type": "code",
   "execution_count": 11,
   "metadata": {},
   "outputs": [
    {
     "data": {
      "text/plain": [
       "'2019-05-10'"
      ]
     },
     "execution_count": 11,
     "metadata": {},
     "output_type": "execute_result"
    }
   ],
   "source": [
    "# Convert string to date\n",
    "d.strftime('%Y-%m-%d')"
   ]
  },
  {
   "cell_type": "markdown",
   "metadata": {},
   "source": [
    "### To avoid concurrency issues, never let multiple threads read or write the same variables. "
   ]
  },
  {
   "cell_type": "markdown",
   "metadata": {},
   "source": [
    "### Concurrency Issues\n",
    "\n",
    "You can easily create several new threads and have them all running at the same time. But multiple threads can also cause problems called concurrency issues. These issues happen when threads read and write variables at the same time, causing the threads to trip over each other. Concurrency issues can be hard to reproduce consistently, making them hard to debug.\n",
    "\n",
    "Multithreaded programming is its own wide subject and beyond the scope of this book. What you have to keep in mind is this: To avoid concurrency issues, never let multiple threads read or write the same variables. When you create a new Thread object, make sure its target function uses only local variables in that function. This will avoid hard-to-debug concurrency issues in your programs."
   ]
  },
  {
   "cell_type": "markdown",
   "metadata": {},
   "source": [
    "### Project: Multithreaded XKCD Downloader\n",
    "\n",
    "In Chapter 11, you wrote a program that downloaded all of the XKCD comic strips from the XKCD website. This was a single-threaded program: It downloaded one comic at a time. Much of the program’s running time was spent establishing the network connection to begin the download and writing the downloaded images to the hard drive. If you have a broadband Internet connection, your single-threaded program wasn’t fully utilizing the available bandwidth.\n",
    "\n",
    "A multithreaded program that has some threads downloading comics while others are establishing connections and writing the comic image files to disk uses your Internet connection more efficiently and downloads the collection of comics more quickly. Open a new file editor window and save it as multidownloadXkcd.py. You will modify this program to add multithreading. The completely modified source code is available to download from http://nostarch.com/automatestuff/."
   ]
  },
  {
   "cell_type": "markdown",
   "metadata": {},
   "source": [
    "#### Step 1: Modify the Program to Use a Function\n",
    "\n",
    "This program will mostly be the same downloading code from Chapter 11, so I’ll skip the explanation for the Requests and BeautifulSoup code. The main changes you need to make are importing the threading module and making a downloadXkcd() function, which takes starting and ending comic numbers as parameters.\n",
    "\n",
    "For example, calling downloadXkcd(140, 280) would loop over the downloading code to download the comics at http://xkcd.com/140, http://xkcd.com/141, http://xkcd.com/142, and so on, up to http://xkcd.com/279. Each thread that you create will call downloadXkcd() and pass a different range of comics to download."
   ]
  },
  {
   "cell_type": "code",
   "execution_count": null,
   "metadata": {},
   "outputs": [],
   "source": [
    "#! python3\n",
    "# multidownloadXkcd.py - Downloads comics using multiple threads\n",
    "\n",
    "import requests\n",
    "import os\n",
    "import bs4\n",
    "import threading\n",
    "\n",
    "# Store comic in xkcd\n",
    "os.makedir('xkcd', exist_ok=True)\n",
    "\n",
    "# Define function\n",
    "def dlXkcd(start, end):\n",
    "    for urlNumber in range(start, end + 1):\n",
    "        # Download the page\n",
    "        print('Downloading page http://xkcd.com/%s...' % (urlNumber))\n",
    "        res = requests.get('http://xkcd.com/%s' % (urlNumber))\n",
    "        res.raise_for_status()\n",
    "        \n",
    "        # Soup\n",
    "        soup = bs4.BeautifulSoup(res.text)\n",
    "        \n",
    "        # Find URL of the comic image\n",
    "        comicElem = soup.select('#comic img')\n",
    "        if comicElem == []:\n",
    "            print('Could not find comic.')\n",
    "        else:\n",
    "            comicURL = comicElem[0].get('src')\n",
    "            # Download the image\n",
    "            print('Downloading image %s...' % (comicURL))\n",
    "            res = requests.get(comicURL)\n",
    "            res.raise_for_status()\n",
    "            \n",
    "            # Save image into new folder\n",
    "            imageFile = open(os.path.join('xkcd', os.path.basename(comicURL)), 'wb')\n",
    "            for chunk in res.iter_content(100000):\n",
    "                imageFile.write(chunk)\n",
    "            imageFile.close()\n",
    "    \n",
    "# TODO: Create and start the thread object\n",
    "\n",
    "# TODO: Wait for all threads to end"
   ]
  },
  {
   "cell_type": "code",
   "execution_count": null,
   "metadata": {},
   "outputs": [],
   "source": [
    "#! python3\n",
    "# multidownloadXkcd.py - Downloads comics using multiple threads\n",
    "\n",
    "import requests\n",
    "import os\n",
    "import bs4\n",
    "import threading\n",
    "\n",
    "# Store comic in xkcd\n",
    "os.makedir('xkcd', exist_ok=True)\n",
    "\n",
    "# Define function\n",
    "def dlXkcd(start, end):\n",
    "    for urlNumber in range(start, end + 1):\n",
    "        # Download the page\n",
    "        print('Downloading page http://xkcd.com/%s...' % (urlNumber))\n",
    "        res = requests.get('http://xkcd.com/%s' % (urlNumber))\n",
    "        res.raise_for_status()\n",
    "        \n",
    "        # Soup\n",
    "        soup = bs4.BeautifulSoup(res.text)\n",
    "        \n",
    "        # Find URL of the comic image\n",
    "        comicElem = soup.select('#comic img')\n",
    "        if comicElem == []:\n",
    "            print('Could not find comic.')\n",
    "        else:\n",
    "            comicURL = comicElem[0].get('src')\n",
    "            # Download the image\n",
    "            print('Downloading image %s...' % (comicURL))\n",
    "            res = requests.get(comicURL)\n",
    "            res.raise_for_status()\n",
    "            \n",
    "            # Save image into new folder\n",
    "            imageFile = open(os.path.join('xkcd', os.path.basename(comicURL)), 'wb')\n",
    "            for chunk in res.iter_content(100000):\n",
    "                imageFile.write(chunk)\n",
    "            imageFile.close()\n",
    "\n",
    "# Create and start the thread object; download comics by creating multiple threads\n",
    "downloadThreads = []          # a list of all the Thread objects\n",
    "for i in range(0, 1400, 100): # loops through 14 times, creates 14 threads\n",
    "    # use threading.Thread(target, args)\n",
    "    downloadThread = threading.Thread(target=dlXkcd, args=(i, i + 99))\n",
    "    # append downloadThread\n",
    "    downloadThreads.append(downloadThread)\n",
    "    downloadThread.start()"
   ]
  },
  {
   "cell_type": "markdown",
   "metadata": {},
   "source": [
    "First we make an empy list downloadThreads; the list will help us keep track of the many Thread objects we’ll create. Then we start our for loop. Each time through the loop, we create a Thread object with threading.Thread(), append the Thread object to the list, and call start() to start running downloadXkcd() in the new thread. Since the for loop sets the i variable from 0 to 1400 at steps of 100, i will be set to 0 on the first iteration, 100 on the second iteration, 200 on the third, and so on. Since we pass args=(i, i + 99) to threading.Thread(), the two arguments passed to downloadXkcd() will be 0 and 99 on the first iteration, 100 and 199 on the second iteration, 200 and 299 on the third, and so on.\n",
    "\n",
    "As the Thread object’s start() method is called and the new thread begins to run the code inside downloadXkcd(), the main thread will continue to the next iteration of the for loop and create the next thread."
   ]
  },
  {
   "cell_type": "markdown",
   "metadata": {},
   "source": [
    "### Step 3: Wait for All Threads to End\n",
    "\n",
    "The main thread moves on as normal while the other threads we create download comics. But say there’s some code you don’t want to run in the main thread until all the threads have completed. Calling a Thread object’s join() method will block until that thread has finished. By using a for loop to iterate over all the Thread objects in the downloadThreads list, the main thread can call the join() method on each of the other threads. "
   ]
  },
  {
   "cell_type": "code",
   "execution_count": null,
   "metadata": {},
   "outputs": [],
   "source": [
    "# Using join(), Block code so you don't run into the main thread until all threads are completed\n",
    "# Wait for all threads to finish\n",
    "for downloadThread in downloadThreads:\n",
    "    downloadThread.join()\n",
    "\n",
    "print('Done.')"
   ]
  },
  {
   "cell_type": "markdown",
   "metadata": {},
   "source": [
    "The 'Done.' string will not be printed until all of the join() calls have returned. If a Thread object has already completed when its join() method is called, then the method will simply return immediately. If you wanted to extend this program with code that runs only after all of the comics downloaded, you could replace the print('Done.') line with your new code."
   ]
  },
  {
   "cell_type": "markdown",
   "metadata": {},
   "source": [
    "### Launching Other Programs from Python\n",
    "\n",
    "Your Python program can start other programs on your computer with the Popen() function in the built-in subprocess module. (The P in the name of the Popen() function stands for process.) If you have multiple instances of an application open, each of those instances is a separate process of the same program. For example, if you open multiple windows of your web browser at the same time, each of those windows is a different process of the web browser program. See Figure 15-1 for an example of multiple calculator processes open at once.\n",
    "\n",
    "Every process can have multiple threads. Unlike threads, a process cannot directly read and write another process’s variables. If you think of a multithreaded program as having multiple fingers following source code, then having multiple processes of the same program open is like having a friend with a separate copy of the program’s source code. You are both independently executing the same program.\n",
    "\n",
    "If you want to start an external program from your Python script, pass the program’s filename to subprocess.Popen(). (On Windows, right-click the application’s Start menu item and select Properties to view the application’s filename. On OS X, CTRL-click the application and select Show Package Contents to find the path to the executable file.) The Popen() function will then immediately return. Keep in mind that the launched program is not run in the same thread as your Python program."
   ]
  },
  {
   "cell_type": "code",
   "execution_count": 12,
   "metadata": {},
   "outputs": [],
   "source": [
    "import subprocess"
   ]
  },
  {
   "cell_type": "code",
   "execution_count": 13,
   "metadata": {},
   "outputs": [
    {
     "data": {
      "text/plain": [
       "<subprocess.Popen at 0x6465b70>"
      ]
     },
     "execution_count": 13,
     "metadata": {},
     "output_type": "execute_result"
    }
   ],
   "source": [
    "subprocess.Popen('C:\\\\Windows\\\\System32\\\\calc.exe')"
   ]
  },
  {
   "cell_type": "markdown",
   "metadata": {},
   "source": [
    "The return value is a Popen object, which has two useful methods: poll() and wait().\n",
    "\n",
    "You can think of the poll() method as asking your friend if she’s finished running the code you gave her. The poll() method will return None if the process is still running at the time poll() is called. If the program has terminated, it will return the process’s integer exit code. An exit code is used to indicate whether the process terminated without errors (an exit code of 0) or whether an error caused the process to terminate (a nonzero exit code—generally 1, but it may vary depending on the program).\n",
    "\n",
    "The wait() method is like waiting for your friend to finish working on her code before you keep working on yours. The wait() method will block until the launched process has terminated. This is helpful if you want your program to pause until the user finishes with the other program. The return value of wait() is the process’s integer exit code.\n",
    "\n",
    "On Windows, enter the following into the interactive shell. Note that the wait() call will block until you quit the launched calculator program."
   ]
  },
  {
   "cell_type": "code",
   "execution_count": 14,
   "metadata": {},
   "outputs": [],
   "source": [
    "calcProc = subprocess.Popen('c:\\\\Windows\\\\System32\\\\calc.exe')"
   ]
  },
  {
   "cell_type": "code",
   "execution_count": 16,
   "metadata": {},
   "outputs": [
    {
     "data": {
      "text/plain": [
       "False"
      ]
     },
     "execution_count": 16,
     "metadata": {},
     "output_type": "execute_result"
    }
   ],
   "source": [
    "calcProc.poll() == None"
   ]
  },
  {
   "cell_type": "code",
   "execution_count": 17,
   "metadata": {},
   "outputs": [
    {
     "data": {
      "text/plain": [
       "0"
      ]
     },
     "execution_count": 17,
     "metadata": {},
     "output_type": "execute_result"
    }
   ],
   "source": [
    "calcProc.wait()"
   ]
  },
  {
   "cell_type": "code",
   "execution_count": 18,
   "metadata": {},
   "outputs": [
    {
     "data": {
      "text/plain": [
       "0"
      ]
     },
     "execution_count": 18,
     "metadata": {},
     "output_type": "execute_result"
    }
   ],
   "source": [
    "calcProc.poll()"
   ]
  },
  {
   "cell_type": "markdown",
   "metadata": {},
   "source": [
    "Here we open a calculator process ❶. While it’s still running, we check if poll() returns None ❷. It should, as the process is still running. Then we close the calculator program and call wait() on the terminated process ❸. wait() and poll() now return 0, indicating that the process terminated without errors."
   ]
  },
  {
   "cell_type": "markdown",
   "metadata": {},
   "source": [
    "#### The UNIX Philosophy\n",
    "\n",
    "Programs well designed to be launched by other programs become more powerful than their code alone. The Unix philosophy is a set of software design principles established by the programmers of the Unix operating system (on which the modern Linux and OS X are built). It says that it’s better to write small, limited-purpose programs that can interoperate, rather than large, feature-rich applications. The smaller programs are easier to understand, and by being interoperable, they can be the building blocks of much more powerful applications.\n",
    "\n",
    "Smartphone apps follow this approach as well. If your restaurant app needs to display directions to a café, the developers didn’t reinvent the wheel by writing their own map code. The restaurant app simply launches a map app while passing it the café’s address, just as your Python code would call a function and pass it arguments.\n",
    "\n",
    "The Python programs you’ve been writing in this book mostly fit the Unix philosophy, especially in one important way: They use command line arguments rather than input() function calls. If all the information your program needs can be supplied up front, it is preferable to have this information passed as command line arguments rather than waiting for the user to type it in. This way, the command line arguments can be entered by a human user or supplied by another program. This interoperable approach will make your programs reusable as part of another program.\n",
    "\n",
    "The sole exception is that you don’t want passwords passed as command line arguments, since the command line may record them as part of its command history feature. Instead, your program should call the input() function when it needs you to enter a password."
   ]
  },
  {
   "cell_type": "markdown",
   "metadata": {},
   "source": [
    "### Project: Simple Countdown Program\n",
    "\n",
    "Just like it’s hard to find a simple stopwatch application, it can be hard to find a simple countdown application. Let’s write a countdown program that plays an alarm at the end of the countdown.\n",
    "\n",
    "At a high level, here’s what your program will do:\n",
    "\n",
    "    Count down from 60.\n",
    "\n",
    "    Play a sound file (alarm.wav) when the countdown reaches zero.\n",
    "\n",
    "This means your code will need to do the following:\n",
    "\n",
    "    Pause for one second in between displaying each number in the countdown by calling time.sleep().\n",
    "\n",
    "    Call subprocess.Popen() to open the sound file with the default application.\n",
    "\n",
    "Open a new file editor window and save it as countdown.py."
   ]
  },
  {
   "cell_type": "markdown",
   "metadata": {},
   "source": [
    "### Step 1: Count Down\n",
    "\n",
    "This program will require the time module for the time.sleep() function and the subprocess module for the subprocess.Popen() function."
   ]
  },
  {
   "cell_type": "code",
   "execution_count": 19,
   "metadata": {},
   "outputs": [
    {
     "name": "stdout",
     "output_type": "stream",
     "text": [
      "605958575655545352515049484746454443424140393837363534333231302928272625242322212019181716151413121110987654321"
     ]
    },
    {
     "data": {
      "text/plain": [
       "<subprocess.Popen at 0x6465290>"
      ]
     },
     "execution_count": 19,
     "metadata": {},
     "output_type": "execute_result"
    }
   ],
   "source": [
    "#! python3\n",
    "# countdown.py - simple countdown script\n",
    "\n",
    "import time\n",
    "import subprocess\n",
    "\n",
    "timeleft = 60\n",
    "\n",
    "while timeleft > 0:\n",
    "    print(timeleft, end='')\n",
    "    time.sleep(1)\n",
    "    timeleft = timeleft-1\n",
    "\n",
    "# Play sound file when 0\n",
    "subprocess.Popen(['start', 'alarm.wav'], shell=True)"
   ]
  },
  {
   "cell_type": "markdown",
   "metadata": {},
   "source": [
    "After the while loop finishes, alarm.wav (or the sound file you choose) will play to notify the user that the countdown is over. On Windows, be sure to include 'start' in the list you pass to Popen() and pass the keyword argument shell=True. On OS X, pass 'open' instead of 'start' and remove shell=True.\n",
    "\n",
    "Instead of playing a sound file, you could save a text file somewhere with a message like Break time is over! and use Popen() to open it at the end of the countdown. This will effectively create a pop-up window with a message. Or you could use the webbrowser.open() function to open a specific website at the end of the countdown. Unlike some free countdown application you’d find online, your own countdown program’s alarm can be anything you want!"
   ]
  },
  {
   "cell_type": "markdown",
   "metadata": {},
   "source": [
    "### Ideas for Similar Programs\n",
    "\n",
    "A countdown is a simple delay before continuing the program’s execution. This can also be used for other applications and features, such as the following:\n",
    "\n",
    "    Use time.sleep() to give the user a chance to press CTRL-C to cancel an action, such as deleting files. Your program can print a “Press CTRL-C to cancel” message and then handle any KeyboardInterrupt exceptions with try and except statements.\n",
    "\n",
    "    For a long-term countdown, you can use timedelta objects to measure the number of days, hours, minutes, and seconds until some point (a birthday? an anniversary?) in the future.\n",
    "\n"
   ]
  },
  {
   "cell_type": "markdown",
   "metadata": {},
   "source": [
    "### Summary\n",
    "\n",
    "The Unix epoch (January 1, 1970, at midnight, UTC) is a standard reference time for many programming languages, including Python. While the time.time() function module returns an epoch timestamp (that is, a float value of the number of seconds since the Unix epoch), the datetime module is better for performing date arithmetic and formatting or parsing strings with date information.\n",
    "\n",
    "The time.sleep() function will block (that is, not return) for a certain number of seconds. It can be used to add pauses to your program. But if you want to schedule your programs to start at a certain time, the instructions at http://nostarch.com/automatestuff/ can tell you how to use the scheduler already provided by your operating system.\n",
    "\n",
    "The threading module is used to create multiple threads, which is useful when you need to download multiple files or do other tasks simultaneously. But make sure the thread reads and writes only local variables, or you might run into concurrency issues.\n",
    "\n",
    "Finally, your Python programs can launch other applications with the subprocess.Popen() function. Command line arguments can be passed to the Popen() call to open specific documents with the application. Alternatively, you can use the start, open, or see program with Popen() to use your computer’s file associations to automatically figure out which application to use to open a document. By using the other applications on your computer, your Python programs can leverage their capabilities for your automation needs."
   ]
  },
  {
   "cell_type": "markdown",
   "metadata": {},
   "source": [
    "### Practice Questions"
   ]
  },
  {
   "cell_type": "markdown",
   "metadata": {},
   "source": [
    "1. What is the Unix epoch? reference moment that many date and time programs use"
   ]
  },
  {
   "cell_type": "markdown",
   "metadata": {},
   "source": [
    "2. What function returns the number of seconds since the Unix epoch? time.time()"
   ]
  },
  {
   "cell_type": "markdown",
   "metadata": {},
   "source": [
    "3. How can you pause your program for exactly 5 seconds? time.sleep(5)"
   ]
  },
  {
   "cell_type": "markdown",
   "metadata": {},
   "source": [
    "5. What is the difference between a datetime object and a timedelta object? a datetime obj represents a specific moment in time and timedelta object represents a duration of time"
   ]
  },
  {
   "cell_type": "markdown",
   "metadata": {},
   "source": [
    "6. Say you have a function named spam(). How can you call this function and run the code inside it in a separate thread? \n",
    "\n",
    "    def spam():\n",
    "\n",
    "    threading.Thread(target=spam)\n",
    "\n",
    "    threadObj.start()"
   ]
  },
  {
   "cell_type": "markdown",
   "metadata": {},
   "source": [
    "7. What should you do to avoid concurrency issues with multiple threads? \n",
    "\n",
    "    Make sure that code running in one thread does not read or write the same variables as code running in another thread."
   ]
  },
  {
   "cell_type": "markdown",
   "metadata": {},
   "source": [
    "8. How can you have your Python program run the calc.exe program located in the C:\\Windows\\System32 folder? \n",
    "\n",
    "    subprocess.Popen('c:\\\\Windows\\\\System32\\\\calc.exe')"
   ]
  },
  {
   "cell_type": "code",
   "execution_count": null,
   "metadata": {},
   "outputs": [],
   "source": [
    "#! python3\n",
    "# stopwatch.py - Stopwatch function with 'pretty' output as well as copying to clipboard\n",
    "\n",
    "import time\n",
    "import pyperclip\n",
    "\n",
    "\n",
    "# Set variables\n",
    "start_time = time.time()\n",
    "last_time = start_time\n",
    "lap_num = 1\n",
    "lines = []  # empty list to store values\n",
    "\n",
    "# while Loop through time and laps\n",
    "try:\n",
    "    while lap_num < 10:\n",
    "        input()\n",
    "        line = ''\n",
    "        lap_time = format(round(time.time() - last_time, 2), '.2f')\n",
    "        total_time = format(round(time.time() - start_time, 2), '.2f')\n",
    "        lapNum = 'Lap #%s: ' % str(lap_num)\n",
    "        totalTime = str(total_time).rjust(5)\n",
    "        lapTime = ' (%s)' % str(lap_time).rjust(5)\n",
    "        totalPrint = (lapNum + totalTime + lapTime)\n",
    "        print(totalPrint, end='')\n",
    "        lines.append(totalPrint)\n",
    "        lap_num += 1\n",
    "        last_time = time.time()\n",
    "except KeyboardInterrupt:\n",
    "    # Handle the Ctrl-C exception to keep its erro message frm displaying\n",
    "    print('\\nDone')\n",
    "\n",
    "# The join() method takes an iterable - objects capable of returning its members one at a time\n",
    "text = '\\n'.join(lines)\n",
    "pyperclip.copy(text)\n"
   ]
  },
  {
   "cell_type": "code",
   "execution_count": null,
   "metadata": {},
   "outputs": [],
   "source": [
    "#! python3\n",
    "# scheduled_web_comic_downloader.py\n",
    "\n",
    "\"\"\"\n",
    "To see how most of this was written see cyanide_and_happiness.py\n",
    "This will only go over the scheduling portion\n",
    "\"\"\"\n",
    "\n",
    "import requests\n",
    "import os\n",
    "import bs4\n",
    "import time\n",
    "\n",
    "# Check directory\n",
    "os.getcwd()\n",
    "\n",
    "'''\n",
    "Setting a variable in global. If we want to run this function over and over,\n",
    "we need to make sure that each time the function starts it doesn't replace our\n",
    "variables with the same value. So we need to put the variables OUTSIDE the function.\n",
    "add global (variable_name) right after the function. Then it's a global variable and can be used \n",
    "inside the function itself.\n",
    "'''\n",
    "\n",
    "# Define global variables\n",
    "comic = 1\n",
    "url_image_num = 4980\n",
    "\n",
    "def download_comic():\n",
    "    global comic\n",
    "    global url_image_num\n",
    "    url = 'http://explosm.net/comics/' + str(url_image_num) + '/'\n",
    "    try:\n",
    "        # Start request to the url\n",
    "        res = requests.get(url)\n",
    "        res.raise_for_status()\n",
    "\n",
    "        # Parse soup\n",
    "        soup = bs4.BeautifulSoup(res.text, 'html.parser')\n",
    "        match = soup.find('img', id='main-comic')\n",
    "\n",
    "        # Get comic url\n",
    "        comic_url = 'http:' + match.get('src')\n",
    "\n",
    "        # Request comic url\n",
    "        res = requests.get(comic_url)\n",
    "        res.raise_for_status()\n",
    "\n",
    "        # Download images\n",
    "        print('Downloading C&H' + str(comic).zfill(4) + '...')\n",
    "        image_file = open('C&H' + str(comic).zfill(4) + '.jpg', 'wb')\n",
    "\n",
    "        # Loop through images\n",
    "        for chunk in res.iter_content(100000):\n",
    "            image_file.write(chunk)\n",
    "        image_file.close()\n",
    "        comic += 1\n",
    "        url = 'http://explosm.net/comics/' + str(url_image_num + 1) + '/'\n",
    "        print(url)\n",
    "    except requests.exceptions.HTTPError:\n",
    "        print('No comic was found. Will try again in 8 hours.')\n",
    "\n",
    "    # Use time.sleep(1) in a loop in seconds\n",
    "    for second in range(28800):\n",
    "        time.sleep(1)\n",
    "\n",
    "# Another loop controls the function itself. Since there are three 8-hr blocks in a day, 21 for loops will run\n",
    "# for a week straight.\n",
    "for hour_block in range(21):\n",
    "    print('Searching for new comic')\n",
    "    download_comic()"
   ]
  }
 ],
 "metadata": {
  "kernelspec": {
   "display_name": "Python 3",
   "language": "python",
   "name": "python3"
  },
  "language_info": {
   "codemirror_mode": {
    "name": "ipython",
    "version": 3
   },
   "file_extension": ".py",
   "mimetype": "text/x-python",
   "name": "python",
   "nbconvert_exporter": "python",
   "pygments_lexer": "ipython3",
   "version": "3.7.3"
  }
 },
 "nbformat": 4,
 "nbformat_minor": 2
}
