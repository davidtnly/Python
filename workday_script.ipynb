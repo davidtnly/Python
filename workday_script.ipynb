{
 "cells": [
  {
   "cell_type": "code",
   "execution_count": null,
   "metadata": {},
   "outputs": [],
   "source": [
    "from selenium import webdriver\n",
    "from selenium.webdriver.common.keys import Keys\n",
    "import random\n",
    "import time\n",
    "\n",
    "# Set login and URL\n",
    "loginID = 'login'\n",
    "pwID = 'password'\n",
    "url = 'workdaylink'\n",
    "\n",
    "# Set Chrome options\n",
    "options = webdriver.ChromeOptions()\n",
    "downloadPath = r''\n",
    "prefs = {'download.default_directory': downloadPath}\n",
    "options.add_experimental_option('prefs', prefs)\n",
    "\n",
    "# Load URL\n",
    "browser = webdriver.Chrome(options = options)\n",
    "browser.implicitly_wait(2)\n",
    "browser.get(url)\n",
    "\n",
    "# Get element user\n",
    "userEleme = browser.find_element_by_class_name('GNMRENADP0B')\n",
    "userEleme.send_keys(loginID)\n",
    "time.sleep(2)\n",
    "\n",
    "# Get element password\n",
    "passEleme = browser.find_element_by_xpath('//*[@id=\"noImageRequiredForLoadTime\"]/div[1]/div[2]/div[2]/div/div[1]/div/div[1]/div[3]/div[2]/div/input')\n",
    "passEleme.send_keys(pwID)\n",
    "time.sleep(2)\n",
    "\n",
    "# Get click element\n",
    "submitEleme = browser.find_element_by_xpath('//*[@id=\"noImageRequiredForLoadTime\"]/div[1]/div[2]/div[2]/div/div[1]/div/div[1]/div[3]/button')\n",
    "submitEleme.click()\n",
    "time.sleep(2)\n",
    "\n",
    "print('Login successful.')\n",
    "\n",
    "# Find files option and download latest file\n",
    "print('Finding latest file to download...')\n",
    "# browser.find_element_by_xpath('//*[@id=\"noImageRequiredForLoadTime\"]/div[1]/div[2]/div[2]/div/div[1]/div/div[1]/div[3]/button').click()\n",
    "\n",
    "print('Skipping remember device page...')\n",
    "skipElem = browser.find_element_by_css_selector('button.css-u0wewu-ButtonAsLink.ep8bwan0')\n",
    "skipElem.click()\n",
    "time.sleep(3)\n",
    "print('Loading home page...')\n",
    "\n",
    "# Get to the download file page\n",
    "print('File found! Downloading...')\n",
    "browser.find_element_by_xpath('//*[@id=\"promptOption-gwt-uid-2\"]').click()\n",
    "         \n",
    "# Finished\n",
    "time.sleep(10)\n",
    "browser.quit()\n",
    "print('Finished downloading latest file to: ' + downloadPath)"
   ]
  }
 ],
 "metadata": {
  "kernelspec": {
   "display_name": "Python 3",
   "language": "python",
   "name": "python3"
  },
  "language_info": {
   "codemirror_mode": {
    "name": "ipython",
    "version": 3
   },
   "file_extension": ".py",
   "mimetype": "text/x-python",
   "name": "python",
   "nbconvert_exporter": "python",
   "pygments_lexer": "ipython3",
   "version": "3.7.3"
  }
 },
 "nbformat": 4,
 "nbformat_minor": 2
}
