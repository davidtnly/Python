{
 "cells": [
  {
   "cell_type": "markdown",
   "metadata": {},
   "source": [
    "### Working with Excel Spreadsheets\n",
    "Excel is a popular and powerful spreadsheet application for Windows. The openpyxl module allows your Python programs to read and modify Excel spreadsheet files. For example, you might have the boring task of copying certain data from one spreadsheet and pasting it into another one. Or you might have to go through thousands of rows and pick out just a handful of them to make small edits based on some criteria. Or you might have to look through hundreds of spreadsheets of department budgets, searching for any that are in the red. These are exactly the sort of boring, mindless spreadsheet tasks that Python can do for you.\n",
    "\n",
    "Although Excel is proprietary software from Microsoft, there are free alternatives that run on Windows, OS X, and Linux. Both LibreOffice Calc and OpenOffice Calc work with Excel’s .xlsx file format for spreadsheets, which means the openpyxl module can work on spreadsheets from these applications as well. You can download the software from https://www.libreoffice.org/ and http://www.openoffice.org/, respectively. Even if you already have Excel installed on your computer, you may find these programs easier to use. The screenshots in this chapter, however, are all from Excel 2010 on Windows 7."
   ]
  },
  {
   "cell_type": "markdown",
   "metadata": {},
   "source": [
    "### Excel Documents\n",
    "\n",
    "First, let’s go over some basic definitions: An Excel spreadsheet document is called a workbook. A single workbook is saved in a file with the .xlsx extension. Each workbook can contain multiple sheets (also called worksheets). The sheet the user is currently viewing (or last viewed before closing Excel) is called the active sheet.\n",
    "\n",
    "Each sheet has columns (addressed by letters starting at A) and rows (addressed by numbers starting at 1). A box at a particular column and row is called a cell. Each cell can contain a number or text value. The grid of cells with data makes up a sheet."
   ]
  },
  {
   "cell_type": "markdown",
   "metadata": {},
   "source": [
    "### Installing the openpyxl Module\n",
    "\n",
    "Python does not come with OpenPyXL, so you’ll have to install it. Follow the instructions for installing third-party modules in Appendix A; the name of the module is openpyxl. "
   ]
  },
  {
   "cell_type": "markdown",
   "metadata": {},
   "source": [
    "### Reading Excel Documents\n",
    "\n",
    "The examples in this chapter will use a spreadsheet named example.xlsx stored in the root folder. You can either create the spreadsheet yourself or download it from http://nostarch.com/automatestuff/. Figure 12-1 shows the tabs for the three default sheets named Sheet1, Sheet2, and Sheet3 that Excel automatically provides for new workbooks. (The number of default sheets created may vary between operating systems and spreadsheet programs.)"
   ]
  },
  {
   "cell_type": "code",
   "execution_count": 71,
   "metadata": {},
   "outputs": [
    {
     "name": "stdout",
     "output_type": "stream",
     "text": [
      "C:\\Users\\David Ly\\Documents\\Programming\\Python\\Automate_The_Boring_Stuff\\Projects\\Chapter 12\n",
      "C:\\Users\\David Ly\\Documents\\Programming\\Python\\Automate_The_Boring_Stuff\\Projects\n",
      "None\n",
      "C:\\Users\\David Ly\\Documents\\Programming\\Python\\Automate_The_Boring_Stuff\\Projects\n"
     ]
    },
    {
     "ename": "FileNotFoundError",
     "evalue": "[WinError 3] The system cannot find the path specified: '\\\\Python\\\\Automate_The_Boring_Stuff\\\\Projects\\\\Chapter 12\\\\'",
     "output_type": "error",
     "traceback": [
      "\u001b[1;31m---------------------------------------------------------------------------\u001b[0m",
      "\u001b[1;31mFileNotFoundError\u001b[0m                         Traceback (most recent call last)",
      "\u001b[1;32m<ipython-input-71-4da68ffef8c4>\u001b[0m in \u001b[0;36m<module>\u001b[1;34m\u001b[0m\n\u001b[0;32m      5\u001b[0m \u001b[0mprint\u001b[0m\u001b[1;33m(\u001b[0m\u001b[0mos\u001b[0m\u001b[1;33m.\u001b[0m\u001b[0mchdir\u001b[0m\u001b[1;33m(\u001b[0m\u001b[1;34m'..'\u001b[0m\u001b[1;33m)\u001b[0m\u001b[1;33m)\u001b[0m\u001b[1;33m\u001b[0m\u001b[1;33m\u001b[0m\u001b[0m\n\u001b[0;32m      6\u001b[0m \u001b[0mprint\u001b[0m\u001b[1;33m(\u001b[0m\u001b[0mos\u001b[0m\u001b[1;33m.\u001b[0m\u001b[0mpath\u001b[0m\u001b[1;33m.\u001b[0m\u001b[0mabspath\u001b[0m\u001b[1;33m(\u001b[0m\u001b[0mos\u001b[0m\u001b[1;33m.\u001b[0m\u001b[0mcurdir\u001b[0m\u001b[1;33m)\u001b[0m\u001b[1;33m)\u001b[0m\u001b[1;33m\u001b[0m\u001b[1;33m\u001b[0m\u001b[0m\n\u001b[1;32m----> 7\u001b[1;33m \u001b[0mos\u001b[0m\u001b[1;33m.\u001b[0m\u001b[0mchdir\u001b[0m\u001b[1;33m(\u001b[0m\u001b[1;34m'\\\\Python\\\\Automate_The_Boring_Stuff\\\\Projects\\\\Chapter 12\\\\'\u001b[0m\u001b[1;33m)\u001b[0m\u001b[1;33m\u001b[0m\u001b[1;33m\u001b[0m\u001b[0m\n\u001b[0m\u001b[0;32m      8\u001b[0m \u001b[1;33m\u001b[0m\u001b[0m\n\u001b[0;32m      9\u001b[0m \u001b[0mwb\u001b[0m \u001b[1;33m=\u001b[0m \u001b[0mopenpyxl\u001b[0m\u001b[1;33m.\u001b[0m\u001b[0mload_workbook\u001b[0m\u001b[1;33m(\u001b[0m\u001b[1;34m'example.xlsx'\u001b[0m\u001b[1;33m)\u001b[0m\u001b[1;33m\u001b[0m\u001b[1;33m\u001b[0m\u001b[0m\n",
      "\u001b[1;31mFileNotFoundError\u001b[0m: [WinError 3] The system cannot find the path specified: '\\\\Python\\\\Automate_The_Boring_Stuff\\\\Projects\\\\Chapter 12\\\\'"
     ]
    }
   ],
   "source": [
    "import openpyxl\n",
    "import os\n",
    "print(os.getcwd())\n",
    "print(os.path.dirname(os.getcwd()))\n",
    "print(os.chdir('..'))\n",
    "print(os.path.abspath(os.curdir))\n",
    "os.chdir('\\\\Python\\\\Automate_The_Boring_Stuff\\\\Projects\\\\Chapter 12\\\\')\n",
    "\n",
    "wb = openpyxl.load_workbook('example.xlsx')"
   ]
  },
  {
   "cell_type": "markdown",
   "metadata": {},
   "source": [
    "### Getting Sheets from the Workbook\n",
    "\n",
    "You can get a list of all the sheet names in the workbook by calling the get_sheet_names() method."
   ]
  },
  {
   "cell_type": "code",
   "execution_count": 6,
   "metadata": {},
   "outputs": [
    {
     "name": "stdout",
     "output_type": "stream",
     "text": [
      "['Sheet1', 'Sheet2', 'Sheet3']\n"
     ]
    },
    {
     "data": {
      "text/plain": [
       "openpyxl.workbook.workbook.Workbook"
      ]
     },
     "execution_count": 6,
     "metadata": {},
     "output_type": "execute_result"
    }
   ],
   "source": [
    "import openpyxl\n",
    "wb = openpyxl.load_workbook('example.xlsx')\n",
    "print(wb.sheetnames) # DeprecationWarning with wb.get_sheet_names()\n",
    "type(wb)"
   ]
  },
  {
   "cell_type": "code",
   "execution_count": 7,
   "metadata": {},
   "outputs": [],
   "source": [
    "sheet = wb[\"Sheet3\"]  # List object is not callable error: wb.sheetnames('Sheet3') "
   ]
  },
  {
   "cell_type": "code",
   "execution_count": 8,
   "metadata": {},
   "outputs": [
    {
     "data": {
      "text/plain": [
       "<Worksheet \"Sheet3\">"
      ]
     },
     "execution_count": 8,
     "metadata": {},
     "output_type": "execute_result"
    }
   ],
   "source": [
    "sheet"
   ]
  },
  {
   "cell_type": "code",
   "execution_count": 9,
   "metadata": {},
   "outputs": [
    {
     "data": {
      "text/plain": [
       "openpyxl.worksheet.worksheet.Worksheet"
      ]
     },
     "execution_count": 9,
     "metadata": {},
     "output_type": "execute_result"
    }
   ],
   "source": [
    "type(sheet)"
   ]
  },
  {
   "cell_type": "code",
   "execution_count": 10,
   "metadata": {},
   "outputs": [
    {
     "data": {
      "text/plain": [
       "'Sheet3'"
      ]
     },
     "execution_count": 10,
     "metadata": {},
     "output_type": "execute_result"
    }
   ],
   "source": [
    "sheet.title"
   ]
  },
  {
   "cell_type": "code",
   "execution_count": 11,
   "metadata": {},
   "outputs": [
    {
     "data": {
      "text/plain": [
       "<Worksheet \"Sheet1\">"
      ]
     },
     "execution_count": 11,
     "metadata": {},
     "output_type": "execute_result"
    }
   ],
   "source": [
    "# wb.active - read another active member variable of a workbook obj to get active sheet\n",
    "anotherSheet = wb.active\n",
    "anotherSheet"
   ]
  },
  {
   "cell_type": "markdown",
   "metadata": {},
   "source": [
    "### Getting Cells from the Sheets\n",
    "\n",
    "Once you have a Worksheet object, you can access a Cell object by its name."
   ]
  },
  {
   "cell_type": "code",
   "execution_count": 12,
   "metadata": {},
   "outputs": [
    {
     "data": {
      "text/plain": [
       "<Cell 'Sheet1'.A1>"
      ]
     },
     "execution_count": 12,
     "metadata": {},
     "output_type": "execute_result"
    }
   ],
   "source": [
    "import openpyxl\n",
    "wb = openpyxl.load_workbook('example.xlsx')\n",
    "sheet = wb['Sheet1']\n",
    "sheet['A1']"
   ]
  },
  {
   "cell_type": "code",
   "execution_count": 13,
   "metadata": {},
   "outputs": [
    {
     "data": {
      "text/plain": [
       "datetime.datetime(2015, 4, 5, 13, 34, 2)"
      ]
     },
     "execution_count": 13,
     "metadata": {},
     "output_type": "execute_result"
    }
   ],
   "source": [
    "sheet['A1'].value"
   ]
  },
  {
   "cell_type": "code",
   "execution_count": 14,
   "metadata": {},
   "outputs": [],
   "source": [
    "c = sheet['B1']"
   ]
  },
  {
   "cell_type": "code",
   "execution_count": 15,
   "metadata": {},
   "outputs": [
    {
     "data": {
      "text/plain": [
       "'Apples'"
      ]
     },
     "execution_count": 15,
     "metadata": {},
     "output_type": "execute_result"
    }
   ],
   "source": [
    "c.value"
   ]
  },
  {
   "cell_type": "code",
   "execution_count": 16,
   "metadata": {},
   "outputs": [
    {
     "data": {
      "text/plain": [
       "'Row 1, Column 2 is Apples'"
      ]
     },
     "execution_count": 16,
     "metadata": {},
     "output_type": "execute_result"
    }
   ],
   "source": [
    "'Row ' + str(c.row) + ', Column ' + str(c.column) + ' is ' + c.value"
   ]
  },
  {
   "cell_type": "code",
   "execution_count": 17,
   "metadata": {},
   "outputs": [
    {
     "data": {
      "text/plain": [
       "'Cell B1 is Apples'"
      ]
     },
     "execution_count": 17,
     "metadata": {},
     "output_type": "execute_result"
    }
   ],
   "source": [
    "'Cell ' + c.coordinate + ' is ' + c.value"
   ]
  },
  {
   "cell_type": "code",
   "execution_count": 18,
   "metadata": {},
   "outputs": [
    {
     "data": {
      "text/plain": [
       "73"
      ]
     },
     "execution_count": 18,
     "metadata": {},
     "output_type": "execute_result"
    }
   ],
   "source": [
    "sheet['C1'].value"
   ]
  },
  {
   "cell_type": "code",
   "execution_count": 19,
   "metadata": {},
   "outputs": [
    {
     "name": "stdout",
     "output_type": "stream",
     "text": [
      "Row: 1, Column: 2 is Apples\n",
      "Cell B1 is Apples\n"
     ]
    },
    {
     "data": {
      "text/plain": [
       "73"
      ]
     },
     "execution_count": 19,
     "metadata": {},
     "output_type": "execute_result"
    }
   ],
   "source": [
    "import openpyxl\n",
    "# Get workbook\n",
    "wb = openpyxl.load_workbook('example.xlsx')\n",
    "# Get sheet\n",
    "sheet = wb['Sheet1']\n",
    "# Get sheet value from cell A1\n",
    "sheet['A1'].value\n",
    "# Get sheet value from cell B1\n",
    "sheet['B1'].value\n",
    "# Set variable c as B1 cell\n",
    "c = sheet['B1']\n",
    "# Print c.row and c.column and c.value in a sentence\n",
    "print('Row: ' + str(c.row) + ', Column: ' + str(c.column) + ' is ' + str(c.value))\n",
    "# Print Cell and c.coordinate and c.value\n",
    "print('Cell ' + c.coordinate + ' is ' + c.value)\n",
    "# Print cell C1's value\n",
    "sheet['C1'].value"
   ]
  },
  {
   "cell_type": "markdown",
   "metadata": {},
   "source": [
    "The Cell object has a value attribute that contains, unsurprisingly, the value stored in that cell. Cell objects also have row, column, and coordinate attributes that provide location information for the cell.\n",
    "\n",
    "Here, accessing the value attribute of our Cell object for cell B1 gives us the string 'Apples'. The row attribute gives us the integer 1, the column attribute gives us 'B', and the coordinate attribute gives us 'B1'.\n",
    "\n",
    "OpenPyXL will automatically interpret the dates in column A and return them as datetime values rather than strings. The datetime data type is explained further in Chapter 16.\n",
    "\n",
    "Specifying a column by letter can be tricky to program, especially because after column Z, the columns start by using two letters: AA, AB, AC, and so on. As an alternative, you can also get a cell using the sheet’s cell() method and passing integers for its row and column keyword arguments. The first row or column integer is 1, not 0. "
   ]
  },
  {
   "cell_type": "code",
   "execution_count": 20,
   "metadata": {},
   "outputs": [
    {
     "data": {
      "text/plain": [
       "<Cell 'Sheet1'.B1>"
      ]
     },
     "execution_count": 20,
     "metadata": {},
     "output_type": "execute_result"
    }
   ],
   "source": [
    "sheet.cell(row=1, column=2)"
   ]
  },
  {
   "cell_type": "code",
   "execution_count": 21,
   "metadata": {},
   "outputs": [
    {
     "data": {
      "text/plain": [
       "'Apples'"
      ]
     },
     "execution_count": 21,
     "metadata": {},
     "output_type": "execute_result"
    }
   ],
   "source": [
    "sheet.cell(row=1, column=2).value"
   ]
  },
  {
   "cell_type": "code",
   "execution_count": 22,
   "metadata": {},
   "outputs": [
    {
     "name": "stdout",
     "output_type": "stream",
     "text": [
      "1 Apples\n",
      "3 Pears\n",
      "5 Apples\n",
      "7 Strawberries\n"
     ]
    }
   ],
   "source": [
    "for i in range(1, 8, 2):\n",
    "    print(i, sheet.cell(row=i, column=2).value)"
   ]
  },
  {
   "cell_type": "markdown",
   "metadata": {},
   "source": [
    "As you can see, using the sheet’s cell() method and passing it row=1 and column=2 gets you a Cell object for cell B1, just like specifying sheet['B1'] did. Then, using the cell() method and its keyword arguments, you can write a for loop to print the values of a series of cells.\n",
    "\n",
    "Say you want to go down column B and print the value in every cell with an odd row number. By passing 2 for the range() function’s “step” parameter, you can get cells from every second row (in this case, all the odd-numbered rows). The for loop’s i variable is passed for the row keyword argument to the cell() method, while 2 is always passed for the column keyword argument. Note that the integer 2, not the string 'B', is passed.\n",
    "\n",
    "You can determine the size of the sheet with the Worksheet object’s max_row and max_column member variables."
   ]
  },
  {
   "cell_type": "code",
   "execution_count": 23,
   "metadata": {},
   "outputs": [
    {
     "name": "stdout",
     "output_type": "stream",
     "text": [
      "7\n",
      "3\n"
     ]
    }
   ],
   "source": [
    "import openpyxl\n",
    "wb = openpyxl.load_workbook('example.xlsx')\n",
    "sheet = wb['Sheet1']\n",
    "print(sheet.max_row)\n",
    "print(sheet.max_column)"
   ]
  },
  {
   "cell_type": "markdown",
   "metadata": {},
   "source": [
    "### Converting Between Column Letters and Numbers (.cell to .utils)\n",
    "To convert from letters to numbers, call the openpyxl.cell.column_index_from_string() function. To convert from numbers to letters, call the openpyxl.cell.get_column_letter() function."
   ]
  },
  {
   "cell_type": "code",
   "execution_count": 24,
   "metadata": {},
   "outputs": [
    {
     "data": {
      "text/plain": [
       "'A'"
      ]
     },
     "execution_count": 24,
     "metadata": {},
     "output_type": "execute_result"
    }
   ],
   "source": [
    "import openpyxl\n",
    "from openpyxl.utils import get_column_letter, column_index_from_string\n",
    "get_column_letter(1)"
   ]
  },
  {
   "cell_type": "code",
   "execution_count": 25,
   "metadata": {},
   "outputs": [
    {
     "data": {
      "text/plain": [
       "'AA'"
      ]
     },
     "execution_count": 25,
     "metadata": {},
     "output_type": "execute_result"
    }
   ],
   "source": [
    "get_column_letter(27)"
   ]
  },
  {
   "cell_type": "code",
   "execution_count": 26,
   "metadata": {},
   "outputs": [
    {
     "data": {
      "text/plain": [
       "'MHD'"
      ]
     },
     "execution_count": 26,
     "metadata": {},
     "output_type": "execute_result"
    }
   ],
   "source": [
    "get_column_letter(9000)"
   ]
  },
  {
   "cell_type": "code",
   "execution_count": 27,
   "metadata": {},
   "outputs": [
    {
     "data": {
      "text/plain": [
       "'C'"
      ]
     },
     "execution_count": 27,
     "metadata": {},
     "output_type": "execute_result"
    }
   ],
   "source": [
    "wb = openpyxl.load_workbook('example.xlsx')\n",
    "sheet = wb['Sheet1']\n",
    "get_column_letter(sheet.max_column)"
   ]
  },
  {
   "cell_type": "code",
   "execution_count": 28,
   "metadata": {
    "scrolled": true
   },
   "outputs": [
    {
     "data": {
      "text/plain": [
       "1"
      ]
     },
     "execution_count": 28,
     "metadata": {},
     "output_type": "execute_result"
    }
   ],
   "source": [
    "column_index_from_string('A')"
   ]
  },
  {
   "cell_type": "code",
   "execution_count": 29,
   "metadata": {},
   "outputs": [
    {
     "data": {
      "text/plain": [
       "54"
      ]
     },
     "execution_count": 29,
     "metadata": {},
     "output_type": "execute_result"
    }
   ],
   "source": [
    "column_index_from_string('BB')"
   ]
  },
  {
   "cell_type": "markdown",
   "metadata": {},
   "source": [
    "After you import these two functions from the openpyxl.cell module, you can call get_column_letter() and pass it an integer like 27 to figure out what the letter name of the 27th column is. The function column_index_string() does the reverse: You pass it the letter name of a column, and it tells you what number that column is. You don’t need to have a workbook loaded to use these functions. If you want, you can load a workbook, get a Worksheet object, and call a Worksheet object method like max_column to get an integer. Then, you can pass that integer to get_column_letter()."
   ]
  },
  {
   "cell_type": "code",
   "execution_count": 30,
   "metadata": {},
   "outputs": [],
   "source": [
    "# Open and save a new workbook\n",
    "from openpyxl import Workbook\n",
    "from openpyxl.utils import get_column_letter\n",
    "\n",
    "# create excel type item\n",
    "wb = Workbook()\n",
    "# select the active worksheet\n",
    "ws = wb.active\n",
    "\n",
    "counter = 0 # Begin at 0\n",
    "for column in range(1,5):\n",
    "    column_letter = get_column_letter(column) # if 1 then A\n",
    "    for row in range(1,11):\n",
    "        counter = counter + 1 # 0 + 1 \n",
    "        ws[column_letter + str(row)] = counter # A1 = 1\n",
    "\n",
    "wb.save(\"sample.xlsx\")"
   ]
  },
  {
   "cell_type": "markdown",
   "metadata": {},
   "source": [
    "### Getting Rows and Columns from the Sheets\n",
    "You can slice Worksheet objects to get all the Cell objects in a row, column, or rectangular area of the spreadsheet. Then you can loop over all the cells in the slice."
   ]
  },
  {
   "cell_type": "code",
   "execution_count": 31,
   "metadata": {},
   "outputs": [],
   "source": [
    "import openpyxl\n",
    "wb = openpyxl.load_workbook('example.xlsx')\n",
    "sheet = wb['Sheet1']"
   ]
  },
  {
   "cell_type": "code",
   "execution_count": 32,
   "metadata": {},
   "outputs": [
    {
     "data": {
      "text/plain": [
       "((<Cell 'Sheet1'.A1>, <Cell 'Sheet1'.B1>, <Cell 'Sheet1'.C1>),\n",
       " (<Cell 'Sheet1'.A2>, <Cell 'Sheet1'.B2>, <Cell 'Sheet1'.C2>),\n",
       " (<Cell 'Sheet1'.A3>, <Cell 'Sheet1'.B3>, <Cell 'Sheet1'.C3>))"
      ]
     },
     "execution_count": 32,
     "metadata": {},
     "output_type": "execute_result"
    }
   ],
   "source": [
    "tuple(sheet['A1':'C3'])"
   ]
  },
  {
   "cell_type": "code",
   "execution_count": 33,
   "metadata": {},
   "outputs": [
    {
     "name": "stdout",
     "output_type": "stream",
     "text": [
      "A1 2015-04-05 13:34:02\n",
      "B1 Apples\n",
      "C1 73\n",
      "--- End of Row ---\n",
      "A2 2015-04-05 03:41:23\n",
      "B2 Cherries\n",
      "C2 85\n",
      "--- End of Row ---\n",
      "A3 2015-04-06 12:46:51\n",
      "B3 Pears\n",
      "C3 14\n",
      "--- End of Row ---\n"
     ]
    }
   ],
   "source": [
    "# Print values row level\n",
    "for row in sheet['A1':'C3']:\n",
    "    for cell in row:\n",
    "        print(cell.coordinate, cell.value)\n",
    "    print('--- End of Row ---')"
   ]
  },
  {
   "cell_type": "code",
   "execution_count": 34,
   "metadata": {},
   "outputs": [
    {
     "name": "stdout",
     "output_type": "stream",
     "text": [
      "A1 2015-04-05 13:34:02\n",
      "B1 Apples\n",
      "C1 73\n",
      "--- End of Row ---\n",
      "A2 2015-04-05 03:41:23\n",
      "B2 Cherries\n",
      "C2 85\n",
      "--- End of Row ---\n",
      "A3 2015-04-06 12:46:51\n",
      "B3 Pears\n",
      "C3 14\n",
      "--- End of Row ---\n"
     ]
    }
   ],
   "source": [
    "# Print every value row by row; loop through each row\n",
    "for row in sheet['A1:C3']:\n",
    "    # Inner loop through each row through each cell\n",
    "    for cell in row:\n",
    "        # cell.coordinate = location, cell.value = value in cell location\n",
    "        print(cell.coordinate, cell.value)\n",
    "    print('--- End of Row ---')"
   ]
  },
  {
   "cell_type": "markdown",
   "metadata": {},
   "source": [
    "Here, we specify that we want the Cell objects in the rectangular area from A1 to C3, and we get a Generator object containing the Cell objects in that area. To help us visualize this Generator object, we can use tuple() on it to display its Cell objects in a tuple.\n",
    "\n",
    "This tuple contains three tuples: one for each row, from the top of the desired area to the bottom. Each of these three inner tuples contains the Cell objects in one row of our desired area, from the leftmost cell to the right. So overall, our slice of the sheet contains all the Cell objects in the area from A1 to C3, starting from the top-left cell and ending with the bottom-right cell.\n",
    "\n",
    "To print the values of each cell in the area, we use two for loops. The outer for loop goes over each row in the slice ❶. Then, for each row, the nested for loop goes through each cell in that row ❷.\n"
   ]
  },
  {
   "cell_type": "markdown",
   "metadata": {},
   "source": [
    "To access the values of cells in a particular row or column, you can also use a Worksheet object’s rows and columns attribute."
   ]
  },
  {
   "cell_type": "code",
   "execution_count": 35,
   "metadata": {},
   "outputs": [
    {
     "data": {
      "text/plain": [
       "<generator object Worksheet._cells_by_col at 0x14A6DD30>"
      ]
     },
     "execution_count": 35,
     "metadata": {},
     "output_type": "execute_result"
    }
   ],
   "source": [
    "# Access values of cells in a specific row/column\n",
    "import openpyxl\n",
    "wb = openpyxl.load_workbook('example.xlsx')\n",
    "sheet = wb.active\n",
    "sheet.columns"
   ]
  },
  {
   "cell_type": "markdown",
   "metadata": {},
   "source": [
    "### Workbooks, Sheets, Cells\n",
    "As a quick review, here’s a rundown of all the functions, methods, and data types involved in reading a cell out of a spreadsheet file:\n",
    "\n",
    "Import the openpyxl module.\n",
    "\n",
    "Call the openpyxl.load_workbook() function.\n",
    "\n",
    "Get a Workbook object.\n",
    "\n",
    "Read the active member variable or call the get_sheet_by_name() workbook method.\n",
    "\n",
    "Get a Worksheet object.\n",
    "\n",
    "Use indexing or the cell() sheet method with row and column keyword arguments.\n",
    "\n",
    "Get a Cell object.\n",
    "\n",
    "Read the Cell object’s value attribute."
   ]
  },
  {
   "cell_type": "markdown",
   "metadata": {},
   "source": [
    "### Project: Reading Data from a Spreadsheet\n",
    "Say you have a spreadsheet of data from the 2010 US Census and you have the boring task of going through its thousands of rows to count both the total population and the number of census tracts for each county. (A census tract is simply a geographic area defined for the purposes of the census.) Each row represents a single census tract. We’ll name the spreadsheet file censuspopdata.xlsx"
   ]
  },
  {
   "cell_type": "markdown",
   "metadata": {},
   "source": [
    "In this project, you’ll write a script that can read from the census spreadsheet file and calculate statistics for each county in a matter of seconds.\n",
    "\n",
    "This is what your program does:\n",
    "\n",
    "    Reads the data from the Excel spreadsheet.\n",
    "\n",
    "    Counts the number of census tracts in each county.\n",
    "\n",
    "    Counts the total population of each county.\n",
    "\n",
    "    Prints the results.\n",
    "\n",
    "This means your code will need to do the following:\n",
    "\n",
    "    Open and read the cells of an Excel document with the openpyxl module.\n",
    "\n",
    "    Calculate all the tract and population data and store it in a data structure.\n",
    "\n",
    "    Write the data structure to a text file with the .py extension using the pprint module."
   ]
  },
  {
   "cell_type": "markdown",
   "metadata": {},
   "source": [
    "### Step 1: Read the Spreadsheet Data\n",
    "There is just one sheet in the censuspopdata.xlsx spreadsheet, named 'Population by Census Tract', and each row holds the data for a single census tract. The columns are the tract number (A), the state abbreviation (B), the county name (C), and the population of the tract (D)."
   ]
  },
  {
   "cell_type": "code",
   "execution_count": 36,
   "metadata": {},
   "outputs": [
    {
     "name": "stdout",
     "output_type": "stream",
     "text": [
      "Opening workbook...\n"
     ]
    }
   ],
   "source": [
    "#! python3\n",
    "# readCensus.py - Tabulates population and number of census tracts for each county\n",
    "\n",
    "import openpyxl\n",
    "import pprint\n",
    "\n",
    "print('Opening workbook...')\n",
    "wb = openpyxl.load_workbook('censuspopdata.xlsx')"
   ]
  },
  {
   "cell_type": "code",
   "execution_count": 37,
   "metadata": {},
   "outputs": [
    {
     "name": "stdout",
     "output_type": "stream",
     "text": [
      "Opening sheet...\n"
     ]
    }
   ],
   "source": [
    "print('Opening sheet...')\n",
    "sheet = wb['Population by Census Tract']"
   ]
  },
  {
   "cell_type": "code",
   "execution_count": 38,
   "metadata": {},
   "outputs": [
    {
     "name": "stdout",
     "output_type": "stream",
     "text": [
      "Reading rows...\n",
      "Writing results...\n",
      "Done\n"
     ]
    }
   ],
   "source": [
    "# Set empty dictionary\n",
    "countyData = {}\n",
    "\n",
    "# Fill in countyData with each county's population and tracts\n",
    "print('Reading rows...')\n",
    "for row in range(2, sheet.max_row + 1):\n",
    "    # Each row in the spreadsheet has data for one census tract\n",
    "    state  = sheet['B' + str(row)].value\n",
    "    county = sheet['C' + str(row)].value\n",
    "    pop    = sheet['D' + str(row)].value\n",
    "    \n",
    "    # Open a new text file and write the contents of countyData to it\n",
    "    # Populate the data structure\n",
    "    # Make sure the key for this state exists\n",
    "    countyData.setdefault(state, {})\n",
    "    # Make sure the key for this county in this state exists\n",
    "    countyData.setdefault(county, {'tracts': 0, 'pop': 0})\n",
    "    \n",
    "    # Each row represents one census tract, so increment by one\n",
    "#     countyData[state][county]['tracts'] += 1\n",
    "    # Increase the county pop by the pop in this census tract\n",
    "#     countyData[state][county]['pop'] += int(pop)\n",
    "    \n",
    "# Open a new text file and write the contents of countyData to it\n",
    "print('Writing results...')\n",
    "resultFile = open('census2010.py', 'w')\n",
    "resultFile.write('allData = ' + pprint.pformat(countyData))\n",
    "resultFile.close()\n",
    "print('Done')"
   ]
  },
  {
   "cell_type": "markdown",
   "metadata": {},
   "source": [
    "### Step 2: Populate the Data Structure\n",
    "The data structure stored in countyData will be a dictionary with state abbreviations as its keys. Each state abbreviation will map to another dictionary, whose keys are strings of the county names in that state. Each county name will in turn map to a dictionary with just two keys, 'tracts' and 'pop'. These keys map to the number of census tracts and population for the county. For example, the dictionary will look similar to this:\n",
    "\n",
    "\n",
    "{'AK': {'Aleutians East': {'pop': 3141, 'tracts': 1},\n",
    "        'Aleutians West': {'pop': 5561, 'tracts': 2},\n",
    "        'Anchorage': {'pop': 291826, 'tracts': 55},\n",
    "        'Bethel': {'pop': 17013, 'tracts': 3},\n",
    "        'Bristol Bay': {'pop': 997, 'tracts': 1},\n",
    "        --snip--"
   ]
  },
  {
   "cell_type": "markdown",
   "metadata": {},
   "source": [
    "The last two lines of code perform the actual calculation work, incrementing the value for tracts ❸ and increasing the value for pop ❹ for the current county on each iteration of the for loop.\n",
    "\n",
    "The other code is there because you cannot add a county dictionary as the value for a state abbreviation key until the key itself exists in countyData. (That is, countyData['AK']['Anchorage']['tracts'] += 1 will cause an error if the 'AK' key doesn’t exist yet.) To make sure the state abbreviation key exists in your data structure, you need to call the setdefault() method to set a value if one does not already exist for state ❶.\n",
    "\n",
    "Just as the countyData dictionary needs a dictionary as the value for each state abbreviation key, each of those dictionaries will need its own dictionary as the value for each county key ❷. And each of those dictionaries in turn will need keys 'tracts' and 'pop' that start with the integer value 0. (If you ever lose track of the dictionary structure, look back at the example dictionary at the start of this section.)\n",
    "\n",
    "Since setdefault() will do nothing if the key already exists, you can call it on every iteration of the for loop without a problem."
   ]
  },
  {
   "cell_type": "markdown",
   "metadata": {},
   "source": [
    "### Step 3: Write the Results to a File\n",
    "After the for loop has finished, the countyData dictionary will contain all of the population and tract information keyed by county and state. At this point, you could program more code to write this to a text file or another Excel spreadsheet. For now, let’s just use the pprint.pformat() function to write the countyData dictionary value as a massive string to a file named census2010.py. Add the following code to the bottom of your program (making sure to keep it unindented so that it stays outside the for loop):"
   ]
  },
  {
   "cell_type": "markdown",
   "metadata": {},
   "source": [
    "### Ideas for Similar Programs\n",
    "Many businesses and offices use Excel to store various types of data, and it’s not uncommon for spreadsheets to become large and unwieldy. Any program that parses an Excel spreadsheet has a similar structure: It loads the spreadsheet file, preps some variables or data structures, and then loops through each of the rows in the spreadsheet. Such a program could do the following:\n",
    "\n",
    "    Compare data across multiple rows in a spreadsheet.\n",
    "\n",
    "    Open multiple Excel files and compare data between spreadsheets.\n",
    "\n",
    "    Check whether a spreadsheet has blank rows or invalid data in any cells and alert the user if it does.\n",
    "\n",
    "    Read data from a spreadsheet and use it as the input for your Python programs."
   ]
  },
  {
   "cell_type": "markdown",
   "metadata": {},
   "source": [
    "### Writing Excel Documents\n",
    "OpenPyXL also provides ways of writing data, meaning that your programs can create and edit spreadsheet files. With Python, it’s simple to create spreadsheets with thousands of rows of data.\n",
    "\n",
    "### Creating and Saving Excel Documents\n",
    "Call the openpyxl.Workbook() function to create a new, blank Workbook object."
   ]
  },
  {
   "cell_type": "code",
   "execution_count": 39,
   "metadata": {},
   "outputs": [
    {
     "data": {
      "text/plain": [
       "'Sheet'"
      ]
     },
     "execution_count": 39,
     "metadata": {},
     "output_type": "execute_result"
    }
   ],
   "source": [
    "import openpyxl\n",
    "wb = openpyxl.Workbook()\n",
    "wb.sheetnames # wb.get_sheet_names()\n",
    "sheet = wb.active\n",
    "sheet.title"
   ]
  },
  {
   "cell_type": "code",
   "execution_count": 40,
   "metadata": {},
   "outputs": [
    {
     "data": {
      "text/plain": [
       "['Spam Bacon']"
      ]
     },
     "execution_count": 40,
     "metadata": {},
     "output_type": "execute_result"
    }
   ],
   "source": [
    "sheet.title = 'Spam Bacon'\n",
    "wb.sheetnames"
   ]
  },
  {
   "cell_type": "markdown",
   "metadata": {},
   "source": [
    "The workbook will start off with a single sheet named Sheet. You can change the name of the sheet by storing a new string in its title attribute.\n",
    "\n",
    "Any time you modify the Workbook object or its sheets and cells, the spreadsheet file will not be saved until you call the save() workbook method. Enter the following into the interactive shell (with example.xlsx in the current working directory):"
   ]
  },
  {
   "cell_type": "code",
   "execution_count": 41,
   "metadata": {},
   "outputs": [],
   "source": [
    "import openpyxl\n",
    "wb = openpyxl.load_workbook('example.xlsx')\n",
    "sheet = wb.active\n",
    "sheet.title = 'Spam spam spam'\n",
    "wb.save('example_copy.xlsx')"
   ]
  },
  {
   "cell_type": "markdown",
   "metadata": {},
   "source": [
    "Here, we change the name of our sheet. To save our changes, we pass a filename as a string to the save() method. Passing a different filename than the original, such as 'example_copy.xlsx', saves the changes to a copy of the spreadsheet.\n",
    "\n",
    "Whenever you edit a spreadsheet you’ve loaded from a file, you should always save the new, edited spreadsheet to a different filename than the original. That way, you’ll still have the original spreadsheet file to work with in case a bug in your code caused the new, saved file to have incorrect or corrupt data."
   ]
  },
  {
   "cell_type": "markdown",
   "metadata": {},
   "source": [
    "### Creating and Removing Sheets\n",
    "Sheets can be added to and removed from a workbook with the create_sheet() and remove_sheet() methods. "
   ]
  },
  {
   "cell_type": "code",
   "execution_count": 42,
   "metadata": {},
   "outputs": [
    {
     "data": {
      "text/plain": [
       "['Sheet']"
      ]
     },
     "execution_count": 42,
     "metadata": {},
     "output_type": "execute_result"
    }
   ],
   "source": [
    "import openpyxl\n",
    "wb = openpyxl.Workbook()\n",
    "wb.sheetnames"
   ]
  },
  {
   "cell_type": "code",
   "execution_count": 43,
   "metadata": {},
   "outputs": [
    {
     "data": {
      "text/plain": [
       "<Worksheet \"Sheet1\">"
      ]
     },
     "execution_count": 43,
     "metadata": {},
     "output_type": "execute_result"
    }
   ],
   "source": [
    "wb.create_sheet()"
   ]
  },
  {
   "cell_type": "code",
   "execution_count": 44,
   "metadata": {},
   "outputs": [
    {
     "data": {
      "text/plain": [
       "['Sheet', 'Sheet1']"
      ]
     },
     "execution_count": 44,
     "metadata": {},
     "output_type": "execute_result"
    }
   ],
   "source": [
    "wb.sheetnames"
   ]
  },
  {
   "cell_type": "code",
   "execution_count": 45,
   "metadata": {},
   "outputs": [
    {
     "data": {
      "text/plain": [
       "<Worksheet \"First Sheet\">"
      ]
     },
     "execution_count": 45,
     "metadata": {},
     "output_type": "execute_result"
    }
   ],
   "source": [
    "wb.create_sheet(index=0, title='First Sheet')"
   ]
  },
  {
   "cell_type": "code",
   "execution_count": 46,
   "metadata": {},
   "outputs": [
    {
     "data": {
      "text/plain": [
       "['First Sheet', 'Sheet', 'Sheet1']"
      ]
     },
     "execution_count": 46,
     "metadata": {},
     "output_type": "execute_result"
    }
   ],
   "source": [
    "wb.sheetnames"
   ]
  },
  {
   "cell_type": "code",
   "execution_count": 47,
   "metadata": {},
   "outputs": [
    {
     "data": {
      "text/plain": [
       "<Worksheet \"Middle Street\">"
      ]
     },
     "execution_count": 47,
     "metadata": {},
     "output_type": "execute_result"
    }
   ],
   "source": [
    "wb.create_sheet(index=2, title='Middle Street')"
   ]
  },
  {
   "cell_type": "code",
   "execution_count": 48,
   "metadata": {},
   "outputs": [
    {
     "data": {
      "text/plain": [
       "['First Sheet', 'Sheet', 'Middle Street', 'Sheet1']"
      ]
     },
     "execution_count": 48,
     "metadata": {},
     "output_type": "execute_result"
    }
   ],
   "source": [
    "wb.sheetnames"
   ]
  },
  {
   "cell_type": "code",
   "execution_count": 49,
   "metadata": {},
   "outputs": [
    {
     "name": "stderr",
     "output_type": "stream",
     "text": [
      "c:\\users\\david ly\\appdata\\local\\programs\\python\\python37-32\\lib\\site-packages\\ipykernel_launcher.py:1: DeprecationWarning: Call to deprecated function get_sheet_by_name (Use wb[sheetname]).\n",
      "  \"\"\"Entry point for launching an IPython kernel.\n"
     ]
    },
    {
     "data": {
      "text/plain": [
       "<Worksheet \"Middle Street\">"
      ]
     },
     "execution_count": 49,
     "metadata": {},
     "output_type": "execute_result"
    }
   ],
   "source": [
    "rmv = wb.get_sheet_by_name('Middle Street')\n",
    "rmv"
   ]
  },
  {
   "cell_type": "code",
   "execution_count": 50,
   "metadata": {},
   "outputs": [
    {
     "name": "stderr",
     "output_type": "stream",
     "text": [
      "c:\\users\\david ly\\appdata\\local\\programs\\python\\python37-32\\lib\\site-packages\\ipykernel_launcher.py:1: DeprecationWarning: Call to deprecated function remove_sheet (Use wb.remove(worksheet) or del wb[sheetname]).\n",
      "  \"\"\"Entry point for launching an IPython kernel.\n"
     ]
    }
   ],
   "source": [
    "wb.remove_sheet(rmv)"
   ]
  },
  {
   "cell_type": "code",
   "execution_count": 51,
   "metadata": {},
   "outputs": [
    {
     "data": {
      "text/plain": [
       "['First Sheet', 'Sheet', 'Sheet1']"
      ]
     },
     "execution_count": 51,
     "metadata": {},
     "output_type": "execute_result"
    }
   ],
   "source": [
    "wb.sheetnames"
   ]
  },
  {
   "cell_type": "code",
   "execution_count": 52,
   "metadata": {},
   "outputs": [],
   "source": [
    "wb.save('test_del.xlsx')"
   ]
  },
  {
   "cell_type": "code",
   "execution_count": 53,
   "metadata": {},
   "outputs": [],
   "source": [
    "wb.close()"
   ]
  },
  {
   "cell_type": "markdown",
   "metadata": {},
   "source": [
    "### Writing Values to Cells\n",
    "Writing values to cells is much like writing values to keys in a dictionary."
   ]
  },
  {
   "cell_type": "code",
   "execution_count": 54,
   "metadata": {},
   "outputs": [
    {
     "name": "stderr",
     "output_type": "stream",
     "text": [
      "c:\\users\\david ly\\appdata\\local\\programs\\python\\python37-32\\lib\\site-packages\\ipykernel_launcher.py:3: DeprecationWarning: Call to deprecated function get_sheet_by_name (Use wb[sheetname]).\n",
      "  This is separate from the ipykernel package so we can avoid doing imports until\n"
     ]
    }
   ],
   "source": [
    "import openpyxl\n",
    "wb = openpyxl.Workbook()\n",
    "sheet = wb.get_sheet_by_name('Sheet')"
   ]
  },
  {
   "cell_type": "code",
   "execution_count": 55,
   "metadata": {},
   "outputs": [],
   "source": [
    "sheet['A1'] = 'Hello world!'"
   ]
  },
  {
   "cell_type": "code",
   "execution_count": 56,
   "metadata": {},
   "outputs": [
    {
     "data": {
      "text/plain": [
       "'Hello world!'"
      ]
     },
     "execution_count": 56,
     "metadata": {},
     "output_type": "execute_result"
    }
   ],
   "source": [
    "sheet['A1'].value"
   ]
  },
  {
   "cell_type": "code",
   "execution_count": 57,
   "metadata": {},
   "outputs": [],
   "source": [
    "wb.close()"
   ]
  },
  {
   "cell_type": "markdown",
   "metadata": {},
   "source": [
    "### Project: Updating a Spreadsheet\n",
    "In this project, you’ll write a program to update cells in a spreadsheet of produce sales. Your program will look through the spreadsheet, find specific kinds of produce, and update their prices. "
   ]
  },
  {
   "cell_type": "markdown",
   "metadata": {},
   "source": [
    "Each row represents an individual sale. The columns are the type of produce sold (A), the cost per pound of that produce (B), the number of pounds sold (C), and the total revenue from the sale (D). The TOTAL column is set to the Excel formula =ROUND(B3*C3, 2), which multiplies the cost per pound by the number of pounds sold and rounds the result to the nearest cent. With this formula, the cells in the TOTAL column will automatically update themselves if there is a change in column B or C.\n",
    "\n",
    "Now imagine that the prices of garlic, celery, and lemons were entered incorrectly, leaving you with the boring task of going through thousands of rows in this spreadsheet to update the cost per pound for any garlic, celery, and lemon rows. You can’t do a simple find-and-replace for the price because there might be other items with the same price that you don’t want to mistakenly “correct.” For thousands of rows, this would take hours to do by hand. But you can write a program that can accomplish this in seconds.\n",
    "\n",
    "Your program does the following:\n",
    "\n",
    "    Loops over all the rows.\n",
    "\n",
    "    If the row is for garlic, celery, or lemons, changes the price.\n",
    "\n",
    "This means your code will need to do the following:\n",
    "\n",
    "    Open the spreadsheet file.\n",
    "\n",
    "    For each row, check whether the value in column A is Celery, Garlic, or Lemon.\n",
    "\n",
    "    If it is, update the price in column B.\n",
    "\n",
    "    Save the spreadsheet to a new file (so that you don’t lose the old spreadsheet, just in case)."
   ]
  },
  {
   "cell_type": "markdown",
   "metadata": {},
   "source": [
    "### Step 1: Set Up a Data Structure with the Update Information\n",
    "The prices that you need to update are as follows:\n",
    "\n",
    "    Celery 1.19\n",
    "\n",
    "    Garlic 3.07\n",
    "\n",
    "    Lemon 1.27"
   ]
  },
  {
   "cell_type": "code",
   "execution_count": 58,
   "metadata": {},
   "outputs": [
    {
     "data": {
      "text/plain": [
       "\"\\n# Sample\\nif produceName == 'Celery':\\n    cellObj = 1.19\\nelif produceName = 'Garlic':\\n    cellObj = 3.07\\nelif produceName = 'Lemon':\\n    cellObj = 1.27\\n\""
      ]
     },
     "execution_count": 58,
     "metadata": {},
     "output_type": "execute_result"
    }
   ],
   "source": [
    "\"\"\"\n",
    "# Sample\n",
    "if produceName == 'Celery':\n",
    "    cellObj = 1.19\n",
    "elif produceName = 'Garlic':\n",
    "    cellObj = 3.07\n",
    "elif produceName = 'Lemon':\n",
    "    cellObj = 1.27\n",
    "\"\"\""
   ]
  },
  {
   "cell_type": "markdown",
   "metadata": {},
   "source": [
    "Having the produce and updated price data hardcoded like this is a bit inelegant. If you needed to update the spreadsheet again with different prices or different produce, you would have to change a lot of the code. Every time you change code, you risk introducing bugs.\n",
    "\n",
    "A more flexible solution is to store the corrected price information in a dictionary and write your code to use this data structure."
   ]
  },
  {
   "cell_type": "code",
   "execution_count": 59,
   "metadata": {},
   "outputs": [
    {
     "name": "stderr",
     "output_type": "stream",
     "text": [
      "c:\\users\\david ly\\appdata\\local\\programs\\python\\python37-32\\lib\\site-packages\\ipykernel_launcher.py:6: DeprecationWarning: Call to deprecated function get_sheet_by_name (Use wb[sheetname]).\n",
      "  \n"
     ]
    }
   ],
   "source": [
    "#! python3\n",
    "# updateProduce.py - Correct costs in produce sales spreadsheet.\n",
    "\n",
    "import openpyxl\n",
    "wb = openpyxl.load_workbook('produceSales.xlsx')\n",
    "sheet = wb.get_sheet_by_name('Sheet')\n",
    "\n",
    "# Produce types and prices\n",
    "price_updates = {'Garlic': 3.07,\n",
    "                 'Celery': 1.19,\n",
    "                 'Lemon': 1.27}\n",
    "\n",
    "# Loop through the rows and update the prices\n"
   ]
  },
  {
   "cell_type": "code",
   "execution_count": 65,
   "metadata": {},
   "outputs": [
    {
     "name": "stdout",
     "output_type": "stream",
     "text": [
      "<generator object Worksheet.values at 0x18335DB0>\n"
     ]
    }
   ],
   "source": [
    "#! python3\n",
    "# updateProduce.py - Correct costs in produce sales spreadsheet.\n",
    "\n",
    "import openpyxl\n",
    "wb = openpyxl.load_workbook('produceSales.xlsx')\n",
    "sheet = wb['Sheet'] # deprecated warning with wb.get_sheet_by_name('Sheet')\n",
    "print(sheet.values)\n",
    "\n",
    "\"\"\" wb.sheetnames over wb.get_sheet_names & wb[] over wb.get_sheet_by_name() \"\"\"\n",
    "\n",
    "# Produce types and prices\n",
    "price_updates = {'Garlic': 3.07,\n",
    "                 'Celery': 1.19,\n",
    "                 'Lemon': 1.27}\n",
    "\n",
    "# Loop through the rows and update the prices\n",
    "for rowNum in range(2, sheet.max_row): # skip the first row\n",
    "    produceName = sheet.cell(row=rowNum, column=1).value\n",
    "    if produceName in price_updates:\n",
    "        sheet.cell(row=rowNum, column=2).value = price_updates[produceName]\n",
    "\n",
    "wb.save('updatedProduceSales.xlsx')\n",
    "wb.close()"
   ]
  },
  {
   "cell_type": "markdown",
   "metadata": {},
   "source": [
    "We loop through the rows starting at row 2, since row 1 is just the header ❶. The cell in column 1 (that is, column A) will be stored in the variable produceName ❷. If produceName exists as a key in the PRICE_UPDATES dictionary ❸, then you know this is a row that must have its price corrected. The correct price will be in PRICE_UPDATES[produceName].\n",
    "\n",
    "Notice how clean using PRICE_UPDATES makes the code. Only one if statement, rather than code like if produceName == 'Garlic':, is necessary for every type of produce to update. And since the code uses the PRICE_UPDATES dictionary instead of hardcoding the produce names and updated costs into the for loop, you modify only the PRICE_UPDATES dictionary and not the code if the produce sales spreadsheet needs additional changes.\n",
    "\n",
    "After going through the entire spreadsheet and making changes, the code saves the Workbook object to updatedProduceSales.xlsx ❹. It doesn’t overwrite the old spreadsheet just in case there’s a bug in your program and the updated spreadsheet is wrong. After checking that the updated spreadsheet looks right, you can delete the old spreadsheet."
   ]
  },
  {
   "cell_type": "markdown",
   "metadata": {},
   "source": [
    "### Ideas for Similar Programs\n",
    "\n",
    "Since many office workers use Excel spreadsheets all the time, a program that can automatically edit and write Excel files could be really useful. Such a program could do the following:\n",
    "\n",
    "    Read data from one spreadsheet and write it to parts of other spreadsheets.\n",
    "\n",
    "    Read data from websites, text files, or the clipboard and write it to a spreadsheet.\n",
    "\n",
    "    Automatically “clean up” data in spreadsheets. For example, it could use regular expressions to read multiple formats of phone numbers and edit them to a single, standard format.\n",
    "\n"
   ]
  },
  {
   "cell_type": "markdown",
   "metadata": {},
   "source": [
    "### Setting the Font Style of Cells\n",
    "\n",
    "Styling certain cells, rows, or columns can help you emphasize important areas in your spreadsheet. In the produce spreadsheet, for example, your program could apply bold text to the potato, garlic, and parsnip rows. Or perhaps you want to italicize every row with a cost per pound greater than $5. Styling parts of a large spreadsheet by hand would be tedious, but your programs can do it instantly.\n",
    "\n",
    "To customize font styles in cells, important, import the Font() function from the openpyxl.styles module."
   ]
  },
  {
   "cell_type": "code",
   "execution_count": 67,
   "metadata": {},
   "outputs": [],
   "source": [
    "from openpyxl.styles import Font\n",
    "\n",
    "# Use openpyxl.styles.Font\n",
    "\n",
    "\"\"\"\n",
    "Create a new workbook and sets cell A1 to have a 24-point, italized font\n",
    "\"\"\"\n",
    "import openpyxl\n",
    "from openpyxl.styles import Font\n",
    "\n",
    "# Opening a new workbook and adding italics\n",
    "wb = openpyxl.Workbook()\n",
    "sheet = wb['Sheet']\n",
    "italic24Font = Font(size=24, italic=True)"
   ]
  },
  {
   "cell_type": "code",
   "execution_count": 68,
   "metadata": {},
   "outputs": [],
   "source": [
    "sheet['A1'].font = italic24Font # return a Font obj stored in italic24Font\n",
    "sheet['A1'] = 'Hello World!'\n",
    "wb.save('styled.xlsx')"
   ]
  },
  {
   "cell_type": "markdown",
   "metadata": {},
   "source": [
    "In this example, Font(size=24, italic=True) returns a Font object, which is stored in italic24Font ❶. The keyword arguments to Font(), size and italic, configure the Font object. And when fontObj is assigned to the cell’s font attribute ❷, all that font styling information gets applied to cell A1."
   ]
  },
  {
   "cell_type": "markdown",
   "metadata": {},
   "source": [
    "You can call Font() to create a Font object and store that Font object in a variable. You then pass that to Style(), store the resulting Style object in a variable, and assign that variable to a Cell object’s style attribute. For example, this code creates various font styles:"
   ]
  },
  {
   "cell_type": "code",
   "execution_count": 70,
   "metadata": {},
   "outputs": [],
   "source": [
    "import openpyxl\n",
    "from openpyxl.styles import Font\n",
    "\n",
    "# Open new workbook\n",
    "wb = openpyxl.Workbook()\n",
    "sheet = wb['Sheet']\n",
    "\n",
    "# Change font 1 using Font(name, bold)\n",
    "fontObj = Font(name='Times New Roman', bold=True)\n",
    "sheet['A1'].font = fontObj\n",
    "sheet['A1'] = 'Bold Times New Roman'\n",
    "\n",
    "# Change font 2 using Font(size, italic)\n",
    "fontObj2 = Font(size=24,italic=True)\n",
    "sheet['B3'].font = fontObj2\n",
    "sheet['B3'] = '24 Italic'\n",
    "\n",
    "# Save\n",
    "wb.save('styles.xlsx')"
   ]
  },
  {
   "cell_type": "markdown",
   "metadata": {},
   "source": [
    "For cell A1, we set the font name to 'Times New Roman' and set bold to true, so our text appears in bold Times New Roman. We didn’t specify a size, so the openpyxl default, 11, is used. In cell B3, our text is italic, with a size of 24; we didn’t specify a font name, so the openpyxl default, Calibri, is used."
   ]
  },
  {
   "cell_type": "markdown",
   "metadata": {},
   "source": [
    "### Merging and Unmerging Cells\n",
    "\n",
    "A rectangular area of cells can be merged into a single cell with the merge_cells() sheet method. "
   ]
  },
  {
   "cell_type": "markdown",
   "metadata": {},
   "source": [
    "### Setting Row Height and Column Width\n",
    "\n",
    "Worksheet objects have row_dimensions and column_dimensions attributes that control row heights and column widths. "
   ]
  },
  {
   "cell_type": "markdown",
   "metadata": {},
   "source": [
    "### Summary\n",
    "\n",
    "Often the hard part of processing information isn’t the processing itself but simply getting the data in the right format for your program. But once you have your spreadsheet loaded into Python, you can extract and manipulate its data much faster than you could by hand.\n",
    "\n",
    "You can also generate spreadsheets as output from your programs. So if colleagues need your text file or PDF of thousands of sales contacts transferred to a spreadsheet file, you won’t have to tediously copy and paste it all into Excel.\n",
    "\n",
    "Equipped with the openpyxl module and some programming knowledge, you’ll find processing even the biggest spreadsheets a piece of cake."
   ]
  },
  {
   "cell_type": "markdown",
   "metadata": {},
   "source": [
    "### Practice Questions"
   ]
  },
  {
   "cell_type": "markdown",
   "metadata": {},
   "source": [
    "openpyxl.load_workbook() function return? returns a function"
   ]
  },
  {
   "cell_type": "markdown",
   "metadata": {},
   "source": [
    "What does the wb[] workbook method return? returns a sheet with the argument as a sheetname"
   ]
  },
  {
   "cell_type": "markdown",
   "metadata": {},
   "source": [
    "How would you retrieve the value in the cell C5? sheet['C5'] or sheet.cell(row=5, column=3).value"
   ]
  },
  {
   "cell_type": "markdown",
   "metadata": {},
   "source": [
    "How would you set the value in the cell C5 to \"Hello\"? sheet.cell(row=5, column=3).value = 'Hello'"
   ]
  },
  {
   "cell_type": "markdown",
   "metadata": {},
   "source": [
    "How would you retrieve the cell’s row and column as integers? cell.row and cell.column"
   ]
  },
  {
   "cell_type": "markdown",
   "metadata": {},
   "source": [
    "What do the max_column and max_row sheet methods return, and what is the data type of these return values? max columns and max rows per sheet"
   ]
  },
  {
   "cell_type": "markdown",
   "metadata": {},
   "source": [
    "If you needed to get the integer index for column 'M', what function would you need to call? openpyxl.cell.column_index_from_string('M')"
   ]
  },
  {
   "cell_type": "markdown",
   "metadata": {},
   "source": [
    "If you needed to get the string name for column 14, what function would you need to call? openpyxl.cell.get_column_letter(14)"
   ]
  },
  {
   "cell_type": "markdown",
   "metadata": {},
   "source": [
    "### Practice Projects"
   ]
  },
  {
   "cell_type": "markdown",
   "metadata": {},
   "source": [
    "### Multiplication Table Maker\n",
    "\n",
    "Create a program multiplicationTable.py that takes a number N from the command line and creates an N×N multiplication table in an Excel spreadsheet. "
   ]
  },
  {
   "cell_type": "code",
   "execution_count": null,
   "metadata": {},
   "outputs": [],
   "source": [
    "#! python3\n",
    "# multiplication_table.py - Creates a multiplication table in excel with N rows\n",
    "\n",
    "\"\"\"\n",
    "Create a program multiplicationTable.py that takes a number N from the command line\n",
    "and creates an N×N multiplication table in an Excel spreadsheet.\n",
    "\n",
    "Pandas has been more popular with the work that I will be working on so I'm just going over the module\n",
    "without a huge focus on it later on but good to know about the functionality\n",
    "\"\"\"\n",
    "\n",
    "import openpyxl\n",
    "import os\n",
    "from openpyxl.utils import get_column_letter\n",
    "from openpyxl.styles import Font\n",
    "\n",
    "os.chdir()\n",
    "\n",
    "# sys.argv[1] will be the first argument entered\n",
    "# sys.argv[0] is the first argument and it's a string containing the filename\n",
    "n_table = 10  # int(sys.argv[1])\n",
    "\n",
    "# Open a new workbook and use the active sheet\n",
    "wb = openpyxl.Workbook()\n",
    "sheet = wb.active\n",
    "\n",
    "\"\"\"\n",
    "Start from row 2 since A1 is empty. This will be the first loop and will write out the rows and columns\n",
    "up to the number that was entered in the command line. When trying to add a value to a cell you need a letter\n",
    "and number, but in a string format.\n",
    "\n",
    "This creates the outer layer of the numbers\n",
    "\"\"\"\n",
    "for r in range(2, n_table+2):\n",
    "    sheet['A' + str(r)] = r-1\n",
    "    col_let = get_column_letter(r)\n",
    "    sheet[col_let + str(1)] = r-1\n",
    "    # Set to bold\n",
    "    sheet['A' + str(r)].font = Font(bold=True)\n",
    "    sheet[col_let + str(1)].font = Font(bold=True)\n",
    "\n",
    "\"\"\"\n",
    "Loop to create the values inside the box created above\n",
    "\"\"\"\n",
    "for col in range(2, n_table+2):\n",
    "    for row in range(2, n_table+2):\n",
    "        col_letters = get_column_letter(col)\n",
    "        sheet[col_letters + str(row)] = (col-1) * (row-1)\n",
    "        print(str(col) + '-' + str(row))\n",
    "\n",
    "wb.save('multiplication_table.xlsx')"
   ]
  },
  {
   "cell_type": "code",
   "execution_count": null,
   "metadata": {},
   "outputs": [],
   "source": []
  }
 ],
 "metadata": {
  "kernelspec": {
   "display_name": "Python 3",
   "language": "python",
   "name": "python3"
  },
  "language_info": {
   "codemirror_mode": {
    "name": "ipython",
    "version": 3
   },
   "file_extension": ".py",
   "mimetype": "text/x-python",
   "name": "python",
   "nbconvert_exporter": "python",
   "pygments_lexer": "ipython3",
   "version": "3.7.3"
  }
 },
 "nbformat": 4,
 "nbformat_minor": 2
}
