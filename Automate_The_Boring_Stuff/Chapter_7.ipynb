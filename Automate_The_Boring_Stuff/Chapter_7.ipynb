{
 "cells": [
  {
   "cell_type": "code",
   "execution_count": 1,
   "metadata": {},
   "outputs": [
    {
     "name": "stdout",
     "output_type": "stream",
     "text": [
      "3\n"
     ]
    }
   ],
   "source": [
    "# Create table\n",
    "tableData = [['apples', 'oranges', 'cherries', 'banana'],\n",
    "             ['Alice', 'Bob', 'Carol', 'David'],\n",
    "             ['dogs', 'cats', 'moose', 'goose']]\n",
    "\n",
    "print(len(tableData))\n",
    "\n",
    "# Results would look like below\n",
    "#   apples Alice  dogs\n",
    "#  oranges   Bob  cats\n",
    "# cherries Carol moose\n",
    "#   banana David goose\n",
    "\n",
    "\n",
    "def print_table(table):\n",
    "    # Create a new list of 3 \"0\" values: One for each list in table Data\n",
    "    col_width = 0 * len(table)\n",
    "    print(col_width)"
   ]
  },
  {
   "cell_type": "markdown",
   "metadata": {},
   "source": [
    "# Pattern Matching with Regular Expressions"
   ]
  },
  {
   "cell_type": "markdown",
   "metadata": {},
   "source": [
    "### Finding text patterns without using regular expressions vs. how to simplify with regular expressions\n",
    "I’ll show you basic matching with regular expressions and then move on to some more powerful features, such as string substitution and creating your own character classes. Finally, at the end of the chapter, you’ll write a program that can automatically extract phone numbers and email addresses from a block of text."
   ]
  },
  {
   "cell_type": "markdown",
   "metadata": {},
   "source": [
    "### Finding Patterns of Text without Regular Expressions\n",
    "Say you want to find a phone number in a string. You know the pattern: three numbers, a hyphen, three numbers, a hyphen, and four numbers. Here’s an example: 415-555-4242."
   ]
  },
  {
   "cell_type": "code",
   "execution_count": 4,
   "metadata": {},
   "outputs": [
    {
     "name": "stdout",
     "output_type": "stream",
     "text": [
      "415-555-4242 is a phone number:\n",
      "True\n",
      "Moshi moshi is a phone number:\n",
      "False\n",
      "408999999 is a phone number without dashes but will return false:\n",
      "False\n"
     ]
    }
   ],
   "source": [
    "# Create a function called isPhoneNumber() to check whether a string matches this pattern and return TRUE/FALSE\n",
    "def isPhoneNumber(text):\n",
    "    # Check that the string is exactly 12 characters\n",
    "    if len(text) != 12:\n",
    "        return False\n",
    "    for i in range(0, 3):\n",
    "        # Checks that the area code consists of only numeric characters\n",
    "        if not text[i].isdecimal():\n",
    "            return False\n",
    "    # The number must have the first hyphen after the area code\n",
    "    if text[3] != '-':\n",
    "        return False\n",
    "    # Checks for 3 more numeric characters\n",
    "    for i in range(4, 7):\n",
    "        if not text[i].isdecimal():\n",
    "            return False\n",
    "    # Check for another hyphen\n",
    "    if text[7] != '-':\n",
    "        return False\n",
    "    # Check for the final 3 numeric characters\n",
    "    for i in range(8, 12):\n",
    "        if not text[i].isdecimal():\n",
    "            return False\n",
    "    # Return True if everything holds True\n",
    "    return True\n",
    "\n",
    "print('415-555-4242 is a phone number:')\n",
    "print(isPhoneNumber('415-555-4242'))\n",
    "print('Moshi moshi is a phone number:')\n",
    "print(isPhoneNumber('Moshi moshi'))\n",
    "print('408999999 is a phone number without dashes but will return false:')\n",
    "print(isPhoneNumber('408999999'))"
   ]
  },
  {
   "cell_type": "code",
   "execution_count": 5,
   "metadata": {},
   "outputs": [
    {
     "data": {
      "text/plain": [
       "'Call me at 415-555-1011 tomorrow. 415-555-9999 is my office.'"
      ]
     },
     "execution_count": 5,
     "metadata": {},
     "output_type": "execute_result"
    }
   ],
   "source": [
    "message = 'Call me at 415-555-1011 tomorrow. 415-555-9999 is my office.'\n",
    "message"
   ]
  },
  {
   "cell_type": "code",
   "execution_count": 12,
   "metadata": {},
   "outputs": [],
   "source": [
    "for i in range(len(message)):\n",
    "    chunk = message[i:i+12]\n",
    "#     print(chunk)"
   ]
  },
  {
   "cell_type": "code",
   "execution_count": 8,
   "metadata": {},
   "outputs": [
    {
     "name": "stdout",
     "output_type": "stream",
     "text": [
      "Phone number found: 415-555-1011\n",
      "Phone number found: 415-555-9999\n",
      "Done\n"
     ]
    }
   ],
   "source": [
    "# Loop through chunks of 12 at a time and prints out the entire phone number based on isPhoneNumber function\n",
    "for i in range(len(message)):\n",
    "    chunk = message[i:i+12]\n",
    "    # Pass chunk to isPhoneNumber() to see whether it matches the phone number pattern\n",
    "    if isPhoneNumber(chunk):\n",
    "        print('Phone number found: ' + chunk)\n",
    "print('Done')\n",
    "\n",
    "# The loop goes through the entire string, testing each 12-character piece and printing any chunk it finds that \n",
    "# satisfies isPhoneNumber(). Once we’re done going through message, we print Done."
   ]
  },
  {
   "cell_type": "code",
   "execution_count": 11,
   "metadata": {},
   "outputs": [
    {
     "name": "stdout",
     "output_type": "stream",
     "text": [
      "Call me at 4\n",
      "all me at 41\n"
     ]
    }
   ],
   "source": [
    "print(message[0:0+12])\n",
    "print(message[1:1+12])"
   ]
  },
  {
   "cell_type": "markdown",
   "metadata": {},
   "source": [
    "### Finding Patterns of Text with Regular Expressions\n",
    "Regular expressions, called regexes for short, are descriptions for a pattern of text. For example, a \\d in a regex stands for a digit character—that is, any single numeral 0 to 9. The regex \\d\\d\\d-\\d\\d\\d-\\d\\d\\d\\d is used by Python to match the same text the previous isPhoneNumber() function did: a string of three numbers, a hyphen, three more numbers, another hyphen, and four numbers. Any other string would not match the \\d\\d\\d-\\d\\d\\d-\\d\\d \\d\\d regex.\n",
    "\n",
    "But regular expressions can be much more sophisticated. For example, adding a 3 in curly brackets ({3}) after a pattern is like saying, “Match this pattern three times.” So the slightly shorter regex \\d{3}-\\d{3}-\\d{4} also matches the correct phone number format."
   ]
  },
  {
   "cell_type": "markdown",
   "metadata": {},
   "source": [
    "### Creating Regex Objects\n",
    "All of the regex functions in Python are in the re module:\n",
    "\n",
    "Passing a string value representing your regular expression to re.compile() returns a Regex pattern object (or simply, a Regex object)."
   ]
  },
  {
   "cell_type": "code",
   "execution_count": 15,
   "metadata": {},
   "outputs": [
    {
     "data": {
      "text/plain": [
       "re.compile(r'\\d\\d\\d-\\d\\d\\d-\\d\\d\\d\\d', re.UNICODE)"
      ]
     },
     "execution_count": 15,
     "metadata": {},
     "output_type": "execute_result"
    }
   ],
   "source": [
    "import re\n",
    "\n",
    "# Create a Regex object that matches the phone number pattern\n",
    "#  By putting an r before the first quote of the string value,\n",
    "#  you can mark the string as a raw string, which does not escape characters\n",
    "phoneNumRegex = re.compile(r'\\d\\d\\d-\\d\\d\\d-\\d\\d\\d\\d')\n",
    "phoneNumRegex"
   ]
  },
  {
   "cell_type": "markdown",
   "metadata": {},
   "source": [
    "### Matching Regex Objects\n",
    "A Regex object’s search() method searches the string it is passed for any matches to the regex. The search() method will return None if the regex pattern is not found in the string. If the pattern is found, the search() method returns a Match object. Match objects have a group() method that will return the actual matched text from the searched string."
   ]
  },
  {
   "cell_type": "code",
   "execution_count": 16,
   "metadata": {},
   "outputs": [
    {
     "data": {
      "text/plain": [
       "<re.Match object; span=(13, 25), match='415-555-4242'>"
      ]
     },
     "execution_count": 16,
     "metadata": {},
     "output_type": "execute_result"
    }
   ],
   "source": [
    "phoneNumRegex = re.compile(r'\\d\\d\\d-\\d\\d\\d-\\d\\d\\d\\d')\n",
    "mo = phoneNumRegex.search('My number is 415-555-4242.')\n",
    "mo"
   ]
  },
  {
   "cell_type": "code",
   "execution_count": 17,
   "metadata": {},
   "outputs": [
    {
     "name": "stdout",
     "output_type": "stream",
     "text": [
      "Phone number found: 415-555-4242\n"
     ]
    }
   ],
   "source": [
    "print('Phone number found: ' + mo.group())"
   ]
  },
  {
   "cell_type": "markdown",
   "metadata": {},
   "source": [
    "The mo variable name is just a generic name to use for Match objects. This example might seem complicated at first, but it is much shorter than the earlier isPhoneNumber.py program and does the same thing.\n",
    "\n",
    "Here, we pass our desired pattern to re.compile() and store the resulting Regex object in phoneNumRegex. Then we call search() on phoneNumRegex and pass search() the string we want to search for a match. The result of the search gets stored in the variable mo. In this example, we know that our pattern will be found in the string, so we know that a Match object will be returned. Knowing that mo contains a Match object and not the null value None, we can call group() on mo to return the match. Writing mo.group() inside our print statement displays the whole match, 415-555-4242."
   ]
  },
  {
   "cell_type": "markdown",
   "metadata": {},
   "source": [
    "### Review of Regular Expression Matching\n",
    "\n",
    "While there are several steps to using regular expressions in Python, each step is fairly simple.\n",
    "\n",
    "    Import the regex module with import re.\n",
    "\n",
    "    Create a Regex object with the re.compile() function. (Remember to use a raw string.)\n",
    "\n",
    "    Pass the string you want to search into the Regex object’s search() method. This returns a Match object.\n",
    "\n",
    "    Call the Match object’s group() method to return a string of the actual matched text.\n",
    "\n"
   ]
  },
  {
   "cell_type": "markdown",
   "metadata": {},
   "source": [
    "### Grouping with Parentheses\n",
    "\n",
    "Say you want to separate the area code from the rest of the phone number. Adding parentheses will create groups in the regex: (\\d\\d\\d)-(\\d\\d\\d-\\d\\d\\d\\d). Then you can use the group() match object method to grab the matching text from just one group.\n",
    "\n",
    "The first set of parentheses in a regex string will be group 1. The second set will be group 2. By passing the integer 1 or 2 to the group() match object method, you can grab different parts of the matched text. Passing 0 or nothing to the group() method will return the entire matched text."
   ]
  },
  {
   "cell_type": "code",
   "execution_count": 20,
   "metadata": {},
   "outputs": [
    {
     "name": "stdout",
     "output_type": "stream",
     "text": [
      "222\n",
      "2222\n",
      "222-2222\n",
      "222-2222\n",
      "('222', '2222')\n"
     ]
    }
   ],
   "source": [
    "# Compile regex object\n",
    "phoneNumRegex = re.compile(r'(\\d\\d\\d)-(\\d\\d\\d\\d)') # group 1 and group 2 in parentheses\n",
    "\n",
    "# Create match object from string\n",
    "mo = phoneNumRegex.search('my number is 415-222-2222')\n",
    "\n",
    "# Group by match object\n",
    "print(mo.group(1)) # first group\n",
    "print(mo.group(2)) # second group\n",
    "print(mo.group(0)) # all\n",
    "print(mo.group()) # all\n",
    "\n",
    "# Multiple groups\n",
    "print(mo.groups()) # plural s"
   ]
  },
  {
   "cell_type": "code",
   "execution_count": 21,
   "metadata": {},
   "outputs": [
    {
     "name": "stdout",
     "output_type": "stream",
     "text": [
      "222\n",
      "2222\n"
     ]
    }
   ],
   "source": [
    "areaCode, mainNumber = mo.groups() # single line assignment\n",
    "print(areaCode)\n",
    "print(mainNumber)"
   ]
  },
  {
   "cell_type": "markdown",
   "metadata": {},
   "source": [
    "### Matching parentheses as well\n",
    "Parentheses have a special meaning in regular expressions, but what do you do if you need to match a parenthesis in your text? For instance, maybe the phone numbers you are trying to match have the area code set in parentheses. In this case, you need to escape the ( and ) characters with a backslash."
   ]
  },
  {
   "cell_type": "code",
   "execution_count": 30,
   "metadata": {},
   "outputs": [
    {
     "name": "stdout",
     "output_type": "stream",
     "text": [
      "(408)\n",
      "999-9999\n",
      "('(408)', '999-9999')\n"
     ]
    }
   ],
   "source": [
    "phoneNumRegex = re.compile(r'(\\(\\d\\d\\d\\)) (\\d\\d\\d-\\d\\d\\d\\d)') # add extra \\( \\) and () for the area code to match () as well\n",
    "mo = phoneNumRegex.search('text this number (408) 999-9999')\n",
    "print(mo.group(1))\n",
    "print(mo.group(2))\n",
    "print(mo.groups())"
   ]
  },
  {
   "cell_type": "markdown",
   "metadata": {},
   "source": [
    "### Matching Multiple Groups with the Pipe\n",
    "\n",
    "The | character is called a pipe. You can use it anywhere you want to match one of many expressions. For example, the regular expression r'Batman|Tina Fey' will match either 'Batman' or 'Tina Fey'.\n",
    "\n",
    "When both Batman and Tina Fey occur in the searched string, the first occurrence of matching text will be returned as the Match object."
   ]
  },
  {
   "cell_type": "code",
   "execution_count": 32,
   "metadata": {},
   "outputs": [
    {
     "data": {
      "text/plain": [
       "'Batman'"
      ]
     },
     "execution_count": 32,
     "metadata": {},
     "output_type": "execute_result"
    }
   ],
   "source": [
    "# Search for Batman or Tina Fey using Regex\n",
    "heroRegex = re.compile(r'Batman|Tina Fey')\n",
    "mo_1 = heroRegex.search('Batman and Tina Fey')\n",
    "mo_1.group()"
   ]
  },
  {
   "cell_type": "code",
   "execution_count": 34,
   "metadata": {},
   "outputs": [
    {
     "data": {
      "text/plain": [
       "'Tina Fey'"
      ]
     },
     "execution_count": 34,
     "metadata": {},
     "output_type": "execute_result"
    }
   ],
   "source": [
    "mo_2 = heroRegex.search('Tina Fey and Batman')\n",
    "mo_2.group()"
   ]
  },
  {
   "cell_type": "markdown",
   "metadata": {},
   "source": [
    "You can also use the pipe to match one of several patterns as part of your regex. For example, say you wanted to match any of the strings 'Batman', 'Batmobile', 'Batcopter', and 'Batbat'. Since all these strings start with Bat, it would be nice if you could specify that prefix only once. This can be done with parentheses. "
   ]
  },
  {
   "cell_type": "code",
   "execution_count": 40,
   "metadata": {},
   "outputs": [
    {
     "name": "stdout",
     "output_type": "stream",
     "text": [
      "Batmobile\n",
      "('mobile',)\n",
      "mobile\n"
     ]
    }
   ],
   "source": [
    "# Regex for prefix of words\n",
    "batRegex = re.compile(r'Bat(\\|man|mobile|copter|bat)') # search for prefix 'Bat'\n",
    "mo = batRegex.search('Batmobile lost a wheel with Batman')\n",
    "print(mo.group()) # returns full matched text 'Batmobile'\n",
    "print(mo.groups())\n",
    "print(mo.group(1)) # returns just the part of the matched text inside the first parentheses group 'mobile'"
   ]
  },
  {
   "cell_type": "markdown",
   "metadata": {},
   "source": [
    "The method call mo.group() returns the full matched text 'Batmobile', while mo.group(1) returns just the part of the matched text inside the first parentheses group, 'mobile'. By using the pipe character and grouping parentheses, you can specify several alternative patterns you would like your regex to match.\n",
    "\n",
    "If you need to match an actual pipe character, escape it with a backslash, like '\\|'."
   ]
  },
  {
   "cell_type": "markdown",
   "metadata": {},
   "source": [
    "### Optional Matching with the Question Mark\n",
    "Sometimes there is a pattern that you want to match only optionally. That is, the regex should find a match whether or not that bit of text is there. The ? character flags the group that precedes it as an optional part of the pattern."
   ]
  },
  {
   "cell_type": "code",
   "execution_count": 43,
   "metadata": {},
   "outputs": [
    {
     "data": {
      "text/plain": [
       "'Batman'"
      ]
     },
     "execution_count": 43,
     "metadata": {},
     "output_type": "execute_result"
    }
   ],
   "source": [
    "batRegex = re.compile(r'Bat(wo)?man') #  pattern wo is an optional group\n",
    "mo_1 = batRegex.search('the adventures of Batman')\n",
    "mo_1.group()"
   ]
  },
  {
   "cell_type": "code",
   "execution_count": 44,
   "metadata": {},
   "outputs": [
    {
     "data": {
      "text/plain": [
       "'Batwoman'"
      ]
     },
     "execution_count": 44,
     "metadata": {},
     "output_type": "execute_result"
    }
   ],
   "source": [
    "mo_2 = batRegex.search('the Batwoman adventures of Batman')\n",
    "mo_2.group()"
   ]
  },
  {
   "cell_type": "markdown",
   "metadata": {},
   "source": [
    "The (wo)? part of the regular expression means that the pattern wo is an optional group. The regex will match text that has zero instances or one instance of wo in it. This is why the regex matches both 'Batwoman' and 'Batman'.\n",
    "\n",
    "Using the earlier phone number example, you can make the regex look for phone numbers that do or do not have an area code.\n",
    "\n",
    "#### Think of the \"?\" as saying, \"Match zero or one of the group preceding this question mark\"\n",
    "\n",
    "If you need to match an actual question mark character, escape it with \\?."
   ]
  },
  {
   "cell_type": "code",
   "execution_count": 74,
   "metadata": {},
   "outputs": [
    {
     "name": "stdout",
     "output_type": "stream",
     "text": [
      "408-999-9999\n",
      "999-9999\n"
     ]
    }
   ],
   "source": [
    "# Think of the \"?\" as saying, \"Match zero or one of the group preceding this question mark\"\n",
    "phoneRegex = re.compile(r'(\\d\\d\\d-)?\\d\\d\\d-\\d\\d\\d\\d') # ? after area code so before section is optional\n",
    "mo_1 = phoneRegex.search('my number is 408-999-9999 and 408-888-8888')\n",
    "print(mo_1.group())\n",
    "\n",
    "# Think of the \"?\" as saying, \"Match zero or one of the group preceding this question mark\"\n",
    "phoneRegex2 = re.compile(r'(\\d\\d\\d-)?\\d\\d\\d-\\d\\d\\d\\d') # ? after area code so before section is optional\n",
    "mo_3 = phoneRegex2.search('my number is 999-9999 and 408-888-8888')\n",
    "print(mo_3.group())"
   ]
  },
  {
   "cell_type": "code",
   "execution_count": 46,
   "metadata": {},
   "outputs": [
    {
     "data": {
      "text/plain": [
       "'999-9999'"
      ]
     },
     "execution_count": 46,
     "metadata": {},
     "output_type": "execute_result"
    }
   ],
   "source": [
    "mo_2 = phoneRegex.search('my number is 999-9999 and 888-8888')\n",
    "mo_2.group()"
   ]
  },
  {
   "cell_type": "markdown",
   "metadata": {},
   "source": [
    "### Matching Zero or More with the Star\n",
    "\n",
    "The * (called the star or asterisk) means “match zero or more”—the group that precedes the star can occur any number of times in the text. It can be completely absent or repeated over and over again. "
   ]
  },
  {
   "cell_type": "code",
   "execution_count": 52,
   "metadata": {},
   "outputs": [
    {
     "data": {
      "text/plain": [
       "'Batman'"
      ]
     },
     "execution_count": 52,
     "metadata": {},
     "output_type": "execute_result"
    }
   ],
   "source": [
    "batRegex = re.compile(r'Bat(wo)*man')\n",
    "\n",
    "# For 'Batman', the (wo)* part of the regex matches zero instances of wo in the string\n",
    "mo_1 = batRegex.search('The Adventures of Batman')\n",
    "mo_1.group()"
   ]
  },
  {
   "cell_type": "code",
   "execution_count": 53,
   "metadata": {},
   "outputs": [
    {
     "data": {
      "text/plain": [
       "'Batwoman'"
      ]
     },
     "execution_count": 53,
     "metadata": {},
     "output_type": "execute_result"
    }
   ],
   "source": [
    "# For 'Batwoman', the (wo)* matches one instance of wo\n",
    "mo_2 = batRegex.search('The Adventures of Batwoman')\n",
    "mo_2.group()"
   ]
  },
  {
   "cell_type": "code",
   "execution_count": 51,
   "metadata": {},
   "outputs": [
    {
     "data": {
      "text/plain": [
       "'Batwowowowoman'"
      ]
     },
     "execution_count": 51,
     "metadata": {},
     "output_type": "execute_result"
    }
   ],
   "source": [
    "# For 'Batwowowowoman', (wo)* matches four instances of wo\n",
    "mo_3 = batRegex.search('The Adventures of Batwowowowoman')\n",
    "mo_3.group()"
   ]
  },
  {
   "cell_type": "markdown",
   "metadata": {},
   "source": [
    "For 'Batman', the (wo)* part of the regex matches zero instances of wo in the string; for 'Batwoman', the (wo)* matches one instance of wo; and for 'Batwowowowoman', (wo)* matches four instances of wo.\n",
    "\n",
    "If you need to match an actual star character, prefix the star in the regular expression with a backslash, \\*."
   ]
  },
  {
   "cell_type": "markdown",
   "metadata": {},
   "source": [
    "### Matching One or More with the Plus\n",
    "\n",
    "While * means “match zero or more,” the + (or plus) means “match one or more.” Unlike the star, which does not require its group to appear in the matched string, the group preceding a plus must appear at least once. It is not optional. Enter the following into the interactive shell, and compare it with the star regexes in the previous section"
   ]
  },
  {
   "cell_type": "code",
   "execution_count": 54,
   "metadata": {},
   "outputs": [
    {
     "data": {
      "text/plain": [
       "'Batwoman'"
      ]
     },
     "execution_count": 54,
     "metadata": {},
     "output_type": "execute_result"
    }
   ],
   "source": [
    "batRegex = re.compile(r'Bat(wo)+man')\n",
    "mo1 = batRegex.search('The Adventures of Batwoman')\n",
    "mo1.group()"
   ]
  },
  {
   "cell_type": "code",
   "execution_count": 55,
   "metadata": {},
   "outputs": [
    {
     "data": {
      "text/plain": [
       "'Batwowowowoman'"
      ]
     },
     "execution_count": 55,
     "metadata": {},
     "output_type": "execute_result"
    }
   ],
   "source": [
    "mo2 = batRegex.search('The Adventures of Batwowowowoman')\n",
    "mo2.group()"
   ]
  },
  {
   "cell_type": "code",
   "execution_count": 59,
   "metadata": {},
   "outputs": [
    {
     "data": {
      "text/plain": [
       "True"
      ]
     },
     "execution_count": 59,
     "metadata": {},
     "output_type": "execute_result"
    }
   ],
   "source": [
    "mo3 = batRegex.search('The Adventures of Batman')\n",
    "mo3 == None"
   ]
  },
  {
   "cell_type": "markdown",
   "metadata": {},
   "source": [
    "### Matching Specific Repetitions with Curly Brackets\n",
    "\n",
    "If you have a group that you want to repeat a specific number of times, follow the group in your regex with a number in curly brackets. For example, the regex (Ha){3} will match the string 'HaHaHa', but it will not match 'HaHa', since the latter has only two repeats of the (Ha) group.\n",
    "\n",
    "Instead of one number, you can specify a range by writing a minimum, a comma, and a maximum in between the curly brackets. For example, the regex (Ha){3,5} will match 'HaHaHa', 'HaHaHaHa', and 'HaHaHaHaHa'.\n",
    "\n",
    "You can also leave out the first or second number in the curly brackets to leave the minimum or maximum unbounded. For example, (Ha){3,} will match three or more instances of the (Ha) group, while (Ha){,5} will match zero to five instances. Curly brackets can help make your regular expressions shorter. These two regular expressions match identical patterns:\n",
    "\n",
    "(Ha){3}\n",
    "(Ha)(Ha)(Ha)"
   ]
  },
  {
   "cell_type": "code",
   "execution_count": 60,
   "metadata": {},
   "outputs": [
    {
     "data": {
      "text/plain": [
       "'hahaha'"
      ]
     },
     "execution_count": 60,
     "metadata": {},
     "output_type": "execute_result"
    }
   ],
   "source": [
    "haRegex = re.compile(r'(ha){3}')\n",
    "mo1 = haRegex.search('hahahahahahaha')\n",
    "mo1.group()"
   ]
  },
  {
   "cell_type": "code",
   "execution_count": 62,
   "metadata": {},
   "outputs": [
    {
     "data": {
      "text/plain": [
       "True"
      ]
     },
     "execution_count": 62,
     "metadata": {},
     "output_type": "execute_result"
    }
   ],
   "source": [
    "mo2 = haRegex.search('ha') \n",
    "mo2 == None # needs a minimum of ha * 3"
   ]
  },
  {
   "cell_type": "markdown",
   "metadata": {},
   "source": [
    "### Greedy and Nongreedy Matching\n",
    "\n",
    "Since (Ha){3,5} can match three, four, or five instances of Ha in the string 'HaHaHaHaHa', you may wonder why the Match object’s call to group() in the previous curly bracket example returns 'HaHaHaHaHa' instead of the shorter possibilities. After all, 'HaHaHa' and 'HaHaHaHa' are also valid matches of the regular expression (Ha){3,5}.\n",
    "\n",
    "Python’s regular expressions are greedy by default, which means that in ambiguous situations they will match the longest string possible. The non-greedy version of the curly brackets, which matches the shortest string possible, has the closing curly bracket followed by a question mark."
   ]
  },
  {
   "cell_type": "code",
   "execution_count": 63,
   "metadata": {},
   "outputs": [
    {
     "data": {
      "text/plain": [
       "'hahahahaha'"
      ]
     },
     "execution_count": 63,
     "metadata": {},
     "output_type": "execute_result"
    }
   ],
   "source": [
    "greedyHaRegex = re.compile(r'(ha){3,5}') # greedy approach, which means that it will find the longest string possible\n",
    "mo1 = greedyHaRegex.search('hahahahaha')\n",
    "mo1.group()"
   ]
  },
  {
   "cell_type": "code",
   "execution_count": 65,
   "metadata": {},
   "outputs": [
    {
     "data": {
      "text/plain": [
       "'hahaha'"
      ]
     },
     "execution_count": 65,
     "metadata": {},
     "output_type": "execute_result"
    }
   ],
   "source": [
    "nongreedyHaRegEx = re.compile(r'(ha){3,5}?') # nongreedy with ? searches for the min needed (3)\n",
    "mo2 = nongreedyHaRegEx.search('hahahahaha')\n",
    "mo2.group()"
   ]
  },
  {
   "cell_type": "markdown",
   "metadata": {},
   "source": [
    "### The findall() Method\n",
    "\n",
    "In addition to the search() method, Regex objects also have a findall() method. While search() will return a Match object of the first matched text in the searched string, the findall() method will return the strings of every match in the searched string. To see how search() returns a Match object only on the first instance of matching text"
   ]
  },
  {
   "cell_type": "code",
   "execution_count": 66,
   "metadata": {},
   "outputs": [
    {
     "data": {
      "text/plain": [
       "'408-888-8888'"
      ]
     },
     "execution_count": 66,
     "metadata": {},
     "output_type": "execute_result"
    }
   ],
   "source": [
    "phoneNumRegEx = re.compile(r'\\d\\d\\d-\\d\\d\\d-\\d\\d\\d\\d')\n",
    "mo = phoneNumRegEx.search('Cell: 408-888-8888 Work: 408-999-9999')\n",
    "mo.group()"
   ]
  },
  {
   "cell_type": "markdown",
   "metadata": {},
   "source": [
    "On the other hand, findall() will not return a Match object but a list of strings—as long as there are no groups in the regular expression. Each string in the list is a piece of the searched text that matched the regular expression. "
   ]
  },
  {
   "cell_type": "code",
   "execution_count": 67,
   "metadata": {},
   "outputs": [
    {
     "data": {
      "text/plain": [
       "['408-888-8888', '408-999-9999']"
      ]
     },
     "execution_count": 67,
     "metadata": {},
     "output_type": "execute_result"
    }
   ],
   "source": [
    "phoneNumRegEx = re.compile(r'\\d\\d\\d-\\d\\d\\d-\\d\\d\\d\\d') # has no groups\n",
    "phoneNumRegEx.findall('Cell: 408-888-8888 Work: 408-999-9999')"
   ]
  },
  {
   "cell_type": "markdown",
   "metadata": {},
   "source": [
    "If there are groups in the regular expression, then findall() will return a list of tuples. Each tuple represents a found match, and its items are the matched strings for each group in the regex. To see findall() in action, enter the following into the interactive shell (notice that the regular expression being compiled now has groups in parentheses)"
   ]
  },
  {
   "cell_type": "code",
   "execution_count": 75,
   "metadata": {},
   "outputs": [
    {
     "data": {
      "text/plain": [
       "[('408', '888', '8888'), ('408', '999', '9999'), ('999', '888', '8888')]"
      ]
     },
     "execution_count": 75,
     "metadata": {},
     "output_type": "execute_result"
    }
   ],
   "source": [
    "phoneNumRegEx = re.compile(r'(\\d\\d\\d)-(\\d\\d\\d)-(\\d\\d\\d\\d)') # has groups vs no groups\n",
    "phoneNumRegEx.findall('Cell: 408-888-8888 Work: 408-999-9999 Bok: 999-888-8888 Line: 555-5555')"
   ]
  },
  {
   "cell_type": "markdown",
   "metadata": {},
   "source": [
    "To summarize what the findall() method returns, remember the following:\n",
    "\n",
    "    When called on a regex with no groups, such as \\d\\d\\d-\\d\\d\\d-\\d\\d\\d\\d, the method findall() returns a list of string matches, such as ['415-555-9999', '212-555-0000'].\n",
    "\n",
    "    When called on a regex that has groups, such as (\\d\\d\\d)-(\\d\\d\\d)-(\\d\\ d\\d\\d), the method findall() returns a list of tuples of strings (one string for each group), such as [('415', '555', '9999'), ('212', '555', '0000')].\n",
    "\n"
   ]
  },
  {
   "cell_type": "markdown",
   "metadata": {},
   "source": [
    "### Character Classes\n",
    "\\d\n",
    "\t\n",
    "\n",
    "Any numeric digit from 0 to 9.\n",
    "\n",
    "\\D\n",
    "\t\n",
    "\n",
    "Any character that is not a numeric digit from 0 to 9.\n",
    "\n",
    "\\w\n",
    "\t\n",
    "\n",
    "Any letter, numeric digit, or the underscore character. (Think of this as matching “word” characters.)\n",
    "\n",
    "\\W\n",
    "\t\n",
    "\n",
    "Any character that is not a letter, numeric digit, or the underscore character.\n",
    "\n",
    "\\s\n",
    "\t\n",
    "\n",
    "Any space, tab, or newline character. (Think of this as matching “space” characters.)\n",
    "\n",
    "\\S\n",
    "\t\n",
    "\n",
    "Any character that is not a space, tab, or newline."
   ]
  },
  {
   "cell_type": "markdown",
   "metadata": {},
   "source": [
    "Character classes are nice for shortening regular expressions. The character class [0-5] will match only the numbers 0 to 5; this is much shorter than typing (0|1|2|3|4|5)."
   ]
  },
  {
   "cell_type": "code",
   "execution_count": 80,
   "metadata": {},
   "outputs": [
    {
     "data": {
      "text/plain": [
       "['5 rose',\n",
       " '99 no',\n",
       " '12 drummers',\n",
       " '11 pipers',\n",
       " '10 lords',\n",
       " '9 ladies',\n",
       " '8 maids',\n",
       " '7 swans',\n",
       " '6 geese',\n",
       " '5 rings',\n",
       " '4 birds',\n",
       " '3 hens',\n",
       " '2 doves',\n",
       " '1 partridge']"
      ]
     },
     "execution_count": 80,
     "metadata": {},
     "output_type": "execute_result"
    }
   ],
   "source": [
    "xmasRegex = re.compile(r'\\d+\\s\\w+') # + means that the group preceding + has to appear at least once\n",
    "xmasRegex.findall('4rose, 5 rose, 99 no yes 11, 12 drummers, 11 pipers, 10 lords, 9 ladies, 8 maids, 7 swans, 6 geese,\\n5 rings, 4 birds, 3 hens, 2 doves, 1 partridge')"
   ]
  },
  {
   "cell_type": "markdown",
   "metadata": {},
   "source": [
    "### The regular expression \\d+\\s\\w+ will match text that has one or more numeric digits (\\d+), followed by a whitespace character (\\s), followed by one or more letter/digit/underscore characters (\\w+). The findall() method returns all matching strings of the regex pattern in a list."
   ]
  },
  {
   "cell_type": "code",
   "execution_count": null,
   "metadata": {},
   "outputs": [],
   "source": []
  }
 ],
 "metadata": {
  "kernelspec": {
   "display_name": "Python 3",
   "language": "python",
   "name": "python3"
  },
  "language_info": {
   "codemirror_mode": {
    "name": "ipython",
    "version": 3
   },
   "file_extension": ".py",
   "mimetype": "text/x-python",
   "name": "python",
   "nbconvert_exporter": "python",
   "pygments_lexer": "ipython3",
   "version": "3.7.3"
  }
 },
 "nbformat": 4,
 "nbformat_minor": 2
}
