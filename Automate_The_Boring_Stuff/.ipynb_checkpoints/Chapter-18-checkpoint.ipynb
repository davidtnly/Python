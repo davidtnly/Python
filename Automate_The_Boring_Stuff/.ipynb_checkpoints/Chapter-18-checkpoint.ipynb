{
 "cells": [
  {
   "cell_type": "markdown",
   "metadata": {},
   "source": [
    "### Controlling the Keyboard and Mouse with GUI Automation\n",
    "\n",
    "Knowing various Python modules for editing spreadsheets, downloading files, and launching programs is useful, but sometimes there just aren’t any modules for the applications you need to work with. The ultimate tools for automating tasks on your computer are programs you write that directly control the keyboard and mouse. These programs can control other applications by sending them virtual keystrokes and mouse clicks, justpython3- as if you were sitting at your computer and interacting with the applications yourself. This technique is known as graphical user interface automation, or GUI automation for short. With GUI automation, your programs can do anything that a human user sitting at the computer can do, except spill coffee on the keyboard.\n",
    "\n",
    "Think of GUI automation as programming a robotic arm. You can program the robotic arm to type at your keyboard and move your mouse for you. This technique is particularly useful for tasks that involve a lot of mindless clicking or filling out of forms.\n",
    "\n",
    "The pyautogui module has functions for simulating mouse movements, button clicks, and scrolling the mouse wheel. This chapter covers only a subset of PyAutoGUI’s features; you can find the full documentation at http://pyautogui.readthedocs.org/."
   ]
  },
  {
   "cell_type": "markdown",
   "metadata": {},
   "source": [
    "### Installing the pyautogui Module\n",
    "\n",
    "The pyautogui module can send virtual keypresses and mouse clicks to Windows, OS X, and Linux. Depending on which operating system you’re using, you may have to install some other modules (called dependencies) before you can install PyAutoGUI.\n",
    "\n",
    "    On Windows, there are no other modules to install.\n",
    "\n",
    "    On OS X, run sudo pip3 install pyobjc-framework-Quartz, sudo pip3 install pyobjc-core, and then sudo pip3 install pyobjc.\n",
    "\n",
    "    On Linux, run sudo pip3 install python3-xlib, sudo apt-get install scrot, sudo apt-get install python3-tk, and sudo apt-get install python3-dev. (Scrot is a screenshot program that PyAutoGUI uses.)\n",
    "\n",
    "After these dependencies are installed, run pip install pyautogui (or pip3 on OS X and Linux) to install PyAutoGUI.\n",
    "\n",
    "Appendix A has complete information on installing third-party modules. To test whether PyAutoGUI has been installed correctly, run import pyautogui from the interactive shell and check for any error messages."
   ]
  },
  {
   "cell_type": "markdown",
   "metadata": {},
   "source": [
    "### Staying on Track\n",
    "\n",
    "Before you jump in to a GUI automation, you should know how to escape problems that may arise. Python can move your mouse and type keystrokes at an incredible speed. In fact, it might be too fast for other programs to keep up with. Also, if something goes wrong but your program keeps moving the mouse around, it will be hard to tell what exactly the program is doing or how to recover from the problem. Like the enchanted brooms from Disney’s The Sorcerer’s Apprentice, which kept filling—and then overfilling—Mickey’s tub with water, your program could get out of control even though it’s following your instructions perfectly. Stopping the program can be difficult if the mouse is moving around on its own, preventing you from clicking the IDLE window to close it. Fortunately, there are several ways to prevent or recover from GUI automation problems."
   ]
  },
  {
   "cell_type": "markdown",
   "metadata": {},
   "source": [
    "### Shutting Down Everything by Logging Out\n",
    "\n",
    "Perhaps the simplest way to stop an out-of-control GUI automation program is to log out, which will shut down all running programs. On Windows and Linux, the logout hotkey is CTRL-ALT-DEL. On OS X, it is -SHIFT-OPTION-Q. By logging out, you’ll lose any unsaved work, but at least you won’t have to wait for a full reboot of the computer."
   ]
  },
  {
   "cell_type": "markdown",
   "metadata": {},
   "source": [
    "### Pauses and Fail-Safes\n",
    "\n",
    "You can tell your script to wait after every function call, giving you a short window to take control of the mouse and keyboard if something goes wrong. To do this, set the pyautogui.PAUSE variable to the number of seconds you want it to pause. For example, after setting pyautogui.PAUSE = 1.5, every PyAutoGUI function call will wait one and a half seconds after performing its action. Non-PyAutoGUI instructions will not have this pause.\n",
    "\n",
    "PyAutoGUI also has a fail-safe feature. Moving the mouse cursor to the upper-left corner of the screen will cause PyAutoGUI to raise the pyautogui.FailSafeException exception. Your program can either handle this exception with try and except statements or let the exception crash your program. Either way, the fail-safe feature will stop the program if you quickly move the mouse as far up and left as you can. You can disable this feature by setting pyautogui.FAILSAFE = False."
   ]
  },
  {
   "cell_type": "code",
   "execution_count": 2,
   "metadata": {},
   "outputs": [],
   "source": [
    "import pyautogui as pag\n",
    "pag.PAUSE = 1\n",
    "pag.FAILSAFE = True"
   ]
  },
  {
   "cell_type": "markdown",
   "metadata": {},
   "source": [
    "The mouse functions of PyAutoGUI use x- and y-coordinates. Figure 18-1 shows the coordinate system for the computer screen; it’s similar to the coordinate system used for images, discussed in Chapter 17. The origin, where x and y are both zero, is at the upper-left corner of the screen. The x-coordinates increase going to the right, and the y-coordinates increase going down. All coordinates are positive integers; there are no negative coordinates."
   ]
  },
  {
   "cell_type": "markdown",
   "metadata": {},
   "source": [
    "Your resolution is how many pixels wide and tall your screen is. If your screen’s resolution is set to 1920×1080, then the coordinate for the upper-left corner will be (0, 0), and the coordinate for the bottom-right corner will be (1919, 1079).\n",
    "\n",
    "The pyautogui.size() function returns a two-integer tuple of the screen’s width and height in pixels. "
   ]
  },
  {
   "cell_type": "code",
   "execution_count": 3,
   "metadata": {},
   "outputs": [
    {
     "data": {
      "text/plain": [
       "Size(width=1920, height=1080)"
      ]
     },
     "execution_count": 3,
     "metadata": {},
     "output_type": "execute_result"
    }
   ],
   "source": [
    "import pyautogui as pag\n",
    "pag.size()"
   ]
  },
  {
   "cell_type": "code",
   "execution_count": 4,
   "metadata": {},
   "outputs": [],
   "source": [
    "# Store the width and height variables\n",
    "width, height = pag.size()"
   ]
  },
  {
   "cell_type": "code",
   "execution_count": 5,
   "metadata": {},
   "outputs": [
    {
     "data": {
      "text/plain": [
       "1920"
      ]
     },
     "execution_count": 5,
     "metadata": {},
     "output_type": "execute_result"
    }
   ],
   "source": [
    "width"
   ]
  },
  {
   "cell_type": "code",
   "execution_count": 6,
   "metadata": {},
   "outputs": [
    {
     "data": {
      "text/plain": [
       "1080"
      ]
     },
     "execution_count": 6,
     "metadata": {},
     "output_type": "execute_result"
    }
   ],
   "source": [
    "height"
   ]
  },
  {
   "cell_type": "markdown",
   "metadata": {},
   "source": [
    "### Moving the Mouse\n",
    "\n",
    "Now that you understand screen coordinates, let’s move the mouse. The pyautogui.moveTo() function will instantly move the mouse cursor to a specified position on the screen. Integer values for the x- and y-coordinates make up the function’s first and second arguments, respectively. An optional duration integer or float keyword argument specifies the number of seconds it should take to move the mouse to the destination. If you leave it out, the default is 0 for instantaneous movement. (All of the duration keyword arguments in PyAutoGUI functions are optional.) "
   ]
  },
  {
   "cell_type": "code",
   "execution_count": 7,
   "metadata": {},
   "outputs": [],
   "source": [
    "import pyautogui as pag\n",
    "\n",
    "# Move the mouse cursor clockwise in a square pattern in four coordinates 5 times\n",
    "for i in range(5):\n",
    "    pag.moveTo(100, 100, duration = 0.25) # quarter of a second movement\n",
    "    pag.moveTo(200, 100, duration = 0.25) # quarter of a second movement\n",
    "    pag.moveTo(200, 200, duration = 0.25) # quarter of a second movement\n",
    "    pag.moveTo(100, 200, duration = 0.25) # quarter of a second movement\n",
    "    \n",
    "exit()"
   ]
  },
  {
   "cell_type": "markdown",
   "metadata": {},
   "source": [
    "The pyautogui.moveRel() function moves the mouse cursor relative to its current position. The following example moves the mouse in the same square pattern, except it begins the square from wherever the mouse happens to be on the screen when the code starts running"
   ]
  },
  {
   "cell_type": "code",
   "execution_count": 8,
   "metadata": {},
   "outputs": [],
   "source": [
    "import pyautogui as pag\n",
    "\n",
    "# Move mouse cursor relative to it's current position\n",
    "for i in range(3):\n",
    "    pag.moveRel(250, 0, duration = 0.1)\n",
    "    pag.moveRel(0, 250, duration = 0.1)\n",
    "    pag.moveRel(-250, 0, duration = 0.1)\n",
    "    pag.moveRel(0, -250, duration = 0.1)"
   ]
  },
  {
   "cell_type": "markdown",
   "metadata": {},
   "source": [
    "pyautogui.moveRel() also takes three arguments: how many pixels to move horizontally to the right, how many pixels to move vertically downward, and (optionally) how long it should take to complete the movement. A negative integer for the first or second argument will cause the mouse to move left or upward, respectively."
   ]
  },
  {
   "cell_type": "markdown",
   "metadata": {},
   "source": [
    "### Getting the Mouse Position\n",
    "\n",
    "You can determine the mouse’s current position by calling the pyautogui.position() function, which will return a tuple of the mouse cursor’s x and y positions at the time of the function call."
   ]
  },
  {
   "cell_type": "code",
   "execution_count": null,
   "metadata": {},
   "outputs": [],
   "source": [
    "import pyautogui as pag\n",
    "\n",
    "pag.position()"
   ]
  },
  {
   "cell_type": "code",
   "execution_count": null,
   "metadata": {},
   "outputs": [],
   "source": [
    "type(pag.position())"
   ]
  },
  {
   "cell_type": "code",
   "execution_count": null,
   "metadata": {},
   "outputs": [],
   "source": [
    "import pyautogui as pag\n",
    "\n",
    "# Move mouse cursor relative to it's current position\n",
    "for i in range(3):\n",
    "    pag.moveRel(250, 0, duration = 0.1)\n",
    "    print(str(pag.position()))\n",
    "    pag.moveRel(0, 250, duration = 0.1)\n",
    "    print(str(pag.position()))\n",
    "    pag.moveRel(-250, 0, duration = 0.1)\n",
    "    print(str(pag.position()))\n",
    "    pag.moveRel(0, -250, duration = 0.1)\n",
    "    print(str(pag.position()))"
   ]
  },
  {
   "cell_type": "markdown",
   "metadata": {},
   "source": [
    "### Project: “Where Is the Mouse Right Now?”\n",
    "\n",
    "Being able to determine the mouse position is an important part of setting up your GUI automation scripts. But it’s almost impossible to figure out the exact coordinates of a pixel just by looking at the screen. It would be handy to have a program that constantly displays the x- and y-coordinates of the mouse cursor as you move it around."
   ]
  },
  {
   "cell_type": "markdown",
   "metadata": {},
   "source": [
    "At a high level, here’s what your program should do:\n",
    "\n",
    "    Display the current x- and y-coordinates of the mouse cursor.\n",
    "\n",
    "    Update these coordinates as the mouse moves around the screen.\n",
    "\n",
    "This means your code will need to do the following:\n",
    "\n",
    "    Call the position() function to fetch the current coordinates.\n",
    "\n",
    "    Erase the previously printed coordinates by printing \\b backspace characters to the screen.\n",
    "\n",
    "    Handle the KeyboardInterrupt exception so the user can press CTRL-C to quit.\n",
    "\n"
   ]
  },
  {
   "cell_type": "markdown",
   "metadata": {},
   "source": [
    "### Step 1: Import the Module"
   ]
  },
  {
   "cell_type": "code",
   "execution_count": null,
   "metadata": {},
   "outputs": [],
   "source": [
    "import pyautogui as pag"
   ]
  },
  {
   "cell_type": "markdown",
   "metadata": {},
   "source": [
    "### Step 2: Set Up the Quit Code and Infinite Loop\n",
    "You can use an infinite while loop to constantly print the current mouse coordinates from mouse.position(). As for the code that quits the program, you’ll need to catch the KeyboardInterrupt exception, which is raised whenever the user presses CTRL-C. If you don’t handle this exception, it will display an ugly traceback and error message to the user"
   ]
  },
  {
   "cell_type": "code",
   "execution_count": null,
   "metadata": {},
   "outputs": [],
   "source": [
    "import pyautogui as pag\n",
    "\n",
    "print('Press Ctrl-C to quit.')\n",
    "try:\n",
    "    while True:\n",
    "\n",
    "except KeyboardInterrupt:\n",
    "    print('\\nDone.')\n"
   ]
  },
  {
   "cell_type": "markdown",
   "metadata": {},
   "source": [
    "### Step 3: Get and Print the Mouse Coordinates\n",
    "\n",
    "The code inside the while loop should get the current mouse coordinates, format them to look nice, and print them. Add the following code to the inside of the while loop"
   ]
  },
  {
   "cell_type": "code",
   "execution_count": 86,
   "metadata": {},
   "outputs": [
    {
     "name": "stdout",
     "output_type": "stream",
     "text": [
      "Press Ctrl-C to quit.\n",
      "X: 1454 Y:  54 - 0.0 seconds has passed...\n",
      "X: 1454 Y:  54 - 1.0 seconds has passed...\n",
      "X: 1454 Y:  54 - 2.0 seconds has passed...\n",
      "X: 1454 Y:  54 - 3.0 seconds has passed...\n",
      "X: 1454 Y:  54 - 4.0 seconds has passed...\n",
      "X: 1454 Y:  54 - 5.0 seconds has passed...\n",
      "X: 1454 Y:  54 - 6.0 seconds has passed...\n",
      "X: 1454 Y:  54 - 7.0 seconds has passed...\n",
      "X: 1454 Y:  54 - 8.0 seconds has passed...\n",
      "X: 1454 Y:  54 - 9.0 seconds has passed...\n",
      "X: 1454 Y:  54 - 10.0 seconds has passed...\n",
      "Finished\n"
     ]
    }
   ],
   "source": [
    "#! python3\n",
    "# mouseNow.py - Displays the mouse cursor's current position.\n",
    "\n",
    "import pyautogui\n",
    "import time\n",
    "\n",
    "print('Press Ctrl-C to quit.')\n",
    "time_elapsed = 0\n",
    "start_time = time.time()\n",
    "\n",
    "try:\n",
    "    while time_elapsed < 10:\n",
    "        # Get and print the mouse coordinates.\n",
    "        x, y = pyautogui.position()\n",
    "        positionStr = 'X: ' + str(x).rjust(4) + ' Y: ' + str(y).rjust(4) # rjust() = padding\n",
    "        print(positionStr, end='')\n",
    "        # Always pass flush=True to print() calls that print \\b backspace characters. \n",
    "        print('\\b' * len(positionStr), end=' - ', flush=True)\n",
    "        time_elapsed = time.time() - start_time\n",
    "        time.sleep(1)\n",
    "        print('%s seconds has passed...' % (round(time_elapsed,0)))\n",
    "\n",
    "except KeyboardInterrupt:\n",
    "    print('\\nDone.')\n",
    "    \n",
    "print('Finished')\n"
   ]
  },
  {
   "cell_type": "markdown",
   "metadata": {},
   "source": [
    "This actually prints positionStr to the screen. The end='' keyword argument to print() prevents the default newline character from being added to the end of the printed line. It’s possible to erase text you’ve already printed to the screen—but only for the most recent line of text. Once you print a newline character, you can’t erase anything printed before it.\n",
    "\n",
    "To erase text, print the \\b backspace escape character. This special character erases a character at the end of the current line on the screen. The line at ❶ uses string replication to produce a string with as many \\b characters as the length of the string stored in positionStr, which has the effect of erasing the positionStr string that was last printed.\n",
    "\n",
    "For a technical reason beyond the scope of this book, always pass flush=True to print() calls that print \\b backspace characters. Otherwise, the screen might not update the text as desired.\n",
    "\n",
    "Since the while loop repeats so quickly, the user won’t actually notice that you’re deleting and reprinting the whole number on the screen. For example, if the x-coordinate is 563 and the mouse moves one pixel to the right, it will look like only the 3 in 563 is changed to a 4."
   ]
  },
  {
   "cell_type": "markdown",
   "metadata": {},
   "source": [
    "### Controlling Mouse Interaction\n",
    "\n",
    "Now that you know how to move the mouse and figure out where it is on the screen, you’re ready to start clicking, dragging, and scrolling.\n",
    "\n",
    "### Clicking the Mouse\n",
    "\n",
    "To send a virtual mouse click to your computer, call the pyautogui.click() method. By default, this click uses the left mouse button and takes place wherever the mouse cursor is currently located. You can pass x- and y-coordinates of the click as optional first and second arguments if you want it to take place somewhere other than the mouse’s current position.\n",
    "\n",
    "If you want to specify which mouse button to use, include the button keyword argument, with a value of 'left', 'middle', or 'right'. For example, pyautogui.click(100, 150, button='left') will click the left mouse button at the coordinates (100, 150), while pyautogui.click(200, 250, button='right') will perform a right-click at (200, 250)."
   ]
  },
  {
   "cell_type": "code",
   "execution_count": null,
   "metadata": {},
   "outputs": [],
   "source": [
    "import pyautogui as pag\n",
    "\n",
    "# Click check\n",
    "pag.click(10, 5) # pyautogui.click(100, 150, button='left') for left mouse clicks"
   ]
  },
  {
   "cell_type": "code",
   "execution_count": null,
   "metadata": {},
   "outputs": [],
   "source": [
    "import pyautogui as pag\n",
    "\n",
    "# Move 250 to the right and click\n",
    "pag.moveRel(250, 0, duration = 0.1)\n",
    "pag.click()"
   ]
  },
  {
   "cell_type": "markdown",
   "metadata": {},
   "source": [
    "You should see the mouse pointer move to near the top-left corner of your screen and click once. A full “click” is defined as pushing a mouse button down and then releasing it back up without moving the cursor. You can also perform a click by calling pyautogui.mouseDown(), which only pushes the mouse button down, and pyautogui.mouseUp(), which only releases the button. These functions have the same arguments as click(), and in fact, the click() function is just a convenient wrapper around these two function calls.\n",
    "\n",
    "As a further convenience, the pyautogui.doubleClick() function will perform two clicks with the left mouse button, while the pyautogui.rightClick() and pyautogui.middleClick() functions will perform a click with the right and middle mouse buttons, respectively."
   ]
  },
  {
   "cell_type": "markdown",
   "metadata": {},
   "source": [
    "### Dragging the Mouse\n",
    "\n",
    "Dragging means moving the mouse while holding down one of the mouse buttons. For example, you can move files between folders by dragging the folder icons, or you can move appointments around in a calendar app.\n",
    "\n",
    "PyAutoGUI provides the pyautogui.dragTo() and pyautogui.dragRel() functions to drag the mouse cursor to a new location or a location relative to its current one. The arguments for dragTo() and dragRel() are the same as moveTo() and moveRel(): the x-coordinate/horizontal movement, the y-coordinate/vertical movement, and an optional duration of time. (OS X does not drag correctly when the mouse moves too quickly, so passing a duration keyword argument is recommended.)\n",
    "\n",
    "To try these functions, open a graphics-drawing application such as Paint on Windows, Paintbrush on OS X, or GNU Paint on Linux. (If you don’t have a drawing application, you can use the online one at http://sumopaint.com/.) I will use PyAutoGUI to draw in these applications.\n",
    "\n",
    "With the mouse cursor over the drawing application’s canvas and the Pencil or Brush tool selected"
   ]
  },
  {
   "cell_type": "code",
   "execution_count": null,
   "metadata": {},
   "outputs": [],
   "source": [
    "#! python 3\n",
    "# spiralDraw.py\n",
    "\n",
    "import pyautogui as pag\n",
    "import time\n",
    "\n",
    "pag.click()\n",
    "distance = 20\n",
    "while distance > 0:\n",
    "    pag.dragRel(distance, 0, duration = 0.2) # move right\n",
    "    distance = distance - 5\n",
    "    pag.dragRel(-distance, 0, duration = 0.2) # move left\n",
    "    distance = distance - 5\n",
    "    pag.dragRel(0, -distance, duration = 0.2) # move up"
   ]
  },
  {
   "cell_type": "markdown",
   "metadata": {},
   "source": [
    "When you run this program, there will be a five-second delay ❶ for you to move the mouse cursor over the drawing program’s window with the Pencil or Brush tool selected. Then spiralDraw.py will take control of the mouse and click to put the drawing program in focus ❷. A window is in focus when it has an active blinking cursor, and the actions you take—like typing or, in this case, dragging the mouse—will affect that window. Once the drawing program is in focus, spiralDraw.py draws a square spiral pattern "
   ]
  },
  {
   "cell_type": "markdown",
   "metadata": {},
   "source": [
    "The distance variable starts at 200, so on the first iteration of the while loop, the first dragRel() call drags the cursor 200 pixels to the right, taking 0.2 seconds ❸. distance is then decreased to 195 ❹, and the second dragRel() call drags the cursor 195 pixels down ❺. The third dragRel() call drags the cursor –195 horizontally (195 to the left) ❻, distance is decreased to 190, and the last dragRel() call drags the cursor 190 pixels up. On each iteration, the mouse is dragged right, down, left, and up, and distance is slightly smaller than it was in the previous iteration. By looping over this code, you can move the mouse cursor to draw a square spiral.\n",
    "\n",
    "You could draw this spiral by hand (or rather, by mouse), but you’d have to work slowly to be so precise. PyAutoGUI can do it in a few seconds!"
   ]
  },
  {
   "cell_type": "markdown",
   "metadata": {},
   "source": [
    "### Scrolling the Mouse\n",
    "\n",
    "The final PyAutoGUI mouse function is scroll(), which you pass an integer argument for how many units you want to scroll the mouse up or down. The size of a unit varies for each operating system and application, so you’ll have to experiment to see exactly how far it scrolls in your particular situation. The scrolling takes place at the mouse cursor’s current position. Passing a positive integer scrolls up, and passing a negative integer scrolls down."
   ]
  },
  {
   "cell_type": "code",
   "execution_count": null,
   "metadata": {},
   "outputs": [],
   "source": [
    "pyautogui.scroll(200)"
   ]
  },
  {
   "cell_type": "code",
   "execution_count": null,
   "metadata": {},
   "outputs": [],
   "source": [
    "import pyperclip\n",
    "\n",
    "numbers = ''\n",
    "for i in range(200):\n",
    "    numbers = numbers + str(i) + '\\n'"
   ]
  },
  {
   "cell_type": "code",
   "execution_count": null,
   "metadata": {},
   "outputs": [],
   "source": [
    "pyperclip.paste()"
   ]
  },
  {
   "cell_type": "code",
   "execution_count": null,
   "metadata": {},
   "outputs": [],
   "source": [
    "pyperclip.copy(numbers) # Copies numbers 0 - 199 to clipboard"
   ]
  },
  {
   "cell_type": "markdown",
   "metadata": {},
   "source": [
    "This imports pyperclip and sets up an empty string, numbers. The code then loops through 200 numbers and adds each number to numbers, along with a newline. After pyperclip.copy(numbers), the clipboard will be loaded with 200 lines of numbers. Open a new file editor window and paste the text into it. This will give you a large text window to try scrolling in."
   ]
  },
  {
   "cell_type": "code",
   "execution_count": null,
   "metadata": {},
   "outputs": [],
   "source": [
    "import time\n",
    "import pyautogui as pag\n",
    "\n",
    "time.sleep(1)\n",
    "pag.scroll(100)"
   ]
  },
  {
   "cell_type": "markdown",
   "metadata": {},
   "source": [
    "On the second line, you enter two commands separated by a semicolon, which tells Python to run the commands as if they were on separate lines. The only difference is that the interactive shell won’t prompt you for input between the two instructions. This is important for this example because we want to the call to pyautogui.scroll() to happen automatically after the wait. (Note that while putting two commands on one line can be useful in the interactive shell, you should still have each instruction on a separate line in your programs.)\n",
    "\n",
    "After pressing ENTER to run the code, you will have five seconds to click the file editor window to put it in focus. Once the pause is over, the pyautogui.scroll() call will cause the file editor window to scroll up after the five-second delay."
   ]
  },
  {
   "cell_type": "markdown",
   "metadata": {},
   "source": [
    "### Working with the Screen\n",
    "\n",
    "Your GUI automation programs don’t have to click and type blindly. PyAutoGUI has screenshot features that can create an image file based on the current contents of the screen. These functions can also return a Pillow Image object of the current screen’s appearance. If you’ve been skipping around in this book, you’ll want to read Chapter 17 and install the pillow module before continuing with this section.\n",
    "\n",
    "On Linux computers, the scrot program needs to be installed to use the screenshot functions in PyAutoGUI. In a Terminal window, run sudo apt-get install scrot to install this program. If you’re on Windows or OS X, skip this step and continue with the section."
   ]
  },
  {
   "cell_type": "markdown",
   "metadata": {},
   "source": [
    "### Getting a Screenshot\n",
    "\n",
    "To take screenshots in Python, call the pyautogui.screenshot() function. "
   ]
  },
  {
   "cell_type": "code",
   "execution_count": 5,
   "metadata": {},
   "outputs": [
    {
     "name": "stdout",
     "output_type": "stream",
     "text": [
      "(43, 43, 43)\n",
      "(199, 254, 238)\n"
     ]
    }
   ],
   "source": [
    "import pyautogui as pag\n",
    "\n",
    "# Take a screenshot()\n",
    "img = pag.screenshot()\n",
    "\n",
    "# Get pixels (tuple of coordinates) of the image object\n",
    "print(img.getpixel((0, 0)))\n",
    "print(img.getpixel((50, 200)))"
   ]
  },
  {
   "cell_type": "markdown",
   "metadata": {},
   "source": [
    "Pass getpixel() a tuple of coordinates, like (0, 0) or (50, 200), and it’ll tell you the color of the pixel at those coordinates in your image. The return value from getpixel() is an RGB tuple of three integers for the amount of red, green, and blue in the pixel. (There is no fourth value for alpha, because screenshot images are fully opaque.) \n",
    "\n",
    "This is how your programs can “see” what is currently on the screen."
   ]
  },
  {
   "cell_type": "markdown",
   "metadata": {},
   "source": [
    "### Analyzing the Screenshot\n",
    "\n",
    "Say that one of the steps in your GUI automation program is to click a gray button. Before calling the click() method, you could take a screenshot and look at the pixel where the script is about to click. If it’s not the same gray as the gray button, then your program knows something is wrong. Maybe the window moved unexpectedly, or maybe a pop-up dialog has blocked the button. At this point, instead of continuing—and possibly wreaking havoc by clicking the wrong thing—your program can “see” that it isn’t clicking on the right thing and stop itself.\n",
    "\n",
    "PyAutoGUI’s pixelMatchesColor() function will return True if the pixel at the given x- and y-coordinates on the screen matches the given color. The first and second arguments are integers for the x- and y-coordinates, and the third argument is a tuple of three integers for the RGB color the screen pixel must match."
   ]
  },
  {
   "cell_type": "code",
   "execution_count": 6,
   "metadata": {},
   "outputs": [
    {
     "data": {
      "text/plain": [
       "(199, 254, 238)"
      ]
     },
     "execution_count": 6,
     "metadata": {},
     "output_type": "execute_result"
    }
   ],
   "source": [
    "import pyautogui as pag\n",
    "\n",
    "img.getpixel((50, 200))"
   ]
  },
  {
   "cell_type": "code",
   "execution_count": 7,
   "metadata": {},
   "outputs": [
    {
     "data": {
      "text/plain": [
       "False"
      ]
     },
     "execution_count": 7,
     "metadata": {},
     "output_type": "execute_result"
    }
   ],
   "source": [
    "pag.pixelMatchesColor(50, 200, (130, 135, 144))"
   ]
  },
  {
   "cell_type": "code",
   "execution_count": 8,
   "metadata": {},
   "outputs": [
    {
     "data": {
      "text/plain": [
       "False"
      ]
     },
     "execution_count": 8,
     "metadata": {},
     "output_type": "execute_result"
    }
   ],
   "source": [
    "pag.pixelMatchesColor(50, 200, (255, 135, 144))"
   ]
  },
  {
   "cell_type": "code",
   "execution_count": 9,
   "metadata": {},
   "outputs": [
    {
     "data": {
      "text/plain": [
       "False"
      ]
     },
     "execution_count": 9,
     "metadata": {},
     "output_type": "execute_result"
    }
   ],
   "source": [
    "import pyautogui as pag\n",
    "\n",
    "img.getpixel((50, 200))\n",
    "\n",
    "# Check\n",
    "pag.pixelMatchesColor(50, 200, (130, 135, 144))\n",
    "pag.pixelMatchesColor(50, 200, (255, 135, 144))"
   ]
  },
  {
   "cell_type": "markdown",
   "metadata": {},
   "source": [
    "After taking a screenshot and using getpixel() to get an RGB tuple for the color of a pixel at specific coordinates ❶, pass the same coordinates and RGB tuple to pixelMatchesColor() ❷, which should return True. Then change a value in the RGB tuple and call pixelMatchesColor() again for the same coordinates ❸. This should return false. This method can be useful to call whenever your GUI automation programs are about to call click(). Note that the color at the given coordinates must exactly match. If it is even slightly different—for example, (255, 255, 254) instead of (255, 255, 255)—then pixelMatchesColor() will return False."
   ]
  },
  {
   "cell_type": "markdown",
   "metadata": {},
   "source": [
    "### Project: Extending the mouseNow Program\n",
    "\n",
    "You could extend the mouseNow.py project from earlier in this chapter so that it not only gives the x- and y-coordinates of the mouse cursor’s current position but also gives the RGB color of the pixel under the cursor. "
   ]
  },
  {
   "cell_type": "code",
   "execution_count": null,
   "metadata": {},
   "outputs": [],
   "source": [
    "#! python3\n",
    "# mouseNow.py - Displays the mouse cursor's current position\n",
    "\n",
    "    # Print out X and Y coordinates\n",
    "    positionStr = 'X: ' + str(x).rjust(4) + ' Y: ' + str(y).rjust(4)\n",
    "\n",
    "    # Get screenshot coordinates\n",
    "    pixelColor = pag.screenshot().getpixel((x, y))\n",
    "    positionStr += ' RGB: (' + str(pixelColor[0]).rjust(3)\n",
    "    positionStr += ', ' + str(pixelColor[1]).rjust(3)\n",
    "    positionStr += ', ' + str(pixelColor[2]).rjust(3) + ')'\n",
    "    print(positionStr, end='')\n",
    "\n",
    "# Results will show something like this below\n",
    "# X:  406 Y:   17 RGB: (161, 50, 50)"
   ]
  },
  {
   "cell_type": "markdown",
   "metadata": {},
   "source": [
    "This information, along with the pixelMatchesColor() function, should make it easy to add pixel color checks to your GUI automation scripts."
   ]
  },
  {
   "cell_type": "markdown",
   "metadata": {},
   "source": [
    "### Image Recognition\n",
    "But what if you do not know beforehand where PyAutoGUI should click? You can use image recognition instead. Give PyAutoGUI an image of what you want to click and let it figure out the coordinates.\n",
    "\n",
    "For example, if you have previously taken a screenshot to capture the image of a Submit button in submit.png, the locateOnScreen() function will return the coordinates where that image is found. To see how locateOnScreen() works, try taking a screenshot of a small area on your screen; then save the image and enter the following into the interactive shell, replacing 'submit. png' with the filename of your screenshot:"
   ]
  },
  {
   "cell_type": "code",
   "execution_count": 26,
   "metadata": {},
   "outputs": [],
   "source": [
    "# Set wd\n",
    "import os\n",
    "os.chdir('C:\\\\Users\\\\' + os.getlogin() + '\\\\Documents\\\\Programming\\\\Python\\\\Automate_The_Boring_Stuff\\\\Projects\\\\Chapter 18')"
   ]
  },
  {
   "cell_type": "code",
   "execution_count": 27,
   "metadata": {},
   "outputs": [],
   "source": [
    "# Get screenshot\n",
    "import pyautogui as pag\n",
    "import time\n",
    "\n",
    "time.sleep(3)\n",
    "ss = pag.screenshot()"
   ]
  },
  {
   "cell_type": "code",
   "execution_count": 29,
   "metadata": {},
   "outputs": [
    {
     "data": {
      "text/plain": [
       "(223, 182, 104)"
      ]
     },
     "execution_count": 29,
     "metadata": {},
     "output_type": "execute_result"
    }
   ],
   "source": [
    "# Analyze the ss\n",
    "ss.getpixel((50, 200))"
   ]
  },
  {
   "cell_type": "code",
   "execution_count": 30,
   "metadata": {},
   "outputs": [
    {
     "data": {
      "text/plain": [
       "False"
      ]
     },
     "execution_count": 30,
     "metadata": {},
     "output_type": "execute_result"
    }
   ],
   "source": [
    "pag.pixelMatchesColor(50, 200, (130, 135, 144))"
   ]
  },
  {
   "cell_type": "code",
   "execution_count": 28,
   "metadata": {},
   "outputs": [],
   "source": [
    "ss.save('screenshot.png')"
   ]
  },
  {
   "cell_type": "code",
   "execution_count": 31,
   "metadata": {},
   "outputs": [
    {
     "name": "stdout",
     "output_type": "stream",
     "text": [
      "None\n"
     ]
    }
   ],
   "source": [
    "print(pag.locateOnScreen('screenshot.png', grayscale=True))"
   ]
  },
  {
   "cell_type": "markdown",
   "metadata": {},
   "source": [
    "If the image cannot be found on the screen, locateOnScreen() will return None. Note that the image on the screen must match the provided image perfectly in order to be recognized. If the image is even a pixel off, locateOnScreen() will return None.\n",
    "\n",
    "If the image can be found in several places on the screen, locateAllOnScreen() will return a Generator object, which can be passed to list() to return a list of four-integer tuples. There will be one four-integer tuple for each location where the image is found on the screen. Continue the interactive shell example by entering the following (and replacing 'submit.png' with your own image filename)"
   ]
  },
  {
   "cell_type": "markdown",
   "metadata": {},
   "source": [
    "The four-integer tuple that locateOnScreen() returns has the x-coordinate of the left edge, the y-coordinate of the top edge, the width, and the height for the first place on the screen the image was found. If you’re trying this on your computer with your own screenshot, your return value will be different from the one shown here.\n",
    "\n",
    "If the image cannot be found on the screen, locateOnScreen() will return None. Note that the image on the screen must match the provided image perfectly in order to be recognized. If the image is even a pixel off, locateOnScreen() will return None.\n",
    "\n",
    "If the image can be found in several places on the screen, locateAllOnScreen() will return a Generator object, which can be passed to list() to return a list of four-integer tuples. There will be one four-integer tuple for each location where the image is found on the screen. Continue the interactive shell example by entering the following (and replacing 'submit.png' with your own image filename):"
   ]
  },
  {
   "cell_type": "code",
   "execution_count": 33,
   "metadata": {},
   "outputs": [
    {
     "data": {
      "text/plain": [
       "[]"
      ]
     },
     "execution_count": 33,
     "metadata": {},
     "output_type": "execute_result"
    }
   ],
   "source": [
    "list(pag.locateAllOnScreen('screenshot.png'))"
   ]
  },
  {
   "cell_type": "markdown",
   "metadata": {},
   "source": [
    "### Controlling the Keyboard\n",
    "PyAutoGUI also has functions for sending virtual keypresses to your computer, which enables you to fill out forms or enter text into applications.\n",
    "\n",
    "### Sending a String from the Keyboard\n",
    "The pyautogui.typewrite() function sends virtual keypresses to the computer. What these keypresses do depends on what window and text field have focus. You may want to first send a mouse click to the text field you want in order to ensure that it has focus.\n",
    "\n",
    "As a simple example, let’s use Python to automatically type the words Hello world! into a file editor window. First, open a new file editor window and position it in the upper-left corner of your screen so that PyAutoGUI will click in the right place to bring it into focus. "
   ]
  },
  {
   "cell_type": "code",
   "execution_count": 40,
   "metadata": {},
   "outputs": [],
   "source": [
    "pag.click(100, 100) # click coordinates (100, 100)"
   ]
  },
  {
   "cell_type": "code",
   "execution_count": 35,
   "metadata": {},
   "outputs": [],
   "source": [
    "pag.typewrite('Hello World!', 0.10) # auto type this text"
   ]
  },
  {
   "cell_type": "code",
   "execution_count": 39,
   "metadata": {},
   "outputs": [
    {
     "name": "stdout",
     "output_type": "stream",
     "text": [
      "Hello World!\n"
     ]
    }
   ],
   "source": [
    "print('Hello World!')"
   ]
  },
  {
   "cell_type": "markdown",
   "metadata": {},
   "source": [
    "Notice how placing two commands on the same line, separated by a semicolon, keeps the interactive shell from prompting you for input between running the two instructions. This prevents you from accidentally bringing a new window into focus between the click() and typewrite() calls, which would mess up the example.\n",
    "\n",
    "Python will first send a virtual mouse click to the coordinates (100, 100), which should click the file editor window and put it in focus. The typewrite() call will send the text Hello world! to the window"
   ]
  },
  {
   "cell_type": "markdown",
   "metadata": {},
   "source": [
    "By default, the typewrite() function will type the full string instantly. However, you can pass an optional second argument to add a short pause between each character. This second argument is an integer or float value of the number of seconds to pause. For example, pyautogui.typewrite('Hello world!', 0.25) will wait a quarter-second after typing H, another quarter-second after e, and so on. This gradual typewriter effect may be useful for slower applications that can’t process keystrokes fast enough to keep up with PyAutoGUI.\n",
    "\n",
    "For characters such as A or !, PyAutoGUI will automatically simulate holding down the SHIFT key as well."
   ]
  },
  {
   "cell_type": "markdown",
   "metadata": {},
   "source": [
    "### Key Names\n",
    "Not all keys are easy to represent with single text characters. For example, how do you represent SHIFT or the left arrow key as a single character? In PyAutoGUI, these keyboard keys are represented by short string values instead: 'esc' for the ESC key or 'enter' for the ENTER key.\n",
    "\n",
    "Instead of a single string argument, a list of these keyboard key strings can be passed to typewrite(). For example, the following call presses the A key, then the B key, then the left arrow key twice, and finally the X and Y keys:"
   ]
  },
  {
   "cell_type": "code",
   "execution_count": 44,
   "metadata": {},
   "outputs": [],
   "source": [
    "pag.typewrite(['print(', 'a', 'b', 'left', 'left', 'X', 'Y', ')'])"
   ]
  },
  {
   "cell_type": "code",
   "execution_count": 45,
   "metadata": {},
   "outputs": [
    {
     "name": "stdout",
     "output_type": "stream",
     "text": [
      "XY)AB\n"
     ]
    }
   ],
   "source": [
    "print('XY)AB')"
   ]
  },
  {
   "cell_type": "code",
   "execution_count": 53,
   "metadata": {},
   "outputs": [],
   "source": [
    "pag.typewrite(['p', 'r', 'i', 'n', 't', '(', '\\'', 'a', 'b', '', '', 'X', 'Y', '\\'', ')'])"
   ]
  },
  {
   "cell_type": "code",
   "execution_count": 54,
   "metadata": {},
   "outputs": [
    {
     "name": "stdout",
     "output_type": "stream",
     "text": [
      "abXY\n"
     ]
    }
   ],
   "source": [
    "print('abXY')"
   ]
  },
  {
   "cell_type": "markdown",
   "metadata": {},
   "source": [
    "Because pressing the left arrow key moves the keyboard cursor, this will output XYab. Table 18-1 lists the PyAutoGUI keyboard key strings that you can pass to typewrite() to simulate pressing any combination of keys.\n",
    "\n",
    "You can also examine the pyautogui.KEYBOARD_KEYS list to see all possible keyboard key strings that PyAutoGUI will accept. The 'shift' string refers to the left SHIFT key and is equivalent to 'shiftleft'. The same applies for 'ctrl', 'alt', and 'win' strings; they all refer to the left-side key."
   ]
  },
  {
   "cell_type": "markdown",
   "metadata": {},
   "source": [
    "### Pressing and Releasing the Keyboard\n",
    "Much like the mouseDown() and mouseUp() functions, pyautogui.keyDown() and pyautogui.keyUp() will send virtual keypresses and releases to the computer. They are passed a keyboard key string (see Table 18-1) for their argument. For convenience, PyAutoGUI provides the pyautogui.press() function, which calls both of these functions to simulate a complete keypress.\n",
    "\n",
    "Run the following code, which will type a dollar sign character (obtained by holding the SHIFT key and pressing 4):"
   ]
  },
  {
   "cell_type": "code",
   "execution_count": 55,
   "metadata": {},
   "outputs": [],
   "source": [
    "pag.keyDown('shift')\n",
    "pag.press('4')\n",
    "pag.keyUp('shift')"
   ]
  },
  {
   "cell_type": "code",
   "execution_count": 56,
   "metadata": {},
   "outputs": [
    {
     "name": "stdout",
     "output_type": "stream",
     "text": [
      "$\n"
     ]
    }
   ],
   "source": [
    "print('$')"
   ]
  },
  {
   "cell_type": "markdown",
   "metadata": {},
   "source": [
    "This line presses down SHIFT, presses (and releases) 4, and then releases SHIFT. If you need to type a string into a text field, the typewrite() function is more suitable. But for applications that take single-key commands, the press() function is the simpler approach."
   ]
  },
  {
   "cell_type": "markdown",
   "metadata": {},
   "source": [
    "### Hotkey Combinations\n",
    "A hotkey or shortcut is a combination of keypresses to invoke some application function. The common hotkey for copying a selection is CTRL-C (on Windows and Linux) or ⌘-C (on OS X). The user presses and holds the CTRL key, then presses the C key, and then releases the C and CTRL keys. To do this with PyAutoGUI’s keyDown() and keyUp() functions, you would have to enter the following:"
   ]
  },
  {
   "cell_type": "code",
   "execution_count": 57,
   "metadata": {},
   "outputs": [],
   "source": [
    "pag.keyDown('ctrl')\n",
    "pag.keyDown('c')\n",
    "pag.keyUp('c')\n",
    "pag.keyUp('ctrl')"
   ]
  },
  {
   "cell_type": "markdown",
   "metadata": {},
   "source": [
    "This is rather complicated. Instead, use the pyautogui.hotkey() function, which takes multiple keyboard key string arguments, presses them in order, and releases them in the reverse order. For the CTRL-C example, the code would simply be as follows:"
   ]
  },
  {
   "cell_type": "code",
   "execution_count": 58,
   "metadata": {},
   "outputs": [],
   "source": [
    "# Use hotkey() instead of multiple keyDown and keyUp functions\n",
    "pag.hotkey('ctrl', 'c')"
   ]
  },
  {
   "cell_type": "markdown",
   "metadata": {},
   "source": [
    "This function is especially useful for larger hotkey combinations. In Word, the CTRL-ALT-SHIFT-S hotkey combination displays the Style pane. Instead of making eight different function calls (four keyDown() calls and four keyUp() calls), you can just call hotkey('ctrl', 'alt', 'shift', 's').\n",
    "\n",
    "With a new IDLE file editor window in the upper-left corner of your screen, enter the following into the interactive shell (in OS X, replace 'alt' with 'ctrl'):"
   ]
  },
  {
   "cell_type": "code",
   "execution_count": 59,
   "metadata": {},
   "outputs": [],
   "source": [
    "import pyautogui as pag\n",
    "import time\n",
    "\n",
    "# Create a function called commentAfterDelay() and click the file editor window\n",
    "def commentAfterDelay():\n",
    "    pag.click(100, 100)\n",
    "    pag.typewrite('In IDLE, Alt-3 comments out a line.')\n",
    "    time.sleep(2)\n",
    "    pag.hotkey('alt', '3')"
   ]
  },
  {
   "cell_type": "code",
   "execution_count": 62,
   "metadata": {},
   "outputs": [],
   "source": [
    "# Open up a notepad where (100, 100) coordinates are and it will typewrite the text\n",
    "commentAfterDelay()"
   ]
  },
  {
   "cell_type": "markdown",
   "metadata": {},
   "source": [
    "This defines a function commentAfterDelay() that, when called, will click the file editor window to bring it into focus ❶, type In IDLE, Atl-3 comments out a line ❷, pause for 2 seconds, and then simulate pressing the ALT-3 hotkey (or CTRL-3 on OS X) ❸. This keyboard shortcut adds two # characters to the current line, commenting it out. (This is a useful trick to know when writing your own code in IDLE.)"
   ]
  },
  {
   "cell_type": "markdown",
   "metadata": {},
   "source": [
    "### Review of the PyAutoGUI Functions\n",
    "Since this chapter covered many different functions, here is a quick summary reference:\n",
    "\n",
    "moveTo(x, y). Moves the mouse cursor to the given x and y coordinates.\n",
    "\n",
    "moveRel(xOffset, yOffset). Moves the mouse cursor relative to its current position.\n",
    "\n",
    "dragTo(x, y). Moves the mouse cursor while the left button is held down.\n",
    "\n",
    "dragRel(xOffset, yOffset). Moves the mouse cursor relative to its current position while the left button is held down.\n",
    "\n",
    "click(x, y, button). Simulates a click (left button by default).\n",
    "\n",
    "rightClick(). Simulates a right-button click.\n",
    "\n",
    "middleClick(). Simulates a middle-button click.\n",
    "\n",
    "doubleClick(). Simulates a double left-button click.\n",
    "\n",
    "mouseDown(x, y, button). Simulates pressing down the given button at the position x, y.\n",
    "\n",
    "mouseUp(x, y, button). Simulates releasing the given button at the position x, y.\n",
    "\n",
    "scroll(units). Simulates the scroll wheel. A positive argument scrolls up; a negative argument scrolls down.\n",
    "\n",
    "typewrite(message). Types the characters in the given message string.\n",
    "\n",
    "typewrite([key1, key2, key3]). Types the given keyboard key strings.\n",
    "\n",
    "press(key). Presses the given keyboard key string.\n",
    "\n",
    "keyDown(key). Simulates pressing down the given keyboard key.\n",
    "\n",
    "keyUp(key). Simulates releasing the given keyboard key.\n",
    "\n",
    "hotkey([key1, key2, key3]). Simulates pressing the given keyboard key strings down in order and then releasing them in reverse order.\n",
    "\n",
    "screenshot(). Returns a screenshot as an Image object. (See Chapter 17 for information on Image objects.)"
   ]
  },
  {
   "cell_type": "markdown",
   "metadata": {},
   "source": [
    "### Project: Automatic Form Filler\n",
    "Of all the boring tasks, filling out forms is the most dreaded of chores. It’s only fitting that now, in the final chapter project, you will slay it. Say you have a huge amount of data in a spreadsheet, and you have to tediously retype it into some other application’s form interface—with no intern to do it for you. Although some applications will have an Import feature that will allow you to upload a spreadsheet with the information, sometimes it seems that there is no other way than mindlessly clicking and typing for hours on end. You’ve come this far in this book; you know that of course there’s another way."
   ]
  },
  {
   "cell_type": "markdown",
   "metadata": {},
   "source": [
    "At a high level, here’s what your program should do:\n",
    "\n",
    "    Click the first text field of the form.\n",
    "\n",
    "    Move through the form, typing information into each field.\n",
    "\n",
    "    Click the Submit button.\n",
    "\n",
    "    Repeat the process with the next set of data.\n",
    "\n",
    "This means your code will need to do the following:\n",
    "\n",
    "    Call pyautogui.click() to click the form and Submit button.\n",
    "\n",
    "    Call pyautogui.typewrite() to enter text into the fields.\n",
    "\n",
    "    Handle the KeyboardInterrupt exception so the user can press CTRL-C to quit.\n",
    "\n",
    "    Open a new file editor window and save it as formFiller.py."
   ]
  },
  {
   "cell_type": "markdown",
   "metadata": {},
   "source": [
    "### Step 1: Figure Out the Steps\n",
    "Before writing code, you need to figure out the exact keystrokes and mouse clicks that will fill out the form once. The mouseNow.py script in Project: “Where Is the Mouse Right Now?” can help you figure out specific mouse coordinates. You need to know only the coordinates of the first text field. After clicking the first field, you can just press TAB to move focus to the next field. This will save you from having to figure out the x- and y-coordinates to click for every field.\n",
    "\n",
    "Here are the steps for entering data into the form:\n",
    "\n",
    "    Click the Name field. (Use mouseNow.py to determine the coordinates after maximizing the browser window. On OS X, you may need to click twice: once to put the browser in focus and again to click the Name field.)\n",
    "\n",
    "    Type a name and then press TAB.\n",
    "\n",
    "    Type a greatest fear and then press TAB.\n",
    "\n",
    "    Press the down arrow key the correct number of times to select the wizard power source: once for wand, twice for amulet, three times for crystal ball, and four times for money. Then press TAB. (Note that on OS X, you will have to press the down arrow key one more time for each option. For some browsers, you may need to press the ENTER key as well.)\n",
    "\n",
    "    Press the right arrow key to select the answer to the Robocop question. Press it once for 2, twice for 3, three times for 4, or four times for 5; or just press the spacebar to select 1 (which is highlighted by default). Then press TAB.\n",
    "\n",
    "    Type an additional comment and then press TAB.\n",
    "\n",
    "    Press the ENTER key to “click” the Submit button.\n",
    "\n",
    "    After submitting the form, the browser will take you to a page where you will need to click a link to return to the form page.\n",
    "\n",
    "    Note that if you run this program again later, you may have to update the mouse click coordinates, since the browser window might have changed position. To work around this, always make sure the browser window is maximized before finding the coordinates of the first form field. Also, different browsers on different operating systems might work slightly differently from the steps given here, so check that these keystroke combinations work for your computer before running your program."
   ]
  },
  {
   "cell_type": "markdown",
   "metadata": {},
   "source": [
    "### Step 2: Set Up Coordinates\n",
    "Load the example form you downloaded (Figure 18-4) in a browser and maximize your browser window. Open a new Terminal or command line window to run the mouseNow.py script, and then mouse over the Name field to figure out its the x- and y-coordinates. These numbers will be assigned to the nameField variable in your program. Also, find out the x- and y-coordinates and RGB tuple value of the blue Submit button. These values will be assigned to the submitButton and submitButtonColor variables, respectively.\n",
    "\n",
    "Next, fill in some dummy data for the form and click Submit. You need to see what the next page looks like so that you can use mouseNow.py to find the coordinates of the Submit another response link on this new page.\n",
    "\n",
    "Make your source code look like the following, being sure to replace all the values in italics with the coordinates you determined from your own tests:"
   ]
  },
  {
   "cell_type": "code",
   "execution_count": null,
   "metadata": {},
   "outputs": [],
   "source": [
    "#! python3\n",
    "# formFiller.py - Automatically fills in the form\n",
    "\n",
    "import pyautogui as pag\n",
    "import time\n",
    "\n",
    "# Use locateonscreen() to get coordinates (sample below)\n",
    "'''\n",
    "applynow = pyautogui.locateOnScreen(\"applynow.png\")\n",
    "confirmyourapplication = pyautogui.locateOnScreen(\"confirmyourapplication.png\")\n",
    "confirmonnextpage = pyautogui.locateOnScreen(\"confirmonnextpage.png\")\n",
    "howmanyyears = pyautogui.locateOnScreen(\"howmanyyears.png\")\n",
    "apply = pyautogui.locateOnScreen(\"apply.png\")\n",
    "'''\n",
    "\n",
    "# Set these to the correct coordinates\n",
    "nameField = (648, 319)\n",
    "submitButton = (651, 817)\n",
    "submitButtonColor = (75, 141, 249)\n",
    "submitAnotherLink = (760, 224)\n",
    "\n",
    "# TODO: Give the user a chance to kill the script.\n",
    "\n",
    "# TODO: Wait until the form page has loaded.\n",
    "\n",
    "# TODO: Fill out the Name Field.\n",
    "\n",
    "# TODO: Fill out the Greatest Fear(s) field.\n",
    "\n",
    "# TODO: Fill out the Source of Wizard Powers field.\n",
    "\n",
    "# TODO: Fill out the Robocop field.\n",
    "\n",
    "# TODO: Fill out the Additional Comments field.\n",
    "\n",
    "# TODO: Click Submit.\n",
    "\n",
    "# TODO: Wait until form page has loaded.\n",
    "\n",
    "# TODO: Click the Submit another response link."
   ]
  },
  {
   "cell_type": "code",
   "execution_count": 64,
   "metadata": {},
   "outputs": [],
   "source": [
    "formData = [{'name': 'Alice', 'fear': 'eavesdroppers', 'source': 'wand',\n",
    "            'robocop': 4, 'comments': 'Tell Bob I said hi.'},\n",
    "            {'name': 'Bob', 'fear': 'bees', 'source': 'amulet', 'robocop': 4,\n",
    "            'comments': 'n/a'},\n",
    "            {'name': 'Carol', 'fear': 'puppets', 'source': 'crystal ball',\n",
    "            'robocop': 1, 'comments': 'Please take the puppets out of the break room.'},\n",
    "            {'name': 'Alex Murphy', 'fear': 'ED-209', 'source': 'money',\n",
    "            'robocop': 5, 'comments': 'Protect the innocent. Serve the public trust. Uphold the law.'},]"
   ]
  },
  {
   "cell_type": "code",
   "execution_count": 65,
   "metadata": {},
   "outputs": [
    {
     "data": {
      "text/plain": [
       "[{'name': 'Alice',\n",
       "  'fear': 'eavesdroppers',\n",
       "  'source': 'wand',\n",
       "  'robocop': 4,\n",
       "  'comments': 'Tell Bob I said hi.'},\n",
       " {'name': 'Bob',\n",
       "  'fear': 'bees',\n",
       "  'source': 'amulet',\n",
       "  'robocop': 4,\n",
       "  'comments': 'n/a'},\n",
       " {'name': 'Carol',\n",
       "  'fear': 'puppets',\n",
       "  'source': 'crystal ball',\n",
       "  'robocop': 1,\n",
       "  'comments': 'Please take the puppets out of the break room.'},\n",
       " {'name': 'Alex Murphy',\n",
       "  'fear': 'ED-209',\n",
       "  'source': 'money',\n",
       "  'robocop': 5,\n",
       "  'comments': 'Protect the innocent. Serve the public trust. Uphold the law.'}]"
      ]
     },
     "execution_count": 65,
     "metadata": {},
     "output_type": "execute_result"
    }
   ],
   "source": [
    "formData"
   ]
  },
  {
   "cell_type": "markdown",
   "metadata": {},
   "source": [
    "The formData list contains four dictionaries for four different names. Each dictionary has names of text fields as keys and responses as values. The last bit of setup is to set PyAutoGUI’s PAUSE variable to wait half a second after each function call. Add the following to your program after the formData assignment statement:"
   ]
  },
  {
   "cell_type": "markdown",
   "metadata": {},
   "source": [
    "### Step 3: Start Typing Data\n",
    "A for loop will iterate over each of the dictionaries in the formData list, passing the values in the dictionary to the PyAutoGUI functions that will virtually type in the text fields."
   ]
  },
  {
   "cell_type": "code",
   "execution_count": 67,
   "metadata": {},
   "outputs": [
    {
     "data": {
      "text/plain": [
       "\"\\nfor person in formData:\\n    # Give the user a chance to kill the script\\n    print('>>> 5 second pause to let user press Ctrl-C <<<')\\n    time.sleep(5)\\n    \\n    # Wait until the form page has loaded\\n    while not pag.pixelMatchesColor(submitbutton[0], submitButton[1], submitButtonColor):\\n        time.sleep(0.5)\\n        \\n    print('Entering %s info...' % (person['name']))\\n    pag.click(nameField[0], nameField[1])\\n    \\n    # Fill out the Name Field\\n    pag.typewrite(person['name'] + '\\t')\\n    \\n    # Fill out the Greatest Fear(s) Field\\n    pag.typewrite(person['fear'] + '\\t')\\n\""
      ]
     },
     "execution_count": 67,
     "metadata": {},
     "output_type": "execute_result"
    }
   ],
   "source": [
    "'''\n",
    "for person in formData:\n",
    "    # Give the user a chance to kill the script\n",
    "    print('>>> 5 second pause to let user press Ctrl-C <<<')\n",
    "    time.sleep(5)\n",
    "    \n",
    "    # Wait until the form page has loaded\n",
    "    while not pag.pixelMatchesColor(submitbutton[0], submitButton[1], submitButtonColor):\n",
    "        time.sleep(0.5)\n",
    "        \n",
    "    print('Entering %s info...' % (person['name']))\n",
    "    pag.click(nameField[0], nameField[1])\n",
    "    \n",
    "    # Fill out the Name Field\n",
    "    pag.typewrite(person['name'] + '\\t')\n",
    "    \n",
    "    # Fill out the Greatest Fear(s) Field\n",
    "    pag.typewrite(person['fear'] + '\\t')\n",
    "'''"
   ]
  },
  {
   "cell_type": "markdown",
   "metadata": {},
   "source": [
    "As a small safety feature, the script has a five-second pause ❶ that gives the user a chance to hit CTRL-C (or move the mouse cursor to the upper-left corner of the screen to raise the FailSafeException exception) to shut the program down in case it’s doing something unexpected. Then the program waits until the Submit button’s color is visible ❷, letting the program know that the form page has loaded. Remember that you figured out the coordinate and color information in step 2 and stored it in the submitButton and submitButtonColor variables. To use pixelMatchesColor(), you pass the coordinates submitButton[0] and submitButton[1], and the color submitButtonColor."
   ]
  },
  {
   "cell_type": "markdown",
   "metadata": {},
   "source": [
    "We add an occasional print() call to display the program’s status in its Terminal window to let the user know what’s going on ❶.\n",
    "\n",
    "Since the program knows that the form is loaded, it’s time to call click() to click the Name field ❷ and typewrite() to enter the string in person['name'] ❸. The '\\t' character is added to the end of the string passed to typewrite() to simulate pressing TAB, which moves the keyboard focus to the next field, Greatest Fear(s). Another call to typewrite() will type the string in person['fear'] into this field and then tab to the next field in the form ❹."
   ]
  },
  {
   "cell_type": "markdown",
   "metadata": {},
   "source": [
    "### Step 4: Handle Select Lists and Radio Buttons\n",
    "The drop-down menu for the “wizard powers” question and the radio buttons for the Robocop field are trickier to handle than the text fields. To click these options with the mouse, you would have to figure out the x- and y-coordinates of each possible option. It’s easier to use the keyboard arrow keys to make a selection instead."
   ]
  },
  {
   "cell_type": "code",
   "execution_count": 68,
   "metadata": {},
   "outputs": [
    {
     "data": {
      "text/plain": [
       "\"\\nfor person in formData:\\n    # Give the user a chance to kill the script\\n    print('>>> 5 second pause to let user press Ctrl-C <<<')\\n    time.sleep(5)\\n    \\n    # Wait until the form page has loaded\\n    while not pag.pixelMatchesColor(submitbutton[0], submitButton[1], submitButtonColor):\\n        time.sleep(0.5)\\n        \\n    print('Entering %s info...' % (person['name']))\\n    pag.click(nameField[0], nameField[1])\\n    \\n    # Fill out the Name Field\\n    pag.typewrite(person['name'] + '\\t')\\n    \\n    # Fill out the Greatest Fear(s) Field\\n    pag.typewrite(person['fear'] + '\\t')\\n    \\n    # Fill out the Source of the Wizard Powers field\\n    if person['source'] == 'want':\\n        pag.typewrite(['down', '\\t'])\\n    elif person['source'] == 'amulet':\\n        pag.typewrite(['down', 'down', 'up', '\\t'])\\n    \\n    # Fill out the robocop field\\n    if person['robocop'] == 1:\\n        pag.typewrite(' ', '\\t')\\n    elif person['robocop'] == 2:\\n        pag.typewrite('right', '\\t')\\n    elif person['robocop'] == 5:\\n        pag.typewrite(['right', 'right', 'right', '\\t'])\\n        \\n\""
      ]
     },
     "execution_count": 68,
     "metadata": {},
     "output_type": "execute_result"
    }
   ],
   "source": [
    "'''\n",
    "for person in formData:\n",
    "    # Give the user a chance to kill the script\n",
    "    print('>>> 5 second pause to let user press Ctrl-C <<<')\n",
    "    time.sleep(5)\n",
    "    \n",
    "    # Wait until the form page has loaded\n",
    "    while not pag.pixelMatchesColor(submitbutton[0], submitButton[1], submitButtonColor):\n",
    "        time.sleep(0.5)\n",
    "        \n",
    "    print('Entering %s info...' % (person['name']))\n",
    "    pag.click(nameField[0], nameField[1])\n",
    "    \n",
    "    # Fill out the Name Field\n",
    "    pag.typewrite(person['name'] + '\\t')\n",
    "    \n",
    "    # Fill out the Greatest Fear(s) Field\n",
    "    pag.typewrite(person['fear'] + '\\t')\n",
    "    \n",
    "    # Fill out the Source of the Wizard Powers field\n",
    "    if person['source'] == 'want':\n",
    "        pag.typewrite(['down', '\\t'])\n",
    "    elif person['source'] == 'amulet':\n",
    "        pag.typewrite(['down', 'down', 'up', '\\t'])\n",
    "    \n",
    "    # Fill out the robocop field\n",
    "    if person['robocop'] == 1:\n",
    "        pag.typewrite(' ', '\\t')\n",
    "    elif person['robocop'] == 2:\n",
    "        pag.typewrite('right', '\\t')\n",
    "    elif person['robocop'] == 5:\n",
    "        pag.typewrite(['right', 'right', 'right', '\\t'])\n",
    "        \n",
    "'''"
   ]
  },
  {
   "cell_type": "markdown",
   "metadata": {},
   "source": [
    "Once the drop-down menu has focus (remember that you wrote code to simulate pressing TAB after filling out the Greatest Fear(s) field), pressing the down arrow key will move to the next item in the selection list. Depending on the value in person['source'], your program should send a number of down arrow keypresses before tabbing to the next field. If the value at the 'source' key in this user’s dictionary is 'wand' ❶, we simulate pressing the down arrow key once (to select Wand) and pressing TAB ❷. If the value at the 'source' key is 'amulet', we simulate pressing the down arrow key twice and pressing TAB, and so on for the other possible answers.\n",
    "\n",
    "The radio buttons for the Robocop question can be selected with the right arrow keys—or, if you want to select the first choice ❸, by just pressing the spacebar ❹."
   ]
  },
  {
   "cell_type": "markdown",
   "metadata": {},
   "source": [
    "### Step 5: Submit the Form and Wait\n",
    "You can fill out the Additional Comments field with the typewrite() function by passing person['comments'] as an argument. You can type an additional '\\t' to move the keyboard focus to the next field or the Submit button. Once the Submit button is in focus, calling pyautogui.press('enter') will simulate pressing the ENTER key and submit the form. After submitting the form, your program will wait five seconds for the next page to load.\n",
    "\n",
    "Once the new page has loaded, it will have a Submit another response link that will direct the browser to a new, empty form page. You stored the coordinates of this link as a tuple in submitAnotherLink in step 2, so pass these coordinates to pyautogui.click() to click this link.\n",
    "\n",
    "With the new form ready to go, the script’s outer for loop can continue to the next iteration and enter the next person’s information into the form."
   ]
  },
  {
   "cell_type": "code",
   "execution_count": 71,
   "metadata": {},
   "outputs": [
    {
     "data": {
      "text/plain": [
       "\"\\nimport pyautogui as pag\\nimport time\\n\\n# Set these to the correct coordinates for your computer.\\nnameField = (648, 319)\\nsubmitButton = (651, 817)\\nsubmitButtonColor = (75, 141, 249)\\nsubmitAnotherLink = (760, 224)\\n\\nformData = [{'name': 'Alice', 'fear': 'eavesdroppers', 'source': 'wand',\\n            'robocop': 4, 'comments': 'Tell Bob I said hi.'},\\n            {'name': 'Bob', 'fear': 'bees', 'source': 'amulet', 'robocop': 4,\\n            'comments': 'n/a'},\\n            {'name': 'Carol', 'fear': 'puppets', 'source': 'crystal ball',\\n            'robocop': 1, 'comments': 'Please take the puppets out of the break room.'},\\n            {'name': 'Alex Murphy', 'fear': 'ED-209', 'source': 'money',\\n            'robocop': 5, 'comments': 'Protect the innocent. Serve the public trust. Uphold the law.'},]\\n            \\nfor person in formData:\\n    # Give the user a chance to kill the script\\n    print('>>> 5 second pause to let user press Ctrl-C <<<')\\n    time.sleep(5)\\n    \\n    # Wait until the form page has loaded\\n    while not pag.pixelMatchesColor(submitbutton[0], submitButton[1], submitButtonColor):\\n        time.sleep(0.5)\\n        \\n    print('Entering %s info...' % (person['name']))\\n    pag.click(nameField[0], nameField[1])\\n    \\n    # Fill out the Name Field\\n    pag.typewrite(person['name'] + '\\t')\\n    \\n    # Fill out the Greatest Fear(s) Field\\n    pag.typewrite(person['fear'] + '\\t')\\n    \\n    # Fill out the Source of the Wizard Powers field\\n    if person['source'] == 'want':\\n        pag.typewrite(['down', '\\t'])\\n    elif person['source'] == 'amulet':\\n        pag.typewrite(['down', 'down', 'up', '\\t'])\\n    \\n    # Fill out the robocop field\\n    if person['robocop'] == 1:\\n        pag.typewrite(' ', '\\t')\\n    elif person['robocop'] == 2:\\n        pag.typewrite('right', '\\t')\\n    elif person['robocop'] == 5:\\n        pag.typewrite(['right', 'right', 'right', '\\t'])\\n   \\n   # Fill out the additional comments field\\n   pag.typewrite(person['comments'] + '\\t')\\n   \\n   # Click submit\\n   pag.press('enter')\\n   \\n   # Wait until form page has loaded\\n   print('Clicked Submit')\\n   time.sleep(3)\\n   \\n   # Click the Submit another response link\\n   pag.click(sssubmitAnotherLink[0], submitAnotherLink[1])\\n   \\n\""
      ]
     },
     "execution_count": 71,
     "metadata": {},
     "output_type": "execute_result"
    }
   ],
   "source": [
    "'''\n",
    "import pyautogui as pag\n",
    "import time\n",
    "\n",
    "# Set these to the correct coordinates for your computer.\n",
    "nameField = (648, 319)\n",
    "submitButton = (651, 817)\n",
    "submitButtonColor = (75, 141, 249)\n",
    "submitAnotherLink = (760, 224)\n",
    "\n",
    "formData = [{'name': 'Alice', 'fear': 'eavesdroppers', 'source': 'wand',\n",
    "            'robocop': 4, 'comments': 'Tell Bob I said hi.'},\n",
    "            {'name': 'Bob', 'fear': 'bees', 'source': 'amulet', 'robocop': 4,\n",
    "            'comments': 'n/a'},\n",
    "            {'name': 'Carol', 'fear': 'puppets', 'source': 'crystal ball',\n",
    "            'robocop': 1, 'comments': 'Please take the puppets out of the break room.'},\n",
    "            {'name': 'Alex Murphy', 'fear': 'ED-209', 'source': 'money',\n",
    "            'robocop': 5, 'comments': 'Protect the innocent. Serve the public trust. Uphold the law.'},]\n",
    "            \n",
    "for person in formData:\n",
    "    # Give the user a chance to kill the script\n",
    "    print('>>> 5 second pause to let user press Ctrl-C <<<')\n",
    "    time.sleep(5)\n",
    "    \n",
    "    # Wait until the form page has loaded\n",
    "    while not pag.pixelMatchesColor(submitbutton[0], submitButton[1], submitButtonColor):\n",
    "        time.sleep(0.5)\n",
    "        \n",
    "    print('Entering %s info...' % (person['name']))\n",
    "    pag.click(nameField[0], nameField[1])\n",
    "    \n",
    "    # Fill out the Name Field\n",
    "    pag.typewrite(person['name'] + '\\t')\n",
    "    \n",
    "    # Fill out the Greatest Fear(s) Field\n",
    "    pag.typewrite(person['fear'] + '\\t')\n",
    "    \n",
    "    # Fill out the Source of the Wizard Powers field\n",
    "    if person['source'] == 'want':\n",
    "        pag.typewrite(['down', '\\t'])\n",
    "    elif person['source'] == 'amulet':\n",
    "        pag.typewrite(['down', 'down', 'up', '\\t'])\n",
    "    \n",
    "    # Fill out the robocop field\n",
    "    if person['robocop'] == 1:\n",
    "        pag.typewrite(' ', '\\t')\n",
    "    elif person['robocop'] == 2:\n",
    "        pag.typewrite('right', '\\t')\n",
    "    elif person['robocop'] == 5:\n",
    "        pag.typewrite(['right', 'right', 'right', '\\t'])\n",
    "   \n",
    "   # Fill out the additional comments field\n",
    "   pag.typewrite(person['comments'] + '\\t')\n",
    "   \n",
    "   # Click submit\n",
    "   pag.press('enter')\n",
    "   \n",
    "   # Wait until form page has loaded\n",
    "   print('Clicked Submit')\n",
    "   time.sleep(3)\n",
    "   \n",
    "   # Click the Submit another response link\n",
    "   pag.click(sssubmitAnotherLink[0], submitAnotherLink[1])\n",
    "   \n",
    "'''"
   ]
  },
  {
   "cell_type": "markdown",
   "metadata": {},
   "source": [
    "### Summary\n",
    "GUI automation with the pyautogui module allows you to interact with applications on your computer by controlling the mouse and keyboard. While this approach is flexible enough to do anything that a human user can do, the downside is that these programs are fairly blind to what they are clicking or typing. When writing GUI automation programs, try to ensure that they will crash quickly if they’re given bad instructions. Crashing is annoying, but it’s much better than the program continuing in error.\n",
    "\n",
    "You can move the mouse cursor around the screen and simulate mouse clicks, keystrokes, and keyboard shortcuts with PyAutoGUI. The pyautogui module can also check the colors on the screen, which can provide your GUI automation program with enough of an idea of the screen contents to know whether it has gotten offtrack. You can even give PyAutoGUI a screen-shot and let it figure out the coordinates of the area you want to click.\n",
    "\n",
    "You can combine all of these PyAutoGUI features to automate any mindlessly repetitive task on your computer. In fact, it can be downright hypnotic to watch the mouse cursor move on its own and see text appear on the screen automatically. Why not spend the time you saved by sitting back and watching your program do all your work for you? There’s a certain satisfaction that comes from seeing how your cleverness has saved you from the boring stuff."
   ]
  },
  {
   "cell_type": "markdown",
   "metadata": {},
   "source": [
    "### Practice Questions"
   ]
  },
  {
   "cell_type": "markdown",
   "metadata": {},
   "source": [
    "1. How can you trigger PyAutoGUI’s fail safe to stop a program\n",
    "\n",
    "    pyautogui.PAUSE = 1\n",
    "    \n",
    "    pyautogui.FAILSAFE = True\n",
    "\n",
    "\n",
    "2. What function returns the current resolution()?\n",
    "\n",
    "3. What function returns the coordinates for the mouse cursor’s current position?\n",
    "\n",
    "    pyautogui.position() returns a tuple with two integers for the x,y coordinates of the cursor\n",
    "    \n",
    "    \n",
    "4. What is the difference between pyautogui.moveTo() and pyautogui.moveRel()?\n",
    "\n",
    "    moveTo() function moves the mouse to absolute coordinates on the screen, while moveRel() function moves the mouse relative to the mouse's current position\n",
    "    \n",
    "\n",
    "5. What functions can be used to drag the mouse?\n",
    "\n",
    "    pyautogui.dragTo() and pyautogui.dragRel()\n",
    "    \n",
    "\n",
    "6. What function call will type out the characters of \"Hello world!\"?\n",
    "\n",
    "    pyautogui.typewrite()\n",
    "    \n",
    "\n",
    "7. How can you do keypresses for special keys such as the keyboard’s left arrow key?\n",
    "\n",
    "    either pass a list of keyboard key strings to pyautogui.typewrite() such as 'left' or pass a single keyboard key string to pyautogui.press()\n",
    "    \n",
    "\n",
    "8. How can you save the current contents of the screen to an image file named screenshot.png?\n",
    "\n",
    "    pyautogui.screenshot('ss.png')\n",
    "    \n",
    "\n",
    "9. What code would set a two second pause after every PyAutoGUI function call?\n",
    "\n",
    "    pyautogui.PAUSE = 2"
   ]
  },
  {
   "cell_type": "markdown",
   "metadata": {},
   "source": [
    "### Practice Projects"
   ]
  },
  {
   "cell_type": "code",
   "execution_count": 87,
   "metadata": {},
   "outputs": [
    {
     "name": "stdout",
     "output_type": "stream",
     "text": [
      "Moving mouse: 0\n",
      "Moving mouse: 1\n",
      "Moving mouse: 2\n"
     ]
    }
   ],
   "source": [
    "#! python3\n",
    "# looking_busy.py - will slightly nudge the cursor to prevent from looking idle\n",
    "\n",
    "\"\"\"\n",
    "Many instant messaging programs determine whether you are idle, or away from your\n",
    "computer, by detecting a lack of mouse movement over some period of time—say,\n",
    "ten minutes. Maybe you’d like to sneak away from your desk for a while but don’t\n",
    "want others to see your instant messenger status go into idle mode. Write a script\n",
    "to nudge your mouse cursor slightly every ten seconds. The nudge should be small\n",
    "enough so that it won’t get in the way if you do happen to need to use your computer\n",
    " while the script is running.\n",
    "\"\"\"\n",
    "\n",
    "import pyautogui as pag\n",
    "import random\n",
    "import time\n",
    "\n",
    "'''\n",
    "While not needed, I think creating a list of random movements is the best way\n",
    "for this program. If you are gone for a long period of time, there is a very high\n",
    "chance your mouse will not run to the edge of the screen. However, you can\n",
    "choose not to use random movements and just do one instead if you prefer.\n",
    "'''\n",
    "\n",
    "random_movements = [\n",
    "    (40, 20),\n",
    "    (20, -30),\n",
    "    (-40, 40),\n",
    "    (-50, -30)\n",
    "]\n",
    "\n",
    "'''\n",
    "time.sleep(10) seconds will allow it to randomly move every 10 seconds until the user ends\n",
    "the program themselves. Similar with random_chore.py, use random.choice from the random_movements\n",
    "list to move the mouse.\n",
    "'''\n",
    "movements = 0\n",
    "try:\n",
    "    while movements < 3:\n",
    "        time.sleep(1)\n",
    "        # Use moveRel() using random's module function of choice()\n",
    "        print('Moving mouse: ' + str(movements))\n",
    "        pag.moveRel(random.choice(random_movements))\n",
    "        movements += 1\n",
    "except pag.FailSafeExceptiont:\n",
    "    print('Program finished!')"
   ]
  },
  {
   "cell_type": "code",
   "execution_count": 82,
   "metadata": {},
   "outputs": [
    {
     "data": {
      "text/plain": [
       "[(40, 20), (20, -30), (-40, 40), (-50, -30)]"
      ]
     },
     "execution_count": 82,
     "metadata": {},
     "output_type": "execute_result"
    }
   ],
   "source": [
    "random_movements"
   ]
  },
  {
   "cell_type": "code",
   "execution_count": 83,
   "metadata": {},
   "outputs": [
    {
     "data": {
      "text/plain": [
       "list"
      ]
     },
     "execution_count": 83,
     "metadata": {},
     "output_type": "execute_result"
    }
   ],
   "source": [
    "type(random_movements)"
   ]
  },
  {
   "cell_type": "code",
   "execution_count": 84,
   "metadata": {},
   "outputs": [],
   "source": [
    "pag.moveRel((10,10))"
   ]
  },
  {
   "cell_type": "code",
   "execution_count": 85,
   "metadata": {},
   "outputs": [
    {
     "data": {
      "text/plain": [
       "['.idea', 'mouseNow.py', 'mouseNow2.py', 'screenshot.png', 'spiralDraw.py']"
      ]
     },
     "execution_count": 85,
     "metadata": {},
     "output_type": "execute_result"
    }
   ],
   "source": [
    "#! python3\n",
    "# instant_message_bot.py - opens gmail then sends a message with a select user in your friends list\n",
    "\n",
    "\"\"\"\n",
    "The Google Talk application has a search bar that lets you enter a username on your friend\n",
    "list and open a messaging window when you press ENTER. The keyboard focus automatically\n",
    "moves to the new window. Other instant messenger applications have similar ways to open\n",
    "new message windows. Write a program that will automatically send out a notification\n",
    "message to a select group of people on your friend list. Your program may have to deal\n",
    "with exceptional cases, such as friends being offline, the chat window appearing at\n",
    "different coordinates on the screen, or confirmation boxes that interrupt your messaging.\n",
    "Your program will have to take screen-shots to guide its GUI interaction and adopt ways\n",
    "of detecting when its virtual keystrokes aren’t being sent\n",
    "Note, this program will be different depending on your specific case. I have mine automatically\n",
    "logged in so I don't need to enter my email information. Edit your program accordingly.\n",
    "\"\"\"\n",
    "\n",
    "import webbrowser\n",
    "import pyautogui as pag\n",
    "import time\n",
    "import sys\n",
    "import os\n",
    "\n",
    "# Change to the working directory with the picture\n",
    "os.listdir() # we are good\n",
    "pyautogui.PAUSE = 0.5\n",
    "\n",
    "# Message and emails to add as arguments\n",
    "message = 'Hello it me - PyScript' # sys.argv[1]\n",
    "emails = 'email@google.com'        # list(sys.argv[2:])\n",
    "\n",
    "# Open the browser for google hangouts\n",
    "webbrowser.open('https://hangouts.google.com/')\n",
    "\n",
    "'''\n",
    "Maximize the window if you want to.\n",
    "pyautogui makes it easy because we don't event need to select anything.\n",
    "'''\n",
    "# pag.hotkey('alt', 'space', 'x')\n",
    "time.sleep(2)\n",
    "\n",
    "'''\n",
    "If it takes a bit longer to load than normal, this loop will prevent the program from messing up\n",
    "or crashing. If it can't find the picture, it will sleep for another 5 seconds.\n",
    "'''\n",
    "while pag.locationOnScreen('New Conversation.png') is None:\n",
    "    time.sleep(2)\n",
    "\n",
    "'''\n",
    "Function that starts a new conversation and send a message. Edit the numbers to fit your screen resolution.\n",
    "'''\n",
    "def send_message(email):\n",
    "    pag.moveTo(251, 209)         # move to new conversation button\n",
    "    pag.click()                  # click new conversation button\n",
    "    pag.typewrite(email)         # fill in email\n",
    "    pag.moveTo(252, 336)         # move to message button\n",
    "    pag.click()                  # click the message button\n",
    "    pag.typewrite('Hello it me') # auto type message\n",
    "    pag.press('enter')           # send\n",
    "\n",
    "# Emails are taken from the command line arguments, so create a loop that runs through each email\n",
    "for emails in email:\n",
    "    send_message(emails)"
   ]
  },
  {
   "cell_type": "code",
   "execution_count": null,
   "metadata": {},
   "outputs": [],
   "source": []
  }
 ],
 "metadata": {
  "kernelspec": {
   "display_name": "Python 3",
   "language": "python",
   "name": "python3"
  },
  "language_info": {
   "codemirror_mode": {
    "name": "ipython",
    "version": 3
   },
   "file_extension": ".py",
   "mimetype": "text/x-python",
   "name": "python",
   "nbconvert_exporter": "python",
   "pygments_lexer": "ipython3",
   "version": "3.7.3"
  }
 },
 "nbformat": 4,
 "nbformat_minor": 2
}
