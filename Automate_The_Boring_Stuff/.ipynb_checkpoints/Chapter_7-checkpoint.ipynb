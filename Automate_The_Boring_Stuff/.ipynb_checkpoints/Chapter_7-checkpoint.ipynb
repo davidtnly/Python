{
 "cells": [
  {
   "cell_type": "code",
   "execution_count": 1,
   "metadata": {},
   "outputs": [
    {
     "name": "stdout",
     "output_type": "stream",
     "text": [
      "3\n"
     ]
    }
   ],
   "source": [
    "# Create table\n",
    "tableData = [['apples', 'oranges', 'cherries', 'banana'],\n",
    "             ['Alice', 'Bob', 'Carol', 'David'],\n",
    "             ['dogs', 'cats', 'moose', 'goose']]\n",
    "\n",
    "print(len(tableData))\n",
    "\n",
    "# Results would look like below\n",
    "#   apples Alice  dogs\n",
    "#  oranges   Bob  cats\n",
    "# cherries Carol moose\n",
    "#   banana David goose\n",
    "\n",
    "\n",
    "def print_table(table):\n",
    "    # Create a new list of 3 \"0\" values: One for each list in table Data\n",
    "    col_width = 0 * len(table)\n",
    "    print(col_width)"
   ]
  },
  {
   "cell_type": "markdown",
   "metadata": {},
   "source": [
    "# Pattern Matching with Regular Expressions"
   ]
  },
  {
   "cell_type": "markdown",
   "metadata": {},
   "source": [
    "### Finding text patterns without using regular expressions vs. how to simplify with regular expressions\n",
    "I’ll show you basic matching with regular expressions and then move on to some more powerful features, such as string substitution and creating your own character classes. Finally, at the end of the chapter, you’ll write a program that can automatically extract phone numbers and email addresses from a block of text."
   ]
  },
  {
   "cell_type": "markdown",
   "metadata": {},
   "source": [
    "### Finding Patterns of Text without Regular Expressions\n",
    "Say you want to find a phone number in a string. You know the pattern: three numbers, a hyphen, three numbers, a hyphen, and four numbers. Here’s an example: 415-555-4242."
   ]
  },
  {
   "cell_type": "code",
   "execution_count": 4,
   "metadata": {},
   "outputs": [
    {
     "name": "stdout",
     "output_type": "stream",
     "text": [
      "415-555-4242 is a phone number:\n",
      "True\n",
      "Moshi moshi is a phone number:\n",
      "False\n",
      "408999999 is a phone number without dashes but will return false:\n",
      "False\n"
     ]
    }
   ],
   "source": [
    "# Create a function called isPhoneNumber() to check whether a string matches this pattern and return TRUE/FALSE\n",
    "def isPhoneNumber(text):\n",
    "    # Check that the string is exactly 12 characters\n",
    "    if len(text) != 12:\n",
    "        return False\n",
    "    for i in range(0, 3):\n",
    "        # Checks that the area code consists of only numeric characters\n",
    "        if not text[i].isdecimal():\n",
    "            return False\n",
    "    # The number must have the first hyphen after the area code\n",
    "    if text[3] != '-':\n",
    "        return False\n",
    "    # Checks for 3 more numeric characters\n",
    "    for i in range(4, 7):\n",
    "        if not text[i].isdecimal():\n",
    "            return False\n",
    "    # Check for another hyphen\n",
    "    if text[7] != '-':\n",
    "        return False\n",
    "    # Check for the final 3 numeric characters\n",
    "    for i in range(8, 12):\n",
    "        if not text[i].isdecimal():\n",
    "            return False\n",
    "    # Return True if everything holds True\n",
    "    return True\n",
    "\n",
    "print('415-555-4242 is a phone number:')\n",
    "print(isPhoneNumber('415-555-4242'))\n",
    "print('Moshi moshi is a phone number:')\n",
    "print(isPhoneNumber('Moshi moshi'))\n",
    "print('408999999 is a phone number without dashes but will return false:')\n",
    "print(isPhoneNumber('408999999'))"
   ]
  },
  {
   "cell_type": "code",
   "execution_count": 5,
   "metadata": {},
   "outputs": [
    {
     "data": {
      "text/plain": [
       "'Call me at 415-555-1011 tomorrow. 415-555-9999 is my office.'"
      ]
     },
     "execution_count": 5,
     "metadata": {},
     "output_type": "execute_result"
    }
   ],
   "source": [
    "message = 'Call me at 415-555-1011 tomorrow. 415-555-9999 is my office.'\n",
    "message"
   ]
  },
  {
   "cell_type": "code",
   "execution_count": 12,
   "metadata": {},
   "outputs": [],
   "source": [
    "for i in range(len(message)):\n",
    "    chunk = message[i:i+12]\n",
    "#     print(chunk)"
   ]
  },
  {
   "cell_type": "code",
   "execution_count": 8,
   "metadata": {},
   "outputs": [
    {
     "name": "stdout",
     "output_type": "stream",
     "text": [
      "Phone number found: 415-555-1011\n",
      "Phone number found: 415-555-9999\n",
      "Done\n"
     ]
    }
   ],
   "source": [
    "# Loop through chunks of 12 at a time and prints out the entire phone number based on isPhoneNumber function\n",
    "for i in range(len(message)):\n",
    "    chunk = message[i:i+12]\n",
    "    # Pass chunk to isPhoneNumber() to see whether it matches the phone number pattern\n",
    "    if isPhoneNumber(chunk):\n",
    "        print('Phone number found: ' + chunk)\n",
    "print('Done')\n",
    "\n",
    "# The loop goes through the entire string, testing each 12-character piece and printing any chunk it finds that \n",
    "# satisfies isPhoneNumber(). Once we’re done going through message, we print Done."
   ]
  },
  {
   "cell_type": "code",
   "execution_count": 11,
   "metadata": {},
   "outputs": [
    {
     "name": "stdout",
     "output_type": "stream",
     "text": [
      "Call me at 4\n",
      "all me at 41\n"
     ]
    }
   ],
   "source": [
    "print(message[0:0+12])\n",
    "print(message[1:1+12])"
   ]
  },
  {
   "cell_type": "markdown",
   "metadata": {},
   "source": [
    "### Finding Patterns of Text with Regular Expressions\n",
    "Regular expressions, called regexes for short, are descriptions for a pattern of text. For example, a \\d in a regex stands for a digit character—that is, any single numeral 0 to 9. The regex \\d\\d\\d-\\d\\d\\d-\\d\\d\\d\\d is used by Python to match the same text the previous isPhoneNumber() function did: a string of three numbers, a hyphen, three more numbers, another hyphen, and four numbers. Any other string would not match the \\d\\d\\d-\\d\\d\\d-\\d\\d \\d\\d regex.\n",
    "\n",
    "But regular expressions can be much more sophisticated. For example, adding a 3 in curly brackets ({3}) after a pattern is like saying, “Match this pattern three times.” So the slightly shorter regex \\d{3}-\\d{3}-\\d{4} also matches the correct phone number format."
   ]
  },
  {
   "cell_type": "markdown",
   "metadata": {},
   "source": [
    "### Creating Regex Objects\n",
    "All of the regex functions in Python are in the re module:\n",
    "\n",
    "Passing a string value representing your regular expression to re.compile() returns a Regex pattern object (or simply, a Regex object)."
   ]
  },
  {
   "cell_type": "code",
   "execution_count": 12,
   "metadata": {},
   "outputs": [
    {
     "data": {
      "text/plain": [
       "re.compile(r'\\d\\d\\d-\\d\\d\\d-\\d\\d\\d\\d', re.UNICODE)"
      ]
     },
     "execution_count": 12,
     "metadata": {},
     "output_type": "execute_result"
    }
   ],
   "source": [
    "import re\n",
    "\n",
    "# Create a Regex object that matches the phone number pattern\n",
    "#  By putting an r before the first quote of the string value,\n",
    "#  you can mark the string as a raw string, which does not escape characters\n",
    "phoneNumRegex = re.compile(r'\\d\\d\\d-\\d\\d\\d-\\d\\d\\d\\d')\n",
    "phoneNumRegex"
   ]
  },
  {
   "cell_type": "markdown",
   "metadata": {},
   "source": [
    "### Matching Regex Objects\n",
    "A Regex object’s search() method searches the string it is passed for any matches to the regex. The search() method will return None if the regex pattern is not found in the string. If the pattern is found, the search() method returns a Match object. Match objects have a group() method that will return the actual matched text from the searched string."
   ]
  },
  {
   "cell_type": "code",
   "execution_count": 16,
   "metadata": {},
   "outputs": [
    {
     "data": {
      "text/plain": [
       "<re.Match object; span=(13, 25), match='415-555-4242'>"
      ]
     },
     "execution_count": 16,
     "metadata": {},
     "output_type": "execute_result"
    }
   ],
   "source": [
    "phoneNumRegex = re.compile(r'\\d\\d\\d-\\d\\d\\d-\\d\\d\\d\\d')\n",
    "mo = phoneNumRegex.search('My number is 415-555-4242.')\n",
    "mo"
   ]
  },
  {
   "cell_type": "code",
   "execution_count": 17,
   "metadata": {},
   "outputs": [
    {
     "name": "stdout",
     "output_type": "stream",
     "text": [
      "Phone number found: 415-555-4242\n"
     ]
    }
   ],
   "source": [
    "print('Phone number found: ' + mo.group())"
   ]
  },
  {
   "cell_type": "markdown",
   "metadata": {},
   "source": [
    "The mo variable name is just a generic name to use for Match objects. This example might seem complicated at first, but it is much shorter than the earlier isPhoneNumber.py program and does the same thing.\n",
    "\n",
    "Here, we pass our desired pattern to re.compile() and store the resulting Regex object in phoneNumRegex. Then we call search() on phoneNumRegex and pass search() the string we want to search for a match. The result of the search gets stored in the variable mo. In this example, we know that our pattern will be found in the string, so we know that a Match object will be returned. Knowing that mo contains a Match object and not the null value None, we can call group() on mo to return the match. Writing mo.group() inside our print statement displays the whole match, 415-555-4242."
   ]
  },
  {
   "cell_type": "markdown",
   "metadata": {},
   "source": [
    "### Review of Regular Expression Matching\n",
    "\n",
    "While there are several steps to using regular expressions in Python, each step is fairly simple.\n",
    "\n",
    "    Import the regex module with import re.\n",
    "\n",
    "    Create a Regex object with the re.compile() function. (Remember to use a raw string.)\n",
    "\n",
    "    Pass the string you want to search into the Regex object’s search() method. This returns a Match object.\n",
    "\n",
    "    Call the Match object’s group() method to return a string of the actual matched text.\n",
    "\n"
   ]
  },
  {
   "cell_type": "markdown",
   "metadata": {},
   "source": [
    "### Grouping with Parentheses\n",
    "\n",
    "Say you want to separate the area code from the rest of the phone number. Adding parentheses will create groups in the regex: (\\d\\d\\d)-(\\d\\d\\d-\\d\\d\\d\\d). Then you can use the group() match object method to grab the matching text from just one group.\n",
    "\n",
    "The first set of parentheses in a regex string will be group 1. The second set will be group 2. By passing the integer 1 or 2 to the group() match object method, you can grab different parts of the matched text. Passing 0 or nothing to the group() method will return the entire matched text."
   ]
  },
  {
   "cell_type": "code",
   "execution_count": 20,
   "metadata": {},
   "outputs": [
    {
     "name": "stdout",
     "output_type": "stream",
     "text": [
      "222\n",
      "2222\n",
      "222-2222\n",
      "222-2222\n",
      "('222', '2222')\n"
     ]
    }
   ],
   "source": [
    "# Compile regex object\n",
    "phoneNumRegex = re.compile(r'(\\d\\d\\d)-(\\d\\d\\d\\d)') # group 1 and group 2 in parentheses\n",
    "\n",
    "# Create match object from string\n",
    "mo = phoneNumRegex.search('my number is 415-222-2222')\n",
    "\n",
    "# Group by match object\n",
    "print(mo.group(1)) # first group\n",
    "print(mo.group(2)) # second group\n",
    "print(mo.group(0)) # all\n",
    "print(mo.group()) # all\n",
    "\n",
    "# Multiple groups\n",
    "print(mo.groups()) # plural s"
   ]
  },
  {
   "cell_type": "code",
   "execution_count": 21,
   "metadata": {},
   "outputs": [
    {
     "name": "stdout",
     "output_type": "stream",
     "text": [
      "222\n",
      "2222\n"
     ]
    }
   ],
   "source": [
    "areaCode, mainNumber = mo.groups() # single line assignment\n",
    "print(areaCode)\n",
    "print(mainNumber)"
   ]
  },
  {
   "cell_type": "markdown",
   "metadata": {},
   "source": [
    "### Matching parentheses as well\n",
    "Parentheses have a special meaning in regular expressions, but what do you do if you need to match a parenthesis in your text? For instance, maybe the phone numbers you are trying to match have the area code set in parentheses. In this case, you need to escape the ( and ) characters with a backslash."
   ]
  },
  {
   "cell_type": "code",
   "execution_count": 30,
   "metadata": {},
   "outputs": [
    {
     "name": "stdout",
     "output_type": "stream",
     "text": [
      "(408)\n",
      "999-9999\n",
      "('(408)', '999-9999')\n"
     ]
    }
   ],
   "source": [
    "phoneNumRegex = re.compile(r'(\\(\\d\\d\\d\\)) (\\d\\d\\d-\\d\\d\\d\\d)') # add extra \\( \\) and () for the area code to match () as well\n",
    "mo = phoneNumRegex.search('text this number (408) 999-9999')\n",
    "print(mo.group(1))\n",
    "print(mo.group(2))\n",
    "print(mo.groups())"
   ]
  },
  {
   "cell_type": "markdown",
   "metadata": {},
   "source": [
    "### Matching Multiple Groups with the Pipe\n",
    "\n",
    "The | character is called a pipe. You can use it anywhere you want to match one of many expressions. For example, the regular expression r'Batman|Tina Fey' will match either 'Batman' or 'Tina Fey'.\n",
    "\n",
    "When both Batman and Tina Fey occur in the searched string, the first occurrence of matching text will be returned as the Match object."
   ]
  },
  {
   "cell_type": "code",
   "execution_count": 32,
   "metadata": {},
   "outputs": [
    {
     "data": {
      "text/plain": [
       "'Batman'"
      ]
     },
     "execution_count": 32,
     "metadata": {},
     "output_type": "execute_result"
    }
   ],
   "source": [
    "# Search for Batman or Tina Fey using Regex\n",
    "heroRegex = re.compile(r'Batman|Tina Fey')\n",
    "mo_1 = heroRegex.search('Batman and Tina Fey')\n",
    "mo_1.group()"
   ]
  },
  {
   "cell_type": "code",
   "execution_count": 34,
   "metadata": {},
   "outputs": [
    {
     "data": {
      "text/plain": [
       "'Tina Fey'"
      ]
     },
     "execution_count": 34,
     "metadata": {},
     "output_type": "execute_result"
    }
   ],
   "source": [
    "mo_2 = heroRegex.search('Tina Fey and Batman')\n",
    "mo_2.group()"
   ]
  },
  {
   "cell_type": "markdown",
   "metadata": {},
   "source": [
    "You can also use the pipe to match one of several patterns as part of your regex. For example, say you wanted to match any of the strings 'Batman', 'Batmobile', 'Batcopter', and 'Batbat'. Since all these strings start with Bat, it would be nice if you could specify that prefix only once. This can be done with parentheses. "
   ]
  },
  {
   "cell_type": "code",
   "execution_count": 40,
   "metadata": {},
   "outputs": [
    {
     "name": "stdout",
     "output_type": "stream",
     "text": [
      "Batmobile\n",
      "('mobile',)\n",
      "mobile\n"
     ]
    }
   ],
   "source": [
    "# Regex for prefix of words\n",
    "batRegex = re.compile(r'Bat(\\|man|mobile|copter|bat)') # search for prefix 'Bat'\n",
    "mo = batRegex.search('Batmobile lost a wheel with Batman')\n",
    "print(mo.group()) # returns full matched text 'Batmobile'\n",
    "print(mo.groups())\n",
    "print(mo.group(1)) # returns just the part of the matched text inside the first parentheses group 'mobile'"
   ]
  },
  {
   "cell_type": "markdown",
   "metadata": {},
   "source": [
    "The method call mo.group() returns the full matched text 'Batmobile', while mo.group(1) returns just the part of the matched text inside the first parentheses group, 'mobile'. By using the pipe character and grouping parentheses, you can specify several alternative patterns you would like your regex to match.\n",
    "\n",
    "If you need to match an actual pipe character, escape it with a backslash, like '\\|'."
   ]
  },
  {
   "cell_type": "markdown",
   "metadata": {},
   "source": [
    "### Optional Matching with the Question Mark\n",
    "Sometimes there is a pattern that you want to match only optionally. That is, the regex should find a match whether or not that bit of text is there. The ? character flags the group that precedes it as an optional part of the pattern."
   ]
  },
  {
   "cell_type": "code",
   "execution_count": 43,
   "metadata": {},
   "outputs": [
    {
     "data": {
      "text/plain": [
       "'Batman'"
      ]
     },
     "execution_count": 43,
     "metadata": {},
     "output_type": "execute_result"
    }
   ],
   "source": [
    "batRegex = re.compile(r'Bat(wo)?man') #  pattern wo is an optional group\n",
    "mo_1 = batRegex.search('the adventures of Batman')\n",
    "mo_1.group()"
   ]
  },
  {
   "cell_type": "code",
   "execution_count": 44,
   "metadata": {},
   "outputs": [
    {
     "data": {
      "text/plain": [
       "'Batwoman'"
      ]
     },
     "execution_count": 44,
     "metadata": {},
     "output_type": "execute_result"
    }
   ],
   "source": [
    "mo_2 = batRegex.search('the Batwoman adventures of Batman')\n",
    "mo_2.group()"
   ]
  },
  {
   "cell_type": "markdown",
   "metadata": {},
   "source": [
    "The (wo)? part of the regular expression means that the pattern wo is an optional group. The regex will match text that has zero instances or one instance of wo in it. This is why the regex matches both 'Batwoman' and 'Batman'.\n",
    "\n",
    "Using the earlier phone number example, you can make the regex look for phone numbers that do or do not have an area code.\n",
    "\n",
    "#### Think of the \"?\" as saying, \"Match zero or one of the group preceding this question mark\"\n",
    "\n",
    "If you need to match an actual question mark character, escape it with \\?."
   ]
  },
  {
   "cell_type": "code",
   "execution_count": 9,
   "metadata": {},
   "outputs": [
    {
     "name": "stdout",
     "output_type": "stream",
     "text": [
      "408-999-9999\n",
      "999-9999\n",
      "(None,)\n",
      "['', '408-']\n"
     ]
    }
   ],
   "source": [
    "# Think of the \"?\" as saying, \"Match zero or one of the group preceding this question mark\"\n",
    "phoneRegex = re.compile(r'(\\d\\d\\d-)?\\d\\d\\d-\\d\\d\\d\\d') # ? after area code so before section is optional\n",
    "mo_1 = phoneRegex.search('my number is 408-999-9999 and 408-888-8888')\n",
    "print(mo_1.group())\n",
    "\n",
    "# Think of the \"?\" as saying, \"Match zero or one of the group preceding this question mark\"\n",
    "phoneRegex2 = re.compile(r'(\\d\\d\\d-)?\\d\\d\\d-\\d\\d\\d\\d') # ? after area code so before section is optional\n",
    "mo_3 = phoneRegex2.search('my number is 999-9999 and 408-888-8888')\n",
    "print(mo_3.group())\n",
    "print(mo_3.groups())\n",
    "print(phoneRegex2.findall('my number is 999-9999 and 408-888-8888'))"
   ]
  },
  {
   "cell_type": "code",
   "execution_count": 46,
   "metadata": {},
   "outputs": [
    {
     "data": {
      "text/plain": [
       "'999-9999'"
      ]
     },
     "execution_count": 46,
     "metadata": {},
     "output_type": "execute_result"
    }
   ],
   "source": [
    "mo_2 = phoneRegex.search('my number is 999-9999 and 888-8888')\n",
    "mo_2.group()"
   ]
  },
  {
   "cell_type": "markdown",
   "metadata": {},
   "source": [
    "### Matching Zero or More with the Star\n",
    "\n",
    "The * (called the star or asterisk) means “match zero or more”—the group that precedes the star can occur any number of times in the text. It can be completely absent or repeated over and over again. "
   ]
  },
  {
   "cell_type": "code",
   "execution_count": 52,
   "metadata": {},
   "outputs": [
    {
     "data": {
      "text/plain": [
       "'Batman'"
      ]
     },
     "execution_count": 52,
     "metadata": {},
     "output_type": "execute_result"
    }
   ],
   "source": [
    "batRegex = re.compile(r'Bat(wo)*man')\n",
    "\n",
    "# For 'Batman', the (wo)* part of the regex matches zero instances of wo in the string\n",
    "mo_1 = batRegex.search('The Adventures of Batman')\n",
    "mo_1.group()"
   ]
  },
  {
   "cell_type": "code",
   "execution_count": 53,
   "metadata": {},
   "outputs": [
    {
     "data": {
      "text/plain": [
       "'Batwoman'"
      ]
     },
     "execution_count": 53,
     "metadata": {},
     "output_type": "execute_result"
    }
   ],
   "source": [
    "# For 'Batwoman', the (wo)* matches one instance of wo\n",
    "mo_2 = batRegex.search('The Adventures of Batwoman')\n",
    "mo_2.group()"
   ]
  },
  {
   "cell_type": "code",
   "execution_count": 51,
   "metadata": {},
   "outputs": [
    {
     "data": {
      "text/plain": [
       "'Batwowowowoman'"
      ]
     },
     "execution_count": 51,
     "metadata": {},
     "output_type": "execute_result"
    }
   ],
   "source": [
    "# For 'Batwowowowoman', (wo)* matches four instances of wo\n",
    "mo_3 = batRegex.search('The Adventures of Batwowowowoman')\n",
    "mo_3.group()"
   ]
  },
  {
   "cell_type": "markdown",
   "metadata": {},
   "source": [
    "For 'Batman', the (wo)* part of the regex matches zero instances of wo in the string; for 'Batwoman', the (wo)* matches one instance of wo; and for 'Batwowowowoman', (wo)* matches four instances of wo.\n",
    "\n",
    "If you need to match an actual star character, prefix the star in the regular expression with a backslash, \\*."
   ]
  },
  {
   "cell_type": "markdown",
   "metadata": {},
   "source": [
    "### Matching One or More with the Plus\n",
    "\n",
    "While * means “match zero or more,” the + (or plus) means “match one or more.” Unlike the star, which does not require its group to appear in the matched string, the group preceding a plus must appear at least once. It is not optional. Enter the following into the interactive shell, and compare it with the star regexes in the previous section"
   ]
  },
  {
   "cell_type": "code",
   "execution_count": 54,
   "metadata": {},
   "outputs": [
    {
     "data": {
      "text/plain": [
       "'Batwoman'"
      ]
     },
     "execution_count": 54,
     "metadata": {},
     "output_type": "execute_result"
    }
   ],
   "source": [
    "batRegex = re.compile(r'Bat(wo)+man')\n",
    "mo1 = batRegex.search('The Adventures of Batwoman')\n",
    "mo1.group()"
   ]
  },
  {
   "cell_type": "code",
   "execution_count": 55,
   "metadata": {},
   "outputs": [
    {
     "data": {
      "text/plain": [
       "'Batwowowowoman'"
      ]
     },
     "execution_count": 55,
     "metadata": {},
     "output_type": "execute_result"
    }
   ],
   "source": [
    "mo2 = batRegex.search('The Adventures of Batwowowowoman')\n",
    "mo2.group()"
   ]
  },
  {
   "cell_type": "code",
   "execution_count": 59,
   "metadata": {},
   "outputs": [
    {
     "data": {
      "text/plain": [
       "True"
      ]
     },
     "execution_count": 59,
     "metadata": {},
     "output_type": "execute_result"
    }
   ],
   "source": [
    "mo3 = batRegex.search('The Adventures of Batman')\n",
    "mo3 == None"
   ]
  },
  {
   "cell_type": "markdown",
   "metadata": {},
   "source": [
    "### Matching Specific Repetitions with Curly Brackets\n",
    "\n",
    "If you have a group that you want to repeat a specific number of times, follow the group in your regex with a number in curly brackets. For example, the regex (Ha){3} will match the string 'HaHaHa', but it will not match 'HaHa', since the latter has only two repeats of the (Ha) group.\n",
    "\n",
    "Instead of one number, you can specify a range by writing a minimum, a comma, and a maximum in between the curly brackets. For example, the regex (Ha){3,5} will match 'HaHaHa', 'HaHaHaHa', and 'HaHaHaHaHa'.\n",
    "\n",
    "You can also leave out the first or second number in the curly brackets to leave the minimum or maximum unbounded. For example, (Ha){3,} will match three or more instances of the (Ha) group, while (Ha){,5} will match zero to five instances. Curly brackets can help make your regular expressions shorter. These two regular expressions match identical patterns:\n",
    "\n",
    "(Ha){3}\n",
    "(Ha)(Ha)(Ha)"
   ]
  },
  {
   "cell_type": "code",
   "execution_count": 60,
   "metadata": {},
   "outputs": [
    {
     "data": {
      "text/plain": [
       "'hahaha'"
      ]
     },
     "execution_count": 60,
     "metadata": {},
     "output_type": "execute_result"
    }
   ],
   "source": [
    "haRegex = re.compile(r'(ha){3}')\n",
    "mo1 = haRegex.search('hahahahahahaha')\n",
    "mo1.group()"
   ]
  },
  {
   "cell_type": "code",
   "execution_count": 62,
   "metadata": {},
   "outputs": [
    {
     "data": {
      "text/plain": [
       "True"
      ]
     },
     "execution_count": 62,
     "metadata": {},
     "output_type": "execute_result"
    }
   ],
   "source": [
    "mo2 = haRegex.search('ha') \n",
    "mo2 == None # needs a minimum of ha * 3"
   ]
  },
  {
   "cell_type": "markdown",
   "metadata": {},
   "source": [
    "### Greedy and Nongreedy Matching\n",
    "\n",
    "Since (Ha){3,5} can match three, four, or five instances of Ha in the string 'HaHaHaHaHa', you may wonder why the Match object’s call to group() in the previous curly bracket example returns 'HaHaHaHaHa' instead of the shorter possibilities. After all, 'HaHaHa' and 'HaHaHaHa' are also valid matches of the regular expression (Ha){3,5}.\n",
    "\n",
    "Python’s regular expressions are greedy by default, which means that in ambiguous situations they will match the longest string possible. The non-greedy version of the curly brackets, which matches the shortest string possible, has the closing curly bracket followed by a question mark."
   ]
  },
  {
   "cell_type": "code",
   "execution_count": 63,
   "metadata": {},
   "outputs": [
    {
     "data": {
      "text/plain": [
       "'hahahahaha'"
      ]
     },
     "execution_count": 63,
     "metadata": {},
     "output_type": "execute_result"
    }
   ],
   "source": [
    "greedyHaRegex = re.compile(r'(ha){3,5}') # greedy approach, which means that it will find the longest string possible\n",
    "mo1 = greedyHaRegex.search('hahahahaha')\n",
    "mo1.group()"
   ]
  },
  {
   "cell_type": "code",
   "execution_count": 65,
   "metadata": {},
   "outputs": [
    {
     "data": {
      "text/plain": [
       "'hahaha'"
      ]
     },
     "execution_count": 65,
     "metadata": {},
     "output_type": "execute_result"
    }
   ],
   "source": [
    "nongreedyHaRegEx = re.compile(r'(ha){3,5}?') # nongreedy with ? searches for the min needed (3)\n",
    "mo2 = nongreedyHaRegEx.search('hahahahaha')\n",
    "mo2.group()"
   ]
  },
  {
   "cell_type": "markdown",
   "metadata": {},
   "source": [
    "### The findall() Method\n",
    "\n",
    "In addition to the search() method, Regex objects also have a findall() method. While search() will return a Match object of the first matched text in the searched string, the findall() method will return the strings of every match in the searched string. To see how search() returns a Match object only on the first instance of matching text"
   ]
  },
  {
   "cell_type": "code",
   "execution_count": 10,
   "metadata": {},
   "outputs": [
    {
     "name": "stdout",
     "output_type": "stream",
     "text": [
      "408-888-8888\n",
      "()\n"
     ]
    }
   ],
   "source": [
    "phoneNumRegEx = re.compile(r'\\d\\d\\d-\\d\\d\\d-\\d\\d\\d\\d')\n",
    "mo = phoneNumRegEx.search('Cell: 408-888-8888 Work: 408-999-9999')\n",
    "print(mo.group())\n",
    "print(mo.groups())"
   ]
  },
  {
   "cell_type": "markdown",
   "metadata": {},
   "source": [
    "On the other hand, findall() will not return a Match object but a list of strings—as long as there are no groups in the regular expression. Each string in the list is a piece of the searched text that matched the regular expression. "
   ]
  },
  {
   "cell_type": "code",
   "execution_count": 67,
   "metadata": {},
   "outputs": [
    {
     "data": {
      "text/plain": [
       "['408-888-8888', '408-999-9999']"
      ]
     },
     "execution_count": 67,
     "metadata": {},
     "output_type": "execute_result"
    }
   ],
   "source": [
    "phoneNumRegEx = re.compile(r'\\d\\d\\d-\\d\\d\\d-\\d\\d\\d\\d') # has no groups\n",
    "phoneNumRegEx.findall('Cell: 408-888-8888 Work: 408-999-9999')"
   ]
  },
  {
   "cell_type": "markdown",
   "metadata": {},
   "source": [
    "If there are groups in the regular expression, then findall() will return a list of tuples. Each tuple represents a found match, and its items are the matched strings for each group in the regex. To see findall() in action, enter the following into the interactive shell (notice that the regular expression being compiled now has groups in parentheses)"
   ]
  },
  {
   "cell_type": "code",
   "execution_count": 75,
   "metadata": {},
   "outputs": [
    {
     "data": {
      "text/plain": [
       "[('408', '888', '8888'), ('408', '999', '9999'), ('999', '888', '8888')]"
      ]
     },
     "execution_count": 75,
     "metadata": {},
     "output_type": "execute_result"
    }
   ],
   "source": [
    "phoneNumRegEx = re.compile(r'(\\d\\d\\d)-(\\d\\d\\d)-(\\d\\d\\d\\d)') # has groups vs no groups\n",
    "phoneNumRegEx.findall('Cell: 408-888-8888 Work: 408-999-9999 Bok: 999-888-8888 Line: 555-5555')"
   ]
  },
  {
   "cell_type": "markdown",
   "metadata": {},
   "source": [
    "To summarize what the findall() method returns, remember the following:\n",
    "\n",
    "    When called on a regex with no groups, such as \\d\\d\\d-\\d\\d\\d-\\d\\d\\d\\d, the method findall() returns a list of string matches, such as ['415-555-9999', '212-555-0000'].\n",
    "\n",
    "    When called on a regex that has groups, such as (\\d\\d\\d)-(\\d\\d\\d)-(\\d\\ d\\d\\d), the method findall() returns a list of tuples of strings (one string for each group), such as [('415', '555', '9999'), ('212', '555', '0000')].\n",
    "\n"
   ]
  },
  {
   "cell_type": "markdown",
   "metadata": {},
   "source": [
    "### Character Classes\n",
    "\\d\n",
    "\t\n",
    "\n",
    "Any numeric digit from 0 to 9.\n",
    "\n",
    "\\D\n",
    "\t\n",
    "\n",
    "Any character that is not a numeric digit from 0 to 9.\n",
    "\n",
    "\\w\n",
    "\t\n",
    "\n",
    "Any letter, numeric digit, or the underscore character. (Think of this as matching “word” characters.)\n",
    "\n",
    "\\W\n",
    "\t\n",
    "\n",
    "Any character that is not a letter, numeric digit, or the underscore character.\n",
    "\n",
    "\\s\n",
    "\t\n",
    "\n",
    "Any space, tab, or newline character. (Think of this as matching “space” characters.)\n",
    "\n",
    "\\S\n",
    "\t\n",
    "\n",
    "Any character that is not a space, tab, or newline."
   ]
  },
  {
   "cell_type": "markdown",
   "metadata": {},
   "source": [
    "Character classes are nice for shortening regular expressions. The character class [0-5] will match only the numbers 0 to 5; this is much shorter than typing (0|1|2|3|4|5)."
   ]
  },
  {
   "cell_type": "code",
   "execution_count": 80,
   "metadata": {},
   "outputs": [
    {
     "data": {
      "text/plain": [
       "['5 rose',\n",
       " '99 no',\n",
       " '12 drummers',\n",
       " '11 pipers',\n",
       " '10 lords',\n",
       " '9 ladies',\n",
       " '8 maids',\n",
       " '7 swans',\n",
       " '6 geese',\n",
       " '5 rings',\n",
       " '4 birds',\n",
       " '3 hens',\n",
       " '2 doves',\n",
       " '1 partridge']"
      ]
     },
     "execution_count": 80,
     "metadata": {},
     "output_type": "execute_result"
    }
   ],
   "source": [
    "xmasRegex = re.compile(r'\\d+\\s\\w+') # + means that the group preceding + has to appear at least once\n",
    "xmasRegex.findall('4rose, 5 rose, 99 no yes 11, 12 drummers, 11 pipers, 10 lords, 9 ladies, 8 maids, 7 swans, 6 geese,\\n5 rings, 4 birds, 3 hens, 2 doves, 1 partridge')"
   ]
  },
  {
   "cell_type": "markdown",
   "metadata": {},
   "source": [
    "#### The regular expression \\d+\\s\\w+ will match text that has one or more numeric digits (\\d+), followed by a whitespace character (\\s), followed by one or more letter/digit/underscore characters (\\w+). The findall() method returns all matching strings of the regex pattern in a list."
   ]
  },
  {
   "cell_type": "markdown",
   "metadata": {},
   "source": [
    "### Making Your Own Character Classes\n",
    "\n",
    "There are times when you want to match a set of characters but the shorthand character classes (\\d, \\w, \\s, and so on) are too broad. You can define your own character class using square brackets. For example, the character class [aeiouAEIOU] will match any vowel, both lowercase and uppercase."
   ]
  },
  {
   "cell_type": "code",
   "execution_count": 81,
   "metadata": {},
   "outputs": [
    {
     "data": {
      "text/plain": [
       "['o', 'o', 'o', 'e', 'a', 'a', 'o', 'o', 'A', 'O', 'O']"
      ]
     },
     "execution_count": 81,
     "metadata": {},
     "output_type": "execute_result"
    }
   ],
   "source": [
    "# Match any vowels\n",
    "vowelRegex = re.compile(r'[aeiouAEIOU]')\n",
    "vowelRegex.findall('Robocop eats baby food. BABY FOOD.')"
   ]
  },
  {
   "cell_type": "markdown",
   "metadata": {},
   "source": [
    "You can also include ranges of letters or numbers by using a hyphen. For example, the character class [a-zA-Z0-9] will match all lowercase letters, uppercase letters, and numbers.\n",
    "\n",
    "Note that inside the square brackets, the normal regular expression symbols are not interpreted as such. This means you do not need to escape the ., *, ?, or () characters with a preceding backslash. For example, the character class [0-5.] will match digits 0 to 5 and a period. You do not need to write it as [0-5\\.].\n",
    "\n",
    "By placing a caret character (^) just after the character class’s opening bracket, you can make a negative character class. A negative character class will match all the characters that are not in the character class. "
   ]
  },
  {
   "cell_type": "code",
   "execution_count": 82,
   "metadata": {},
   "outputs": [
    {
     "data": {
      "text/plain": [
       "['R',\n",
       " 'b',\n",
       " 'c',\n",
       " 'p',\n",
       " ' ',\n",
       " 't',\n",
       " 's',\n",
       " ' ',\n",
       " 'b',\n",
       " 'b',\n",
       " 'y',\n",
       " ' ',\n",
       " 'f',\n",
       " 'd',\n",
       " '.',\n",
       " ' ',\n",
       " 'B',\n",
       " 'B',\n",
       " 'Y',\n",
       " ' ',\n",
       " 'F',\n",
       " 'D',\n",
       " '.']"
      ]
     },
     "execution_count": 82,
     "metadata": {},
     "output_type": "execute_result"
    }
   ],
   "source": [
    "consonantRegex = re.compile(r'[^aeiouAEIOU]')\n",
    "consonantRegex.findall('Robocop eats baby food. BABY FOOD.')"
   ]
  },
  {
   "cell_type": "code",
   "execution_count": 83,
   "metadata": {},
   "outputs": [
    {
     "data": {
      "text/plain": [
       "['R',\n",
       " 'o',\n",
       " 'b',\n",
       " 'o',\n",
       " 'c',\n",
       " 'o',\n",
       " 'p',\n",
       " 'e',\n",
       " 'a',\n",
       " 't',\n",
       " 's',\n",
       " 'b',\n",
       " 'a',\n",
       " 'b',\n",
       " 'y',\n",
       " 'f',\n",
       " 'o',\n",
       " 'o',\n",
       " 'd',\n",
       " 'B',\n",
       " 'A',\n",
       " 'B',\n",
       " 'Y',\n",
       " 'F',\n",
       " 'O',\n",
       " 'O',\n",
       " 'D',\n",
       " '6',\n",
       " '5',\n",
       " '4',\n",
       " 's',\n",
       " 'a',\n",
       " 'd',\n",
       " '6',\n",
       " 'a',\n",
       " '5',\n",
       " 's',\n",
       " '4',\n",
       " 'a',\n",
       " 'd',\n",
       " '6']"
      ]
     },
     "execution_count": 83,
     "metadata": {},
     "output_type": "execute_result"
    }
   ],
   "source": [
    "# Match any letters and number\n",
    "vowelRegex = re.compile(r'[a-zA-Z0-9]')\n",
    "vowelRegex.findall('Robocop eats baby food. BABY FOOD654sad6a5s4ad6.')"
   ]
  },
  {
   "cell_type": "markdown",
   "metadata": {},
   "source": [
    "### The Caret and Dollar Sign Characters\n",
    "\n",
    "You can also use the caret symbol (^) at the start of a regex to indicate that a match must occur at the beginning of the searched text. Likewise, you can put a dollar sign ( ) at the end of the regex to indicate the string must end with this regex pattern. And you can use the ^ and $ together to indicate that the entire string must match the regex—that is, it’s not enough for a match to be made on some subset of the string.\n",
    "\n",
    "For example, the r'^Hello' regular expression string matches strings that begin with 'Hello'. "
   ]
  },
  {
   "cell_type": "code",
   "execution_count": 84,
   "metadata": {},
   "outputs": [
    {
     "data": {
      "text/plain": [
       "True"
      ]
     },
     "execution_count": 84,
     "metadata": {},
     "output_type": "execute_result"
    }
   ],
   "source": [
    "beginsWithHello = re.compile(r'^Hello')\n",
    "beginsWithHello.search('Hello world!')\n",
    "beginsWithHello.search('He said hello.') == None"
   ]
  },
  {
   "cell_type": "code",
   "execution_count": 85,
   "metadata": {},
   "outputs": [
    {
     "data": {
      "text/plain": [
       "True"
      ]
     },
     "execution_count": 85,
     "metadata": {},
     "output_type": "execute_result"
    }
   ],
   "source": [
    "# The r'\\d$' regular expression string matches strings that end with a numeric character from 0 to 9\n",
    "endsWithNumber = re.compile(r'\\d$')\n",
    "endsWithNumber.search('Your number is 42')\n",
    "endsWithNumber.search('Your number is forty two.') == None"
   ]
  },
  {
   "cell_type": "code",
   "execution_count": 87,
   "metadata": {},
   "outputs": [
    {
     "data": {
      "text/plain": [
       "<re.Match object; span=(0, 10), match='1234567890'>"
      ]
     },
     "execution_count": 87,
     "metadata": {},
     "output_type": "execute_result"
    }
   ],
   "source": [
    "# The r'^\\d+$' regular expression string matches strings that both begin and end with one or more numeric characters\n",
    "wholeStringIsNum = re.compile(r'^\\d+$')\n",
    "wholeStringIsNum.search('1234567890')"
   ]
  },
  {
   "cell_type": "code",
   "execution_count": 88,
   "metadata": {},
   "outputs": [
    {
     "data": {
      "text/plain": [
       "True"
      ]
     },
     "execution_count": 88,
     "metadata": {},
     "output_type": "execute_result"
    }
   ],
   "source": [
    "wholeStringIsNum.search('12345xyz67890') == None # xyz (not numbers)"
   ]
  },
  {
   "cell_type": "code",
   "execution_count": 89,
   "metadata": {},
   "outputs": [
    {
     "data": {
      "text/plain": [
       "True"
      ]
     },
     "execution_count": 89,
     "metadata": {},
     "output_type": "execute_result"
    }
   ],
   "source": [
    "wholeStringIsNum.search('12 34567890') == None # space "
   ]
  },
  {
   "cell_type": "markdown",
   "metadata": {},
   "source": [
    "The first two search() calls in the previous interactive shell example demonstrate how the entire string must match the regex if ^ and $ are used."
   ]
  },
  {
   "cell_type": "code",
   "execution_count": 91,
   "metadata": {},
   "outputs": [
    {
     "data": {
      "text/plain": [
       "False"
      ]
     },
     "execution_count": 91,
     "metadata": {},
     "output_type": "execute_result"
    }
   ],
   "source": [
    "wholeStringIsNum.search('1234567890') == None"
   ]
  },
  {
   "cell_type": "markdown",
   "metadata": {},
   "source": [
    "### Matching Everything with Dot-Star\n",
    "Sometimes you will want to match everything and anything. For example, say you want to match the string 'First Name:', followed by any and all text, followed by 'Last Name:', and then followed by anything again. You can use the dot-star (.*) to stand in for that “anything.” Remember that the dot character means “any single character except the newline,” and the star character means “zero or more of the preceding character.”"
   ]
  },
  {
   "cell_type": "code",
   "execution_count": 11,
   "metadata": {},
   "outputs": [
    {
     "name": "stdout",
     "output_type": "stream",
     "text": [
      "Al\n",
      "Swz\n",
      "('Al', 'Swz')\n"
     ]
    }
   ],
   "source": [
    "# Match everything after first name and last name using (.*)\n",
    "nameRegex = re.compile(r'First Name: (.*) Last Name: (.*)')\n",
    "mo = nameRegex.search('First Name: Al Last Name: Swz')\n",
    "print(mo.group(1)) # prints first group\n",
    "print(mo.group(2)) # prints second group\n",
    "print(mo.groups()) # prints tuple of groups"
   ]
  },
  {
   "cell_type": "markdown",
   "metadata": {},
   "source": [
    "The dot-star uses greedy mode: It will always try to match as much text as possible. To match any and all text in a nongreedy fashion, use the dot, star, and question mark (.*?). Like with curly brackets, the question mark tells Python to match in a nongreedy way."
   ]
  },
  {
   "cell_type": "code",
   "execution_count": 12,
   "metadata": {},
   "outputs": [
    {
     "data": {
      "text/plain": [
       "'<To serve man>'"
      ]
     },
     "execution_count": 12,
     "metadata": {},
     "output_type": "execute_result"
    }
   ],
   "source": [
    "# See difference between greedy and nongreedy\n",
    "nongreedyRegex = re.compile(r'<.*?>') # non greedy using ?\n",
    "mo = nongreedyRegex.search('<To serve man> for dinner')\n",
    "mo.group()"
   ]
  },
  {
   "cell_type": "code",
   "execution_count": 14,
   "metadata": {},
   "outputs": [
    {
     "data": {
      "text/plain": [
       "'<To serve man> for dinner>'"
      ]
     },
     "execution_count": 14,
     "metadata": {},
     "output_type": "execute_result"
    }
   ],
   "source": [
    "# Greedy approach\n",
    "greedyRegex = re.compile(r'<.*>') # greedy approach without ?\n",
    "mo = greedyRegex.search('<To serve man> for dinner>') # extra > at the end\n",
    "mo.group()"
   ]
  },
  {
   "cell_type": "markdown",
   "metadata": {},
   "source": [
    "Both regexes roughly translate to “Match an opening angle bracket, followed by anything, followed by a closing angle bracket.” But the string '<To serve man> for dinner.>' has two possible matches for the closing angle bracket. In the nongreedy version of the regex, Python matches the shortest possible string: '<To serve man>'. In the greedy version, Python matches the longest possible string: '<To serve man> for dinner.>'."
   ]
  },
  {
   "cell_type": "markdown",
   "metadata": {},
   "source": [
    "### Matching Newlines with the Dot Character\n",
    "The dot-star will match everything except a newline. By passing re.DOTALL as the second argument to re.compile(), you can make the dot character match all characters, including the newline character."
   ]
  },
  {
   "cell_type": "code",
   "execution_count": 15,
   "metadata": {},
   "outputs": [
    {
     "data": {
      "text/plain": [
       "'Serve the public'"
      ]
     },
     "execution_count": 15,
     "metadata": {},
     "output_type": "execute_result"
    }
   ],
   "source": [
    "noNewlineRegex = re.compile('.*') # match everything without new line\n",
    "noNewlineRegex.search('Serve the public\\nProtecc the food\\nAttacc the intruder').group()"
   ]
  },
  {
   "cell_type": "code",
   "execution_count": 16,
   "metadata": {},
   "outputs": [
    {
     "data": {
      "text/plain": [
       "'Serve the public\\nProtecc the food\\nAttacc the intruder'"
      ]
     },
     "execution_count": 16,
     "metadata": {},
     "output_type": "execute_result"
    }
   ],
   "source": [
    "noNewlineRegex = re.compile('.*', re.DOTALL) # match everything with new line\n",
    "noNewlineRegex.search('Serve the public\\nProtecc the food\\nAttacc the intruder').group()"
   ]
  },
  {
   "cell_type": "markdown",
   "metadata": {},
   "source": [
    "The regex noNewlineRegex, which did not have re.DOTALL passed to the re.compile() call that created it, will match everything only up to the first newline character, whereas newlineRegex, which did have re.DOTALL passed to re.compile(), matches everything. This is why the newlineRegex.search() call matches the full string, including its newline characters."
   ]
  },
  {
   "cell_type": "markdown",
   "metadata": {},
   "source": [
    "### Review of Regex Symbols\n",
    "This chapter covered a lot of notation, so here’s a quick review of what you learned:\n",
    "\n",
    "The ? matches zero or one of the preceding group.\n",
    "\n",
    "The * matches zero or more of the preceding group.\n",
    "\n",
    "The + matches one or more of the preceding group.\n",
    "\n",
    "The {n} matches exactly n of the preceding group.\n",
    "\n",
    "The {n,} matches n or more of the preceding group.\n",
    "\n",
    "The {,m} matches 0 to m of the preceding group.\n",
    "\n",
    "The {n,m} matches at least n and at most m of the preceding group.\n",
    "\n",
    "{n,m}? or *? or +? performs a nongreedy match of the preceding group.\n",
    "\n",
    "^spam means the string must begin with spam.\n",
    "\n",
    "spam$ means the string must end with spam.\n",
    "\n",
    "The . matches any character, except newline characters.\n",
    "\n",
    "\\d, \\w, and \\s match a digit, word, or space character, respectively.\n",
    "\n",
    "\\D, \\W, and \\S match anything except a digit, word, or space character, respectively.\n",
    "\n",
    "[abc] matches any character between the brackets (such as a, b, or c).\n",
    "\n",
    "[^abc] matches any character that isn’t between the brackets."
   ]
  },
  {
   "cell_type": "markdown",
   "metadata": {},
   "source": [
    "### Case-Insensitive Matching\n",
    "Normally, regular expressions match text with the exact casing you specify. For example, the following regexes match completely different strings:"
   ]
  },
  {
   "cell_type": "code",
   "execution_count": 19,
   "metadata": {},
   "outputs": [],
   "source": [
    "regex1 = re.compile('Robocop')\n",
    "regex2 = re.compile('ROBOCOP')\n",
    "regex3 = re.compile('robOcop')\n",
    "regex4 = re.compile('RobocOp')"
   ]
  },
  {
   "cell_type": "markdown",
   "metadata": {},
   "source": [
    "But sometimes you care only about matching the letters without worrying whether they’re uppercase or lowercase. To make your regex case-insensitive, you can pass re.IGNORECASE or re.I as a second argument to re.compile()."
   ]
  },
  {
   "cell_type": "code",
   "execution_count": 20,
   "metadata": {},
   "outputs": [
    {
     "data": {
      "text/plain": [
       "'Robocop'"
      ]
     },
     "execution_count": 20,
     "metadata": {},
     "output_type": "execute_result"
    }
   ],
   "source": [
    "robocop = re.compile(r'robocop', re.I)\n",
    "robocop.search('Robocop is part man, part machine').group()"
   ]
  },
  {
   "cell_type": "code",
   "execution_count": 21,
   "metadata": {},
   "outputs": [
    {
     "data": {
      "text/plain": [
       "'ROBOcOp'"
      ]
     },
     "execution_count": 21,
     "metadata": {},
     "output_type": "execute_result"
    }
   ],
   "source": [
    "robocop.search('ROBOcOp is a robot').group()"
   ]
  },
  {
   "cell_type": "code",
   "execution_count": 22,
   "metadata": {},
   "outputs": [
    {
     "data": {
      "text/plain": [
       "'robocop'"
      ]
     },
     "execution_count": 22,
     "metadata": {},
     "output_type": "execute_result"
    }
   ],
   "source": [
    "robocop.search('robocop n rObOcOp').group()"
   ]
  },
  {
   "cell_type": "code",
   "execution_count": 23,
   "metadata": {},
   "outputs": [
    {
     "data": {
      "text/plain": [
       "()"
      ]
     },
     "execution_count": 23,
     "metadata": {},
     "output_type": "execute_result"
    }
   ],
   "source": [
    "robocop.search('robocop n rObOcOp').groups()"
   ]
  },
  {
   "cell_type": "code",
   "execution_count": 27,
   "metadata": {},
   "outputs": [
    {
     "name": "stdout",
     "output_type": "stream",
     "text": [
      "robocop\n"
     ]
    }
   ],
   "source": [
    "mo = robocop.search('robocop n rObOcOp')\n",
    "print(mo.group())\n",
    "# print(mo.group(2))\n",
    "# print(mo.group(1))"
   ]
  },
  {
   "cell_type": "markdown",
   "metadata": {},
   "source": [
    "### Substituting Strings with the sub() Method\n",
    "Regular expressions can not only find text patterns but can also substitute new text in place of those patterns. The sub() method for Regex objects is passed two arguments. The first argument is a string to replace any matches. The second is the string for the regular expression. The sub() method returns a string with the substitutions applied."
   ]
  },
  {
   "cell_type": "code",
   "execution_count": 28,
   "metadata": {},
   "outputs": [
    {
     "data": {
      "text/plain": [
       "'CENSORED is a secret agent with CENSORED.'"
      ]
     },
     "execution_count": 28,
     "metadata": {},
     "output_type": "execute_result"
    }
   ],
   "source": [
    "namesRegex = re.compile(r'Agent \\w+')\n",
    "namesRegex.sub('CENSORED', 'Agent Alice is a secret agent with Agent Bob.')"
   ]
  },
  {
   "cell_type": "markdown",
   "metadata": {},
   "source": [
    "Sometimes you may need to use the matched text itself as part of the substitution. In the first argument to sub(), you can type \\1, \\2, \\3, and so on, to mean “Enter the text of group 1, 2, 3, and so on, in the substitution.”\n",
    "\n",
    "For example, say you want to censor the names of the secret agents by showing just the first letters of their names. To do this, you could use the regex Agent (\\w)\\w* and pass r'\\1****' as the first argument to sub(). The \\1 in that string will be replaced by whatever text was matched by group 1—that is, the (\\w) group of the regular expression."
   ]
  },
  {
   "cell_type": "code",
   "execution_count": 38,
   "metadata": {},
   "outputs": [
    {
     "data": {
      "text/plain": [
       "'A**** told C**** to buzz off before she called J**** over.'"
      ]
     },
     "execution_count": 38,
     "metadata": {},
     "output_type": "execute_result"
    }
   ],
   "source": [
    "# Show first letter of the agent name only\n",
    "agentNamesRegex = re.compile(r'Agent (\\w)\\w*') # question on why \\w after\n",
    "agentNamesRegex.sub(r'\\1****', 'Agent Alice told Agent Carol to buzz off before she called Agent Jack over.')"
   ]
  },
  {
   "cell_type": "markdown",
   "metadata": {},
   "source": [
    "### Managing Complex Regexes\n",
    "Regular expressions are fine if the text pattern you need to match is simple. But matching complicated text patterns might require long, convoluted regular expressions. You can mitigate this by telling the re.compile() function to ignore whitespace and comments inside the regular expression string. This “verbose mode” can be enabled by passing the variable re.VERBOSE as the second argument to re.compile().\n",
    "\n",
    "Now instead of a hard-to-read regular expression like this:\n",
    "\n",
    "phoneRegex = re.compile(r'((\\d{3}|\\(\\d{3}\\))?(\\s|-|\\.)?\\d{3}(\\s|-|\\.)\\d{4}\n",
    "(\\s*(ext|x|ext.)\\s*\\d{2,5})?)')\n",
    "\n",
    "you can spread the regular expression over multiple lines with comments like this:\n",
    "\n",
    "phoneRegex = re.compile(r'''(\n",
    "\n",
    "    (\\d{3}|\\(\\d{3}\\))?            # area code\n",
    "    \n",
    "    (\\s|-|\\.)?                    # separator\n",
    "    \n",
    "    \\d{3}                         # first 3 digits\n",
    "    \n",
    "    (\\s|-|\\.)                     # separator\n",
    "    \n",
    "    \\d{4}                         # last 4 digits\n",
    "    \n",
    "    (\\s*(ext|x|ext.)\\s*\\d{2,5})?  # extension\n",
    "    \n",
    "    )''', re.VERBOSE)\n",
    "  \n",
    "Note how the previous example uses the triple-quote syntax (''') to create a multiline string so that you can spread the regular expression definition over many lines, making it much more legible.\n",
    "\n",
    "The comment rules inside the regular expression string are the same as regular Python code: The # symbol and everything after it to the end of the line are ignored. Also, the extra spaces inside the multiline string for the regular expression are not considered part of the text pattern to be matched. This lets you organize the regular expression so it’s easier to read."
   ]
  },
  {
   "cell_type": "markdown",
   "metadata": {},
   "source": [
    "### Combining re.IGNORECASE, re.DOTALL, and re.VERBOSE\n",
    "What if you want to use re.VERBOSE to write comments in your regular expression but also want to use re.IGNORECASE to ignore capitalization? Unfortunately, the re.compile() function takes only a single value as its second argument. You can get around this limitation by combining the re.IGNORECASE, re.DOTALL, and re.VERBOSE variables using the pipe character (|), which in this context is known as the bitwise or operator.\n",
    "\n",
    "So if you want a regular expression that’s case-insensitive and includes newlines to match the dot character, you would form your re.compile() call like this:"
   ]
  },
  {
   "cell_type": "code",
   "execution_count": 34,
   "metadata": {},
   "outputs": [
    {
     "data": {
      "text/plain": [
       "<re.Match object; span=(0, 3), match='FoO'>"
      ]
     },
     "execution_count": 34,
     "metadata": {},
     "output_type": "execute_result"
    }
   ],
   "source": [
    "# Reg expression that's case-insensitive and includes newlines to match the dot character\n",
    "someRegexvalue = re.compile('foo', re.IGNORECASE | re.DOTALL)\n",
    "someRegexvalue.search('FoO')"
   ]
  },
  {
   "cell_type": "code",
   "execution_count": 36,
   "metadata": {},
   "outputs": [
    {
     "data": {
      "text/plain": [
       "<re.Match object; span=(0, 3), match='fOO'>"
      ]
     },
     "execution_count": 36,
     "metadata": {},
     "output_type": "execute_result"
    }
   ],
   "source": [
    "# All three options for the second argument\n",
    "someRegexvalue = re.compile('foo', re.IGNORECASE | re.DOTALL | re.VERBOSE)\n",
    "someRegexvalue.search('fOOFoo')"
   ]
  },
  {
   "cell_type": "markdown",
   "metadata": {},
   "source": [
    "### Project: Phone Number and Email Address Extractor\n",
    "Say you have the boring task of finding every phone number and email address in a long web page or document. If you manually scroll through the page, you might end up searching for a long time. But if you had a program that could search the text in your clipboard for phone numbers and email addresses, you could simply press CTRL-A to select all the text, press CTRL-C to copy it to the clipboard, and then run your program. It could replace the text on the clipboard with just the phone numbers and email addresses it finds.\n",
    "\n",
    "Whenever you’re tackling a new project, it can be tempting to dive right into writing code. But more often than not, it’s best to take a step back and consider the bigger picture. I recommend first drawing up a high-level plan for what your program needs to do. Don’t think about the actual code yet—you can worry about that later. Right now, stick to broad strokes.\n",
    "\n",
    "For example, your phone and email address extractor will need to do the following:\n",
    "\n",
    "Get the text off the clipboard.\n",
    "\n",
    "Find all phone numbers and email addresses in the text.\n",
    "\n",
    "Paste them onto the clipboard.\n",
    "\n",
    "Now you can start thinking about how this might work in code. The code will need to do the following:\n",
    "\n",
    "Use the pyperclip module to copy and paste strings.\n",
    "\n",
    "Create two regexes, one for matching phone numbers and the other for matching email addresses.\n",
    "\n",
    "Find all matches, not just the first match, of both regexes.\n",
    "\n",
    "Neatly format the matched strings into a single string to paste.\n",
    "\n",
    "Display some kind of message if no matches were found in the text.\n",
    "\n",
    "This list is like a road map for the project. As you write the code, you can focus on each of these steps separately. Each step is fairly manageable and expressed in terms of things you already know how to do in Python."
   ]
  },
  {
   "cell_type": "code",
   "execution_count": 15,
   "metadata": {},
   "outputs": [
    {
     "name": "stdout",
     "output_type": "stream",
     "text": [
      "No phone numbers or email addresses found.\n"
     ]
    }
   ],
   "source": [
    "#! python3\n",
    "# phoneAndEmail.py - Finds phone numbers and email addresses on the clipboard.\n",
    "\n",
    "import pyperclip, re\n",
    "\n",
    "# Create two regexes, one for matching phone numbers and the other for matching email addresses.\n",
    "phoneRegex = re.compile(r'''(\n",
    "    (\\d{3}|\\(\\d{3}\\))?                # area code, 3 digits or 3 digits within a parentheses\n",
    "    (\\s|-|\\.)?                        # separator (\\s = space, hypen = -, period = .) joined with pipe |\n",
    "    (\\d{3})                           # first 3 digits\n",
    "    (\\s|-|\\.)                         # separator\n",
    "    (\\d{4})                           # last 4 digits\n",
    "    (\\s*(ext|x|ext.)\\s*(\\d{2,5}))?    # extension\n",
    "    )''', re.VERBOSE)\n",
    "\n",
    "# Create regex for email addresses\n",
    "emailRegex = re.compile(r'''(\n",
    "    [a-zA-Z0-9._%+-]+      # username; lowercase and uppercase letters, numbers, a dot, an underscore, signs, hyphen\n",
    "    @                      # @ symbol\n",
    "    [a-zA-Z0-9.-]+         # domain name\n",
    "    (\\.[a-zA-Z]{2,4})      # dot-something\n",
    "    )''', re.VERBOSE)\n",
    "\n",
    "# Find all matches in the clipboard text\n",
    "text = str(pyperclip.paste())\n",
    "matches = [] # create empty list to store variables\n",
    "\n",
    "# Loop through list\n",
    "for groups in phoneRegex.findall(text):\n",
    "    # There is one tuple for each match, and each tuple contains strings for each group in the regular expression. \n",
    "    # Remember that group 0 matches the entire regular expression, so the group at index 0 of the tuple is the one \n",
    "    # you are interested in.\n",
    "    # These groups are the area code, first three digits, last four digits, and extension\n",
    "    phoneNum = '-'.join([groups[1], groups[3], groups[5]])\n",
    "    if groups[8] != '':\n",
    "        phoneNum += ' x' + groups[8]\n",
    "    matches.append(phoneNum)\n",
    "\n",
    "for groups in emailRegex.findall(text):\n",
    "    matches.append(groups[0])\n",
    "\n",
    "# Join the matches into a string for the clipboard\n",
    "# Copy results to the clipboard\n",
    "if len(matches) > 0:\n",
    "    pyperclip.copy('\\n'.join(matches))\n",
    "    print('Copied to clipboard:')\n",
    "    print('\\n'.join(matches))\n",
    "else:\n",
    "    print('No phone numbers or email addresses found.')\n",
    "    "
   ]
  },
  {
   "cell_type": "code",
   "execution_count": 40,
   "metadata": {},
   "outputs": [
    {
     "name": "stdout",
     "output_type": "stream",
     "text": [
      "[('800.420.7240', '800', '.', '420', '.', '7240', '', '', '')]\n",
      "('800.420.7240', '800', '.', '420', '.', '7240', '', '', '')\n",
      "800.420.7240\n",
      "800\n",
      "420\n",
      "7240\n",
      "800-420-7240\n"
     ]
    }
   ],
   "source": [
    "#! python3\n",
    "# phoneAndEmail.py - Finds phone numbers and email addresses on the clipboard.\n",
    "\n",
    "import pyperclip, re\n",
    "\n",
    "# Create two regexes, one for matching phone numbers and the other for matching email addresses.\n",
    "phoneRegex = re.compile(r'''(\n",
    "    (\\d{3}|\\(\\d{3}\\))?                # area code, 3 digits or 3 digits within a parentheses\n",
    "    (\\s|-|\\.)?                        # separator (\\s = space, hypen = -, period = .) joined with pipe |\n",
    "    (\\d{3})                           # first 3 digits\n",
    "    (\\s|-|\\.)                         # separator\n",
    "    (\\d{4})                           # last 4 digits\n",
    "    (\\s*(ext|x|ext.)\\s*(\\d{2,5}))?    # extension\n",
    "    )''', re.VERBOSE)\n",
    "\n",
    "# Find all matches in the clipboard\n",
    "text = str(pyperclip.paste())\n",
    "matches = []\n",
    "\n",
    "# Text\n",
    "mo = phoneRegex.findall('800.420.7240')\n",
    "print(mo) # full text\n",
    "print(mo[0]) # 0th element (which is the list)\n",
    "print(mo[0][0])\n",
    "print(mo[0][1])\n",
    "print(mo[0][3])\n",
    "print(mo[0][5])\n",
    "print('-'.join([mo[0][1], mo[0][3], mo[0][5]]))\n"
   ]
  },
  {
   "cell_type": "code",
   "execution_count": 41,
   "metadata": {},
   "outputs": [
    {
     "name": "stdout",
     "output_type": "stream",
     "text": [
      "['']\n",
      "[',234']\n",
      "[',745']\n",
      "[]\n",
      "[]\n"
     ]
    }
   ],
   "source": [
    "# Match 42, 1,234, 6,368,111 not 12,34,456 or 1234\n",
    "numRegex = re.compile(r'^\\d{1,3}(,\\d{3})*$')\n",
    "print(numRegex.findall('42')) # lacks third digit\n",
    "print(numRegex.findall('1,234'))\n",
    "print(numRegex.findall('6,368,745'))\n",
    "print(numRegex.findall('12,34,567' )) # only has two digits between commas\n",
    "print(numRegex.findall('1234')) # lacks comma"
   ]
  },
  {
   "cell_type": "code",
   "execution_count": 47,
   "metadata": {},
   "outputs": [
    {
     "name": "stdout",
     "output_type": "stream",
     "text": [
      "['Satoshi Nakamoto']\n",
      "['Alice Nakamoto']\n",
      "[]\n",
      "[]\n",
      "['Mr Nakamoto']\n",
      "[]\n"
     ]
    }
   ],
   "source": [
    "# Match full name of someone whose last namem is Nakamoto\n",
    "strRegex = re.compile(r'[A-Z][a-z]*\\sNakamoto') # zero or more letters and theres a space and Nakamoto string\n",
    "print(strRegex.findall('Satoshi Nakamoto'))\n",
    "print(strRegex.findall('Alice Nakamoto'))\n",
    "print(strRegex.findall('satoshi Nakamoto')) # first name is not capitalized\n",
    "print(strRegex.findall('Mr. Nakamoto')) # preceding word has a nonletter character\n",
    "print(strRegex.findall('Mr Nakamoto ')) \n",
    "print(strRegex.findall(' Nakamoto ')) # no first name"
   ]
  },
  {
   "cell_type": "markdown",
   "metadata": {},
   "source": [
    "How would you write a regex that matches a sentence where the first word is either Alice, Bob, or Carol; the second word is either eats, pets, or throws; the third word is apples, cats, or baseballs; and the sentence ends with a period?"
   ]
  },
  {
   "cell_type": "code",
   "execution_count": 57,
   "metadata": {},
   "outputs": [
    {
     "name": "stdout",
     "output_type": "stream",
     "text": [
      "ALice eats apples.\n",
      "[('ALice', 'eats', 'apples')]\n",
      "eats\n",
      "[]\n"
     ]
    }
   ],
   "source": [
    "firstRegex = re.compile(r'(Alice|Bob|Carol)\\s(eats|pets|throws)\\s(apples|cats|baseballs)\\.', re.IGNORECASE)\n",
    "print(firstRegex.search('ALice eats apples.').group())\n",
    "print(firstRegex.findall('ALice eats apples.'))\n",
    "print(firstRegex.findall('ALice eats apples.')[0][1]) # second element\n",
    "\n",
    "print(firstRegex.findall('ALICE THROWS FOOTBALLS.')) # doesnt have required text"
   ]
  },
  {
   "cell_type": "code",
   "execution_count": 62,
   "metadata": {},
   "outputs": [
    {
     "name": "stdout",
     "output_type": "stream",
     "text": [
      "Please enter a string to strip: Write a function that uses regular expressions to make sure the password string it is passed is strong. A strong password is defined as one that is at least eight characters long, contains both uppercase and lowercase characters, and has at least one digit. You may need to test the string against multiple regex patterns to validate its strength.\n",
      "What characters do you want to remove? (Press enter for whitespace.)a-z\n",
      "Write a function that uses regular expressions to make sure the password string it is passed is strong. A strong password is defined as one that is at least eight characters long, contains both uppercase and lowercase characters, and has at least one digit. You may need to test the string against multiple regex patterns to validate its strength.\n"
     ]
    }
   ],
   "source": [
    "#! python3\n",
    "# regex_strip.py\n",
    "\n",
    "\"\"\"\n",
    "Write a function that takes a string and does the same thing as the strip()\n",
    "string method. If no other arguments are passed other than the string to strip,\n",
    "then whitespace characters will be removed from the beginning and end of the\n",
    "string. Otherwise, the characters specified in the second argument to the\n",
    "function will be removed from the string.\n",
    "\"\"\"\n",
    "\n",
    "import re\n",
    "\n",
    "test_string = input('Please enter a string to strip: ')\n",
    "char_rm = input('What characters do you want to remove? (Press enter for whitespace.)')\n",
    "\n",
    "# This function takes in two argument. A string to strip and optional second argument to strip a removing character.\n",
    "# The first if statement is run if the user does input a second argument. It strips the char/string provided.\n",
    "# Your re.compile will use your second argument as its argument (or whitespace if none) and sub the\n",
    "# whitespace. The whitespace will need to be removed from the beginning and end, so it will take\n",
    "# two regex. As always, ensure your characters are in the right order! To check that all white\n",
    "# spaces are removed print out the length of the new string.\n",
    "def white_strip(string, remove):\n",
    "    if remove != '':\n",
    "        strip_regex = re.compile(remove)\n",
    "        new_string = strip_regex.sub('', string)\n",
    "        return new_string\n",
    "    else:\n",
    "        strip_regex = re.compile('^\\s*')\n",
    "        new_string = strip_regex.sub('', string)\n",
    "        strip_regex = re.compile('\\s*$')\n",
    "        new_string = strip_regex.sub('', new_string)\n",
    "        return new_string\n",
    "\n",
    "\n",
    "new_string = white_strip(test_string, char_rm)\n",
    "print(new_string)"
   ]
  },
  {
   "cell_type": "code",
   "execution_count": 63,
   "metadata": {},
   "outputs": [
    {
     "name": "stdout",
     "output_type": "stream",
     "text": [
      "Please type in a password:\n",
      "a\n",
      "Sorry, your password is not strong enough\n"
     ]
    },
    {
     "data": {
      "text/plain": [
       "\"\\nThis is an alternate way you can write this function. If you don't want to iterate through a loop\\nand add a count iterator, then you can create an if loop with each regex separately. The first time\\nit fails it will return a statement saying your password isn't strong enough. If it makes it through\\nthe end then the password is strong enough\\ndef is_strong_pw(password):\\n    if pw_reg_1.search(password) is None:\\n        return 'Your password is not strong enough'\\n    if pw_reg_2.search(password) is None:\\n        return 'Your password is not strong enough'\\n    if pw_reg_3.search(password) is None:\\n        return 'Your password is not strong enough'\\n    if pw_reg_4.search(password) is None:\\n        return 'Your password is not strong enough'\\n    if pw_reg_5.search(password) is None:\\n        return 'Your password is not strong enough'\\n    else:\\n        return 'Congrats! Your password will suffice!'\\npw_reg_1 = re.compile(r'[a-z]+')\\npw_reg_2 = re.compile(r'[A-Z]+')\\npw_reg_3 = re.compile(r'[0-9]+')\\npw_reg_4 = re.compile(r'[!@#$^&*()]+')\\npw_reg_5 = re.compile(r'.{8,}')\\n\""
      ]
     },
     "execution_count": 63,
     "metadata": {},
     "output_type": "execute_result"
    }
   ],
   "source": [
    "#! python3\n",
    "# strong_password_detection.py\n",
    "\n",
    "\"\"\"\n",
    "Write a function that uses regular expressions to make sure the password\n",
    "string it is passed is strong. A strong password is defined as one that\n",
    "is at least eight characters long, contains both uppercase and lowercase\n",
    "characters, and has at least one digit. You may need to test the string\n",
    "against multiple regex patterns to validate its strength.\n",
    "\"\"\"\n",
    "\n",
    "import re\n",
    "\n",
    "# First, create regex's that meet all expectations given by the problem. There should be\n",
    "# 1) at least 8 characters\n",
    "# 2) at least one upper case\n",
    "# 3) at least one lower case\n",
    "# 4) at least one number\n",
    "# Regex can be tricky! Make sure you have all symbols, paretheses, and escape characters\n",
    "# placed in the correct spot. This may take some practice! It may help to test each regex\n",
    "# one at a time until you get used to it.\n",
    "length_regex = re.compile('.{8,}') # 8 characters long\n",
    "lower_case_regex = re.compile('[a-z]+') # contains lowercase characters\n",
    "upper_case_regex = re.compile('[A-Z]+') # contains uppercase characters\n",
    "digit_regex = re.compile('[\\d]+') # contains at least 1 digit\n",
    "\n",
    "# Create a regex list of of the ones created above.\n",
    "regex_list = [length_regex,\n",
    "              lower_case_regex,\n",
    "              upper_case_regex,\n",
    "              digit_regex]\n",
    "\n",
    "# For this, I initiated a regex_count and set it to 0 right when the function starts. This will\n",
    "# be used later if the password meets expectations. The for loops will loop over each regex and\n",
    "# break out of the loop if it doesn't meet one of the criteria. If it makes it through each one\n",
    "# successfully, regex_count adds a 1 to its value. Once the loop is finished and has 4 successful\n",
    "# regex searches then it will print a message saying your password is strong enough.\n",
    "def strong_password(password):\n",
    "    regex_count = 0\n",
    "    for regex in regex_list:\n",
    "        if regex.search(password) is None:\n",
    "            print('Sorry, your password is not strong enough')\n",
    "            break\n",
    "        else:\n",
    "            regex_count += 1\n",
    "            continue\n",
    "    if regex_count is 4:\n",
    "        print('Congrats. Your password is strong enough!')\n",
    "\n",
    "# User input to type in a password\n",
    "pw = input('Please type in a password:\\n')\n",
    "strong_password(pw)\n",
    "\n",
    "# Below is a list of passwords you can test. Copy it into your code and remove the comments\n",
    "pw_test1 = 'testpw'\n",
    "pw_test2 = 'Testpw'\n",
    "pw_test3 = 'TESTPW'\n",
    "pw_test4 = 'TESTPW123'\n",
    "pw_test5 = 'Testpw123'\n",
    "pw_test6 = 'TESTPW123!@#'\n",
    "pw_test7 = 'Tb1@Tb1@'\n",
    "pw_test8 = 'TestPW123'\n",
    "pw_test9 = '!@345ssfe@#23T4'\n",
    "\n",
    "strong_password(pw_test1)\n",
    "strong_password(pw_test2)\n",
    "strong_password(pw_test3)\n",
    "strong_password(pw_test4)\n",
    "strong_password(pw_test5)\n",
    "strong_password(pw_test6)\n",
    "strong_password(pw_test7)\n",
    "strong_password(pw_test8)\n",
    "strong_password(pw_test9)\n",
    "\n",
    "\"\"\"\n",
    "This is an alternate way you can write this function. If you don't want to iterate through a loop\n",
    "and add a count iterator, then you can create an if loop with each regex separately. The first time\n",
    "it fails it will return a statement saying your password isn't strong enough. If it makes it through\n",
    "the end then the password is strong enough\n",
    "def is_strong_pw(password):\n",
    "    if pw_reg_1.search(password) is None:\n",
    "        return 'Your password is not strong enough'\n",
    "    if pw_reg_2.search(password) is None:\n",
    "        return 'Your password is not strong enough'\n",
    "    if pw_reg_3.search(password) is None:\n",
    "        return 'Your password is not strong enough'\n",
    "    if pw_reg_4.search(password) is None:\n",
    "        return 'Your password is not strong enough'\n",
    "    if pw_reg_5.search(password) is None:\n",
    "        return 'Your password is not strong enough'\n",
    "    else:\n",
    "        return 'Congrats! Your password will suffice!'\n",
    "pw_reg_1 = re.compile(r'[a-z]+')\n",
    "pw_reg_2 = re.compile(r'[A-Z]+')\n",
    "pw_reg_3 = re.compile(r'[0-9]+')\n",
    "pw_reg_4 = re.compile(r'[!@#$^&*()]+')\n",
    "pw_reg_5 = re.compile(r'.{8,}')\n",
    "\"\"\""
   ]
  }
 ],
 "metadata": {
  "kernelspec": {
   "display_name": "Python 3",
   "language": "python",
   "name": "python3"
  },
  "language_info": {
   "codemirror_mode": {
    "name": "ipython",
    "version": 3
   },
   "file_extension": ".py",
   "mimetype": "text/x-python",
   "name": "python",
   "nbconvert_exporter": "python",
   "pygments_lexer": "ipython3",
   "version": "3.7.3"
  }
 },
 "nbformat": 4,
 "nbformat_minor": 2
}
