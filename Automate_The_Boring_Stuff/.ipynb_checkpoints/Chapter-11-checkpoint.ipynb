{
 "cells": [
  {
   "cell_type": "markdown",
   "metadata": {},
   "source": [
    "### Web Scraping\n",
    "\n",
    "In those rare, terrifying moments when I’m without Wi-Fi, I realize just how much of what I do on the computer is really what I do on the Internet. Out of sheer habit I’ll find myself trying to check email, read friends’ Twitter feeds, or answer the question, “Did Kurtwood Smith have any major roles before he was in the original 1987 Robocop?”[2]\n",
    "\n",
    "Since so much work on a computer involves going on the Internet, it’d be great if your programs could get online. Web scraping is the term for using a program to download and process content from the Web. For example, Google runs many web scraping programs to index web pages for its search engine. In this chapter, you will learn about several modules that make it easy to scrape web pages in Python.\n",
    "\n",
    "    webbrowser. Comes with Python and opens a browser to a specific page.\n",
    "\n",
    "    Requests. Downloads files and web pages from the Internet.\n",
    "\n",
    "    Beautiful Soup. Parses HTML, the format that web pages are written in.\n",
    "\n",
    "    Selenium. Launches and controls a web browser. Selenium is able to fill in forms and simulate mouse clicks in this browser.\n",
    "\n"
   ]
  },
  {
   "cell_type": "markdown",
   "metadata": {},
   "source": [
    "### Project: mapit.py with the webbrowser Module"
   ]
  },
  {
   "cell_type": "code",
   "execution_count": 1,
   "metadata": {},
   "outputs": [],
   "source": [
    "import webbrowser"
   ]
  },
  {
   "cell_type": "code",
   "execution_count": 2,
   "metadata": {},
   "outputs": [
    {
     "data": {
      "text/plain": [
       "True"
      ]
     },
     "execution_count": 2,
     "metadata": {},
     "output_type": "execute_result"
    }
   ],
   "source": [
    "webbrowser.open('http://inventwithpython.com/')"
   ]
  },
  {
   "cell_type": "markdown",
   "metadata": {},
   "source": [
    "This is about the only thing the webbrowser module can do. Even so, the open() function does make some interesting things possible. For example, it’s tedious to copy a street address to the clipboard and bring up a map of it on Google Maps. You could take a few steps out of this task by writing a simple script to automatically launch the map in your browser using the contents of your clipboard. This way, you only have to copy the address to a clipboard and run the script, and the map will be loaded for you.\n",
    "\n",
    "This is what your program does:\n",
    "\n",
    "    Gets a street address from the command line arguments or clipboard.\n",
    "\n",
    "    Opens the web browser to the Google Maps page for the address.\n",
    "\n",
    "This means your code will need to do the following:\n",
    "\n",
    "    Read the command line arguments from sys.argv.\n",
    "\n",
    "    Read the clipboard contents.\n",
    "\n",
    "    Call the webbrowser.open() function to open the web browser.\n",
    "\n",
    "Open a new file editor window and save it as mapIt.py."
   ]
  },
  {
   "cell_type": "markdown",
   "metadata": {},
   "source": [
    "#### Step 1: Figure Out the URL\n",
    "\n",
    "Based on the instructions in Appendix B, set up mapIt.py so that when you run it from the command line, like so...\n",
    "\n",
    "C:\\> mapit 870 Valencia St, San Francisco, CA 94110\n",
    "\n",
    "... the script will use the command line arguments instead of the clipboard. If there are no command line arguments, then the program will know to use the contents of the clipboard.\n",
    "\n",
    "First you need to figure out what URL to use for a given street address. When you load http://maps.google.com/ in the browser and search for an address, the URL in the address bar looks something like this: https://www.google.com/maps/place/870+Valencia+St/@37.7590311,-122.4215096,17z/data=!3m1!4b1!4m2!3m1!1s0x808f7e3dadc07a37:0xc86b0b2bb93b73d8.\n",
    "\n",
    "The address is in the URL, but there’s a lot of additional text there as well. Websites often add extra data to URLs to help track visitors or customize sites. But if you try just going to https://www.google.com/maps/place/870+Valencia+St+San+Francisco+CA/, you’ll find that it still brings up the correct page. So your program can be set to open a web browser to 'https://www.google.com/maps/place/your_address_string' (where your_address_string is the address you want to map)."
   ]
  },
  {
   "cell_type": "markdown",
   "metadata": {},
   "source": [
    "#### Step 2: Handle the Command Line Arguments"
   ]
  },
  {
   "cell_type": "code",
   "execution_count": 3,
   "metadata": {},
   "outputs": [],
   "source": [
    "#! python3\n",
    "# mapIt.py - Launches a map in the browser using an address from the command line or clipboard\n",
    "\n",
    "import webbrowser, sys\n",
    "if len(sys.argv) > 1:\n",
    "    # Get address\n",
    "    address = ''.join(sys.argv[1:]) # [1:] to get all of the strings (elements) in the list"
   ]
  },
  {
   "cell_type": "markdown",
   "metadata": {},
   "source": [
    "After the program’s #! shebang line, you need to import the webbrowser module for launching the browser and import the sys module for reading the potential command line arguments. The sys.argv variable stores a list of the program’s filename and command line arguments. If this list has more than just the filename in it, then len(sys.argv) evaluates to an integer greater than 1, meaning that command line arguments have indeed been provided.\n",
    "\n",
    "Command line arguments are usually separated by spaces, but in this case, you want to interpret all of the arguments as a single string. Since sys.argv is a list of strings, you can pass it to the join() method, which returns a single string value. You don’t want the program name in this string, so instead of sys.argv, you should pass sys.argv[1:] to chop off the first element of the array. The final string that this expression evaluates to is stored in the address variable.\n",
    "\n",
    "If you run the program by entering this into the command line...\n",
    "\n",
    "mapit 870 Valencia St, San Francisco, CA 94110\n",
    "\n",
    "... the sys.argv variable will contain this list value:\n",
    "\n",
    "['mapIt.py', '870', 'Valencia', 'St, ', 'San', 'Francisco, ', 'CA', '94110']\n",
    "\n",
    "The address variable will contain the string '870 Valencia St, San Francisco, CA 94110'."
   ]
  },
  {
   "cell_type": "markdown",
   "metadata": {},
   "source": [
    "#### Step 3: Handle the Clipboard Content and Launch the Browser"
   ]
  },
  {
   "cell_type": "code",
   "execution_count": 4,
   "metadata": {},
   "outputs": [],
   "source": [
    "#! python3\n",
    "# mapIt.py - Launches a map in the browser using an address from the command line or clipboard\n",
    "\n",
    "import webbrowser, sys, pyperclip\n",
    "\n",
    "if len(sys.argv) > 1:\n",
    "    # Get address from command line\n",
    "    address = ''.join(sys.argv[1:]) # [1:] to get all of the strings (elements) in the list\n",
    "else:\n",
    "    # Get address from clipboard\n",
    "    address = pyperclip.paste()"
   ]
  },
  {
   "cell_type": "code",
   "execution_count": 7,
   "metadata": {},
   "outputs": [
    {
     "data": {
      "text/plain": [
       "True"
      ]
     },
     "execution_count": 7,
     "metadata": {},
     "output_type": "execute_result"
    }
   ],
   "source": [
    "webbrowser.open('https://www.google.com/maps/place/' + address)"
   ]
  },
  {
   "cell_type": "markdown",
   "metadata": {},
   "source": [
    "If there are no command line arguments, the program will assume the address is stored on the clipboard. You can get the clipboard content with pyperclip.paste() and store it in a variable named address. Finally, to launch a web browser with the Google Maps URL, call webbrowser.open().\n",
    "\n",
    "While some of the programs you write will perform huge tasks that save you hours, it can be just as satisfying to use a program that conveniently saves you a few seconds each time you perform a common task, such as getting a map of an address. Table 11-1 compares the steps needed to display a map with and without mapIt.py."
   ]
  },
  {
   "cell_type": "markdown",
   "metadata": {},
   "source": [
    "### Ideas for Similar Programs\n",
    "\n",
    "As long as you have a URL, the webbrowser module lets users cut out the step of opening the browser and directing themselves to a website. Other programs could use this functionality to do the following:\n",
    "\n",
    "    Open all links on a page in separate browser tabs.\n",
    "\n",
    "    Open the browser to the URL for your local weather.\n",
    "\n",
    "    Open several social network sites that you regularly check.\n",
    "\n"
   ]
  },
  {
   "cell_type": "markdown",
   "metadata": {},
   "source": [
    "### Downloading Files from the Web with the requests Module\n",
    "\n",
    "The requests module lets you easily download files from the Web without having to worry about complicated issues such as network errors, connection problems, and data compression. The requests module doesn’t come with Python, so you’ll have to install it first. From the command line, run pip install requests. (Appendix A has additional details on how to install third-party modules.)\n",
    "\n",
    "The requests module was written because Python’s urllib2 module is too complicated to use. In fact, take a permanent marker and black out this entire paragraph. Forget I ever mentioned urllib2. If you need to download things from the Web, just use the requests module.\n",
    "\n",
    "Next, do a simple test to make sure the requests module installed itself correctly. "
   ]
  },
  {
   "cell_type": "code",
   "execution_count": 8,
   "metadata": {},
   "outputs": [],
   "source": [
    "import requests"
   ]
  },
  {
   "cell_type": "markdown",
   "metadata": {},
   "source": [
    "### Downloading a Web Page with the requests.get() Function\n",
    "\n",
    "The requests.get() function takes a string of a URL to download. By calling type() on requests.get()’s return value, you can see that it returns a Response object, which contains the response that the web server gave for your request. I’ll explain the Response object in more detail later, but for now, enter the following into the interactive shell while your computer is connected to the Internet:"
   ]
  },
  {
   "cell_type": "code",
   "execution_count": 9,
   "metadata": {},
   "outputs": [
    {
     "data": {
      "text/plain": [
       "<Response [200]>"
      ]
     },
     "execution_count": 9,
     "metadata": {},
     "output_type": "execute_result"
    }
   ],
   "source": [
    "import requests\n",
    "res = requests.get('https://automatetheboringstuff.com/files/rj.txt') # return a web server response obj\n",
    "res"
   ]
  },
  {
   "cell_type": "code",
   "execution_count": 10,
   "metadata": {},
   "outputs": [
    {
     "data": {
      "text/plain": [
       "requests.models.Response"
      ]
     },
     "execution_count": 10,
     "metadata": {},
     "output_type": "execute_result"
    }
   ],
   "source": [
    "type(res)"
   ]
  },
  {
   "cell_type": "code",
   "execution_count": 13,
   "metadata": {},
   "outputs": [
    {
     "data": {
      "text/plain": [
       "True"
      ]
     },
     "execution_count": 13,
     "metadata": {},
     "output_type": "execute_result"
    }
   ],
   "source": [
    "res.status_code == requests.codes.ok"
   ]
  },
  {
   "cell_type": "code",
   "execution_count": 14,
   "metadata": {},
   "outputs": [
    {
     "data": {
      "text/plain": [
       "178978"
      ]
     },
     "execution_count": 14,
     "metadata": {},
     "output_type": "execute_result"
    }
   ],
   "source": [
    "len(res.text)"
   ]
  },
  {
   "cell_type": "code",
   "execution_count": 15,
   "metadata": {},
   "outputs": [
    {
     "name": "stdout",
     "output_type": "stream",
     "text": [
      "The Project Gutenberg EBook of Romeo and Juliet, by William Shakespeare\r\n",
      "\r\n",
      "This eBook is for the use of anyone anywhere at no cost and with\r\n",
      "almost no restrictions whatsoever.  You may copy it, give it away or\r\n",
      "re-use it under the terms of the Projec\n"
     ]
    }
   ],
   "source": [
    "print(res.text[:250])"
   ]
  },
  {
   "cell_type": "markdown",
   "metadata": {},
   "source": [
    "The URL goes to a text web page for the entire play of Romeo and Juliet. You can tell that the request for this web page succeeded by checking the status_code attribute of the Response object. If it is equal to the value of requests.codes.ok, then everything went fine ❶. (Incidentally, the status code for “OK” in the HTTP protocol is 200. You may already be familiar with the 404 status code for “Not Found.”)\n",
    "\n",
    "If the request succeeded, the downloaded web page is stored as a string in the Response object’s text variable. This variable holds a large string of the entire play; the call to len(res.text) shows you that it is more than 178,000 characters long. Finally, calling print(res.text[:250]) displays only the first 250 characters."
   ]
  },
  {
   "cell_type": "code",
   "execution_count": 19,
   "metadata": {},
   "outputs": [
    {
     "data": {
      "text/plain": [
       "'The Project Gutenberg EBook of Romeo and Juliet, by William Shakespeare\\r\\n\\r\\nThis eBook is for the use of anyone anywhere at no cost and with\\r\\nalmost no restrictions whatsoever.  You may copy it, give i'"
      ]
     },
     "execution_count": 19,
     "metadata": {},
     "output_type": "execute_result"
    }
   ],
   "source": [
    "requests.get('https://automatetheboringstuff.com/files/rj.txt').text[0:200]"
   ]
  },
  {
   "cell_type": "markdown",
   "metadata": {},
   "source": [
    "### Checking for Errors\n",
    "\n",
    "As you’ve seen, the Response object has a status_code attribute that can be checked against requests.codes.ok to see whether the download succeeded. A simpler way to check for success is to call the raise_for_status() method on the Response object. This will raise an exception if there was an error downloading the file and will do nothing if the download succeeded."
   ]
  },
  {
   "cell_type": "code",
   "execution_count": 21,
   "metadata": {},
   "outputs": [
    {
     "name": "stdout",
     "output_type": "stream",
     "text": [
      "There was a problem: 404 Client Error: Not Found for url: http://inventwithpython.com/page_that_does_not_exist\n"
     ]
    }
   ],
   "source": [
    "import requests\n",
    "res = requests.get('http://inventwithpython.com/page_that_does_not_exist')\n",
    "try:\n",
    "    res.raise_for_status() # method to ensure that a program halts if a bad download occurs\n",
    "except Exception as exc:\n",
    "    print('There was a problem: %s' % (exc))"
   ]
  },
  {
   "cell_type": "markdown",
   "metadata": {},
   "source": [
    "Always call raise_for_status() after calling requests.get(). You want to be sure that the download has actually worked before your program continues."
   ]
  },
  {
   "cell_type": "markdown",
   "metadata": {},
   "source": [
    "### Saving Downloaded Files to the Hard Drive\n",
    "\n",
    "From here, you can save the web page to a file on your hard drive with the standard open() function and write() method. There are some slight differences, though. First, you must open the file in write binary mode by passing the string 'wb' as the second argument to open(). Even if the page is in plaintext (such as the Romeo and Juliet text you downloaded earlier), you need to write binary data instead of text data in order to maintain the Unicode encoding of the text.\n",
    "\n",
    "Unicode Encodings\n",
    "\n",
    "Unicode encodings are beyond the scope of this book, but you can learn more about them from these web pages:\n",
    "\n",
    "    Joel on Software: The Absolute Minimum Every Software Developer Absolutely, Positively Must Know About Unicode and Character Sets (No Excuses!): http://www.joelonsoftware.com/articles/Unicode.html\n",
    "\n",
    "    Pragmatic Unicode: http://nedbatchelder.com/text/unipain.html\n",
    "\n",
    "To write the web page to a file, you can use a for loop with the Response object’s iter_content() method."
   ]
  },
  {
   "cell_type": "code",
   "execution_count": 25,
   "metadata": {},
   "outputs": [
    {
     "name": "stdout",
     "output_type": "stream",
     "text": [
      "C:\\Users\\David Ly\\Documents\\Programming\\Python\\Automate_The_Boring_Stuff\\Projects\\Chapter 11\n"
     ]
    }
   ],
   "source": [
    "import os\n",
    "os.getcwd()\n",
    "os.chdir('C:\\\\Users\\\\David Ly\\\\Documents\\\\Programming\\\\Python\\\\Automate_The_Boring_Stuff\\\\Projects\\\\Chapter 11\\\\')\n",
    "print(os.getcwd())"
   ]
  },
  {
   "cell_type": "code",
   "execution_count": 26,
   "metadata": {},
   "outputs": [],
   "source": [
    "import requests"
   ]
  },
  {
   "cell_type": "code",
   "execution_count": 27,
   "metadata": {},
   "outputs": [],
   "source": [
    "res = requests.get('https://automatetheboringstuff.com/files/rj.txt')"
   ]
  },
  {
   "cell_type": "code",
   "execution_count": 29,
   "metadata": {},
   "outputs": [],
   "source": [
    "res.raise_for_status()"
   ]
  },
  {
   "cell_type": "code",
   "execution_count": 30,
   "metadata": {},
   "outputs": [],
   "source": [
    "playFile = open('RomeoAndJuliet.txt', 'wb')"
   ]
  },
  {
   "cell_type": "code",
   "execution_count": 31,
   "metadata": {},
   "outputs": [],
   "source": [
    "for chunk in res.iter_content(100000): # returns “chunks” of the content on each iteration through the loop\n",
    "    playFile.write(chunk)"
   ]
  },
  {
   "cell_type": "code",
   "execution_count": 32,
   "metadata": {},
   "outputs": [],
   "source": [
    "playFile.close()"
   ]
  },
  {
   "cell_type": "markdown",
   "metadata": {},
   "source": [
    "The iter_content() method returns “chunks” of the content on each iteration through the loop. Each chunk is of the bytes data type, and you get to specify how many bytes each chunk will contain. One hundred thousand bytes is generally a good size, so pass 100000 as the argument to iter_content().\n",
    "\n",
    "The file RomeoAndJuliet.txt will now exist in the current working directory. Note that while the filename on the website was rj.txt, the file on your hard drive has a different filename. The requests module simply handles downloading the contents of web pages. Once the page is downloaded, it is simply data in your program. Even if you were to lose your Internet connection after downloading the web page, all the page data would still be on your computer.\n",
    "\n",
    "The write() method returns the number of bytes written to the file. In the previous example, there were 100,000 bytes in the first chunk, and the remaining part of the file needed only 78,981 bytes.\n",
    "\n",
    "To review, here’s the complete process for downloading and saving a file:\n",
    "\n",
    "    Call requests.get() to download the file.\n",
    "\n",
    "    Call open() with 'wb' to create a new file in write binary mode.\n",
    "\n",
    "    Loop over the Response object’s iter_content() method.\n",
    "\n",
    "    Call write() on each iteration to write the content to the file.\n",
    "\n",
    "    Call close() to close the file.\n",
    "\n",
    "That’s all there is to the requests module! The for loop and iter_content() stuff may seem complicated compared to the open()/write()/close() workflow you’ve been using to write text files, but it’s to ensure that the requests module doesn’t eat up too much memory even if you download massive files. You can learn about the requests module’s other features from http://requests.readthedocs.org/."
   ]
  },
  {
   "cell_type": "markdown",
   "metadata": {},
   "source": [
    "### HTML\n",
    "\n",
    "Before you pick apart web pages, you’ll learn some HTML basics. You’ll also see how to access your web browser’s powerful developer tools, which will make scraping information from the Web much easier.\n",
    "\n",
    "#### Resources for Learning HTML\n",
    "\n",
    "Hypertext Markup Language (HTML) is the format that web pages are written in. This chapter assumes you have some basic experience with HTML, but if you need a beginner tutorial, I suggest one of the following sites:\n",
    "\n",
    "    http://htmldog.com/guides/html/beginner/\n",
    "\n",
    "    http://www.codecademy.com/tracks/web/\n",
    "\n",
    "    https://developer.mozilla.org/en-US/learn/html/\n",
    "\n",
    "#### A Quick Refresher\n",
    "\n",
    "In case it’s been a while since you’ve looked at any HTML, here’s a quick overview of the basics. An HTML file is a plaintext file with the .html file extension. The text in these files is surrounded by tags, which are words enclosed in angle brackets. The tags tell the browser how to format the web page. A starting tag and closing tag can enclose some text to form an element. The text (or inner HTML) is the content between the starting and closing tags. For example, the following HTML will display Hello world! in the browser, with Hello in bold:"
   ]
  },
  {
   "cell_type": "markdown",
   "metadata": {},
   "source": [
    "The opening <strong> tag says that the enclosed text will appear in bold. The closing </strong> tags tells the browser where the end of the bold text is.\n",
    "\n",
    "There are many different tags in HTML. Some of these tags have extra properties in the form of attributes within the angle brackets. For example, the <a> tag encloses text that should be a link. The URL that the text links to is determined by the href attribute. Here’s an example:\n",
    "\n",
    "Al's free <a href=\"http://inventwithpython.com\">Python books</a>.\n",
    "\n",
    "Some elements have an id attribute that is used to uniquely identify the element in the page. You will often instruct your programs to seek out an element by its id attribute, so figuring out an element’s id attribute using the browser’s developer tools is a common task in writing web scraping programs."
   ]
  },
  {
   "cell_type": "markdown",
   "metadata": {},
   "source": [
    "#### Don’t Use Regular Expressions to Parse HTML\n",
    "\n",
    "Locating a specific piece of HTML in a string seems like a perfect case for regular expressions. However, I advise you against it. There are many different ways that HTML can be formatted and still be considered valid HTML, but trying to capture all these possible variations in a regular expression can be tedious and error prone. A module developed specifically for parsing HTML, such as Beautiful Soup, will be less likely to result in bugs."
   ]
  },
  {
   "cell_type": "markdown",
   "metadata": {},
   "source": [
    "### Using the Developer Tools to Find HTML Elements\n",
    "\n",
    "Once your program has downloaded a web page using the requests module, you will have the page’s HTML content as a single string value. Now you need to figure out which part of the HTML corresponds to the information on the web page you’re interested in.\n",
    "\n",
    "This is where the browser’s developer tools can help. Say you want to write a program to pull weather forecast data from http://weather.gov/. Before writing any code, do a little research. If you visit the site and search for the 94105 ZIP code, the site will take you to a page showing the forecast for that area.\n",
    "\n",
    "What if you’re interested in scraping the temperature information for that ZIP code? Right-click where it is on the page (or CONTROL-click on OS X) and select Inspect Element from the context menu that appears. This will bring up the Developer Tools window, which shows you the HTML that produces this particular part of the web page. Figure 11-5 shows the developer tools open to the HTML of the temperature."
   ]
  },
  {
   "cell_type": "markdown",
   "metadata": {},
   "source": [
    "From the developer tools, you can see that the HTML responsible for the temperature part of the web page is \n",
    "\n",
    "< p class=\"myforecast-current -lrg\">59°F < /p >.\n",
    "\n",
    "This is exactly what you were looking for! It seems that the temperature information is contained inside a <p> element with the myforecast-current-lrg class. Now that you know what you’re looking for, the BeautifulSoup module will help you find it in the string."
   ]
  },
  {
   "cell_type": "markdown",
   "metadata": {},
   "source": [
    "### Parsing HTML with the BeautifulSoup Module\n",
    "\n",
    "Beautiful Soup is a module for extracting information from an HTML page (and is much better for this purpose than regular expressions). The BeautifulSoup module’s name is bs4 (for Beautiful Soup, version 4). To install it, you will need to run pip install beautifulsoup4 from the command line. (Check out Appendix A for instructions on installing third-party modules.) While beautifulsoup4 is the name used for installation, to import Beautiful Soup you run import bs4.\n",
    "\n",
    "For this chapter, the Beautiful Soup examples will parse (that is, analyze and identify the parts of) an HTML file on the hard drive. Open a new file editor window in IDLE, enter the following, and save it as example.html. Alternatively, download it from http://nostarch.com/automatestuff/."
   ]
  },
  {
   "cell_type": "raw",
   "metadata": {},
   "source": [
    "<!-- This is the example.html example file. -->\n",
    "\n",
    "<html><head><title>The Website Title</title></head>\n",
    "<body>\n",
    "<p>Download my <strong>Python</strong> book from <a href=\"http://\n",
    "inventwithpython.com\">my website</a>.</p>\n",
    "<p class=\"slogan\">Learn Python the easy way!</p>\n",
    "<p>By <span id=\"author\">Al Sweigart</span></p>\n",
    "</body></html>"
   ]
  },
  {
   "cell_type": "markdown",
   "metadata": {},
   "source": [
    "As you can see, even a simple HTML file involves many different tags and attributes, and matters quickly get confusing with complex websites. Thankfully, Beautiful Soup makes working with HTML much easier."
   ]
  },
  {
   "cell_type": "markdown",
   "metadata": {},
   "source": [
    "### Creating a BeautifulSoup Object from HTML\n",
    "\n",
    "The bs4.BeautifulSoup() function needs to be called with a string containing the HTML it will parse. The bs4.BeautifulSoup() function returns is a BeautifulSoup object. Enter the following into the interactive shell while your computer is connected to the Internet:"
   ]
  },
  {
   "cell_type": "code",
   "execution_count": 33,
   "metadata": {},
   "outputs": [],
   "source": [
    "import requests\n",
    "import bs4\n",
    "\n",
    "res = requests.get('http://nostarch.com')"
   ]
  },
  {
   "cell_type": "code",
   "execution_count": 35,
   "metadata": {},
   "outputs": [
    {
     "name": "stdout",
     "output_type": "stream",
     "text": [
      "None\n"
     ]
    }
   ],
   "source": [
    "print(res.raise_for_status())"
   ]
  },
  {
   "cell_type": "code",
   "execution_count": 37,
   "metadata": {},
   "outputs": [
    {
     "name": "stdout",
     "output_type": "stream",
     "text": [
      "<!DOCTYPE html>\n",
      "\n",
      "<html dir=\"ltr\" lang=\"en\">\n",
      "<head>\n",
      "<link href=\"https://www.w3.org/1999/xhtml/vocab\" rel=\"profile\"/>\n",
      "<meta content=\"width=device-width, initial-scale=1.0\" name=\"viewport\"/>\n",
      "<meta content=\"text/html; charset=utf-8\" http-equiv=\"Content-Type\">\n",
      "<link href=\"https://nostarch.com/sites/default/files/favicon.ico\" rel=\"shortcut icon\" type=\"image/vnd.microsoft.icon\"/>\n",
      "<meta content=\"Drupal 7 (http://drupal.org)\" name=\"generator\"/>\n",
      "<link href=\"https://nostarch.com/\" rel=\"canonical\"/>\n",
      "<link href=\"https://nostarch.com/\" rel=\"shortlink\"/>\n",
      "<title>No Starch Press | \"The finest in geek entertainment\"</title>\n",
      "<link href=\"https://nostarch.com/sites/default/files/css/css_lQaZfjVpwP_oGNqdtWCSpJT1EMqXdMiU84ekLLxQnc4.css\" media=\"all\" rel=\"stylesheet\" type=\"text/css\"/>\n",
      "<link href=\"https://nostarch.com/sites/default/files/css/css_iJE8OMtNhvOQPbQGg8OqRmpr7AhRCfmCisQy8q7fFhk.css\" media=\"all\" rel=\"stylesheet\" type=\"text/css\"/>\n",
      "<link href=\"https://nostarch.com/sites/default/files/css/css_BJ5zHbAea-HWw-_w0lT6nVVAT7fqo0WF8BAXmG7LOnE.css\" media=\"all\" rel=\"stylesheet\" type=\"text/css\"/>\n",
      "<link href=\"https://nostarch.com/sites/default/files/css/css_AwOJVn3jdGwAWV_K-lDvOjtfrwgvh3Kzpwk64De7ebk.css\" media=\"all\" rel=\"stylesheet\" type=\"text/css\"/>\n",
      "<!--[if lt IE 9]>\n",
      "    <script src=\"https://cdn.jsdelivr.net/html5shiv/3.7.3/html5shiv-printshiv.min.js\"></script>\n",
      "  <![endif]-->\n",
      "<script>window.google_analytics_uacct = \"UA-5027625-1\";</script>\n",
      "<script src=\"//ajax.googleapis.com/ajax/libs/jquery/1.10.2/jquery.min.js\"></script>\n",
      "<script>window.jQuery || document.write(\"<script src='/sites/all/modules/contrib/jquery_update/replace/jquery/1.10/jquery.min.js'>\\x3C/script>\")</script>\n",
      "<script src=\"https://nostarch.com/sites/default/files/js/js_dWhBODswdXXk1M5Z5nyqNfGljmqwxUwAK9i6D0YSDNs.js\"></script>\n",
      "<script src=\"https://nostarch.com/sites/default/files/js/js_BLxotNs2yt7YGlf9QRI9L9AMfdnkQfnN-_ADBTW3SiE.js\"></script>\n",
      "<script src=\"https://nostarch.com/sites/default/files/js/js_FvBWezKhsGxJU-Yi41qvYAlpXctdNNR7mIzff4prZrg.js\"></script>\n",
      "<script src=\"https://nostarch.com/sites/default/files/js/js_6Spc7ERWOZXyQTXlXa2q4jWUjdcgOrxbsEDOT3I1Ous.js\"></script>\n",
      "<script>(function(i,s,o,g,r,a,m){i[\"GoogleAnalyticsObject\"]=r;i[r]=i[r]||function(){(i[r].q=i[r].q||[]).push(arguments)},i[r].l=1*new Date();a=s.createElement(o),m=s.getElementsByTagName(o)[0];a.async=1;a.src=g;m.parentNode.insertBefore(a,m)})(window,document,\"script\",\"https://www.google-analytics.com/analytics.js\",\"ga\");ga(\"create\", \"UA-5027625-1\", {\"cookieDomain\":\"auto\"});ga(\"set\", \"anonymizeIp\", true);ga(\"send\", \"pageview\");</script>\n",
      "<script src=\"https://nostarch.com/sites/default/files/js/js_YVgz8u7U_iU4-YMa-K5LKZE5ZLG-tMsX72JC46wjRZM.js\"></script>\n",
      "<script src=\"https://nostarch.com/sites/default/files/js/js_mBQQnv2jfT7hV2YFgICrM1KFECoRoI4UlzREm5pJWyg.js\"></script>\n",
      "<script>jQuery.extend(Drupal.settings, {\"basePath\":\"\\/\",\"pathPrefix\":\"\",\"ajaxPageState\":{\"theme\":\"nostarch\",\"theme_token\":\"Nlm96sETwuMS__p1ZTjsBAtvEcoGq6VC9Z662y1k1Lg\",\"jquery_version\":\"1.10\",\"js\":{\"sites\\/all\\/modules\\/contrib\\/addthis\\/addthis.js\":1,\"sites\\/all\\/themes\\/bootstrap\\/js\\/bootstrap.js\":1,\"0\":1,\"\\/\\/ajax.googleapis.com\\/ajax\\/libs\\/jquery\\/1.10.2\\/jquery.min.js\":1,\"1\":1,\"misc\\/jquery-extend-3.4.0.js\":1,\"misc\\/jquery.once.js\":1,\"misc\\/drupal.js\":1,\"sites\\/all\\/modules\\/contrib\\/jquery_update\\/replace\\/ui\\/external\\/jquery.cookie.js\":1,\"sites\\/all\\/modules\\/contrib\\/jquery_update\\/replace\\/misc\\/jquery.form.min.js\":1,\"misc\\/ajax.js\":1,\"sites\\/all\\/modules\\/contrib\\/jquery_update\\/js\\/jquery_update.js\":1,\"sites\\/all\\/modules\\/contrib\\/ubercart\\/uc_file\\/uc_file.js\":1,\"sites\\/all\\/libraries\\/colorbox\\/jquery.colorbox-min.js\":1,\"sites\\/all\\/modules\\/contrib\\/colorbox\\/js\\/colorbox.js\":1,\"sites\\/all\\/modules\\/contrib\\/colorbox\\/styles\\/plain\\/colorbox_style.js\":1,\"sites\\/all\\/modules\\/contrib\\/colorbox\\/js\\/colorbox_load.js\":1,\"sites\\/all\\/modules\\/contrib\\/colorbox\\/js\\/colorbox_inline.js\":1,\"sites\\/all\\/modules\\/contrib\\/views\\/js\\/base.js\":1,\"sites\\/all\\/themes\\/bootstrap\\/js\\/misc\\/_progress.js\":1,\"sites\\/all\\/modules\\/contrib\\/views\\/js\\/ajax_view.js\":1,\"sites\\/all\\/modules\\/contrib\\/ubercart\\/uc_cart\\/uc_cart_block.js\":1,\"sites\\/all\\/modules\\/contrib\\/google_analytics\\/googleanalytics.js\":1,\"2\":1,\"sites\\/all\\/themes\\/nostarch\\/js\\/bootstrap.min.js\":1,\"sites\\/all\\/themes\\/nostarch\\/js\\/main.js\":1,\"sites\\/all\\/themes\\/nostarch\\/js\\/front_grid_height.js\":1,\"sites\\/all\\/themes\\/bootstrap\\/js\\/misc\\/ajax.js\":1,\"sites\\/all\\/themes\\/bootstrap\\/js\\/modules\\/views\\/js\\/ajax_view.js\":1},\"css\":{\"modules\\/system\\/system.base.css\":1,\"sites\\/all\\/modules\\/contrib\\/date\\/date_api\\/date.css\":1,\"sites\\/all\\/modules\\/contrib\\/date\\/date_popup\\/themes\\/datepicker.1.7.css\":1,\"modules\\/field\\/theme\\/field.css\":1,\"sites\\/all\\/modules\\/contrib\\/logintoboggan\\/logintoboggan.css\":1,\"sites\\/all\\/modules\\/contrib\\/mollom\\/mollom.css\":1,\"modules\\/node\\/node.css\":1,\"sites\\/all\\/modules\\/contrib\\/uc_fedex\\/uc_fedex.css\":1,\"sites\\/all\\/modules\\/contrib\\/ubercart\\/uc_file\\/uc_file.css\":1,\"sites\\/all\\/modules\\/contrib\\/ubercart\\/uc_order\\/uc_order.css\":1,\"sites\\/all\\/modules\\/contrib\\/ubercart\\/uc_product\\/uc_product.css\":1,\"sites\\/all\\/modules\\/contrib\\/ubercart\\/uc_store\\/uc_store.css\":1,\"sites\\/all\\/modules\\/contrib\\/views\\/css\\/views.css\":1,\"sites\\/all\\/modules\\/contrib\\/uc_discounts_alt\\/uc_discounts\\/uc_discounts.css\":1,\"sites\\/all\\/modules\\/contrib\\/colorbox\\/styles\\/plain\\/colorbox_style.css\":1,\"sites\\/all\\/modules\\/contrib\\/ctools\\/css\\/ctools.css\":1,\"sites\\/all\\/modules\\/contrib\\/ubercart\\/uc_cart\\/uc_cart_block.css\":1,\"sites\\/all\\/themes\\/nostarch\\/css\\/en_styles.css\":1,\"sites\\/all\\/themes\\/nostarch\\/css\\/custom.css\":1,\"sites\\/all\\/themes\\/nostarch\\/css\\/bootstrap-3-vert-offset.css\":1,\"sites\\/all\\/themes\\/nostarch\\/css\\/bootstrap-3-autoclear.css\":1,\"sites\\/all\\/themes\\/nostarch\\/css\\/glyphicons.css\":1}},\"colorbox\":{\"opacity\":\"0.85\",\"current\":\"{current} of {total}\",\"previous\":\"\\u00ab Prev\",\"next\":\"Next \\u00bb\",\"close\":\"Close\",\"maxWidth\":\"98%\",\"maxHeight\":\"98%\",\"fixed\":true,\"mobiledetect\":true,\"mobiledevicewidth\":\"480px\"},\"better_exposed_filters\":{\"views\":{\"frontpage_new\":{\"displays\":{\"block_frontpage\":{\"filters\":[]}}},\"frontpage_comingsoon\":{\"displays\":{\"block_frontpage\":{\"filters\":[]}}},\"topics\":{\"displays\":{\"block\":{\"filters\":[]}}}}},\"views\":{\"ajax_path\":\"\\/views\\/ajax\",\"ajaxViews\":{\"views_dom_id:fda4110083eacc56bd383af2cbd4a10e\":{\"view_name\":\"frontpage_comingsoon\",\"view_display_id\":\"block_frontpage\",\"view_args\":\"\",\"view_path\":\"node\\/14\",\"view_base_path\":\"frontpage_comingsoon\",\"view_dom_id\":\"fda4110083eacc56bd383af2cbd4a10e\",\"pager_element\":0}}},\"urlIsAjaxTrusted\":{\"\\/views\\/ajax\":true,\"\\/\":true},\"googleanalytics\":{\"trackOutbound\":1,\"trackMailto\":1,\"trackDownload\":1,\"trackDownloadExtensions\":\"7z|aac|arc|arj|asf|asx|avi|bin|csv|doc(x|m)?|dot(x|m)?|exe|flv|gif|gz|gzip|hqx|jar|jpe?g|js|mp(2|3|4|e?g)|mov(ie)?|msi|msp|pdf|phps|png|ppt(x|m)?|pot(x|m)?|pps(x|m)?|ppam|sld(x|m)?|thmx|qtm?|ra(m|r)?|sea|sit|tar|tgz|torrent|txt|wav|wma|wmv|wpd|xls(x|m|b)?|xlt(x|m)|xlam|xml|z|zip\",\"trackColorbox\":1},\"bootstrap\":{\"anchorsFix\":\"0\",\"anchorsSmoothScrolling\":\"0\",\"formHasError\":1,\"popoverEnabled\":1,\"popoverOptions\":{\"animation\":1,\"html\":0,\"placement\":\"right\",\"selector\":\"\",\"trigger\":\"click\",\"triggerAutoclose\":1,\"title\":\"\",\"content\":\"\",\"delay\":0,\"container\":\"body\"},\"tooltipEnabled\":1,\"tooltipOptions\":{\"animation\":1,\"html\":0,\"placement\":\"auto left\",\"selector\":\"\",\"trigger\":\"hover focus\",\"delay\":0,\"container\":\"body\"}}});</script>\n",
      "</meta></head>\n",
      "<body class=\"html front not-logged-in two-sidebars page-node page-node- page-node-14 node-type-page\">\n",
      "<div id=\"skip-link\">\n",
      "<a class=\"element-invisible element-focusable\" href=\"#main-content\">Skip to main content</a>\n",
      "</div>\n",
      "<header class=\"navbar navbar-default\" id=\"\" role=\"banner\">\n",
      "<div class=\"container\">\n",
      "<div class=\"row\">\n",
      "<nav class=\"navbar navbar-default visible-xs\" role=\"navigation\">\n",
      "<div class=\"navbar-header\">\n",
      "<button aria-controls=\"navbar\" aria-expanded=\"false\" class=\"navbar-toggle collapsed\" data-target=\"#navbar\" data-toggle=\"collapse\" type=\"button\">\n",
      "<span class=\"sr-only\">Toggle navigation</span>\n",
      "<span class=\"icon-bar\"></span>\n",
      "<span class=\"icon-bar\"></span>\n",
      "<span class=\"icon-bar\"></span>\n",
      "</button>\n",
      "<a class=\"navbar-brand text-uppercase\" href=\"/\"><img alt=\"Home\" class=\"img-responsive\" src=\"https://nostarch.com/sites/all/themes/nostarch/logo.png\"/></a>\n",
      "</div>\n",
      "<div class=\"navbar-collapse collapse text-center\" id=\"navbar\">\n",
      "<ul class=\"menu nav navbar-nav\"><li class=\"first leaf\"><a href=\"/catalog.htm\" title=\"Explore our catalog\">Catalog</a></li>\n",
      "<li class=\"leaf\"><a href=\"/blog\" title=\"The No Starch Press blog\">Blog</a></li>\n",
      "<li class=\"leaf\"><a href=\"/media.htm\" title=\"Media contact\">Media</a></li>\n",
      "<li class=\"leaf\"><a href=\"/writeforus\" title=\"Submit a book proposal\">Write for Us</a></li>\n",
      "<li class=\"leaf\"><a href=\"/about\" title=\"About No Starch Press\">About Us</a></li>\n",
      "<li class=\"last leaf\"><a href=\"/contactus\" title=\"Contact Us\">Contact Us</a></li>\n",
      "</ul> <div class=\"region region-navigation\">\n",
      "<section class=\"block block-search clearfix\" id=\"block-search-form\">\n",
      "<form accept-charset=\"UTF-8\" action=\"/\" class=\"form-search content-search\" id=\"search-block-form\" method=\"post\"><div><div>\n",
      "<h2 class=\"element-invisible\">Search form</h2>\n",
      "<div class=\"input-group\"><input class=\"form-control form-text\" id=\"edit-search-block-form--2\" maxlength=\"128\" name=\"search_block_form\" placeholder=\"Search\" size=\"15\" title=\"Enter the terms you wish to search for.\" type=\"text\" value=\"\"/><span class=\"input-group-btn\"><button class=\"btn btn-primary\" type=\"submit\"><span aria-hidden=\"true\" class=\"icon glyphicon glyphicon-search\"></span>\n",
      "</button></span></div><div class=\"form-actions form-wrapper form-group\" id=\"edit-actions--21\"><button class=\"element-invisible btn btn-default form-submit\" id=\"edit-submit--6\" name=\"op\" type=\"submit\" value=\"GO!\">GO!</button>\n",
      "</div><input name=\"form_build_id\" type=\"hidden\" value=\"form-NzobVsfsmdadHKx6Rb3dyMHNJGN4uyuuDDRO1EXbsOY\"/>\n",
      "<input name=\"form_id\" type=\"hidden\" value=\"search_block_form\"/>\n",
      "</div>\n",
      "</div></form>\n",
      "</section>\n",
      "</div>\n",
      "</div>\n",
      "</nav>\n",
      "<div class=\"navbar-header\">\n",
      "<div class=\"logo-wrapper col-sm-6 hidden-xs\">\n",
      "<a class=\"logo navbar-btn pull-left\" href=\"/\" title=\"Home\">\n",
      "<img alt=\"Home\" class=\"img-responsive\" src=\"https://nostarch.com/sites/all/themes/nostarch/logo.png\"/>\n",
      "</a>\n",
      "</div>\n",
      "<div class=\"logo-wrapper col-sm-6 hidden-xs\">\n",
      "<div class=\"region region-navigation\">\n",
      "<div class=\"region region-navigation\">\n",
      "<section class=\"block block-search clearfix\" id=\"block-search-form\">\n",
      "<form accept-charset=\"UTF-8\" action=\"/\" class=\"form-search content-search\" id=\"search-block-form\" method=\"post\"><div><div>\n",
      "<h2 class=\"element-invisible\">Search form</h2>\n",
      "<div class=\"input-group\"><input class=\"form-control form-text\" id=\"edit-search-block-form--2\" maxlength=\"128\" name=\"search_block_form\" placeholder=\"Search\" size=\"15\" title=\"Enter the terms you wish to search for.\" type=\"text\" value=\"\"/><span class=\"input-group-btn\"><button class=\"btn btn-primary\" type=\"submit\"><span aria-hidden=\"true\" class=\"icon glyphicon glyphicon-search\"></span>\n",
      "</button></span></div><div class=\"form-actions form-wrapper form-group\" id=\"edit-actions--21\"><button class=\"element-invisible btn btn-default form-submit\" id=\"edit-submit--6\" name=\"op\" type=\"submit\" value=\"GO!\">GO!</button>\n",
      "</div><input name=\"form_build_id\" type=\"hidden\" value=\"form-NzobVsfsmdadHKx6Rb3dyMHNJGN4uyuuDDRO1EXbsOY\"/>\n",
      "<input name=\"form_id\" type=\"hidden\" value=\"search_block_form\"/>\n",
      "</div>\n",
      "</div></form>\n",
      "</section>\n",
      "</div>\n",
      "</div>\n",
      "</div>\n",
      "</div>\n",
      "</div>\n",
      "</div>\n",
      "<div class=\"container\">\n",
      "<div class=\"row\">\n",
      "<div class=\"navbar-collapse collapse\">\n",
      "<nav role=\"navigation\">\n",
      "<ul class=\"menu nav navbar-nav\"><ul class=\"menu nav navbar-nav\"><li class=\"first leaf\"><a href=\"/catalog.htm\" title=\"Explore our catalog\">Catalog</a></li>\n",
      "<li class=\"leaf\"><a href=\"/blog\" title=\"The No Starch Press blog\">Blog</a></li>\n",
      "<li class=\"leaf\"><a href=\"/media.htm\" title=\"Media contact\">Media</a></li>\n",
      "<li class=\"leaf\"><a href=\"/writeforus\" title=\"Submit a book proposal\">Write for Us</a></li>\n",
      "<li class=\"leaf\"><a href=\"/about\" title=\"About No Starch Press\">About Us</a></li>\n",
      "<li class=\"last leaf\"><a href=\"/contactus\" title=\"Contact Us\">Contact Us</a></li>\n",
      "</ul></ul> </nav>\n",
      "</div>\n",
      "</div>\n",
      "</div>\n",
      "</header>\n",
      "<div class=\"main-container container\">\n",
      "<header id=\"page-header\" role=\"banner\">\n",
      "</header>\n",
      "<div class=\"row\">\n",
      "<aside class=\"col-sm-3\" role=\"complementary\">\n",
      "<div class=\"region region-sidebar-first well\">\n",
      "<section class=\"block block-views clearfix\" id=\"block-views-topics-block\">\n",
      "<button class=\"btn btn-primary btn-block visible-xs vert-offset-top-2\" data-target=\"#topics\" data-toggle=\"collapse\"><span class=\"glyphicon glyphicon-menu-down pull-left\"></span>\n",
      "<span class=\"btn-text\">Topics</span><span class=\"glyphicon glyphicon-menu-down pull-right\"></span></button>\n",
      "<h2 class=\"block-title hidden-xs\">Topics</h2>\n",
      "<div class=\"view-content collapse dont-collapse animateCollapse\" id=\"topics\">\n",
      "<div class=\"view view-topics view-id-topics view-display-id-block view-dom-id-228857045a914d02751ef48630d976e2\">\n",
      "<div class=\"view-content\">\n",
      "<div class=\"item-list\"> <ul> <li class=\"views-row views-row-1 views-row-odd views-row-first\">\n",
      "<div class=\"views-field views-field-name\"> <span class=\"field-content\"><a href=\"/catalog/art-photography-design\">Art &amp; Design</a></span> </div></li>\n",
      "<li class=\"views-row views-row-2 views-row-even\">\n",
      "<div class=\"views-field views-field-name\"> <span class=\"field-content\"><a href=\"/catalog/general-computing\">General Computing</a></span> </div></li>\n",
      "<li class=\"views-row views-row-3 views-row-odd\">\n",
      "<div class=\"views-field views-field-name\"> <span class=\"field-content\"><a href=\"/catalog/security\">Hacking &amp; Computer Security</a></span> </div></li>\n",
      "<li class=\"views-row views-row-4 views-row-even\">\n",
      "<div class=\"views-field views-field-name\"> <span class=\"field-content\"><a href=\"/catalog/hardware-and-diy\">Hardware / DIY</a></span> </div></li>\n",
      "<li class=\"views-row views-row-5 views-row-odd\">\n",
      "<div class=\"views-field views-field-name\"> <span class=\"field-content\"><a href=\"/catalog/kids\">Kids</a></span> </div></li>\n",
      "<li class=\"views-row views-row-6 views-row-even\">\n",
      "<div class=\"views-field views-field-name\"> <span class=\"field-content\"><a href=\"/catalog/lego\">LEGO®</a></span> </div></li>\n",
      "<li class=\"views-row views-row-7 views-row-odd\">\n",
      "<div class=\"views-field views-field-name\"> <span class=\"field-content\"><a href=\"/catalog/linux-bsd-unix\">Linux &amp; BSD</a></span> </div></li>\n",
      "<li class=\"views-row views-row-8 views-row-even\">\n",
      "<div class=\"views-field views-field-name\"> <span class=\"field-content\"><a href=\"/catalog/manga\">Manga</a></span> </div></li>\n",
      "<li class=\"views-row views-row-9 views-row-odd\">\n",
      "<div class=\"views-field views-field-name\"> <span class=\"field-content\"><a href=\"/catalog/programming\">Programming</a></span> </div></li>\n",
      "<li class=\"views-row views-row-10 views-row-even\">\n",
      "<div class=\"views-field views-field-name\"> <span class=\"field-content\"><a href=\"/catalog/python\">Python</a></span> </div></li>\n",
      "<li class=\"views-row views-row-11 views-row-odd\">\n",
      "<div class=\"views-field views-field-name\"> <span class=\"field-content\"><a href=\"/catalog/science-math\">Science &amp; Math</a></span> </div></li>\n",
      "<li class=\"views-row views-row-12 views-row-even\">\n",
      "<div class=\"views-field views-field-name\"> <span class=\"field-content\"><a href=\"/catalog/scratch\">Scratch</a></span> </div></li>\n",
      "<li class=\"views-row views-row-13 views-row-odd\">\n",
      "<div class=\"views-field views-field-name\"> <span class=\"field-content\"><a href=\"/catalog/system-administration\">System Administration</a></span> </div></li>\n",
      "<li class=\"views-row views-row-14 views-row-even views-row-last\">\n",
      "<div class=\"views-field views-field-name\"> <span class=\"field-content\"><a href=\"/catalog/early-access\">Early Access</a></span> </div></li>\n",
      "</ul></div> </div>\n",
      "<div class=\"view-footer\">\n",
      "<style>\n",
      "<!--/*--><![CDATA[/* ><!--*/\n",
      "\n",
      ".view-topics .item-list a {font-weight: bold;}\n",
      ".view-topics  ul {padding-left: 20px;}\n",
      "\n",
      "/*--><!]]>*/\n",
      "</style> </div>\n",
      "</div> </div>\n",
      "</section><section class=\"block block-block clearfix\" id=\"block-block-12\">\n",
      "<div class=\"rounded_border_block\"><a href=\"/about_ebooks.htm\" style=\"color: red1;\">Free ebook edition with every print book purchased from nostarch.com!</a></div>\n",
      "</section>\n",
      "<section class=\"block block-uc-cart clearfix\" id=\"block-uc-cart-cart\">\n",
      "<h2 class=\"block-title\"><a href=\"/cart\"><span class=\"cart-block-icon-empty\" title=\"View your shopping cart.\"></span></a><span class=\"cart-block-title-bar\" title=\"Show/hide shopping cart contents.\">Shopping cart<span class=\"cart-block-arrow arrow-down\"></span></span></h2>\n",
      "<p class=\"cart-block-items collapsed uc-cart-empty\">There are no products in your shopping cart.</p><table class=\"cart-block-summary\"><tbody><tr><td class=\"cart-block-summary-items\"><span class=\"num-items\">0</span> Items</td><td class=\"cart-block-summary-total\"><label>Total:</label> <span class=\"uc-price\">$0.00</span></td></tr></tbody></table>\n",
      "</section>\n",
      "<section class=\"block block-nostarch-customclearfix\" id=\"block-nostarch-custom-login-block\">\n",
      "<h2 class=\"block-title\">User login</h2>\n",
      "<ul>\n",
      "<li><a href=\"/user\">Log in</a></li></ul></section></div></aside></div></div></body></html>\n",
      "<li><a href=\"/user/register\">Create account</a></li>\n",
      "\n",
      "\n",
      "<section class=\"block block-nostarch-customclearfix\" id=\"block-nostarch-custom-bestsellers\">\n",
      "<h2 class=\"block-title\">This Month's Bestsellers</h2>\n",
      "<div align=\"center\">\n",
      "<div class=\"view view-favorites view-id-favorites view-display-id-default auto-clear view-dom-id-d7fc21a8547b7df46303bfcb33a7ff1b\">\n",
      "<div class=\"view-content\">\n",
      "<div class=\"views-row views-row-1 views-row-odd views-row-first col-xs-6 col-sm-6 col-md-12\">\n",
      "<div class=\"views-field views-field-field-image-cache\"> <div class=\"field-content\"><a href=\"/automatestuff\"><img alt=\"Automate The Boring Stuff with Python\" class=\"img-responsive\" height=\"119\" src=\"https://nostarch.com/sites/default/files/styles/product/public/AutomatetheBoringStuff_cover.png?itok=0wrkXViC\" title=\"Automate The Boring Stuff with Python\" width=\"90\"/></a></div> </div> </div>\n",
      "<div class=\"views-row views-row-2 views-row-even col-xs-6 col-sm-6 col-md-12\">\n",
      "<div class=\"views-field views-field-field-image-cache\"> <div class=\"field-content\"><a href=\"/legoarchitect\"><img alt=\"The LEGO Architect\" class=\"img-responsive\" height=\"90\" src=\"https://nostarch.com/sites/default/files/styles/product/public/architect_cover-front.png?itok=n4TeFiTt\" title=\"The LEGO Architect\" width=\"90\"/></a></div> </div> </div>\n",
      "<div class=\"views-row views-row-3 views-row-odd col-xs-6 col-sm-6 col-md-12\">\n",
      "<div class=\"views-field views-field-field-image-cache\"> <div class=\"field-content\"><a href=\"/ejs3\"><img alt=\"Eloquent JavaScript, 3rd Edition\" class=\"img-responsive\" height=\"119\" src=\"https://nostarch.com/sites/default/files/styles/product/public/ejs3e_cover-front.png?itok=Z-UMUAfL\" title=\"Eloquent JavaScript, 3rd Edition\" width=\"90\"/></a></div> </div> </div>\n",
      "<div class=\"views-row views-row-4 views-row-even col-xs-6 col-sm-6 col-md-12\">\n",
      "<div class=\"views-field views-field-field-image-cache\"> <div class=\"field-content\"><a href=\"/rootkits\"><img alt=\"Rootkits and Bootkits\" class=\"img-responsive\" height=\"119\" src=\"https://nostarch.com/sites/default/files/styles/product/public/rootkits_front_FINAL_0.png?itok=CwIt_E9L\" title=\"Rootkits and Bootkits\" width=\"90\"/></a></div> </div> </div>\n",
      "<div class=\"views-row views-row-5 views-row-odd views-row-last col-xs-6 col-sm-6 col-md-12\">\n",
      "<div class=\"views-field views-field-field-image-cache\"> <div class=\"field-content\"><a href=\"/pythoncrashcourse2e\"><img alt=\"Python Crash Course, 2nd Edition\" class=\"img-responsive\" height=\"119\" src=\"https://nostarch.com/sites/default/files/styles/product/public/pcc2e_cover-front_final.png?itok=inczEIHT\" title=\"Python Crash Course, 2nd Edition\" width=\"90\"/></a></div> </div> </div>\n",
      "</div>\n",
      "</div> </div>\n",
      "</section>\n",
      "\n",
      "\n",
      "<section class=\"col-sm-6\" style=\"\">\n",
      "<a id=\"main-content\"></a>\n",
      "<h1 class=\"page-header\">No Starch Press</h1>\n",
      "<div class=\"region region-content\">\n",
      "<section class=\"block block-system clearfix\" id=\"block-system-main\">\n",
      "<div class=\"ds-1col node node-page view-mode-full clearfix\">\n",
      "<div class=\"col-md-6 col-xs-12 product-teaser product-teaser-new auto-clear\">\n",
      "<h2 class=\"title\"><b>New!</b></h2>\n",
      "<section class=\"block block-views clearfix\" id=\"block-views-frontpage-new-block-frontpage\">\n",
      "<div class=\"view view-frontpage-new view-id-frontpage_new view-display-id-block_frontpage view-dom-id-4576aa5de0402ab9e3bbec2901fc9658\">\n",
      "<div class=\"view-content\">\n",
      "<div class=\"views-row views-row-1 views-row-odd views-row-first\">\n",
      "<article class=\"node node-product node-promoted node-teaser clearfix\" id=\"node-498\">\n",
      "<header>\n",
      "<h2><a href=\"/pythoncrashcourse2e\">Python Crash Course, 2nd Edition</a></h2>\n",
      "</header>\n",
      "<div class=\"field field-name-field-image-cache field-type-image field-label-hidden\"><div class=\"field-items\"><div class=\"field-item even\"><a href=\"/pythoncrashcourse2e\"><img alt=\"Python Crash Course, 2nd Edition\" class=\"img-responsive\" height=\"225\" src=\"https://nostarch.com/sites/default/files/styles/uc_product/public/pcc2e_cover-front_final.png?itok=CRtz0EF2\" title=\"Python Crash Course, 2nd Edition\" width=\"170\"/></a></div></div></div><div class=\"field field-name-body field-type-text-with-summary field-label-hidden\"><div class=\"field-items\"><div class=\"field-item even\"><p><a href=\"/pythoncrashcourse2e\">Python Crash Course, 2nd Edition</a> teaches beginners the basics of programming in Python, with a focus on real projects.</p>\n",
      "</div></div></div>\n",
      "<footer>\n",
      "</footer>\n",
      "</article>\n",
      "</div>\n",
      "<div class=\"views-row views-row-2 views-row-even\">\n",
      "<article class=\"node node-product node-promoted node-teaser clearfix\" id=\"node-352\">\n",
      "<header>\n",
      "<h2><a href=\"/rootkits\">Rootkits and Bootkits</a></h2>\n",
      "</header>\n",
      "<div class=\"field field-name-field-image-cache field-type-image field-label-hidden\"><div class=\"field-items\"><div class=\"field-item even\"><a href=\"/rootkits\"><img alt=\"Rootkits and Bootkits\" class=\"img-responsive\" height=\"225\" src=\"https://nostarch.com/sites/default/files/styles/uc_product/public/rootkits_front_FINAL_0.png?itok=eVbDwXDj\" title=\"Rootkits and Bootkits\" width=\"170\"/></a></div></div></div><div class=\"field field-name-body field-type-text-with-summary field-label-hidden\"><div class=\"field-items\"><div class=\"field-item even\"><p><a href=\"/rootkits\">Rootkits and Bootkits</a> shows you how to analyze, identify, and defend against rootkits and bootkits.</p>\n",
      "</div></div></div>\n",
      "<footer>\n",
      "</footer>\n",
      "</article>\n",
      "</div>\n",
      "<div class=\"views-row views-row-3 views-row-odd\">\n",
      "<article class=\"node node-product node-promoted node-teaser clearfix\" id=\"node-469\">\n",
      "<header>\n",
      "<h2><a href=\"/twinegames\">Make Your Own Twine Games!</a></h2>\n",
      "</header>\n",
      "<div class=\"field field-name-field-image-cache field-type-image field-label-hidden\"><div class=\"field-items\"><div class=\"field-item even\"><a href=\"/twinegames\"><img alt=\"Make Your Own Twine Games!\" class=\"img-responsive\" height=\"225\" src=\"https://nostarch.com/sites/default/files/styles/uc_product/public/MYOTwineGames_front_final.png?itok=Xk4aY7D2\" title=\"Make Your Own Twine Games!\" width=\"170\"/></a></div></div></div><div class=\"field field-name-body field-type-text-with-summary field-label-hidden\"><div class=\"field-items\"><div class=\"field-item even\"><p><a href=\"/twinegames\">Make Your Own Twine Games!</a> is a playful, kid-friendly introduction to game development using Twine, a free online scripting tool for creative storytelling.</p>\n",
      "</div></div></div>\n",
      "<footer>\n",
      "</footer>\n",
      "</article>\n",
      "</div>\n",
      "<div class=\"views-row views-row-4 views-row-even\">\n",
      "<article class=\"node node-product node-promoted node-teaser clearfix\" id=\"node-459\">\n",
      "<header>\n",
      "<h2><a href=\"/pixelart\">Make Your Own Pixel Art</a></h2>\n",
      "</header>\n",
      "<div class=\"field field-name-field-image-cache field-type-image field-label-hidden\"><div class=\"field-items\"><div class=\"field-item even\"><a href=\"/pixelart\"><img alt=\"\" class=\"img-responsive\" height=\"158\" src=\"https://nostarch.com/sites/default/files/styles/uc_product/public/MakeYourOwnPixelArt_front.png?itok=T2j7P1bs\" width=\"225\"/></a></div></div></div><div class=\"field field-name-body field-type-text-with-summary field-label-hidden\"><div class=\"field-items\"><div class=\"field-item even\"><p><a href=\"/pixelart\">Make Your Own Pixel Art</a> is an illustrated introduction to creating pixel art.</p>\n",
      "</div></div></div>\n",
      "<footer>\n",
      "</footer>\n",
      "</article>\n",
      "</div>\n",
      "<div class=\"views-row views-row-5 views-row-odd\">\n",
      "<article class=\"node node-product node-promoted node-teaser clearfix\" id=\"node-495\">\n",
      "<header>\n",
      "<h2><a href=\"/tlcl2\">The Linux Command Line, 2nd Edition</a></h2>\n",
      "</header>\n",
      "<div class=\"field field-name-field-image-cache field-type-image field-label-hidden\"><div class=\"field-items\"><div class=\"field-item even\"><a href=\"/tlcl2\"><img alt=\"The Linux Command Line, 2nd Edition\" class=\"img-responsive\" height=\"225\" src=\"https://nostarch.com/sites/default/files/styles/uc_product/public/lcl2_front_new.png?itok=Si6Zks_i\" title=\"The Linux Command Line, 2nd Edition\" width=\"170\"/></a></div></div></div><div class=\"field field-name-body field-type-text-with-summary field-label-hidden\"><div class=\"field-items\"><div class=\"field-item even\"><p>This newly revised edition of <a href=\"/tlcl2\">The Linux Command Line</a> contains various modernizations, including bash version 4.x and several useful new features. </p>\n",
      "</div></div></div>\n",
      "<footer>\n",
      "</footer>\n",
      "</article>\n",
      "</div>\n",
      "<div class=\"views-row views-row-6 views-row-even\">\n",
      "<article class=\"node node-product node-promoted node-teaser clearfix\" id=\"node-484\">\n",
      "<header>\n",
      "<h2><a href=\"/raspirobots\">Learn Robotics with Raspberry Pi</a></h2>\n",
      "</header>\n",
      "<div class=\"field field-name-field-image-cache field-type-image field-label-hidden\"><div class=\"field-items\"><div class=\"field-item even\"><a href=\"/raspirobots\"><img alt=\"Learn Robotics with Raspberry Pi\" class=\"img-responsive\" height=\"225\" src=\"https://nostarch.com/sites/default/files/styles/uc_product/public/LearnRoboticsRaspPi_front-cover_0.png?itok=7mg2gZDK\" title=\"Learn Robotics with Raspberry Pi\" width=\"170\"/></a></div></div></div><div class=\"field field-name-body field-type-text-with-summary field-label-hidden\"><div class=\"field-items\"><div class=\"field-item even\"><p>In <a href=\"/raspirobots\">Learn Robotics with Raspberry Pi</a> shows how to build robots with the Raspberry Pi microcomputer and a few easy-to-get components -- no prior experience necessary!</p>\n",
      "</div></div></div>\n",
      "<footer>\n",
      "</footer>\n",
      "</article>\n",
      "</div>\n",
      "<div class=\"views-row views-row-7 views-row-odd\">\n",
      "<article class=\"node node-product node-promoted node-teaser clearfix\" id=\"node-461\">\n",
      "<header>\n",
      "<h2><a href=\"/pythonflashcards\">Python Flash Cards</a></h2>\n",
      "</header>\n",
      "<div class=\"field field-name-field-image-cache field-type-image field-label-hidden\"><div class=\"field-items\"><div class=\"field-item even\"><a href=\"/pythonflashcards\"><img alt=\"Python Flash Cards\" class=\"img-responsive\" height=\"225\" src=\"https://nostarch.com/sites/default/files/styles/uc_product/public/PythonFlashCards_boxfront.png?itok=61tSZH-g\" title=\"Python Flash Cards\" width=\"168\"/></a></div></div></div><div class=\"field field-name-body field-type-text-with-summary field-label-hidden\"><div class=\"field-items\"><div class=\"field-item even\"><p><a href=\"/pythonflashcards\">Python Flash Cards</a> help new Python coders drill and reinforce the concepts, syntax, and terminology they'll need to become successful professional programmers.</p>\n",
      "</div></div></div>\n",
      "<footer>\n",
      "</footer>\n",
      "</article>\n",
      "</div>\n",
      "<div class=\"views-row views-row-8 views-row-even\">\n",
      "<article class=\"node node-product node-promoted node-teaser clearfix\" id=\"node-436\">\n",
      "<header>\n",
      "<h2><a href=\"/mathadventures\">Math Adventures with Python</a></h2>\n",
      "</header>\n",
      "<div class=\"field field-name-field-image-cache field-type-image field-label-hidden\"><div class=\"field-items\"><div class=\"field-item even\"><a href=\"/mathadventures\"><img alt=\"Math Adventures with Python\" class=\"img-responsive\" height=\"225\" src=\"https://nostarch.com/sites/default/files/styles/uc_product/public/mathadv_cover-front_new.png?itok=s4zdEhiv\" title=\"Math Adventures with Python\" width=\"169\"/></a></div></div></div><div class=\"field field-name-body field-type-text-with-summary field-label-hidden\"><div class=\"field-items\"><div class=\"field-item even\"><p><a href=\"/mathadventures\">Math Adventures with Python</a> teaches you how to use Python to transform learning math topics like algebra, geometry, and calculus!</p>\n",
      "</div></div></div>\n",
      "<footer>\n",
      "</footer>\n",
      "</article>\n",
      "</div>\n",
      "<div class=\"views-row views-row-9 views-row-odd\">\n",
      "<article class=\"node node-product node-promoted node-teaser clearfix\" id=\"node-444\">\n",
      "<header>\n",
      "<h2><a href=\"/seriouspython\">Serious Python</a></h2>\n",
      "</header>\n",
      "<div class=\"field field-name-field-image-cache field-type-image field-label-hidden\"><div class=\"field-items\"><div class=\"field-item even\"><a href=\"/seriouspython\"><img alt=\"Serious Python\" class=\"img-responsive\" height=\"225\" src=\"https://nostarch.com/sites/default/files/styles/uc_product/public/hackerspython_cover-front_v5.png?itok=eoHeAP6s\" title=\"Serious Python\" width=\"170\"/></a></div></div></div><div class=\"field field-name-body field-type-text-with-summary field-label-hidden\"><div class=\"field-items\"><div class=\"field-item even\"><p><a href=\"/seriouspython\">Serious Python</a> is a collection of practical, real-world advice for tackling common Python developer-level problems.</p>\n",
      "</div></div></div>\n",
      "<footer>\n",
      "</footer>\n",
      "</article>\n",
      "</div>\n",
      "<div class=\"views-row views-row-10 views-row-even views-row-last\">\n",
      "<article class=\"node node-product node-promoted node-teaser clearfix\" id=\"node-483\">\n",
      "<header>\n",
      "<h2><a href=\"/binaryanalysis\">Practical Binary Analysis</a></h2>\n",
      "</header>\n",
      "<div class=\"field field-name-field-image-cache field-type-image field-label-hidden\"><div class=\"field-items\"><div class=\"field-item even\"><a href=\"/binaryanalysis\"><img alt=\"Practical Binary Analysis\" class=\"img-responsive\" height=\"225\" src=\"https://nostarch.com/sites/default/files/styles/uc_product/public/binary_cover-front.png?itok=auX2nX9Q\" title=\"Practical Binary Analysis\" width=\"170\"/></a></div></div></div><div class=\"field field-name-body field-type-text-with-summary field-label-hidden\"><div class=\"field-items\"><div class=\"field-item even\"><p><a href=\"/binary\">Practical Binary Analysis</a> covers advanced binary analysis topics like binary instrumentation, dynamic taint analysis, and symbolic execution.</p>\n",
      "</div></div></div>\n",
      "<footer>\n",
      "</footer>\n",
      "</article>\n",
      "</div>\n",
      "</div>\n",
      "<div class=\"view-footer\">\n",
      "<div class=\"feed-icon\">\n",
      "<a class=\"feed-icon\" href=\"/feeds/newbooks.xml\" title=\"Subscribe to No Starch Press - New Books\"><img alt=\"Subscribe to No Starch Press - New Books\" class=\"img-responsive\" height=\"16\" src=\"/misc/feed.png\" width=\"16\"/></a> </div> </div>\n",
      "</div>\n",
      "</section>\n",
      "</div>\n",
      "<div class=\"col-md-6 col-xs-12 product-teaser product-teaser-soon auto-clear\">\n",
      "<a href=\"/upcoming.htm\"><h2 class=\"title\"><b>Coming Soon</b></h2></a>\n",
      "<section class=\"block block-views clearfix\" id=\"block-views-frontpage-comingsoon-block-frontpage\">\n",
      "<div class=\"view view-frontpage-comingsoon view-id-frontpage_comingsoon view-display-id-block_frontpage view-dom-id-fda4110083eacc56bd383af2cbd4a10e\">\n",
      "<div class=\"view-content\">\n",
      "<div class=\"views-row views-row-1 views-row-odd views-row-first\">\n",
      "<article class=\"node node-product node-promoted node-teaser clearfix\" id=\"node-494\">\n",
      "<header>\n",
      "<h2><a href=\"/scratchcards3\">The Official Scratch Coding Cards (Scratch 3.0)</a></h2>\n",
      "</header>\n",
      "<div class=\"field field-name-field-image-cache field-type-image field-label-hidden\"><div class=\"field-items\"><div class=\"field-item even\"><a href=\"/scratchcards3\"><img alt=\"Box Front Cover\" class=\"img-responsive\" height=\"225\" src=\"https://nostarch.com/sites/default/files/styles/uc_product/public/ScratchCards2e_front.png?itok=OTD-0vTp\" title=\"Box Front Cover\" width=\"164\"/></a></div></div></div><div class=\"field field-name-body field-type-text-with-summary field-label-hidden\"><div class=\"field-items\"><div class=\"field-item even\"><p><a href=\"/scratchcards2e\">The Official Scratch Coding Cards (Scratch 3.0)</a> is a deck of 76 activity cards that teaches kids to code with Scratch, a popular visual programming language. <b><i>Now Available in Early Access!</i></b></p>\n",
      "</div></div></div>\n",
      "<footer>\n",
      "</footer>\n",
      "</article>\n",
      "</div>\n",
      "<div class=\"views-row views-row-2 views-row-even\">\n",
      "<article class=\"node node-product node-promoted node-teaser clearfix\" id=\"node-485\">\n",
      "<header>\n",
      "<h2><a href=\"/cad\">A Beginner's Guide to 3D Modeling</a></h2>\n",
      "</header>\n",
      "<div class=\"field field-name-field-image-cache field-type-image field-label-hidden\"><div class=\"field-items\"><div class=\"field-item even\"><a href=\"/cad\"><img alt=\"A Beginner's Guide to 3D Modeling\" class=\"img-responsive\" height=\"225\" src=\"https://nostarch.com/sites/default/files/styles/uc_product/public/Beginner3DModeling_front.png?itok=PDmit_0-\" title=\"A Beginner's Guide to 3D Modeling\" width=\"170\"/></a></div></div></div><div class=\"field field-name-body field-type-text-with-summary field-label-hidden\"><div class=\"field-items\"><div class=\"field-item even\"><p><a href=\"/3Dmodelingformakers\">A Beginner's Guide to 3D Modeling</a> introduces makers to the essentials of 3D CAD modeling. <b><i>Now Available in Early Access!</i></b></p>\n",
      "</div></div></div>\n",
      "<footer>\n",
      "</footer>\n",
      "</article>\n",
      "</div>\n",
      "<div class=\"views-row views-row-3 views-row-odd\">\n",
      "<article class=\"node node-product node-promoted node-teaser clearfix\" id=\"node-439\">\n",
      "<header>\n",
      "<h2><a href=\"/bughunting\">Real-World Bug Hunting</a></h2>\n",
      "</header>\n",
      "<div class=\"field field-name-field-image-cache field-type-image field-label-hidden\"><div class=\"field-items\"><div class=\"field-item even\"><a href=\"/bughunting\"><img alt=\"Real-World Bug Hunting\" class=\"img-responsive\" height=\"225\" src=\"https://nostarch.com/sites/default/files/styles/uc_product/public/bughunting_cover-front.png?itok=ZDMwh03a\" title=\"Real-World Bug Hunting\" width=\"170\"/></a></div></div></div><div class=\"field field-name-body field-type-text-with-summary field-label-hidden\"><div class=\"field-items\"><div class=\"field-item even\"><p><a href=\"/webhacking\">Real-World Bug Hunting</a> uses real-world bug reports to teach programmers how to discover and protect vulnerabilities in web applications. <b><i>Now available in Early Access!</i></b></p>\n",
      "</div></div></div>\n",
      "<footer>\n",
      "</footer>\n",
      "</article>\n",
      "</div>\n",
      "<div class=\"views-row views-row-4 views-row-even\">\n",
      "<article class=\"node node-product node-promoted node-teaser clearfix\" id=\"node-468\">\n",
      "<header>\n",
      "<h2><a href=\"/scratchgames\">Make Your Own Scratch Games!</a></h2>\n",
      "</header>\n",
      "<div class=\"field field-name-field-image-cache field-type-image field-label-hidden\"><div class=\"field-items\"><div class=\"field-item even\"><a href=\"/scratchgames\"><img alt=\"Make Your Own Scratch Games!\" class=\"img-responsive\" height=\"225\" src=\"https://nostarch.com/sites/default/files/styles/uc_product/public/MakeYourOwnScratchGames_front.png?itok=oy07knhz\" title=\"Make Your Own Scratch Games!\" width=\"170\"/></a></div></div></div><div class=\"field field-name-body field-type-text-with-summary field-label-hidden\"><div class=\"field-items\"><div class=\"field-item even\"><p><a href=\"/scratchgames\">Make Your Own Scratch Games!</a> is a playful, kid-friendly introduction game development using the Scratch programming language.</p>\n",
      "</div></div></div>\n",
      "<footer>\n",
      "</footer>\n",
      "</article>\n",
      "</div>\n",
      "<div class=\"views-row views-row-5 views-row-odd\">\n",
      "<article class=\"node node-product node-promoted node-teaser clearfix\" id=\"node-493\">\n",
      "<header>\n",
      "<h2><a href=\"/learnbayes\">Bayesian Statistics the Fun Way</a></h2>\n",
      "</header>\n",
      "<div class=\"field field-name-field-image-cache field-type-image field-label-hidden\"><div class=\"field-items\"><div class=\"field-item even\"><a href=\"/learnbayes\"><img alt=\"Bayesian Statistics the Fun Way\" class=\"img-responsive\" height=\"225\" src=\"https://nostarch.com/sites/default/files/styles/uc_product/public/BayesianStats_front_V1_placeholder.png?itok=9DSDG3H0\" title=\"Bayesian Statistics the Fun Way\" width=\"168\"/></a></div></div></div><div class=\"field field-name-body field-type-text-with-summary field-label-hidden\"><div class=\"field-items\"><div class=\"field-item even\"><p>With <a href=\"/learnbayes\">Bayesian Statistics the Fun Way</a> you'll finally understand probability with Bayes, and have fun doing it.</p>\n",
      "</div></div></div>\n",
      "<footer>\n",
      "</footer>\n",
      "</article>\n",
      "</div>\n",
      "<div class=\"views-row views-row-6 views-row-even\">\n",
      "<article class=\"node node-product node-promoted node-teaser clearfix\" id=\"node-455\">\n",
      "<header>\n",
      "<h2><a href=\"/cppcrashcourse\">C++ Crash Course</a></h2>\n",
      "</header>\n",
      "<div class=\"field field-name-field-image-cache field-type-image field-label-hidden\"><div class=\"field-items\"><div class=\"field-item even\"><a href=\"/cppcrashcourse\"><img alt=\"C++ Crash Course\" class=\"img-responsive\" height=\"225\" src=\"https://nostarch.com/sites/default/files/styles/uc_product/public/CppCC_cover-front_0.png?itok=gZb1UODK\" title=\"C++ Crash Course\" width=\"170\"/></a></div></div></div><div class=\"field field-name-body field-type-text-with-summary field-label-hidden\"><div class=\"field-items\"><div class=\"field-item even\"><p><a href=\"/ccrashcourse\">C++ Crash Course</a> is a fast-paced, thorough introduction to modern C++ written for experienced programmers. <b><i>Now available in Early Access!</i></b></p>\n",
      "</div></div></div>\n",
      "<footer>\n",
      "</footer>\n",
      "</article>\n",
      "</div>\n",
      "<div class=\"views-row views-row-7 views-row-odd\">\n",
      "<article class=\"node node-product node-promoted node-teaser clearfix\" id=\"node-496\">\n",
      "<header>\n",
      "<h2><a href=\"/linuxtoolbox\">Your Linux Toolbox</a></h2>\n",
      "</header>\n",
      "<div class=\"field field-name-field-image-cache field-type-image field-label-hidden\"><div class=\"field-items\"><div class=\"field-item even\"><a href=\"/linuxtoolbox\"><img alt=\"Your Linux Toolbox\" class=\"img-responsive\" height=\"225\" src=\"https://nostarch.com/sites/default/files/styles/uc_product/public/ToolBox%20Layout-front.png?itok=AtQwOFx_\" title=\"Your Linux Toolbox\" width=\"169\"/></a></div></div></div><div class=\"field field-name-body field-type-text-with-summary field-label-hidden\"><div class=\"field-items\"><div class=\"field-item even\"><p><a href=\"/linuxtoolbox\">Your Linux Toolbox</a> is a collection of all the awesome Linux zines you love, now as a fancy box set!</p>\n",
      "</div></div></div>\n",
      "<footer>\n",
      "</footer>\n",
      "</article>\n",
      "</div>\n",
      "<div class=\"views-row views-row-8 views-row-even\">\n",
      "<article class=\"node node-product node-promoted node-teaser clearfix\" id=\"node-514\">\n",
      "<header>\n",
      "<h2><a href=\"/superscratch3\">Super Scratch Programming Adventure! (Scratch 3)</a></h2>\n",
      "</header>\n",
      "<div class=\"field field-name-field-image-cache field-type-image field-label-hidden\"><div class=\"field-items\"><div class=\"field-item even\"><a href=\"/superscratch3\"><img alt=\"Super Scratch Programming Adventure! (Scratch 3)\" class=\"img-responsive\" height=\"225\" src=\"https://nostarch.com/sites/default/files/styles/uc_product/public/SSPA3_cvr_01.jpg?itok=DXcaSQ8w\" title=\"Super Scratch Programming Adventure! (Scratch 3)\" width=\"160\"/></a></div></div></div><div class=\"field field-name-body field-type-text-with-summary field-label-hidden\"><div class=\"field-items\"><div class=\"field-item even\"><p>In <a href=\"/superscratch3\">Super Scratch Programming Adventure! (Scratch 3)</a>, kids learn programming fundamentals as they make their very own playable video games. Now updated to cover Scratch 3!</p>\n",
      "</div></div></div>\n",
      "<footer>\n",
      "</footer>\n",
      "</article>\n",
      "</div>\n",
      "<div class=\"views-row views-row-9 views-row-odd\">\n",
      "<article class=\"node node-product node-promoted node-teaser clearfix\" id=\"node-513\">\n",
      "<header>\n",
      "<h2><a href=\"/legocastle\">The LEGO Castle Book</a></h2>\n",
      "</header>\n",
      "<div class=\"field field-name-field-image-cache field-type-image field-label-hidden\"><div class=\"field-items\"><div class=\"field-item even\"><a href=\"/legocastle\"><img alt=\"The LEGO Castle Book\" class=\"img-responsive\" height=\"225\" src=\"https://nostarch.com/sites/default/files/styles/uc_product/public/TheLEGOCastleBook_front_cover.png?itok=ZCxC6YHH\" title=\"The LEGO Castle Book\" width=\"225\"/></a></div></div></div><div class=\"field field-name-body field-type-text-with-summary field-label-hidden\"><div class=\"field-items\"><div class=\"field-item even\"><p><a href=\"/legomicrocities\">The LEGO Castle Book</a> is your step-by-step guide to building building beautiful LEGO Castles in microscale.</p>\n",
      "</div></div></div>\n",
      "<footer>\n",
      "</footer>\n",
      "</article>\n",
      "</div>\n",
      "<div class=\"views-row views-row-10 views-row-even views-row-last\">\n",
      "<article class=\"node node-product node-promoted node-teaser clearfix\" id=\"node-521\">\n",
      "<header>\n",
      "<h2><a href=\"/foundationsinfosec\">Foundations of Information Security</a></h2>\n",
      "</header>\n",
      "<div class=\"field field-name-field-image-cache field-type-image field-label-hidden\"><div class=\"field-items\"><div class=\"field-item even\"><a href=\"/foundationsinfosec\"><img alt=\"Foundations of Information Security\" class=\"img-responsive\" height=\"225\" src=\"https://nostarch.com/sites/default/files/styles/uc_product/public/fis_front_cover.png?itok=CyYqF8gP\" title=\"Foundations of Information Security\" width=\"170\"/></a></div></div></div><div class=\"field field-name-body field-type-text-with-summary field-label-hidden\"><div class=\"field-items\"><div class=\"field-item even\"><p><a href=\"/foundationsinfosec\">Foundations of Information Security</a> provides a high-level overview of the information security field. <b><i>Now available in Early Access!</i></b></p>\n",
      "</div></div></div>\n",
      "<footer>\n",
      "</footer>\n",
      "</article>\n",
      "</div>\n",
      "</div>\n",
      "<div class=\"view-footer\">\n",
      "<div class=\"feed-icon\">\n",
      "<a class=\"feed-icon\" href=\"/feeds/comingsoon.xml\" title=\"Subscribe to No Starch Press - Coming Soon\"><img alt=\"Subscribe to No Starch Press - Coming Soon\" class=\"img-responsive\" height=\"16\" src=\"/misc/feed.png\" width=\"16\"/></a> </div> </div>\n",
      "</div>\n",
      "</section>\n",
      "</div></div>\n",
      "</section>\n",
      "</div>\n",
      "</section>\n",
      "<aside class=\"col-sm-3\" role=\"complementary\">\n",
      "<div class=\"region region-sidebar-second\">\n",
      "<section class=\"block block-system block-menu clearfix\" id=\"block-system-navigation\">\n",
      "<h2 class=\"block-title\">Navigation</h2>\n",
      "<ul class=\"menu nav\"><li class=\"first last leaf\"><a href=\"/user\" title=\"\">My account</a></li>\n",
      "</ul>\n",
      "</section>\n",
      "<section class=\"block block-block clearfix\" id=\"block-block-52\">\n",
      "<p><a href=\"/mailchimp/subscribe\">Want sweet deals? <br/>Sign up for our newsletter.</a></p>\n",
      "</section>\n",
      "<section class=\"block block-block clearfix\" id=\"block-block-1\">\n",
      "<h2 class=\"block-title\">News</h2>\n",
      "<p>Check out our new <a href=\"/no-starch-gotta-have-it-death-metal-t-shirt\" style=\"text-decoration:underline;\">death metal tees</a>!</p>\n",
      "<p>Now available in <a href=\"/aboutearlyaccess\" style=\"text-decoration:underline;\">Early Access</a>!</p>\n",
      "<p>❧ <a href=\"/cppcrashcourse\" style=\"text-decoration:underline;\">C++ Crash Course</a><br/>\n",
      "❧ <a href=\"/foundationsinfosec\" style=\"text-decoration:underline;\">Foundations of Information Security</a><br/>\n",
      "❧ <a href=\"/bughunting\" style=\"text-decoration:underline;\">Real-World Bug Hunting</a><br/>\n",
      "❧ <a href=\"/scratchcards3\" style=\"text-decoration:underline;\">The Official Scratch Coding Cards (Scratch 3.0)</a><br/>\n",
      "❧ <a href=\"/3Dmodelingformakers\" style=\"text-decoration:underline;\">A Beginner's Guide to 3D Modeling</a></p>\n",
      "<p>Read <b><a href=\"/crackingcodes\" style=\"text-decoration:underline;\" target=\"_blank\">Cracking Codes with Python</a></b> author Al Sweigart's <b><a href=\"https://www.reddit.com/r/learnpython/comments/7sigre/my_new_book_cracking_codes_with_python_is_now/\" style=\"text-decoration:underline;\" target=\"_blank\">Reddit AMA</a></b>.</p>\n",
      "<p><b><a href=\"/nsm\" style=\"text-decoration:underline;\" target=\"_blank\">The Practice of Network Security Monitoring</a></b> was inducted into Palo Alto Networks <b><a href=\"https://cybercanon.paloaltonetworks.com/\" style=\"text-decoration:underline;\" target=\"_blank\">Cybersecurity Canon</a></b>.</p>\n",
      "<p>Read Andrew “bunnie” Huang’s <b><a href=\"https://www.reddit.com/r/netsec/comments/5xli3d/hi_im_bunnie_author_of_the_the_hardware_hacker/\" style=\"text-decoration:underline;\" target=\"_blank\">Reddit AMA</a></b>.</p>\n",
      "<p><b><a href=\"http://www.vox.com/videos/2017/2/6/14445516/minecraft-art-business-maps\" style=\"text-decoration:underline;\" target=\"_blank\">Vox</a></b> interviewed the author of <b><a href=\"/beautifulminecraft\" style=\"text-decoration:underline;\" target=\"_blank\">Beautiful Minecraft</a></b> and discovered how the game became an artistic medium.</p>\n",
      "<p>“A look inside a mind without peer.” <b>Edward Snowden</b> on <b><a href=\"/hardwarehacker\" style=\"text-decoration:underline;\" target=\"_blank\">The Hardware Hacker</a></b>.</p>\n",
      "<p><b><a href=\"/facebookforseniors\" style=\"text-decoration:underline;\" target=\"_blank\">Facebook for Seniors</a></b> is one of the <b><a href=\"http://www.wsj.com/articles/the-best-geeky-books-to-kick-off-the-new-year-1483637008\" style=\"text-decoration:underline;\" target=\"_blank\">Wall Street Journal’s</a></b> recommended geeky books to kick off the new year!</p>\n",
      "<p>Natalie Rusk, creator of the <a href=\"/scratchcards\" style=\"text-decoration:underline;\" target=\"_blank\"><b>Scratch Coding Cards</b></a>, shares tips for supporting creative coding on the <b><a href=\"https://www.iste.org/explore/articleDetail?articleid=864&amp;category=In-the-classroom&amp;article=5+ways+to+support+creative+coding\" style=\"text-decoration:underline;\" target=\"_blank\">ISTE blog</a></b></p>\n",
      "<p>Merry Brickmas! <a href=\"/legochristmas\" style=\"text-decoration:underline;\" target=\"_blank\"><b>The LEGO Christmas Ornaments Book</b></a> is featured in <b><a href=\"/download/LEGOChristmasOrnaments_FamilyCircle.pdf\" style=\"text-decoration:underline;\" target=\"_blank\">Family Circle Magazine</a></b> and <b><a href=\"http://www.chicagotribune.com/lifestyles/holiday/giftguide/sc-gift-guide-childrens-books-2016--gallery-20161108-photogallery.html\" style=\"text-decoration:underline;\" target=\"_blank\">The Chicago Tribune</a></b>!</p>\n",
      "<p>Dave Taylor, author of <b><a href=\"/wcss2\" style=\"text-decoration:underline;\" target=\"_blank\">Wicked Cool Shell Scripts</a></b>, shares how to make an interactive calculator on <b><a href=\"https://opensource.com/article/16/12/calcshell-interactive-linux-command-line-calculator\" style=\"text-decoration:underline;\" target=\"_blank\">Opensource.com</a></b></p>\n",
      "<p>Bring your LEGO collection to life: <a href=\"/legoanimation\" style=\"text-decoration:underline;\" target=\"_blank\"><b>The LEGO Animation Book</b></a> is included in <a href=\"https://www.theverge.com/a/holiday-gift-ideas-2016#lego-animation-book\" style=\"text-decoration:underline;\" target=\"_blank\"><b>The Verge’s Holiday Gift Guide</b></a>.</p>\n",
      "<p>Need a few geeky summer reads? <b><a href=\"http://www.wsj.com/articles/three-books-every-geek-should-read-this-summer-1466715350\" style=\"text-decoration:underline;\" target=\"_blank\">The Wall Street Journal</a></b> recommends <b><a href=\"/electronicsforkids\" style=\"text-decoration:underline;\" target=\"_blank\">Electronics for Kids</a></b> and <b><a href=\"/searchtale\" style=\"text-decoration:underline;\" target=\"_blank\">The CS Detective</a></b>!</p>\n",
      "<p>The author of <b><a href=\"/tinylegowonders\" style=\"text-decoration:underline;\" target=\"_blank\">Tiny LEGO Wonders</a></b>, Mattia Zamboni, was interviewed by Vice’s <b><a href=\"https://thecreatorsproject.vice.com/blog/diy-lego-engineering-book\" style=\"text-decoration:underline;\" target=\"_blank\">The Creators Project</a></b>.</p>\n",
      "<p><b><a href=\"http://www.slj.com/2016/05/collection-development/read-watch-alikes/coding-lets-begin/#_\" style=\"text-decoration:underline;\" target=\"_blank\">School Library Journal</a></b> recommends <b><a href=\"/scratchjr\" style=\"text-decoration:underline;\" target=\"_blank\">The Official ScratchJr Book</a></b>, <b><a href=\"/teachkids\" style=\"text-decoration:underline;\" target=\"_blank\">Teach Your Kids to Code</a></b>, and <b><a href=\"/doingmathwithpython\" style=\"text-decoration:underline;\" target=\"_blank\">Doing Math with Python</a></b> for educators who want to teach coding.</p>\n",
      "<p><b><a href=\"/carhacking\" style=\"text-decoration:underline;\" target=\"_blank\">The Car Hacker’s Handbook</a></b> is the <b><a href=\"http://www.wsj.com/articles/3-must-read-books-for-geeks-1458057671?tesla=y\" style=\"text-decoration:underline;\" target=\"_blank\">Wall Street Journal’s</a></b> latest must-read book for geeks!</p>\n",
      "<p>No Starch Press founder, Bill Pollock, did a Reddit AMA with authors <a href=\"/metasploit\" style=\"text-decoration:underline;\" target=\"_blank\">David Kennedy</a>, <a href=\"/hacking2.htm target=new\">Jon Erickson</a>, <a href=\"/malware\" style=\"text-decoration:underline;\" target=\"_blank\">Michael Sikorski</a>, and <a href=\"/idapro2.htm\" style=\"text-decoration:underline;\" target=\"_blank\">Chris Eagle</a>. Read the AMA <b><a href=\"https://www.reddit.com/r/netsec/comments/3waa8x/im_bill_pollock_no_starch_press_founder_im_here/\" style=\"text-decoration:underline;\" target=\"_blank\">here</a></b>.</p>\n",
      "<p>Why publish books about Scratch? The Scratch Foundation and Bill Pollock answer in this <a href=\"https://medium.com/scratchfoundation-blog/why-publish-books-about-scratch-7ea0b72cd9af\" style=\"text-decoration:underline;\" target=\"_blank\"><b>Medium post</b></a>.</p>\n",
      "<p>Be the Corbusier of LEGO: <a href=\"/legoarchitect\" style=\"text-decoration:underline;\" target=\"_blank\"><b>The LEGO Architect</b></a> is included in <a href=\"http://graphics.wsj.com/off-duty-50/a-guide-to-fall-2015/1278/be-the-corbusier-of-lego\" style=\"text-decoration:underline;\" target=\"_blank\"><b>The Wall Street Journal’s guide to Fall’s Best</b></a>.</p>\n",
      "<p><a href=\"/smartgirlsguide\" style=\"text-decoration:underline;\" target=\"_blank\"><b>The Smart Girl’s Guide to Privacy</b></a> hits the cover of <a href=\"https://twitter.com/violetblue/status/652989002677534720/photo/1\" style=\"text-decoration:underline;\" target=\"_blank\"><b>BUST Magazine</b></a>!</p>\n",
      "<p>No Starch Press fans found <b><a href=\"https://twitter.com/billpollock/status/616127920042479616\" style=\"text-decoration:underline;\" target=\"_blank\">our sticker</a></b> and <b><a href=\"https://twitter.com/aCaltum/status/596735294818385920\" style=\"text-decoration:underline;\" target=\"_blank\">Hacking: The Art of Exploitation</a></b> in recent episodes of HBO’s Silicon Valley!</p>\n",
      "</section>\n",
      "<section class=\"block block-block clearfix\" id=\"block-block-7\">\n",
      "<h2 class=\"block-title\">Follow Us</h2>\n",
      "<p><a href=\"feeds/newbooks.xml\"><img align=\"left\" alt=\"RSS Feed\" border=\"0\" src=\"/misc/feed.png\" style=\"padding-bottom:8px; padding-right:8px;\">New Releases</img></a></p>\n",
      "<p><a href=\"feeds/comingsoon.xml\"><img align=\"left\" alt=\"RSS Feed\" border=\"0\" src=\"/misc/feed.png\" style=\"padding-bottom:8px; padding-right:8px;\"/>Coming Soon</a></p>\n",
      "<p><a href=\"/mailchimp/subscribe\"><img align=\"left\" alt=\"Newsletter\" border=\"0\" src=\"/sites/default/files/email-16.png\" style=\"padding-bottom:8px;padding-right:8px;\"/>Subscribe to our Newsletter</a></p>\n",
      "<p><a href=\"https://www.twitter.com/nostarch\"><img align=\"left\" alt=\"Twitter\" border=\"0\" src=\"/sites/default/files/twitter-16x16.png\" style=\"padding-bottom:8px;padding-right:8px;\"/>Twitter</a></p>\n",
      "<p><a href=\"https://www.facebook.com/NoStarchPress/\"><img align=\"left\" alt=\"Facebook\" border=\"0\" src=\"/sites/default/files/facebook_small.png\" style=\"padding-bottom:8px;padding-right:8px;\"/>Facebook</a></p>\n",
      "</section>\n",
      "</div>\n",
      "</aside>\n",
      "\n",
      "\n",
      "<footer class=\"footer container\">\n",
      "<div class=\"region region-footer\">\n",
      "<section class=\"block block-block clearfix\" id=\"block-block-16\">\n",
      "<div id=\"footer-links\">\n",
      "<br/>\n",
      "<a class=\"footer-links\" href=\"/about.htm\">About Us</a>\n",
      " <span class=\"footer-divider\">|</span> \n",
      "<a class=\"footer-links\" href=\"/Jobs.htm\">Jobs!</a>\n",
      " <span class=\"footer-divider\">|</span> \n",
      "<a class=\"footer-links\" href=\"/distribution.htm\">Sales and Distribution</a>\n",
      " <span class=\"footer-divider\">|</span> \n",
      "<a class=\"footer-links\" href=\"/rights\">Rights</a>\n",
      " <span class=\"footer-divider\">|</span> \n",
      "<a class=\"footer-links\" href=\"/media.htm\">Media</a>\n",
      " <span class=\"footer-divider\">|</span> \n",
      "<a class=\"footer-links\" href=\"/academic.htm\">Academic Requests</a>\n",
      " <span class=\"footer-divider\">|</span> \n",
      "<a class=\"footer-links\" href=\"/conferences.htm\">Conferences</a>\n",
      " <span class=\"footer-divider\">|</span> \n",
      "<a class=\"footer-links\" href=\"/orderfaq.htm\">Order FAQ</a>\n",
      " <span class=\"footer-divider\">|</span> \n",
      "<a class=\"footer-links\" href=\"/contactus\">Contact Us</a>\n",
      " <span class=\"footer-divider\">|</span> \n",
      "<a class=\"footer-links\" href=\"/writeforus\">Write for Us</a>\n",
      " <span class=\"footer-divider\">|</span> \n",
      "<a class=\"footer-links\" href=\"/privacypolicy.htm\">Privacy</a>\n",
      "</div>\n",
      "</section>\n",
      "<section class=\"block block-nostarch-custom clearfix\" id=\"block-nostarch-custom-custom-footer-copyright\">\n",
      "<div class=\"block-block\">\n",
      "<p>Copyright 2019. No Starch Press, Inc</p>\n",
      "</div>\n",
      "</section>\n",
      "</div>\n",
      "</footer>\n",
      "<script src=\"https://nostarch.com/sites/default/files/js/js_MLVgtzZ1ORq9krYqkeOsRay6ou_T-0QZytivuM9tTT8.js\"></script>\n",
      "<script src=\"https://nostarch.com/sites/default/files/js/js_MRdvkC2u4oGsp5wVxBG1pGV5NrCPW3mssHxIn6G9tGE.js\"></script>\n",
      "\n",
      "\n",
      "\n"
     ]
    }
   ],
   "source": [
    "noStarchSoup = bs4.BeautifulSoup(res.text)\n",
    "type(noStarchSoup)\n",
    "print(noStarchSoup)"
   ]
  },
  {
   "cell_type": "markdown",
   "metadata": {},
   "source": [
    "This code uses requests.get() to download the main page from the No Starch Press website and then passes the text attribute of the response to bs4.BeautifulSoup(). The BeautifulSoup object that it returns is stored in a variable named noStarchSoup.\n",
    "\n",
    "You can also load an HTML file from your hard drive by passing a File object to bs4.BeautifulSoup()."
   ]
  },
  {
   "cell_type": "code",
   "execution_count": 47,
   "metadata": {},
   "outputs": [],
   "source": [
    "exampleFile = open('example.html', 'wb')"
   ]
  },
  {
   "cell_type": "code",
   "execution_count": 48,
   "metadata": {},
   "outputs": [
    {
     "data": {
      "text/plain": [
       "['.idea', 'example.html', 'mapIt.py', 'RomeoAndJuliet.txt']"
      ]
     },
     "execution_count": 48,
     "metadata": {},
     "output_type": "execute_result"
    }
   ],
   "source": [
    "os.listdir()"
   ]
  },
  {
   "cell_type": "code",
   "execution_count": 49,
   "metadata": {},
   "outputs": [
    {
     "ename": "UnsupportedOperation",
     "evalue": "read",
     "output_type": "error",
     "traceback": [
      "\u001b[1;31m---------------------------------------------------------------------------\u001b[0m",
      "\u001b[1;31mUnsupportedOperation\u001b[0m                      Traceback (most recent call last)",
      "\u001b[1;32m<ipython-input-49-f20f499eaff7>\u001b[0m in \u001b[0;36m<module>\u001b[1;34m\u001b[0m\n\u001b[1;32m----> 1\u001b[1;33m \u001b[0mexampleSoup\u001b[0m \u001b[1;33m=\u001b[0m \u001b[0mbs4\u001b[0m\u001b[1;33m.\u001b[0m\u001b[0mBeautifulSoup\u001b[0m\u001b[1;33m(\u001b[0m\u001b[0mexampleFile\u001b[0m\u001b[1;33m)\u001b[0m\u001b[1;33m\u001b[0m\u001b[1;33m\u001b[0m\u001b[0m\n\u001b[0m",
      "\u001b[1;32mc:\\users\\david ly\\appdata\\local\\programs\\python\\python37-32\\lib\\site-packages\\bs4\\__init__.py\u001b[0m in \u001b[0;36m__init__\u001b[1;34m(self, markup, features, builder, parse_only, from_encoding, exclude_encodings, **kwargs)\u001b[0m\n\u001b[0;32m    242\u001b[0m \u001b[1;33m\u001b[0m\u001b[0m\n\u001b[0;32m    243\u001b[0m         \u001b[1;32mif\u001b[0m \u001b[0mhasattr\u001b[0m\u001b[1;33m(\u001b[0m\u001b[0mmarkup\u001b[0m\u001b[1;33m,\u001b[0m \u001b[1;34m'read'\u001b[0m\u001b[1;33m)\u001b[0m\u001b[1;33m:\u001b[0m        \u001b[1;31m# It's a file-type object.\u001b[0m\u001b[1;33m\u001b[0m\u001b[1;33m\u001b[0m\u001b[0m\n\u001b[1;32m--> 244\u001b[1;33m             \u001b[0mmarkup\u001b[0m \u001b[1;33m=\u001b[0m \u001b[0mmarkup\u001b[0m\u001b[1;33m.\u001b[0m\u001b[0mread\u001b[0m\u001b[1;33m(\u001b[0m\u001b[1;33m)\u001b[0m\u001b[1;33m\u001b[0m\u001b[1;33m\u001b[0m\u001b[0m\n\u001b[0m\u001b[0;32m    245\u001b[0m         elif len(markup) <= 256 and (\n\u001b[0;32m    246\u001b[0m                 \u001b[1;33m(\u001b[0m\u001b[0misinstance\u001b[0m\u001b[1;33m(\u001b[0m\u001b[0mmarkup\u001b[0m\u001b[1;33m,\u001b[0m \u001b[0mbytes\u001b[0m\u001b[1;33m)\u001b[0m \u001b[1;32mand\u001b[0m \u001b[1;32mnot\u001b[0m \u001b[1;34mb'<'\u001b[0m \u001b[1;32min\u001b[0m \u001b[0mmarkup\u001b[0m\u001b[1;33m)\u001b[0m\u001b[1;33m\u001b[0m\u001b[1;33m\u001b[0m\u001b[0m\n",
      "\u001b[1;31mUnsupportedOperation\u001b[0m: read"
     ]
    }
   ],
   "source": [
    "exampleSoup = bs4.BeautifulSoup(exampleFile)"
   ]
  },
  {
   "cell_type": "markdown",
   "metadata": {},
   "source": [
    "### Finding an Element with the select() Method\n",
    "\n",
    "You can retrieve a web page element from a BeautifulSoup object by calling the select()method and passing a string of a CSS selector for the element you are looking for. Selectors are like regular expressions: They specify a pattern to look for, in this case, in HTML pages instead of general text strings.\n",
    "\n",
    "A full discussion of CSS selector syntax is beyond the scope of this book (there’s a good selector tutorial in the resources at http://nostarch.com/automatestuff/), but here’s a short introduction to selectors. Table 11-2 shows examples of the most common CSS selector patterns."
   ]
  },
  {
   "cell_type": "code",
   "execution_count": 50,
   "metadata": {},
   "outputs": [],
   "source": [
    "exampleFile.close()"
   ]
  },
  {
   "cell_type": "markdown",
   "metadata": {},
   "source": [
    "Selector passed to the select() method\n",
    "\t\n",
    "\n",
    "Will match...\n",
    "\n",
    "soup.select('div')\n",
    "\t\n",
    "\n",
    "All elements named <div>\n",
    "\n",
    "soup.select('#author')\n",
    "\t\n",
    "\n",
    "The element with an id attribute of author\n",
    "\n",
    "soup.select('.notice')\n",
    "\t\n",
    "\n",
    "All elements that use a CSS class attribute named notice\n",
    "\n",
    "soup.select('div span')\n",
    "\t\n",
    "\n",
    "All elements named <span> that are within an element named <div>\n",
    "\n",
    "soup.select('div > span')\n",
    "\t\n",
    "\n",
    "All elements named <span> that are directly within an element named <div>, with no other element in between\n",
    "\n",
    "soup.select('input[name]')\n",
    "\t\n",
    "\n",
    "All elements named <input> that have a name attribute with any value\n",
    "\n",
    "soup.select('input[type=\"button\"]')\n",
    "\t\n",
    "\n",
    "All elements named <input> that have an attribute named type with value button"
   ]
  },
  {
   "cell_type": "markdown",
   "metadata": {},
   "source": [
    "The various selector patterns can be combined to make sophisticated matches. For example, soup.select('p #author') will match any element that has an id attribute of author, as long as it is also inside a <p> element.\n",
    "\n",
    "The select() method will return a list of Tag objects, which is how Beautiful Soup represents an HTML element. The list will contain one Tag object for every match in the BeautifulSoup object’s HTML. Tag values can be passed to the str() function to show the HTML tags they represent. Tag values also have an attrs attribute that shows all the HTML attributes of the tag as a dictionary."
   ]
  },
  {
   "cell_type": "code",
   "execution_count": 51,
   "metadata": {},
   "outputs": [],
   "source": [
    "import bs4"
   ]
  },
  {
   "cell_type": "code",
   "execution_count": 63,
   "metadata": {},
   "outputs": [],
   "source": [
    "exampleFile = open('example.html')"
   ]
  },
  {
   "cell_type": "code",
   "execution_count": 64,
   "metadata": {},
   "outputs": [],
   "source": [
    "exampleSoup = bs4.BeautifulSoup(exampleFile.read())"
   ]
  },
  {
   "cell_type": "code",
   "execution_count": 65,
   "metadata": {},
   "outputs": [],
   "source": [
    "elems = exampleSoup.select('#author') # search for element with an id attribute of author"
   ]
  },
  {
   "cell_type": "code",
   "execution_count": 66,
   "metadata": {},
   "outputs": [
    {
     "data": {
      "text/plain": [
       "list"
      ]
     },
     "execution_count": 66,
     "metadata": {},
     "output_type": "execute_result"
    }
   ],
   "source": [
    "type(elems)"
   ]
  },
  {
   "cell_type": "code",
   "execution_count": 67,
   "metadata": {},
   "outputs": [
    {
     "name": "stdout",
     "output_type": "stream",
     "text": [
      "[<span id=\"author\">Al Sweigart</span>]\n"
     ]
    }
   ],
   "source": [
    "print(elems)"
   ]
  },
  {
   "cell_type": "code",
   "execution_count": 68,
   "metadata": {},
   "outputs": [
    {
     "data": {
      "text/plain": [
       "[<span id=\"author\">Al Sweigart</span>]"
      ]
     },
     "execution_count": 68,
     "metadata": {},
     "output_type": "execute_result"
    }
   ],
   "source": [
    "elems"
   ]
  },
  {
   "cell_type": "code",
   "execution_count": 69,
   "metadata": {},
   "outputs": [
    {
     "data": {
      "text/plain": [
       "1"
      ]
     },
     "execution_count": 69,
     "metadata": {},
     "output_type": "execute_result"
    }
   ],
   "source": [
    "len(elems)"
   ]
  },
  {
   "cell_type": "code",
   "execution_count": 70,
   "metadata": {},
   "outputs": [
    {
     "data": {
      "text/plain": [
       "bs4.element.Tag"
      ]
     },
     "execution_count": 70,
     "metadata": {},
     "output_type": "execute_result"
    }
   ],
   "source": [
    "type(elems[0])"
   ]
  },
  {
   "cell_type": "code",
   "execution_count": 74,
   "metadata": {},
   "outputs": [
    {
     "data": {
      "text/plain": [
       "'Al Sweigart'"
      ]
     },
     "execution_count": 74,
     "metadata": {},
     "output_type": "execute_result"
    }
   ],
   "source": [
    "# Calling getText() on the element returns the element’s text, or inner HTML\n",
    "elems[0].getText() # text of an element is the content between the opening and closing tags"
   ]
  },
  {
   "cell_type": "code",
   "execution_count": 72,
   "metadata": {},
   "outputs": [
    {
     "data": {
      "text/plain": [
       "'<span id=\"author\">Al Sweigart</span>'"
      ]
     },
     "execution_count": 72,
     "metadata": {},
     "output_type": "execute_result"
    }
   ],
   "source": [
    "str(elems[0])"
   ]
  },
  {
   "cell_type": "code",
   "execution_count": 73,
   "metadata": {},
   "outputs": [
    {
     "data": {
      "text/plain": [
       "{'id': 'author'}"
      ]
     },
     "execution_count": 73,
     "metadata": {},
     "output_type": "execute_result"
    }
   ],
   "source": [
    "elems[0].attrs"
   ]
  },
  {
   "cell_type": "markdown",
   "metadata": {},
   "source": [
    "This code will pull the element with id=\"author\" out of our example HTML. We use select('#author') to return a list of all the elements with id=\"author\". We store this list of Tag objects in the variable elems, and len(elems) tells us there is one Tag object in the list; there was one match. Calling getText() on the element returns the element’s text, or inner HTML. The text of an element is the content between the opening and closing tags: in this case, 'Al Sweigart'.\n",
    "\n",
    "Passing the element to str() returns a string with the starting and closing tags and the element’s text. Finally, attrs gives us a dictionary with the element’s attribute, 'id', and the value of the id attribute, 'author'.\n",
    "\n",
    "You can also pull all the <p> elements from the BeautifulSoup object. "
   ]
  },
  {
   "cell_type": "code",
   "execution_count": 75,
   "metadata": {},
   "outputs": [],
   "source": [
    "pElems = exampleSoup.select('p')"
   ]
  },
  {
   "cell_type": "code",
   "execution_count": 76,
   "metadata": {},
   "outputs": [
    {
     "data": {
      "text/plain": [
       "'<p>Download my <strong>Python</strong> book from <a href=\"http://\\ninventwithpython.com\">my website</a>.</p>'"
      ]
     },
     "execution_count": 76,
     "metadata": {},
     "output_type": "execute_result"
    }
   ],
   "source": [
    "str(pElems[0])"
   ]
  },
  {
   "cell_type": "code",
   "execution_count": 77,
   "metadata": {},
   "outputs": [
    {
     "data": {
      "text/plain": [
       "'Download my Python book from my website.'"
      ]
     },
     "execution_count": 77,
     "metadata": {},
     "output_type": "execute_result"
    }
   ],
   "source": [
    "pElems[0].getText()"
   ]
  },
  {
   "cell_type": "code",
   "execution_count": 78,
   "metadata": {},
   "outputs": [
    {
     "data": {
      "text/plain": [
       "'<p class=\"slogan\">Learn Python the easy way!</p>'"
      ]
     },
     "execution_count": 78,
     "metadata": {},
     "output_type": "execute_result"
    }
   ],
   "source": [
    "str(pElems[1])"
   ]
  },
  {
   "cell_type": "code",
   "execution_count": 79,
   "metadata": {},
   "outputs": [
    {
     "data": {
      "text/plain": [
       "'<p>By <span id=\"author\">Al Sweigart</span></p>'"
      ]
     },
     "execution_count": 79,
     "metadata": {},
     "output_type": "execute_result"
    }
   ],
   "source": [
    "str(pElems[2])"
   ]
  },
  {
   "cell_type": "code",
   "execution_count": 80,
   "metadata": {},
   "outputs": [
    {
     "data": {
      "text/plain": [
       "'By Al Sweigart'"
      ]
     },
     "execution_count": 80,
     "metadata": {},
     "output_type": "execute_result"
    }
   ],
   "source": [
    "pElems[2].getText()"
   ]
  },
  {
   "cell_type": "markdown",
   "metadata": {},
   "source": [
    "This time, select() gives us a list of three matches, which we store in pElems. Using str() on pElems[0], pElems[1], and pElems[2] shows you each element as a string, and using getText() on each element shows you its text."
   ]
  },
  {
   "cell_type": "code",
   "execution_count": 81,
   "metadata": {},
   "outputs": [
    {
     "data": {
      "text/plain": [
       "[<p>Download my <strong>Python</strong> book from <a href=\"http://\n",
       " inventwithpython.com\">my website</a>.</p>,\n",
       " <p class=\"slogan\">Learn Python the easy way!</p>,\n",
       " <p>By <span id=\"author\">Al Sweigart</span></p>]"
      ]
     },
     "execution_count": 81,
     "metadata": {},
     "output_type": "execute_result"
    }
   ],
   "source": [
    "pElems"
   ]
  },
  {
   "cell_type": "code",
   "execution_count": 82,
   "metadata": {},
   "outputs": [
    {
     "data": {
      "text/plain": [
       "list"
      ]
     },
     "execution_count": 82,
     "metadata": {},
     "output_type": "execute_result"
    }
   ],
   "source": [
    "type(pElems)"
   ]
  },
  {
   "cell_type": "code",
   "execution_count": 108,
   "metadata": {},
   "outputs": [
    {
     "name": "stdout",
     "output_type": "stream",
     "text": [
      "Download my Python book from my website.\n",
      "Learn Python the easy way!\n",
      "By Al Sweigart\n"
     ]
    }
   ],
   "source": [
    "for i in range(3):\n",
    "    print(pElems[i].getText())"
   ]
  },
  {
   "cell_type": "code",
   "execution_count": 100,
   "metadata": {},
   "outputs": [
    {
     "name": "stdout",
     "output_type": "stream",
     "text": [
      "<p>Download my <strong>Python</strong> book from <a href=\"http://\n",
      "inventwithpython.com\">my website</a>.</p>\n",
      "<p class=\"slogan\">Learn Python the easy way!</p>\n",
      "<p>By <span id=\"author\">Al Sweigart</span></p>\n"
     ]
    }
   ],
   "source": [
    "print(pElems[0])\n",
    "print(pElems[1])\n",
    "print(pElems[2])"
   ]
  },
  {
   "cell_type": "markdown",
   "metadata": {},
   "source": [
    "### Getting Data from an Element’s Attributes\n",
    "\n",
    "The get() method for Tag objects makes it simple to access attribute values from an element. The method is passsing a string of an attribute name and returns that attribute’s value. "
   ]
  },
  {
   "cell_type": "code",
   "execution_count": 112,
   "metadata": {},
   "outputs": [
    {
     "data": {
      "text/plain": [
       "'<span id=\"author\">Al Sweigart</span>'"
      ]
     },
     "execution_count": 112,
     "metadata": {},
     "output_type": "execute_result"
    }
   ],
   "source": [
    "from bs4 import BeautifulSoup\n",
    "soup = bs4.BeautifulSoup(open('example.html'))\n",
    "spanElem = soup.select('span')[0]\n",
    "str(spanElem)"
   ]
  },
  {
   "cell_type": "code",
   "execution_count": 114,
   "metadata": {},
   "outputs": [
    {
     "data": {
      "text/plain": [
       "'author'"
      ]
     },
     "execution_count": 114,
     "metadata": {},
     "output_type": "execute_result"
    }
   ],
   "source": [
    "spanElem.get('id') # id element of span"
   ]
  },
  {
   "cell_type": "code",
   "execution_count": 115,
   "metadata": {},
   "outputs": [
    {
     "data": {
      "text/plain": [
       "True"
      ]
     },
     "execution_count": 115,
     "metadata": {},
     "output_type": "execute_result"
    }
   ],
   "source": [
    "spanElem.get('some_nonexistent_addr') == None"
   ]
  },
  {
   "cell_type": "code",
   "execution_count": 116,
   "metadata": {},
   "outputs": [
    {
     "data": {
      "text/plain": [
       "{'id': 'author'}"
      ]
     },
     "execution_count": 116,
     "metadata": {},
     "output_type": "execute_result"
    }
   ],
   "source": [
    "spanElem.attrs # attributes of span element"
   ]
  },
  {
   "cell_type": "markdown",
   "metadata": {},
   "source": [
    "### Project: “I’m Feeling Lucky” Google Search\n",
    "\n",
    "Whenever I search a topic on Google, I don’t look at just one search result at a time. By middle-clicking a search result link (or clicking while holding CTRL), I open the first several links in a bunch of new tabs to read later. I search Google often enough that this workflow—opening my browser, searching for a topic, and middle-clicking several links one by one—is tedious. It would be nice if I could simply type a search term on the command line and have my computer automatically open a browser with all the top search results in new tabs. Let’s write a script to do this.\n",
    "\n",
    "This is what your program does:\n",
    "\n",
    "    Gets search keywords from the command line arguments.\n",
    "\n",
    "    Retrieves the search results page.\n",
    "\n",
    "    Opens a browser tab for each result.\n",
    "\n",
    "This means your code will need to do the following:\n",
    "\n",
    "    Read the command line arguments from sys.argv.\n",
    "\n",
    "    Fetch the search result page with the requests module.\n",
    "\n",
    "    Find the links to each search result.\n",
    "\n",
    "    Call the webbrowser.open() function to open the web browser.\n",
    "\n"
   ]
  },
  {
   "cell_type": "markdown",
   "metadata": {},
   "source": [
    "### Step 1: Get the Command Line Arguments and Request the Search Page\n",
    "\n",
    "Before coding anything, you first need to know the URL of the search result page. By looking at the browser’s address bar after doing a Google search, you can see that the result page has a URL like https://www.google.com/search?q=SEARCH_TERM_HERE. The requests module can download this page and then you can use Beautiful Soup to find the search result links in the HTML. Finally, you’ll use the webbrowser module to open those links in browser tabs."
   ]
  },
  {
   "cell_type": "code",
   "execution_count": 118,
   "metadata": {},
   "outputs": [
    {
     "name": "stdout",
     "output_type": "stream",
     "text": [
      "Googlin...\n",
      "None\n"
     ]
    }
   ],
   "source": [
    "#! python3\n",
    "# lucky.py - Opens several Google search results.\n",
    "\n",
    "import requests, sys, webbrowser, bs4\n",
    "\n",
    "print('Googlin...')\n",
    "res = requests.get('http://google.com/search?q=' + ' '.join(sys.argv[1:]))\n",
    "print(res)\n",
    "res.raise_for_status()\n",
    "print(res.raise_for_status())\n",
    "\n",
    "# TODO: Retrieve top search result links.\n",
    "\n",
    "# TODO: Open a browser tab for each result."
   ]
  },
  {
   "cell_type": "markdown",
   "metadata": {},
   "source": [
    "### Step 2: Find All the Results\n",
    "\n",
    "Now you need to use Beautiful Soup to extract the top search result links from your downloaded HTML. But how do you figure out the right selector for the job? For example, you can’t just search for all <a> tags, because there are lots of links you don’t care about in the HTML. Instead, you must inspect the search result page with the browser’s developer tools to try to find a selector that will pick out only the links you want.\n",
    "\n",
    "After doing a Google search for Beautiful Soup, you can open the browser’s developer tools and inspect some of the link elements on the page. They look incredibly complicated, something like this: < a href=\"/url?sa =t&rct=j&q=&esrc=s&source=web&cd=1&cad=rja&uact=8& amp;ved=0CCgQFjAA&url=http%3A%2F%2Fwww.crummy.com%2Fsoftware%2FBeautifulSoup %2F&ei=LHBVU_XDD9KVyAShmYDwCw&usg=AFQjCNHAxwplurFOBqg5cehWQEVKi-TuLQ&a mp;sig2=sdZu6WVlBlVSDrwhtworMA\" onmousedown=\"return rwt(this,'','','','1','AFQ jCNHAxwplurFOBqg5cehWQEVKi-TuLQ','sdZu6WVlBlVSDrwhtworMA','0CCgQFjAA','','',ev ent)\" data-href=\"http://www.crummy.com/software/BeautifulSoup/\">< em >Beautiful Soup</ em >: We called him Tortoise because he taught us.</ a >.\n",
    "\n",
    "It doesn’t matter that the element looks incredibly complicated. You just need to find the pattern that all the search result links have. But this <a> element doesn’t have anything that easily distinguishes it from the nonsearch result <a> elements on the page."
   ]
  },
  {
   "cell_type": "code",
   "execution_count": 120,
   "metadata": {},
   "outputs": [],
   "source": [
    "# Retrieve top search result links.\n",
    "soup = bs4.BeautifulSoup(res.text)\n",
    "\n",
    "# Open a browser tab for each result.\n",
    "#  '.r a' to find all < a > elements that are within an element that has the r CSS class\n",
    "linkElems = soup.select('.r a') # returns a list of elements"
   ]
  },
  {
   "cell_type": "markdown",
   "metadata": {},
   "source": [
    "If you look up a little from the < a > element, though, there is an element like this: < h3 class=\"r\" >. Looking through the rest of the HTML source, it looks like the r class is used only for search result links. You don’t have to know what the CSS class r is or what it does. You’re just going to use it as a marker for the < a > element you are looking for. You can create a BeautifulSoup object from the downloaded page’s HTML text and then use the selector '.r a' to find all < a > elements that are within an element that has the r CSS class."
   ]
  },
  {
   "cell_type": "markdown",
   "metadata": {},
   "source": [
    "### Step 3: Open Web Browsers for Each Result"
   ]
  },
  {
   "cell_type": "code",
   "execution_count": 122,
   "metadata": {},
   "outputs": [],
   "source": [
    "# Open a browser tab for each result\n",
    "numOpen = min(5, len(linkElems)) # min() returns the smallest of the integer or float arguments it is passed\n",
    "for i in range(numOpen):\n",
    "    webbrowser.open('http://google.com' + linkElems[i].get('href'))"
   ]
  },
  {
   "cell_type": "markdown",
   "metadata": {},
   "source": [
    "By default, you open the first five search results in new tabs using the webbrowser module. However, the user may have searched for something that turned up fewer than five results. The soup.select() call returns a list of all the elements that matched your '.r a' selector, so the number of tabs you want to open is either 5 or the length of this list (whichever is smaller).\n",
    "\n",
    "The built-in Python function min() returns the smallest of the integer or float arguments it is passed. (There is also a built-in max() function that returns the largest argument it is passed.) You can use min() to find out whether there are fewer than five links in the list and store the number of links to open in a variable named numOpen. Then you can run through a for loop by calling range(numOpen).\n",
    "\n",
    "On each iteration of the loop, you use webbrowser.open() to open a new tab in the web browser. Note that the href attribute’s value in the returned <a> elements do not have the initial http://google.com part, so you have to concatenate that to the href attribute’s string value.\n",
    "\n",
    "Now you can instantly open the first five Google results for, say, Python programming tutorials by running lucky python programming tutorials on the command line! (See Appendix B for how to easily run programs on your operating system.)"
   ]
  },
  {
   "cell_type": "markdown",
   "metadata": {},
   "source": [
    "### Ideas for Similar Programs\n",
    "\n",
    "The benefit of tabbed browsing is that you can easily open links in new tabs to peruse later. A program that automatically opens several links at once can be a nice shortcut to do the following:\n",
    "\n",
    "    Open all the product pages after searching a shopping site such as Amazon\n",
    "\n",
    "    Open all the links to reviews for a single product\n",
    "\n",
    "    Open the result links to photos after performing a search on a photo site such as Flickr or Imgur\n",
    "\n"
   ]
  },
  {
   "cell_type": "markdown",
   "metadata": {},
   "source": [
    "### Project: Downloading All XKCD Comics\n",
    "\n",
    "Blogs and other regularly updating websites usually have a front page with the most recent post as well as a Previous button on the page that takes you to the previous post. Then that post will also have a Previous button, and so on, creating a trail from the most recent page to the first post on the site. If you wanted a copy of the site’s content to read when you’re not online, you could manually navigate over every page and save each one. But this is pretty boring work, so let’s write a program to do it instead.\n",
    "\n",
    "XKCD is a popular geek webcomic with a website that fits this structure (see Figure 11-6). The front page at http://xkcd.com/ has a Prev button that guides the user back through prior comics. Downloading each comic by hand would take forever, but you can write a script to do this in a couple of minutes.\n",
    "\n",
    "Here’s what your program does:\n",
    "\n",
    "    Loads the XKCD home page.\n",
    "\n",
    "    Saves the comic image on that page.\n",
    "\n",
    "    Follows the Previous Comic link.\n",
    "\n",
    "    Repeats until it reaches the first comic.\n",
    "\n",
    "This means your code will need to do the following:\n",
    "\n",
    "    Download pages with the requests module.\n",
    "\n",
    "    Find the URL of the comic image for a page using Beautiful Soup.\n",
    "\n",
    "    Download and save the comic image to the hard drive with iter_content().\n",
    "\n",
    "    Find the URL of the Previous Comic link, and repeat.\n",
    "\n",
    "Open a new file editor window and save it as downloadXkcd.py."
   ]
  },
  {
   "cell_type": "markdown",
   "metadata": {},
   "source": [
    "### Step 1: Design the Program\n",
    "\n",
    "If you open the browser’s developer tools and inspect the elements on the page, you’ll find the following:\n",
    "\n",
    "    The URL of the comic’s image file is given by the href attribute of an <img> element.\n",
    "\n",
    "    The <img> element is inside a <div id=\"comic\"> element.\n",
    "\n",
    "    The Prev button has a rel HTML attribute with the value prev.\n",
    "\n",
    "    The first comic’s Prev button links to the http://xkcd.com/# URL, indicating that there are no more previous pages.\n",
    "\n"
   ]
  },
  {
   "cell_type": "code",
   "execution_count": 125,
   "metadata": {},
   "outputs": [
    {
     "ename": "IndentationError",
     "evalue": "expected an indented block (<ipython-input-125-2e2cad265fa5>, line 17)",
     "output_type": "error",
     "traceback": [
      "\u001b[1;36m  File \u001b[1;32m\"<ipython-input-125-2e2cad265fa5>\"\u001b[1;36m, line \u001b[1;32m17\u001b[0m\n\u001b[1;33m    print('Done')\u001b[0m\n\u001b[1;37m        ^\u001b[0m\n\u001b[1;31mIndentationError\u001b[0m\u001b[1;31m:\u001b[0m expected an indented block\n"
     ]
    }
   ],
   "source": [
    "#! python3\n",
    "# downloadXkcd.py - Downloads every single XKCD comic\n",
    "\n",
    "import requests, os, bs4\n",
    "url = 'http://xkcd.com'  # starting url\n",
    "os.makedirs('xkcd', exist_ok=True) # store comics in /xkcd\n",
    "\n",
    "while not url.endswith('#'): # looks like the final page ends like this: https://xkcd.com/1/#\n",
    "    # TODO: Download the page.\n",
    "\n",
    "    # TODO: Find the URL of the comic image.\n",
    "\n",
    "    # TODO: Download the image.\n",
    "\n",
    "    # TODO: Save the image to ./xkcd.\n",
    "\n",
    "    # TODO: Get the Prev button's url.\n",
    "print('Done')"
   ]
  },
  {
   "cell_type": "markdown",
   "metadata": {},
   "source": [
    "### Step 2: Download the Web Page"
   ]
  },
  {
   "cell_type": "code",
   "execution_count": null,
   "metadata": {},
   "outputs": [],
   "source": [
    "#! python3\n",
    "# downloadXkcd.py - Downloads every single XKCD comic\n",
    "\n",
    "import requests, os, bs4\n",
    "url = 'http://xkcd.com'  # starting url\n",
    "os.makedirs('xkcd', exist_ok=True) # store comics in /xkcd\n",
    "\n",
    "while not url.endswith('2100/'): # looks like the final page ends like this: https://xkcd.com/1/#\n",
    "    #------Download the page.\n",
    "    # Print the URL\n",
    "    print('Downloading page %s...' % url)\n",
    "    # Use request module function to download it\n",
    "    res = requests.get(url)\n",
    "    # call raise_for_status() method to throw an exception and end the program if error with download\n",
    "    res.raise_for_status()\n",
    "    # create beautifulsoup obj from the text of the downloaded page\n",
    "    soup = bs4.BeautifulSoup(res.text)\n",
    "    \n",
    "    #------Find the URL of the comic image.\n",
    "\n",
    "    \n",
    "    #------Download the image.\n",
    "\n",
    "    \n",
    "    #------Save the image to ./xkcd.\n",
    "\n",
    "    \n",
    "    #------Get the Prev button's url.\n",
    "    \n",
    "    \n",
    "print('Done')"
   ]
  },
  {
   "cell_type": "markdown",
   "metadata": {},
   "source": [
    "### Step 3: Find and Download the Comic Image"
   ]
  },
  {
   "cell_type": "code",
   "execution_count": null,
   "metadata": {},
   "outputs": [],
   "source": [
    "#! python3\n",
    "# downloadXkcd.py - Downloads every single XKCD comic\n",
    "\n",
    "import requests, os, bs4\n",
    "url = 'http://xkcd.com'  # starting url\n",
    "os.makedirs('xkcd', exist_ok=True) # store comics in /xkcd\n",
    "\n",
    "while not url.endswith('2100/'): # looks like the final page ends like this: https://xkcd.com/1/#\n",
    "    #------Download the page.\n",
    "    # Print the URL\n",
    "    print('Downloading page %s...' % url)\n",
    "    # Use request module function to download it\n",
    "    res = requests.get(url)\n",
    "    # call raise_for_status() method to throw an exception and end the program if error with download\n",
    "    res.raise_for_status()\n",
    "    # create beautifulsoup obj from the text of the downloaded page\n",
    "    soup = bs4.BeautifulSoup(res.text)\n",
    "    \n",
    "    #------Find the URL of the comic image.\n",
    "    # <img> element for the comic image is inside a <div> element with the id attribute set to comic so #comic img\n",
    "    comicElem = soup.select('#comic img')\n",
    "    if comicElem == []:\n",
    "        print('Could not find comic image.')\n",
    "    else:\n",
    "        try:\n",
    "            # get the src attribute from this <img> elemnt and pass it to requests.get() to download the image file\n",
    "            comicURL = 'http:' + comicElem[0].get('src')\n",
    "            # download the image\n",
    "            print('Downloading image %s...' % (comicURL))\n",
    "            res = requests.get(comicURL)\n",
    "            res.raise_for_status()\n",
    "        except requests.exceptions.MissingSchema:\n",
    "            # skip the comic\n",
    "            prevLink = soup.select('a[rel=\"prev\"]')[0]\n",
    "            url = 'http://kcd.com' + prevLink.get('href')\n",
    "            continue\n",
    "    \n",
    "    #------Download the image.\n",
    "\n",
    "    \n",
    "    #------Save the image to ./xkcd.\n",
    "\n",
    "    \n",
    "    #------Get the Prev button's url.\n",
    "    \n",
    "    \n",
    "print('Done')"
   ]
  },
  {
   "cell_type": "markdown",
   "metadata": {},
   "source": [
    "### Step 4: Save the Image and Find the Previous Comic"
   ]
  },
  {
   "cell_type": "code",
   "execution_count": null,
   "metadata": {},
   "outputs": [],
   "source": [
    "#! python3\n",
    "# downloadXkcd.py - Downloads every single XKCD comic\n",
    "\n",
    "import requests, os, bs4\n",
    "url = 'http://xkcd.com'  # starting url\n",
    "os.makedirs('xkcd', exist_ok=True) # store comics in /xkcd\n",
    "\n",
    "while not url.endswith('2100/'): # looks like the final page ends like this: https://xkcd.com/1/#\n",
    "    #------Download the page.\n",
    "    # Print the URL\n",
    "    print('Downloading page %s...' % url)\n",
    "    # Use request module function to download it\n",
    "    res = requests.get(url)\n",
    "    # call raise_for_status() method to throw an exception and end the program if error with download\n",
    "    res.raise_for_status()\n",
    "    # create beautifulsoup obj from the text of the downloaded page\n",
    "    soup = bs4.BeautifulSoup(res.text)\n",
    "    \n",
    "    #------Find the URL of the comic image.\n",
    "    # <img> element for the comic image is inside a <div> element with the id attribute set to comic so #comic img\n",
    "    comicElem = soup.select('#comic img')\n",
    "\n",
    "    #------Download the image.\n",
    "    if comicElem == []:\n",
    "        print('Could not find comic image.')\n",
    "    else:\n",
    "        try:\n",
    "            # get the src attribute from this <img> elemnt and pass it to requests.get() to download the image file\n",
    "            comicURL = 'http:' + comicElem[0].get('src')\n",
    "            # download the image\n",
    "            print('Downloading image %s...' % (comicURL))\n",
    "            res = requests.get(comicURL)\n",
    "            res.raise_for_status()\n",
    "        except requests.exceptions.MissingSchema:\n",
    "            # skip the comic\n",
    "            prevLink = soup.select('a[rel=\"prev\"]')[0]\n",
    "            url = 'http://kcd.com' + prevLink.get('href')\n",
    "            continue\n",
    "    \n",
    "    #------Save the image to ./xkcd.\n",
    "    imageFile = open(os.path.join('xkcd', os.path.basename(comicURL)), 'wb')\n",
    "    for chunk in res.iter_content(100000):\n",
    "        imageFile.write(chunk)\n",
    "    imageFile.close()\n",
    "    \n",
    "    #------Get the Prev button's url.\n",
    "    prevLink = soup.select('a[rel=\"prev\"]')[0]\n",
    "    url = 'http://xkcd.com' + prevLink.get('href')\n",
    "    \n",
    "print('Done')"
   ]
  },
  {
   "cell_type": "markdown",
   "metadata": {},
   "source": [
    "At this point, the image file of the comic is stored in the res variable. You need to write this image data to a file on the hard drive.\n",
    "\n",
    "You’ll need a filename for the local image file to pass to open(). The comicUrl will have a value like 'http://imgs.xkcd.com/comics/heartbleed_explanation.png'—which you might have noticed looks a lot like a file path. And in fact, you can call os.path.basename() with comicUrl, and it will return just the last part of the URL, 'heartbleed_explanation.png'. You can use this as the filename when saving the image to your hard drive. You join this name with the name of your xkcd folder using os.path.join() so that your program uses backslashes (\\) on Windows and forward slashes (/) on OS X and Linux. Now that you finally have the filename, you can call open() to open a new file in 'wb' “write binary” mode.\n",
    "\n",
    "Remember from earlier in this chapter that to save files you’ve downloaded using Requests, you need to loop over the return value of the iter_content() method. The code in the for loop writes out chunks of the image data (at most 100,000 bytes each) to the file and then you close the file. The image is now saved to your hard drive.\n",
    "\n",
    "Afterward, the selector 'a[rel=\"prev\"]' identifies the <a> element with the rel attribute set to prev, and you can use this <a> element’s href attribute to get the previous comic’s URL, which gets stored in url. Then the while loop begins the entire download process again for this comic."
   ]
  },
  {
   "cell_type": "code",
   "execution_count": 3,
   "metadata": {},
   "outputs": [
    {
     "name": "stdout",
     "output_type": "stream",
     "text": [
      "C:\\Users\\david\\Documents\\Programming\\Python\\Automate_The_Boring_Stuff\n"
     ]
    }
   ],
   "source": [
    "import os\n",
    "print(os.getcwd())\n",
    "os.chdir('C:\\\\Users\\\\david\\\\Documents\\\\Programming\\\\Python\\\\Automate_The_Boring_Stuff\\\\Projects\\\\Chapter 11')"
   ]
  },
  {
   "cell_type": "code",
   "execution_count": 4,
   "metadata": {},
   "outputs": [
    {
     "data": {
      "text/plain": [
       "'C:\\\\Users\\\\david\\\\Documents\\\\Programming\\\\Python\\\\Automate_The_Boring_Stuff\\\\Projects\\\\Chapter 11'"
      ]
     },
     "execution_count": 4,
     "metadata": {},
     "output_type": "execute_result"
    }
   ],
   "source": [
    "os.getcwd()"
   ]
  },
  {
   "cell_type": "code",
   "execution_count": 6,
   "metadata": {},
   "outputs": [],
   "source": [
    "import requests\n",
    "import os\n",
    "import bs4"
   ]
  },
  {
   "cell_type": "code",
   "execution_count": 8,
   "metadata": {},
   "outputs": [
    {
     "data": {
      "text/plain": [
       "\"\\nWebsite: http://explosm.net/comics/(comic#)\\n1. Set a variable with a max image number for the comic\\n2. Create a for loop that's range is the length of the maximum\\n3. Add the last comic number to the end of your url\\n\""
      ]
     },
     "execution_count": 8,
     "metadata": {},
     "output_type": "execute_result"
    }
   ],
   "source": [
    "\"\"\"\n",
    "Website: http://explosm.net/comics/(comic#)\n",
    "1. Set a variable with a max image number for the comic\n",
    "2. Create a for loop that's range is the length of the maximum\n",
    "3. Add the last comic number to the end of your url\n",
    "\"\"\""
   ]
  },
  {
   "cell_type": "code",
   "execution_count": 11,
   "metadata": {},
   "outputs": [
    {
     "name": "stdout",
     "output_type": "stream",
     "text": [
      "http://explosm.net/comics/45/\n"
     ]
    }
   ],
   "source": [
    "# Set max image number allowed\n",
    "url_image_num = 45 # Oldest = 39\n",
    "url = 'http://explosm.net/comics/' + str(url_image_num) + '/'\n",
    "print(url)"
   ]
  },
  {
   "cell_type": "code",
   "execution_count": 2,
   "metadata": {},
   "outputs": [
    {
     "name": "stdout",
     "output_type": "stream",
     "text": [
      "C:\\Users\\david\\Documents\\Programming\\Python\\Automate_The_Boring_Stuff\\Projects\\Chapter 11\n",
      "http://explosm.net/comics/39/\n",
      "Downloading C&H0040...\n",
      "http://explosm.net/comics/43/\n",
      "http://explosm.net/comics/40/\n",
      "Downloading C&H0041...\n",
      "http://explosm.net/comics/42/\n",
      "http://explosm.net/comics/41/\n",
      "Downloading C&H0042...\n",
      "http://explosm.net/comics/41/\n",
      "http://explosm.net/comics/42/\n",
      "Downloading C&H0043...\n",
      "http://explosm.net/comics/40/\n",
      "http://explosm.net/comics/43/\n",
      "Downloading C&H0044...\n",
      "http://explosm.net/comics/39/\n",
      "http://explosm.net/comics/44/\n",
      "Could not find comic...\n",
      "http://explosm.net/comics/38/\n",
      "Finished downloading comics.\n"
     ]
    }
   ],
   "source": [
    "import requests\n",
    "import os\n",
    "import bs4\n",
    "\n",
    "# Set directory\n",
    "print(os.getcwd())\n",
    "os.chdir('C:\\\\Users\\\\david\\\\Documents\\\\Programming\\\\Python\\\\Automate_The_Boring_Stuff\\\\Projects\\\\Chapter 11')\n",
    "\n",
    "# Set max image number allowed\n",
    "url_image_num = 45 # Oldest = 39\n",
    "# url = 'http://explosm.net/comics/' + str(url_image_num) + '/'\n",
    "# print(url)\n",
    "\n",
    "# Make new directory\n",
    "os.makedirs('cynaide_and_happiness', exist_ok=True)\n",
    "\n",
    "# Wrap try/except for comics unable to download\n",
    "for comic in range(39, url_image_num):\n",
    "    try:\n",
    "        # Get URL\n",
    "        url = 'http://explosm.net/comics/' + str(comic) + '/'\n",
    "        print(url)\n",
    "        \n",
    "        # First request is the initial url, or the comic image\n",
    "        res = requests.get(url)\n",
    "        res.raise_for_status()\n",
    "        \n",
    "        #The url for the comic image is inside <img> tag with an id of 'main-comic'\n",
    "        soup = bs4.BeautifulSoup(res.text, 'html.parser')\n",
    "        match = soup.find('img', id = 'main-comic')\n",
    "        \n",
    "        # Get the src for the beautifulsoup obj\n",
    "        comic_url = 'http:' + match.get('src')\n",
    "        \n",
    "        # Request again\n",
    "        res = requests.get(comic_url)\n",
    "        res.raise_for_status()\n",
    "        \n",
    "        # If the request is successful, download the content\n",
    "        # Loop creating a new file and add the extensions\n",
    "        print('Downloading C&H' + str(comic + 1).zfill(4) + '...')\n",
    "        \n",
    "        # Set image path\n",
    "        image_file = open(os.path.join('cynaide_and_happiness', 'C&H' + str(comic + 1).zfill(4)) + '.jpg', 'wb')\n",
    "        \n",
    "        # Loop through every file\n",
    "        for chunk in res.iter_content(100000):\n",
    "            image_file.write(chunk)\n",
    "        image_file.close()\n",
    "        comic += 1\n",
    "        url_image_num -= 1\n",
    "        url = 'http://explosm.net/comics/' + str(url_image_num - 1) + '/'\n",
    "        print(url)\n",
    "        \n",
    "    except requests.exceptions.HTTPError:\n",
    "        # If a comic cannot download, change the url comic number still\n",
    "        print('Could not find comic...')\n",
    "        url_image_num -= 1\n",
    "        url = 'http://explosm.net/comics/' + str(url_image_num - 1) + '/'\n",
    "        print(url)\n",
    "\n",
    "print('Finished downloading comics.')"
   ]
  },
  {
   "cell_type": "code",
   "execution_count": 12,
   "metadata": {},
   "outputs": [
    {
     "data": {
      "text/plain": [
       "range(0, 39)"
      ]
     },
     "execution_count": 12,
     "metadata": {},
     "output_type": "execute_result"
    }
   ],
   "source": [
    "range(39)"
   ]
  },
  {
   "cell_type": "code",
   "execution_count": 13,
   "metadata": {},
   "outputs": [
    {
     "data": {
      "text/plain": [
       "range(39, 45)"
      ]
     },
     "execution_count": 13,
     "metadata": {},
     "output_type": "execute_result"
    }
   ],
   "source": [
    "range(39, 45)"
   ]
  },
  {
   "cell_type": "markdown",
   "metadata": {},
   "source": [
    "### Ideas for Similar Programs\n",
    "\n",
    "Downloading pages and following links are the basis of many web crawling programs. Similar programs could also do the following:\n",
    "\n",
    "Back up an entire site by following all of its links.\n",
    "\n",
    "Copy all the messages off a web forum.\n",
    "\n",
    "Duplicate the catalog of items for sale on an online store.\n",
    "\n",
    "The requests and BeautifulSoup modules are great as long as you can figure out the URL you need to pass to requests.get(). However, sometimes this isn’t so easy to find. Or perhaps the website you want your program to navigate requires you to log in first. The selenium module will give your programs the power to perform such sophisticated tasks."
   ]
  },
  {
   "cell_type": "markdown",
   "metadata": {},
   "source": [
    "### Controlling the Browser with the selenium Module\n",
    "\n",
    "The selenium module lets Python directly control the browser by programmatically clicking links and filling in login information, almost as though there is a human user interacting with the page. Selenium allows you to interact with web pages in a much more advanced way than Requests and Beautiful Soup; but because it launches a web browser, it is a bit slower and hard to run in the background if, say, you just need to download some files from the Web.\n",
    "\n",
    "Appendix A has more detailed steps on installing third-party modules."
   ]
  },
  {
   "cell_type": "markdown",
   "metadata": {},
   "source": [
    "### Starting a Selenium-Controlled Browser\n",
    "\n",
    "For these examples, you’ll need the Firefox web browser. This will be the browser that you control. If you don’t already have Firefox, you can download it for free from http://getfirefox.com/.\n",
    "\n",
    "Importing the modules for Selenium is slightly tricky. Instead of import selenium, you need to run from selenium import webdriver. (The exact reason why the selenium module is set up this way is beyond the scope of this book.) After that, you can launch the Firefox browser with Selenium. "
   ]
  },
  {
   "cell_type": "code",
   "execution_count": 1,
   "metadata": {},
   "outputs": [],
   "source": [
    "from selenium import webdriver"
   ]
  },
  {
   "cell_type": "code",
   "execution_count": 2,
   "metadata": {
    "scrolled": true
   },
   "outputs": [
    {
     "ename": "WebDriverException",
     "evalue": "Message: 'geckodriver' executable needs to be in PATH. \n",
     "output_type": "error",
     "traceback": [
      "\u001b[1;31m---------------------------------------------------------------------------\u001b[0m",
      "\u001b[1;31mFileNotFoundError\u001b[0m                         Traceback (most recent call last)",
      "\u001b[1;32mc:\\users\\david\\appdata\\local\\programs\\python\\python37-32\\lib\\site-packages\\selenium\\webdriver\\common\\service.py\u001b[0m in \u001b[0;36mstart\u001b[1;34m(self)\u001b[0m\n\u001b[0;32m     75\u001b[0m                                             \u001b[0mstderr\u001b[0m\u001b[1;33m=\u001b[0m\u001b[0mself\u001b[0m\u001b[1;33m.\u001b[0m\u001b[0mlog_file\u001b[0m\u001b[1;33m,\u001b[0m\u001b[1;33m\u001b[0m\u001b[1;33m\u001b[0m\u001b[0m\n\u001b[1;32m---> 76\u001b[1;33m                                             stdin=PIPE)\n\u001b[0m\u001b[0;32m     77\u001b[0m         \u001b[1;32mexcept\u001b[0m \u001b[0mTypeError\u001b[0m\u001b[1;33m:\u001b[0m\u001b[1;33m\u001b[0m\u001b[1;33m\u001b[0m\u001b[0m\n",
      "\u001b[1;32mc:\\users\\david\\appdata\\local\\programs\\python\\python37-32\\lib\\subprocess.py\u001b[0m in \u001b[0;36m__init__\u001b[1;34m(self, args, bufsize, executable, stdin, stdout, stderr, preexec_fn, close_fds, shell, cwd, env, universal_newlines, startupinfo, creationflags, restore_signals, start_new_session, pass_fds, encoding, errors, text)\u001b[0m\n\u001b[0;32m    774\u001b[0m                                 \u001b[0merrread\u001b[0m\u001b[1;33m,\u001b[0m \u001b[0merrwrite\u001b[0m\u001b[1;33m,\u001b[0m\u001b[1;33m\u001b[0m\u001b[1;33m\u001b[0m\u001b[0m\n\u001b[1;32m--> 775\u001b[1;33m                                 restore_signals, start_new_session)\n\u001b[0m\u001b[0;32m    776\u001b[0m         \u001b[1;32mexcept\u001b[0m\u001b[1;33m:\u001b[0m\u001b[1;33m\u001b[0m\u001b[1;33m\u001b[0m\u001b[0m\n",
      "\u001b[1;32mc:\\users\\david\\appdata\\local\\programs\\python\\python37-32\\lib\\subprocess.py\u001b[0m in \u001b[0;36m_execute_child\u001b[1;34m(self, args, executable, preexec_fn, close_fds, pass_fds, cwd, env, startupinfo, creationflags, shell, p2cread, p2cwrite, c2pread, c2pwrite, errread, errwrite, unused_restore_signals, unused_start_new_session)\u001b[0m\n\u001b[0;32m   1177\u001b[0m                                          \u001b[0mos\u001b[0m\u001b[1;33m.\u001b[0m\u001b[0mfspath\u001b[0m\u001b[1;33m(\u001b[0m\u001b[0mcwd\u001b[0m\u001b[1;33m)\u001b[0m \u001b[1;32mif\u001b[0m \u001b[0mcwd\u001b[0m \u001b[1;32mis\u001b[0m \u001b[1;32mnot\u001b[0m \u001b[1;32mNone\u001b[0m \u001b[1;32melse\u001b[0m \u001b[1;32mNone\u001b[0m\u001b[1;33m,\u001b[0m\u001b[1;33m\u001b[0m\u001b[1;33m\u001b[0m\u001b[0m\n\u001b[1;32m-> 1178\u001b[1;33m                                          startupinfo)\n\u001b[0m\u001b[0;32m   1179\u001b[0m             \u001b[1;32mfinally\u001b[0m\u001b[1;33m:\u001b[0m\u001b[1;33m\u001b[0m\u001b[1;33m\u001b[0m\u001b[0m\n",
      "\u001b[1;31mFileNotFoundError\u001b[0m: [WinError 2] The system cannot find the file specified",
      "\nDuring handling of the above exception, another exception occurred:\n",
      "\u001b[1;31mWebDriverException\u001b[0m                        Traceback (most recent call last)",
      "\u001b[1;32m<ipython-input-2-baa5adeac11b>\u001b[0m in \u001b[0;36m<module>\u001b[1;34m\u001b[0m\n\u001b[1;32m----> 1\u001b[1;33m \u001b[0mbrowser\u001b[0m \u001b[1;33m=\u001b[0m \u001b[0mwebdriver\u001b[0m\u001b[1;33m.\u001b[0m\u001b[0mFirefox\u001b[0m\u001b[1;33m(\u001b[0m\u001b[1;33m)\u001b[0m\u001b[1;33m\u001b[0m\u001b[1;33m\u001b[0m\u001b[0m\n\u001b[0m",
      "\u001b[1;32mc:\\users\\david\\appdata\\local\\programs\\python\\python37-32\\lib\\site-packages\\selenium\\webdriver\\firefox\\webdriver.py\u001b[0m in \u001b[0;36m__init__\u001b[1;34m(self, firefox_profile, firefox_binary, timeout, capabilities, proxy, executable_path, options, service_log_path, firefox_options, service_args, desired_capabilities, log_path, keep_alive)\u001b[0m\n\u001b[0;32m    162\u001b[0m                 \u001b[0mservice_args\u001b[0m\u001b[1;33m=\u001b[0m\u001b[0mservice_args\u001b[0m\u001b[1;33m,\u001b[0m\u001b[1;33m\u001b[0m\u001b[1;33m\u001b[0m\u001b[0m\n\u001b[0;32m    163\u001b[0m                 log_path=service_log_path)\n\u001b[1;32m--> 164\u001b[1;33m             \u001b[0mself\u001b[0m\u001b[1;33m.\u001b[0m\u001b[0mservice\u001b[0m\u001b[1;33m.\u001b[0m\u001b[0mstart\u001b[0m\u001b[1;33m(\u001b[0m\u001b[1;33m)\u001b[0m\u001b[1;33m\u001b[0m\u001b[1;33m\u001b[0m\u001b[0m\n\u001b[0m\u001b[0;32m    165\u001b[0m \u001b[1;33m\u001b[0m\u001b[0m\n\u001b[0;32m    166\u001b[0m             \u001b[0mcapabilities\u001b[0m\u001b[1;33m.\u001b[0m\u001b[0mupdate\u001b[0m\u001b[1;33m(\u001b[0m\u001b[0moptions\u001b[0m\u001b[1;33m.\u001b[0m\u001b[0mto_capabilities\u001b[0m\u001b[1;33m(\u001b[0m\u001b[1;33m)\u001b[0m\u001b[1;33m)\u001b[0m\u001b[1;33m\u001b[0m\u001b[1;33m\u001b[0m\u001b[0m\n",
      "\u001b[1;32mc:\\users\\david\\appdata\\local\\programs\\python\\python37-32\\lib\\site-packages\\selenium\\webdriver\\common\\service.py\u001b[0m in \u001b[0;36mstart\u001b[1;34m(self)\u001b[0m\n\u001b[0;32m     81\u001b[0m                 raise WebDriverException(\n\u001b[0;32m     82\u001b[0m                     \"'%s' executable needs to be in PATH. %s\" % (\n\u001b[1;32m---> 83\u001b[1;33m                         os.path.basename(self.path), self.start_error_message)\n\u001b[0m\u001b[0;32m     84\u001b[0m                 )\n\u001b[0;32m     85\u001b[0m             \u001b[1;32melif\u001b[0m \u001b[0merr\u001b[0m\u001b[1;33m.\u001b[0m\u001b[0merrno\u001b[0m \u001b[1;33m==\u001b[0m \u001b[0merrno\u001b[0m\u001b[1;33m.\u001b[0m\u001b[0mEACCES\u001b[0m\u001b[1;33m:\u001b[0m\u001b[1;33m\u001b[0m\u001b[1;33m\u001b[0m\u001b[0m\n",
      "\u001b[1;31mWebDriverException\u001b[0m: Message: 'geckodriver' executable needs to be in PATH. \n"
     ]
    }
   ],
   "source": [
    "browser = webdriver.Firefox()"
   ]
  },
  {
   "cell_type": "code",
   "execution_count": 3,
   "metadata": {},
   "outputs": [
    {
     "ename": "NameError",
     "evalue": "name 'browser' is not defined",
     "output_type": "error",
     "traceback": [
      "\u001b[1;31m---------------------------------------------------------------------------\u001b[0m",
      "\u001b[1;31mNameError\u001b[0m                                 Traceback (most recent call last)",
      "\u001b[1;32m<ipython-input-3-db564af4e7be>\u001b[0m in \u001b[0;36m<module>\u001b[1;34m\u001b[0m\n\u001b[1;32m----> 1\u001b[1;33m \u001b[0mtype\u001b[0m\u001b[1;33m(\u001b[0m\u001b[0mbrowser\u001b[0m\u001b[1;33m)\u001b[0m\u001b[1;33m\u001b[0m\u001b[1;33m\u001b[0m\u001b[0m\n\u001b[0m",
      "\u001b[1;31mNameError\u001b[0m: name 'browser' is not defined"
     ]
    }
   ],
   "source": [
    "type(browser)"
   ]
  },
  {
   "cell_type": "code",
   "execution_count": 4,
   "metadata": {},
   "outputs": [
    {
     "ename": "NameError",
     "evalue": "name 'browser' is not defined",
     "output_type": "error",
     "traceback": [
      "\u001b[1;31m---------------------------------------------------------------------------\u001b[0m",
      "\u001b[1;31mNameError\u001b[0m                                 Traceback (most recent call last)",
      "\u001b[1;32m<ipython-input-4-8288bff84d76>\u001b[0m in \u001b[0;36m<module>\u001b[1;34m\u001b[0m\n\u001b[0;32m      1\u001b[0m \u001b[1;31m# Directs the browser to the link by browser.get(link)\u001b[0m\u001b[1;33m\u001b[0m\u001b[1;33m\u001b[0m\u001b[1;33m\u001b[0m\u001b[0m\n\u001b[1;32m----> 2\u001b[1;33m \u001b[0mbrowser\u001b[0m\u001b[1;33m.\u001b[0m\u001b[0mget\u001b[0m\u001b[1;33m(\u001b[0m\u001b[1;34m'http://inventwithpython.com/'\u001b[0m\u001b[1;33m)\u001b[0m\u001b[1;33m\u001b[0m\u001b[1;33m\u001b[0m\u001b[0m\n\u001b[0m",
      "\u001b[1;31mNameError\u001b[0m: name 'browser' is not defined"
     ]
    }
   ],
   "source": [
    "# Directs the browser to the link by browser.get(link)\n",
    "browser.get('http://inventwithpython.com/')"
   ]
  },
  {
   "cell_type": "markdown",
   "metadata": {},
   "source": [
    "### Finding Elements on the Page\n",
    "\n",
    "WebDriver objects have quite a few methods for finding elements on a page. They are divided into the find_element_* and find_elements_* methods. The find_element_* methods return a single WebElement object, representing the first element on the page that matches your query. The find_elements_* methods return a list of WebElement_* objects for every matching element on the page.\n",
    "\n",
    "Table 11-3 shows several examples of find_element_* and find_elements_* methods being called on a WebDriver object that’s stored in the variable browser."
   ]
  },
  {
   "cell_type": "markdown",
   "metadata": {},
   "source": [
    "#### Method name\n",
    "\n",
    "WebElement object/list returned\n",
    "\n",
    " browser.find_element_by_class_name(name)\n",
    "browser.find_elements_by_class_name(name)\n",
    "Elements that use the CSS class name\n",
    "\n",
    " browser.find_element_by_css_selector(selector)\n",
    "browser.find_elements_by_css_selector(selector)\n",
    "Elements that match the CSS selector\n",
    "\n",
    " browser.find_element_by_id(id)\n",
    "browser.find_elements_by_id(id)\n",
    "Elements with a matching id attribute value\n",
    "\n",
    " browser.find_element_by_link_text(text)\n",
    "browser.find_elements_by_link_text(text)\n",
    "<a> elements that completely match the text provided\n",
    "\n",
    " browser.find_element_by_partial_link_text(text)\n",
    "browser.find_elements_by_partial_link_text(text)\n",
    "<a> elements that contain the text provided\n",
    "\n",
    " browser.find_element_by_name(name)\n",
    "browser.find_elements_by_name(name)\n",
    "Elements with a matching name attribute value\n",
    "\n",
    " browser.find_element_by_tag_name(name)\n",
    "browser.find_elements_by_tag_name(name)\n",
    "Elements with a matching tag name (case insensitive; an <a> element is matched by 'a' and 'A')"
   ]
  },
  {
   "cell_type": "markdown",
   "metadata": {},
   "source": [
    "Except for the *_by_tag_name() methods, the arguments to all the methods are case sensitive. If no elements exist on the page that match what the method is looking for, the selenium module raises a NoSuchElement exception. If you do not want this exception to crash your program, add try and except statements to your code."
   ]
  },
  {
   "cell_type": "markdown",
   "metadata": {},
   "source": [
    "#### Attribute or method\n",
    "\n",
    "#### Description\n",
    "\n",
    "tag_name\n",
    "\n",
    "The tag name, such as 'a' for an < a > element\n",
    "\n",
    "get_attribute( name )\n",
    "\n",
    "The value for the element’s name attribute\n",
    "\n",
    "text\n",
    "\n",
    "The text within the element, such as 'hello' in < span >hello</ span >\n",
    "\n",
    "clear()\n",
    "\n",
    "For text field or text area elements, clears the text typed into it\n",
    "\n",
    "is_displayed()\n",
    "\n",
    "Returns True if the element is visible; otherwise returns False\n",
    "\n",
    "is_enabled()\n",
    "\n",
    "For input elements, returns True if the element is enabled; otherwise returns False\n",
    "\n",
    "is_selected()\n",
    "\n",
    "For checkbox or radio button elements, returns True if the element is selected; otherwise returns False\n",
    "\n",
    "location\n",
    "\n",
    "A dictionary with keys 'x' and 'y' for the position of the element in the page\n",
    "\n"
   ]
  },
  {
   "cell_type": "code",
   "execution_count": 15,
   "metadata": {},
   "outputs": [
    {
     "name": "stdout",
     "output_type": "stream",
     "text": [
      "Was not able to find an element with that name.\n"
     ]
    }
   ],
   "source": [
    "# Open a new file editor and enter the following program\n",
    "from selenium import webdriver\n",
    "browser = webdriver.Chrome()\n",
    "browser.get('http://inventwithpython.com')\n",
    "\n",
    "try:\n",
    "    elem = browser.find_element_by_class_name('card text-center') #bookcover didnt work\n",
    "    print('Found <%s> element with that class name!' %(elem.tag_name))\n",
    "except:\n",
    "    print('Was not able to find an element with that name.')"
   ]
  },
  {
   "cell_type": "markdown",
   "metadata": {},
   "source": [
    "Here we open Firefox and direct it to a URL. On this page, we try to find elements with the class name 'bookcover', and if such an element is found, we print its tag name using the tag_name attribute. If no such element was found, we print a different message.\n",
    "\n",
    "This program will output the following:\n",
    "\n",
    "\n",
    "Found < img > element with that class name!\n",
    "We found an element with the class name 'bookcover' and the tag name 'img'."
   ]
  },
  {
   "cell_type": "code",
   "execution_count": 16,
   "metadata": {},
   "outputs": [
    {
     "data": {
      "text/plain": [
       "selenium.webdriver.chrome.webdriver.WebDriver"
      ]
     },
     "execution_count": 16,
     "metadata": {},
     "output_type": "execute_result"
    }
   ],
   "source": [
    "type(browser)"
   ]
  },
  {
   "cell_type": "code",
   "execution_count": null,
   "metadata": {},
   "outputs": [],
   "source": []
  }
 ],
 "metadata": {
  "kernelspec": {
   "display_name": "Python 3",
   "language": "python",
   "name": "python3"
  },
  "language_info": {
   "codemirror_mode": {
    "name": "ipython",
    "version": 3
   },
   "file_extension": ".py",
   "mimetype": "text/x-python",
   "name": "python",
   "nbconvert_exporter": "python",
   "pygments_lexer": "ipython3",
   "version": "3.7.3"
  }
 },
 "nbformat": 4,
 "nbformat_minor": 2
}
