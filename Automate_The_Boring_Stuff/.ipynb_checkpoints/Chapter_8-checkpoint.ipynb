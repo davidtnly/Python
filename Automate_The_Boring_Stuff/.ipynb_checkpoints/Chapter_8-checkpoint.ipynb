{
 "cells": [
  {
   "cell_type": "markdown",
   "metadata": {},
   "source": [
    "### Reading and Writing Files\n",
    "\n",
    "Variables are a fine way to store data while your program is running, but if you want your data to persist even after your program has finished, you need to save it to a file. You can think of a file’s contents as a single string value, potentially gigabytes in size. In this chapter, you will learn how to use Python to create, read, and save files on the hard drive."
   ]
  },
  {
   "cell_type": "markdown",
   "metadata": {},
   "source": [
    "### Files and File Paths\n",
    "\n",
    "A file has two key properties: a filename (usually written as one word) and a path. The path specifies the location of a file on the computer. For example, there is a file on my Windows 7 laptop with the filename project.docx in the path C:\\Users\\asweigart\\Documents. The part of the filename after the last period is called the file’s extension and tells you a file’s type. project.docx is a Word document, and Users, asweigart, and Documents all refer to folders (also called directories). Folders can contain files and other folders"
   ]
  },
  {
   "cell_type": "code",
   "execution_count": 1,
   "metadata": {},
   "outputs": [],
   "source": [
    "import os"
   ]
  },
  {
   "cell_type": "code",
   "execution_count": 2,
   "metadata": {},
   "outputs": [
    {
     "data": {
      "text/plain": [
       "'usr\\\\bin\\\\spam'"
      ]
     },
     "execution_count": 2,
     "metadata": {},
     "output_type": "execute_result"
    }
   ],
   "source": [
    "os.path.join('usr', 'bin', 'spam') # double blackslash to be escaped"
   ]
  },
  {
   "cell_type": "markdown",
   "metadata": {},
   "source": [
    "On Windows, paths are written using backslashes (\\) as the separator between folder names. OS X and Linux, however, use the forward slash (/) as their path separator. If you want your programs to work on all operating systems, you will have to write your Python scripts to handle both cases."
   ]
  },
  {
   "cell_type": "code",
   "execution_count": 3,
   "metadata": {},
   "outputs": [
    {
     "name": "stdout",
     "output_type": "stream",
     "text": [
      "C:\\Users\\asweigart\\accounts.txt\n",
      "C:\\Users\\asweigart\\details.csv\n",
      "C:\\Users\\asweigart\\invite.docx\n"
     ]
    }
   ],
   "source": [
    "# Joins names from a list of filenames to the end of a folder’s name\n",
    "myFiles = ['accounts.txt', 'details.csv', 'invite.docx']\n",
    "for filename in myFiles:\n",
    "    print(os.path.join('C:\\\\Users\\\\asweigart', filename))"
   ]
  },
  {
   "cell_type": "markdown",
   "metadata": {},
   "source": [
    "### The Current Working Directory\n",
    "\n",
    "Every program that runs on your computer has a current working directory, or cwd. Any filenames or paths that do not begin with the root folder are assumed to be under the current working directory. You can get the current working directory as a string value with the os.getcwd() function and change it with os.chdir(). "
   ]
  },
  {
   "cell_type": "code",
   "execution_count": 9,
   "metadata": {},
   "outputs": [],
   "source": [
    "# Get current working directory\n",
    "# os.getcwd()"
   ]
  },
  {
   "cell_type": "markdown",
   "metadata": {},
   "source": [
    "### Absolute vs. Relative Paths\n",
    "\n",
    "There are two ways to specify a file path.\n",
    "\n",
    "    An absolute path, which always begins with the root folder\n",
    "\n",
    "    A relative path, which is relative to the program’s current working directory\n",
    "\n",
    "There are also the dot (.) and dot-dot (..) folders. These are not real folders but special names that can be used in a path. A single period (“dot”) for a folder name is shorthand for “this directory.” Two periods (“dot-dot”) means “the parent folder.”"
   ]
  },
  {
   "cell_type": "markdown",
   "metadata": {},
   "source": [
    "### Creating New Folders with os.makedirs()\n",
    "\n",
    "Your programs can create new folders (directories) with the os.makedirs() function. Enter the following into the interactive shell:\n",
    "\n",
    "import os\n",
    "\n",
    "os.makedirs('C:\\\\delicious\\\\walnut\\\\waffles')"
   ]
  },
  {
   "cell_type": "code",
   "execution_count": 12,
   "metadata": {},
   "outputs": [
    {
     "data": {
      "text/plain": [
       "True"
      ]
     },
     "execution_count": 12,
     "metadata": {},
     "output_type": "execute_result"
    }
   ],
   "source": [
    "os.path.abspath(' .')\n",
    "os.path.isabs(os.path.abspath('.'))"
   ]
  },
  {
   "cell_type": "code",
   "execution_count": 11,
   "metadata": {},
   "outputs": [
    {
     "data": {
      "text/plain": [
       "True"
      ]
     },
     "execution_count": 11,
     "metadata": {},
     "output_type": "execute_result"
    }
   ],
   "source": [
    "# Handling absolute and relative paths\n",
    "os.path.abspath('.')\n",
    "os.path.abspath('.\\\\Scripts')\n",
    "os.path.isabs(os.path.abspath('.'))"
   ]
  },
  {
   "cell_type": "code",
   "execution_count": 13,
   "metadata": {},
   "outputs": [],
   "source": [
    "# If you need a path’s dir name and base name together, you can just call os.path.split() to get a tuple value \n",
    "# with these two strings\n",
    "calcFilePath = 'C:\\\\Windows\\\\System32\\\\calc.exe'"
   ]
  },
  {
   "cell_type": "code",
   "execution_count": 14,
   "metadata": {},
   "outputs": [
    {
     "data": {
      "text/plain": [
       "'C:\\\\Windows\\\\System32\\\\calc.exe'"
      ]
     },
     "execution_count": 14,
     "metadata": {},
     "output_type": "execute_result"
    }
   ],
   "source": [
    "calcFilePath"
   ]
  },
  {
   "cell_type": "code",
   "execution_count": 15,
   "metadata": {},
   "outputs": [
    {
     "data": {
      "text/plain": [
       "('C:\\\\Windows\\\\System32', 'calc.exe')"
      ]
     },
     "execution_count": 15,
     "metadata": {},
     "output_type": "execute_result"
    }
   ],
   "source": [
    "os.path.split(calcFilePath)"
   ]
  },
  {
   "cell_type": "code",
   "execution_count": 16,
   "metadata": {},
   "outputs": [
    {
     "data": {
      "text/plain": [
       "('C:\\\\Windows\\\\System32', 'calc.exe')"
      ]
     },
     "execution_count": 16,
     "metadata": {},
     "output_type": "execute_result"
    }
   ],
   "source": [
    "# You can create the same tuple by calling os.path.dirname() and os.path.basename() and placing the value in a tuple\n",
    "(os.path.dirname(calcFilePath), os.path.basename(calcFilePath))"
   ]
  },
  {
   "cell_type": "code",
   "execution_count": 17,
   "metadata": {},
   "outputs": [],
   "source": [
    "# split() is a nice shortcut if you need both values\n",
    "# os.path.split() = (os.path.dirname(), os.path.basename())"
   ]
  },
  {
   "cell_type": "markdown",
   "metadata": {},
   "source": [
    "Also, note that os.path.split() does not take a file path and return a list of strings of each folder. For that, use the split() string method and split on the string in os.sep. Recall from earlier that the os.sep variable is set to the correct folder-separating slash for the computer running the program."
   ]
  },
  {
   "cell_type": "code",
   "execution_count": 19,
   "metadata": {},
   "outputs": [
    {
     "data": {
      "text/plain": [
       "['C:', 'Windows', 'System32', 'calc.exe']"
      ]
     },
     "execution_count": 19,
     "metadata": {},
     "output_type": "execute_result"
    }
   ],
   "source": [
    "# Split string will work and return a list on each of the path\n",
    "calcFilePath.split(os.path.sep) # passing argument os.path.sep"
   ]
  },
  {
   "cell_type": "markdown",
   "metadata": {},
   "source": [
    "### Finding File Sizes and Folder Contents\n",
    "\n",
    "Once you have ways of handling file paths, you can then start gathering information about specific files and folders. The os.path module provides functions for finding the size of a file in bytes and the files and folders inside a given folder.\n",
    "\n",
    "\n",
    "    Calling os.path.getsize(path) will return the size in bytes of the file in the path argument.\n",
    "\n",
    "    Calling os.listdir(path) will return a list of filename strings for each file in the path argument. (Note that this function is in the os module, not os.path.)\n",
    "\n"
   ]
  },
  {
   "cell_type": "code",
   "execution_count": 21,
   "metadata": {},
   "outputs": [
    {
     "data": {
      "text/plain": [
       "'C:\\\\Users\\\\David Ly\\\\Documents\\\\Programming\\\\Python\\\\Automate_The_Boring_Stuff'"
      ]
     },
     "execution_count": 21,
     "metadata": {},
     "output_type": "execute_result"
    }
   ],
   "source": [
    "# Get file size: os.path.getsize()\n",
    "os.getcwd()"
   ]
  },
  {
   "cell_type": "code",
   "execution_count": 22,
   "metadata": {},
   "outputs": [
    {
     "data": {
      "text/plain": [
       "9028"
      ]
     },
     "execution_count": 22,
     "metadata": {},
     "output_type": "execute_result"
    }
   ],
   "source": [
    "os.path.getsize('Chapter_8.ipynb') # 9028 bytes in size"
   ]
  },
  {
   "cell_type": "code",
   "execution_count": 23,
   "metadata": {},
   "outputs": [
    {
     "data": {
      "text/plain": [
       "['.ipynb_checkpoints',\n",
       " 'Chapter_1.ipynb',\n",
       " 'Chapter_2.ipynb',\n",
       " 'Chapter_3.ipynb',\n",
       " 'Chapter_4.ipynb',\n",
       " 'Chapter_5.ipynb',\n",
       " 'Chapter_6.ipynb',\n",
       " 'Chapter_7.ipynb',\n",
       " 'Chapter_8.ipynb',\n",
       " 'Projects']"
      ]
     },
     "execution_count": 23,
     "metadata": {},
     "output_type": "execute_result"
    }
   ],
   "source": [
    "# Get list of file names in path (current working directory): os.listdir(path)\n",
    "os.listdir(os.getcwd())"
   ]
  },
  {
   "cell_type": "code",
   "execution_count": 33,
   "metadata": {},
   "outputs": [
    {
     "name": "stdout",
     "output_type": "stream",
     "text": [
      ".ipynb_checkpoints :  4096  bytes\n",
      "Chapter_1.ipynb :  9358  bytes\n",
      "Chapter_2.ipynb :  12339  bytes\n",
      "Chapter_3.ipynb :  22547  bytes\n",
      "Chapter_4.ipynb :  55143  bytes\n",
      "Chapter_5.ipynb :  41900  bytes\n",
      "Chapter_6.ipynb :  39535  bytes\n",
      "Chapter_7.ipynb :  79345  bytes\n",
      "Chapter_8.ipynb :  11406  bytes\n",
      "Projects :  4096  bytes\n",
      "Total Directory File Size:  279765\n"
     ]
    }
   ],
   "source": [
    "# Find the total size of all files in the directory\n",
    "totalSize = 0\n",
    "\n",
    "# Loop through each file to get each size\n",
    "for filename in os.listdir(os.getcwd()):\n",
    "    # Step 1 get file names, get file sizes\n",
    "    print(filename, ': ', os.path.getsize(filename), ' bytes')\n",
    "    # Step 2 add sizes together\n",
    "    totalSize = totalSize + os.path.getsize(filename)\n",
    "\n",
    "# Show total size\n",
    "print('Total Directory File Size: ', totalSize)"
   ]
  },
  {
   "cell_type": "markdown",
   "metadata": {},
   "source": [
    "### Checking Path Validity\n",
    "\n",
    "Many Python functions will crash with an error if you supply them with a path that does not exist. The os.path module provides functions to check whether a given path exists and whether it is a file or folder.\n",
    "\n",
    "    Calling os.path.exists(path) will return True if the file or folder referred to in the argument exists and will return False if it does not exist.\n",
    "\n",
    "    Calling os.path.isfile(path) will return True if the path argument exists and is a file and will return False otherwise.\n",
    "\n",
    "    Calling os.path.isdir(path) will return True if the path argument exists and is a folder and will return False otherwise.\n",
    "\n",
    "\n",
    "\n"
   ]
  },
  {
   "cell_type": "code",
   "execution_count": 34,
   "metadata": {},
   "outputs": [
    {
     "data": {
      "text/plain": [
       "True"
      ]
     },
     "execution_count": 34,
     "metadata": {},
     "output_type": "execute_result"
    }
   ],
   "source": [
    "os.path.exists('C:\\\\Windows')"
   ]
  },
  {
   "cell_type": "code",
   "execution_count": 35,
   "metadata": {},
   "outputs": [
    {
     "data": {
      "text/plain": [
       "False"
      ]
     },
     "execution_count": 35,
     "metadata": {},
     "output_type": "execute_result"
    }
   ],
   "source": [
    "os.path.exists('C:\\\\Random')"
   ]
  },
  {
   "cell_type": "markdown",
   "metadata": {},
   "source": [
    "You can determine whether there is a DVD or flash drive currently attached to the computer by checking for it with the os.path.exists() function. For instance, if I wanted to check for a flash drive with the volume named D:\\ on my Windows computer, I could do that with the following:"
   ]
  },
  {
   "cell_type": "code",
   "execution_count": 36,
   "metadata": {},
   "outputs": [
    {
     "data": {
      "text/plain": [
       "True"
      ]
     },
     "execution_count": 36,
     "metadata": {},
     "output_type": "execute_result"
    }
   ],
   "source": [
    "os.path.exists('D:\\\\')"
   ]
  },
  {
   "cell_type": "markdown",
   "metadata": {},
   "source": [
    "### The File Reading/Writing Process\n",
    "\n",
    "Once you are comfortable working with folders and relative paths, you’ll be able to specify the location of files to read and write. The functions covered in the next few sections will apply to plaintext files. Plaintext files contain only basic text characters and do not include font, size, or color information. Text files with the .txt extension or Python script files with the .py extension are examples of plaintext files. These can be opened with Windows’s Notepad or OS X’s TextEdit application. Your programs can easily read the contents of plaintext files and treat them as an ordinary string value.\n",
    "\n",
    "Binary files are all other file types, such as word processing documents, PDFs, images, spreadsheets, and executable programs."
   ]
  },
  {
   "cell_type": "markdown",
   "metadata": {},
   "source": [
    "#### There are three steps to reading or writing files in Python.\n",
    "\n",
    "    Call the open() function to return a File object.\n",
    "\n",
    "    Call the read() or write() method on the File object.\n",
    "\n",
    "    Close the file by calling the close() method on the File object.\n",
    "\n"
   ]
  },
  {
   "cell_type": "markdown",
   "metadata": {},
   "source": [
    "### Opening Files with the open() Function\n",
    "\n",
    "To open a file with the open() function, you pass it a string path indicating the file you want to open; it can be either an absolute or relative path. The open() function returns a File object.\n",
    "\n",
    "Try it by creating a text file named hello.txt using Notepad or TextEdit. Type Hello world! as the content of this text file and save it in your user home folder. "
   ]
  },
  {
   "cell_type": "code",
   "execution_count": 37,
   "metadata": {},
   "outputs": [
    {
     "ename": "FileNotFoundError",
     "evalue": "[Errno 2] No such file or directory: 'C:\\\\Users\\\\Folder\\\\text.txt'",
     "output_type": "error",
     "traceback": [
      "\u001b[1;31m---------------------------------------------------------------------------\u001b[0m",
      "\u001b[1;31mFileNotFoundError\u001b[0m                         Traceback (most recent call last)",
      "\u001b[1;32m<ipython-input-37-c4cc43428917>\u001b[0m in \u001b[0;36m<module>\u001b[1;34m\u001b[0m\n\u001b[0;32m      1\u001b[0m \u001b[1;31m# Open file with open()\u001b[0m\u001b[1;33m\u001b[0m\u001b[1;33m\u001b[0m\u001b[1;33m\u001b[0m\u001b[0m\n\u001b[1;32m----> 2\u001b[1;33m \u001b[0mhelloFile\u001b[0m \u001b[1;33m=\u001b[0m \u001b[0mopen\u001b[0m\u001b[1;33m(\u001b[0m\u001b[1;34m'C:\\\\Users\\\\Folder\\\\text.txt'\u001b[0m\u001b[1;33m)\u001b[0m\u001b[1;33m\u001b[0m\u001b[1;33m\u001b[0m\u001b[0m\n\u001b[0m",
      "\u001b[1;31mFileNotFoundError\u001b[0m: [Errno 2] No such file or directory: 'C:\\\\Users\\\\Folder\\\\text.txt'"
     ]
    }
   ],
   "source": [
    "# Open file with open()\n",
    "helloFile = open('C:\\\\Users\\\\Folder\\\\text.txt')"
   ]
  },
  {
   "cell_type": "markdown",
   "metadata": {},
   "source": [
    "### Writing to Files\n",
    "\n",
    "Python allows you to write content to a file in a way similar to how the print() function “writes” strings to the screen. You can’t write to a file you’ve opened in read mode, though. Instead, you need to open it in “write plaintext” mode or “append plaintext” mode, or write mode and append mode for short.\n",
    "\n",
    "Write mode will overwrite the existing file and start from scratch, just like when you overwrite a variable’s value with a new value. Pass 'w' as the second argument to open() to open the file in write mode. Append mode, on the other hand, will append text to the end of the existing file. You can think of this as appending to a list in a variable, rather than overwriting the variable altogether. Pass 'a' as the second argument to open() to open the file in append mode.\n",
    "\n",
    "If the filename passed to open() does not exist, both write and append mode will create a new, blank file. After reading or writing a file, call the close() method before opening the file again."
   ]
  },
  {
   "cell_type": "code",
   "execution_count": 39,
   "metadata": {},
   "outputs": [
    {
     "data": {
      "text/plain": [
       "25"
      ]
     },
     "execution_count": 39,
     "metadata": {},
     "output_type": "execute_result"
    }
   ],
   "source": [
    "# Open the file in write mode\n",
    "baconFile = open('bacon.txt', 'w')\n",
    "\n",
    "# Write and pass the string argument 'Hello world' writes the string to the file and returns the characters\n",
    "baconFile.write('Hello worlddddddddddddd!\\n') # 25 characters"
   ]
  },
  {
   "cell_type": "code",
   "execution_count": 43,
   "metadata": {},
   "outputs": [],
   "source": [
    "# Close the file after opening\n",
    "baconFile.close()\n",
    "\n",
    "# Open the file  in append mode\n",
    "baconFile = open('bacon.txt', 'a')\n",
    "\n",
    "# After opening it in append mode, write a new sentence\n",
    "baconFile.write('Bacon is not a vegetable.')\n",
    "\n",
    "# Close again\n",
    "baconFile.close()"
   ]
  },
  {
   "cell_type": "code",
   "execution_count": 44,
   "metadata": {},
   "outputs": [
    {
     "name": "stdout",
     "output_type": "stream",
     "text": [
      "Hello worlddddddddddddd!\n",
      "Bacon is not a vegetable.Bacon is not a vegetable.\n"
     ]
    }
   ],
   "source": [
    "# Open the file again and store the read variable to a new variable then close and call the new variable\n",
    "baconFile = open('bacon.txt')\n",
    "content = baconFile.read()\n",
    "baconFile.close()\n",
    "print(content)"
   ]
  },
  {
   "cell_type": "markdown",
   "metadata": {},
   "source": [
    "### Saving Variables with the shelve Module\n",
    "\n",
    "You can save variables in your Python programs to binary shelf files using the shelve module. This way, your program can restore data to variables from the hard drive. The shelve module will let you add Save and Open features to your program. For example, if you ran a program and entered some configuration settings, you could save those settings to a shelf file and then have the program load them the next time it is run."
   ]
  },
  {
   "cell_type": "code",
   "execution_count": 45,
   "metadata": {},
   "outputs": [],
   "source": [
    "import shelve\n",
    "\n",
    "# Call shelve.open() and pass it a file name and store it the returned shelf value in a variable\n",
    "shelfFile = shelve.open('mydata')\n",
    "\n",
    "# Create a list cats\n",
    "cats = ['Zophie', 'Pooka', 'Simon']\n",
    "\n",
    "# Write shelfFile['cats'] = cats to store the list\n",
    "shelfFile['cats'] = cats\n",
    "\n",
    "# Close the file\n",
    "shelfFile.close()"
   ]
  },
  {
   "cell_type": "code",
   "execution_count": 46,
   "metadata": {},
   "outputs": [
    {
     "data": {
      "text/plain": [
       "'C:\\\\Users\\\\David Ly\\\\Documents\\\\Programming\\\\Python\\\\Automate_The_Boring_Stuff'"
      ]
     },
     "execution_count": 46,
     "metadata": {},
     "output_type": "execute_result"
    }
   ],
   "source": [
    "os.getcwd()"
   ]
  },
  {
   "cell_type": "code",
   "execution_count": 48,
   "metadata": {},
   "outputs": [
    {
     "ename": "NameError",
     "evalue": "name 'path' is not defined",
     "output_type": "error",
     "traceback": [
      "\u001b[1;31m---------------------------------------------------------------------------\u001b[0m",
      "\u001b[1;31mNameError\u001b[0m                                 Traceback (most recent call last)",
      "\u001b[1;32m<ipython-input-48-75886a92b821>\u001b[0m in \u001b[0;36m<module>\u001b[1;34m\u001b[0m\n\u001b[1;32m----> 1\u001b[1;33m \u001b[0mos\u001b[0m\u001b[1;33m.\u001b[0m\u001b[0mchdir\u001b[0m\u001b[1;33m(\u001b[0m\u001b[0mpath\u001b[0m\u001b[1;33m)\u001b[0m\u001b[1;33m\u001b[0m\u001b[1;33m\u001b[0m\u001b[0m\n\u001b[0m\u001b[0;32m      2\u001b[0m \u001b[1;33m\u001b[0m\u001b[0m\n\u001b[0;32m      3\u001b[0m \u001b[1;31m# os.chdir(\"\\\\Projects\\\\Chapter 08\")\u001b[0m\u001b[1;33m\u001b[0m\u001b[1;33m\u001b[0m\u001b[1;33m\u001b[0m\u001b[0m\n",
      "\u001b[1;31mNameError\u001b[0m: name 'path' is not defined"
     ]
    }
   ],
   "source": [
    "# Change paths\n",
    "os.chdir(path)\n",
    "\n",
    "# os.chdir(\"\\\\Projects\\\\Chapter 08\")"
   ]
  },
  {
   "cell_type": "code",
   "execution_count": null,
   "metadata": {},
   "outputs": [],
   "source": []
  }
 ],
 "metadata": {
  "kernelspec": {
   "display_name": "Python 3",
   "language": "python",
   "name": "python3"
  },
  "language_info": {
   "codemirror_mode": {
    "name": "ipython",
    "version": 3
   },
   "file_extension": ".py",
   "mimetype": "text/x-python",
   "name": "python",
   "nbconvert_exporter": "python",
   "pygments_lexer": "ipython3",
   "version": "3.7.3"
  }
 },
 "nbformat": 4,
 "nbformat_minor": 2
}
