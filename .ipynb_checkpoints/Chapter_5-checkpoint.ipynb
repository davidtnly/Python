{
 "cells": [
  {
   "cell_type": "markdown",
   "metadata": {},
   "source": [
    "# Chapter 5: Dictionaries & Structuring Data"
   ]
  },
  {
   "cell_type": "markdown",
   "metadata": {},
   "source": [
    "## The Dictionary Data Type\n",
    "\n",
    "Like a list, a dictionary is a collection of many values. But unlike indexes for lists, indexes for dictionaries can use many different data types, not just integers. Indexes for dictionaries are called keys, and a key with its associated value is called a key-value pair."
   ]
  },
  {
   "cell_type": "code",
   "execution_count": 3,
   "metadata": {},
   "outputs": [
    {
     "name": "stdout",
     "output_type": "stream",
     "text": [
      "{'size': 'fat', 'color': 'gray', 'disposition': 'loud'}\n"
     ]
    }
   ],
   "source": [
    "# Assign a dictionary to the myCat variable\n",
    "# Dictionary keys are size, color, disposition\n",
    "myCat = {'size': 'fat', 'color': 'gray', 'disposition': 'loud'}\n",
    "type(myCat);\n",
    "print(myCat);"
   ]
  },
  {
   "cell_type": "code",
   "execution_count": 4,
   "metadata": {},
   "outputs": [
    {
     "data": {
      "text/plain": [
       "dict"
      ]
     },
     "execution_count": 4,
     "metadata": {},
     "output_type": "execute_result"
    }
   ],
   "source": [
    "type(myCat)"
   ]
  },
  {
   "cell_type": "code",
   "execution_count": 9,
   "metadata": {},
   "outputs": [
    {
     "data": {
      "text/plain": [
       "'fat'"
      ]
     },
     "execution_count": 9,
     "metadata": {},
     "output_type": "execute_result"
    }
   ],
   "source": [
    "myCat['size']"
   ]
  },
  {
   "cell_type": "code",
   "execution_count": 10,
   "metadata": {},
   "outputs": [
    {
     "data": {
      "text/plain": [
       "'My cat has gray fur.'"
      ]
     },
     "execution_count": 10,
     "metadata": {},
     "output_type": "execute_result"
    }
   ],
   "source": [
    "'My cat has ' + myCat['color'] + ' fur.'"
   ]
  },
  {
   "cell_type": "markdown",
   "metadata": {},
   "source": [
    "## Dictionaries vs. Lists\n",
    "\n",
    "Unlike lists, items in dictionaries are unordered. The first item in a list named spam would be spam[0]. But there is no “first” item in a dictionary. While the order of items matters for determining whether two lists are the same, it does not matter in what order the key-value pairs are typed in a dictionary."
   ]
  },
  {
   "cell_type": "code",
   "execution_count": 11,
   "metadata": {},
   "outputs": [
    {
     "data": {
      "text/plain": [
       "True"
      ]
     },
     "execution_count": 11,
     "metadata": {},
     "output_type": "execute_result"
    }
   ],
   "source": [
    "# Does not have to be ordered to be true\n",
    "# Dictionaries cannot be sliced like lists since unordered\n",
    "eggs = {'name': 'Zophie', 'species': 'cat', 'age': '8'}\n",
    "ham = {'species': 'cat', 'age': '8', 'name': 'Zophie'}\n",
    "eggs == ham"
   ]
  },
  {
   "cell_type": "code",
   "execution_count": 29,
   "metadata": {},
   "outputs": [],
   "source": [
    "# Create birthday dictionary\n",
    "birthdays = {'Alice': 'Apr 1', 'Bob': 'Dec 12', 'Carol': 'Mar 4'}"
   ]
  },
  {
   "cell_type": "code",
   "execution_count": 30,
   "metadata": {},
   "outputs": [
    {
     "data": {
      "text/plain": [
       "'Apr 1'"
      ]
     },
     "execution_count": 30,
     "metadata": {},
     "output_type": "execute_result"
    }
   ],
   "source": [
    "birthdays['Alice']"
   ]
  },
  {
   "cell_type": "code",
   "execution_count": 31,
   "metadata": {},
   "outputs": [
    {
     "name": "stdout",
     "output_type": "stream",
     "text": [
      "Enter a name: (blank to quit)\n",
      "\n"
     ]
    }
   ],
   "source": [
    "while True:\n",
    "    print('Enter a name: (blank to quit)')\n",
    "    name = input()\n",
    "    \n",
    "    if name == '':\n",
    "        break\n",
    "    \n",
    "    if name in birthdays:\n",
    "        print(birthdays[name] + ' is the birthday of ' + name)\n",
    "    else:\n",
    "        print('I do not have birthday information for ' + name)\n",
    "        print('What is their birthday?')\n",
    "        bday = input()\n",
    "        birthdays[name] = bday\n",
    "        print('Birthday database updated.')"
   ]
  },
  {
   "cell_type": "code",
   "execution_count": 32,
   "metadata": {},
   "outputs": [
    {
     "data": {
      "text/plain": [
       "{'Alice': 'Apr 1', 'Bob': 'Dec 12', 'Carol': 'Mar 4'}"
      ]
     },
     "execution_count": 32,
     "metadata": {},
     "output_type": "execute_result"
    }
   ],
   "source": [
    "birthdays"
   ]
  },
  {
   "cell_type": "code",
   "execution_count": 33,
   "metadata": {},
   "outputs": [],
   "source": [
    "def add_bday(name, bday):\n",
    "    while True:\n",
    "        print('Enter a name: (blank to quit)')\n",
    "#         name = input()\n",
    "\n",
    "        if name == '':\n",
    "            break\n",
    "\n",
    "        if name in birthdays:\n",
    "            print(birthdays[name] + ' is the birthday of ' + name)\n",
    "            break\n",
    "        else:\n",
    "            print('I do not have birthday information for ' + name)\n",
    "            print('What is their birthday?')\n",
    "#             bday = input()\n",
    "            birthdays[name] = bday\n",
    "            print('Birthday database updated.')\n",
    "            break"
   ]
  },
  {
   "cell_type": "code",
   "execution_count": 35,
   "metadata": {},
   "outputs": [
    {
     "name": "stdout",
     "output_type": "stream",
     "text": [
      "Enter a name: (blank to quit)\n",
      "Feb 15 is the birthday of Jack\n"
     ]
    }
   ],
   "source": [
    "add_bday('Jack', 'Feb 15')"
   ]
  },
  {
   "cell_type": "code",
   "execution_count": 36,
   "metadata": {},
   "outputs": [
    {
     "data": {
      "text/plain": [
       "{'Alice': 'Apr 1', 'Bob': 'Dec 12', 'Carol': 'Mar 4', 'Jack': 'Feb 15'}"
      ]
     },
     "execution_count": 36,
     "metadata": {},
     "output_type": "execute_result"
    }
   ],
   "source": [
    "birthdays"
   ]
  },
  {
   "cell_type": "code",
   "execution_count": 38,
   "metadata": {},
   "outputs": [
    {
     "name": "stdout",
     "output_type": "stream",
     "text": [
      "Enter a name: (blank to quit)\n",
      "Jan 1 is the birthday of New Guy\n"
     ]
    }
   ],
   "source": [
    "add_bday('New Guy', 'Jan 1')"
   ]
  },
  {
   "cell_type": "code",
   "execution_count": 39,
   "metadata": {},
   "outputs": [
    {
     "data": {
      "text/plain": [
       "{'Alice': 'Apr 1',\n",
       " 'Bob': 'Dec 12',\n",
       " 'Carol': 'Mar 4',\n",
       " 'Jack': 'Feb 15',\n",
       " 'New Guy': 'Jan 1'}"
      ]
     },
     "execution_count": 39,
     "metadata": {},
     "output_type": "execute_result"
    }
   ],
   "source": [
    "birthdays"
   ]
  },
  {
   "cell_type": "code",
   "execution_count": 40,
   "metadata": {},
   "outputs": [
    {
     "data": {
      "text/plain": [
       "{'color': 'red', 'age': 42}"
      ]
     },
     "execution_count": 40,
     "metadata": {},
     "output_type": "execute_result"
    }
   ],
   "source": [
    "spam = {'color': 'red', 'age': 42}\n",
    "spam"
   ]
  },
  {
   "cell_type": "code",
   "execution_count": 41,
   "metadata": {},
   "outputs": [
    {
     "name": "stdout",
     "output_type": "stream",
     "text": [
      "red\n",
      "42\n"
     ]
    }
   ],
   "source": [
    "for i in spam.values():\n",
    "    print(i)"
   ]
  },
  {
   "cell_type": "markdown",
   "metadata": {},
   "source": [
    "## The keys(), values(), and items() Methods\n",
    "\n",
    "There are three dictionary methods that will return list-like values of the dictionary’s keys, values, or both keys and values: keys(), values(), and items(). The values returned by these methods are not true lists: They cannot be modified and do not have an append() method. But these data types (dict_keys, dict_values, and dict_items, respectively) can be used in for loops."
   ]
  },
  {
   "cell_type": "code",
   "execution_count": 43,
   "metadata": {},
   "outputs": [
    {
     "name": "stdout",
     "output_type": "stream",
     "text": [
      "color\n",
      "age\n"
     ]
    }
   ],
   "source": [
    "# Iterate over each of the values in the spam dictionary\n",
    "for i in spam.keys():\n",
    "    print(i)"
   ]
  },
  {
   "cell_type": "code",
   "execution_count": 44,
   "metadata": {},
   "outputs": [
    {
     "name": "stdout",
     "output_type": "stream",
     "text": [
      "red\n",
      "42\n"
     ]
    }
   ],
   "source": [
    "for i in spam.values():\n",
    "    print(i)"
   ]
  },
  {
   "cell_type": "code",
   "execution_count": 46,
   "metadata": {},
   "outputs": [
    {
     "name": "stdout",
     "output_type": "stream",
     "text": [
      "('color', 'red')\n",
      "('age', 42)\n"
     ]
    }
   ],
   "source": [
    "for i in spam.items():\n",
    "    print(i)"
   ]
  },
  {
   "cell_type": "code",
   "execution_count": 47,
   "metadata": {},
   "outputs": [
    {
     "data": {
      "text/plain": [
       "dict_items([('color', 'red'), ('age', 42)])"
      ]
     },
     "execution_count": 47,
     "metadata": {},
     "output_type": "execute_result"
    }
   ],
   "source": [
    "spam.items()"
   ]
  },
  {
   "cell_type": "code",
   "execution_count": 48,
   "metadata": {},
   "outputs": [
    {
     "data": {
      "text/plain": [
       "dict_keys(['color', 'age'])"
      ]
     },
     "execution_count": 48,
     "metadata": {},
     "output_type": "execute_result"
    }
   ],
   "source": [
    "spam.keys()"
   ]
  },
  {
   "cell_type": "code",
   "execution_count": 49,
   "metadata": {},
   "outputs": [
    {
     "data": {
      "text/plain": [
       "dict_values(['red', 42])"
      ]
     },
     "execution_count": 49,
     "metadata": {},
     "output_type": "execute_result"
    }
   ],
   "source": [
    "spam.values()"
   ]
  },
  {
   "cell_type": "code",
   "execution_count": 50,
   "metadata": {},
   "outputs": [
    {
     "data": {
      "text/plain": [
       "['color', 'age']"
      ]
     },
     "execution_count": 50,
     "metadata": {},
     "output_type": "execute_result"
    }
   ],
   "source": [
    "list(spam.keys())"
   ]
  },
  {
   "cell_type": "code",
   "execution_count": 51,
   "metadata": {},
   "outputs": [
    {
     "data": {
      "text/plain": [
       "['red', 42]"
      ]
     },
     "execution_count": 51,
     "metadata": {},
     "output_type": "execute_result"
    }
   ],
   "source": [
    "list(spam.values())"
   ]
  },
  {
   "cell_type": "code",
   "execution_count": 53,
   "metadata": {},
   "outputs": [
    {
     "name": "stdout",
     "output_type": "stream",
     "text": [
      "Key: color Value: red\n",
      "Key: age Value: 42\n"
     ]
    }
   ],
   "source": [
    "# Loop key and value to separate variables (multiple assignment)\n",
    "for i, j in spam.items():\n",
    "    print('Key: ' + i + ' Value: ' + str(j))"
   ]
  },
  {
   "cell_type": "markdown",
   "metadata": {},
   "source": [
    "## Checking Whether a Key or Value Exists in a Dictionary"
   ]
  },
  {
   "cell_type": "code",
   "execution_count": 54,
   "metadata": {},
   "outputs": [],
   "source": [
    "spam = {'name': 'Zophie', 'age': 7}"
   ]
  },
  {
   "cell_type": "code",
   "execution_count": 55,
   "metadata": {},
   "outputs": [
    {
     "data": {
      "text/plain": [
       "True"
      ]
     },
     "execution_count": 55,
     "metadata": {},
     "output_type": "execute_result"
    }
   ],
   "source": [
    "'name' in spam.keys()"
   ]
  },
  {
   "cell_type": "code",
   "execution_count": 56,
   "metadata": {},
   "outputs": [
    {
     "data": {
      "text/plain": [
       "False"
      ]
     },
     "execution_count": 56,
     "metadata": {},
     "output_type": "execute_result"
    }
   ],
   "source": [
    "'color' in spam"
   ]
  },
  {
   "cell_type": "code",
   "execution_count": 57,
   "metadata": {},
   "outputs": [
    {
     "data": {
      "text/plain": [
       "False"
      ]
     },
     "execution_count": 57,
     "metadata": {},
     "output_type": "execute_result"
    }
   ],
   "source": [
    "'color' in spam.keys()"
   ]
  },
  {
   "cell_type": "code",
   "execution_count": 58,
   "metadata": {},
   "outputs": [],
   "source": [
    "picnicItems = {'apples': 5, 'cups': 2}"
   ]
  },
  {
   "cell_type": "code",
   "execution_count": 59,
   "metadata": {},
   "outputs": [
    {
     "data": {
      "text/plain": [
       "{'apples': 5, 'cups': 2}"
      ]
     },
     "execution_count": 59,
     "metadata": {},
     "output_type": "execute_result"
    }
   ],
   "source": [
    "picnicItems"
   ]
  },
  {
   "cell_type": "code",
   "execution_count": 60,
   "metadata": {},
   "outputs": [
    {
     "data": {
      "text/plain": [
       "'I am bringing 0 eggs.'"
      ]
     },
     "execution_count": 60,
     "metadata": {},
     "output_type": "execute_result"
    }
   ],
   "source": [
    "# get() method as a fallback value if value does not exist in dictionary\n",
    "'I am bringing ' + str(picnicItems.get('eggs', 0)) + ' eggs.'"
   ]
  },
  {
   "cell_type": "code",
   "execution_count": 61,
   "metadata": {},
   "outputs": [
    {
     "data": {
      "text/plain": [
       "2"
      ]
     },
     "execution_count": 61,
     "metadata": {},
     "output_type": "execute_result"
    }
   ],
   "source": [
    "picnicItems.get('cups', 15)"
   ]
  },
  {
   "cell_type": "code",
   "execution_count": 62,
   "metadata": {},
   "outputs": [
    {
     "data": {
      "text/plain": [
       "'0'"
      ]
     },
     "execution_count": 62,
     "metadata": {},
     "output_type": "execute_result"
    }
   ],
   "source": [
    "str(picnicItems.get('eggs', 0))"
   ]
  },
  {
   "cell_type": "code",
   "execution_count": 63,
   "metadata": {},
   "outputs": [
    {
     "data": {
      "text/plain": [
       "'10'"
      ]
     },
     "execution_count": 63,
     "metadata": {},
     "output_type": "execute_result"
    }
   ],
   "source": [
    "str(picnicItems.get('eggs', 10))"
   ]
  },
  {
   "cell_type": "code",
   "execution_count": 64,
   "metadata": {},
   "outputs": [
    {
     "data": {
      "text/plain": [
       "'2'"
      ]
     },
     "execution_count": 64,
     "metadata": {},
     "output_type": "execute_result"
    }
   ],
   "source": [
    "str(picnicItems.get('cups', 10)) # does not work since there is cup key in the dictionary"
   ]
  },
  {
   "cell_type": "code",
   "execution_count": 66,
   "metadata": {},
   "outputs": [
    {
     "data": {
      "text/plain": [
       "1000"
      ]
     },
     "execution_count": 66,
     "metadata": {},
     "output_type": "execute_result"
    }
   ],
   "source": [
    "spam.get('test', 1000)"
   ]
  },
  {
   "cell_type": "code",
   "execution_count": 68,
   "metadata": {},
   "outputs": [],
   "source": [
    "spam = {'name': 'Pooka', 'age': 5}\n",
    "if 'color' not in spam:\n",
    "    spam['color'] = 'black'"
   ]
  },
  {
   "cell_type": "code",
   "execution_count": 69,
   "metadata": {},
   "outputs": [
    {
     "data": {
      "text/plain": [
       "{'name': 'Pooka', 'age': 5, 'color': 'black'}"
      ]
     },
     "execution_count": 69,
     "metadata": {},
     "output_type": "execute_result"
    }
   ],
   "source": [
    "spam"
   ]
  },
  {
   "cell_type": "code",
   "execution_count": 70,
   "metadata": {},
   "outputs": [
    {
     "name": "stdout",
     "output_type": "stream",
     "text": [
      "{'I': 1, 't': 6, ' ': 13, 'w': 2, 'a': 4, 's': 3, 'b': 1, 'r': 5, 'i': 6, 'g': 2, 'h': 3, 'c': 3, 'o': 2, 'l': 3, 'd': 3, 'y': 1, 'n': 4, 'A': 1, 'p': 1, ',': 1, 'e': 5, 'k': 2, '.': 1}\n"
     ]
    }
   ],
   "source": [
    "# Count letters in message\n",
    "message = 'It was a bright cold day in April, and the clocks were striking thirteen.'\n",
    "count = {}\n",
    "for character in message:\n",
    "    count.setdefault(character, 0)\n",
    "    count[character] = count[character] + 1\n",
    "\n",
    "print(count)"
   ]
  },
  {
   "cell_type": "markdown",
   "metadata": {},
   "source": [
    "The program loops over each character in the message variable’s string, counting how often each character appears. The setdefault() method call ensures that the key is in the count dictionary (with a default value of 0) so the program doesn’t throw a KeyError error when count[character] = count[character] + 1 is executed. "
   ]
  },
  {
   "cell_type": "markdown",
   "metadata": {},
   "source": [
    "From the output, you can see that the lowercase letter c appears 3 times, the space character appears 13 times, and the uppercase letter A appears 1 time. This program will work no matter what string is inside the message variable, even if the string is millions of characters long!"
   ]
  },
  {
   "cell_type": "code",
   "execution_count": 71,
   "metadata": {},
   "outputs": [
    {
     "name": "stdout",
     "output_type": "stream",
     "text": [
      "{'F': 1, 'r': 19, 'o': 10, 'm': 8, ' ': 49, 't': 24, 'h': 11, 'e': 32, 'u': 4, 'p': 11, ',': 4, 'y': 1, 'c': 9, 'a': 22, 'n': 9, 's': 19, 'l': 9, 'w': 4, '3': 2, 'i': 15, '1': 2, 'd': 2, 'A': 1, '.': 1, 'T': 1, 'g': 5, 'k': 1, 'v': 2, 'b': 1, 'f': 2, '!': 1}\n"
     ]
    }
   ],
   "source": [
    "# Count letters in message\n",
    "message = 'From the output, you can see that the lowercase letter c appears 3 times, the space character appears 13 times, and the uppercase letter A appears 1 time. This program will work no matter what string is inside the message variable, even if the string is millions of characters long!'\n",
    "count = {}\n",
    "for character in message:\n",
    "    count.setdefault(character, 0)\n",
    "    count[character] = count[character] + 1\n",
    "\n",
    "print(count)"
   ]
  },
  {
   "cell_type": "code",
   "execution_count": 76,
   "metadata": {},
   "outputs": [
    {
     "name": "stdout",
     "output_type": "stream",
     "text": [
      "{' ': 13,\n",
      " ',': 1,\n",
      " '.': 1,\n",
      " 'A': 1,\n",
      " 'I': 1,\n",
      " 'a': 4,\n",
      " 'b': 1,\n",
      " 'c': 3,\n",
      " 'd': 3,\n",
      " 'e': 5,\n",
      " 'g': 2,\n",
      " 'h': 3,\n",
      " 'i': 6,\n",
      " 'k': 2,\n",
      " 'l': 3,\n",
      " 'n': 4,\n",
      " 'o': 2,\n",
      " 'p': 1,\n",
      " 'r': 5,\n",
      " 's': 3,\n",
      " 't': 6,\n",
      " 'w': 2,\n",
      " 'y': 1}\n"
     ]
    }
   ],
   "source": [
    "# import pprint module to have \"pretty print\" for a cleaner display\n",
    "import pprint\n",
    "message = 'It was a bright cold day in April, and the clocks were striking thirteen.'\n",
    "count = {}\n",
    "\n",
    "for character in message:\n",
    "    count.setdefault(character, 0)\n",
    "    count[character] = count[character] + 1\n",
    "\n",
    "pprint.pprint(count)"
   ]
  },
  {
   "cell_type": "markdown",
   "metadata": {},
   "source": [
    "## Using Data Structures to Model Real-World Things"
   ]
  },
  {
   "cell_type": "code",
   "execution_count": 1,
   "metadata": {},
   "outputs": [
    {
     "data": {
      "text/plain": [
       "{'top-L': ' ',\n",
       " 'top-M': ' ',\n",
       " 'top-R': ' ',\n",
       " 'mid-L': ' ',\n",
       " 'mid-M': ' ',\n",
       " 'mid-R': ' ',\n",
       " 'low-L': ' ',\n",
       " 'low-M': ' ',\n",
       " 'low-R': ' '}"
      ]
     },
     "execution_count": 1,
     "metadata": {},
     "output_type": "execute_result"
    }
   ],
   "source": [
    "# Empty tic-tac-toe dictionary board\n",
    "theBoard = {'top-L': ' ', 'top-M': ' ', 'top-R': ' ',\n",
    "            'mid-L': ' ', 'mid-M': ' ', 'mid-R': ' ',\n",
    "            'low-L': ' ', 'low-M': ' ', 'low-R': ' '}\n",
    "theBoard"
   ]
  },
  {
   "cell_type": "code",
   "execution_count": 2,
   "metadata": {},
   "outputs": [
    {
     "name": "stdout",
     "output_type": "stream",
     "text": [
      " | | \n",
      "-+-+-\n",
      " | | \n",
      "-+-+-\n",
      " | | \n"
     ]
    }
   ],
   "source": [
    "# Create a function to print the board dictionary onto the screen\n",
    "def printBoard(board):\n",
    "    print(board['top-L'] + '|' + board['top-M'] + '|' + board['top-R'])\n",
    "    print('-+-+-')\n",
    "    print(board['mid-L'] + '|' + board['mid-M'] + '|' + board['mid-R'])\n",
    "    print('-+-+-')\n",
    "    print(board['low-L'] + '|' + board['low-M'] + '|' + board['low-R'])\n",
    "printBoard(theBoard)"
   ]
  },
  {
   "cell_type": "code",
   "execution_count": 3,
   "metadata": {},
   "outputs": [
    {
     "name": "stdout",
     "output_type": "stream",
     "text": [
      "O|O|O\n",
      "-+-+-\n",
      "X|X| \n",
      "-+-+-\n",
      " | |X\n"
     ]
    }
   ],
   "source": [
    "# Print board with values\n",
    "theBoard = {'top-L': 'O', 'top-M': 'O', 'top-R': 'O', 'mid-L': 'X', 'mid-M':\n",
    "'X', 'mid-R': ' ', 'low-L': ' ', 'low-M': ' ', 'low-R': 'X'}\n",
    "printBoard(theBoard)"
   ]
  },
  {
   "cell_type": "markdown",
   "metadata": {},
   "source": [
    "The above is a data structure that represents a board and wrote code in printBoard() function to interpret the data structure. This is a program that \"models\" the board. You can organize the data structure differently as well (renaming the keys)."
   ]
  },
  {
   "cell_type": "markdown",
   "metadata": {},
   "source": [
    "The printBoard() function expects the data structure to be a dictionary with keys for all nine slots. IF the dictionary you passed was missing, say, the 'mid-L' key, your program would not work."
   ]
  },
  {
   "cell_type": "code",
   "execution_count": 4,
   "metadata": {},
   "outputs": [
    {
     "data": {
      "text/plain": [
       "{'top-L': ' ',\n",
       " 'top-M': ' ',\n",
       " 'top-R': ' ',\n",
       " 'mid-L': ' ',\n",
       " 'mid-M': ' ',\n",
       " 'mid-R': ' ',\n",
       " 'low-L': ' ',\n",
       " 'low-M': ' ',\n",
       " 'low-R': ' '}"
      ]
     },
     "execution_count": 4,
     "metadata": {},
     "output_type": "execute_result"
    }
   ],
   "source": [
    "# Add code that allows the players to enter their moves\n",
    "theBoard = {'top-L': ' ', 'top-M': ' ', 'top-R': ' ',\n",
    "            'mid-L': ' ', 'mid-M': ' ', 'mid-R': ' ',\n",
    "            'low-L': ' ', 'low-M': ' ', 'low-R': ' '}\n",
    "theBoard"
   ]
  },
  {
   "cell_type": "code",
   "execution_count": 6,
   "metadata": {},
   "outputs": [
    {
     "name": "stdout",
     "output_type": "stream",
     "text": [
      " | | \n",
      "-+-+-\n",
      " | | \n",
      "-+-+-\n",
      " | | \n",
      "Turn for X .Move on which space?\n",
      "mid-M\n",
      " | | \n",
      "-+-+-\n",
      " |X| \n",
      "-+-+-\n",
      " | | \n",
      "Turn for O .Move on which space?\n",
      "mid-M\n",
      " | | \n",
      "-+-+-\n",
      " |O| \n",
      "-+-+-\n",
      " | | \n",
      "Turn for X .Move on which space?\n",
      "low-L\n",
      " | | \n",
      "-+-+-\n",
      " |O| \n",
      "-+-+-\n",
      "X| | \n",
      "Turn for O .Move on which space?\n",
      "mid-L\n",
      " | | \n",
      "-+-+-\n",
      "O|O| \n",
      "-+-+-\n",
      "X| | \n",
      "Turn for X .Move on which space?\n",
      "top-L\n",
      "X| | \n",
      "-+-+-\n",
      "O|O| \n",
      "-+-+-\n",
      "X| | \n",
      "Turn for O .Move on which space?\n",
      "mid-R\n",
      "X| | \n",
      "-+-+-\n",
      "O|O|O\n",
      "-+-+-\n",
      "X| | \n",
      "Turn for X .Move on which space?\n",
      "top-R\n",
      "X| |X\n",
      "-+-+-\n",
      "O|O|O\n",
      "-+-+-\n",
      "X| | \n",
      "Turn for O .Move on which space?\n",
      "top-M\n",
      "X|O|X\n",
      "-+-+-\n",
      "O|O|O\n",
      "-+-+-\n",
      "X| | \n",
      "Turn for X .Move on which space?\n",
      "low-M\n",
      "X|O|X\n",
      "-+-+-\n",
      "O|O|O\n",
      "-+-+-\n",
      "X|X| \n"
     ]
    }
   ],
   "source": [
    "def printBoard(board):\n",
    "    print(board['top-L'] + '|' + board['top-M'] + '|' + board['top-R'])\n",
    "    print('-+-+-')\n",
    "    print(board['mid-L'] + '|' + board['mid-M'] + '|' + board['mid-R'])\n",
    "    print('-+-+-')\n",
    "    print(board['low-L'] + '|' + board['low-M'] + '|' + board['low-R'])\n",
    "\n",
    "turn = 'X'\n",
    "for i in range(9):\n",
    "    printBoard(theBoard)\n",
    "    print('Turn for ' + turn + ' .Move on which space?')\n",
    "    move = input()\n",
    "    theBoard[move] = turn\n",
    "    if turn == 'X':\n",
    "        turn = 'O'\n",
    "    else:\n",
    "        turn = 'X'\n",
    "        \n",
    "printBoard(theBoard)"
   ]
  },
  {
   "cell_type": "markdown",
   "metadata": {},
   "source": [
    "## Nested dictionaries and lists\n",
    "Modeling tic-tac-toe board was fairly simple. The board needed only a single dictionary value with nine key-value pairs. As you model more complicated things, you may find you need dictionaries and lists that contain other dictionaries and lists. Lists are useful to contain an ordered series of values, and dictionaries are useful for associating keys with values."
   ]
  },
  {
   "cell_type": "code",
   "execution_count": 2,
   "metadata": {},
   "outputs": [
    {
     "data": {
      "text/plain": [
       "{'Alice': {'apples': 5, 'pretzels': 12},\n",
       " 'Bob': {'ham sandwiches': 3, 'apples': 2},\n",
       " 'Carol': {'cups': 3, 'apple pies': 1}}"
      ]
     },
     "execution_count": 2,
     "metadata": {},
     "output_type": "execute_result"
    }
   ],
   "source": [
    "# Create a dictionary within a dictionary\n",
    "allGuests = {'Alice': {'apples': 5, 'pretzels': 12},\n",
    "            'Bob': {'ham sandwiches': 3, 'apples': 2},\n",
    "            'Carol': {'cups': 3, 'apple pies': 1}}\n",
    "allGuests"
   ]
  },
  {
   "cell_type": "code",
   "execution_count": 5,
   "metadata": {},
   "outputs": [
    {
     "data": {
      "text/plain": [
       "5"
      ]
     },
     "execution_count": 5,
     "metadata": {},
     "output_type": "execute_result"
    }
   ],
   "source": [
    "# Slice Alice and apples\n",
    "allGuests['Alice']['apples']"
   ]
  },
  {
   "cell_type": "code",
   "execution_count": 15,
   "metadata": {},
   "outputs": [
    {
     "name": "stdout",
     "output_type": "stream",
     "text": [
      "Number of things being brought:\n",
      "Apples: 7\n",
      "Cups: 3\n",
      "Cakes: 0\n",
      "Ham Sandwiches: 3\n",
      "Apple Pies: 1\n"
     ]
    }
   ],
   "source": [
    "# Create a program that uses a dictionary that contains other dictionaries in order to see who is bringing what to a picnic\n",
    "allGuests = {'Alice': {'apples': 5, 'pretzels': 12},\n",
    "            'Bob': {'ham sandwiches': 3, 'apples': 2},\n",
    "            'Carol': {'cups': 3, 'apple pies': 1}}\n",
    "\n",
    "def totalBrought(guests, item):\n",
    "    numBrought = 0\n",
    "    for i, j in guests.items():\n",
    "        numBrought = numBrought + j.get(item, 0)\n",
    "    return numBrought\n",
    "\n",
    "print('Number of things being brought:')\n",
    "print('Apples: ' + str(totalBrought(allGuests, 'apples')))\n",
    "print('Cups: ' + str(totalBrought(allGuests, 'cups')))\n",
    "print('Cakes: ' + str(totalBrought(allGuests, 'cakes')))\n",
    "print('Ham Sandwiches: ' + str(totalBrought(allGuests, 'ham sandwiches')))\n",
    "print('Apple Pies: ' + str(totalBrought(allGuests, 'apple pies')))"
   ]
  },
  {
   "cell_type": "code",
   "execution_count": 16,
   "metadata": {},
   "outputs": [
    {
     "data": {
      "text/plain": [
       "dict_items([('Alice', {'apples': 5, 'pretzels': 12}), ('Bob', {'ham sandwiches': 3, 'apples': 2}), ('Carol', {'cups': 3, 'apple pies': 1})])"
      ]
     },
     "execution_count": 16,
     "metadata": {},
     "output_type": "execute_result"
    }
   ],
   "source": [
    "allGuests.items()"
   ]
  },
  {
   "cell_type": "code",
   "execution_count": 17,
   "metadata": {},
   "outputs": [
    {
     "data": {
      "text/plain": [
       "dict_keys(['Alice', 'Bob', 'Carol'])"
      ]
     },
     "execution_count": 17,
     "metadata": {},
     "output_type": "execute_result"
    }
   ],
   "source": [
    "allGuests.keys()"
   ]
  },
  {
   "cell_type": "code",
   "execution_count": 19,
   "metadata": {},
   "outputs": [
    {
     "data": {
      "text/plain": [
       "dict_values([{'apples': 5, 'pretzels': 12}, {'ham sandwiches': 3, 'apples': 2}, {'cups': 3, 'apple pies': 1}])"
      ]
     },
     "execution_count": 19,
     "metadata": {},
     "output_type": "execute_result"
    }
   ],
   "source": [
    "allGuests.values()"
   ]
  },
  {
   "cell_type": "code",
   "execution_count": 23,
   "metadata": {},
   "outputs": [
    {
     "name": "stdout",
     "output_type": "stream",
     "text": [
      "Key: Alice Value: {'apples': 5, 'pretzels': 12}\n",
      "Key: Bob Value: {'ham sandwiches': 3, 'apples': 2}\n",
      "Key: Carol Value: {'cups': 3, 'apple pies': 1}\n"
     ]
    }
   ],
   "source": [
    "for i, j in allGuests.items():\n",
    "    print('Key: ' + i + ' Value: ' + str(j))"
   ]
  },
  {
   "cell_type": "code",
   "execution_count": 29,
   "metadata": {},
   "outputs": [],
   "source": [
    "def totalBroughts(guests, items):\n",
    "    numBrought = 0\n",
    "    for i, j in guests.items():\n",
    "        numBrought = numBrought + j.get(item,0)\n",
    "    return numBrought\n"
   ]
  },
  {
   "cell_type": "code",
   "execution_count": 32,
   "metadata": {},
   "outputs": [
    {
     "data": {
      "text/plain": [
       "{'apples': 5, 'pretzels': 12}"
      ]
     },
     "execution_count": 32,
     "metadata": {},
     "output_type": "execute_result"
    }
   ],
   "source": [
    "allGuests.get('Alice',0)"
   ]
  },
  {
   "cell_type": "markdown",
   "metadata": {},
   "source": [
    "You learned all about dictionaries in this chapter. Lists and dictionaries are values that can contain multiple values, including other lists and dictionaries. Dictionaries are useful because you can map one item (the key) to another (the value), as opposed to lists, which simply contain a series of values in order. Values inside a dictionary are accessed using square brackets just as with lists. Instead of an integer index, dictionaries can have keys of a variety of data types: integers, floats, strings, or tuples. By organizing a program’s values into data structures, you can create representations of real-world objects. "
   ]
  },
  {
   "cell_type": "code",
   "execution_count": 33,
   "metadata": {},
   "outputs": [],
   "source": [
    "p = {'foo': 42}"
   ]
  },
  {
   "cell_type": "code",
   "execution_count": 34,
   "metadata": {},
   "outputs": [
    {
     "data": {
      "text/plain": [
       "{'foo': 42}"
      ]
     },
     "execution_count": 34,
     "metadata": {},
     "output_type": "execute_result"
    }
   ],
   "source": [
    "p"
   ]
  },
  {
   "cell_type": "markdown",
   "metadata": {},
   "source": [
    "## Practice Problems"
   ]
  },
  {
   "cell_type": "code",
   "execution_count": 49,
   "metadata": {},
   "outputs": [
    {
     "name": "stdout",
     "output_type": "stream",
     "text": [
      "Inventory:\n",
      "1 rope\n",
      "10 meat\n",
      "5 potions\n",
      "1 shield\n",
      "1 sword\n",
      "2 helmet\n",
      "5 antidote\n",
      "3 magic book\n",
      "100 donut\n",
      "Total number of items: 128\n"
     ]
    }
   ],
   "source": [
    "# Load up an item pouch (dictionary)\n",
    "itemPouch = {'rope': 1, 'meat': 10, 'potions': 5,\n",
    "             'shield': 1, 'sword': 1, 'helmet': 2,\n",
    "             'antidote': 5, 'magic book': 3, 'donut': 100}\n",
    "\n",
    "# Write a function named displayInventory() that would take any possible “inventory”\n",
    "def displayInventory(inventory):\n",
    "    print('Inventory:')\n",
    "    item_total = 0\n",
    "    # Loop through i items using j to get dictionary value\n",
    "    for key, value in inventory.items():\n",
    "        print(str(value) + ' ' + key)\n",
    "        # Add key value to item total\n",
    "        item_total += value  \n",
    "    # Print total itesm in item pouch\n",
    "    print('Total number of items: ' + str(item_total))\n",
    "\n",
    "# Call function with item pouch\n",
    "displayInventory(itemPouch)"
   ]
  },
  {
   "cell_type": "code",
   "execution_count": 44,
   "metadata": {},
   "outputs": [
    {
     "name": "stdout",
     "output_type": "stream",
     "text": [
      "1\n",
      "10\n",
      "5\n",
      "1\n",
      "1\n",
      "2\n",
      "5\n",
      "3\n",
      "100\n"
     ]
    }
   ],
   "source": [
    "for i, j in itemPouch.items():\n",
    "    print(j)"
   ]
  },
  {
   "cell_type": "code",
   "execution_count": 45,
   "metadata": {},
   "outputs": [
    {
     "name": "stdout",
     "output_type": "stream",
     "text": [
      "rope\n",
      "meat\n",
      "potions\n",
      "shield\n",
      "sword\n",
      "helmet\n",
      "antidote\n",
      "magic book\n",
      "donut\n"
     ]
    }
   ],
   "source": [
    "for i, j in itemPouch.items():\n",
    "    print(i)"
   ]
  },
  {
   "cell_type": "code",
   "execution_count": 46,
   "metadata": {},
   "outputs": [
    {
     "data": {
      "text/plain": [
       "dict_items([('rope', 1), ('meat', 10), ('potions', 5), ('shield', 1), ('sword', 1), ('helmet', 2), ('antidote', 5), ('magic book', 3), ('donut', 100)])"
      ]
     },
     "execution_count": 46,
     "metadata": {},
     "output_type": "execute_result"
    }
   ],
   "source": [
    "itemPouch.items()"
   ]
  },
  {
   "cell_type": "code",
   "execution_count": 47,
   "metadata": {},
   "outputs": [
    {
     "data": {
      "text/plain": [
       "dict_keys(['rope', 'meat', 'potions', 'shield', 'sword', 'helmet', 'antidote', 'magic book', 'donut'])"
      ]
     },
     "execution_count": 47,
     "metadata": {},
     "output_type": "execute_result"
    }
   ],
   "source": [
    "itemPouch.keys()"
   ]
  },
  {
   "cell_type": "code",
   "execution_count": 48,
   "metadata": {},
   "outputs": [
    {
     "data": {
      "text/plain": [
       "dict_values([1, 10, 5, 1, 1, 2, 5, 3, 100])"
      ]
     },
     "execution_count": 48,
     "metadata": {},
     "output_type": "execute_result"
    }
   ],
   "source": [
    "itemPouch.values()"
   ]
  },
  {
   "cell_type": "code",
   "execution_count": 55,
   "metadata": {},
   "outputs": [
    {
     "name": "stdout",
     "output_type": "stream",
     "text": [
      "Inventory 1\n",
      "\n",
      "Inventory:\n",
      "101 gold coin\n",
      "10 rope\n",
      "1 dagger\n",
      "1 ruby\n",
      "1 jewels\n",
      "Total number of items : 114\n",
      "\n",
      "\n",
      "Inventory 2\n",
      "\n",
      "Inventory:\n",
      "5 rope\n",
      "10 meat\n",
      "5 potions\n",
      "1 shield\n",
      "1 sword\n",
      "2 helmet\n",
      "5 antidote\n",
      "3 magic book\n",
      "100 donut\n",
      "4 gold coin\n",
      "4 dagger\n",
      "4 ruby\n",
      "4 jewels\n",
      "Total number of items : 148\n"
     ]
    }
   ],
   "source": [
    "# Write a function to add items picked up into existing inventory\n",
    "def add_to_inventory(inventory, added_items):\n",
    "    # Loop through added list\n",
    "    for loot in added_items:\n",
    "        # Set default so ValueError does not appear\n",
    "        inventory.setdefault(loot, 0)\n",
    "        # Add every item + 1\n",
    "        inventory[loot] += 1\n",
    "    # Return inventory after calling it\n",
    "    return inventory\n",
    "\n",
    "# Current inventory\n",
    "inven = {'gold coin': 100, 'rope': 10}\n",
    "# New items\n",
    "dragon_loot_kill = ['gold coin', 'dagger', 'ruby', 'jewels']\n",
    "# Call function\n",
    "inven = add_to_inventory(inven, dragon_loot_kill)\n",
    "# Display new inventory\n",
    "print('Inventory 1' + '\\n')\n",
    "display_inventory(inven)\n",
    "print('\\n')\n",
    "# Try again with itemPouch\n",
    "print('Inventory 2' + '\\n')\n",
    "itemPouch = add_to_inventory(itemPouch, inven)\n",
    "display_inventory(itemPouch)"
   ]
  },
  {
   "cell_type": "code",
   "execution_count": 57,
   "metadata": {},
   "outputs": [
    {
     "name": "stdout",
     "output_type": "stream",
     "text": [
      "..OO.OO..\n",
      ".OOOOOOO.\n",
      ".OOOOOOO.\n",
      "..OOOOO..\n",
      "...OOO...\n",
      "....O....\n"
     ]
    }
   ],
   "source": [
    "# Work on the grid problem again\n",
    "grid = [['.', '.', '.', '.', '.', '.'],\n",
    "        ['.', 'O', 'O', '.', '.', '.'],\n",
    "        ['O', 'O', 'O', 'O', '.', '.'],\n",
    "        ['O', 'O', 'O', 'O', 'O', '.'],\n",
    "        ['.', 'O', 'O', 'O', 'O', 'O'],\n",
    "        ['O', 'O', 'O', 'O', 'O', '.'],\n",
    "        ['O', 'O', 'O', 'O', '.', '.'],\n",
    "        ['.', 'O', 'O', '.', '.', '.'],\n",
    "        ['.', '.', '.', '.', '.', '.']]\n",
    "\n",
    "def pic_grid(x):\n",
    "    # Loop through R x C\n",
    "    for i in range(len(x[0])):\n",
    "        for j in range(len(x)):\n",
    "            print(x[j][i], end = '')\n",
    "        print()\n",
    "        \n",
    "pic_grid(grid)"
   ]
  },
  {
   "cell_type": "code",
   "execution_count": 59,
   "metadata": {},
   "outputs": [
    {
     "name": "stdout",
     "output_type": "stream",
     "text": [
      "[0][0]\n",
      "\n",
      "[1][0]\n",
      "\n",
      "[2][0]\n",
      "\n",
      "[3][0]\n",
      "\n",
      "[4][0]\n",
      "\n",
      "[5][0]\n",
      "\n",
      "[6][0]\n",
      "\n",
      "[7][0]\n",
      "\n",
      "[8][0]\n",
      "\n",
      "\n",
      "[0][1]\n",
      "\n",
      "[1][1]\n",
      "\n",
      "[2][1]\n",
      "\n",
      "[3][1]\n",
      "\n",
      "[4][1]\n",
      "\n",
      "[5][1]\n",
      "\n",
      "[6][1]\n",
      "\n",
      "[7][1]\n",
      "\n",
      "[8][1]\n",
      "\n",
      "\n",
      "[0][2]\n",
      "\n",
      "[1][2]\n",
      "\n",
      "[2][2]\n",
      "\n",
      "[3][2]\n",
      "\n",
      "[4][2]\n",
      "\n",
      "[5][2]\n",
      "\n",
      "[6][2]\n",
      "\n",
      "[7][2]\n",
      "\n",
      "[8][2]\n",
      "\n",
      "\n",
      "[0][3]\n",
      "\n",
      "[1][3]\n",
      "\n",
      "[2][3]\n",
      "\n",
      "[3][3]\n",
      "\n",
      "[4][3]\n",
      "\n",
      "[5][3]\n",
      "\n",
      "[6][3]\n",
      "\n",
      "[7][3]\n",
      "\n",
      "[8][3]\n",
      "\n",
      "\n",
      "[0][4]\n",
      "\n",
      "[1][4]\n",
      "\n",
      "[2][4]\n",
      "\n",
      "[3][4]\n",
      "\n",
      "[4][4]\n",
      "\n",
      "[5][4]\n",
      "\n",
      "[6][4]\n",
      "\n",
      "[7][4]\n",
      "\n",
      "[8][4]\n",
      "\n",
      "\n",
      "[0][5]\n",
      "\n",
      "[1][5]\n",
      "\n",
      "[2][5]\n",
      "\n",
      "[3][5]\n",
      "\n",
      "[4][5]\n",
      "\n",
      "[5][5]\n",
      "\n",
      "[6][5]\n",
      "\n",
      "[7][5]\n",
      "\n",
      "[8][5]\n",
      "\n",
      "\n"
     ]
    }
   ],
   "source": [
    "# Inner loop finishes the entire range before moving back to the outer loop and restarts again entirely\n",
    "for i in range(6):\n",
    "    for j in range(9):\n",
    "        print(str([j]) + str([i]) + '\\n')\n",
    "    print()"
   ]
  },
  {
   "cell_type": "code",
   "execution_count": 61,
   "metadata": {},
   "outputs": [
    {
     "name": "stdout",
     "output_type": "stream",
     "text": [
      "{'rope': 5, 'meat': 10, 'potions': 5, 'shield': 1, 'sword': 1, 'helmet': 2, 'antidote': 5, 'magic book': 3, 'donut': 100, 'gold coin': 5, 'dagger': 5, 'ruby': 5, 'jewels': 5}\n"
     ]
    }
   ],
   "source": [
    "def add_inven(inventory, added_items):\n",
    "    # Create for loop to add new items\n",
    "    for loot in added_items:\n",
    "        # Set a default number for the current inventory\n",
    "        inventory.setdefault(loot, 0)\n",
    "        # Start adding new items\n",
    "        inventory[loot] += 1\n",
    "    return inventory\n",
    "\n",
    "print(add_inven(itemPouch, dragon_loot_kill))"
   ]
  },
  {
   "cell_type": "code",
   "execution_count": 63,
   "metadata": {},
   "outputs": [
    {
     "name": "stdout",
     "output_type": "stream",
     "text": [
      "{'gold coin': 103, 'rope': 10, 'dagger': 3, 'ruby': 3, 'jewels': 3}\n",
      "Inventory:\n",
      "104 gold coin\n",
      "10 rope\n",
      "4 dagger\n",
      "4 ruby\n",
      "4 jewels\n",
      "Total number of items: 126\n"
     ]
    }
   ],
   "source": [
    "def add_inven2(inventory, added_items):\n",
    "    # Create for loop to add new items \n",
    "    for loot in added_items:\n",
    "        # Set a default number for the current inventory for items\n",
    "        inventory.setdefault(loot, 0)\n",
    "        # Start adding new items\n",
    "        inventory[loot] += 1\n",
    "    # Return\n",
    "    return(inventory)\n",
    "\n",
    "print(add_inven2(inven, dragon_loot_kill))\n",
    "displayInventory(add_inven2(inven, dragon_loot_kill))"
   ]
  }
 ],
 "metadata": {
  "kernelspec": {
   "display_name": "Python 3",
   "language": "python",
   "name": "python3"
  },
  "language_info": {
   "codemirror_mode": {
    "name": "ipython",
    "version": 3
   },
   "file_extension": ".py",
   "mimetype": "text/x-python",
   "name": "python",
   "nbconvert_exporter": "python",
   "pygments_lexer": "ipython3",
   "version": "3.7.3"
  }
 },
 "nbformat": 4,
 "nbformat_minor": 2
}
