{
 "cells": [
  {
   "cell_type": "markdown",
   "metadata": {},
   "source": [
    "### Simple Machine Learning Practice\n",
    "- Follow a few kernels on writing and reading Python\n",
    "- Haven't worked on DS in awhile so I will need a refresher\n",
    "- Convert my R code to Python for more practice..?"
   ]
  },
  {
   "cell_type": "markdown",
   "metadata": {},
   "source": [
    "### Content\n",
    "- Following Kaggle kernels so if you see similar code then it probably is\n",
    "    - Practice familiarizing myself with Python code and flow\n",
    "- Data Summary\n",
    "- Gather Data\n",
    "- Import libraries\n",
    "- Preprocessing data\n",
    "- Cleaning data\n",
    "- Explore the data\n",
    "- Model the data\n",
    "- Tune the data (Maybe)\n",
    "    - Hyperparameter selection\n",
    "    - Feature selection\n",
    "- Validation\n",
    "- Conclusion"
   ]
  },
  {
   "cell_type": "code",
   "execution_count": null,
   "metadata": {},
   "outputs": [],
   "source": []
  }
 ],
 "metadata": {
  "kernelspec": {
   "display_name": "Python 3",
   "language": "python",
   "name": "python3"
  },
  "language_info": {
   "codemirror_mode": {
    "name": "ipython",
    "version": 3
   },
   "file_extension": ".py",
   "mimetype": "text/x-python",
   "name": "python",
   "nbconvert_exporter": "python",
   "pygments_lexer": "ipython3",
   "version": "3.7.3"
  }
 },
 "nbformat": 4,
 "nbformat_minor": 2
}
