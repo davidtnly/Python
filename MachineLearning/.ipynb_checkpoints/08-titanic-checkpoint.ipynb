{
 "cells": [
  {
   "cell_type": "markdown",
   "metadata": {},
   "source": [
    "## Introduction\n",
    "\n",
    "Predict who will survive or die in the Titanic dataset. Familiarize myself with Python data analysis."
   ]
  },
  {
   "cell_type": "markdown",
   "metadata": {},
   "source": [
    "### Modeling Framework\n",
    "\n",
    "1. Framing the problem\n",
    "    - What are we trying to solve? \n",
    "    - Understand the problem.\n",
    "2. Collecting relevant information & data\n",
    "    - What data do we have?\n",
    "    - Gathering any other requirements and understanding success.\n",
    "3. Process for analysis (Preprocessing & Cleaning)\n",
    "    - Is the data usable? Can it be plotted?\n",
    "    - Check for common errors like: missing values, corrupted values, dates\n",
    "4. Explore the data (Exploratory data analysis)\n",
    "    - How does the data look like? \n",
    "    - Patterns? Plots? Summary statistics? \n",
    "    - Get familiar with the data.\n",
    "5. Feature Engineering (Applied Machine Learning)\n",
    "    - Can we create more features that will be helpful for the model?\n",
    "6. Statistical Analysis\n",
    "    - Multivariate/Bivariate analysis on features\n",
    "7. Modeling\n",
    "    - Train vs. Test\n",
    "    - Should we standardize?\n",
    "    - What models should we use? \n",
    "        - Classification\n",
    "    - Pre-tuning vs. tuning\n",
    "        - Are we tuning the models?\n",
    "8. Evaluation & Scoring\n",
    "    - How accurate are the models?\n",
    "    - Should we reiterate again?\n",
    "9. Results & Productionize\n",
    "    - Can we create the entire dataset and prediction on a website?"
   ]
  },
  {
   "cell_type": "markdown",
   "metadata": {},
   "source": [
    "### Framing the problem\n",
    "\n",
    "Predict the passenger survival rate using the train and test data."
   ]
  },
  {
   "cell_type": "markdown",
   "metadata": {},
   "source": [
    "### Collecting relevant data"
   ]
  },
  {
   "cell_type": "code",
   "execution_count": 3,
   "metadata": {},
   "outputs": [
    {
     "data": {
      "text/plain": [
       "['01-ign.csv',\n",
       " '02-winequality-red.csv',\n",
       " '02-winequality-white.csv',\n",
       " '03-thanksgiving-2015-poll-data.csv',\n",
       " '05-ibm-sales-loss.csv',\n",
       " '07-test.csv',\n",
       " '07-train.csv',\n",
       " 'house']"
      ]
     },
     "execution_count": 3,
     "metadata": {},
     "output_type": "execute_result"
    }
   ],
   "source": [
    "''' Set directory for the data '''\n",
    "\n",
    "import os\n",
    "path = 'C:\\\\Users\\\\' + os.getlogin() + '\\\\Documents\\\\Programming\\\\Python\\\\MachineLearning\\\\Data'\n",
    "os.chdir(path)\n",
    "os.getcwd()\n",
    "os.listdir()"
   ]
  },
  {
   "cell_type": "markdown",
   "metadata": {},
   "source": [
    "### Import libraries & data"
   ]
  },
  {
   "cell_type": "code",
   "execution_count": 5,
   "metadata": {},
   "outputs": [],
   "source": [
    "'''Import data analysis & visualization libraries'''\n",
    "import pandas as pd\n",
    "import numpy as np\n",
    "import random as rand\n",
    "import seaborn as sns\n",
    "import matplotlib.pyplot as plt\n",
    "%matplotlib inline"
   ]
  },
  {
   "cell_type": "code",
   "execution_count": 16,
   "metadata": {},
   "outputs": [],
   "source": [
    "'''Import the train and test data'''\n",
    "\n",
    "train = pd.read_csv('07-train.csv')\n",
    "test = pd.read_csv('07-test.csv')\n",
    "\n",
    "'''Combine the datasets'''\n",
    "comb = [train, test]\n",
    "combined = pd.concat(comb, sort='False')"
   ]
  },
  {
   "cell_type": "markdown",
   "metadata": {},
   "source": [
    "### Preprocessing\n",
    "\n",
    "Are we able to use the data right away? What type of issues does the data have? How do we fix the issues?\n",
    "\n",
    "Count the nulls in each column and identify the data types as well."
   ]
  },
  {
   "cell_type": "code",
   "execution_count": 24,
   "metadata": {},
   "outputs": [
    {
     "data": {
      "text/plain": [
       "\"\\n\\nSome functions to start off with:\\n\\ntrain.sample()                                           \\ntrain.describe()\\n    train.describe(include=['O'])\\n    train.describe(include='all')\\ntrain.head()\\ntrain.tail()\\ntrain.value_counts().sum()\\ntrain.isnull().sum()\\ntrain.fillna()\\n    train..fillna(train[col].mode(), inplace=True)\\ntrain.mean()\\ntrain.median()\\ntrain.mode()\\ntrain.shape\\ntrain.info()\\n\\n\""
      ]
     },
     "execution_count": 24,
     "metadata": {},
     "output_type": "execute_result"
    }
   ],
   "source": [
    "'''\n",
    "\n",
    "Some functions to start off with:\n",
    "\n",
    "train.sample()                                           \n",
    "train.describe()\n",
    "    train.describe(include=['O'])\n",
    "    train.describe(include='all')\n",
    "train.head()\n",
    "train.tail()\n",
    "train.value_counts().sum()\n",
    "train.isnull().sum()\n",
    "train.count()\n",
    "train.fillna()\n",
    "    train..fillna(train[col].mode(), inplace=True)\n",
    "train.mean()\n",
    "train.median()\n",
    "train.mode()\n",
    "train.shape\n",
    "train.info()\n",
    "\n",
    "'''"
   ]
  },
  {
   "cell_type": "code",
   "execution_count": 21,
   "metadata": {},
   "outputs": [
    {
     "name": "stdout",
     "output_type": "stream",
     "text": [
      "****************************************\n",
      "********** train shape: (891, 12)**********\n",
      "<class 'pandas.core.frame.DataFrame'>\n",
      "RangeIndex: 891 entries, 0 to 890\n",
      "Data columns (total 12 columns):\n",
      "PassengerId    891 non-null int64\n",
      "Survived       891 non-null int64\n",
      "Pclass         891 non-null int64\n",
      "Name           891 non-null object\n",
      "Sex            891 non-null object\n",
      "Age            714 non-null float64\n",
      "SibSp          891 non-null int64\n",
      "Parch          891 non-null int64\n",
      "Ticket         891 non-null object\n",
      "Fare           891 non-null float64\n",
      "Cabin          204 non-null object\n",
      "Embarked       889 non-null object\n",
      "dtypes: float64(2), int64(5), object(5)\n",
      "memory usage: 83.6+ KB\n",
      "None\n",
      "****************************************\n",
      "********** test shape: (418, 11)**********\n",
      "<class 'pandas.core.frame.DataFrame'>\n",
      "RangeIndex: 418 entries, 0 to 417\n",
      "Data columns (total 11 columns):\n",
      "PassengerId    418 non-null int64\n",
      "Pclass         418 non-null int64\n",
      "Name           418 non-null object\n",
      "Sex            418 non-null object\n",
      "Age            332 non-null float64\n",
      "SibSp          418 non-null int64\n",
      "Parch          418 non-null int64\n",
      "Ticket         418 non-null object\n",
      "Fare           417 non-null float64\n",
      "Cabin          91 non-null object\n",
      "Embarked       418 non-null object\n",
      "dtypes: float64(2), int64(4), object(5)\n",
      "memory usage: 36.0+ KB\n",
      "None\n"
     ]
    }
   ],
   "source": [
    "'''Get data shape, info, columns, & dimensions'''\n",
    "print (\"*\"*40)\n",
    "print('********** train shape: ' + str(train.shape) + '*'*10)\n",
    "print (train.info())\n",
    "print (\"*\"*40)\n",
    "print('********** test shape: ' + str(test.shape) + '*'*10)\n",
    "print (test.info())"
   ]
  },
  {
   "cell_type": "markdown",
   "metadata": {},
   "source": [
    "### Feature descriptions\n",
    "1. The Survived variable is our outcome or dependent variable. It is a binary nominal datatype of 1 for survived and 0 for did not survive. All other variables are potential predictor or independent variables. It's important to note, more predictor variables do not make a better model, but the right variables.\n",
    "2. The PassengerID and Ticket variables are assumed to be random unique identifiers, that have no impact on the outcome variable. Thus, they will be excluded from analysis.\n",
    "3. The Pclass variable is an ordinal datatype for the ticket class, a proxy for socio-economic status (SES), representing 1 = upper class, 2 = middle class, and 3 = lower class.\n",
    "4. The Name variable is a nominal datatype. It could be used in feature engineering to derive the gender from title, family size from surname, and SES from titles like doctor or master. Since these variables already exist, we'll make use of it to see if title, like master, makes a difference.\n",
    "5. The Sex and Embarked variables are a nominal datatype. They will be converted to dummy variables for mathematical calculations.\n",
    "6. The Age and Fare variable are continuous quantitative datatypes.\n",
    "7. The SibSp represents number of related siblings/spouse aboard and Parch represents number of related parents/children aboard. Both are discrete quantitative datatypes. This can be used for feature engineering to create a family size and is The Cabin variable is a nominal datatype that can be used in feature engineering for approximate position on ship when the incident occurred and SES from deck levels. However, since there are many null values, it does not add value and thus is excluded from analysis."
   ]
  },
  {
   "cell_type": "markdown",
   "metadata": {},
   "source": [
    "### Are there null values?"
   ]
  },
  {
   "cell_type": "code",
   "execution_count": 23,
   "metadata": {},
   "outputs": [
    {
     "data": {
      "text/plain": [
       "Cabin          1014\n",
       "Survived        418\n",
       "Age             263\n",
       "Embarked          2\n",
       "Fare              1\n",
       "Ticket            0\n",
       "SibSp             0\n",
       "Sex               0\n",
       "Pclass            0\n",
       "PassengerId       0\n",
       "Parch             0\n",
       "Name              0\n",
       "dtype: int64"
      ]
     },
     "execution_count": 23,
     "metadata": {},
     "output_type": "execute_result"
    }
   ],
   "source": [
    "combined.isnull().sum().sort_values(ascending=False)"
   ]
  },
  {
   "cell_type": "code",
   "execution_count": 35,
   "metadata": {},
   "outputs": [
    {
     "data": {
      "text/plain": [
       "Age            1046\n",
       "Cabin           295\n",
       "Embarked       1307\n",
       "Fare           1308\n",
       "Name           1309\n",
       "Parch          1309\n",
       "PassengerId    1309\n",
       "Pclass         1309\n",
       "Sex            1309\n",
       "SibSp          1309\n",
       "Survived        891\n",
       "Ticket         1309\n",
       "dtype: int64"
      ]
     },
     "execution_count": 35,
     "metadata": {},
     "output_type": "execute_result"
    }
   ],
   "source": [
    "''' The function value_counts() is a series method so we have to use count() instead'''\n",
    "combined.count()"
   ]
  },
  {
   "cell_type": "code",
   "execution_count": 37,
   "metadata": {},
   "outputs": [
    {
     "data": {
      "text/html": [
       "<div>\n",
       "<style scoped>\n",
       "    .dataframe tbody tr th:only-of-type {\n",
       "        vertical-align: middle;\n",
       "    }\n",
       "\n",
       "    .dataframe tbody tr th {\n",
       "        vertical-align: top;\n",
       "    }\n",
       "\n",
       "    .dataframe thead th {\n",
       "        text-align: right;\n",
       "    }\n",
       "</style>\n",
       "<table border=\"1\" class=\"dataframe\">\n",
       "  <thead>\n",
       "    <tr style=\"text-align: right;\">\n",
       "      <th></th>\n",
       "      <th>Total</th>\n",
       "      <th>Percent</th>\n",
       "    </tr>\n",
       "  </thead>\n",
       "  <tbody>\n",
       "    <tr>\n",
       "      <th>Cabin</th>\n",
       "      <td>77.46</td>\n",
       "      <td>77.46</td>\n",
       "    </tr>\n",
       "    <tr>\n",
       "      <th>Survived</th>\n",
       "      <td>31.93</td>\n",
       "      <td>31.93</td>\n",
       "    </tr>\n",
       "    <tr>\n",
       "      <th>Age</th>\n",
       "      <td>20.09</td>\n",
       "      <td>20.09</td>\n",
       "    </tr>\n",
       "    <tr>\n",
       "      <th>Embarked</th>\n",
       "      <td>0.15</td>\n",
       "      <td>0.15</td>\n",
       "    </tr>\n",
       "    <tr>\n",
       "      <th>Fare</th>\n",
       "      <td>0.08</td>\n",
       "      <td>0.08</td>\n",
       "    </tr>\n",
       "    <tr>\n",
       "      <th>Ticket</th>\n",
       "      <td>0.00</td>\n",
       "      <td>0.00</td>\n",
       "    </tr>\n",
       "    <tr>\n",
       "      <th>SibSp</th>\n",
       "      <td>0.00</td>\n",
       "      <td>0.00</td>\n",
       "    </tr>\n",
       "    <tr>\n",
       "      <th>Sex</th>\n",
       "      <td>0.00</td>\n",
       "      <td>0.00</td>\n",
       "    </tr>\n",
       "    <tr>\n",
       "      <th>Pclass</th>\n",
       "      <td>0.00</td>\n",
       "      <td>0.00</td>\n",
       "    </tr>\n",
       "    <tr>\n",
       "      <th>PassengerId</th>\n",
       "      <td>0.00</td>\n",
       "      <td>0.00</td>\n",
       "    </tr>\n",
       "    <tr>\n",
       "      <th>Parch</th>\n",
       "      <td>0.00</td>\n",
       "      <td>0.00</td>\n",
       "    </tr>\n",
       "    <tr>\n",
       "      <th>Name</th>\n",
       "      <td>0.00</td>\n",
       "      <td>0.00</td>\n",
       "    </tr>\n",
       "  </tbody>\n",
       "</table>\n",
       "</div>"
      ],
      "text/plain": [
       "             Total  Percent\n",
       "Cabin        77.46    77.46\n",
       "Survived     31.93    31.93\n",
       "Age          20.09    20.09\n",
       "Embarked      0.15     0.15\n",
       "Fare          0.08     0.08\n",
       "Ticket        0.00     0.00\n",
       "SibSp         0.00     0.00\n",
       "Sex           0.00     0.00\n",
       "Pclass        0.00     0.00\n",
       "PassengerId   0.00     0.00\n",
       "Parch         0.00     0.00\n",
       "Name          0.00     0.00"
      ]
     },
     "execution_count": 37,
     "metadata": {},
     "output_type": "execute_result"
    }
   ],
   "source": [
    "'''Get null percentage per column'''\n",
    "totalnull = round(combined.isnull().sum().sort_values(ascending=False)/len(combined)*100, 2)\n",
    "percentnull = round(combined.isnull().sum().sort_values(ascending=False)/len(combined)*100,2)\n",
    "\n",
    "'''Combine horizontally (axis=1) into a dataframe with column names (keys=[])'''\n",
    "pd.concat([totalnull, percentnull], axis=1, keys=['Total', 'Percent'])"
   ]
  },
  {
   "cell_type": "markdown",
   "metadata": {},
   "source": [
    "### Ways to clean up null values\n",
    "\n",
    "There are several methods on how to handle missing values. There are always some instance where a particular element is absent. It could be due to corrupt data, failure to load the information, never inputted, and more. So understanding a couple methods in handling the NULL/NaN values are crucial. Pandas provides a dropna() function that can be used to drop either columns or rows with missing data.\n",
    "\n",
    "Some methods are listed below:\n",
    "\n",
    "1. Removing the rows with missing values using dropna() function\n",
    "    - inplace parameter: If True, do operation inplace and return None.\n",
    "    - axis parameter: drop labels from the index (0 or ‘index’) or columns (1 or ‘columns’)\n",
    "2. Impute the missing values using fillna():\n",
    "    - Constant value that has meaning within the domain; ex: 0 for not present\n",
    "    - Value from another randomly selected record (could be random or have the business acumen to figure out a value)\n",
    "    - Mean, median, mode\n",
    "    - Value estimated by a predictive model\n",
    "3. Binning\n",
    "    - Binning the values that are not present which could provide insight\n",
    "4. Ignore and leave it as it is"
   ]
  },
  {
   "cell_type": "markdown",
   "metadata": {},
   "source": []
  },
  {
   "cell_type": "code",
   "execution_count": null,
   "metadata": {},
   "outputs": [],
   "source": []
  }
 ],
 "metadata": {
  "kernelspec": {
   "display_name": "Python 3",
   "language": "python",
   "name": "python3"
  },
  "language_info": {
   "codemirror_mode": {
    "name": "ipython",
    "version": 3
   },
   "file_extension": ".py",
   "mimetype": "text/x-python",
   "name": "python",
   "nbconvert_exporter": "python",
   "pygments_lexer": "ipython3",
   "version": "3.7.3"
  }
 },
 "nbformat": 4,
 "nbformat_minor": 2
}
