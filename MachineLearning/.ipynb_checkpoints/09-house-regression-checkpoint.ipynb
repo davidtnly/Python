{
 "cells": [
  {
   "cell_type": "markdown",
   "metadata": {},
   "source": [
    "## Introduction\n",
    "\n",
    "Predict house prices. Familiarize myself with Python data analysis.\n",
    "\n",
    "*Note: Codes may also come from other kernels for practice/workflow"
   ]
  },
  {
   "cell_type": "markdown",
   "metadata": {},
   "source": [
    "## Modeling Framework\n",
    "\n",
    "1. Framing the problem\n",
    "    - What are we trying to solve?\n",
    "    - Understand the problem and ask questions\n",
    "2. Collecting Relevant Information & Data\n",
    "    - What type of data do we have?\n",
    "    - What other requirements are there?\n",
    "    - What is considered a success for this problem?\n",
    "3. Process for analysis (Preprocessing & Cleaning)\n",
    "    - How does the data structure look like?\n",
    "    - Is the data usable?\n",
    "    - Can the data be plotted?\n",
    "    - What changes do we need to do to make the data usable?\n",
    "    - What type of predictive problem are we trying to answer?\n",
    "        - Models we can use\n",
    "        - What are the model inputs? Figure out the data inputs needed for the model to work.\n",
    "    - Check for common errors like missing values, corrupted values, dates\n",
    "4. Explore the data (Exploratory Data Analysis)\n",
    "    - How does the data look like?\n",
    "    - Are there any patterns?\n",
    "        - Identify using summary statistics, plotting, counting, etc.\n",
    "    - Familiarizing process\n",
    "5. Feature Engineering (Applied Machine Learning)\n",
    "    - Can we create more features that will be helpful to the model?\n",
    "6. Statistical Analysis\n",
    "    - Univariate, bivariate, multivariate analysis of features\n",
    "7. Modeling & Scoring\n",
    "    - Splitting the data into train/test\n",
    "    - Standardizing data\n",
    "    - What models are appropriate?\n",
    "        - Regression\n",
    "    - Pre-Tuning\n",
    "    - Cross-Validating\n",
    "    - Hyperarameter Tuning\n",
    "    - Tuned Models Using Best Hyperparameters\n",
    "    - Comparison: Pre-Tuning vs. CV vs. Tuned Model vs. CV Tuned \n",
    "8. Evaluation\n",
    "    - How accurate are the models?\n",
    "    - What evaluation metric is appropriate?\n",
    "    - Is the model good enough?\n",
    "    - Iteration needed?"
   ]
  },
  {
   "cell_type": "markdown",
   "metadata": {},
   "source": [
    "### Framing the problem\n",
    "\n",
    "Predict house prices in Ames, Iowa.\n",
    "\n",
    "#### Competition Description\n",
    "\n",
    "Ask a home buyer to describe their dream house, and they probably won't begin with the height of the basement ceiling or the proximity to an east-west railroad. But this playground competition's dataset proves that much more influences price negotiations than the number of bedrooms or a white-picket fence.\n",
    "\n",
    "With 79 explanatory variables describing (almost) every aspect of residential homes in Ames, Iowa, this competition challenges you to predict the final price of each home.\n",
    "    \n",
    "### Method\n",
    "\n",
    "Since we are predicting price (numerical), this will be a regression problem so we will focus on algorithms like linear regression, random forest, various boosting algorithms, regularized linear models, etc. We can attempt to try methods that will use meta-learners called stacking or blending.\n",
    "- Evaluation metric used will be Root-Mean-Squared-Error (RMSE)"
   ]
  },
  {
   "cell_type": "markdown",
   "metadata": {},
   "source": [
    "### Get relevant data"
   ]
  },
  {
   "cell_type": "code",
   "execution_count": 3,
   "metadata": {},
   "outputs": [
    {
     "data": {
      "text/plain": [
       "['01-ign.csv',\n",
       " '02-winequality-red.csv',\n",
       " '02-winequality-white.csv',\n",
       " '03-thanksgiving-2015-poll-data.csv',\n",
       " '05-ibm-sales-loss.csv',\n",
       " '07-test.csv',\n",
       " '07-train.csv',\n",
       " '09-house-train.csv']"
      ]
     },
     "execution_count": 3,
     "metadata": {},
     "output_type": "execute_result"
    }
   ],
   "source": [
    "# Set directory\n",
    "import os\n",
    "path = 'C:\\\\Users\\\\' + os.getlogin() + '\\\\Documents\\\\Programming\\\\Python\\\\MachineLearning\\\\Data'\n",
    "\n",
    "# Move to directory with the data\n",
    "os.chdir(path)\n",
    "\n",
    "# Check\n",
    "os.getcwd()\n",
    "os.listdir()"
   ]
  },
  {
   "cell_type": "code",
   "execution_count": null,
   "metadata": {},
   "outputs": [],
   "source": []
  }
 ],
 "metadata": {
  "kernelspec": {
   "display_name": "Python 3",
   "language": "python",
   "name": "python3"
  },
  "language_info": {
   "codemirror_mode": {
    "name": "ipython",
    "version": 3
   },
   "file_extension": ".py",
   "mimetype": "text/x-python",
   "name": "python",
   "nbconvert_exporter": "python",
   "pygments_lexer": "ipython3",
   "version": "3.7.3"
  }
 },
 "nbformat": 4,
 "nbformat_minor": 2
}
