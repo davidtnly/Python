{
 "cells": [
  {
   "cell_type": "markdown",
   "metadata": {},
   "source": [
    "# Introduction\n",
    "\n",
    "Familiarizing myself with methods to handle missing data with Python then build a binary classification model to predict which patient has diabetes.\n",
    "\n",
    "Goal here is to review methods in the preprocessing/cleaning data and review classification models.\n",
    "\n",
    "*_Note: Codes may also come from other sources for practice/workflow. Informational links have been added at the bottom of the notebook._"
   ]
  },
  {
   "cell_type": "markdown",
   "metadata": {},
   "source": [
    "## What else do I hope to achieve from this?\n",
    "\n",
    "Develop a stronger understanding in data cleaning, understand why data is missing in the first place, and review methods on how to handle missing values. Also, since I'm going to be attempting some medical deep learning problems in the future, I could get a tiny idea on how to better work with medical data.\n",
    "\n",
    "Answer some of these questions below:\n",
    "- What kind of method is better to use to fill missing values?\n",
    "- Is one method better than another?\n",
    "- What are the risks in our methods?\n",
    "- If predicting, does filling missing values help our models?"
   ]
  },
  {
   "cell_type": "markdown",
   "metadata": {},
   "source": [
    "## Framing the problem\n",
    "\n",
    "Can you predict which patient has diabetes?"
   ]
  },
  {
   "cell_type": "markdown",
   "metadata": {},
   "source": [
    "### Data\n",
    "\n",
    "The data we will be using is the Pima Indians Diabetes dataset (introductory level). This dataset was originally from the National Institute of Diabetes and Digestive and Kidney Diseases. It was also presented as a Kaggle problem where the objective was to predict the onset of diabetes whether a patient has diabetes or not based on certain diagnostic measurements.\n",
    "\n",
    "There are several constraints that we should know when dealing with the data. All patients here are females at least 21 years old of Pima Indian heritage.\n",
    "\n",
    "### Background Information\n",
    "\n",
    "The [Pima](https://www.britannica.com/topic/Pima-people) people are North American Indians who traditionally lived in Arizona, U.S., in what was the core area of the prehistoric Hohokam culture. They were traditionally sedentary farmers that hunted and gathered to supplement their diet. During the drought years, jackrabbits and mesquite beans became the group's dietary staples. This was the result due to the drought years where only 20% of their crops were good to harvest. With the loss of an important part of their nutrition, the sustainability of their bodies slowly deteoriated as time went on due to the lack of nutrients. Together with a steady decline in physical activity, the chances for them to develop type 2 diabetes have increased dramatically.\n",
    "\n",
    "### Characteristics\n",
    "\n",
    "__Dimensions__\n",
    "- 768 women (row) and 8 characteristics (col)\n",
    "\n",
    "__Features__\n",
    "- Pregnancies: Number of times pregnant\n",
    "- Glucose: Plasma glucose concentration a 2 hours in an oral glucose tolerance test\n",
    "- BloodPressure: Diastolic blood pressure (mm Hg)\n",
    "- SkinThickness: Triceps skin fold thickness (mm)\n",
    "- Insulin: 2-Hour serum insulin (mu U/ml)\n",
    "- BMI: Body mass index (weight in kg/(height in m)^2)\n",
    "- DiabetesPedigreeFunction: Diabetes pedigree function\n",
    "- Age: Age (years)\n",
    "- Outcome: Class variable (0 or 1)\n",
    "    - Our dependent variable (target)\n",
    "\n",
    "__Additional Notes__\n",
    "- Some values are not within the specified range where they are supposed to be so they can be treated as missing values"
   ]
  },
  {
   "cell_type": "markdown",
   "metadata": {},
   "source": [
    "## Machine Learning Framework\n",
    "\n",
    "1. Framing the problem\n",
    "    - What are we trying to solve?\n",
    "    - Understand what's the problem here and ask questions\n",
    "    - What type of problem are we trying to solve?\n",
    "        - Classification, regression, etc.\n",
    "        - Types of algorithms specified for possible use\n",
    "2. Collecting relevant information and data\n",
    "    - What type of data do we have?\n",
    "    - Can we use any complimentary data with that is public that will help our with our analysis/modeling?\n",
    "    - What other data requirements are there?\n",
    "    - What is considered a success for this problem?\n",
    "    - What libraries do we need?\n",
    "        - How do we know if our models are good?\n",
    "3. Process for analysis (preprocessing & cleaning)\n",
    "    - How does the data structure and distribution look like?\n",
    "    - Is the data usable right away?\n",
    "    - Can the data be plotted?\n",
    "    - What changes do we need in order to make the data usable if it's not already?\n",
    "    - This step is not really an isolated step as it can encompass exploratory, feature engineering + more\n",
    "4. Exploratory data analysis\n",
    "    - How does the data look like?\n",
    "    - Are there any patterns?\n",
    "        - Identify any summary statistics, plotting, counting, etc.\n",
    "    - Familiarize yourself with the data\n",
    "    - Basically the step to help you get to know the data better\n",
    "5. Feature engineering (applied machine learning)\n",
    "    - Can we create more data (features) that will be helpful for our models?\n",
    "    - \"... re-working of predictors is more of an art, requiring the right tools and experience to find better predictor representations\" - Max Kuhn\n",
    "6. Statistical analysis\n",
    "    - Univariate, bivariate, multivariate analysis\n",
    "        - Analysis of a single feature\n",
    "        - Analysis of two features and their relationships\n",
    "        - Analysis of data collected on more than one dependent variable and their relationships (PCA, PLS)\n",
    "7. Modeling & scoring\n",
    "    - Splitting the data into train and test sets\n",
    "        - Always make sure you have a completely separate data to test your final model on after hyperparameter tuning and training has been done\n",
    "        - Think about your experimental design beforehand so that you minimize unrelated sources of variation and reduce as much data leakage (if any) as possible\n",
    "    - Normalizing the data to be on similar scales\n",
    "        - Normalization, standardization methods (Z-score, minmax, median)\n",
    "    - Create baseline, pre-tuned, and tuned models (includes cross-validation)\n",
    "        - Create easy to more complex models if needed (think about computational cost, complexity, explainability)\n",
    "    - Hyperparameter tuning\n",
    "    - Fit cross-validated tuned models using best hyperparameters\n",
    "    - Score model and get results\n",
    "8. Evaluation\n",
    "    - How accurate are the models?\n",
    "        - Are the models overfitting or underfitting?\n",
    "    - What evaluation metric are we using?\n",
    "    - Is the final model good enough?\n",
    "    - Which features are important?\n",
    "    - Iterate steps if we are proceeding with specific features selected\n",
    "        - Dimensionality reduction methods (PCA, LDA) to see if we can reduce model complexity (this step can be before modeling as well)\n",
    "9. Results\n",
    "    - What's our conclusion?\n",
    "    - What actions are we going to take?\n",
    "10. Ending notes\n",
    "    - Extra information that we may not go over like steps that we did not go into or missed\n",
    "        - Any other possible methods/solutions that we could look at in the future"
   ]
  },
  {
   "cell_type": "markdown",
   "metadata": {},
   "source": [
    "## Method of Evaluation\n",
    "\n",
    "Since this is a binary classification problem, we will start our baseline model using a logistic regression algorithm. \n",
    "\n",
    "The evaluation method will be the F1 Score which is the weighted average of recall and precision. This is a better measure to seek a balance between precision and recall vs. accuracy especially when there there is a higher risk in misdiagnosing a patient. We will also take a look at the ROC curve, accuracy, sensitivity, and specificity scores as well. \n",
    "\n",
    "Here are some performance metrics used in the confusion matrix below:\n",
    "\n",
    "- TP - correct positive prediction\n",
    "- TN - correct negative prediction\n",
    "- FP - Type I Error (case negative but predicted positive)\n",
    "- FN - Type II Error (case positive but predicted negative)\n",
    "- Accuracy\n",
    "    - (TP + TN)/Total\n",
    "- Precision - how accurate is the model of those predicted positive that are actually positive\n",
    "    - TP/(TP + FP)\n",
    "- Recall / Sensitivity / TPR (True Positive Rate) - how many actual positives the model labeled over the total positives\n",
    "    - TP/(TP + FN) which is also TP/All P\n",
    "- Specificity (True Negative Rate) - number of correct negative predictions\n",
    "    - TN/(TN + FP) which is also TN/All N\n",
    "- F1 Score - weighted average of TPR (Recall) and Precision, useful if there is uneven class distribution like cancer detection where there can be 10,000 negatives and only 1 positive or if there is a higher risk if false negatives or false positives\n",
    "    - 2 * ( (Pr * Rc) / (Pr + Rc) )\n",
    "- ROC Curve\n",
    "    - Graph used to summarize the performance at various thresholds by plotting the TPR against FPR\n",
    "    \n",
    "Here's a picture below by Chris Albon. Albon has easily digestable information on many related subjects for anyone who wants to take a look at his [website](https://chrisalbon.com/)."
   ]
  },
  {
   "cell_type": "code",
   "execution_count": 1,
   "metadata": {},
   "outputs": [
    {
     "data": {
      "image/png": "[encoded data removed]",
      "text/plain": [
       "<PIL.Image.Image image mode=RGBA size=750x500 at 0x5A83160>"
      ]
     },
     "execution_count": 1,
     "metadata": {},
     "output_type": "execute_result"
    }
   ],
   "source": [
    "from PIL import Image\n",
    "Image.open('Images\\\\11-f1-score.png').resize((750,500))"
   ]
  },
  {
   "cell_type": "markdown",
   "metadata": {},
   "source": [
    "## Overview of the Modeling Process\n",
    "\n",
    "In order to see if patient has diabetes or not, we will use multiple classification algorithms to predict the outcome of 0 (negative) or 1 (positive). The employed classifiers are logistiic regression, decision trees, random forest, support vector machines, and extreme gradient boosting. \n",
    "\n",
    "After each performance of the machine learning method, we will begin evaluation where we will use 10-fold cross-validation as well, which is simply a procedure used to evaluate ML models where data is limited. In the cross-validation, data is resampled to best test our evaluation metric then averaged to get an overall score.\n",
    "\n",
    "k-Fold Cross-validation\n",
    "This is a popular cv method where the training dataset is split into k number of partitions (folds). If the dataset has 100 observationsand k =10 then there would be 10 folds each having 10 observations. Out of the 10 folds, 1 of them will be considered a test set and the rest for retraining purposes. Once that first split has been trained and tested, it will go on to the next random split of training, testing, and evaluation. After the end of the 10 splits, the results are averaged together to get a better idea of our model performance.\n",
    "\n",
    "Generally, the steps of the procedure is as follows:\n",
    "1. Training data is shuffled randomly\n",
    "2. Training data is split into k groups\n",
    "3. For each unique group:\n",
    "    1. Take 1 group as a hold out or test set\n",
    "    2. Take the remaining sets as the training set\n",
    "    3. Fit a model on the training set and evaluate on the test set\n",
    "    4. Retain the evaluation score\n",
    "4. Summarize the skill of the model using the sample of model evaluation scores\n",
    "\n",
    "More information on cross-validation can be found in the informational links below. Here's an image below on a 5-fold cross-validation."
   ]
  },
  {
   "cell_type": "code",
   "execution_count": 2,
   "metadata": {},
   "outputs": [
    {
     "data": {
      "image/png": "[encoded data removed]",
      "text/plain": [
       "<PIL.Image.Image image mode=RGBA size=400x500 at 0x5F88DD8>"
      ]
     },
     "execution_count": 2,
     "metadata": {},
     "output_type": "execute_result"
    }
   ],
   "source": [
    "Image.open('Images\\\\10-cv.png').resize((400, 500))"
   ]
  },
  {
   "cell_type": "markdown",
   "metadata": {},
   "source": [
    "## Collecting relevant data"
   ]
  },
  {
   "cell_type": "code",
   "execution_count": null,
   "metadata": {},
   "outputs": [],
   "source": [
    "# # Setting directory using os.path.join\n",
    "# import os\n",
    "# folder_path = 'Data\\\\'\n",
    "# data_path = os.path.join(folder_path, '11-diabetes.csv')\n",
    "# data = pd.read_csv(data_path)"
   ]
  },
  {
   "cell_type": "code",
   "execution_count": 3,
   "metadata": {},
   "outputs": [
    {
     "data": {
      "text/plain": [
       "['01-ign.csv',\n",
       " '02-winequality-red.csv',\n",
       " '02-winequality-white.csv',\n",
       " '03-thanksgiving-2015-poll-data.csv',\n",
       " '05-ibm-sales-loss.csv',\n",
       " '07-test.csv',\n",
       " '07-train.csv',\n",
       " '09-house-regression-env.db',\n",
       " '09-house-test.csv',\n",
       " '09-house-train.csv',\n",
       " '10-vgsales.csv',\n",
       " '11-diabetes.csv']"
      ]
     },
     "execution_count": 3,
     "metadata": {},
     "output_type": "execute_result"
    }
   ],
   "source": [
    "# Set directory\n",
    "import os\n",
    "path = 'C:\\\\Users\\\\' + os.getlogin() + '\\\\Documents\\\\Programming\\\\Python\\\\MachineLearning\\\\Data'\n",
    "os.chdir(path)\n",
    "os.getcwd()\n",
    "os.listdir()"
   ]
  },
  {
   "cell_type": "markdown",
   "metadata": {},
   "source": [
    "### Import libraries"
   ]
  },
  {
   "cell_type": "code",
   "execution_count": 4,
   "metadata": {},
   "outputs": [
    {
     "data": {
      "image/png": "[encoded data removed]",
      "text/plain": [
       "<Figure size 432x72 with 1 Axes>"
      ]
     },
     "metadata": {
      "needs_background": "light"
     },
     "output_type": "display_data"
    }
   ],
   "source": [
    "# Toolbox\n",
    "import pandas as pd\n",
    "import pandas_profiling\n",
    "import numpy as np\n",
    "import random\n",
    "import datetime as dt\n",
    "import seaborn as sns\n",
    "import matplotlib.pyplot as plt\n",
    "%matplotlib inline\n",
    "\n",
    "# Statistics\n",
    "from scipy.stats import norm, skew, boxcox_normmax\n",
    "from scipy.special import boxcox1p\n",
    "from scipy import stats\n",
    "\n",
    "# Misc\n",
    "import warnings\n",
    "warnings.filterwarnings(action='ignore')\n",
    "\n",
    "# Preset data display\n",
    "pd.options.display.max_seq_items = 1000\n",
    "pd.options.display.max_rows =1000\n",
    "\n",
    "# Set notebook colors and palette\n",
    "flatui = ['#9b59b6', '#3498db', '#95a5a6', '#e74c3c', '#34495e', '#2ecc71']\n",
    "sns.set_palette(flatui)\n",
    "sns.palplot(sns.color_palette(flatui))\n",
    "sns.set_style('white')\n",
    "sns.set_color_codes(palette='deep')\n",
    "# Favorite code to use: #34995e"
   ]
  },
  {
   "cell_type": "markdown",
   "metadata": {},
   "source": [
    "### Import data"
   ]
  },
  {
   "cell_type": "code",
   "execution_count": 5,
   "metadata": {},
   "outputs": [],
   "source": [
    "data = pd.read_csv('11-diabetes.csv')"
   ]
  },
  {
   "cell_type": "markdown",
   "metadata": {},
   "source": [
    "## Preprocessing\n",
    "\n",
    "Let's take a look at the data and see the structure of the data. It's good to know how big our dataset is so we are careful in using certain functions or plots and making sure we keep in mind our memory usage. Besides that, we will also be looking for missing values as well to get an idea on how complete the data is. We can create summary and diagnostic plots to show this. The less missing values the better, but one of our goals in this notebook is to go through difference methods in cleaning up missing values in the first place and try to understand why are they missing in the first place.\n",
    "\n",
    "In summary, some of the questions we try to answer here are:\n",
    "- Are we able to use the data right away?\n",
    "    - If not, why?\n",
    "- Are there any missing values?\n",
    "    - If not, what methods should we use to fix this?\n",
    "- How clean is the dat?\n",
    "    - Are all values the same in a single feature?\n",
    "    - Is the feature format consistent?"
   ]
  },
  {
   "cell_type": "code",
   "execution_count": 6,
   "metadata": {},
   "outputs": [
    {
     "name": "stdout",
     "output_type": "stream",
     "text": [
      "\n"
     ]
    }
   ],
   "source": [
    "'''\n",
    "\n",
    "Some basic functions:\n",
    "\n",
    "train.sample()                                           \n",
    "train.describe()\n",
    "    train.describe(include=['O'])\n",
    "    train.describe(include='all')\n",
    "train.head()\n",
    "train.tail()\n",
    "train.value_counts().sum()\n",
    "train.isnull().sum()\n",
    "train.count()\n",
    "train.fillna()\n",
    "    train.fillna(train[col].mode(), inplace=True)\n",
    "train.mean()\n",
    "train.median()\n",
    "train.mode()\n",
    "train.shape\n",
    "train.info()\n",
    "\n",
    "'''\n",
    "print('')"
   ]
  },
  {
   "cell_type": "code",
   "execution_count": 7,
   "metadata": {},
   "outputs": [
    {
     "data": {
      "text/html": [
       "<div>\n",
       "<style scoped>\n",
       "    .dataframe tbody tr th:only-of-type {\n",
       "        vertical-align: middle;\n",
       "    }\n",
       "\n",
       "    .dataframe tbody tr th {\n",
       "        vertical-align: top;\n",
       "    }\n",
       "\n",
       "    .dataframe thead th {\n",
       "        text-align: right;\n",
       "    }\n",
       "</style>\n",
       "<table border=\"1\" class=\"dataframe\">\n",
       "  <thead>\n",
       "    <tr style=\"text-align: right;\">\n",
       "      <th></th>\n",
       "      <th>Pregnancies</th>\n",
       "      <th>Glucose</th>\n",
       "      <th>BloodPressure</th>\n",
       "      <th>SkinThickness</th>\n",
       "      <th>Insulin</th>\n",
       "      <th>BMI</th>\n",
       "      <th>DiabetesPedigreeFunction</th>\n",
       "      <th>Age</th>\n",
       "      <th>Outcome</th>\n",
       "    </tr>\n",
       "  </thead>\n",
       "  <tbody>\n",
       "    <tr>\n",
       "      <th>0</th>\n",
       "      <td>6</td>\n",
       "      <td>148</td>\n",
       "      <td>72</td>\n",
       "      <td>35</td>\n",
       "      <td>0</td>\n",
       "      <td>33.6</td>\n",
       "      <td>0.627</td>\n",
       "      <td>50</td>\n",
       "      <td>1</td>\n",
       "    </tr>\n",
       "    <tr>\n",
       "      <th>1</th>\n",
       "      <td>1</td>\n",
       "      <td>85</td>\n",
       "      <td>66</td>\n",
       "      <td>29</td>\n",
       "      <td>0</td>\n",
       "      <td>26.6</td>\n",
       "      <td>0.351</td>\n",
       "      <td>31</td>\n",
       "      <td>0</td>\n",
       "    </tr>\n",
       "    <tr>\n",
       "      <th>2</th>\n",
       "      <td>8</td>\n",
       "      <td>183</td>\n",
       "      <td>64</td>\n",
       "      <td>0</td>\n",
       "      <td>0</td>\n",
       "      <td>23.3</td>\n",
       "      <td>0.672</td>\n",
       "      <td>32</td>\n",
       "      <td>1</td>\n",
       "    </tr>\n",
       "    <tr>\n",
       "      <th>3</th>\n",
       "      <td>1</td>\n",
       "      <td>89</td>\n",
       "      <td>66</td>\n",
       "      <td>23</td>\n",
       "      <td>94</td>\n",
       "      <td>28.1</td>\n",
       "      <td>0.167</td>\n",
       "      <td>21</td>\n",
       "      <td>0</td>\n",
       "    </tr>\n",
       "    <tr>\n",
       "      <th>4</th>\n",
       "      <td>0</td>\n",
       "      <td>137</td>\n",
       "      <td>40</td>\n",
       "      <td>35</td>\n",
       "      <td>168</td>\n",
       "      <td>43.1</td>\n",
       "      <td>2.288</td>\n",
       "      <td>33</td>\n",
       "      <td>1</td>\n",
       "    </tr>\n",
       "  </tbody>\n",
       "</table>\n",
       "</div>"
      ],
      "text/plain": [
       "   Pregnancies  Glucose  BloodPressure  SkinThickness  Insulin   BMI  \\\n",
       "0            6      148             72             35        0  33.6   \n",
       "1            1       85             66             29        0  26.6   \n",
       "2            8      183             64              0        0  23.3   \n",
       "3            1       89             66             23       94  28.1   \n",
       "4            0      137             40             35      168  43.1   \n",
       "\n",
       "   DiabetesPedigreeFunction  Age  Outcome  \n",
       "0                     0.627   50        1  \n",
       "1                     0.351   31        0  \n",
       "2                     0.672   32        1  \n",
       "3                     0.167   21        0  \n",
       "4                     2.288   33        1  "
      ]
     },
     "execution_count": 7,
     "metadata": {},
     "output_type": "execute_result"
    }
   ],
   "source": [
    "# Let's take a look at the top 5 rows of the data\n",
    "data.head()"
   ]
  },
  {
   "cell_type": "code",
   "execution_count": 8,
   "metadata": {},
   "outputs": [
    {
     "data": {
      "text/plain": [
       "(768, 9)"
      ]
     },
     "execution_count": 8,
     "metadata": {},
     "output_type": "execute_result"
    }
   ],
   "source": [
    "# Shape of the data\n",
    "data.shape"
   ]
  },
  {
   "cell_type": "markdown",
   "metadata": {},
   "source": [
    "### Training vs. Testing Datasets\n",
    "\n",
    "While we are preprocessing our data and making it usable, we also have to keep in mind the best practice machine learning methodology. We can't forget that in order to evaluate our models we have to have a holdout set or test set to check. So far from what I've seen in a lot of workbooks miss this step entirely because there is an assumption that the method train_test_split() from the sklearn library would suffice. This would cause something called data leakage that I'll go over in the next block.\n",
    "\n",
    "The true way to mimic real-world problems is to completely leave out the test set in all preprocessing, cleaning,  and feature engineering steps. If there are changes to the training set then we would have to do the same transformations on the test as well. If we are imputing with using values from the training then we also have to with the test set.\n",
    "\n",
    "For the sake our 2 goals, working with methods in cleaning missing values and going over algorithms for review, we are just going to split the data before we model."
   ]
  },
  {
   "cell_type": "markdown",
   "metadata": {},
   "source": [
    "### What is data leakage?\n",
    "\n",
    "When information from outside of the training dataset is used to create the model. That is data leakage.\n",
    "\n",
    "Leakage can cause you to create overly optimistic if not completely invalid predictive models because additional information can allow the model to learn from or know something that it otherwise would not know, which will in turn invalidate the estimated performance of the model being constructed. - Jason Brownlee\n",
    "\n",
    "In other words, you know information of your test beforehand and then attempt to study & learn (train) on that same test and get scored on it with features used (time studied, material used, etc.) on a \"new\" test data (the same dataset you learned from) then get a test score on that to check your grade (evaluation & performance). So did you really something?\n",
    "\n",
    "Techniques to minimize data leakage when building models - \n",
    "1. Perform data preparation within your cross-validation folds\n",
    "    - One solution for this is that we can re-prep the data within your cross-validation folds including tasks like feature selection, outlier removal, encoding, feature scaling, and projection methods for dimensionality reduction\n",
    "2. Hold back a validation dataset for final sanity check of your developed models\n",
    "    - This approach splits your training dataset into 2 sets (1 train and 1 validation) and then save the validation dataset for use after the models have been created\n",
    "    - Once created, you can validate the performance on the validation set\n",
    "3. Create 4 datasets (something new that I haven't tried yet)\n",
    "    - Initial training on the first set\n",
    "    - Hyperparameter tuning on the second set\n",
    "    - Validate scores on the third set using tuned hyperparameters on the third set\n",
    "    - Test final model and evaluate on the final set\n",
    "\n",
    "Common data preparation issues\n",
    "1. Normalization or standardization on your entire dataset and then estimating the performance of your model using cross-validation\n",
    "    - When this happens, the test data's information is being added into the training information so when we start testing, it's not a true representation of unknown/future data\n",
    "    - An example is when you attempt to rescale the data on the same distribution of data, which includes the test set, and then use those values as inputs in your model"
   ]
  },
  {
   "cell_type": "markdown",
   "metadata": {},
   "source": [
    "### Missing values\n",
    "\n",
    "There are several methods on how to handle missing values as there are always some instances where a particular value is absent for real-world data. Reasons like corrupt date, failure to load the information correctly, never inputting the data values in the first place, or other invalid methods of data collections are all ways values are missing. It's extremely helpful to know a few methods on how to handle NaN values. Pandas library also provides a dropna() function that can be used to drop columns or rows of missing data.\n",
    "\n",
    "But first let's check if are there any missing values then show the column names."
   ]
  },
  {
   "cell_type": "code",
   "execution_count": 9,
   "metadata": {},
   "outputs": [
    {
     "name": "stdout",
     "output_type": "stream",
     "text": [
      "There are 0 columns with missing values.\n"
     ]
    },
    {
     "data": {
      "text/html": [
       "<div>\n",
       "<style scoped>\n",
       "    .dataframe tbody tr th:only-of-type {\n",
       "        vertical-align: middle;\n",
       "    }\n",
       "\n",
       "    .dataframe tbody tr th {\n",
       "        vertical-align: top;\n",
       "    }\n",
       "\n",
       "    .dataframe thead th {\n",
       "        text-align: right;\n",
       "    }\n",
       "</style>\n",
       "<table border=\"1\" class=\"dataframe\">\n",
       "  <thead>\n",
       "    <tr style=\"text-align: right;\">\n",
       "      <th></th>\n",
       "      <th>Missing Count</th>\n",
       "      <th>Missing Pct</th>\n",
       "    </tr>\n",
       "  </thead>\n",
       "  <tbody>\n",
       "  </tbody>\n",
       "</table>\n",
       "</div>"
      ],
      "text/plain": [
       "Empty DataFrame\n",
       "Columns: [Missing Count, Missing Pct]\n",
       "Index: []"
      ]
     },
     "execution_count": 9,
     "metadata": {},
     "output_type": "execute_result"
    }
   ],
   "source": [
    "# Get missing values\n",
    "mv_cols = pd.DataFrame(data.isnull().sum().sort_values(ascending=False), columns=['Missing Count'])\n",
    "mv_cols_pct = pd.DataFrame(round(data.isnull().sum().sort_values(ascending=False)*100/len(data),2), columns=['Missing Pct'])\n",
    "\n",
    "# Combine the two dataframes (axis=1) with column names using the key parameter\n",
    "mv_cols_df = pd.DataFrame(pd.concat([mv_cols, mv_cols_pct], axis=1))\n",
    "\n",
    "# Get missing features only\n",
    "all_mv = mv_cols_df[mv_cols_df['Missing Pct']>0]\n",
    "\n",
    "# Print\n",
    "print('There are', len(all_mv), 'columns with missing values.')\n",
    "all_mv"
   ]
  },
  {
   "cell_type": "markdown",
   "metadata": {},
   "source": [
    "### There are no missing values, so we're good right?\n",
    "\n",
    "So from our initial missing value check, there are actually no missing values in the small dataset so we are good right? Not quite. Let's take a look at the actual data now to figure out what's considered invalid in the dataset. Always be skeptical. This process helps you understand the data better and it's even better when you have domain knowledge to see uncommon data values where someone else may not notice as incorrect.\n",
    "\n",
    "Let's start using some of the functions to check out the dataset."
   ]
  },
  {
   "cell_type": "code",
   "execution_count": 10,
   "metadata": {},
   "outputs": [
    {
     "data": {
      "text/html": [
       "<div>\n",
       "<style scoped>\n",
       "    .dataframe tbody tr th:only-of-type {\n",
       "        vertical-align: middle;\n",
       "    }\n",
       "\n",
       "    .dataframe tbody tr th {\n",
       "        vertical-align: top;\n",
       "    }\n",
       "\n",
       "    .dataframe thead th {\n",
       "        text-align: right;\n",
       "    }\n",
       "</style>\n",
       "<table border=\"1\" class=\"dataframe\">\n",
       "  <thead>\n",
       "    <tr style=\"text-align: right;\">\n",
       "      <th></th>\n",
       "      <th>Pregnancies</th>\n",
       "      <th>Glucose</th>\n",
       "      <th>BloodPressure</th>\n",
       "      <th>SkinThickness</th>\n",
       "      <th>Insulin</th>\n",
       "      <th>BMI</th>\n",
       "      <th>DiabetesPedigreeFunction</th>\n",
       "      <th>Age</th>\n",
       "      <th>Outcome</th>\n",
       "    </tr>\n",
       "  </thead>\n",
       "  <tbody>\n",
       "    <tr>\n",
       "      <th>count</th>\n",
       "      <td>768.000000</td>\n",
       "      <td>768.000000</td>\n",
       "      <td>768.000000</td>\n",
       "      <td>768.000000</td>\n",
       "      <td>768.000000</td>\n",
       "      <td>768.000000</td>\n",
       "      <td>768.000000</td>\n",
       "      <td>768.000000</td>\n",
       "      <td>768.000000</td>\n",
       "    </tr>\n",
       "    <tr>\n",
       "      <th>mean</th>\n",
       "      <td>3.845052</td>\n",
       "      <td>120.894531</td>\n",
       "      <td>69.105469</td>\n",
       "      <td>20.536458</td>\n",
       "      <td>79.799479</td>\n",
       "      <td>31.992578</td>\n",
       "      <td>0.471876</td>\n",
       "      <td>33.240885</td>\n",
       "      <td>0.348958</td>\n",
       "    </tr>\n",
       "    <tr>\n",
       "      <th>std</th>\n",
       "      <td>3.369578</td>\n",
       "      <td>31.972618</td>\n",
       "      <td>19.355807</td>\n",
       "      <td>15.952218</td>\n",
       "      <td>115.244002</td>\n",
       "      <td>7.884160</td>\n",
       "      <td>0.331329</td>\n",
       "      <td>11.760232</td>\n",
       "      <td>0.476951</td>\n",
       "    </tr>\n",
       "    <tr>\n",
       "      <th>min</th>\n",
       "      <td>0.000000</td>\n",
       "      <td>0.000000</td>\n",
       "      <td>0.000000</td>\n",
       "      <td>0.000000</td>\n",
       "      <td>0.000000</td>\n",
       "      <td>0.000000</td>\n",
       "      <td>0.078000</td>\n",
       "      <td>21.000000</td>\n",
       "      <td>0.000000</td>\n",
       "    </tr>\n",
       "    <tr>\n",
       "      <th>25%</th>\n",
       "      <td>1.000000</td>\n",
       "      <td>99.000000</td>\n",
       "      <td>62.000000</td>\n",
       "      <td>0.000000</td>\n",
       "      <td>0.000000</td>\n",
       "      <td>27.300000</td>\n",
       "      <td>0.243750</td>\n",
       "      <td>24.000000</td>\n",
       "      <td>0.000000</td>\n",
       "    </tr>\n",
       "    <tr>\n",
       "      <th>50%</th>\n",
       "      <td>3.000000</td>\n",
       "      <td>117.000000</td>\n",
       "      <td>72.000000</td>\n",
       "      <td>23.000000</td>\n",
       "      <td>30.500000</td>\n",
       "      <td>32.000000</td>\n",
       "      <td>0.372500</td>\n",
       "      <td>29.000000</td>\n",
       "      <td>0.000000</td>\n",
       "    </tr>\n",
       "    <tr>\n",
       "      <th>75%</th>\n",
       "      <td>6.000000</td>\n",
       "      <td>140.250000</td>\n",
       "      <td>80.000000</td>\n",
       "      <td>32.000000</td>\n",
       "      <td>127.250000</td>\n",
       "      <td>36.600000</td>\n",
       "      <td>0.626250</td>\n",
       "      <td>41.000000</td>\n",
       "      <td>1.000000</td>\n",
       "    </tr>\n",
       "    <tr>\n",
       "      <th>max</th>\n",
       "      <td>17.000000</td>\n",
       "      <td>199.000000</td>\n",
       "      <td>122.000000</td>\n",
       "      <td>99.000000</td>\n",
       "      <td>846.000000</td>\n",
       "      <td>67.100000</td>\n",
       "      <td>2.420000</td>\n",
       "      <td>81.000000</td>\n",
       "      <td>1.000000</td>\n",
       "    </tr>\n",
       "  </tbody>\n",
       "</table>\n",
       "</div>"
      ],
      "text/plain": [
       "       Pregnancies     Glucose  BloodPressure  SkinThickness     Insulin  \\\n",
       "count   768.000000  768.000000     768.000000     768.000000  768.000000   \n",
       "mean      3.845052  120.894531      69.105469      20.536458   79.799479   \n",
       "std       3.369578   31.972618      19.355807      15.952218  115.244002   \n",
       "min       0.000000    0.000000       0.000000       0.000000    0.000000   \n",
       "25%       1.000000   99.000000      62.000000       0.000000    0.000000   \n",
       "50%       3.000000  117.000000      72.000000      23.000000   30.500000   \n",
       "75%       6.000000  140.250000      80.000000      32.000000  127.250000   \n",
       "max      17.000000  199.000000     122.000000      99.000000  846.000000   \n",
       "\n",
       "              BMI  DiabetesPedigreeFunction         Age     Outcome  \n",
       "count  768.000000                768.000000  768.000000  768.000000  \n",
       "mean    31.992578                  0.471876   33.240885    0.348958  \n",
       "std      7.884160                  0.331329   11.760232    0.476951  \n",
       "min      0.000000                  0.078000   21.000000    0.000000  \n",
       "25%     27.300000                  0.243750   24.000000    0.000000  \n",
       "50%     32.000000                  0.372500   29.000000    0.000000  \n",
       "75%     36.600000                  0.626250   41.000000    1.000000  \n",
       "max     67.100000                  2.420000   81.000000    1.000000  "
      ]
     },
     "execution_count": 10,
     "metadata": {},
     "output_type": "execute_result"
    }
   ],
   "source": [
    "# Summary\n",
    "data.describe()"
   ]
  },
  {
   "cell_type": "code",
   "execution_count": 12,
   "metadata": {},
   "outputs": [
    {
     "data": {
      "text/html": [
       "<div>\n",
       "<style scoped>\n",
       "    .dataframe tbody tr th:only-of-type {\n",
       "        vertical-align: middle;\n",
       "    }\n",
       "\n",
       "    .dataframe tbody tr th {\n",
       "        vertical-align: top;\n",
       "    }\n",
       "\n",
       "    .dataframe thead th {\n",
       "        text-align: right;\n",
       "    }\n",
       "</style>\n",
       "<table border=\"1\" class=\"dataframe\">\n",
       "  <thead>\n",
       "    <tr style=\"text-align: right;\">\n",
       "      <th></th>\n",
       "      <th>Pregnancies</th>\n",
       "      <th>Glucose</th>\n",
       "      <th>BloodPressure</th>\n",
       "      <th>SkinThickness</th>\n",
       "      <th>Insulin</th>\n",
       "      <th>BMI</th>\n",
       "    </tr>\n",
       "  </thead>\n",
       "  <tbody>\n",
       "    <tr>\n",
       "      <th>min</th>\n",
       "      <td>0.0</td>\n",
       "      <td>0.0</td>\n",
       "      <td>0.0</td>\n",
       "      <td>0.0</td>\n",
       "      <td>0.0</td>\n",
       "      <td>0.0</td>\n",
       "    </tr>\n",
       "    <tr>\n",
       "      <th>25%</th>\n",
       "      <td>1.0</td>\n",
       "      <td>99.0</td>\n",
       "      <td>62.0</td>\n",
       "      <td>0.0</td>\n",
       "      <td>0.0</td>\n",
       "      <td>27.3</td>\n",
       "    </tr>\n",
       "  </tbody>\n",
       "</table>\n",
       "</div>"
      ],
      "text/plain": [
       "     Pregnancies  Glucose  BloodPressure  SkinThickness  Insulin   BMI\n",
       "min          0.0      0.0            0.0            0.0      0.0   0.0\n",
       "25%          1.0     99.0           62.0            0.0      0.0  27.3"
      ]
     },
     "execution_count": 12,
     "metadata": {},
     "output_type": "execute_result"
    }
   ],
   "source": [
    "# Get columns with 0 values\n",
    "data.describe().iloc[[3,4], 0:6]"
   ]
  },
  {
   "cell_type": "markdown",
   "metadata": {},
   "source": [
    "Without any prior knowledge on knowing what is considered a correct value of 0 or not, we can see that these 5 features may look like it's invalid. \n",
    "\n",
    "For pregnancies, the value of 0 makes sense, but the other 4 features do not make any sense. Here are the 5 columns that we need to look into.\n",
    "\n",
    "- Glucose: Plasma glucose concentration a 2 hours in an oral glucose tolerance test\n",
    "- BloodPressure: Diastolic blood pressure (mm Hg)\n",
    "- SkinThickness: Triceps skin fold thickness (mm)\n",
    "- Insulin: 2-Hour serum insulin (mu U/ml)\n",
    "- BMI: Body mass index (weight in kg/(height in m)^2)\n",
    "\n",
    "Now that we have our features, let's continue."
   ]
  },
  {
   "cell_type": "markdown",
   "metadata": {},
   "source": [
    "### Let's first update the zeros"
   ]
  },
  {
   "cell_type": "code",
   "execution_count": 26,
   "metadata": {},
   "outputs": [
    {
     "data": {
      "text/plain": [
       "Glucose            5\n",
       "BloodPressure     35\n",
       "SkinThickness    227\n",
       "Insulin          374\n",
       "BMI               11\n",
       "dtype: int64"
      ]
     },
     "execution_count": 26,
     "metadata": {},
     "output_type": "execute_result"
    }
   ],
   "source": [
    "# Identify columns\n",
    "mv_cols = ['Glucose', 'BloodPressure', 'SkinThickness', 'Insulin', 'BMI']\n",
    "\n",
    "# Identify how much zeros we have per feature\n",
    "(data[mv_cols]==0).sum()"
   ]
  },
  {
   "cell_type": "markdown",
   "metadata": {},
   "source": [
    "So now we have counted the 5 features that have zero values as input. We want to identify the issues on why each of the features have zeros in the first place. It's not like someone can have 0 insulin or can they? Now a new question arises, can insulin be zero?\n",
    "\n",
    "### Insulin\n",
    "\n",
    "... is an important hormone that controls many processes in the body. It's a hormone secreted by an organ called the pancreas. Its main role is to regulate the amount of nutrients circulating in the bloodstream. When we eat a meal that contains carbohydrates, the amount of blood sugar in the bloodstream increases. The pancreas detects the increase of sugar, which then releases insulin into the blood to reduce the amount of sugar in the blood. When insulin levels fall too low, the body does not have enough energy to function fully. A person with diabetes may take insulin shots because their body is resistant to insulin or because it does not produce enough to support them.\n",
    "\n",
    "So to answer the question biologically, yes you can but the chances that you have zero insulin means you have Type 1 Diabetes since the pancreas does not produce insulin but that would most likely mean that the patient is going to be in critical condition because the body needs insulin. For this dataset, it will be nearly impossible for the levels to be zero, so we can consider this as a missing value.\n",
    "\n",
    "__SkinThickness__ is another feature that is skeptical. How can thickness be zero? That alone is a red flag and I will consider it as an incorrect data input or missing value.\n",
    "\n",
    "The other 3 features: __glucose__, __blood pressure__, and __BMI__ are also all features that can't be zero based on human biology. For gluclose, low blood sugar (hypoglycemia) occurs in people with diabetes when the sugar (type of glucose) level drops below what the body needs to function normally. Unless those 5 patients were extremely sick during the time of the test then I would also consider this as a input error or missing value."
   ]
  },
  {
   "cell_type": "code",
   "execution_count": 28,
   "metadata": {},
   "outputs": [],
   "source": [
    "# Replace the zero values with NaN\n",
    "data = data[mv_cols].replace(0, np.NaN)"
   ]
  },
  {
   "cell_type": "code",
   "execution_count": 29,
   "metadata": {
    "scrolled": true
   },
   "outputs": [
    {
     "data": {
      "text/plain": [
       "Glucose            5\n",
       "BloodPressure     35\n",
       "SkinThickness    227\n",
       "Insulin          374\n",
       "BMI               11\n",
       "dtype: int64"
      ]
     },
     "execution_count": 29,
     "metadata": {},
     "output_type": "execute_result"
    }
   ],
   "source": [
    "# Count the NaN values, they should be the same\n",
    "data.isnull().sum()"
   ]
  },
  {
   "cell_type": "code",
   "execution_count": 30,
   "metadata": {},
   "outputs": [
    {
     "name": "stdout",
     "output_type": "stream",
     "text": [
      "There are 5 columns with missing values.\n"
     ]
    },
    {
     "data": {
      "text/html": [
       "<div>\n",
       "<style scoped>\n",
       "    .dataframe tbody tr th:only-of-type {\n",
       "        vertical-align: middle;\n",
       "    }\n",
       "\n",
       "    .dataframe tbody tr th {\n",
       "        vertical-align: top;\n",
       "    }\n",
       "\n",
       "    .dataframe thead th {\n",
       "        text-align: right;\n",
       "    }\n",
       "</style>\n",
       "<table border=\"1\" class=\"dataframe\">\n",
       "  <thead>\n",
       "    <tr style=\"text-align: right;\">\n",
       "      <th></th>\n",
       "      <th>Missing Count</th>\n",
       "      <th>Missing Pct</th>\n",
       "    </tr>\n",
       "  </thead>\n",
       "  <tbody>\n",
       "    <tr>\n",
       "      <th>Insulin</th>\n",
       "      <td>374</td>\n",
       "      <td>48.70</td>\n",
       "    </tr>\n",
       "    <tr>\n",
       "      <th>SkinThickness</th>\n",
       "      <td>227</td>\n",
       "      <td>29.56</td>\n",
       "    </tr>\n",
       "    <tr>\n",
       "      <th>BloodPressure</th>\n",
       "      <td>35</td>\n",
       "      <td>4.56</td>\n",
       "    </tr>\n",
       "    <tr>\n",
       "      <th>BMI</th>\n",
       "      <td>11</td>\n",
       "      <td>1.43</td>\n",
       "    </tr>\n",
       "    <tr>\n",
       "      <th>Glucose</th>\n",
       "      <td>5</td>\n",
       "      <td>0.65</td>\n",
       "    </tr>\n",
       "  </tbody>\n",
       "</table>\n",
       "</div>"
      ],
      "text/plain": [
       "               Missing Count  Missing Pct\n",
       "Insulin                  374        48.70\n",
       "SkinThickness            227        29.56\n",
       "BloodPressure             35         4.56\n",
       "BMI                       11         1.43\n",
       "Glucose                    5         0.65"
      ]
     },
     "execution_count": 30,
     "metadata": {},
     "output_type": "execute_result"
    }
   ],
   "source": [
    "# Get missing values\n",
    "mv_cols = pd.DataFrame(data.isnull().sum().sort_values(ascending=False), columns=['Missing Count'])\n",
    "mv_cols_pct = pd.DataFrame(round(data.isnull().sum().sort_values(ascending=False)*100/len(data),2), columns=['Missing Pct'])\n",
    "\n",
    "# Combine the two dataframes (axis=1) with column names using the key parameter\n",
    "mv_cols_df = pd.DataFrame(pd.concat([mv_cols, mv_cols_pct], axis=1))\n",
    "\n",
    "# Get missing features only\n",
    "all_mv = mv_cols_df[mv_cols_df['Missing Pct']>0]\n",
    "\n",
    "# Print\n",
    "print('There are', len(all_mv), 'columns with missing values.')\n",
    "all_mv"
   ]
  },
  {
   "cell_type": "markdown",
   "metadata": {},
   "source": [
    "Now we have our missing values to work with."
   ]
  },
  {
   "cell_type": "markdown",
   "metadata": {},
   "source": [
    "### Types of missing values\n",
    "\n",
    "__Structurally missing data__\n",
    "- Data that is missing for a logical reason like having no children and asking for the age of their youngest child\n",
    "\n",
    "__MCAR__ (Missing Completely at Random)\n",
    "- There is a no specific pattern on why data values are missing and are considered statistically independent. In other words, we are assuming that whether or not the person has missing data is completely unrelated to the other information in the data. When data is missing completely at random, it means that we can undertake analyses using only observations that have complete data only if we have enough observations for the model.\n",
    "    - Solution 1: Can delete records\n",
    "    - Solution 2: Can stochastically impute rather than deterministically impute. This means that if you specific the marginal probability distribution of a missing value as Gaussian with some known mean and variance then you can sample from that distribution to impute values into the data\n",
    "\n",
    "__MAR__ (Missing at Random)\n",
    "- The probability distribution of the missing values is functionally dependent upon the observable component of the record. MCAR is a type of MAR. For this type of missing value, we can attempt to predict a value based on a predictive model unlike MCAR, but keep in mind that we can't perfectly predit a relationship. It requires a probablistic relationship (ex: we have a better than radnomly probability of predicting the true value of the missing data).\n",
    "    - Solution 1: Can use an algorithm\n",
    "\n",
    "__MNAR__ (Missing Not at Random)\n",
    "- The probability that the answer is observable is conditionally dependent upon the unobservable component of the data record. In other words, the refusal to input data which makes this as a nonignorable missing data. \n",
    "    - Solution 1: Can include binary indicators in the data record which explicitly identifies when a variable is not observable (method I use often). Challenges from this method is that a highly nonlinear model needs to be designed to properly integrate the new information in an appropriate manner. \n",
    "\n",
    "### Other Notes\n",
    "When data is missing not at random, it means that we can't use any of the standard methods for dealing with missing values (imputation, algorithms). If the missing data is missing not at random, any standard calculations would give the wrong answer. \n",
    "\n",
    "For example, if there was a case study on homeless people in a shelter with 10 individuals, then we can see how many have left the shelter. If only 5 was located and 2 of them were out of the shelter, then it would be 2/5 but what about the other 5 that can't be contacted? Would it be 7/10 instead because 40% < 70%. Reporting 40% may be misleading. In this example, the missing data is nonignorable so treating it as a missing as random would also be inappropriate.\n",
    "\n",
    "__Summary: Possible solutions__\n",
    "1. Imputing with mean, median, or mode\n",
    "2. Create a separate binary feature indicating if the value is missing or not\n",
    "3. Binning\n",
    "    - This could be similar to the second solution as we are grouping the values together either within a numerical range or based on a specific condition\n",
    "    - Issue from this method is that you may lose information from this\n",
    "3. Use an algorithm to predict the missing value\n",
    "    - Imputing with a model's estimated prediction\n",
    "4. Use an algorithm that doesn't require the data to be imputed\n",
    "    - Decision trees, random forest, KNN, etc.\n",
    "5. Removing the data     \n",
    "    - Using an index or dropna() function\n",
    "    - Use the inplace parameter, if True, do operation inplace and return None\n",
    "    - Use the axis parameter, drop labels from the index level(then 0) or column level (then 1)\n",
    "6. Use business acumen to figure out values\n"
   ]
  },
  {
   "cell_type": "code",
   "execution_count": null,
   "metadata": {},
   "outputs": [],
   "source": []
  },
  {
   "cell_type": "markdown",
   "metadata": {},
   "source": [
    "## Exploratory data analysis"
   ]
  },
  {
   "cell_type": "code",
   "execution_count": null,
   "metadata": {},
   "outputs": [],
   "source": []
  },
  {
   "cell_type": "code",
   "execution_count": null,
   "metadata": {},
   "outputs": [],
   "source": []
  },
  {
   "cell_type": "code",
   "execution_count": null,
   "metadata": {},
   "outputs": [],
   "source": []
  },
  {
   "cell_type": "code",
   "execution_count": null,
   "metadata": {},
   "outputs": [],
   "source": []
  },
  {
   "cell_type": "code",
   "execution_count": null,
   "metadata": {},
   "outputs": [],
   "source": []
  },
  {
   "cell_type": "code",
   "execution_count": null,
   "metadata": {},
   "outputs": [],
   "source": []
  },
  {
   "cell_type": "code",
   "execution_count": null,
   "metadata": {},
   "outputs": [],
   "source": []
  },
  {
   "cell_type": "code",
   "execution_count": null,
   "metadata": {},
   "outputs": [],
   "source": []
  },
  {
   "cell_type": "code",
   "execution_count": null,
   "metadata": {},
   "outputs": [],
   "source": []
  },
  {
   "cell_type": "code",
   "execution_count": null,
   "metadata": {},
   "outputs": [],
   "source": []
  },
  {
   "cell_type": "code",
   "execution_count": null,
   "metadata": {},
   "outputs": [],
   "source": []
  },
  {
   "cell_type": "code",
   "execution_count": null,
   "metadata": {},
   "outputs": [],
   "source": []
  },
  {
   "cell_type": "code",
   "execution_count": null,
   "metadata": {},
   "outputs": [],
   "source": []
  },
  {
   "cell_type": "code",
   "execution_count": null,
   "metadata": {},
   "outputs": [],
   "source": []
  },
  {
   "cell_type": "code",
   "execution_count": null,
   "metadata": {},
   "outputs": [],
   "source": []
  },
  {
   "cell_type": "code",
   "execution_count": null,
   "metadata": {},
   "outputs": [],
   "source": []
  },
  {
   "cell_type": "code",
   "execution_count": null,
   "metadata": {},
   "outputs": [],
   "source": []
  },
  {
   "cell_type": "code",
   "execution_count": null,
   "metadata": {},
   "outputs": [],
   "source": []
  },
  {
   "cell_type": "markdown",
   "metadata": {},
   "source": [
    "## Feature engineering"
   ]
  },
  {
   "cell_type": "code",
   "execution_count": null,
   "metadata": {},
   "outputs": [],
   "source": []
  },
  {
   "cell_type": "code",
   "execution_count": null,
   "metadata": {},
   "outputs": [],
   "source": []
  },
  {
   "cell_type": "markdown",
   "metadata": {},
   "source": [
    "## Pre-modeling cleanup"
   ]
  },
  {
   "cell_type": "markdown",
   "metadata": {},
   "source": [
    "### Check up nulls"
   ]
  },
  {
   "cell_type": "code",
   "execution_count": null,
   "metadata": {},
   "outputs": [],
   "source": []
  },
  {
   "cell_type": "markdown",
   "metadata": {},
   "source": [
    "### Check skews"
   ]
  },
  {
   "cell_type": "code",
   "execution_count": null,
   "metadata": {},
   "outputs": [],
   "source": []
  },
  {
   "cell_type": "markdown",
   "metadata": {},
   "source": [
    "### Which transformation should we use on the features?"
   ]
  },
  {
   "cell_type": "code",
   "execution_count": null,
   "metadata": {},
   "outputs": [],
   "source": []
  },
  {
   "cell_type": "code",
   "execution_count": null,
   "metadata": {},
   "outputs": [],
   "source": []
  },
  {
   "cell_type": "code",
   "execution_count": null,
   "metadata": {},
   "outputs": [],
   "source": []
  },
  {
   "cell_type": "markdown",
   "metadata": {},
   "source": [
    "## Modeling & scoring"
   ]
  },
  {
   "cell_type": "markdown",
   "metadata": {},
   "source": [
    "## Evaluation"
   ]
  },
  {
   "cell_type": "code",
   "execution_count": null,
   "metadata": {},
   "outputs": [],
   "source": []
  },
  {
   "cell_type": "markdown",
   "metadata": {},
   "source": [
    "## Results"
   ]
  },
  {
   "cell_type": "code",
   "execution_count": null,
   "metadata": {},
   "outputs": [],
   "source": []
  },
  {
   "cell_type": "code",
   "execution_count": null,
   "metadata": {},
   "outputs": [],
   "source": []
  },
  {
   "cell_type": "markdown",
   "metadata": {},
   "source": [
    "## Ending notes"
   ]
  },
  {
   "cell_type": "code",
   "execution_count": null,
   "metadata": {},
   "outputs": [],
   "source": []
  },
  {
   "cell_type": "markdown",
   "metadata": {},
   "source": [
    "### Informational links\n",
    "\n",
    "- [Cross-validation](https://machinelearningmastery.com/k-fold-cross-validation/)\n",
    "- [Data leakage](https://machinelearningmastery.com/data-leakage-machine-learning/)\n",
    "- [Types of missing data](https://stats.stackexchange.com/questions/391602/how-to-handle-missing-data-in-machine-learning)\n",
    "- [How to handle missing data in ML](https://dev.acquia.com/blog/how-to-handle-missing-data-in-machine-learning-5-techniques/09/07/2018/19651)\n",
    "- [Handle missing data with python](https://machinelearningmastery.com/handle-missing-data-python/)\n",
    "- [Ways to handle missing values](https://www.analyticsindiamag.com/5-ways-handle-missing-values-machine-learning-datasets/)\n",
    "- [Working with missing data](https://towardsdatascience.com/working-with-missing-data-in-machine-learning-9c0a430df4ce)\n",
    "- [Blind spots](https://www.mailgun.com/blog/avoiding-the-blind-spots-of-missing-data-with-machine-learning)\n",
    "- [Machine learning applications in cancer prognosis and prediction](https://www.sciencedirect.com/science/article/pii/S2001037014000464)"
   ]
  },
  {
   "cell_type": "code",
   "execution_count": null,
   "metadata": {},
   "outputs": [],
   "source": []
  }
 ],
 "metadata": {
  "kernelspec": {
   "display_name": "Python 3",
   "language": "python",
   "name": "python3"
  },
  "language_info": {
   "codemirror_mode": {
    "name": "ipython",
    "version": 3
   },
   "file_extension": ".py",
   "mimetype": "text/x-python",
   "name": "python",
   "nbconvert_exporter": "python",
   "pygments_lexer": "ipython3",
   "version": "3.7.3"
  }
 },
 "nbformat": 4,
 "nbformat_minor": 2
}
