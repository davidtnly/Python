{
 "cells": [
  {
   "cell_type": "markdown",
   "metadata": {},
   "source": [
    "### NumPy Data Analysis"
   ]
  },
  {
   "cell_type": "markdown",
   "metadata": {},
   "source": [
    "NumPy is a commonly used Python data analysis package. \n",
    "\n",
    "By using NumPy, you can speed up your workflow, and interface with other packages in the Python ecosystem, like scikit-learn, that use NumPy under the hood. NumPy was originally developed in the mid 2000s, and arose from an even older package called Numeric. This longevity means that almost every data analysis or machine learning package for Python leverages NumPy in some way."
   ]
  },
  {
   "cell_type": "markdown",
   "metadata": {},
   "source": [
    "In this tutorial, we’ll walk through using NumPy to analyze data on wine quality. The data contains information on various attributes of wines, such as pH and fixed acidity, along with a quality score between 0 and 10 for each wine. The quality score is the average of at least 3 human taste testers. As we learn how to work with NumPy, we’ll try to figure out more about the perceived quality of wine."
   ]
  },
  {
   "cell_type": "markdown",
   "metadata": {},
   "source": [
    "### Data \n",
    "Data is from the UCI Machine Learning Repository (https://archive.ics.uci.edu/ml/index.php),\n",
    "which is available here: https://archive.ics.uci.edu/ml/datasets/Wine+Quality\n",
    "\n",
    "The two datasets are related to red and white variants of the Portuguesse 'Vino Verde' wine. Only physicochemical (inputs) and sensory (output) variables are available in the dataset (none about grape types, wine brand, wine selling price, etc.) due to privacy and logistic issues.\n",
    "\n",
    "       \n",
    "I downloaded both the white and red wine csv. We can also join and append it together if we want to. But for this example, we will use the red wine csv file."
   ]
  },
  {
   "cell_type": "markdown",
   "metadata": {},
   "source": [
    "#### Data characteristics\n",
    "- 4,898 rows\n",
    "- 12 columns\n",
    "- No missing values\n",
    "- 2009-10-07\n",
    "\n",
    "#### Uses\n",
    "- Can be used for classification or regression.\n",
    "- Can be used for multivariate analysis\n",
    "\n",
    "#### Columns\n",
    "1. fixed acidity \n",
    "2. volatile acidity \n",
    "3. citric acid \n",
    "4. residual sugar \n",
    "5. chlorides \n",
    "6. free sulfur dioxide \n",
    "7. total sulfur dioxide \n",
    "8. density \n",
    "9. pH \n",
    "10. sulphates \n",
    "11. alcohol \n",
    "\n",
    "Output variable (based on sensory data): \n",
    "12. quality (score between 0 and 10)"
   ]
  },
  {
   "cell_type": "code",
   "execution_count": 3,
   "metadata": {},
   "outputs": [
    {
     "data": {
      "text/plain": [
       "['01-ign.csv', '02-winequality-red.csv', '02-winequality-white.csv']"
      ]
     },
     "execution_count": 3,
     "metadata": {},
     "output_type": "execute_result"
    }
   ],
   "source": [
    "# Set directory for the data\n",
    "import os\n",
    "path = 'C:\\\\Users\\\\' + os.getlogin() + '\\\\Documents\\\\Programming\\\\Python\\\\MachineLearning\\\\Data'\n",
    "os.chdir(path)\n",
    "os.getcwd()\n",
    "os.listdir()"
   ]
  },
  {
   "cell_type": "markdown",
   "metadata": {},
   "source": [
    "### Lists Of Lists for CSV Data\n",
    "Before using NumPy, we’ll first try to work with the data using Python and the csv package. We can read in the file using the csv.reader object, which will allow us to read in and split up all the content from the csv file."
   ]
  },
  {
   "cell_type": "markdown",
   "metadata": {},
   "source": [
    "In the below code, we:\n",
    "\n",
    "- Import the csv library.\n",
    "- Open the winequality-red.csv file.\n",
    "    - With the file open, create a new csv.reader object.\n",
    "        - Pass in the keyword argument delimiter=\";\" to make sure that the records are split up on the semicolon character instead of the default comma character.\n",
    "    - Call the list type to get all the rows from the file.\n",
    "    - Assign the result to wines."
   ]
  },
  {
   "cell_type": "code",
   "execution_count": 5,
   "metadata": {},
   "outputs": [
    {
     "name": "stdout",
     "output_type": "stream",
     "text": [
      "[['fixed acidity', 'volatile acidity', 'citric acid', 'residual sugar', 'chlorides', 'free sulfur dioxide', 'total sulfur dioxide', 'density', 'pH', 'sulphates', 'alcohol', 'quality'], ['7.4', '0.7', '0', '1.9', '0.076', '11', '34', '0.9978', '3.51', '0.56', '9.4', '5'], ['7.8', '0.88', '0', '2.6', '0.098', '25', '67', '0.9968', '3.2', '0.68', '9.8', '5']]\n"
     ]
    }
   ],
   "source": [
    "'''Import the csv library'''\n",
    "import csv\n",
    "\n",
    "'''\n",
    "Open the 02-winequality-red.csv file as a new csv.reader() object and pass\n",
    "in the keyword argument delimiter=';' to make sure that the records are split up\n",
    "on the semicolon character instead of the default value ','\n",
    "'''\n",
    "with open('02-winequality-red.csv', 'r') as f:  # Open in read mode\n",
    "    '''\n",
    "    The data has been read into a list of lists.\n",
    "    Each inner list is a row from the csv file and each item in the entire\n",
    "    list of lists is represented as a string.\n",
    "    \n",
    "    Call the list type and assign the results to wines\n",
    "    '''\n",
    "    wines = list(csv.reader(f, delimiter=';'))\n",
    "print(wines[:3])"
   ]
  },
  {
   "cell_type": "markdown",
   "metadata": {},
   "source": [
    "Format the data into a table to make it easier to read and work with.\n",
    "- Extract the last element from each row after the header row.\n",
    "- Convert each extracted element to a float.\n",
    "- Assign all the extracted elements to the list qualities.\n",
    "- Divide the sum of all the elements in qualities by the total number of elements in qualities to the get the mean.\n"
   ]
  },
  {
   "cell_type": "code",
   "execution_count": 9,
   "metadata": {},
   "outputs": [
    {
     "name": "stdout",
     "output_type": "stream",
     "text": [
      "[5.0, 5.0, 5.0, 6.0, 5.0]\n"
     ]
    },
    {
     "data": {
      "text/plain": [
       "5.6360225140712945"
      ]
     },
     "execution_count": 9,
     "metadata": {},
     "output_type": "execute_result"
    }
   ],
   "source": [
    "# Assign qualities\n",
    "qualities = [float(item[-1]) for item in wines[1:]]\n",
    "print(qualities[:5])\n",
    "\n",
    "# Divide the sum of all the elements by the total number of elements \n",
    "mean_quality = sum(qualities)/len(qualities)\n",
    "mean_quality"
   ]
  },
  {
   "cell_type": "markdown",
   "metadata": {},
   "source": [
    "Although we were able to do the calculation we wanted, the code is fairly complex, and it won’t be fun to have to do something similar every time we want to compute a quantity. Luckily, we can use NumPy to make it easier to work with our data."
   ]
  },
  {
   "cell_type": "markdown",
   "metadata": {},
   "source": [
    "### NumPy 2 - Dimensional Arrays (Matrices)\n",
    "\n",
    "With NumPy, we work with multidimensional arrays. We’ll dive into all of the possible types of multidimensional arrays later on, but for now, we’ll focus on 2-dimensional arrays. \n",
    "\n",
    "A 2-dimensional array is also known as a matrix, and is something you should be familiar with. In fact, it’s just a different way of thinking about a list of lists. A matrix has rows and columns. By specifying a row number and a column number, we’re able to extract an element from a matrix."
   ]
  },
  {
   "cell_type": "markdown",
   "metadata": {},
   "source": [
    "If we picked the element at the first row and the second column, we’d get volatile acidity. If we picked the element in the third row and the second column, we’d get 0.88.\n",
    "\n",
    "In a NumPy array, the number of dimensions is called the rank, and each dimension is called an axis. So the rows are the first axis, and the columns are the second axis.\n",
    "\n",
    "Now that you understand the basics of matrices, let’s see how we can get from our list of lists to a NumPy array."
   ]
  },
  {
   "cell_type": "markdown",
   "metadata": {},
   "source": [
    "### Creating A NumPy Array\n",
    "We can create a NumPy array using the numpy.array function. \n",
    "\n",
    "#### Pass in a list to the numpy.array() function\n",
    "If we pass in a list of lists, it will automatically create a NumPy array with the same number of rows and columns. \n",
    "\n",
    "Because we want all of the elements in the array to be float elements for easy computation, we’ll leave off the header row, which contains strings. \n",
    "\n",
    "#### All elements in an array have to be of the same type.\n",
    "One of the limitations of NumPy is that all the elements in an array have to be of the same type, so if we include the header row, all the elements in the array will be read in as strings. Because we want to be able to do computations like find the average quality of the wines, we need the elements to all be floats."
   ]
  },
  {
   "cell_type": "markdown",
   "metadata": {},
   "source": [
    "- Import the numpy package.\n",
    "- Pass the list of lists wines into the array function, which converts it into a NumPy array.\n",
    "    - Exclude the header row with list slicing.\n",
    "    - Specify the keyword argument dtype to make sure each element is converted to a float. We’ll dive more into what the dtype is later on."
   ]
  },
  {
   "cell_type": "code",
   "execution_count": 10,
   "metadata": {},
   "outputs": [],
   "source": [
    "import csv\n",
    "import numpy as np\n",
    "\n",
    "with open('02-winequality-red.csv', 'r') as f:\n",
    "    wines = list(csv.reader(f, delimiter=';'))\n",
    "\n",
    "# Pass in a list into the np.array() function and \n",
    "# the argument np.float for the dtype parameter\n",
    "wines = np.array(wines[1:], dtype=np.float)"
   ]
  },
  {
   "cell_type": "code",
   "execution_count": 27,
   "metadata": {},
   "outputs": [
    {
     "name": "stdout",
     "output_type": "stream",
     "text": [
      "[[7.400e+00 7.000e-01 0.000e+00 1.900e+00 7.600e-02 1.100e+01 3.400e+01\n",
      "  9.978e-01 3.510e+00 5.600e-01 9.400e+00 5.000e+00]\n",
      " [7.800e+00 8.800e-01 0.000e+00 2.600e+00 9.800e-02 2.500e+01 6.700e+01\n",
      "  9.968e-01 3.200e+00 6.800e-01 9.800e+00 5.000e+00]\n",
      " [7.800e+00 7.600e-01 4.000e-02 2.300e+00 9.200e-02 1.500e+01 5.400e+01\n",
      "  9.970e-01 3.260e+00 6.500e-01 9.800e+00 5.000e+00]]\n",
      "[0.7  0.88 0.76]\n",
      "[ 7.8     0.88    0.      2.6     0.098  25.     67.      0.9968  3.2\n",
      "  0.68    9.8     5.    ]\n",
      "7.8\n",
      "7.8\n"
     ]
    }
   ],
   "source": [
    "# Print top 3 rows\n",
    "print(wines[:3])\n",
    "\n",
    "# Get first 3\n",
    "print(wines[0:3,1])\n",
    "\n",
    "# First element\n",
    "print(wines[1])\n",
    "\n",
    "# Inner of first element\n",
    "print(wines[1,0])\n",
    "print(wines[1][0])"
   ]
  },
  {
   "cell_type": "code",
   "execution_count": 12,
   "metadata": {},
   "outputs": [
    {
     "data": {
      "text/plain": [
       "(1599, 12)"
      ]
     },
     "execution_count": 12,
     "metadata": {},
     "output_type": "execute_result"
    }
   ],
   "source": [
    "# Get shape\n",
    "wines.shape"
   ]
  },
  {
   "cell_type": "markdown",
   "metadata": {},
   "source": [
    "### Alternative NumPy Array Creation Methods"
   ]
  },
  {
   "cell_type": "code",
   "execution_count": 29,
   "metadata": {},
   "outputs": [
    {
     "data": {
      "text/plain": [
       "array([[0., 0., 0., 0.],\n",
       "       [0., 0., 0., 0.],\n",
       "       [0., 0., 0., 0.]])"
      ]
     },
     "execution_count": 29,
     "metadata": {},
     "output_type": "execute_result"
    }
   ],
   "source": [
    "# Create an array with 3 rows and 4 columns with all elements as 0\n",
    "import numpy as np\n",
    "empty_array = np.zeros((3,4))  # np.zeros((x,y))\n",
    "empty_array"
   ]
  },
  {
   "cell_type": "code",
   "execution_count": 30,
   "metadata": {},
   "outputs": [
    {
     "data": {
      "text/plain": [
       "array([[0.21064211, 0.35498152, 0.4917327 , 0.57312747],\n",
       "       [0.80387808, 0.54334451, 0.65611305, 0.23077667],\n",
       "       [0.85540526, 0.24779613, 0.80526936, 0.26987374]])"
      ]
     },
     "execution_count": 30,
     "metadata": {},
     "output_type": "execute_result"
    }
   ],
   "source": [
    "# Create an array with random values as elements\n",
    "import numpy as np\n",
    "random_array = np.random.rand(3,4)  # np.random.rand()\n",
    "random_array"
   ]
  },
  {
   "cell_type": "markdown",
   "metadata": {},
   "source": [
    "Creating arrays full of random numbers can be useful when you want to quickly test your code with sample arrays."
   ]
  },
  {
   "cell_type": "markdown",
   "metadata": {},
   "source": [
    "### Using NumPy To Read In Files\n",
    "It’s possible to use NumPy to directly read csv or other files into arrays. We can do this using the numpy.genfromtxt function. We can use it to read in our initial data on red wines.\n",
    "\n",
    "In the below code, we:\n",
    "\n",
    "- Use the genfromtxt function to read in the winequality-red.csv file.\n",
    "- Specify the keyword argument delimiter=\";\" so that the fields are parsed properly.\n",
    "- Specify the keyword argument skip_header=1 so that the header row is skipped."
   ]
  },
  {
   "cell_type": "code",
   "execution_count": 39,
   "metadata": {},
   "outputs": [
    {
     "data": {
      "text/plain": [
       "array([ 7.8   ,  0.88  ,  0.    ,  2.6   ,  0.098 , 25.    , 67.    ,\n",
       "        0.9968,  3.2   ,  0.68  ,  9.8   ,  5.    ])"
      ]
     },
     "execution_count": 39,
     "metadata": {},
     "output_type": "execute_result"
    }
   ],
   "source": [
    "# Use the genfromtxt() function to directly read csv into an array\n",
    "wines = np.genfromtxt('02-winequality-red.csv', delimiter=';', skip_header=1)\n",
    "wines[1]"
   ]
  },
  {
   "cell_type": "markdown",
   "metadata": {},
   "source": [
    "The dataset will end up looking the same as if we read it into a list then converted in to an array of floats. NumPy will automatically pick a data type for the elements in an array based on their format."
   ]
  },
  {
   "cell_type": "markdown",
   "metadata": {},
   "source": [
    "### Indexing NumPy Arrays\n",
    "We now know how to create arrays, but unless we can retrieve results from them, there isn’t a lot we can do with NumPy. We can use array indexing to select individual elements, groups of elements, or entire rows and columns. One important thing to keep in mind is that just like Python lists, NumPy is zero-indexed, meaning that the index of the first row is 0, and the index of the first column is 0. If we want to work with the fourth row, we’d use index 3, if we want to work with the second row, we’d use index 1, and so on. "
   ]
  },
  {
   "cell_type": "code",
   "execution_count": 40,
   "metadata": {},
   "outputs": [
    {
     "data": {
      "text/plain": [
       "2.3"
      ]
     },
     "execution_count": 40,
     "metadata": {},
     "output_type": "execute_result"
    }
   ],
   "source": [
    "wines[2,3]  # specify 2 indexes to retrieve an element"
   ]
  },
  {
   "cell_type": "markdown",
   "metadata": {},
   "source": [
    "Since we’re working with a 2-dimensional array in NumPy, we specify 2 indexes to retrieve an element. The first index is the row, or axis 1, index, and the second index is the column, or axis 2, index. Any element in wines can be retrieved using 2 indexes."
   ]
  },
  {
   "cell_type": "markdown",
   "metadata": {},
   "source": [
    "### Slicing NumPy Arrays\n",
    "If we instead want to select the first three items from the fourth column, we can do it using a colon (:). A colon indicates that we want to select all the elements from the starting index up to but not including the ending index. "
   ]
  },
  {
   "cell_type": "code",
   "execution_count": 41,
   "metadata": {},
   "outputs": [
    {
     "data": {
      "text/plain": [
       "array([1.9, 2.6, 2.3])"
      ]
     },
     "execution_count": 41,
     "metadata": {},
     "output_type": "execute_result"
    }
   ],
   "source": [
    "# Select the first three items from the fourth column\n",
    "wines[0:3,3]"
   ]
  },
  {
   "cell_type": "code",
   "execution_count": 42,
   "metadata": {},
   "outputs": [
    {
     "data": {
      "text/plain": [
       "array([1.9, 2.6, 2.3])"
      ]
     },
     "execution_count": 42,
     "metadata": {},
     "output_type": "execute_result"
    }
   ],
   "source": [
    "# Retrieve all the elements from the beginning up to the third\n",
    "wines[:3,3]"
   ]
  },
  {
   "cell_type": "markdown",
   "metadata": {},
   "source": [
    "We can select an entire column by specifying that we want all the elements, from the first to the last. We specify this by just using the colon (:), with no starting or ending indices. The below code will select the entire fourth column:"
   ]
  },
  {
   "cell_type": "code",
   "execution_count": 43,
   "metadata": {},
   "outputs": [
    {
     "data": {
      "text/plain": [
       "array([1.9, 2.6, 2.3, ..., 2.3, 2. , 3.6])"
      ]
     },
     "execution_count": 43,
     "metadata": {},
     "output_type": "execute_result"
    }
   ],
   "source": [
    "# Select the third column and all elements\n",
    "wines[:,3]"
   ]
  },
  {
   "cell_type": "code",
   "execution_count": 48,
   "metadata": {},
   "outputs": [
    {
     "data": {
      "text/plain": [
       "array([ 7.8   ,  0.88  ,  0.    ,  2.6   ,  0.098 , 25.    , 67.    ,\n",
       "        0.9968,  3.2   ,  0.68  ,  9.8   ,  5.    ])"
      ]
     },
     "execution_count": 48,
     "metadata": {},
     "output_type": "execute_result"
    }
   ],
   "source": [
    "# Second element (row)\n",
    "wines[1]"
   ]
  },
  {
   "cell_type": "code",
   "execution_count": 49,
   "metadata": {},
   "outputs": [
    {
     "data": {
      "text/plain": [
       "array([[ 7.4  ,  0.7  ,  0.   , ...,  0.56 ,  9.4  ,  5.   ],\n",
       "       [ 7.8  ,  0.88 ,  0.   , ...,  0.68 ,  9.8  ,  5.   ],\n",
       "       [ 7.8  ,  0.76 ,  0.04 , ...,  0.65 ,  9.8  ,  5.   ],\n",
       "       ...,\n",
       "       [ 6.3  ,  0.51 ,  0.13 , ...,  0.75 , 11.   ,  6.   ],\n",
       "       [ 5.9  ,  0.645,  0.12 , ...,  0.71 , 10.2  ,  5.   ],\n",
       "       [ 6.   ,  0.31 ,  0.47 , ...,  0.66 , 11.   ,  6.   ]])"
      ]
     },
     "execution_count": 49,
     "metadata": {},
     "output_type": "execute_result"
    }
   ],
   "source": [
    "wines"
   ]
  },
  {
   "cell_type": "code",
   "execution_count": 51,
   "metadata": {},
   "outputs": [
    {
     "data": {
      "text/plain": [
       "array([ 7.8   ,  0.88  ,  0.    ,  2.6   ,  0.098 , 25.    , 67.    ,\n",
       "        0.9968,  3.2   ,  0.68  ,  9.8   ,  5.    ])"
      ]
     },
     "execution_count": 51,
     "metadata": {},
     "output_type": "execute_result"
    }
   ],
   "source": [
    "# Extract entire row\n",
    "wines[1,:]  # wines[1] equivalent"
   ]
  },
  {
   "cell_type": "code",
   "execution_count": 53,
   "metadata": {},
   "outputs": [
    {
     "data": {
      "text/plain": [
       "array([ 0.7   ,  0.    ,  1.9   ,  0.076 , 11.    , 34.    ,  0.9978,\n",
       "        3.51  ,  0.56  ,  9.4   ,  5.    ])"
      ]
     },
     "execution_count": 53,
     "metadata": {},
     "output_type": "execute_result"
    }
   ],
   "source": [
    "wines[0,1:]  # What is this indexing..."
   ]
  },
  {
   "cell_type": "markdown",
   "metadata": {},
   "source": [
    "If we take our indexing to the extreme, we can select the entire array using two colons to select all the rows and columns in wines. This is a great party trick, but doesn’t have a lot of good applications:"
   ]
  },
  {
   "cell_type": "code",
   "execution_count": 54,
   "metadata": {},
   "outputs": [
    {
     "data": {
      "text/plain": [
       "array([[ 7.4  ,  0.7  ,  0.   , ...,  0.56 ,  9.4  ,  5.   ],\n",
       "       [ 7.8  ,  0.88 ,  0.   , ...,  0.68 ,  9.8  ,  5.   ],\n",
       "       [ 7.8  ,  0.76 ,  0.04 , ...,  0.65 ,  9.8  ,  5.   ],\n",
       "       ...,\n",
       "       [ 6.3  ,  0.51 ,  0.13 , ...,  0.75 , 11.   ,  6.   ],\n",
       "       [ 5.9  ,  0.645,  0.12 , ...,  0.71 , 10.2  ,  5.   ],\n",
       "       [ 6.   ,  0.31 ,  0.47 , ...,  0.66 , 11.   ,  6.   ]])"
      ]
     },
     "execution_count": 54,
     "metadata": {},
     "output_type": "execute_result"
    }
   ],
   "source": [
    "wines[:,:]"
   ]
  },
  {
   "cell_type": "markdown",
   "metadata": {},
   "source": [
    "### Assigning Values To NumPy Arrays\n",
    "We can also use indexing to assign values to certain elements in arrays. We can do this by assigning directly to the indexed value:"
   ]
  },
  {
   "cell_type": "code",
   "execution_count": 56,
   "metadata": {},
   "outputs": [
    {
     "data": {
      "text/plain": [
       "array([ 7.8   ,  0.88  ,  0.    ,  2.6   ,  0.098 , 25.    , 67.    ,\n",
       "        0.9968,  3.2   ,  0.68  ,  9.8   ,  5.    ])"
      ]
     },
     "execution_count": 56,
     "metadata": {},
     "output_type": "execute_result"
    }
   ],
   "source": [
    "wines[1,] # First element"
   ]
  },
  {
   "cell_type": "code",
   "execution_count": 58,
   "metadata": {},
   "outputs": [
    {
     "data": {
      "text/plain": [
       "array([11., 25., 15., ..., 29., 32., 18.])"
      ]
     },
     "execution_count": 58,
     "metadata": {},
     "output_type": "execute_result"
    }
   ],
   "source": [
    "wines[:,5] # Fifth column"
   ]
  },
  {
   "cell_type": "code",
   "execution_count": 59,
   "metadata": {},
   "outputs": [
    {
     "data": {
      "text/plain": [
       "25.0"
      ]
     },
     "execution_count": 59,
     "metadata": {},
     "output_type": "execute_result"
    }
   ],
   "source": [
    "wines[1,5] # First row & fifth column"
   ]
  },
  {
   "cell_type": "code",
   "execution_count": 60,
   "metadata": {},
   "outputs": [],
   "source": [
    "wines[1,5] = 10"
   ]
  },
  {
   "cell_type": "code",
   "execution_count": 61,
   "metadata": {},
   "outputs": [
    {
     "data": {
      "text/plain": [
       "10.0"
      ]
     },
     "execution_count": 61,
     "metadata": {},
     "output_type": "execute_result"
    }
   ],
   "source": [
    "wines[1,5] # 25 changed to 10"
   ]
  },
  {
   "cell_type": "code",
   "execution_count": 62,
   "metadata": {},
   "outputs": [
    {
     "data": {
      "text/plain": [
       "array([11., 10., 15., ..., 29., 32., 18.])"
      ]
     },
     "execution_count": 62,
     "metadata": {},
     "output_type": "execute_result"
    }
   ],
   "source": [
    "wines[:,5] # show fifth column, the 25 is now a 10"
   ]
  },
  {
   "cell_type": "code",
   "execution_count": 63,
   "metadata": {},
   "outputs": [
    {
     "data": {
      "text/plain": [
       "array([ 7.8   ,  0.88  ,  0.    ,  2.6   ,  0.098 , 10.    , 67.    ,\n",
       "        0.9968,  3.2   ,  0.68  ,  9.8   ,  5.    ])"
      ]
     },
     "execution_count": 63,
     "metadata": {},
     "output_type": "execute_result"
    }
   ],
   "source": [
    "wines[1,] # First element same as wines[1]"
   ]
  },
  {
   "cell_type": "code",
   "execution_count": 64,
   "metadata": {},
   "outputs": [
    {
     "data": {
      "text/plain": [
       "array([ 7.8   ,  0.88  ,  0.    ,  2.6   ,  0.098 , 10.    , 67.    ,\n",
       "        0.9968,  3.2   ,  0.68  ,  9.8   ,  5.    ])"
      ]
     },
     "execution_count": 64,
     "metadata": {},
     "output_type": "execute_result"
    }
   ],
   "source": [
    "wines[1] # First element same as wines[1,]"
   ]
  },
  {
   "cell_type": "markdown",
   "metadata": {},
   "source": [
    "### 1-Dimensional NumPy Arrays\n",
    "So far, we’ve worked with 2-dimensional arrays, such as wines. However, NumPy is a package for working with multidimensional arrays. One of the most common types of multidimensional arrays is the 1-dimensional array, or vector. As you may have noticed above, when we sliced wines, we retrieved a 1-dimensional array. \n",
    "\n",
    "A 1-dimensional array only needs a single index to retrieve an element. Each row and column in a 2-dimensional array is a 1-dimensional array. Just like a list of lists is analogous to a 2-dimensional array, a single list is analogous to a 1-dimensional array. If we slice wines and only retrieve the third row, we get a 1-dimensional array:"
   ]
  },
  {
   "cell_type": "code",
   "execution_count": 65,
   "metadata": {},
   "outputs": [
    {
     "data": {
      "text/plain": [
       "array([11.2  ,  0.28 ,  0.56 ,  1.9  ,  0.075, 17.   , 60.   ,  0.998,\n",
       "        3.16 ,  0.58 ,  9.8  ,  6.   ])"
      ]
     },
     "execution_count": 65,
     "metadata": {},
     "output_type": "execute_result"
    }
   ],
   "source": [
    "# 1D array only needs a single index to retrieve an element\n",
    "third_wine = wines[3,:]\n",
    "third_wine"
   ]
  },
  {
   "cell_type": "code",
   "execution_count": 66,
   "metadata": {},
   "outputs": [
    {
     "data": {
      "text/plain": [
       "array([11.2  ,  0.28 ,  0.56 ,  1.9  ,  0.075, 17.   , 60.   ,  0.998,\n",
       "        3.16 ,  0.58 ,  9.8  ,  6.   ])"
      ]
     },
     "execution_count": 66,
     "metadata": {},
     "output_type": "execute_result"
    }
   ],
   "source": [
    "wines[3,] # same thing as above without ':' because it's indexing for all"
   ]
  },
  {
   "cell_type": "code",
   "execution_count": 67,
   "metadata": {},
   "outputs": [
    {
     "data": {
      "text/plain": [
       "0.28"
      ]
     },
     "execution_count": 67,
     "metadata": {},
     "output_type": "execute_result"
    }
   ],
   "source": [
    "# Retrieve individual elements from third_wine using a single index\n",
    "third_wine[1]"
   ]
  },
  {
   "cell_type": "code",
   "execution_count": 68,
   "metadata": {},
   "outputs": [
    {
     "data": {
      "text/plain": [
       "array([0.46774995, 0.34988034, 0.271651  ])"
      ]
     },
     "execution_count": 68,
     "metadata": {},
     "output_type": "execute_result"
    }
   ],
   "source": [
    "# Generate a random vector using np.random.rand()\n",
    "np.random.rand(3)"
   ]
  },
  {
   "cell_type": "code",
   "execution_count": 72,
   "metadata": {},
   "outputs": [
    {
     "data": {
      "text/plain": [
       "array([[0.12645679, 0.87573413, 0.81230444, 0.13758032],\n",
       "       [0.22722529, 0.11634374, 0.81273009, 0.4369269 ],\n",
       "       [0.94293411, 0.05208825, 0.1073651 , 0.50810366]])"
      ]
     },
     "execution_count": 72,
     "metadata": {},
     "output_type": "execute_result"
    }
   ],
   "source": [
    "# Pass in a shape for a 2D array\n",
    "np.random.rand(3,4) # 3x4 matrix (array)"
   ]
  },
  {
   "cell_type": "markdown",
   "metadata": {},
   "source": [
    "Previously, when we called np.random.rand, we passed in a shape for a 2-dimensional array, so the result was a 2-dimensional array. This time, we passed in a shape for a single dimensional array. The shape specifies the number of dimensions, and the size of the array in each dimension. A shape of (10,10) will be a 2-dimensional array with 10 rows and 10 columns. A shape of (10,) will be a 1-dimensional array with 10 elements.\n",
    "\n",
    "Where NumPy gets more complex is when we start to deal with arrays that have more than 2 dimensions."
   ]
  },
  {
   "cell_type": "markdown",
   "metadata": {},
   "source": [
    "### N-Dimensional NumPy Arrays\n",
    "This doesn’t happen extremely often, but there are cases when you’ll want to deal with arrays that have greater than 3 dimensions. One way to think of this is as a list of lists of lists. Let’s say we want to store the monthly earnings of a store, but we want to be able to quickly lookup the results for a quarter, and for a year. The earnings for one year might look like this:\n",
    "- [500, 505, 490, 810, 450, 678, 234, 897, 430, 560, 1023, 640]"
   ]
  },
  {
   "cell_type": "markdown",
   "metadata": {},
   "source": [
    "The store earned 500 in January, 505 in February, and so on. We can split up these earnings by quarter into a list of lists:"
   ]
  },
  {
   "cell_type": "code",
   "execution_count": 73,
   "metadata": {},
   "outputs": [
    {
     "data": {
      "text/plain": [
       "[[500, 505, 490], [810, 450, 678], [234, 897, 430], [560, 1023, 640]]"
      ]
     },
     "execution_count": 73,
     "metadata": {},
     "output_type": "execute_result"
    }
   ],
   "source": [
    "# Create an array\n",
    "year_one = [\n",
    "    [500,505,490],\n",
    "    [810,450,678],\n",
    "    [234,897,430],\n",
    "    [560,1023,640]\n",
    "]\n",
    "\n",
    "year_one"
   ]
  },
  {
   "cell_type": "markdown",
   "metadata": {},
   "source": [
    "We can retrieve the earnings from January by calling year_one[0][0]. If we want the results for a whole quarter, we can call year_one[0] or year_one[1]. We now have a 2-dimensional array, or matrix. But what if we now want to add the results from another year? We have to add a third dimension:"
   ]
  },
  {
   "cell_type": "code",
   "execution_count": 74,
   "metadata": {},
   "outputs": [
    {
     "data": {
      "text/plain": [
       "[500, 505, 490]"
      ]
     },
     "execution_count": 74,
     "metadata": {},
     "output_type": "execute_result"
    }
   ],
   "source": [
    "year_one[0]"
   ]
  },
  {
   "cell_type": "code",
   "execution_count": 75,
   "metadata": {},
   "outputs": [
    {
     "data": {
      "text/plain": [
       "500"
      ]
     },
     "execution_count": 75,
     "metadata": {},
     "output_type": "execute_result"
    }
   ],
   "source": [
    "year_one[0][0]"
   ]
  },
  {
   "cell_type": "code",
   "execution_count": 76,
   "metadata": {},
   "outputs": [
    {
     "data": {
      "text/plain": [
       "[[[500, 505, 490], [810, 450, 678], [234, 897, 430], [560, 1023, 640]],\n",
       " [[600, 605, 490], [345, 900, 1000], [780, 730, 710], [670, 540, 324]]]"
      ]
     },
     "execution_count": 76,
     "metadata": {},
     "output_type": "execute_result"
    }
   ],
   "source": [
    "earnings = [\n",
    "    [\n",
    "        [500,505,490],\n",
    "        [810,450,678],\n",
    "        [234,897,430],\n",
    "        [560,1023,640]\n",
    "    ],\n",
    "    [\n",
    "        [600,605,490],\n",
    "        [345,900,1000],\n",
    "        [780,730,710],\n",
    "        [670,540,324]\n",
    "    ]\n",
    "]\n",
    "earnings"
   ]
  },
  {
   "cell_type": "code",
   "execution_count": 77,
   "metadata": {},
   "outputs": [
    {
     "data": {
      "text/plain": [
       "[[500, 505, 490], [810, 450, 678], [234, 897, 430], [560, 1023, 640]]"
      ]
     },
     "execution_count": 77,
     "metadata": {},
     "output_type": "execute_result"
    }
   ],
   "source": [
    "earnings[0]"
   ]
  },
  {
   "cell_type": "code",
   "execution_count": 79,
   "metadata": {},
   "outputs": [
    {
     "data": {
      "text/plain": [
       "[500, 505, 490]"
      ]
     },
     "execution_count": 79,
     "metadata": {},
     "output_type": "execute_result"
    }
   ],
   "source": [
    "earnings[0][0]"
   ]
  },
  {
   "cell_type": "code",
   "execution_count": 80,
   "metadata": {},
   "outputs": [
    {
     "data": {
      "text/plain": [
       "500"
      ]
     },
     "execution_count": 80,
     "metadata": {},
     "output_type": "execute_result"
    }
   ],
   "source": [
    "earnings[0][0][0]"
   ]
  },
  {
   "cell_type": "markdown",
   "metadata": {},
   "source": [
    "We can retrieve the earnings from January of the first year by calling earnings[0][0][0]. We now need three indexes to retrieve a single element. A three-dimensional array in NumPy is much the same. In fact, we can convert earnings to an array and then get the earnings for January of the first year:"
   ]
  },
  {
   "cell_type": "code",
   "execution_count": 83,
   "metadata": {},
   "outputs": [
    {
     "data": {
      "text/plain": [
       "500"
      ]
     },
     "execution_count": 83,
     "metadata": {},
     "output_type": "execute_result"
    }
   ],
   "source": [
    "# Convert array into earnings variable\n",
    "type(earnings)  # list\n",
    "earnings = np.array(earnings)\n",
    "earnings[0,0,0]  # vs list indexing [0][0][0]"
   ]
  },
  {
   "cell_type": "code",
   "execution_count": 84,
   "metadata": {},
   "outputs": [
    {
     "data": {
      "text/plain": [
       "(2, 4, 3)"
      ]
     },
     "execution_count": 84,
     "metadata": {},
     "output_type": "execute_result"
    }
   ],
   "source": [
    "# Get shape of the array\n",
    "earnings.shape"
   ]
  },
  {
   "cell_type": "markdown",
   "metadata": {},
   "source": [
    "Indexing and slicing work the exact same way with a 3-dimensional array, but now we have an extra axis to pass in. If we wanted to get the earnings for January of all years, we could do this:"
   ]
  },
  {
   "cell_type": "code",
   "execution_count": 86,
   "metadata": {},
   "outputs": [
    {
     "data": {
      "text/plain": [
       "array([[[ 500,  505,  490],\n",
       "        [ 810,  450,  678],\n",
       "        [ 234,  897,  430],\n",
       "        [ 560, 1023,  640]],\n",
       "\n",
       "       [[ 600,  605,  490],\n",
       "        [ 345,  900, 1000],\n",
       "        [ 780,  730,  710],\n",
       "        [ 670,  540,  324]]])"
      ]
     },
     "execution_count": 86,
     "metadata": {},
     "output_type": "execute_result"
    }
   ],
   "source": [
    "earnings[:]"
   ]
  },
  {
   "cell_type": "code",
   "execution_count": 87,
   "metadata": {},
   "outputs": [
    {
     "data": {
      "text/plain": [
       "array([500, 600])"
      ]
     },
     "execution_count": 87,
     "metadata": {},
     "output_type": "execute_result"
    }
   ],
   "source": [
    "earnings[:,0,0]"
   ]
  },
  {
   "cell_type": "code",
   "execution_count": 88,
   "metadata": {},
   "outputs": [
    {
     "data": {
      "text/plain": [
       "array([505, 605])"
      ]
     },
     "execution_count": 88,
     "metadata": {},
     "output_type": "execute_result"
    }
   ],
   "source": [
    "earnings[:,0,1]"
   ]
  },
  {
   "cell_type": "code",
   "execution_count": 89,
   "metadata": {},
   "outputs": [
    {
     "data": {
      "text/plain": [
       "array([450, 900])"
      ]
     },
     "execution_count": 89,
     "metadata": {},
     "output_type": "execute_result"
    }
   ],
   "source": [
    "earnings[:,1,1]"
   ]
  },
  {
   "cell_type": "code",
   "execution_count": 90,
   "metadata": {},
   "outputs": [
    {
     "data": {
      "text/plain": [
       "array([500, 600])"
      ]
     },
     "execution_count": 90,
     "metadata": {},
     "output_type": "execute_result"
    }
   ],
   "source": [
    "earnings[:,0,0]"
   ]
  },
  {
   "cell_type": "code",
   "execution_count": 91,
   "metadata": {},
   "outputs": [
    {
     "data": {
      "text/plain": [
       "array([[500, 505, 490],\n",
       "       [600, 605, 490]])"
      ]
     },
     "execution_count": 91,
     "metadata": {},
     "output_type": "execute_result"
    }
   ],
   "source": [
    "# Get earnings for January of all years\n",
    "earnings[:,0,:]"
   ]
  },
  {
   "cell_type": "markdown",
   "metadata": {},
   "source": [
    "Adding more dimensions can make it much easier to query your data if it’s organized in a certain way. As we go from 3-dimensional arrays to 4-dimensional and larger arrays, the same properties apply, and they can be indexed and sliced in the same ways."
   ]
  },
  {
   "cell_type": "markdown",
   "metadata": {},
   "source": [
    "### NumPy Data Types\n",
    "As we mentioned earlier, each NumPy array can store elements of a single data type. For example, wines contains only float values. NumPy stores values using its own data types, which are distinct from Python types like float and str. This is because the core of NumPy is written in a programming language called C, which stores data differently than the Python data types. NumPy data types map between Python and C, allowing us to use NumPy arrays without any conversion hitches.\n",
    "\n",
    "You can find the data type of a NumPy array by accessing the dtype property:"
   ]
  },
  {
   "cell_type": "code",
   "execution_count": 92,
   "metadata": {},
   "outputs": [
    {
     "data": {
      "text/plain": [
       "dtype('float64')"
      ]
     },
     "execution_count": 92,
     "metadata": {},
     "output_type": "execute_result"
    }
   ],
   "source": [
    "# Find the NumPy array type\n",
    "wines.dtype"
   ]
  },
  {
   "cell_type": "markdown",
   "metadata": {},
   "source": [
    "### Converting Data Types\n",
    "You can use the numpy.ndarray.astype method to convert an array to a different type. The method will actually copy the array, and return a new array with the specified data type. For instance, we can convert wines to the int data type:"
   ]
  },
  {
   "cell_type": "code",
   "execution_count": 93,
   "metadata": {},
   "outputs": [
    {
     "data": {
      "text/plain": [
       "array([[ 7,  0,  0, ...,  0,  9,  5],\n",
       "       [ 7,  0,  0, ...,  0,  9,  5],\n",
       "       [ 7,  0,  0, ...,  0,  9,  5],\n",
       "       ...,\n",
       "       [ 6,  0,  0, ...,  0, 11,  6],\n",
       "       [ 5,  0,  0, ...,  0, 10,  5],\n",
       "       [ 6,  0,  0, ...,  0, 11,  6]])"
      ]
     },
     "execution_count": 93,
     "metadata": {},
     "output_type": "execute_result"
    }
   ],
   "source": [
    "wines.astype(int)"
   ]
  },
  {
   "cell_type": "code",
   "execution_count": 94,
   "metadata": {},
   "outputs": [
    {
     "data": {
      "text/plain": [
       "numpy.ndarray"
      ]
     },
     "execution_count": 94,
     "metadata": {},
     "output_type": "execute_result"
    }
   ],
   "source": [
    "type(wines.astype(int))"
   ]
  },
  {
   "cell_type": "code",
   "execution_count": 95,
   "metadata": {},
   "outputs": [
    {
     "data": {
      "text/plain": [
       "numpy.dtype"
      ]
     },
     "execution_count": 95,
     "metadata": {},
     "output_type": "execute_result"
    }
   ],
   "source": [
    "type(wines.astype(int).dtype)"
   ]
  },
  {
   "cell_type": "markdown",
   "metadata": {},
   "source": [
    "As you can see above, all of the items in the resulting array are integers. Note that we used the Python int type instead of a NumPy data type when converting wines. This is because several Python data types, including float, int, and string, can be used with NumPy, and are automatically converted to NumPy data types.\n",
    "\n",
    "We can check the name property of the dtype of the resulting array to see what data type NumPy mapped the resulting array to:"
   ]
  },
  {
   "cell_type": "code",
   "execution_count": 96,
   "metadata": {},
   "outputs": [
    {
     "data": {
      "text/plain": [
       "'int32'"
      ]
     },
     "execution_count": 96,
     "metadata": {},
     "output_type": "execute_result"
    }
   ],
   "source": [
    "int_wines = wines.astype(int)\n",
    "int_wines.dtype.name"
   ]
  },
  {
   "cell_type": "markdown",
   "metadata": {},
   "source": [
    "The array has been converted to a 64-bit integer data type. This allows for very long integer values, but takes up more space in memory than storing the values as 32-bit integers.\n",
    "\n",
    "If you want more control over how the array is stored in memory, you can directly create NumPy dtype objects like numpy.int32:"
   ]
  },
  {
   "cell_type": "code",
   "execution_count": 97,
   "metadata": {},
   "outputs": [
    {
     "data": {
      "text/plain": [
       "numpy.int32"
      ]
     },
     "execution_count": 97,
     "metadata": {},
     "output_type": "execute_result"
    }
   ],
   "source": [
    "# Create NumPy dtype object on how an array is stored in memory\n",
    "np.int32"
   ]
  },
  {
   "cell_type": "code",
   "execution_count": 98,
   "metadata": {},
   "outputs": [
    {
     "data": {
      "text/plain": [
       "array([[ 7,  0,  0, ...,  0,  9,  5],\n",
       "       [ 7,  0,  0, ...,  0,  9,  5],\n",
       "       [ 7,  0,  0, ...,  0,  9,  5],\n",
       "       ...,\n",
       "       [ 6,  0,  0, ...,  0, 11,  6],\n",
       "       [ 5,  0,  0, ...,  0, 10,  5],\n",
       "       [ 6,  0,  0, ...,  0, 11,  6]])"
      ]
     },
     "execution_count": 98,
     "metadata": {},
     "output_type": "execute_result"
    }
   ],
   "source": [
    "wines.astype(np.int32)"
   ]
  },
  {
   "cell_type": "markdown",
   "metadata": {},
   "source": [
    "### NumPy Array Operations\n",
    "NumPy makes it simple to perform mathematical operations on arrays. This is one of the primary advantages of NumPy, and makes it quite easy to do computations.\n",
    "\n",
    "### Single Array Math\n",
    "If you do any of the basic mathematical operations (/, *, -, +, ^) with an array and a value, it will apply the operation to each of the elements in the array.\n",
    "\n",
    "Let’s say we want to add 10 points to each quality score because we’re drunk and feeling generous. Here’s how we’d do that:"
   ]
  },
  {
   "cell_type": "code",
   "execution_count": 100,
   "metadata": {},
   "outputs": [
    {
     "data": {
      "text/plain": [
       "array([5., 5., 5., ..., 6., 5., 6.])"
      ]
     },
     "execution_count": 100,
     "metadata": {},
     "output_type": "execute_result"
    }
   ],
   "source": [
    "wines[:,11]"
   ]
  },
  {
   "cell_type": "code",
   "execution_count": 101,
   "metadata": {},
   "outputs": [
    {
     "data": {
      "text/plain": [
       "array([0.7  , 0.88 , 0.76 , ..., 0.51 , 0.645, 0.31 ])"
      ]
     },
     "execution_count": 101,
     "metadata": {},
     "output_type": "execute_result"
    }
   ],
   "source": [
    "wines[:,1]"
   ]
  },
  {
   "cell_type": "code",
   "execution_count": 103,
   "metadata": {},
   "outputs": [
    {
     "data": {
      "text/plain": [
       "array([5., 5., 5., ..., 6., 5., 6.])"
      ]
     },
     "execution_count": 103,
     "metadata": {},
     "output_type": "execute_result"
    }
   ],
   "source": [
    "wines[:,11]"
   ]
  },
  {
   "cell_type": "code",
   "execution_count": 104,
   "metadata": {},
   "outputs": [
    {
     "data": {
      "text/plain": [
       "array([0.  , 0.  , 0.08, ..., 0.26, 0.24, 0.94])"
      ]
     },
     "execution_count": 104,
     "metadata": {},
     "output_type": "execute_result"
    }
   ],
   "source": [
    "# Multiply each quality score by 2\n",
    "wines[:,2] * 2"
   ]
  },
  {
   "cell_type": "markdown",
   "metadata": {},
   "source": [
    "### Multiple Array Math\n",
    "It’s also possible to do mathematical operations between arrays. This will apply the operation to pairs of elements. For example, if we add the quality column to itself, here’s what we get:"
   ]
  },
  {
   "cell_type": "code",
   "execution_count": 105,
   "metadata": {},
   "outputs": [
    {
     "data": {
      "text/plain": [
       "array([10., 10., 10., ..., 12., 10., 12.])"
      ]
     },
     "execution_count": 105,
     "metadata": {},
     "output_type": "execute_result"
    }
   ],
   "source": [
    "wines[:,11] + wines[:,11]"
   ]
  },
  {
   "cell_type": "markdown",
   "metadata": {},
   "source": [
    "Note that this is equivalent to wines[11] * 2 — this is because NumPy adds each pair of elements. The first element in the first array is added to the first element in the second array, the second to the second, and so on.\n",
    "\n",
    "We can also use this to multiply arrays. Let’s say we want to pick a wine that maximizes alcohol content and quality (we want to get drunk, but we’re classy). We’d multiply alcohol by quality, and select the wine with the highest score:"
   ]
  },
  {
   "cell_type": "code",
   "execution_count": 106,
   "metadata": {},
   "outputs": [
    {
     "data": {
      "text/plain": [
       "array([25., 25., 25., ..., 36., 25., 36.])"
      ]
     },
     "execution_count": 106,
     "metadata": {},
     "output_type": "execute_result"
    }
   ],
   "source": [
    "wines[:,11] * wines[:,11]"
   ]
  },
  {
   "cell_type": "markdown",
   "metadata": {},
   "source": [
    "### Broadcasting\n",
    "Unless the arrays that you’re operating on are the exact same size, it’s not possible to do elementwise operations. In cases like this, NumPy performs broadcasting to try to match up elements. Essentially, broadcasting involves a few steps:\n",
    "\n",
    "- The last dimension of each array is compared.\n",
    "    - If the dimension lengths are equal, or one of the dimensions is of length 1, then we keep going.\n",
    "    - If the dimension lengths aren’t equal, and none of the dimensions have length 1, then there’s an error.\n",
    "- Continue checking dimensions until the shortest array is out of dimensions.\n",
    "For example, the following two shapes are compatible:"
   ]
  },
  {
   "cell_type": "markdown",
   "metadata": {},
   "source": [
    "For example, the following two shapes are compatible:\n",
    "- A: (50,3)\n",
    "- B (3,)\n",
    "\n",
    "This is because the length of the trailing dimension of array A is 3, and the length of the trailing dimension of array B is 3. They’re equal, so that dimension is okay. Array B is then out of elements, so we’re okay, and the arrays are compatible for mathematical operations."
   ]
  },
  {
   "cell_type": "markdown",
   "metadata": {},
   "source": [
    "https://docs.scipy.org/doc/numpy/user/basics.broadcasting.html"
   ]
  },
  {
   "cell_type": "code",
   "execution_count": 108,
   "metadata": {},
   "outputs": [
    {
     "data": {
      "text/plain": [
       "array([4, 5])"
      ]
     },
     "execution_count": 108,
     "metadata": {},
     "output_type": "execute_result"
    }
   ],
   "source": [
    "array_two = np.array([4,5])\n",
    "array_two"
   ]
  },
  {
   "cell_type": "code",
   "execution_count": 110,
   "metadata": {},
   "outputs": [
    {
     "data": {
      "text/plain": [
       "array([[1, 2],\n",
       "       [3, 4]])"
      ]
     },
     "execution_count": 110,
     "metadata": {},
     "output_type": "execute_result"
    }
   ],
   "source": [
    "array_one = np.array(\n",
    "[[1,2],[3,4]])\n",
    "array_one"
   ]
  },
  {
   "cell_type": "code",
   "execution_count": 111,
   "metadata": {},
   "outputs": [
    {
     "data": {
      "text/plain": [
       "array([[5, 7],\n",
       "       [7, 9]])"
      ]
     },
     "execution_count": 111,
     "metadata": {},
     "output_type": "execute_result"
    }
   ],
   "source": [
    "array_one + array_two"
   ]
  },
  {
   "cell_type": "markdown",
   "metadata": {},
   "source": [
    "array_two has been broadcasted across each row of array_one"
   ]
  },
  {
   "cell_type": "code",
   "execution_count": 112,
   "metadata": {},
   "outputs": [
    {
     "data": {
      "text/plain": [
       "array([[16.4  ,  9.7  ,  9.   , ...,  9.56 , 18.4  , 14.   ],\n",
       "       [16.8  ,  9.88 ,  9.   , ...,  9.68 , 18.8  , 14.   ],\n",
       "       [16.8  ,  9.76 ,  9.04 , ...,  9.65 , 18.8  , 14.   ],\n",
       "       ...,\n",
       "       [15.3  ,  9.51 ,  9.13 , ...,  9.75 , 20.   , 15.   ],\n",
       "       [14.9  ,  9.645,  9.12 , ...,  9.71 , 19.2  , 14.   ],\n",
       "       [15.   ,  9.31 ,  9.47 , ...,  9.66 , 20.   , 15.   ]])"
      ]
     },
     "execution_count": 112,
     "metadata": {},
     "output_type": "execute_result"
    }
   ],
   "source": [
    "rand_array = np.random.randint(12)\n",
    "wines + rand_array"
   ]
  },
  {
   "cell_type": "code",
   "execution_count": 113,
   "metadata": {},
   "outputs": [
    {
     "data": {
      "text/plain": [
       "9"
      ]
     },
     "execution_count": 113,
     "metadata": {},
     "output_type": "execute_result"
    }
   ],
   "source": [
    "rand_array"
   ]
  },
  {
   "cell_type": "markdown",
   "metadata": {},
   "source": [
    "Elements of rand_array are broadcast over each row of wines, so the first column of wines has the first value in rand_array added to it, and so on."
   ]
  },
  {
   "cell_type": "code",
   "execution_count": 114,
   "metadata": {},
   "outputs": [
    {
     "data": {
      "text/plain": [
       "array([ 7.8   ,  0.88  ,  0.    ,  2.6   ,  0.098 , 10.    , 67.    ,\n",
       "        0.9968,  3.2   ,  0.68  ,  9.8   ,  5.    ])"
      ]
     },
     "execution_count": 114,
     "metadata": {},
     "output_type": "execute_result"
    }
   ],
   "source": [
    "wines[1]"
   ]
  },
  {
   "cell_type": "code",
   "execution_count": 115,
   "metadata": {},
   "outputs": [
    {
     "data": {
      "text/plain": [
       "array([16.8   ,  9.88  ,  9.    , 11.6   ,  9.098 , 19.    , 76.    ,\n",
       "        9.9968, 12.2   ,  9.68  , 18.8   , 14.    ])"
      ]
     },
     "execution_count": 115,
     "metadata": {},
     "output_type": "execute_result"
    }
   ],
   "source": [
    "wines[1] + rand_array"
   ]
  },
  {
   "cell_type": "markdown",
   "metadata": {},
   "source": [
    "### NumPy Array Methods\n",
    "In addition to the common mathematical operations, NumPy also has several methods that you can use for more complex calculations on arrays. An example of this is the numpy.ndarray.sum method. This finds the sum of all the elements in an array by default:"
   ]
  },
  {
   "cell_type": "code",
   "execution_count": 116,
   "metadata": {},
   "outputs": [
    {
     "data": {
      "text/plain": [
       "9012.0"
      ]
     },
     "execution_count": 116,
     "metadata": {},
     "output_type": "execute_result"
    }
   ],
   "source": [
    "wines[:,11].sum()"
   ]
  },
  {
   "cell_type": "markdown",
   "metadata": {},
   "source": [
    "The total of all of our quality ratings is 154.1788. We can pass the axis keyword argument into the sum method to find sums over an axis. If we call sum across the wines matrix, and pass in axis=0, we’ll find the sums over the first axis of the array. This will give us the sum of all the values in every column. This may seem backwards that the sums over the first axis would give us the sum of each column, but one way to think about this is that the specified axis is the one “going away”. So if we specify axis=0, we want the rows to go away, and we want to find the sums for each of the remaining axes across each row:"
   ]
  },
  {
   "cell_type": "code",
   "execution_count": 117,
   "metadata": {},
   "outputs": [
    {
     "data": {
      "text/plain": [
       "array([13303.1    ,   843.985  ,   433.29   ,  4059.55   ,   139.859  ,\n",
       "       25369.     , 74302.     ,  1593.79794,  5294.47   ,  1052.38   ,\n",
       "       16666.35   ,  9012.     ])"
      ]
     },
     "execution_count": 117,
     "metadata": {},
     "output_type": "execute_result"
    }
   ],
   "source": [
    "# Sum of every value in every column\n",
    "wines.sum(axis=0)"
   ]
  },
  {
   "cell_type": "markdown",
   "metadata": {},
   "source": [
    "We can verify that we did the sum correctly by checking the shape. The shape should be 12, corresponding to the number of columns:"
   ]
  },
  {
   "cell_type": "code",
   "execution_count": 118,
   "metadata": {},
   "outputs": [
    {
     "data": {
      "text/plain": [
       "(12,)"
      ]
     },
     "execution_count": 118,
     "metadata": {},
     "output_type": "execute_result"
    }
   ],
   "source": [
    "wines.sum(axis=0).shape"
   ]
  },
  {
   "cell_type": "code",
   "execution_count": 120,
   "metadata": {},
   "outputs": [
    {
     "data": {
      "text/plain": [
       "array([ 74.5438 , 108.0548 ,  99.699  , ..., 100.48174, 105.21547,\n",
       "        92.49249])"
      ]
     },
     "execution_count": 120,
     "metadata": {},
     "output_type": "execute_result"
    }
   ],
   "source": [
    "# axis = 1 to find the sums over the second axis of the array\n",
    "wines.sum(axis=1)"
   ]
  },
  {
   "cell_type": "markdown",
   "metadata": {},
   "source": [
    "There are several other methods that behave like the sum method, including:\n",
    "\n",
    "- numpy.ndarray.mean — finds the mean of an array.\n",
    "- numpy.ndarray.std — finds the standard deviation of an array.\n",
    "- numpy.ndarray.min — finds the minimum value in an array.\n",
    "- numpy.ndarray.max — finds the maximum value in an array.\n",
    "\n",
    "You can find a full list of array methods here.\n",
    "- https://docs.scipy.org/doc/numpy/reference/arrays.ndarray.html"
   ]
  },
  {
   "cell_type": "markdown",
   "metadata": {},
   "source": [
    "### NumPy Array Comparisons\n",
    "NumPy makes it possible to test to see if rows match certain values using mathematical comparison operations like <, >, >=, <=, and ==. For example, if we want to see which wines have a quality rating higher than 5, we can do this:"
   ]
  },
  {
   "cell_type": "code",
   "execution_count": 121,
   "metadata": {},
   "outputs": [
    {
     "data": {
      "text/plain": [
       "array([False, False, False, ..., False, False, False])"
      ]
     },
     "execution_count": 121,
     "metadata": {},
     "output_type": "execute_result"
    }
   ],
   "source": [
    "wines[:,1] > 5"
   ]
  },
  {
   "cell_type": "markdown",
   "metadata": {},
   "source": [
    "We get a Boolean array that tells us which of the wines have a quality rating greater than 5. We can do something similar with the other operators."
   ]
  },
  {
   "cell_type": "markdown",
   "metadata": {},
   "source": [
    "### Subsetting\n",
    "One of the powerful things we can do with a Boolean array and a NumPy array is select only certain rows or columns in the NumPy array. For example, the below code will only select rows in wines where the quality is over 7:"
   ]
  },
  {
   "cell_type": "code",
   "execution_count": 125,
   "metadata": {},
   "outputs": [
    {
     "data": {
      "text/plain": [
       "array([[7.900e+00, 3.500e-01, 4.600e-01, 3.600e+00, 7.800e-02, 1.500e+01,\n",
       "        3.700e+01, 9.973e-01, 3.350e+00, 8.600e-01, 1.280e+01, 8.000e+00],\n",
       "       [1.030e+01, 3.200e-01, 4.500e-01, 6.400e+00, 7.300e-02, 5.000e+00,\n",
       "        1.300e+01, 9.976e-01, 3.230e+00, 8.200e-01, 1.260e+01, 8.000e+00],\n",
       "       [5.600e+00, 8.500e-01, 5.000e-02, 1.400e+00, 4.500e-02, 1.200e+01,\n",
       "        8.800e+01, 9.924e-01, 3.560e+00, 8.200e-01, 1.290e+01, 8.000e+00]])"
      ]
     },
     "execution_count": 125,
     "metadata": {},
     "output_type": "execute_result"
    }
   ],
   "source": [
    "high_quality = wines[:,11] > 7\n",
    "wines[high_quality,:][:3,:]"
   ]
  },
  {
   "cell_type": "code",
   "execution_count": 128,
   "metadata": {},
   "outputs": [
    {
     "data": {
      "text/plain": [
       "array([[7.900e+00, 3.500e-01, 4.600e-01, 3.600e+00, 7.800e-02, 1.500e+01,\n",
       "        3.700e+01, 9.973e-01, 3.350e+00, 8.600e-01, 1.280e+01, 8.000e+00],\n",
       "       [1.030e+01, 3.200e-01, 4.500e-01, 6.400e+00, 7.300e-02, 5.000e+00,\n",
       "        1.300e+01, 9.976e-01, 3.230e+00, 8.200e-01, 1.260e+01, 8.000e+00],\n",
       "       [5.600e+00, 8.500e-01, 5.000e-02, 1.400e+00, 4.500e-02, 1.200e+01,\n",
       "        8.800e+01, 9.924e-01, 3.560e+00, 8.200e-01, 1.290e+01, 8.000e+00]])"
      ]
     },
     "execution_count": 128,
     "metadata": {},
     "output_type": "execute_result"
    }
   ],
   "source": [
    "wines[high_quality,:][:3]"
   ]
  },
  {
   "cell_type": "code",
   "execution_count": 131,
   "metadata": {},
   "outputs": [
    {
     "data": {
      "text/plain": [
       "array([[ 7.9],\n",
       "       [10.3],\n",
       "       [ 5.6]])"
      ]
     },
     "execution_count": 131,
     "metadata": {},
     "output_type": "execute_result"
    }
   ],
   "source": [
    "wines[high_quality,:][:3,:1]"
   ]
  },
  {
   "cell_type": "markdown",
   "metadata": {},
   "source": [
    "We select only the rows where high_quality contains a True value, and all of the columns. This subsetting makes it simple to filter arrays for certain criteria. For example, we can look for wines with a lot of alcohol and high quality. In order to specify multiple conditions, we have to place each condition in parentheses, and separate conditions with an ampersand (&):"
   ]
  },
  {
   "cell_type": "code",
   "execution_count": 135,
   "metadata": {},
   "outputs": [
    {
     "data": {
      "text/plain": [
       "array([[ 7.9],\n",
       "       [10.3],\n",
       "       [ 5.6],\n",
       "       [11.3],\n",
       "       [ 9.4],\n",
       "       [10.7],\n",
       "       [10.7],\n",
       "       [ 5. ],\n",
       "       [ 7.8],\n",
       "       [ 9.1],\n",
       "       [10. ],\n",
       "       [ 7.9],\n",
       "       [ 8.6],\n",
       "       [ 5.5],\n",
       "       [ 7.2],\n",
       "       [ 7.4]])"
      ]
     },
     "execution_count": 135,
     "metadata": {},
     "output_type": "execute_result"
    }
   ],
   "source": [
    "high_q = (wines[:,10] > 10) & (wines[:,11] > 7)\n",
    "wines[high_q,:1]"
   ]
  },
  {
   "cell_type": "code",
   "execution_count": 136,
   "metadata": {},
   "outputs": [
    {
     "data": {
      "text/plain": [
       "array([[12.8,  8. ],\n",
       "       [12.6,  8. ],\n",
       "       [12.9,  8. ],\n",
       "       [13.4,  8. ],\n",
       "       [11.7,  8. ],\n",
       "       [11. ,  8. ],\n",
       "       [11. ,  8. ],\n",
       "       [14. ,  8. ],\n",
       "       [12.7,  8. ],\n",
       "       [12.5,  8. ],\n",
       "       [11.8,  8. ],\n",
       "       [13.1,  8. ],\n",
       "       [11.7,  8. ],\n",
       "       [14. ,  8. ],\n",
       "       [11.3,  8. ],\n",
       "       [11.4,  8. ]])"
      ]
     },
     "execution_count": 136,
     "metadata": {},
     "output_type": "execute_result"
    }
   ],
   "source": [
    "wines[high_q,10:]"
   ]
  },
  {
   "cell_type": "code",
   "execution_count": 137,
   "metadata": {},
   "outputs": [
    {
     "data": {
      "text/plain": [
       "array([[7.9000e+00, 3.5000e-01, 4.6000e-01, 3.6000e+00, 7.8000e-02,\n",
       "        1.5000e+01, 3.7000e+01, 9.9730e-01, 3.3500e+00, 8.6000e-01,\n",
       "        1.2800e+01, 8.0000e+00],\n",
       "       [1.0300e+01, 3.2000e-01, 4.5000e-01, 6.4000e+00, 7.3000e-02,\n",
       "        5.0000e+00, 1.3000e+01, 9.9760e-01, 3.2300e+00, 8.2000e-01,\n",
       "        1.2600e+01, 8.0000e+00],\n",
       "       [5.6000e+00, 8.5000e-01, 5.0000e-02, 1.4000e+00, 4.5000e-02,\n",
       "        1.2000e+01, 8.8000e+01, 9.9240e-01, 3.5600e+00, 8.2000e-01,\n",
       "        1.2900e+01, 8.0000e+00],\n",
       "       [1.1300e+01, 6.2000e-01, 6.7000e-01, 5.2000e+00, 8.6000e-02,\n",
       "        6.0000e+00, 1.9000e+01, 9.9880e-01, 3.2200e+00, 6.9000e-01,\n",
       "        1.3400e+01, 8.0000e+00],\n",
       "       [9.4000e+00, 3.0000e-01, 5.6000e-01, 2.8000e+00, 8.0000e-02,\n",
       "        6.0000e+00, 1.7000e+01, 9.9640e-01, 3.1500e+00, 9.2000e-01,\n",
       "        1.1700e+01, 8.0000e+00],\n",
       "       [1.0700e+01, 3.5000e-01, 5.3000e-01, 2.6000e+00, 7.0000e-02,\n",
       "        5.0000e+00, 1.6000e+01, 9.9720e-01, 3.1500e+00, 6.5000e-01,\n",
       "        1.1000e+01, 8.0000e+00],\n",
       "       [1.0700e+01, 3.5000e-01, 5.3000e-01, 2.6000e+00, 7.0000e-02,\n",
       "        5.0000e+00, 1.6000e+01, 9.9720e-01, 3.1500e+00, 6.5000e-01,\n",
       "        1.1000e+01, 8.0000e+00],\n",
       "       [5.0000e+00, 4.2000e-01, 2.4000e-01, 2.0000e+00, 6.0000e-02,\n",
       "        1.9000e+01, 5.0000e+01, 9.9170e-01, 3.7200e+00, 7.4000e-01,\n",
       "        1.4000e+01, 8.0000e+00],\n",
       "       [7.8000e+00, 5.7000e-01, 9.0000e-02, 2.3000e+00, 6.5000e-02,\n",
       "        3.4000e+01, 4.5000e+01, 9.9417e-01, 3.4600e+00, 7.4000e-01,\n",
       "        1.2700e+01, 8.0000e+00],\n",
       "       [9.1000e+00, 4.0000e-01, 5.0000e-01, 1.8000e+00, 7.1000e-02,\n",
       "        7.0000e+00, 1.6000e+01, 9.9462e-01, 3.2100e+00, 6.9000e-01,\n",
       "        1.2500e+01, 8.0000e+00],\n",
       "       [1.0000e+01, 2.6000e-01, 5.4000e-01, 1.9000e+00, 8.3000e-02,\n",
       "        4.2000e+01, 7.4000e+01, 9.9451e-01, 2.9800e+00, 6.3000e-01,\n",
       "        1.1800e+01, 8.0000e+00],\n",
       "       [7.9000e+00, 5.4000e-01, 3.4000e-01, 2.5000e+00, 7.6000e-02,\n",
       "        8.0000e+00, 1.7000e+01, 9.9235e-01, 3.2000e+00, 7.2000e-01,\n",
       "        1.3100e+01, 8.0000e+00],\n",
       "       [8.6000e+00, 4.2000e-01, 3.9000e-01, 1.8000e+00, 6.8000e-02,\n",
       "        6.0000e+00, 1.2000e+01, 9.9516e-01, 3.3500e+00, 6.9000e-01,\n",
       "        1.1700e+01, 8.0000e+00],\n",
       "       [5.5000e+00, 4.9000e-01, 3.0000e-02, 1.8000e+00, 4.4000e-02,\n",
       "        2.8000e+01, 8.7000e+01, 9.9080e-01, 3.5000e+00, 8.2000e-01,\n",
       "        1.4000e+01, 8.0000e+00],\n",
       "       [7.2000e+00, 3.8000e-01, 3.1000e-01, 2.0000e+00, 5.6000e-02,\n",
       "        1.5000e+01, 2.9000e+01, 9.9472e-01, 3.2300e+00, 7.6000e-01,\n",
       "        1.1300e+01, 8.0000e+00],\n",
       "       [7.4000e+00, 3.6000e-01, 3.0000e-01, 1.8000e+00, 7.4000e-02,\n",
       "        1.7000e+01, 2.4000e+01, 9.9419e-01, 3.2400e+00, 7.0000e-01,\n",
       "        1.1400e+01, 8.0000e+00]])"
      ]
     },
     "execution_count": 137,
     "metadata": {},
     "output_type": "execute_result"
    }
   ],
   "source": [
    "wines[high_q,:]"
   ]
  },
  {
   "cell_type": "code",
   "execution_count": 142,
   "metadata": {},
   "outputs": [],
   "source": [
    "wines[high_q,1:5] = 20"
   ]
  },
  {
   "cell_type": "code",
   "execution_count": 144,
   "metadata": {},
   "outputs": [
    {
     "data": {
      "text/plain": [
       "array([[20., 20., 20., 20.],\n",
       "       [20., 20., 20., 20.],\n",
       "       [20., 20., 20., 20.],\n",
       "       [20., 20., 20., 20.],\n",
       "       [20., 20., 20., 20.],\n",
       "       [20., 20., 20., 20.],\n",
       "       [20., 20., 20., 20.],\n",
       "       [20., 20., 20., 20.],\n",
       "       [20., 20., 20., 20.],\n",
       "       [20., 20., 20., 20.],\n",
       "       [20., 20., 20., 20.],\n",
       "       [20., 20., 20., 20.],\n",
       "       [20., 20., 20., 20.],\n",
       "       [20., 20., 20., 20.],\n",
       "       [20., 20., 20., 20.],\n",
       "       [20., 20., 20., 20.]])"
      ]
     },
     "execution_count": 144,
     "metadata": {},
     "output_type": "execute_result"
    }
   ],
   "source": [
    "wines[high_q,1:5]"
   ]
  },
  {
   "cell_type": "code",
   "execution_count": 145,
   "metadata": {},
   "outputs": [
    {
     "data": {
      "text/plain": [
       "array([[20., 20., 20., 20., 15.],\n",
       "       [20., 20., 20., 20.,  5.],\n",
       "       [20., 20., 20., 20., 12.],\n",
       "       [20., 20., 20., 20.,  6.],\n",
       "       [20., 20., 20., 20.,  6.],\n",
       "       [20., 20., 20., 20.,  5.],\n",
       "       [20., 20., 20., 20.,  5.],\n",
       "       [20., 20., 20., 20., 19.],\n",
       "       [20., 20., 20., 20., 34.],\n",
       "       [20., 20., 20., 20.,  7.],\n",
       "       [20., 20., 20., 20., 42.],\n",
       "       [20., 20., 20., 20.,  8.],\n",
       "       [20., 20., 20., 20.,  6.],\n",
       "       [20., 20., 20., 20., 28.],\n",
       "       [20., 20., 20., 20., 15.],\n",
       "       [20., 20., 20., 20., 17.]])"
      ]
     },
     "execution_count": 145,
     "metadata": {},
     "output_type": "execute_result"
    }
   ],
   "source": [
    "wines[high_q,1:6]"
   ]
  },
  {
   "cell_type": "code",
   "execution_count": 147,
   "metadata": {},
   "outputs": [
    {
     "data": {
      "text/plain": [
       "array([[ 7.9, 20. , 20. , 20. , 20. , 15. ],\n",
       "       [10.3, 20. , 20. , 20. , 20. ,  5. ],\n",
       "       [ 5.6, 20. , 20. , 20. , 20. , 12. ],\n",
       "       [11.3, 20. , 20. , 20. , 20. ,  6. ],\n",
       "       [ 9.4, 20. , 20. , 20. , 20. ,  6. ],\n",
       "       [10.7, 20. , 20. , 20. , 20. ,  5. ],\n",
       "       [10.7, 20. , 20. , 20. , 20. ,  5. ],\n",
       "       [ 5. , 20. , 20. , 20. , 20. , 19. ],\n",
       "       [ 7.8, 20. , 20. , 20. , 20. , 34. ],\n",
       "       [ 9.1, 20. , 20. , 20. , 20. ,  7. ],\n",
       "       [10. , 20. , 20. , 20. , 20. , 42. ],\n",
       "       [ 7.9, 20. , 20. , 20. , 20. ,  8. ],\n",
       "       [ 8.6, 20. , 20. , 20. , 20. ,  6. ],\n",
       "       [ 5.5, 20. , 20. , 20. , 20. , 28. ],\n",
       "       [ 7.2, 20. , 20. , 20. , 20. , 15. ],\n",
       "       [ 7.4, 20. , 20. , 20. , 20. , 17. ]])"
      ]
     },
     "execution_count": 147,
     "metadata": {},
     "output_type": "execute_result"
    }
   ],
   "source": [
    "wines[high_q,0:6]  # Add extra col on each sides to better view 1:5 changes"
   ]
  },
  {
   "cell_type": "markdown",
   "metadata": {},
   "source": [
    "### Reshaping NumPy Arrays\n",
    "We can change the shape of arrays while still preserving all of their elements. This often can make it easier to access array elements. The simplest reshaping is to flip the axes, so rows become columns, and vice versa. We can accomplish this with the numpy.transpose function:"
   ]
  },
  {
   "cell_type": "code",
   "execution_count": 148,
   "metadata": {},
   "outputs": [
    {
     "data": {
      "text/plain": [
       "array([1599,   12])"
      ]
     },
     "execution_count": 148,
     "metadata": {},
     "output_type": "execute_result"
    }
   ],
   "source": [
    "# Transpose an array\n",
    "np.transpose(wines.shape)"
   ]
  },
  {
   "cell_type": "code",
   "execution_count": 149,
   "metadata": {},
   "outputs": [
    {
     "data": {
      "text/plain": [
       "(1599, 12)"
      ]
     },
     "execution_count": 149,
     "metadata": {},
     "output_type": "execute_result"
    }
   ],
   "source": [
    "wines.shape"
   ]
  },
  {
   "cell_type": "code",
   "execution_count": 150,
   "metadata": {},
   "outputs": [
    {
     "data": {
      "text/plain": [
       "(12, 1599)"
      ]
     },
     "execution_count": 150,
     "metadata": {},
     "output_type": "execute_result"
    }
   ],
   "source": [
    "np.transpose(wines).shape"
   ]
  },
  {
   "cell_type": "code",
   "execution_count": 151,
   "metadata": {},
   "outputs": [
    {
     "data": {
      "text/plain": [
       "array([ 7.4 ,  0.7 ,  0.  , ...,  0.66, 11.  ,  6.  ])"
      ]
     },
     "execution_count": 151,
     "metadata": {},
     "output_type": "execute_result"
    }
   ],
   "source": [
    "# Use ravel() function to turn an array into a 1D representation\n",
    "# Flattens an array into a long sequence of values\n",
    "wines.ravel()"
   ]
  },
  {
   "cell_type": "code",
   "execution_count": 152,
   "metadata": {},
   "outputs": [
    {
     "data": {
      "text/plain": [
       "(19188,)"
      ]
     },
     "execution_count": 152,
     "metadata": {},
     "output_type": "execute_result"
    }
   ],
   "source": [
    "wines.ravel().shape"
   ]
  },
  {
   "cell_type": "code",
   "execution_count": 153,
   "metadata": {},
   "outputs": [
    {
     "data": {
      "text/plain": [
       "19188"
      ]
     },
     "execution_count": 153,
     "metadata": {},
     "output_type": "execute_result"
    }
   ],
   "source": [
    "12*1599"
   ]
  },
  {
   "cell_type": "code",
   "execution_count": 157,
   "metadata": {},
   "outputs": [],
   "source": [
    "# Ordering np.ravel\n",
    "array_one = np.array(\n",
    "[\n",
    "    [1,2,3,4],\n",
    "    [5,6,7,8]\n",
    "])\n",
    "\n",
    "new_array =np.array([1,2,3,4,5,6,7,8])"
   ]
  },
  {
   "cell_type": "code",
   "execution_count": 158,
   "metadata": {},
   "outputs": [
    {
     "data": {
      "text/plain": [
       "array([[1, 2, 3, 4],\n",
       "       [5, 6, 7, 8]])"
      ]
     },
     "execution_count": 158,
     "metadata": {},
     "output_type": "execute_result"
    }
   ],
   "source": [
    "array_one"
   ]
  },
  {
   "cell_type": "code",
   "execution_count": 159,
   "metadata": {},
   "outputs": [
    {
     "data": {
      "text/plain": [
       "array([1, 2, 3, 4, 5, 6, 7, 8])"
      ]
     },
     "execution_count": 159,
     "metadata": {},
     "output_type": "execute_result"
    }
   ],
   "source": [
    "new_array"
   ]
  },
  {
   "cell_type": "code",
   "execution_count": 160,
   "metadata": {},
   "outputs": [
    {
     "data": {
      "text/plain": [
       "array([ True,  True,  True,  True,  True,  True,  True,  True])"
      ]
     },
     "execution_count": 160,
     "metadata": {},
     "output_type": "execute_result"
    }
   ],
   "source": [
    "array_one.ravel() == new_array"
   ]
  },
  {
   "cell_type": "code",
   "execution_count": 161,
   "metadata": {},
   "outputs": [
    {
     "data": {
      "text/plain": [
       "array([[ 7.8   ,  0.88  ,  0.    ,  2.6   ,  0.098 , 10.    ],\n",
       "       [67.    ,  0.9968,  3.2   ,  0.68  ,  9.8   ,  5.    ]])"
      ]
     },
     "execution_count": 161,
     "metadata": {},
     "output_type": "execute_result"
    }
   ],
   "source": [
    "# Reshaoing an array to a certain shape\n",
    "# Below will turn the second row of wines into a 2D array: 2x6\n",
    "wines[1,:].reshape((2,6))"
   ]
  },
  {
   "cell_type": "code",
   "execution_count": 162,
   "metadata": {},
   "outputs": [
    {
     "data": {
      "text/plain": [
       "array([ 7.8   ,  0.88  ,  0.    ,  2.6   ,  0.098 , 10.    , 67.    ,\n",
       "        0.9968,  3.2   ,  0.68  ,  9.8   ,  5.    ])"
      ]
     },
     "execution_count": 162,
     "metadata": {},
     "output_type": "execute_result"
    }
   ],
   "source": [
    "wines[1,:]"
   ]
  },
  {
   "cell_type": "code",
   "execution_count": 163,
   "metadata": {},
   "outputs": [
    {
     "data": {
      "text/plain": [
       "(12,)"
      ]
     },
     "execution_count": 163,
     "metadata": {},
     "output_type": "execute_result"
    }
   ],
   "source": [
    "wines[1,:].shape"
   ]
  },
  {
   "cell_type": "code",
   "execution_count": 164,
   "metadata": {},
   "outputs": [
    {
     "data": {
      "text/plain": [
       "(2, 6)"
      ]
     },
     "execution_count": 164,
     "metadata": {},
     "output_type": "execute_result"
    }
   ],
   "source": [
    "wines[1,:].reshape((2,6)).shape"
   ]
  },
  {
   "cell_type": "markdown",
   "metadata": {},
   "source": [
    "### Combining NumPy Arrays\n",
    "With NumPy, it’s very common to combine multiple arrays into a single unified array. We can use numpy.vstack to vertically stack multiple arrays. Think of it like the second arrays’s items being added as new rows to the first array. We can read in the winequality-white.csv dataset that contains information on the quality of white wines, then combine it with our existing dataset, wines, which contains information on red wines.\n",
    "\n",
    "In the below code, we:\n",
    "- Read in winequality-white.csv.\n",
    "- Display the shape of white_wines."
   ]
  },
  {
   "cell_type": "code",
   "execution_count": 166,
   "metadata": {},
   "outputs": [
    {
     "data": {
      "text/plain": [
       "(4898, 12)"
      ]
     },
     "execution_count": 166,
     "metadata": {},
     "output_type": "execute_result"
    }
   ],
   "source": [
    "white_wines = np.genfromtxt('02-winequality-white.csv', delimiter=';',skip_header=1)\n",
    "white_wines.shape"
   ]
  },
  {
   "cell_type": "markdown",
   "metadata": {},
   "source": [
    "As you can see, we have attributes for 4898 wines. Now that we have the white wines data, we can combine all the wine data.\n",
    "\n",
    "In the below code, we:\n",
    "- Use the vstack function to combine wines and white_wines.\n",
    "- Display the shape of the result."
   ]
  },
  {
   "cell_type": "code",
   "execution_count": 167,
   "metadata": {},
   "outputs": [
    {
     "data": {
      "text/plain": [
       "(6497, 12)"
      ]
     },
     "execution_count": 167,
     "metadata": {},
     "output_type": "execute_result"
    }
   ],
   "source": [
    "# Use np.vstack() to combine wine data\n",
    "all_wines = np.vstack((wines, white_wines))\n",
    "all_wines.shape"
   ]
  },
  {
   "cell_type": "markdown",
   "metadata": {},
   "source": [
    "As you can see, the result has 6497 rows, which is the sum of the number of rows in wines and the number of rows in red_wines.\n",
    "\n",
    "If we want to combine arrays horizontally, where the number of rows stay constant, but the columns are joined, then we can use the numpy.hstack function. The arrays we combine need to have the same number of rows for this to work.\n",
    "\n",
    "Finally, we can use numpy.concatenate as a general purpose version of hstack and vstack. If we want to concatenate two arrays, we pass them into concatenate, then specify the axis keyword argument that we want to concatenate along. Concatenating along the first axis is similar to vstack, and concatenating along the second axis is similar to hstack:"
   ]
  },
  {
   "cell_type": "code",
   "execution_count": 168,
   "metadata": {},
   "outputs": [
    {
     "data": {
      "text/plain": [
       "array([[ 7.4 ,  0.7 ,  0.  , ...,  0.56,  9.4 ,  5.  ],\n",
       "       [ 7.8 ,  0.88,  0.  , ...,  0.68,  9.8 ,  5.  ],\n",
       "       [ 7.8 ,  0.76,  0.04, ...,  0.65,  9.8 ,  5.  ],\n",
       "       ...,\n",
       "       [ 6.5 ,  0.24,  0.19, ...,  0.46,  9.4 ,  6.  ],\n",
       "       [ 5.5 ,  0.29,  0.3 , ...,  0.38, 12.8 ,  7.  ],\n",
       "       [ 6.  ,  0.21,  0.38, ...,  0.32, 11.8 ,  6.  ]])"
      ]
     },
     "execution_count": 168,
     "metadata": {},
     "output_type": "execute_result"
    }
   ],
   "source": [
    "# Pass two arrays into concatenate function then specify axis\n",
    "np.concatenate((wines, white_wines), axis=0)"
   ]
  },
  {
   "cell_type": "markdown",
   "metadata": {},
   "source": [
    "### Further Reading\n",
    "You should now have a good grasp of NumPy, and how to apply it to a data set.\n",
    "\n",
    "If you want to dive into more depth, here are some resources that may be helpful:\n",
    "- NumPy Quickstart — has good code examples and covers most basic NumPy functionality.\n",
    "- Python NumPy Tutorial — a great tutorial on NumPy and other Python libraries.\n",
    "    - http://cs231n.github.io/python-numpy-tutorial/#numpy\n",
    "- Visual NumPy Introduction — a guide that uses the game of life to illustrate NumPy concepts.\n",
    "    - https://github.com/rougier/numpy-tutorial"
   ]
  },
  {
   "cell_type": "markdown",
   "metadata": {},
   "source": [
    "### Using NumPy To Read In Files\n",
    "It’s possible to use NumPy to directly read csv or other files into arrays. We can do this using the numpy.genfromtxt function. We can use it to read in our initial data on red wines.\n",
    "\n",
    "In the below code, we:\n",
    "- Use the genfromtxt function to read in the winequality-red.csv file.\n",
    "- Specify the keyword argument delimiter=\";\" so that the fields are parsed properly.\n",
    "- Specify the keyword argument skip_header=1 so that the header row is skipped."
   ]
  },
  {
   "cell_type": "code",
   "execution_count": 170,
   "metadata": {},
   "outputs": [],
   "source": [
    "# Read csv files into arrays by genfromtxt()\n",
    "wines = np.genfromtxt('02-winequality-red.csv', delimiter=';', skip_header=1)"
   ]
  },
  {
   "cell_type": "markdown",
   "metadata": {},
   "source": [
    "wines will end up looking the same as if we read it into a list then converted it to an array of floats. NumPy will automatically pick a data type for the elements in an array based on their format."
   ]
  },
  {
   "cell_type": "code",
   "execution_count": null,
   "metadata": {},
   "outputs": [],
   "source": []
  }
 ],
 "metadata": {
  "kernelspec": {
   "display_name": "Python 3",
   "language": "python",
   "name": "python3"
  },
  "language_info": {
   "codemirror_mode": {
    "name": "ipython",
    "version": 3
   },
   "file_extension": ".py",
   "mimetype": "text/x-python",
   "name": "python",
   "nbconvert_exporter": "python",
   "pygments_lexer": "ipython3",
   "version": "3.7.3"
  }
 },
 "nbformat": 4,
 "nbformat_minor": 2
}
