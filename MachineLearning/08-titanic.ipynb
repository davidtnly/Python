{
 "cells": [
  {
   "cell_type": "markdown",
   "metadata": {},
   "source": [
    "## Introduction\n",
    "\n",
    "Predict who will survive or die in the Titanic dataset. Familiarize myself with Python data analysis."
   ]
  },
  {
   "cell_type": "markdown",
   "metadata": {},
   "source": [
    "### Modeling Framework\n",
    "\n",
    "1. Framing the problem\n",
    "    - What are we trying to solve? \n",
    "    - Understand the problem.\n",
    "2. Collecting relevant information & data\n",
    "    - What data do we have?\n",
    "    - Gathering any other requirements and understanding success.\n",
    "3. Process for analysis (Preprocessing & Cleaning)\n",
    "    - Is the data usable? Can it be plotted?\n",
    "    - Check for common errors like: missing values, corrupted values, dates\n",
    "4. Explore the data (Exploratory data analysis)\n",
    "    - How does the data look like? \n",
    "    - Patterns? Plots? Summary statistics? \n",
    "    - Get familiar with the data.\n",
    "5. Feature Engineering (Applied Machine Learning)\n",
    "    - Can we create more features that will be helpful for the model?\n",
    "6. Statistical Analysis\n",
    "    - Multivariate/Bivariate analysis on features\n",
    "7. Modeling\n",
    "    - Train vs. Test\n",
    "    - Should we standardize?\n",
    "    - What models should we use? \n",
    "        - Classification\n",
    "    - Pre-tuning vs. tuning\n",
    "        - Are we tuning the models?\n",
    "8. Evaluation & Scoring\n",
    "    - How accurate are the models?\n",
    "    - Should we reiterate again?\n",
    "9. Results & Productionize\n",
    "    - Can we create the entire dataset and prediction on a website?"
   ]
  },
  {
   "cell_type": "markdown",
   "metadata": {},
   "source": [
    "### Framing the problem\n",
    "\n",
    "Predict the passenger survival rate using the train and test data."
   ]
  },
  {
   "cell_type": "markdown",
   "metadata": {},
   "source": [
    "### Collecting relevant data"
   ]
  },
  {
   "cell_type": "code",
   "execution_count": 1,
   "metadata": {},
   "outputs": [
    {
     "data": {
      "text/plain": [
       "['01-ign.csv',\n",
       " '02-winequality-red.csv',\n",
       " '02-winequality-white.csv',\n",
       " '03-thanksgiving-2015-poll-data.csv',\n",
       " '05-ibm-sales-loss.csv',\n",
       " '07-test.csv',\n",
       " '07-train.csv',\n",
       " 'house']"
      ]
     },
     "execution_count": 1,
     "metadata": {},
     "output_type": "execute_result"
    }
   ],
   "source": [
    "''' Set directory for the data '''\n",
    "\n",
    "import os\n",
    "path = 'C:\\\\Users\\\\' + os.getlogin() + '\\\\Documents\\\\Programming\\\\Python\\\\MachineLearning\\\\Data'\n",
    "os.chdir(path)\n",
    "os.getcwd()\n",
    "os.listdir()"
   ]
  },
  {
   "cell_type": "markdown",
   "metadata": {},
   "source": [
    "### Import libraries & data"
   ]
  },
  {
   "cell_type": "code",
   "execution_count": 2,
   "metadata": {},
   "outputs": [],
   "source": [
    "'''Import data analysis & visualization libraries'''\n",
    "import pandas as pd\n",
    "import numpy as np\n",
    "import random as rand\n",
    "import seaborn as sns\n",
    "import matplotlib.pyplot as plt\n",
    "%matplotlib inline"
   ]
  },
  {
   "cell_type": "code",
   "execution_count": 3,
   "metadata": {},
   "outputs": [],
   "source": [
    "'''Import the train and test data'''\n",
    "\n",
    "train = pd.read_csv('07-train.csv')\n",
    "test = pd.read_csv('07-test.csv')\n",
    "\n",
    "'''Create a column to distinguish the two datasets'''\n",
    "train['DataType'] = 'Train'\n",
    "test['DataType'] = 'Test'\n",
    "\n",
    "'''Combine the datasets'''\n",
    "comb = [train, test]\n",
    "combined = pd.concat(comb, sort='False')"
   ]
  },
  {
   "cell_type": "markdown",
   "metadata": {},
   "source": [
    "### Preprocessing\n",
    "\n",
    "Are we able to use the data right away? What type of issues does the data have? How do we fix the issues?\n",
    "\n",
    "Count the nulls in each column and identify the data types as well."
   ]
  },
  {
   "cell_type": "code",
   "execution_count": 4,
   "metadata": {},
   "outputs": [
    {
     "data": {
      "text/plain": [
       "\"\\n\\nSome functions to start off with:\\n\\ntrain.sample()                                           \\ntrain.describe()\\n    train.describe(include=['O'])\\n    train.describe(include='all')\\ntrain.head()\\ntrain.tail()\\ntrain.value_counts().sum()\\ntrain.isnull().sum()\\ntrain.count()\\ntrain.fillna()\\n    train..fillna(train[col].mode(), inplace=True)\\ntrain.mean()\\ntrain.median()\\ntrain.mode()\\ntrain.shape\\ntrain.info()\\n\\n\""
      ]
     },
     "execution_count": 4,
     "metadata": {},
     "output_type": "execute_result"
    }
   ],
   "source": [
    "'''\n",
    "\n",
    "Some functions to start off with:\n",
    "\n",
    "train.sample()                                           \n",
    "train.describe()\n",
    "    train.describe(include=['O'])\n",
    "    train.describe(include='all')\n",
    "train.head()\n",
    "train.tail()\n",
    "train.value_counts().sum()\n",
    "train.isnull().sum()\n",
    "train.count()\n",
    "train.fillna()\n",
    "    train..fillna(train[col].mode(), inplace=True)\n",
    "train.mean()\n",
    "train.median()\n",
    "train.mode()\n",
    "train.shape\n",
    "train.info()\n",
    "\n",
    "'''"
   ]
  },
  {
   "cell_type": "code",
   "execution_count": 5,
   "metadata": {},
   "outputs": [
    {
     "name": "stdout",
     "output_type": "stream",
     "text": [
      "****************************************\n",
      "********** train shape: (891, 13)**********\n",
      "<class 'pandas.core.frame.DataFrame'>\n",
      "RangeIndex: 891 entries, 0 to 890\n",
      "Data columns (total 13 columns):\n",
      "PassengerId    891 non-null int64\n",
      "Survived       891 non-null int64\n",
      "Pclass         891 non-null int64\n",
      "Name           891 non-null object\n",
      "Sex            891 non-null object\n",
      "Age            714 non-null float64\n",
      "SibSp          891 non-null int64\n",
      "Parch          891 non-null int64\n",
      "Ticket         891 non-null object\n",
      "Fare           891 non-null float64\n",
      "Cabin          204 non-null object\n",
      "Embarked       889 non-null object\n",
      "DataType       891 non-null object\n",
      "dtypes: float64(2), int64(5), object(6)\n",
      "memory usage: 90.6+ KB\n",
      "None\n",
      "****************************************\n",
      "********** test shape: (418, 12)**********\n",
      "<class 'pandas.core.frame.DataFrame'>\n",
      "RangeIndex: 418 entries, 0 to 417\n",
      "Data columns (total 12 columns):\n",
      "PassengerId    418 non-null int64\n",
      "Pclass         418 non-null int64\n",
      "Name           418 non-null object\n",
      "Sex            418 non-null object\n",
      "Age            332 non-null float64\n",
      "SibSp          418 non-null int64\n",
      "Parch          418 non-null int64\n",
      "Ticket         418 non-null object\n",
      "Fare           417 non-null float64\n",
      "Cabin          91 non-null object\n",
      "Embarked       418 non-null object\n",
      "DataType       418 non-null object\n",
      "dtypes: float64(2), int64(4), object(6)\n",
      "memory usage: 39.3+ KB\n",
      "None\n"
     ]
    }
   ],
   "source": [
    "'''Get data shape, info, columns, & dimensions'''\n",
    "print (\"*\"*40)\n",
    "print('********** train shape: ' + str(train.shape) + '*'*10)\n",
    "print (train.info())\n",
    "print (\"*\"*40)\n",
    "print('********** test shape: ' + str(test.shape) + '*'*10)\n",
    "print (test.info())"
   ]
  },
  {
   "cell_type": "markdown",
   "metadata": {},
   "source": [
    "### Feature descriptions\n",
    "1. The Survived variable is our outcome or dependent variable. It is a binary nominal datatype of 1 for survived and 0 for did not survive. All other variables are potential predictor or independent variables. It's important to note, more predictor variables do not make a better model, but the right variables.\n",
    "2. The PassengerID and Ticket variables are assumed to be random unique identifiers, that have no impact on the outcome variable. Thus, they will be excluded from analysis.\n",
    "3. The Pclass variable is an ordinal datatype for the ticket class, a proxy for socio-economic status (SES), representing 1 = upper class, 2 = middle class, and 3 = lower class.\n",
    "4. The Name variable is a nominal datatype. It could be used in feature engineering to derive the gender from title, family size from surname, and SES from titles like doctor or master. Since these variables already exist, we'll make use of it to see if title, like master, makes a difference.\n",
    "5. The Sex and Embarked variables are a nominal datatype. They will be converted to dummy variables for mathematical calculations.\n",
    "6. The Age and Fare variable are continuous quantitative datatypes.\n",
    "7. The SibSp represents number of related siblings/spouse aboard and Parch represents number of related parents/children aboard. Both are discrete quantitative datatypes. This can be used for feature engineering to create a family size and is The Cabin variable is a nominal datatype that can be used in feature engineering for approximate position on ship when the incident occurred and SES from deck levels. However, since there are many null values, it does not add value and thus is excluded from analysis."
   ]
  },
  {
   "cell_type": "markdown",
   "metadata": {},
   "source": [
    "How does the survival distribution look like before we explore."
   ]
  },
  {
   "cell_type": "code",
   "execution_count": 6,
   "metadata": {},
   "outputs": [
    {
     "data": {
      "text/html": [
       "<div>\n",
       "<style scoped>\n",
       "    .dataframe tbody tr th:only-of-type {\n",
       "        vertical-align: middle;\n",
       "    }\n",
       "\n",
       "    .dataframe tbody tr th {\n",
       "        vertical-align: top;\n",
       "    }\n",
       "\n",
       "    .dataframe thead th {\n",
       "        text-align: right;\n",
       "    }\n",
       "</style>\n",
       "<table border=\"1\" class=\"dataframe\">\n",
       "  <thead>\n",
       "    <tr style=\"text-align: right;\">\n",
       "      <th></th>\n",
       "      <th>Survived</th>\n",
       "      <th>Age</th>\n",
       "      <th>Fare</th>\n",
       "      <th>Parch</th>\n",
       "      <th>PassengerId</th>\n",
       "      <th>Pclass</th>\n",
       "      <th>SibSp</th>\n",
       "    </tr>\n",
       "  </thead>\n",
       "  <tbody>\n",
       "    <tr>\n",
       "      <th>0</th>\n",
       "      <td>0.0</td>\n",
       "      <td>30.626179</td>\n",
       "      <td>22.117887</td>\n",
       "      <td>0.329690</td>\n",
       "      <td>447.016393</td>\n",
       "      <td>2.531876</td>\n",
       "      <td>0.553734</td>\n",
       "    </tr>\n",
       "    <tr>\n",
       "      <th>1</th>\n",
       "      <td>1.0</td>\n",
       "      <td>28.343690</td>\n",
       "      <td>48.395408</td>\n",
       "      <td>0.464912</td>\n",
       "      <td>444.368421</td>\n",
       "      <td>1.950292</td>\n",
       "      <td>0.473684</td>\n",
       "    </tr>\n",
       "  </tbody>\n",
       "</table>\n",
       "</div>"
      ],
      "text/plain": [
       "   Survived        Age       Fare     Parch  PassengerId    Pclass     SibSp\n",
       "0       0.0  30.626179  22.117887  0.329690   447.016393  2.531876  0.553734\n",
       "1       1.0  28.343690  48.395408  0.464912   444.368421  1.950292  0.473684"
      ]
     },
     "execution_count": 6,
     "metadata": {},
     "output_type": "execute_result"
    }
   ],
   "source": [
    "'''Overview of the data between survived and did not survive'''\n",
    "survived_summary = combined.groupby('Survived')\n",
    "survived_summary.mean().reset_index()"
   ]
  },
  {
   "cell_type": "markdown",
   "metadata": {},
   "source": [
    "### Are there null values?"
   ]
  },
  {
   "cell_type": "code",
   "execution_count": 7,
   "metadata": {},
   "outputs": [
    {
     "data": {
      "text/plain": [
       "Cabin          1014\n",
       "Survived        418\n",
       "Age             263\n",
       "Embarked          2\n",
       "Fare              1\n",
       "Ticket            0\n",
       "SibSp             0\n",
       "Sex               0\n",
       "Pclass            0\n",
       "PassengerId       0\n",
       "Parch             0\n",
       "Name              0\n",
       "DataType          0\n",
       "dtype: int64"
      ]
     },
     "execution_count": 7,
     "metadata": {},
     "output_type": "execute_result"
    }
   ],
   "source": [
    "combined.isnull().sum().sort_values(ascending=False)"
   ]
  },
  {
   "cell_type": "code",
   "execution_count": 8,
   "metadata": {},
   "outputs": [
    {
     "data": {
      "text/plain": [
       "Age            1046\n",
       "Cabin           295\n",
       "DataType       1309\n",
       "Embarked       1307\n",
       "Fare           1308\n",
       "Name           1309\n",
       "Parch          1309\n",
       "PassengerId    1309\n",
       "Pclass         1309\n",
       "Sex            1309\n",
       "SibSp          1309\n",
       "Survived        891\n",
       "Ticket         1309\n",
       "dtype: int64"
      ]
     },
     "execution_count": 8,
     "metadata": {},
     "output_type": "execute_result"
    }
   ],
   "source": [
    "''' The function value_counts() is a series method so we have to use count() instead'''\n",
    "combined.count()"
   ]
  },
  {
   "cell_type": "code",
   "execution_count": 9,
   "metadata": {},
   "outputs": [
    {
     "data": {
      "text/html": [
       "<div>\n",
       "<style scoped>\n",
       "    .dataframe tbody tr th:only-of-type {\n",
       "        vertical-align: middle;\n",
       "    }\n",
       "\n",
       "    .dataframe tbody tr th {\n",
       "        vertical-align: top;\n",
       "    }\n",
       "\n",
       "    .dataframe thead th {\n",
       "        text-align: right;\n",
       "    }\n",
       "</style>\n",
       "<table border=\"1\" class=\"dataframe\">\n",
       "  <thead>\n",
       "    <tr style=\"text-align: right;\">\n",
       "      <th></th>\n",
       "      <th>Total</th>\n",
       "      <th>Percent</th>\n",
       "    </tr>\n",
       "  </thead>\n",
       "  <tbody>\n",
       "    <tr>\n",
       "      <th>Cabin</th>\n",
       "      <td>1014</td>\n",
       "      <td>77.46</td>\n",
       "    </tr>\n",
       "    <tr>\n",
       "      <th>Survived</th>\n",
       "      <td>418</td>\n",
       "      <td>31.93</td>\n",
       "    </tr>\n",
       "    <tr>\n",
       "      <th>Age</th>\n",
       "      <td>263</td>\n",
       "      <td>20.09</td>\n",
       "    </tr>\n",
       "    <tr>\n",
       "      <th>Embarked</th>\n",
       "      <td>2</td>\n",
       "      <td>0.15</td>\n",
       "    </tr>\n",
       "    <tr>\n",
       "      <th>Fare</th>\n",
       "      <td>1</td>\n",
       "      <td>0.08</td>\n",
       "    </tr>\n",
       "    <tr>\n",
       "      <th>Ticket</th>\n",
       "      <td>0</td>\n",
       "      <td>0.00</td>\n",
       "    </tr>\n",
       "    <tr>\n",
       "      <th>SibSp</th>\n",
       "      <td>0</td>\n",
       "      <td>0.00</td>\n",
       "    </tr>\n",
       "    <tr>\n",
       "      <th>Sex</th>\n",
       "      <td>0</td>\n",
       "      <td>0.00</td>\n",
       "    </tr>\n",
       "    <tr>\n",
       "      <th>Pclass</th>\n",
       "      <td>0</td>\n",
       "      <td>0.00</td>\n",
       "    </tr>\n",
       "    <tr>\n",
       "      <th>PassengerId</th>\n",
       "      <td>0</td>\n",
       "      <td>0.00</td>\n",
       "    </tr>\n",
       "    <tr>\n",
       "      <th>Parch</th>\n",
       "      <td>0</td>\n",
       "      <td>0.00</td>\n",
       "    </tr>\n",
       "    <tr>\n",
       "      <th>Name</th>\n",
       "      <td>0</td>\n",
       "      <td>0.00</td>\n",
       "    </tr>\n",
       "    <tr>\n",
       "      <th>DataType</th>\n",
       "      <td>0</td>\n",
       "      <td>0.00</td>\n",
       "    </tr>\n",
       "  </tbody>\n",
       "</table>\n",
       "</div>"
      ],
      "text/plain": [
       "             Total  Percent\n",
       "Cabin         1014    77.46\n",
       "Survived       418    31.93\n",
       "Age            263    20.09\n",
       "Embarked         2     0.15\n",
       "Fare             1     0.08\n",
       "Ticket           0     0.00\n",
       "SibSp            0     0.00\n",
       "Sex              0     0.00\n",
       "Pclass           0     0.00\n",
       "PassengerId      0     0.00\n",
       "Parch            0     0.00\n",
       "Name             0     0.00\n",
       "DataType         0     0.00"
      ]
     },
     "execution_count": 9,
     "metadata": {},
     "output_type": "execute_result"
    }
   ],
   "source": [
    "'''Get null percentage per column'''\n",
    "totalnull = combined.isnull().sum().sort_values(ascending=False)\n",
    "percentnull = round(combined.isnull().sum().sort_values(ascending=False)/len(combined)*100,2)\n",
    "\n",
    "'''Combine horizontally (axis=1) into a dataframe with column names (keys=[])'''\n",
    "pd.concat([totalnull, percentnull], axis=1, keys=['Total', 'Percent'])"
   ]
  },
  {
   "cell_type": "markdown",
   "metadata": {},
   "source": [
    "### Ways to clean up null values\n",
    "\n",
    "There are several methods on how to handle missing values. There are always some instance where a particular element is absent. It could be due to corrupt data, failure to load the information, never inputted, and more. So understanding a couple methods in handling the NULL/NaN values are crucial. Pandas provides a dropna() function that can be used to drop either columns or rows with missing data.\n",
    "\n",
    "Some methods are listed below:\n",
    "\n",
    "1. Removing the rows with missing values using dropna() function\n",
    "    - inplace parameter: If True, do operation inplace and return None.\n",
    "    - axis parameter: drop labels from the index (0 or ‘index’) or columns (1 or ‘columns’)\n",
    "2. Impute the missing values using fillna():\n",
    "    - Constant value that has meaning within the domain; ex: 0 for not present\n",
    "    - Value from another randomly selected record (could be random or have the business acumen to figure out a value)\n",
    "    - Mean, median, mode\n",
    "    - Value estimated by a predictive model\n",
    "3. Binning\n",
    "    - Binning the values that are not present which could provide insight\n",
    "4. Ignore and leave it as it is"
   ]
  },
  {
   "cell_type": "markdown",
   "metadata": {},
   "source": [
    "### Embarked\n",
    "\n",
    "There are a total of 2 null values. Let's explore the feature."
   ]
  },
  {
   "cell_type": "code",
   "execution_count": 10,
   "metadata": {},
   "outputs": [
    {
     "data": {
      "text/html": [
       "<div>\n",
       "<style scoped>\n",
       "    .dataframe tbody tr th:only-of-type {\n",
       "        vertical-align: middle;\n",
       "    }\n",
       "\n",
       "    .dataframe tbody tr th {\n",
       "        vertical-align: top;\n",
       "    }\n",
       "\n",
       "    .dataframe thead th {\n",
       "        text-align: right;\n",
       "    }\n",
       "</style>\n",
       "<table border=\"1\" class=\"dataframe\">\n",
       "  <thead>\n",
       "    <tr style=\"text-align: right;\">\n",
       "      <th></th>\n",
       "      <th>Total</th>\n",
       "      <th>Percent</th>\n",
       "    </tr>\n",
       "  </thead>\n",
       "  <tbody>\n",
       "    <tr>\n",
       "      <th>S</th>\n",
       "      <td>914</td>\n",
       "      <td>69.82</td>\n",
       "    </tr>\n",
       "    <tr>\n",
       "      <th>C</th>\n",
       "      <td>270</td>\n",
       "      <td>20.63</td>\n",
       "    </tr>\n",
       "    <tr>\n",
       "      <th>Q</th>\n",
       "      <td>123</td>\n",
       "      <td>9.40</td>\n",
       "    </tr>\n",
       "    <tr>\n",
       "      <th>NaN</th>\n",
       "      <td>2</td>\n",
       "      <td>0.15</td>\n",
       "    </tr>\n",
       "  </tbody>\n",
       "</table>\n",
       "</div>"
      ],
      "text/plain": [
       "     Total  Percent\n",
       "S      914    69.82\n",
       "C      270    20.63\n",
       "Q      123     9.40\n",
       "NaN      2     0.15"
      ]
     },
     "execution_count": 10,
     "metadata": {},
     "output_type": "execute_result"
    }
   ],
   "source": [
    "'''Create dataframes of Embarked values'''\n",
    "embarked_n = pd.DataFrame(combined.Embarked.value_counts(dropna=False))\n",
    "embarked_p = pd.DataFrame(round(combined.Embarked.value_counts(dropna=False)/len(combined)*100,2))\n",
    "\n",
    "'''Rename dataframe columns'''\n",
    "embarked_n.columns = ['Total']\n",
    "embarked_p.columns = ['Percent']\n",
    "\n",
    "'''Combine the dataframes together'''\n",
    "pd.concat([embarked_n, embarked_p], axis=1) # keys=['Total', 'Percent'])"
   ]
  },
  {
   "cell_type": "markdown",
   "metadata": {},
   "source": [
    "Another way we can build a percentage column is to use the normalize parameter and passing index, columns, or all as the argument."
   ]
  },
  {
   "cell_type": "code",
   "execution_count": 11,
   "metadata": {},
   "outputs": [
    {
     "data": {
      "text/plain": [
       "\"\\nWithout normalize parameter\\nembarked_survival_table/embarked_survival_table.loc['ColTotal', 'RowTotal']\\n\""
      ]
     },
     "execution_count": 11,
     "metadata": {},
     "output_type": "execute_result"
    }
   ],
   "source": [
    "'''Use crosstab() from pandas and name the indexes & columns'''\n",
    "embarked_survival_table = pd.crosstab(index=combined['Embarked'],\n",
    "                                     columns=combined['Survived'],\n",
    "                                     normalize='all',\n",
    "                                     margins=True)\n",
    "\n",
    "'''Add names for the crosstab'''\n",
    "embarked_survival_table.columns = ['Did not Survive', 'Survived', 'RowTotal']\n",
    "embarked_survival_table.index = ['C', 'Q', 'S', 'ColTotal']\n",
    "\n",
    "embarked_survival_table\n",
    "\n",
    "'''\n",
    "Without normalize parameter\n",
    "embarked_survival_table/embarked_survival_table.loc['ColTotal', 'RowTotal']\n",
    "'''"
   ]
  },
  {
   "cell_type": "markdown",
   "metadata": {},
   "source": [
    "Looks like a majority of the people boarded from S (Southampton). The others are C (Cherbourg) and Q (Queenstown). Is there a wealth inequality between the three areas? What's the survival rate between the 3?\n",
    "\n",
    "But first, what are the null values."
   ]
  },
  {
   "cell_type": "code",
   "execution_count": 12,
   "metadata": {},
   "outputs": [
    {
     "data": {
      "text/html": [
       "<div>\n",
       "<style scoped>\n",
       "    .dataframe tbody tr th:only-of-type {\n",
       "        vertical-align: middle;\n",
       "    }\n",
       "\n",
       "    .dataframe tbody tr th {\n",
       "        vertical-align: top;\n",
       "    }\n",
       "\n",
       "    .dataframe thead th {\n",
       "        text-align: right;\n",
       "    }\n",
       "</style>\n",
       "<table border=\"1\" class=\"dataframe\">\n",
       "  <thead>\n",
       "    <tr style=\"text-align: right;\">\n",
       "      <th></th>\n",
       "      <th>Age</th>\n",
       "      <th>Cabin</th>\n",
       "      <th>DataType</th>\n",
       "      <th>Embarked</th>\n",
       "      <th>Fare</th>\n",
       "      <th>Name</th>\n",
       "      <th>Parch</th>\n",
       "      <th>PassengerId</th>\n",
       "      <th>Pclass</th>\n",
       "      <th>Sex</th>\n",
       "      <th>SibSp</th>\n",
       "      <th>Survived</th>\n",
       "      <th>Ticket</th>\n",
       "    </tr>\n",
       "  </thead>\n",
       "  <tbody>\n",
       "    <tr>\n",
       "      <th>61</th>\n",
       "      <td>38.0</td>\n",
       "      <td>B28</td>\n",
       "      <td>Train</td>\n",
       "      <td>NaN</td>\n",
       "      <td>80.0</td>\n",
       "      <td>Icard, Miss. Amelie</td>\n",
       "      <td>0</td>\n",
       "      <td>62</td>\n",
       "      <td>1</td>\n",
       "      <td>female</td>\n",
       "      <td>0</td>\n",
       "      <td>1.0</td>\n",
       "      <td>113572</td>\n",
       "    </tr>\n",
       "    <tr>\n",
       "      <th>829</th>\n",
       "      <td>62.0</td>\n",
       "      <td>B28</td>\n",
       "      <td>Train</td>\n",
       "      <td>NaN</td>\n",
       "      <td>80.0</td>\n",
       "      <td>Stone, Mrs. George Nelson (Martha Evelyn)</td>\n",
       "      <td>0</td>\n",
       "      <td>830</td>\n",
       "      <td>1</td>\n",
       "      <td>female</td>\n",
       "      <td>0</td>\n",
       "      <td>1.0</td>\n",
       "      <td>113572</td>\n",
       "    </tr>\n",
       "  </tbody>\n",
       "</table>\n",
       "</div>"
      ],
      "text/plain": [
       "      Age Cabin DataType Embarked  Fare  \\\n",
       "61   38.0   B28    Train      NaN  80.0   \n",
       "829  62.0   B28    Train      NaN  80.0   \n",
       "\n",
       "                                          Name  Parch  PassengerId  Pclass  \\\n",
       "61                         Icard, Miss. Amelie      0           62       1   \n",
       "829  Stone, Mrs. George Nelson (Martha Evelyn)      0          830       1   \n",
       "\n",
       "        Sex  SibSp  Survived  Ticket  \n",
       "61   female      0       1.0  113572  \n",
       "829  female      0       1.0  113572  "
      ]
     },
     "execution_count": 12,
     "metadata": {},
     "output_type": "execute_result"
    }
   ],
   "source": [
    "'''Slice the dataframe to get null Embarked rows'''\n",
    "combined[combined.Embarked.isnull()]"
   ]
  },
  {
   "cell_type": "markdown",
   "metadata": {},
   "source": [
    "Both the null values are females from the same cabin. I would think they would be related but their last names are not the same. They are also female and also survived. I can try to do a random forest to see if it predicts them to be in the higher survival Embarked group of females or I can use business acumen to place them within a group of females that survived and paid a $80 Fare that is also 1st class or just about. \n",
    "\n",
    "Here's a picture below of the locations. Looks like Queenstown was the last city."
   ]
  },
  {
   "cell_type": "code",
   "execution_count": 13,
   "metadata": {},
   "outputs": [
    {
     "data": {
      "image/png": "[encoded data removed]",
      "text/plain": [
       "<IPython.core.display.Image object>"
      ]
     },
     "execution_count": 13,
     "metadata": {
      "image/png": {
       "height": 800,
       "width": 600
      }
     },
     "output_type": "execute_result"
    }
   ],
   "source": [
    "from IPython.display import Image\n",
    "url = 'https://i0.wp.com/upload.wikimedia.org/wikipedia/commons/thumb/5/51/Titanic_voyage_map.png/450px-Titanic_voyage_map.png'\n",
    "Image(url,width=600, height=800)"
   ]
  },
  {
   "cell_type": "code",
   "execution_count": 14,
   "metadata": {},
   "outputs": [
    {
     "data": {
      "text/plain": [
       "Survived  Embarked\n",
       "0.0       C            75\n",
       "          Q            47\n",
       "          S           427\n",
       "1.0       C            93\n",
       "          Q            30\n",
       "          S           217\n",
       "Name: Embarked, dtype: int64"
      ]
     },
     "execution_count": 14,
     "metadata": {},
     "output_type": "execute_result"
    }
   ],
   "source": [
    "'''Group by survival rate and embarked'''\n",
    "combined.groupby(['Survived', 'Embarked']).Embarked.count()"
   ]
  },
  {
   "cell_type": "markdown",
   "metadata": {},
   "source": [
    "#### This is a little hard to read, let's try another way."
   ]
  },
  {
   "cell_type": "code",
   "execution_count": 15,
   "metadata": {},
   "outputs": [
    {
     "data": {
      "text/html": [
       "<div>\n",
       "<style scoped>\n",
       "    .dataframe tbody tr th:only-of-type {\n",
       "        vertical-align: middle;\n",
       "    }\n",
       "\n",
       "    .dataframe tbody tr th {\n",
       "        vertical-align: top;\n",
       "    }\n",
       "\n",
       "    .dataframe thead th {\n",
       "        text-align: right;\n",
       "    }\n",
       "</style>\n",
       "<table border=\"1\" class=\"dataframe\">\n",
       "  <thead>\n",
       "    <tr style=\"text-align: right;\">\n",
       "      <th></th>\n",
       "      <th></th>\n",
       "      <th>Survived</th>\n",
       "    </tr>\n",
       "    <tr>\n",
       "      <th>Embarked</th>\n",
       "      <th>Sex</th>\n",
       "      <th></th>\n",
       "    </tr>\n",
       "  </thead>\n",
       "  <tbody>\n",
       "    <tr>\n",
       "      <th rowspan=\"2\" valign=\"top\">C</th>\n",
       "      <th>female</th>\n",
       "      <td>0.876712</td>\n",
       "    </tr>\n",
       "    <tr>\n",
       "      <th>male</th>\n",
       "      <td>0.305263</td>\n",
       "    </tr>\n",
       "    <tr>\n",
       "      <th rowspan=\"2\" valign=\"top\">Q</th>\n",
       "      <th>female</th>\n",
       "      <td>0.750000</td>\n",
       "    </tr>\n",
       "    <tr>\n",
       "      <th>male</th>\n",
       "      <td>0.073171</td>\n",
       "    </tr>\n",
       "    <tr>\n",
       "      <th rowspan=\"2\" valign=\"top\">S</th>\n",
       "      <th>female</th>\n",
       "      <td>0.689655</td>\n",
       "    </tr>\n",
       "    <tr>\n",
       "      <th>male</th>\n",
       "      <td>0.174603</td>\n",
       "    </tr>\n",
       "  </tbody>\n",
       "</table>\n",
       "</div>"
      ],
      "text/plain": [
       "                 Survived\n",
       "Embarked Sex             \n",
       "C        female  0.876712\n",
       "         male    0.305263\n",
       "Q        female  0.750000\n",
       "         male    0.073171\n",
       "S        female  0.689655\n",
       "         male    0.174603"
      ]
     },
     "execution_count": 15,
     "metadata": {},
     "output_type": "execute_result"
    }
   ],
   "source": [
    "combined[['Embarked', 'Sex', 'Survived']].groupby(['Embarked', 'Sex']).mean()"
   ]
  },
  {
   "cell_type": "markdown",
   "metadata": {},
   "source": [
    "So it looks like Cherbourg has the highest survival rate out of the grouped attributes. So I will group the null values of the two to be from Cherbourg.\n",
    "\n",
    "We can use the fillna() function to input the 'C' values where Embarked is null."
   ]
  },
  {
   "cell_type": "markdown",
   "metadata": {},
   "source": [
    "### Using value_counts(normalize=True) to get frequency percentage"
   ]
  },
  {
   "cell_type": "code",
   "execution_count": 16,
   "metadata": {},
   "outputs": [
    {
     "data": {
      "text/plain": [
       "S    69.93\n",
       "C    20.66\n",
       "Q     9.41\n",
       "Name: Embarked, dtype: float64"
      ]
     },
     "execution_count": 16,
     "metadata": {},
     "output_type": "execute_result"
    }
   ],
   "source": [
    "round(combined.Embarked.value_counts(normalize=True)*100,2)"
   ]
  },
  {
   "cell_type": "code",
   "execution_count": 17,
   "metadata": {},
   "outputs": [],
   "source": [
    "combined['Embarked'].fillna('C', inplace=True) # Using inplace() for memory"
   ]
  },
  {
   "cell_type": "code",
   "execution_count": 18,
   "metadata": {},
   "outputs": [
    {
     "data": {
      "text/plain": [
       "Cabin          1014\n",
       "Survived        418\n",
       "Age             263\n",
       "Fare              1\n",
       "Ticket            0\n",
       "SibSp             0\n",
       "Sex               0\n",
       "Pclass            0\n",
       "PassengerId       0\n",
       "Parch             0\n",
       "Name              0\n",
       "Embarked          0\n",
       "DataType          0\n",
       "dtype: int64"
      ]
     },
     "execution_count": 18,
     "metadata": {},
     "output_type": "execute_result"
    }
   ],
   "source": [
    "combined.isnull().sum().sort_values(ascending=False)"
   ]
  },
  {
   "cell_type": "markdown",
   "metadata": {},
   "source": [
    "Let's take a look visually now that we have all values in the feature populated. We can use matplotlib and its functions to:\n",
    "1. Create a figure space\n",
    "2. Plot the data\n",
    "3. Update any figure settings\n",
    "\n",
    "**Before modeling, create plots togther in 1 figure space that will pair up the train vs. test distributions to see if distributions vary a lot.**"
   ]
  },
  {
   "cell_type": "code",
   "execution_count": null,
   "metadata": {},
   "outputs": [
    {
     "data": {
      "text/plain": [
       "array([[<matplotlib.axes._subplots.AxesSubplot object at 0x0000012E7F092080>,\n",
       "        <matplotlib.axes._subplots.AxesSubplot object at 0x0000012E7F0EC710>,\n",
       "        <matplotlib.axes._subplots.AxesSubplot object at 0x0000012E7F1230B8>],\n",
       "       [<matplotlib.axes._subplots.AxesSubplot object at 0x0000012E7F150A58>,\n",
       "        <matplotlib.axes._subplots.AxesSubplot object at 0x0000012E7F18A438>,\n",
       "        <matplotlib.axes._subplots.AxesSubplot object at 0x0000012E7F1B8DD8>],\n",
       "       [<matplotlib.axes._subplots.AxesSubplot object at 0x0000012E7F1F07B8>,\n",
       "        <matplotlib.axes._subplots.AxesSubplot object at 0x0000012E7F22B1D0>,\n",
       "        <matplotlib.axes._subplots.AxesSubplot object at 0x0000012E7F22B208>]],\n",
       "      dtype=object)"
      ]
     },
     "execution_count": 19,
     "metadata": {},
     "output_type": "execute_result"
    }
   ],
   "source": [
    "sns.set_style('whitegrid')\n",
    "combined.hist(bins=20, figsize=(10,8), label='DataType', grid=False)"
   ]
  },
  {
   "cell_type": "markdown",
   "metadata": {},
   "source": [
    "(figure out how to get the density plots) **************************************************"
   ]
  },
  {
   "cell_type": "markdown",
   "metadata": {},
   "source": [
    "### Embarked box plot"
   ]
  },
  {
   "cell_type": "code",
   "execution_count": null,
   "metadata": {},
   "outputs": [],
   "source": [
    "'''Use either plt.figure() or plt.subplots()'''\n",
    "fig, ax = plt.subplots(figsize=(12,12)) # ncols=1, nrows=1\n",
    "\n",
    "'''Step 2: Figure out what type of plots to use'''\n",
    "ax1 = sns.boxplot(x='Embarked',\n",
    "                  y='Fare',\n",
    "                  hue='Pclass',\n",
    "                  data=combined)\n",
    "                  #ax=ax[0])\n",
    "\n",
    "'''Step3: Set any figure settings'''\n",
    "ax1.set_title('Embarked & Pclass Distribution', fontsize=12)\n",
    "\n",
    "'''Show figure'''\n",
    "plt.show()"
   ]
  },
  {
   "cell_type": "markdown",
   "metadata": {},
   "source": [
    "### Embarked count plot\n",
    "\n",
    "Another plot that will show counts survival counts are greater than deaths in Cherbourg.\n",
    "\n",
    "Some steps to get familiar with:\n",
    "1. Create any argument dictionaries/lists like colors\n",
    "2. Set grid/plot style using sns.set()\n",
    "3. Set figure size if needed\n",
    "4. Create figure using plt functions or base functions\n",
    "5. Adjust any plot features like title, xlabel, ylabel, legend"
   ]
  },
  {
   "cell_type": "code",
   "execution_count": null,
   "metadata": {},
   "outputs": [],
   "source": [
    "# Create color palette\n",
    "colors = {1:'seagreen', 0: 'gray'}\n",
    "\n",
    "# Set plot style using sns.set()\n",
    "sns.set(style='darkgrid')\n",
    "\n",
    "# Set figure size\n",
    "fig = plt.figure(figsize=(8,8)) # ncols=1, nrows=1\n",
    "\n",
    "# Create countplot()\n",
    "ax = sns.countplot(x='Embarked',\n",
    "                  hue='Survived',\n",
    "                  data=combined,\n",
    "                  linewidth=2,\n",
    "                  palette=colors)\n",
    "\n",
    "# Set titles and labels\n",
    "plt.title('Embarked Survival Count')\n",
    "plt.xlabel('Embarked')\n",
    "plt.ylabel('Frequency')\n",
    "\n",
    "# Add legend and set\n",
    "legend = ax.get_legend()\n",
    "legend.set_title('Survived')\n",
    "legend_txt = legend.texts\n",
    "legend_txt[0].set_text('No')\n",
    "legend_txt[1].set_text('Yes')"
   ]
  },
  {
   "cell_type": "markdown",
   "metadata": {},
   "source": [
    "### Defining functions that will plot a table and graph\n",
    "\n",
    "Found this from eraaz1 kernel which is neat, still have trouble getting two plots to show."
   ]
  },
  {
   "cell_type": "code",
   "execution_count": null,
   "metadata": {},
   "outputs": [],
   "source": [
    "def pct_bar_labels():\n",
    "    '''\n",
    "    Function to label on top of the bar plot of relative frequency\n",
    "    '''\n",
    "    # Set font size\n",
    "    font_size=12\n",
    "    \n",
    "    # Set plot label and ticks\n",
    "    plt.ylabel('Relative Frequency: (%)', fontsize=font_size)\n",
    "    plt.xticks(rotation=0, fontsize=font_size)\n",
    "    plt.yticks([])\n",
    "    \n",
    "    # Set individual bar lebels in proportional scale\n",
    "    for x in ax1.patches:\n",
    "        ax1.annotate(str(x.get_height()) + '%', \n",
    "        (x.get_x() + x.get_width()/2., x.get_height()), ha='center', va='center', xytext=(0, 7), \n",
    "        textcoords='offset points', fontsize=font_size, color='black')\n",
    "    \n",
    "def freq_table(var):\n",
    "    '''\n",
    "    Define global variables\n",
    "    Create function that will populate a frequency table with %\n",
    "    First get the counts per feature then get the percentage over the total counts\n",
    "    '''\n",
    "    global ax, ax1\n",
    "    \n",
    "    # Get values and pct and combine it into a dataframe\n",
    "    count_freq = var.value_counts()\n",
    "    pct_freq = round(var.value_counts(normalize=True)*100,2)\n",
    "    \n",
    "    # Create a dataframe\n",
    "    df = pd.DataFrame({'Count': count_freq, 'Percentage': pct_freq})\n",
    "    \n",
    "    # Print variable name\n",
    "    print('Frequency of', var.name, ':')\n",
    "    display(df)\n",
    "    \n",
    "    # Set figure\n",
    "    fig_size=(15,8)\n",
    "    font_size=12\n",
    "    title_size=15\n",
    "    \n",
    "    # Create plot\n",
    "    ax1 = pct_freq.plot.bar(title='Percentage of {}'.format(var.name), figsize=fig_size)\n",
    "    ax1.title.set_size(title_size)\n",
    "    pct_bar_labels()\n",
    "    plt.show()"
   ]
  },
  {
   "cell_type": "markdown",
   "metadata": {},
   "source": [
    "### Use the new function to plot Embarked feature"
   ]
  },
  {
   "cell_type": "code",
   "execution_count": null,
   "metadata": {
    "scrolled": true
   },
   "outputs": [],
   "source": [
    "freq_table(combined.Embarked)"
   ]
  },
  {
   "cell_type": "markdown",
   "metadata": {},
   "source": [
    "### Cabin feature\n",
    "\n",
    "This is one feature that has a lot of nulls so we should take a look at it deeper to see what we can do with it.\n",
    "1. How many nulls are there?\n",
    "2. Can we infer anything from the feature?"
   ]
  },
  {
   "cell_type": "code",
   "execution_count": null,
   "metadata": {},
   "outputs": [],
   "source": [
    "# Get null count\n",
    "cabin_freq = combined.Cabin.isnull().sum()\n",
    "\n",
    "# Get proportion of null count\n",
    "cabin_pct = round(combined.Cabin.isnull().sum()/len(combined)*100,2)\n",
    "\n",
    "'''\n",
    "Could also do a concat like this:\n",
    "\n",
    "    cabin_freq.columns=['Frequency']\n",
    "    cabin_pct.columns=['Percentage']\n",
    "\n",
    "    pd.concat([cabin_freq, cabin_pct], axis=1)\n",
    "\n",
    "Other tips: https://www.geeksforgeeks.org/different-ways-to-create-pandas-dataframe/\n",
    "'''\n",
    "\n",
    "# Create df\n",
    "cabin_df = pd.DataFrame({'Nulls': cabin_freq,\n",
    "                         'Percnt': cabin_pct},\n",
    "                         columns=['Null Count', 'Percentage'],\n",
    "                         index=[0])\n",
    "\n",
    "# Print cabin_df type\n",
    "print(type(cabin_df))\n",
    "\n",
    "# Print output\n",
    "cabin_df"
   ]
  },
  {
   "cell_type": "code",
   "execution_count": null,
   "metadata": {},
   "outputs": [],
   "source": [
    "print('Cabin Missing Values Proportion: ' + str(combined.Cabin.isnull().sum()/len(combined.Cabin)*100))"
   ]
  },
  {
   "cell_type": "markdown",
   "metadata": {},
   "source": [
    "Getting NaN values above so I need to look into that. The Cabin feature has a lot of null values the first thought for me is to remove it but there can always be something useful that is not shown.\n",
    "\n",
    "- We can either not use this feature at all\n",
    "- Discover methods to utilize feature engineering to make it usable\n",
    "- Ask questions like:\n",
    "    - Why are there so many missing Cabin values?\n",
    "    - Survival rate of people with Cabins?\n",
    "    - Socioeconomic status of Cabins?\n",
    "    - Cabins closest to lifeboats?\n",
    "\n",
    "We can see if we can group the fares with the cabin's letter."
   ]
  },
  {
   "cell_type": "code",
   "execution_count": null,
   "metadata": {},
   "outputs": [],
   "source": [
    "# First we have to fill in the missing values so we don't get a subscriptable error\n",
    "combined.Cabin.fillna('N', inplace=True)\n",
    "\n",
    "# Loop through every row\n",
    "combined['CabinValue'] = [i[0] for i in combined.Cabin]\n",
    "combined.CabinValue[0:5]"
   ]
  },
  {
   "cell_type": "code",
   "execution_count": null,
   "metadata": {},
   "outputs": [],
   "source": [
    "# Summarize cabin counts\n",
    "combined.groupby('CabinValue').size().sort_values(ascending=False) # groupby()'s equivalent for value_counts()"
   ]
  },
  {
   "cell_type": "code",
   "execution_count": null,
   "metadata": {},
   "outputs": [],
   "source": [
    "# Average fare per cabin letter\n",
    "cvfare = combined.groupby('CabinValue')['Fare'].mean().sort_values(ascending=False)\n",
    "\n",
    "cvfare_df = pd.DataFrame(cvfare)\n",
    "\n",
    "# cvfare_df.reset_index(inplace=True)\n",
    "# cvfare_df.set_index('CabinValue', drop=False, inplace=True)\n",
    "\n",
    "cvfare_df"
   ]
  },
  {
   "cell_type": "code",
   "execution_count": null,
   "metadata": {},
   "outputs": [],
   "source": [
    "# Group it alongside with Survived\n",
    "combined[['CabinValue', 'Survived']].groupby(['CabinValue']).mean().sort_values(ascending=False, by='Survived')"
   ]
  },
  {
   "cell_type": "markdown",
   "metadata": {},
   "source": [
    "Surprisingly the survival rate isnt as correlated with the fares as I thought. C has a pretty high rate but only 59% survived. B has an abnormally high average fare too and it has a high survival rate which makse sense. The next bests are E and D which have a little over 53 in fares before it takes another small dip. We can attempt a statistical method to see if there is a relevancy between the two features. "
   ]
  },
  {
   "cell_type": "markdown",
   "metadata": {},
   "source": [
    "### Some statistical tests\n",
    "\n",
    "#### T-test\n",
    "This is a two-sided test for the null hypothesis that 2 independent samples have identical average (expected) values. This test assumes that the populations have identical variances by default.\n",
    "\n",
    "- Calculate the T-test for the means of two independent samples of scores.\n",
    "- We can use this test, if we observe two independent samples from the same or different population, e.g. exam scores of boys and girls or of two ethnic groups. The test measures whether the average (expected) value differs significantly across samples. If we observe a large p-value, for example larger than 0.05 or 0.1, then we cannot reject the null hypothesis of identical average scores. If the p-value is smaller than the threshold, e.g. 1%, 5% or 10%, then we reject the null hypothesis of equal averages.\n",
    "- Ex: stats.ttest_ind(rvs1,rvs2, equal_var = False)\n",
    "\n",
    "#### ANOVA\n",
    "The ANOVA test has important assumptions that must be satisfied in order for the associated p-value to be valid.\n",
    "\n",
    "- The samples are independent.\n",
    "- Each sample is from a normally distributed population.\n",
    "- The population standard deviations of the groups are all equal. This property is known as homoscedasticity.\n",
    "- If these assumptions are not true for a given set of data, it may still be possible to use the Kruskal-Wallis H-test (scipy.stats.kruskal) although with some loss of power.\n",
    "- Ex: stats.f_oneway(tillamook, newport, petersburg, magadan, tvarminne)\n",
    "\n",
    "#### Linear regression\n",
    "This test works as well and is a lot easier to implement.\n",
    "\n",
    "Fare = dependent variable (numerical)\n",
    "\n",
    "CabinValue = independent variable (categorical)"
   ]
  },
  {
   "cell_type": "code",
   "execution_count": null,
   "metadata": {},
   "outputs": [],
   "source": [
    "# Import the test method from scipy\n",
    "import scipy.stats as stats\n",
    "\n",
    "# Average fare per cabin letter\n",
    "cv_data = combined.CabinValue\n",
    "fare_data = combined.Fare\n",
    "\n",
    "# Group fare data by cabin value\n",
    "cvfare_df = pd.DataFrame({\"CabinValue\":cv_data, \"Fare\":fare_data})\n",
    "groups = cvfare_df.groupby(\"CabinValue\").groups\n",
    "groups\n",
    "\n",
    "# Extract individual groups\n",
    "B_grp = fare_data[groups['B']]\n",
    "C_grp = fare_data[groups['C']]\n",
    "E_grp = fare_data[groups['E']]\n",
    "D_grp = fare_data[groups['D']]\n",
    "A_grp = fare_data[groups['A']]\n",
    "T_grp = fare_data[groups['T']]\n",
    "N_grp = fare_data[groups['N']]\n",
    "F_grp = fare_data[groups['F']]\n",
    "G_grp = fare_data[groups['G']]\n",
    "\n",
    "# ANOVA\n",
    "stats.f_oneway(B_grp, C_grp, E_grp, D_grp, A_grp, T_grp, N_grp, F_grp, G_grp)"
   ]
  },
  {
   "cell_type": "markdown",
   "metadata": {},
   "source": [
    "Well, looks like my statistical analysis needs some reviewing... let's try a linear regression."
   ]
  },
  {
   "cell_type": "code",
   "execution_count": null,
   "metadata": {},
   "outputs": [],
   "source": [
    "# Import model and perform linear regression\n",
    "'''\n",
    "With .fit(), you calculate the optimal values of the weights 𝑏₀ and 𝑏₁, using the existing input and output (x and y) \n",
    "as the arguments. In other words, .fit() fits the model. It returns self, which is the variable model itself. \n",
    "\n",
    "Get new dataframe without the null value: combined[combined['Fare'].notnull()].Fare.isnull().sum()\n",
    "'''\n",
    "\n",
    "from sklearn.linear_model import LinearRegression\n",
    "\n",
    "# Drop NA fare\n",
    "cv_fare_combined = combined[combined['Fare'].notnull()]\n",
    "\n",
    "# Get x and y variables\n",
    "fare_y = pd.DataFrame(cv_fare_combined.Fare, columns=['Fare'])\n",
    "cv_x = cv_fare_combined.CabinValue\n",
    "cv_x = pd.DataFrame((i for i in cv_x), columns=['CabinVal'])\n",
    "cv_x_copy = cv_x.copy()\n",
    "\n",
    "# Get dummies\n",
    "cv_x = pd.get_dummies(cv_x, columns=['CabinVal'])\n",
    "                                           \n",
    "# Fit and score the model\n",
    "lm = LinearRegression().fit(cv_x, fare_y)\n",
    "lm_score = lm.score(cv_x, fare_y)\n",
    "\n",
    "# Print coefficients\n",
    "print('Linear Regression Score: ' + str(lm_score))\n",
    "print('Intercept: ' + str(lm.intercept_))\n",
    "print('Coefficient: ' + str(lm.coef_))"
   ]
  },
  {
   "cell_type": "markdown",
   "metadata": {},
   "source": [
    "It looks like there isn't a strong association between the fare feature and the cabin feature."
   ]
  },
  {
   "cell_type": "code",
   "execution_count": null,
   "metadata": {},
   "outputs": [],
   "source": [
    "# Get count of a dataframe column\n",
    "cv_x_copy['CabinVal'].value_counts()\n",
    "\n",
    "# Print data info\n",
    "print(type(cv_x))\n",
    "print(type(fare_y))\n",
    "print(type(cv_x.info()))"
   ]
  },
  {
   "cell_type": "markdown",
   "metadata": {},
   "source": [
    "Let's look at the median values instead of the mean since there might be skewness involved."
   ]
  },
  {
   "cell_type": "code",
   "execution_count": null,
   "metadata": {},
   "outputs": [],
   "source": [
    "combined.groupby('CabinValue')['Fare'].median().sort_values(ascending=False)"
   ]
  },
  {
   "cell_type": "code",
   "execution_count": null,
   "metadata": {},
   "outputs": [],
   "source": [
    "# Create a function to group cabins\n",
    "def cabin_grouping(x):\n",
    "    letter = 0\n",
    "    if x<16:\n",
    "        letter='G'\n",
    "    elif x>=16 and x<26:\n",
    "        letter='F'\n",
    "    elif x>=27 and x<38:\n",
    "        letter='T'\n",
    "    elif x>=38 and x<47:\n",
    "        letter='A'\n",
    "    elif x>=47 and x<53:\n",
    "        letter='E'\n",
    "    elif x>=53 and x<54:\n",
    "        letter='D'\n",
    "    elif x>=54 and x<116:\n",
    "        letter='C'\n",
    "    else:\n",
    "        letter='B'\n",
    "    return letter"
   ]
  },
  {
   "cell_type": "code",
   "execution_count": null,
   "metadata": {},
   "outputs": [],
   "source": [
    "# Apply the cabin function into each unknown cabins\n",
    "combined['CabinValue'] = combined.Fare.map(lambda x:cabin_grouping(x))\n",
    "combined.drop('Cabin', axis=1, inplace=True)\n",
    "\n",
    "combined.shape"
   ]
  },
  {
   "cell_type": "markdown",
   "metadata": {},
   "source": [
    "### Fare feature\n",
    "\n",
    "There is one null value."
   ]
  },
  {
   "cell_type": "code",
   "execution_count": null,
   "metadata": {},
   "outputs": [],
   "source": [
    "combined[combined.isnull().Fare]"
   ]
  },
  {
   "cell_type": "markdown",
   "metadata": {},
   "source": [
    "We can do a dirty method and just add in an average failure for the passenger type based on cabin, age, sex, etc."
   ]
  },
  {
   "cell_type": "code",
   "execution_count": null,
   "metadata": {},
   "outputs": [],
   "source": [
    "# Get attributes and index the values to get the mean\n",
    "missing_fare = round(combined[(combined.Pclass==3) & (combined.Embarked=='S') & (combined.Sex=='male')].Fare.mean(),2)\n",
    "print('Avg Fare for Pclass = 3, Embarked = S, Sex = M: ' + str(missing_fare))\n",
    "\n",
    "# Replace null fare\n",
    "combined.Fare.fillna(missing_fare, inplace=True)"
   ]
  },
  {
   "cell_type": "markdown",
   "metadata": {},
   "source": [
    "### Fare - jitter"
   ]
  },
  {
   "cell_type": "code",
   "execution_count": null,
   "metadata": {
    "scrolled": true
   },
   "outputs": [],
   "source": [
    "# Create figure space\n",
    "fig, ax = plt.subplots(figsize=(12,4), nrows=1, ncols=2)\n",
    "\n",
    "ax1 = sns.stripplot(x=\"Survived\",\n",
    "                    y=\"Fare\",\n",
    "                    data=combined,\n",
    "                    jitter=True,\n",
    "                    ax=ax[0])\n",
    "\n",
    "ax2 = sns.stripplot(x=\"Pclass\",\n",
    "                    y=\"Fare\",\n",
    "                    data=combined,\n",
    "                    jitter=True,\n",
    "                    ax=ax[1])\n",
    "\n",
    "# Set figure features\n",
    "ax1.set_title('Fare Distribution vs. Survived')\n",
    "ax2.set_title('Fare Distribution vs. Pclass')"
   ]
  },
  {
   "cell_type": "markdown",
   "metadata": {},
   "source": [
    "Looks like there are a few fare outliers that can skew the data. We will most likely standardized the entire dataset before modeling."
   ]
  },
  {
   "cell_type": "code",
   "execution_count": null,
   "metadata": {},
   "outputs": [],
   "source": [
    "# This will take awhile to load up if the dataset is large\n",
    "sns.pairplot(combined) # ggpairs() in R"
   ]
  },
  {
   "cell_type": "code",
   "execution_count": null,
   "metadata": {},
   "outputs": [],
   "source": [
    "# A boxplot would be able to see where the quartiles end\n",
    "fig = plt.figure(figsize=(12,10))\n",
    "\n",
    "# Create boxplot\n",
    "ax = sns.boxplot(x='Survived',\n",
    "                 y='Fare',\n",
    "                 hue='Survived',\n",
    "                 data=combined)\n",
    "\n",
    "# Set figure features\n",
    "ax.set_title('Survived vs. Fare BoxPlot')"
   ]
  },
  {
   "cell_type": "markdown",
   "metadata": {},
   "source": [
    "The mean is higher when the fare is higher in survival rates. There could be information on whether a higher fare price may affect the chance of survival especially with special titles."
   ]
  },
  {
   "cell_type": "markdown",
   "metadata": {},
   "source": [
    "### Create a density plot for Fare & Survived"
   ]
  },
  {
   "cell_type": "code",
   "execution_count": null,
   "metadata": {},
   "outputs": [],
   "source": [
    "# Create a figure space, only need 1 we will overlap the densities\n",
    "fig = plt.figure(figsize=(15,10))\n",
    "\n",
    "# Create the density plots\n",
    "ax = sns.kdeplot(combined.loc[(combined.Survived==0), 'Fare'],\n",
    "#                  combined.Fare[combined.Survived==0],\n",
    "                 color='gray',\n",
    "                 shade=True,\n",
    "                 label='Did not Survive'\n",
    "                )\n",
    "\n",
    "ax = sns.kdeplot(combined.loc[(combined.Survived==1), 'Fare'],\n",
    "                 color='g',\n",
    "                 shade=True,\n",
    "                 label='Survived')\n",
    "\n",
    "# Set plot features\n",
    "plt.title('Fare Survival Distribution', fontsize=15)\n",
    "plt.xlabel('Survival Freq', fontsize=15)\n",
    "plt.ylabel('Fare', fontsize=15)"
   ]
  },
  {
   "cell_type": "markdown",
   "metadata": {},
   "source": [
    "The plot also shows a similar spike like the lower class survival rate where the gray area is way above the shaded green region.\n",
    "\n",
    "Looking proportionally, if you paid a good amount compared to the mean/median rate, you had a better chance of surviving.\n",
    "\n",
    "7/9 people survived when the fare was 250.01 and above. After looking at these 9 people, the Fortune family may have held high socio-economic status as they were all in this fare range. The males died unfortunately, either saving their sisters or was just in the wrong area at the wrong time. "
   ]
  },
  {
   "cell_type": "code",
   "execution_count": null,
   "metadata": {
    "scrolled": true
   },
   "outputs": [],
   "source": [
    "# Get fare outliers\n",
    "combined[combined.Fare>300]"
   ]
  },
  {
   "cell_type": "markdown",
   "metadata": {},
   "source": [
    "### Plot without Fares < 150\n",
    "\n",
    "This will help us see the distribution better."
   ]
  },
  {
   "cell_type": "code",
   "execution_count": null,
   "metadata": {},
   "outputs": [],
   "source": [
    "# Create figure space\n",
    "fig = plt.figure(figsize=(15,10))\n",
    "\n",
    "# Create kdeplots\n",
    "ax = sns.kdeplot(combined.loc[((combined.Survived==0) & (combined.Fare<150)), 'Fare'],\n",
    "                 color='gray',\n",
    "                 shade=True,\n",
    "                 label='Did not Survive'\n",
    "                )\n",
    "\n",
    "# Be sure to put parentheses; loc(row values, column name)\n",
    "ax = sns.kdeplot(combined.loc[((combined.Survived==1) & (combined.Fare<150)), 'Fare'],\n",
    "                 color='g',\n",
    "                 shade=True,\n",
    "                 label='Survived'\n",
    "                )\n",
    "\n",
    "# Set plot features\n",
    "plt.title('Fare < 150 - Survival Distribution', fontsize=15)\n",
    "plt.xlabel('Fare', fontsize=15)\n",
    "plt.ylabel('ylabel', fontsize=15)"
   ]
  },
  {
   "cell_type": "markdown",
   "metadata": {},
   "source": [
    "### Age Feature\n",
    "\n",
    "Our final feature that has NA values besides Survived (test data). Let's see how many there are."
   ]
  },
  {
   "cell_type": "code",
   "execution_count": null,
   "metadata": {},
   "outputs": [],
   "source": [
    "# Print out the missing values\n",
    "print('Missing values in the age feature: ' + str(round(combined.Age.isnull().sum()/len(combined)*100,1)) + str('%'))"
   ]
  },
  {
   "cell_type": "markdown",
   "metadata": {},
   "source": [
    "Replacing it with a summary statistics may not be useful because age could determine the survival rate. Kids and older people have higher chance of survival. We could attempt to use an algorithm to see if we can model something for this feature instead. First let's plot some graphs to see how the distribution looks like for age.\n",
    "\n",
    "Create multiple boxplots for Age."
   ]
  },
  {
   "cell_type": "code",
   "execution_count": null,
   "metadata": {},
   "outputs": [],
   "source": [
    "fig, ax = plt.subplots(figsize=(18,5), ncols=3, nrows=1)\n",
    "\n",
    "# Create plots\n",
    "ax1 = sns.boxplot(x='Sex', y='Age', hue='Survived', data=combined, ax=ax[0])\n",
    "ax2 = sns.boxplot(x='Pclass', y='Age', hue='Survived', data=combined, ax=ax[1])\n",
    "ax3 = sns.boxplot(x='CabinValue', y='Age', hue='Survived', data=combined, ax=ax[2])\n",
    "\n",
    "# Set plot features\n",
    "ax1.set_title('Sex vs. Age for Survival Rate', fontsize=10)\n",
    "ax2.set_title('Pclass vs. Age for Survival Rate', fontsize=10)\n",
    "ax3.set_title('Cabin vs. Age for Survival Rate', fontsize=10)"
   ]
  },
  {
   "cell_type": "markdown",
   "metadata": {},
   "source": [
    "Based on these three plots and some inferences made from my previous work on this dataset...\n",
    "\n",
    "These following groups have a higher survival rate than normal:\n",
    "- Female\n",
    "- Kids\n",
    "- Older Adults\n",
    "- Higher socioeconomic status people (high fares, good cabins, pclass, etc.)\n",
    "- More to come such as titles, family size, child groups"
   ]
  },
  {
   "cell_type": "code",
   "execution_count": null,
   "metadata": {},
   "outputs": [],
   "source": [
    "fig, ax = plt.subplots(figsize=(18,5), ncols=3, nrows=1)\n",
    "\n",
    "# Check NA: combined.Age[combined.Age.notnull() & combined.Survived==1].isnull().sum()\n",
    "ax1 = sns.kdeplot(combined.Age[(combined.Age.notnull()) & (combined.Survived==0)],\n",
    "                  color='gray',\n",
    "                  shade=True,\n",
    "                  label='Not Survived',\n",
    "                  ax=ax[0])\n",
    "\n",
    "ax1 = sns.kdeplot(combined.Age[(combined.Age.notnull()) & (combined.Survived==1)],\n",
    "                  color='g',\n",
    "                  shade=True,\n",
    "                  label='Survived',\n",
    "                  ax=ax[0])\n",
    "\n",
    "ax2 = sns.kdeplot(combined.Fare[(combined.Survived==0)],\n",
    "                  color='gray',\n",
    "                  shade=True,\n",
    "                  label='Not Survived',\n",
    "                  ax=ax[1])\n",
    "\n",
    "ax2 = sns.kdeplot(combined.Fare[(combined.Survived==1)],\n",
    "                  color='g',\n",
    "                  shade=True,\n",
    "                  label='Survived',\n",
    "                  ax=ax[1])\n",
    "\n",
    "ax3 = sns.kdeplot(combined.Pclass[(combined.Survived==0)],\n",
    "                  color='gray',\n",
    "                  shade=True,\n",
    "                  label='Not Survived',\n",
    "                  ax=ax[2])\n",
    "\n",
    "ax3 = sns.kdeplot(combined.Pclass[(combined.Survived==1)],\n",
    "                  color='g',\n",
    "                  shade=True,\n",
    "                  label='Survived',\n",
    "                  ax=ax[2])\n",
    "\n",
    "# Set plot features (axes has to use .set_xlabel() instead of plt.xlabel())\n",
    "ax1.set_title('Age Density Plot - Survival Distribution', fontsize=12)\n",
    "ax1.set_xlabel('Age', fontsize=12)\n",
    "ax1.set_ylabel('Survival Frequency', fontsize=12)\n",
    "\n",
    "ax2.set_title('Fare Density Plot - Survival Distribution', fontsize=12)\n",
    "ax2.set_xlabel('Fare', fontsize=12)\n",
    "ax2.set_ylabel('Survival Frequency', fontsize=12)\n",
    "\n",
    "ax3.set_title('Pclass Density Plot - Survival Distribution', fontsize=12)\n",
    "ax3.set_xlabel('Pclass', fontsize=12)\n",
    "ax3.set_ylabel('Survival Frequency', fontsize=12)"
   ]
  },
  {
   "cell_type": "markdown",
   "metadata": {},
   "source": [
    "It looks like almost no age group besides children and infants survived more than death. We can assume that this group was a priority to get to safety and can also fit more into a lifeboat due to their size. \n",
    "\n",
    "Try to get the NA values out below. Fixed with parentheses. Was not getting the data before.\n",
    "\n",
    "combined.Age[(combined.Age.notnull()) & (combined.Survived==0)].isnull().sum()"
   ]
  },
  {
   "cell_type": "markdown",
   "metadata": {},
   "source": [
    "### Faceted histogram plots by Sex and Age\n",
    "\n",
    "The idea of faceted plots is to visualize multiple variables and relationships at the same time. \n",
    "\n",
    "Create faceted barplots with the sex and age Features. In R, this could be done by using ggplot() and facet_grid(~Var) or in python with sns.FacetGrid() "
   ]
  },
  {
   "cell_type": "code",
   "execution_count": null,
   "metadata": {},
   "outputs": [],
   "source": [
    "# Get colors for palette\n",
    "colors = {1: 'seagreen', 0: 'gray'}\n",
    "\n",
    "# Create facet grid\n",
    "ax = sns.FacetGrid(combined,\n",
    "                   col='Sex',\n",
    "                   row='Survived',\n",
    "                   margin_titles=True,\n",
    "                   hue='Survived',\n",
    "                   palette=colors)\n",
    "\n",
    "# Create plot using map()\n",
    "ax = ax.map(plt.hist, 'Age', edgecolor='w')\n",
    "\n",
    "# Set plot features\n",
    "ax.fig.suptitle('Survival Rate by Sex & Age', size=15)\n",
    "plt.subplots_adjust(top=0.90)"
   ]
  },
  {
   "cell_type": "markdown",
   "metadata": {},
   "source": [
    "### Sex feature\n",
    "\n",
    "I believe this feature without any feature engineering would be the best feature to determine survival rate since it looks like females have a higher rate in general."
   ]
  },
  {
   "cell_type": "code",
   "execution_count": null,
   "metadata": {},
   "outputs": [],
   "source": [
    "# Set figure space\n",
    "fig = plt.figure(figsize=(12,6))\n",
    "\n",
    "# Create facet plot\n",
    "ax = sns.FacetGrid(combined,\n",
    "                   col='Sex',\n",
    "                   row='Survived',\n",
    "                   margin_titles=True)\n",
    "\n",
    "# Create plot and plot features\n",
    "ax.map(plt.hist, 'Age', color='blue')\n",
    "ax.map(sns.kdeplot, 'Age', color='gray', shade=False)"
   ]
  },
  {
   "cell_type": "markdown",
   "metadata": {},
   "source": [
    "As expected, males have a higher death rate just by looking at the top graphs. But just to be sure that it's not confirmation bias, continue to see different views of the data."
   ]
  },
  {
   "cell_type": "code",
   "execution_count": null,
   "metadata": {},
   "outputs": [],
   "source": [
    "# Set figure space\n",
    "# fig = plt.subplots(figsize=(12,8))\n",
    "\n",
    "# Set facet grid\n",
    "ax = sns.FacetGrid(combined,\n",
    "                   col='Sex',\n",
    "                   hue='Survived',\n",
    "                   margin_titles=True,\n",
    "                   palette='Set1',\n",
    "                   hue_kws=dict(marker=[\"^\", \"v\"]))\n",
    "\n",
    "# Create plots\n",
    "ax.map(plt.scatter, 'Fare', 'Age', edgecolor='w').add_legend()\n",
    "plt.subplots_adjust(top=0.80)\n",
    "ax.fig.suptitle('Gender & Age - Survival Distribution')"
   ]
  },
  {
   "cell_type": "markdown",
   "metadata": {},
   "source": [
    "Those fare outliers have been a couple together. Earlier the boxplots would show the points but we can safely assume so unless they were family."
   ]
  },
  {
   "cell_type": "code",
   "execution_count": null,
   "metadata": {},
   "outputs": [],
   "source": [
    "# Create a gender/survival frequency distribution table\n",
    "sex_survived = pd.crosstab(index=combined['Survived'],\n",
    "                           columns=combined['Sex'],\n",
    "                           margins=True)\n",
    "\n",
    "sex_survived.index = ['Did not Survive', 'Survived', 'ColTotal']\n",
    "sex_survived.columns = ['F', 'M', 'RowTotal']\n",
    "\n",
    "# Distribution for total\n",
    "print(round(sex_survived/sex_survived.loc['ColTotal', 'RowTotal']*100,1))\n",
    "\n",
    "# Distribution for gender\n",
    "round(sex_survived/sex_survived.loc['ColTotal']*100,1)"
   ]
  },
  {
   "cell_type": "markdown",
   "metadata": {},
   "source": [
    "(Survived - Females) is the the second highest combination of the two features right after (Did not Survive - Males). There is also an inverse relation to the proportion as well as most females survived but most males did not survive. Most males died but most females survived."
   ]
  },
  {
   "cell_type": "markdown",
   "metadata": {},
   "source": [
    "### Sex Bar Plot"
   ]
  },
  {
   "cell_type": "code",
   "execution_count": null,
   "metadata": {},
   "outputs": [],
   "source": [
    "# Using the function created earlier, create a quick visual\n",
    "freq_table(combined.Sex)"
   ]
  },
  {
   "cell_type": "code",
   "execution_count": null,
   "metadata": {
    "scrolled": false
   },
   "outputs": [],
   "source": [
    "# Let's break it down\n",
    "colors = {1: 'seagreen', 0: 'gray'}\n",
    "\n",
    "# Set plot style using sns.set()\n",
    "sns.set(style='darkgrid')\n",
    "\n",
    "# Create figure space\n",
    "plt.subplots(figsize=(12,8))\n",
    "\n",
    "# Create countplot(); does not need a y variable since it's counting\n",
    "ax = sns.countplot(x='Sex',\n",
    "                   hue='Survived',\n",
    "                   data=combined,\n",
    "                   linewidth=2,\n",
    "                   palette=colors)\n",
    "\n",
    "# Set plot features (plt.title vs. ax.set_title)\n",
    "ax.set_title('Passenger Gender Distribution')\n",
    "ax.set_xlabel('Sex', fontsize=15)\n",
    "ax.set_ylabel('Frequency', fontsize=15)\n",
    "\n",
    "# Add legend and rename text\n",
    "ax_legend = ax.get_legend()\n",
    "ax_legend.set_title('Survived')\n",
    "ax_legend_text = ax_legend.texts\n",
    "ax_legend_text[0].set_text('Nooo fungi')\n",
    "ax_legend_text[1].set_text('Yes')\n",
    "\n",
    "# Show\n",
    "plt.show()"
   ]
  },
  {
   "cell_type": "markdown",
   "metadata": {},
   "source": [
    "Again, as you can see from the plot above, females have a higher survival rate vs non-survival rate. If you're a female, your chances are going to be a lot higher than the males. Hopefully the model will catch this when we start using the features and plot variable importance"
   ]
  },
  {
   "cell_type": "markdown",
   "metadata": {},
   "source": [
    "### Create a faceted plot with Embarked & Sex\n",
    "\n",
    "https://seaborn.pydata.org/generated/seaborn.FacetGrid.html"
   ]
  },
  {
   "cell_type": "code",
   "execution_count": null,
   "metadata": {},
   "outputs": [],
   "source": [
    "# Set colors\n",
    "colors = {1: 'lightblue', 0: 'gray'}\n",
    "\n",
    "# Create facet grid\n",
    "ax = sns.FacetGrid(combined,\n",
    "                   col='Sex',\n",
    "                   row='Embarked',\n",
    "                   height=5, \n",
    "                   margin_titles=True,\n",
    "                   hue='Survived',\n",
    "                   palette=colors)\n",
    "\n",
    "# Use map() on the facet grid\n",
    "ax = ax.map(plt.hist, 'Age', edgecolor='w')\n",
    "ax_legend = ax.add_legend()\n",
    "ax.set_titles(\"{col_name} Test\")\n",
    "\n",
    "# Set plot features\n",
    "ax.fig.suptitle('Survival Rate Relation Between Sex & Age by Embarked', size=15)\n",
    "\n",
    "# Move title\n",
    "plt.subplots_adjust(top=0.90)"
   ]
  },
  {
   "cell_type": "markdown",
   "metadata": {},
   "source": [
    "Another illustration between embarked locations with gender facets. Like we saw previously, females have a higher survival rate and it definitely shows here per location.\n",
    "\n",
    "With that being said, what else can we see from these charts?\n",
    "- We can also see that the location 'S' which is Southampton has majority of the passengers with the least being Queenstown (Q). \n",
    "- Unless we zoom into the chart for Queenstown, it looks like there were no male survivors.\n",
    "- Cherbourg (C) has a high survival rate distribution according to the plot. "
   ]
  },
  {
   "cell_type": "markdown",
   "metadata": {},
   "source": [
    "### Scatterplot for Sex, Age & Fare\n",
    "\n",
    "Let's use plt.scatter() to see individual points."
   ]
  },
  {
   "cell_type": "code",
   "execution_count": null,
   "metadata": {},
   "outputs": [],
   "source": [
    "# Create a figure\n",
    "fig = plt.figure(figsize=(15,10))\n",
    "\n",
    "# Create facet grid\n",
    "ax = sns.FacetGrid(combined,\n",
    "                   col='Sex',\n",
    "                   hue='Survived',\n",
    "                   margin_titles=True,\n",
    "                   palette=colors,\n",
    "                   height=5) # insert arg value for sizes\n",
    "\n",
    "# Create scatter\n",
    "ax.map(plt.scatter, 'Fare', 'Age', edgecolor='w', s=100)\n",
    "\n",
    "# Add a legend\n",
    "ax.add_legend()\n",
    "\n",
    "# Set plot features\n",
    "ax.fig.suptitle('Survival Rate by Sex, Age & Fare', size=25)\n",
    "plt.subplots_adjust(top=0.85)"
   ]
  },
  {
   "cell_type": "markdown",
   "metadata": {},
   "source": [
    "Outliers could be seen with the points that are above 500. We can either plot without them to see the distribution better.\n",
    "\n",
    "##### Some Steps to follow\n",
    "1. Create figure space\n",
    "2. Create facetGrid()\n",
    "3. Create plot by plt.plot or snsplot()\n",
    "4. Set titles, legends, etc.\n",
    "    - Get familiar with the parameters\n",
    "5. Show plot"
   ]
  },
  {
   "cell_type": "markdown",
   "metadata": {},
   "source": [
    "### Pclass feature\n",
    "\n",
    "An assumption would be that higher class passengers would have higher survival rates than lower classed passengers.\n",
    "\n",
    "We can order and set colors for the bar plot as well. It's already ordered so we don't need to but if if there was a specific order then use the order parameter in sns.barplot(order=['',''])"
   ]
  },
  {
   "cell_type": "code",
   "execution_count": null,
   "metadata": {
    "scrolled": false
   },
   "outputs": [],
   "source": [
    "# Create figure space\n",
    "plt.subplots(figsize=(15,10)) # plt.figure()\n",
    "\n",
    "# Create colors\n",
    "p_colors = {1: 'seagreen', 2: 'lightblue', 3: 'orange'}\n",
    "\n",
    "# Create a bar plot\n",
    "ax = sns.barplot(x='Pclass',\n",
    "                 y='Survived',\n",
    "                 hue='Sex',\n",
    "                 data=combined,\n",
    "#                  palette='Blues_d',\n",
    "                 linewidth=2)\n",
    "#                  order=['','','']\n",
    "\n",
    "# Set plot features\n",
    "ax.set_title('Gender-Class Distribution', fontsize=15)\n",
    "ax.set_xlabel('Socio-Economic Class', fontsize=15)\n",
    "ax.set_ylabel('Survival Rate', fontsize=15)\n",
    "\n",
    "# Set xlabel values\n",
    "labels = ['Upper', 'Middle', 'Lower']\n",
    "val = [0,1,2]\n",
    "plt.xticks(val, labels)"
   ]
  },
  {
   "cell_type": "markdown",
   "metadata": {},
   "source": [
    "Using catplot() is safer than using FacetGrid() directly, as it ensure synchronization of variable order across facets"
   ]
  },
  {
   "cell_type": "code",
   "execution_count": null,
   "metadata": {},
   "outputs": [],
   "source": [
    "# Another type of plot\n",
    "ax = sns.catplot(x='Pclass',\n",
    "                 y='Survived',\n",
    "                 col='Sex',\n",
    "                 data=combined,\n",
    "                 kind='bar',\n",
    "                 height=4,\n",
    "                 aspect=0.75)"
   ]
  },
  {
   "cell_type": "markdown",
   "metadata": {},
   "source": [
    "The plot above indicates that if you are a female within Pclass of 1 or 2, the chance of survival is way above 80%. If you are in Pclass & a female, the chances of survival skyrockets close to 100%. Let's see this in a table if the plot is correct."
   ]
  },
  {
   "cell_type": "code",
   "execution_count": null,
   "metadata": {},
   "outputs": [],
   "source": [
    "pclass_sex_survived = pd.crosstab(index=combined.Survived,\n",
    "                                  columns=[combined.Pclass, combined.Sex],\n",
    "                                  margins=True)\n",
    "\n",
    "pclass_sex_survived.index = ['Did not Survive', 'Survived', 'ColTotal']\n",
    "\n",
    "round(pclass_sex_survived/pclass_sex_survived.loc['ColTotal']*100,1)"
   ]
  },
  {
   "cell_type": "markdown",
   "metadata": {},
   "source": [
    "- 96.8% and 92.1% survival rates within that group.\n",
    "- Highest death rate would be males in Pclass of 3 then Pclass of 2.\n",
    "\n",
    "So another assumption would be that if you were a female in a high socio-economic status based on Pclass then your survival rate goes way up."
   ]
  },
  {
   "cell_type": "markdown",
   "metadata": {},
   "source": [
    "### Create a kernel density plot by Pclass & Sex\n",
    "\n",
    "Parameters to use: data, color, shade, label"
   ]
  },
  {
   "cell_type": "code",
   "execution_count": null,
   "metadata": {},
   "outputs": [],
   "source": [
    "# Create a figure space\n",
    "fig = plt.figure(figsize=(15,10))\n",
    "\n",
    "# Create 2 kdeplots (one of each Survived group)\n",
    "ax1 = sns.kdeplot(combined.Pclass[combined.Survived==0],\n",
    "                  color='gray',\n",
    "                  shade=True,\n",
    "                  label='Did not Survive')\n",
    "\n",
    "ax1 = sns.kdeplot(combined.Pclass[combined.Survived==1],\n",
    "                  color='g',\n",
    "                  shade=True,\n",
    "                  label='Survived')\n",
    "\n",
    "# Set plot features\n",
    "ax1.set_title('Pclass Density Plot - Survival Distribution', fontsize=15)\n",
    "ax1.set_xlabel('Passenger Class', fontsize=12)\n",
    "ax1.set_ylabel('Survival Freq', fontsize=15)\n",
    "\n",
    "# Set xtick labels\n",
    "labels = ['Upper', 'Middle', 'Lower']\n",
    "# plt.xticks(sorted(combined.Pclass.unique()), labels)\n",
    "plt.xticks([1,2,3], labels)"
   ]
  },
  {
   "cell_type": "markdown",
   "metadata": {},
   "source": [
    "Take a look at this and check out the difference between the top of the gray density shading vs the green shading. The difference is much higher in the Lower class vs. the Upper where it is actually negative or positive depending on how you see the graph."
   ]
  },
  {
   "cell_type": "markdown",
   "metadata": {},
   "source": [
    "### Parch feature\n",
    "\n",
    "A larg parch size could mean no survival or less survival due to the fact that no one wants to be left behind. When members are within a vicinity or not, search can continue vs someone who may be alone or have just one person that they are alongside at most time so hopefully the escape process is a lot faster and more efficient. "
   ]
  },
  {
   "cell_type": "markdown",
   "metadata": {},
   "source": [
    "### Create a factor plot for Parch\n",
    "The new catplot function provides a new framework giving access to several types of plots that show relationship between numerical variable and one or more categorical variables.\n",
    "\n",
    "_________________________________ \n",
    "\n",
    "#### Notes - Tutorials\n",
    "\n",
    "https://seaborn.pydata.org/generated/seaborn.catplot.html\n",
    "\n",
    "https://cmdlinetips.com/2019/03/catplot-in-seaborn-python/\n",
    "\n",
    "- kind parameter argument values: point, bar, violin, box, boxen\n",
    "- jitter parameter: numerical value ('0.25')"
   ]
  },
  {
   "cell_type": "code",
   "execution_count": null,
   "metadata": {
    "scrolled": false
   },
   "outputs": [],
   "source": [
    "# Plot without high fare outliers\n",
    "sns.catplot(x='Parch',\n",
    "            y='Survived',\n",
    "            data=combined[(combined.Fare<500) & combined.Survived.notnull()],\n",
    "            kind='point',\n",
    "            height=6) \n",
    "\n",
    "# Set plot features\n",
    "plt.title('Parents/Children - Survival Rate', fontsize=20)\n",
    "plt.subplots_adjust(top=0.85)"
   ]
  },
  {
   "cell_type": "code",
   "execution_count": null,
   "metadata": {},
   "outputs": [],
   "source": [
    "# Plot without high fare outliers\n",
    "sns.catplot(x='Parch',\n",
    "            y='Survived',\n",
    "            data=combined[(combined.Fare<500) & combined.Survived.notnull()],\n",
    "            kind='bar',\n",
    "            height=6) \n",
    "\n",
    "# Set plot features\n",
    "plt.title('Parents/Children - Survival Rate', fontsize=20)\n",
    "plt.subplots_adjust(top=0.85)"
   ]
  },
  {
   "cell_type": "markdown",
   "metadata": {},
   "source": [
    "### Create a factor plot for SibSP"
   ]
  },
  {
   "cell_type": "code",
   "execution_count": null,
   "metadata": {},
   "outputs": [],
   "source": [
    "sns.catplot(x='SibSp',\n",
    "            y='Survived',\n",
    "            data=combined[(combined.Fare<500) & combined.Survived.notnull()],\n",
    "            kind='point',\n",
    "            height=6)\n",
    "\n",
    "# Set plot features\n",
    "plt.title('Sibling - Survival Rate', fontsize=20)\n",
    "plt.subplots_adjust(top=0.85)"
   ]
  },
  {
   "cell_type": "code",
   "execution_count": null,
   "metadata": {},
   "outputs": [],
   "source": [
    "sns.catplot(x='SibSp',\n",
    "            y='Survived',\n",
    "            data=combined[(combined.Fare<500) & combined.Survived.notnull()],\n",
    "            kind='bar',\n",
    "            height=6) \n",
    "\n",
    "# Set plot features\n",
    "plt.title('Sibling - Survival Rate', fontsize=20)\n",
    "plt.subplots_adjust(top=0.85)"
   ]
  },
  {
   "cell_type": "code",
   "execution_count": null,
   "metadata": {},
   "outputs": [],
   "source": [
    "sns.catplot(x='SibSp',\n",
    "            y='Survived',\n",
    "            data=combined[(combined.Fare<500) & combined.Survived.notnull()],\n",
    "            kind='boxen',\n",
    "            height=6) \n",
    "\n",
    "# Set plot features\n",
    "plt.title('Sibling - Survival Rate', fontsize=20)\n",
    "plt.subplots_adjust(top=0.85)"
   ]
  },
  {
   "cell_type": "code",
   "execution_count": null,
   "metadata": {},
   "outputs": [],
   "source": []
  }
 ],
 "metadata": {
  "kernelspec": {
   "display_name": "Python 3",
   "language": "python",
   "name": "python3"
  },
  "language_info": {
   "codemirror_mode": {
    "name": "ipython",
    "version": 3
   },
   "file_extension": ".py",
   "mimetype": "text/x-python",
   "name": "python",
   "nbconvert_exporter": "python",
   "pygments_lexer": "ipython3",
   "version": "3.7.3"
  }
 },
 "nbformat": 4,
 "nbformat_minor": 2
}
