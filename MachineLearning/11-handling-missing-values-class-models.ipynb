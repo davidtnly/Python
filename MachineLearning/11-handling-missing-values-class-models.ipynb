{
 "cells": [
  {
   "cell_type": "markdown",
   "metadata": {},
   "source": [
    "# Introduction\n",
    "\n",
    "Familiarizing myself with methods to handle missing data with Python then build a binary classification model to predict which patient has diabetes.\n",
    "\n",
    "Goal here is to review methods in the preprocessing/cleaning data and review classification models.\n",
    "\n",
    "*_Note: Codes may also come from other sources for practice/workflow. Informational links have been added at the bottom of the notebook._"
   ]
  },
  {
   "cell_type": "markdown",
   "metadata": {},
   "source": [
    "## What else do I hope to achieve from this?\n",
    "\n",
    "Develop a stronger understanding in data cleaning, understand why data is missing in the first place, and review methods on how to handle missing values. Also, since I'm going to be attempting some medical deep learning problems in the future, I could get a tiny idea on how to better work with medical data.\n",
    "\n",
    "Answer some of these questions below:\n",
    "- What kind of method is better to use to fill missing values?\n",
    "- Is one method better than another?\n",
    "- What are the risks in our methods?\n",
    "- If predicting, does filling missing values help our models?"
   ]
  },
  {
   "cell_type": "markdown",
   "metadata": {},
   "source": [
    "### Data\n",
    "\n",
    "The data we will be using is the Pima Indians Diabetes dataset (introductory level). This dataset was originally from the National Institute of Diabetes and Digestive and Kidney Diseases. It was also presented as a Kaggle problem where the objective was to predict the onset of diabetes whether a patient has diabetes or not based on certain diagnostic measurements.\n",
    "\n",
    "There are several constraints that we should know when dealing with the data. All patients here are females at least 21 years old of Pima Indian heritage.\n",
    "\n",
    "__Shape__\n",
    "- 768 women and 8 characteristics\n",
    "\n",
    "__Features__\n",
    "- Pregnancies: Number of times pregnant\n",
    "- Glucose: Plasma glucose concentration a 2 hours in an oral glucose tolerance test\n",
    "- BloodPressure: Diastolic blood pressure (mm Hg)\n",
    "- SkinThickness: Triceps skin fold thickness (mm)\n",
    "- Insulin: 2-Hour serum insulin (mu U/ml)\n",
    "- BMI: Body mass index (weight in kg/(height in m)^2)\n",
    "- DiabetesPedigreeFunction: Diabetes pedigree function\n",
    "- Age: Age (years)\n",
    "- Outcome: Class variable (0 or 1)\n",
    "    - Our dependent variable (target)\n",
    "\n",
    "__Additional Notes__\n",
    "- Some values are not within the specified range where they are supposed to be so they can be treated as missing values"
   ]
  },
  {
   "cell_type": "code",
   "execution_count": null,
   "metadata": {},
   "outputs": [],
   "source": []
  },
  {
   "cell_type": "code",
   "execution_count": null,
   "metadata": {},
   "outputs": [],
   "source": []
  },
  {
   "cell_type": "code",
   "execution_count": null,
   "metadata": {},
   "outputs": [],
   "source": []
  },
  {
   "cell_type": "code",
   "execution_count": null,
   "metadata": {},
   "outputs": [],
   "source": []
  },
  {
   "cell_type": "code",
   "execution_count": null,
   "metadata": {},
   "outputs": [],
   "source": []
  },
  {
   "cell_type": "code",
   "execution_count": null,
   "metadata": {},
   "outputs": [],
   "source": []
  },
  {
   "cell_type": "code",
   "execution_count": null,
   "metadata": {},
   "outputs": [],
   "source": []
  },
  {
   "cell_type": "code",
   "execution_count": null,
   "metadata": {},
   "outputs": [],
   "source": []
  },
  {
   "cell_type": "code",
   "execution_count": null,
   "metadata": {},
   "outputs": [],
   "source": []
  },
  {
   "cell_type": "code",
   "execution_count": null,
   "metadata": {},
   "outputs": [],
   "source": []
  },
  {
   "cell_type": "code",
   "execution_count": null,
   "metadata": {},
   "outputs": [],
   "source": []
  },
  {
   "cell_type": "code",
   "execution_count": null,
   "metadata": {},
   "outputs": [],
   "source": []
  },
  {
   "cell_type": "code",
   "execution_count": null,
   "metadata": {},
   "outputs": [],
   "source": []
  },
  {
   "cell_type": "code",
   "execution_count": null,
   "metadata": {},
   "outputs": [],
   "source": []
  },
  {
   "cell_type": "code",
   "execution_count": null,
   "metadata": {},
   "outputs": [],
   "source": []
  },
  {
   "cell_type": "markdown",
   "metadata": {},
   "source": [
    "### Informational links\n",
    "\n",
    "- [Types of missing data](https://stats.stackexchange.com/questions/391602/how-to-handle-missing-data-in-machine-learning)\n",
    "- [How to handle missing data in ML](https://dev.acquia.com/blog/how-to-handle-missing-data-in-machine-learning-5-techniques/09/07/2018/19651)\n",
    "- [Handle missing data with python](https://machinelearningmastery.com/handle-missing-data-python/)\n",
    "- [Ways to handle missing values](https://www.analyticsindiamag.com/5-ways-handle-missing-values-machine-learning-datasets/)\n",
    "- [Working with missing data](https://towardsdatascience.com/working-with-missing-data-in-machine-learning-9c0a430df4ce)\n",
    "- [Blind spots](https://www.mailgun.com/blog/avoiding-the-blind-spots-of-missing-data-with-machine-learning)"
   ]
  }
 ],
 "metadata": {
  "kernelspec": {
   "display_name": "Python 3",
   "language": "python",
   "name": "python3"
  },
  "language_info": {
   "codemirror_mode": {
    "name": "ipython",
    "version": 3
   },
   "file_extension": ".py",
   "mimetype": "text/x-python",
   "name": "python",
   "nbconvert_exporter": "python",
   "pygments_lexer": "ipython3",
   "version": "3.7.3"
  }
 },
 "nbformat": 4,
 "nbformat_minor": 2
}
